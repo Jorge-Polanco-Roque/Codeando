{
 "cells": [
  {
   "cell_type": "markdown",
   "metadata": {},
   "source": [
    "# Credit Scoring Assignment"
   ]
  },
  {
   "cell_type": "markdown",
   "metadata": {},
   "source": [
    "Coded by: **Jorge Polanco**"
   ]
  },
  {
   "cell_type": "code",
   "execution_count": 1,
   "metadata": {},
   "outputs": [],
   "source": [
    "# Importing libraries\n",
    "from sklearn.model_selection import train_test_split\n",
    "from sklearn.linear_model import LogisticRegression\n",
    "from imblearn.over_sampling import RandomOverSampler\n",
    "from sklearn.metrics import average_precision_score\n",
    "from sklearn.model_selection import cross_val_score\n",
    "from imblearn.over_sampling import SMOTE, ADASYN\n",
    "from sklearn.preprocessing import StandardScaler\n",
    "from sklearn.tree import DecisionTreeClassifier\n",
    "from sklearn.metrics import roc_auc_score\n",
    "from sklearn.metrics import roc_curve\n",
    "from collections import Counter\n",
    "import matplotlib.pyplot as plt\n",
    "import seaborn as sns\n",
    "import pandas as pd\n",
    "import numpy as np"
   ]
  },
  {
   "cell_type": "code",
   "execution_count": 2,
   "metadata": {},
   "outputs": [],
   "source": [
    "#conda install -c glemaitre imbalanced-learn"
   ]
  },
  {
   "cell_type": "code",
   "execution_count": 3,
   "metadata": {},
   "outputs": [],
   "source": [
    "# Importing the input tables\n",
    "path = \"C:/Users/jpolancoroque/Desktop/IESEG/02. Second Semester/Credit Scoring\"\n",
    "accepts = pd.read_excel(path+'/ACCEPTS.xlsx')\n",
    "rejects = pd.read_excel(path+'/REJECTS.xlsx')"
   ]
  },
  {
   "cell_type": "code",
   "execution_count": 4,
   "metadata": {},
   "outputs": [],
   "source": [
    "X = accepts.iloc[:,:18]\n",
    "y = accepts['Default_45']\n",
    "#accepts.head()"
   ]
  },
  {
   "cell_type": "markdown",
   "metadata": {},
   "source": [
    "## 1) Data Engineering"
   ]
  },
  {
   "cell_type": "markdown",
   "metadata": {},
   "source": [
    "In this first section, we are exploring the data in order to asses the changes to be done to run the credit scoring model. As you are about to see, there are several aspects to clean before modeling:\n",
    "* **Fill NAs**: In this case, we are taking the medians as fillers for our NAs.\n",
    "* **Variable type**: We have to make sure that python is recognizing the variables as categories.\n",
    "* **Continous variables**: To run a WOE analysis, we have to transform every variable into categorical variable. Each case should take into consideration their particularities. In further lines, we will deeply discuss this matter."
   ]
  },
  {
   "cell_type": "markdown",
   "metadata": {},
   "source": [
    "**a) Accepts Database:**"
   ]
  },
  {
   "cell_type": "code",
   "execution_count": 5,
   "metadata": {},
   "outputs": [
    {
     "data": {
      "text/html": [
       "<div>\n",
       "<style scoped>\n",
       "    .dataframe tbody tr th:only-of-type {\n",
       "        vertical-align: middle;\n",
       "    }\n",
       "\n",
       "    .dataframe tbody tr th {\n",
       "        vertical-align: top;\n",
       "    }\n",
       "\n",
       "    .dataframe thead th {\n",
       "        text-align: right;\n",
       "    }\n",
       "</style>\n",
       "<table border=\"1\" class=\"dataframe\">\n",
       "  <thead>\n",
       "    <tr style=\"text-align: right;\">\n",
       "      <th></th>\n",
       "      <th>ID</th>\n",
       "      <th>V1</th>\n",
       "      <th>V2</th>\n",
       "      <th>V3</th>\n",
       "      <th>V4</th>\n",
       "      <th>V5</th>\n",
       "      <th>V6</th>\n",
       "      <th>V7</th>\n",
       "      <th>V8</th>\n",
       "      <th>Has_FICO</th>\n",
       "      <th>Business_channel</th>\n",
       "      <th>Days_late</th>\n",
       "      <th>FICO_Score</th>\n",
       "      <th>Loan_amount</th>\n",
       "      <th>Monthly_income</th>\n",
       "      <th>Age</th>\n",
       "      <th>Gearing_coefficient</th>\n",
       "      <th>Max_gearing_ratio</th>\n",
       "      <th>Default_45</th>\n",
       "    </tr>\n",
       "  </thead>\n",
       "  <tbody>\n",
       "    <tr>\n",
       "      <th>0</th>\n",
       "      <td>250263</td>\n",
       "      <td>1</td>\n",
       "      <td>1</td>\n",
       "      <td>11</td>\n",
       "      <td>5</td>\n",
       "      <td>6</td>\n",
       "      <td>7</td>\n",
       "      <td>1</td>\n",
       "      <td>2</td>\n",
       "      <td>0</td>\n",
       "      <td>1</td>\n",
       "      <td>0</td>\n",
       "      <td>NaN</td>\n",
       "      <td>1.438518</td>\n",
       "      <td>-0.259085</td>\n",
       "      <td>1.781040</td>\n",
       "      <td>0.860269</td>\n",
       "      <td>0.513980</td>\n",
       "      <td>0</td>\n",
       "    </tr>\n",
       "    <tr>\n",
       "      <th>1</th>\n",
       "      <td>250290</td>\n",
       "      <td>1</td>\n",
       "      <td>2</td>\n",
       "      <td>6</td>\n",
       "      <td>4</td>\n",
       "      <td>5</td>\n",
       "      <td>1</td>\n",
       "      <td>1</td>\n",
       "      <td>2</td>\n",
       "      <td>1</td>\n",
       "      <td>1</td>\n",
       "      <td>0</td>\n",
       "      <td>1.498183</td>\n",
       "      <td>0.204811</td>\n",
       "      <td>0.383312</td>\n",
       "      <td>1.107163</td>\n",
       "      <td>-0.718249</td>\n",
       "      <td>1.796590</td>\n",
       "      <td>0</td>\n",
       "    </tr>\n",
       "    <tr>\n",
       "      <th>2</th>\n",
       "      <td>250249</td>\n",
       "      <td>2</td>\n",
       "      <td>3</td>\n",
       "      <td>11</td>\n",
       "      <td>5</td>\n",
       "      <td>7</td>\n",
       "      <td>7</td>\n",
       "      <td>1</td>\n",
       "      <td>2</td>\n",
       "      <td>1</td>\n",
       "      <td>1</td>\n",
       "      <td>0</td>\n",
       "      <td>-0.241731</td>\n",
       "      <td>-0.852651</td>\n",
       "      <td>-0.732430</td>\n",
       "      <td>1.406664</td>\n",
       "      <td>1.122930</td>\n",
       "      <td>-0.768631</td>\n",
       "      <td>0</td>\n",
       "    </tr>\n",
       "    <tr>\n",
       "      <th>3</th>\n",
       "      <td>249516</td>\n",
       "      <td>3</td>\n",
       "      <td>3</td>\n",
       "      <td>10</td>\n",
       "      <td>4</td>\n",
       "      <td>2</td>\n",
       "      <td>4</td>\n",
       "      <td>1</td>\n",
       "      <td>2</td>\n",
       "      <td>0</td>\n",
       "      <td>1</td>\n",
       "      <td>168</td>\n",
       "      <td>NaN</td>\n",
       "      <td>-0.676407</td>\n",
       "      <td>-0.057350</td>\n",
       "      <td>0.957412</td>\n",
       "      <td>-1.702482</td>\n",
       "      <td>0.513980</td>\n",
       "      <td>1</td>\n",
       "    </tr>\n",
       "    <tr>\n",
       "      <th>4</th>\n",
       "      <td>249827</td>\n",
       "      <td>1</td>\n",
       "      <td>3</td>\n",
       "      <td>5</td>\n",
       "      <td>2</td>\n",
       "      <td>4</td>\n",
       "      <td>4</td>\n",
       "      <td>1</td>\n",
       "      <td>3</td>\n",
       "      <td>0</td>\n",
       "      <td>1</td>\n",
       "      <td>0</td>\n",
       "      <td>NaN</td>\n",
       "      <td>-0.412042</td>\n",
       "      <td>-0.574648</td>\n",
       "      <td>-0.390342</td>\n",
       "      <td>0.910077</td>\n",
       "      <td>-0.768631</td>\n",
       "      <td>0</td>\n",
       "    </tr>\n",
       "  </tbody>\n",
       "</table>\n",
       "</div>"
      ],
      "text/plain": [
       "       ID  V1  V2  V3  V4  V5  V6  V7 V8  Has_FICO  Business_channel  \\\n",
       "0  250263   1   1  11   5   6   7   1  2         0                 1   \n",
       "1  250290   1   2   6   4   5   1   1  2         1                 1   \n",
       "2  250249   2   3  11   5   7   7   1  2         1                 1   \n",
       "3  249516   3   3  10   4   2   4   1  2         0                 1   \n",
       "4  249827   1   3   5   2   4   4   1  3         0                 1   \n",
       "\n",
       "   Days_late  FICO_Score  Loan_amount  Monthly_income       Age  \\\n",
       "0          0         NaN     1.438518       -0.259085  1.781040   \n",
       "1          0    1.498183     0.204811        0.383312  1.107163   \n",
       "2          0   -0.241731    -0.852651       -0.732430  1.406664   \n",
       "3        168         NaN    -0.676407       -0.057350  0.957412   \n",
       "4          0         NaN    -0.412042       -0.574648 -0.390342   \n",
       "\n",
       "   Gearing_coefficient  Max_gearing_ratio  Default_45  \n",
       "0             0.860269           0.513980           0  \n",
       "1            -0.718249           1.796590           0  \n",
       "2             1.122930          -0.768631           0  \n",
       "3            -1.702482           0.513980           1  \n",
       "4             0.910077          -0.768631           0  "
      ]
     },
     "execution_count": 5,
     "metadata": {},
     "output_type": "execute_result"
    }
   ],
   "source": [
    "# Inspecting 'accepts' table\n",
    "accepts.head()"
   ]
  },
  {
   "cell_type": "code",
   "execution_count": 6,
   "metadata": {},
   "outputs": [
    {
     "data": {
      "text/plain": [
       "(10000, 19)"
      ]
     },
     "execution_count": 6,
     "metadata": {},
     "output_type": "execute_result"
    }
   ],
   "source": [
    "accepts.shape"
   ]
  },
  {
   "cell_type": "code",
   "execution_count": 7,
   "metadata": {},
   "outputs": [
    {
     "data": {
      "text/plain": [
       "ID                       int64\n",
       "V1                       int64\n",
       "V2                       int64\n",
       "V3                       int64\n",
       "V4                       int64\n",
       "V5                       int64\n",
       "V6                       int64\n",
       "V7                       int64\n",
       "V8                      object\n",
       "Has_FICO                 int64\n",
       "Business_channel         int64\n",
       "Days_late                int64\n",
       "FICO_Score             float64\n",
       "Loan_amount            float64\n",
       "Monthly_income         float64\n",
       "Age                    float64\n",
       "Gearing_coefficient    float64\n",
       "Max_gearing_ratio      float64\n",
       "Default_45               int64\n",
       "dtype: object"
      ]
     },
     "execution_count": 7,
     "metadata": {},
     "output_type": "execute_result"
    }
   ],
   "source": [
    "# Knowing the data type\n",
    "accepts.dtypes"
   ]
  },
  {
   "cell_type": "code",
   "execution_count": 8,
   "metadata": {},
   "outputs": [],
   "source": [
    "# Convert ID into a string\n",
    "accepts['ID'] = accepts['ID'].astype('str')"
   ]
  },
  {
   "cell_type": "code",
   "execution_count": 9,
   "metadata": {},
   "outputs": [],
   "source": [
    "# Convert Vs features into category\n",
    "for i in accepts.iloc[:,1:11].columns:\n",
    "    accepts[i] = accepts[i].astype('category')"
   ]
  },
  {
   "cell_type": "code",
   "execution_count": 10,
   "metadata": {},
   "outputs": [],
   "source": [
    "# Convert Vs features into floats\n",
    "for i in accepts.iloc[:,11:18].columns:\n",
    "    accepts[i] = accepts[i].astype('float')"
   ]
  },
  {
   "cell_type": "code",
   "execution_count": 11,
   "metadata": {},
   "outputs": [
    {
     "name": "stdout",
     "output_type": "stream",
     "text": [
      "ID : 0\n",
      "V1 : 0\n",
      "V2 : 0\n",
      "V3 : 0\n",
      "V4 : 0\n",
      "V5 : 0\n",
      "V6 : 0\n",
      "V7 : 0\n",
      "V8 : 0\n",
      "Has_FICO : 0\n",
      "Business_channel : 0\n",
      "Days_late : 0\n",
      "FICO_Score : 4472\n",
      "Loan_amount : 0\n",
      "Monthly_income : 0\n",
      "Age : 0\n",
      "Gearing_coefficient : 0\n",
      "Max_gearing_ratio : 0\n",
      "Default_45 : 0\n"
     ]
    }
   ],
   "source": [
    "# Detecting NAs values\n",
    "for i in accepts.columns:\n",
    "    print(i,':',sum(accepts[i].isna()))"
   ]
  },
  {
   "cell_type": "code",
   "execution_count": 12,
   "metadata": {},
   "outputs": [],
   "source": [
    "# Change the NAs values by medians in the FICO_Score feature\n",
    "accepts['FICO_Score'] = accepts['FICO_Score'].fillna(accepts['FICO_Score'].median())"
   ]
  },
  {
   "cell_type": "code",
   "execution_count": 13,
   "metadata": {},
   "outputs": [],
   "source": [
    "# Convert Default_45 features into category\n",
    "accepts['Default_45'] = accepts['Default_45'].astype('category')"
   ]
  },
  {
   "cell_type": "markdown",
   "metadata": {},
   "source": [
    "Some variables could present outliers, so it is important to early identify them. Otherwise, some issues would appear in further sections."
   ]
  },
  {
   "cell_type": "code",
   "execution_count": 14,
   "metadata": {},
   "outputs": [
    {
     "name": "stderr",
     "output_type": "stream",
     "text": [
      "C:\\ProgramData\\Anaconda3\\lib\\site-packages\\scipy\\stats\\stats.py:1713: FutureWarning: Using a non-tuple sequence for multidimensional indexing is deprecated; use `arr[tuple(seq)]` instead of `arr[seq]`. In the future this will be interpreted as an array index, `arr[np.array(seq)]`, which will result either in an error or a different result.\n",
      "  return np.add.reduce(sorted[indexer] * weights, axis=axis) / sumval\n"
     ]
    },
    {
     "data": {
      "text/plain": [
       "<matplotlib.axes._subplots.AxesSubplot at 0x1a384092fd0>"
      ]
     },
     "execution_count": 14,
     "metadata": {},
     "output_type": "execute_result"
    },
    {
     "data": {
      "image/png": "[encoded data removed]",
      "text/plain": [
       "<Figure size 432x288 with 1 Axes>"
      ]
     },
     "metadata": {
      "needs_background": "light"
     },
     "output_type": "display_data"
    }
   ],
   "source": [
    "# Analysing V3\n",
    "sns.distplot(accepts['V3'])"
   ]
  },
  {
   "cell_type": "code",
   "execution_count": 15,
   "metadata": {},
   "outputs": [],
   "source": [
    "# In order to fix my WOE analysis, I am going to fuse the category 15 and 16\n",
    "accepts['V3'][accepts['V3'] == 16] = 15"
   ]
  },
  {
   "cell_type": "code",
   "execution_count": 16,
   "metadata": {},
   "outputs": [
    {
     "data": {
      "text/plain": [
       "<matplotlib.axes._subplots.AxesSubplot at 0x1a383cf4d68>"
      ]
     },
     "execution_count": 16,
     "metadata": {},
     "output_type": "execute_result"
    },
    {
     "data": {
      "image/png": "[encoded data removed]",
      "text/plain": [
       "<Figure size 432x288 with 1 Axes>"
      ]
     },
     "metadata": {
      "needs_background": "light"
     },
     "output_type": "display_data"
    }
   ],
   "source": [
    "# Analysing Date_Late\n",
    "sns.distplot(accepts['Days_late'])"
   ]
  },
  {
   "cell_type": "code",
   "execution_count": 17,
   "metadata": {},
   "outputs": [
    {
     "data": {
      "image/png": "[encoded data removed]",
      "text/plain": [
       "<Figure size 864x504 with 1 Axes>"
      ]
     },
     "metadata": {
      "needs_background": "light"
     },
     "output_type": "display_data"
    }
   ],
   "source": [
    "# Analysing Date_Late\n",
    "ax1 = plt.subplots(1, 1, figsize=(12, 7), sharex=True)\n",
    "ax1 = sns.boxplot(y='Days_late', data=accepts, palette=\"GnBu\", showfliers = False)"
   ]
  },
  {
   "cell_type": "code",
   "execution_count": 18,
   "metadata": {},
   "outputs": [],
   "source": [
    "# Here I am creating a dummy variable where more than 45 days late is going to be considered as default\n",
    "accepts['Days_late'] = accepts['Days_late'].astype('int')\n",
    "\n",
    "def func(row):\n",
    "    if row['Days_late'] <= 45:\n",
    "        return 1\n",
    "    else:\n",
    "        return 2\n",
    "\n",
    "accepts['Days_late_binned'] = accepts.apply(func, axis=1)    \n",
    "accepts['Days_late_binned'] = accepts['Days_late_binned'].astype('category')"
   ]
  },
  {
   "cell_type": "code",
   "execution_count": 19,
   "metadata": {},
   "outputs": [],
   "source": [
    "# Binning Max_gearing_ratio\n",
    "def func(row):\n",
    "    if row['Max_gearing_ratio'] < 0:\n",
    "        return 1\n",
    "    elif row['Max_gearing_ratio'] < 1.7:\n",
    "        return 2 \n",
    "    else:\n",
    "        return 3\n",
    "\n",
    "accepts['Max_gearing_ratio_binned'] = accepts.apply(func, axis=1)    \n",
    "accepts['Max_gearing_ratio_binned'] = accepts['Max_gearing_ratio_binned'].astype('category')"
   ]
  },
  {
   "cell_type": "code",
   "execution_count": 20,
   "metadata": {},
   "outputs": [
    {
     "data": {
      "text/plain": [
       "ID                            object\n",
       "V1                          category\n",
       "V2                          category\n",
       "V3                          category\n",
       "V4                          category\n",
       "V5                          category\n",
       "V6                          category\n",
       "V7                          category\n",
       "V8                          category\n",
       "Has_FICO                    category\n",
       "Business_channel            category\n",
       "Days_late                      int32\n",
       "FICO_Score                   float64\n",
       "Loan_amount                  float64\n",
       "Monthly_income               float64\n",
       "Age                          float64\n",
       "Gearing_coefficient          float64\n",
       "Max_gearing_ratio            float64\n",
       "Default_45                  category\n",
       "Days_late_binned            category\n",
       "Max_gearing_ratio_binned    category\n",
       "dtype: object"
      ]
     },
     "execution_count": 20,
     "metadata": {},
     "output_type": "execute_result"
    }
   ],
   "source": [
    "accepts.dtypes"
   ]
  },
  {
   "cell_type": "markdown",
   "metadata": {},
   "source": [
    "Within this section, we changed some variables in discretionary ways because they demanded it. However, in the rest of the features, we will try to define the bins division and assignation based on decision trees models."
   ]
  },
  {
   "cell_type": "markdown",
   "metadata": {},
   "source": [
    "------------------------------------------------------------------------------------------"
   ]
  },
  {
   "cell_type": "markdown",
   "metadata": {},
   "source": [
    "**b) How did I define the number of bins to convert continuos variables into categorical variables?**"
   ]
  },
  {
   "cell_type": "markdown",
   "metadata": {},
   "source": [
    "In this section, we are running a cross validation model of decision trees to identify a splitting of my continuos variables. By this, we can get a number of splits with some statistical criterium. We could identify three steps in this process: 1) Run a decission tree model with a established depth, 2) Run a CV decision trees model to indetify the depth with a better performance in terms of AUC, and 3) Run once more time a decision trees model using the optimal depth. By this process, we ill have as result the number of bins and its division."
   ]
  },
  {
   "cell_type": "code",
   "execution_count": 21,
   "metadata": {},
   "outputs": [],
   "source": [
    "# Splitting the data into training and test set\n",
    "X_train, X_test, y_train, y_test = train_test_split(accepts.iloc[:,11:],accepts['Default_45'] , test_size = 0.3)"
   ]
  },
  {
   "cell_type": "markdown",
   "metadata": {},
   "source": [
    "***Binned Age***:"
   ]
  },
  {
   "cell_type": "code",
   "execution_count": 22,
   "metadata": {},
   "outputs": [],
   "source": [
    "tree_model = DecisionTreeClassifier(max_depth=10)\n",
    "tree_model.fit(X_train['Age'].to_frame(), X_train['Default_45'])\n",
    "X_train['Age_tree']=tree_model.predict_proba(X_train['Age'].to_frame())[:,1] "
   ]
  },
  {
   "cell_type": "code",
   "execution_count": 23,
   "metadata": {},
   "outputs": [
    {
     "name": "stdout",
     "output_type": "stream",
     "text": [
      "   depth  roc_auc_mean  roc_auc_std\n",
      "0      1      0.608464     0.003856\n",
      "1      2      0.642081     0.006483\n",
      "2      3      0.652989     0.004981\n",
      "3      4      0.651336     0.007169\n",
      "4      5      0.652153     0.004174\n",
      "5      6      0.647373     0.005939\n",
      "6      7      0.646956     0.006345\n",
      "7      8      0.646163     0.007140\n",
      "8      9      0.646376     0.006902\n",
      "9     10      0.646381     0.006896\n"
     ]
    }
   ],
   "source": [
    "# Age_tree\n",
    "\n",
    "score_ls = []     # here I will store the roc auc\n",
    "score_std_ls = [] # here I will store the standard deviation of the roc_auc\n",
    "\n",
    "for tree_depth in list(range(1,11)):\n",
    "    tree_model = DecisionTreeClassifier(max_depth=tree_depth)\n",
    "    \n",
    "    scores = cross_val_score(tree_model, X_train['Age_tree'].to_frame(),       \n",
    "    y_train, cv=3, scoring='roc_auc')   \n",
    "    \n",
    "    score_ls.append(np.mean(scores))\n",
    "    \n",
    "    score_std_ls.append(np.std(scores))\n",
    "    \n",
    "temp = pd.concat([pd.Series(list(range(1,11))), pd.Series(score_ls), pd.Series(score_std_ls)], axis=1)\n",
    "temp.columns = ['depth', 'roc_auc_mean', 'roc_auc_std']\n",
    "print(temp)"
   ]
  },
  {
   "cell_type": "code",
   "execution_count": 24,
   "metadata": {},
   "outputs": [],
   "source": [
    "tree_model_1 = DecisionTreeClassifier(max_depth=3)\n",
    "tree_model_1.fit(X_train['Age'].to_frame(), X_train['Default_45'])\n",
    "X_train['Age_tree']=tree_model_1.predict_proba(X_train['Age'].to_frame())[:,1] "
   ]
  },
  {
   "cell_type": "code",
   "execution_count": 25,
   "metadata": {},
   "outputs": [
    {
     "data": {
      "text/plain": [
       "8"
      ]
     },
     "execution_count": 25,
     "metadata": {},
     "output_type": "execute_result"
    }
   ],
   "source": [
    "X_train['Age_tree'].nunique()"
   ]
  },
  {
   "cell_type": "code",
   "execution_count": 26,
   "metadata": {},
   "outputs": [],
   "source": [
    "accepts['Age_binned'] = tree_model_1.predict_proba(accepts['Age'].to_frame())[:,1]\n",
    "accepts['Age_binned'] = accepts['Age_binned'].astype('category')"
   ]
  },
  {
   "cell_type": "markdown",
   "metadata": {},
   "source": [
    "***Binned Days_late***:"
   ]
  },
  {
   "cell_type": "code",
   "execution_count": 27,
   "metadata": {},
   "outputs": [],
   "source": [
    "tree_model = DecisionTreeClassifier(max_depth=10)\n",
    "tree_model.fit(X_train['Days_late'].to_frame(), X_train['Default_45'])\n",
    "X_train['Days_late_tree']=tree_model.predict_proba(X_train['Days_late'].to_frame())[:,1] "
   ]
  },
  {
   "cell_type": "code",
   "execution_count": 28,
   "metadata": {},
   "outputs": [
    {
     "name": "stdout",
     "output_type": "stream",
     "text": [
      "   depth  roc_auc_mean  roc_auc_std\n",
      "0      1           1.0          0.0\n",
      "1      2           1.0          0.0\n",
      "2      3           1.0          0.0\n",
      "3      4           1.0          0.0\n",
      "4      5           1.0          0.0\n",
      "5      6           1.0          0.0\n",
      "6      7           1.0          0.0\n",
      "7      8           1.0          0.0\n",
      "8      9           1.0          0.0\n",
      "9     10           1.0          0.0\n"
     ]
    }
   ],
   "source": [
    "# Days_late_tree\n",
    "\n",
    "score_ls = []     # here I will store the roc auc\n",
    "score_std_ls = [] # here I will store the standard deviation of the roc_auc\n",
    "\n",
    "for tree_depth in list(range(1,11)):\n",
    "    tree_model = DecisionTreeClassifier(max_depth=tree_depth)\n",
    "    \n",
    "    scores = cross_val_score(tree_model, X_train['Days_late_tree'].to_frame(),       \n",
    "    y_train, cv=3, scoring='roc_auc')   \n",
    "    \n",
    "    score_ls.append(np.mean(scores))\n",
    "    \n",
    "    score_std_ls.append(np.std(scores))\n",
    "    \n",
    "temp = pd.concat([pd.Series(list(range(1,11))), pd.Series(score_ls), pd.Series(score_std_ls)], axis=1)\n",
    "temp.columns = ['depth', 'roc_auc_mean', 'roc_auc_std']\n",
    "print(temp)"
   ]
  },
  {
   "cell_type": "markdown",
   "metadata": {},
   "source": [
    "This is happening because the data distirbution. For this reason, the splitting is going to be 'by hand'."
   ]
  },
  {
   "cell_type": "code",
   "execution_count": 29,
   "metadata": {},
   "outputs": [],
   "source": [
    "#tree_model = DecisionTreeClassifier(max_depth=2)\n",
    "#tree_model.fit(X_train['Days_late'].to_frame(), X_train['Default_45'])\n",
    "#X_train['Days_late_tree']=tree_model.predict_proba(X_train['Days_late'].to_frame())[:,1] "
   ]
  },
  {
   "cell_type": "code",
   "execution_count": 30,
   "metadata": {},
   "outputs": [],
   "source": [
    "#X_train['Days_late_tree'].nunique()"
   ]
  },
  {
   "cell_type": "code",
   "execution_count": 31,
   "metadata": {},
   "outputs": [],
   "source": [
    "#accepts['Days_late_binned'] = tree_model.predict_proba(accepts['Days_late'].to_frame())[:,1]\n",
    "#accepts['Days_late_binned'] = accepts['Days_late_binned'].astype('category')"
   ]
  },
  {
   "cell_type": "markdown",
   "metadata": {},
   "source": [
    "***Binned FICO_Score:***:"
   ]
  },
  {
   "cell_type": "code",
   "execution_count": 32,
   "metadata": {},
   "outputs": [],
   "source": [
    "tree_model = DecisionTreeClassifier(max_depth=10)\n",
    "tree_model.fit(X_train['FICO_Score'].to_frame(), X_train['Default_45'])\n",
    "X_train['FICO_Score_tree']=tree_model.predict_proba(X_train['FICO_Score'].to_frame())[:,1] "
   ]
  },
  {
   "cell_type": "code",
   "execution_count": 33,
   "metadata": {},
   "outputs": [
    {
     "name": "stdout",
     "output_type": "stream",
     "text": [
      "   depth  roc_auc_mean  roc_auc_std\n",
      "0      1      0.618244     0.014523\n",
      "1      2      0.690423     0.006344\n",
      "2      3      0.706112     0.006244\n",
      "3      4      0.707069     0.008861\n",
      "4      5      0.705149     0.008267\n",
      "5      6      0.701199     0.011069\n",
      "6      7      0.696981     0.011358\n",
      "7      8      0.696594     0.011964\n",
      "8      9      0.696204     0.011817\n",
      "9     10      0.696279     0.011858\n"
     ]
    }
   ],
   "source": [
    "# FICO_Score_tree\n",
    "\n",
    "score_ls = []     # here I will store the roc auc\n",
    "score_std_ls = [] # here I will store the standard deviation of the roc_auc\n",
    "\n",
    "for tree_depth in list(range(1,11)):\n",
    "    tree_model = DecisionTreeClassifier(max_depth=tree_depth)\n",
    "    \n",
    "    scores = cross_val_score(tree_model, X_train['FICO_Score_tree'].to_frame(),       \n",
    "    y_train, cv=3, scoring='roc_auc')   \n",
    "    \n",
    "    score_ls.append(np.mean(scores))\n",
    "    \n",
    "    score_std_ls.append(np.std(scores))\n",
    "    \n",
    "temp = pd.concat([pd.Series(list(range(1,11))), pd.Series(score_ls), pd.Series(score_std_ls)], axis=1)\n",
    "temp.columns = ['depth', 'roc_auc_mean', 'roc_auc_std']\n",
    "print(temp)"
   ]
  },
  {
   "cell_type": "code",
   "execution_count": 34,
   "metadata": {},
   "outputs": [],
   "source": [
    "tree_model_2 = DecisionTreeClassifier(max_depth=2)\n",
    "tree_model_2.fit(X_train['FICO_Score'].to_frame(), X_train['Default_45'])\n",
    "X_train['FICO_Score_tree']=tree_model_2.predict_proba(X_train['FICO_Score'].to_frame())[:,1] "
   ]
  },
  {
   "cell_type": "code",
   "execution_count": 35,
   "metadata": {},
   "outputs": [
    {
     "data": {
      "text/plain": [
       "4"
      ]
     },
     "execution_count": 35,
     "metadata": {},
     "output_type": "execute_result"
    }
   ],
   "source": [
    "X_train['FICO_Score_tree'].nunique()"
   ]
  },
  {
   "cell_type": "code",
   "execution_count": 36,
   "metadata": {},
   "outputs": [],
   "source": [
    "accepts['FICO_Score_binned'] = tree_model_2.predict_proba(accepts['FICO_Score'].to_frame())[:,1]\n",
    "accepts['FICO_Score_binned'] = accepts['FICO_Score_binned'].astype('category')"
   ]
  },
  {
   "cell_type": "markdown",
   "metadata": {},
   "source": [
    "***Binned Loan_amount:***:"
   ]
  },
  {
   "cell_type": "code",
   "execution_count": 37,
   "metadata": {},
   "outputs": [],
   "source": [
    "tree_model = DecisionTreeClassifier(max_depth=10)\n",
    "tree_model.fit(X_train['Loan_amount'].to_frame(), X_train['Default_45'])\n",
    "X_train['Loan_amount_tree']=tree_model.predict_proba(X_train['Loan_amount'].to_frame())[:,1] "
   ]
  },
  {
   "cell_type": "code",
   "execution_count": 38,
   "metadata": {},
   "outputs": [
    {
     "name": "stdout",
     "output_type": "stream",
     "text": [
      "   depth  roc_auc_mean  roc_auc_std\n",
      "0      1      0.553887     0.000685\n",
      "1      2      0.567796     0.003072\n",
      "2      3      0.586514     0.004446\n",
      "3      4      0.590732     0.005620\n",
      "4      5      0.589842     0.011997\n",
      "5      6      0.586094     0.009358\n",
      "6      7      0.584120     0.007946\n",
      "7      8      0.583497     0.007130\n",
      "8      9      0.583253     0.006794\n",
      "9     10      0.583253     0.006794\n"
     ]
    }
   ],
   "source": [
    "# Loan_amount_tree\n",
    "\n",
    "score_ls = []     # here I will store the roc auc\n",
    "score_std_ls = [] # here I will store the standard deviation of the roc_auc\n",
    "for tree_depth in list(range(1,11)):\n",
    "    tree_model = DecisionTreeClassifier(max_depth=tree_depth)\n",
    "    \n",
    "    scores = cross_val_score(tree_model, X_train['Loan_amount_tree'].to_frame(),       \n",
    "    y_train, cv=3, scoring='roc_auc')   \n",
    "    \n",
    "    score_ls.append(np.mean(scores))\n",
    "    \n",
    "    score_std_ls.append(np.std(scores))\n",
    "    \n",
    "temp = pd.concat([pd.Series(list(range(1,11))), pd.Series(score_ls), pd.Series(score_std_ls)], axis=1)\n",
    "temp.columns = ['depth', 'roc_auc_mean', 'roc_auc_std']\n",
    "print(temp)"
   ]
  },
  {
   "cell_type": "code",
   "execution_count": 39,
   "metadata": {},
   "outputs": [],
   "source": [
    "tree_model_3 = DecisionTreeClassifier(max_depth=1)\n",
    "tree_model_3.fit(X_train['Loan_amount'].to_frame(), X_train['Default_45'])\n",
    "X_train['Loan_amount_tree']=tree_model_3.predict_proba(X_train['Loan_amount'].to_frame())[:,1] "
   ]
  },
  {
   "cell_type": "code",
   "execution_count": 40,
   "metadata": {},
   "outputs": [
    {
     "data": {
      "text/plain": [
       "2"
      ]
     },
     "execution_count": 40,
     "metadata": {},
     "output_type": "execute_result"
    }
   ],
   "source": [
    "X_train['Loan_amount_tree'].nunique()"
   ]
  },
  {
   "cell_type": "code",
   "execution_count": 41,
   "metadata": {},
   "outputs": [],
   "source": [
    "accepts['Loan_amount_binned'] = tree_model_3.predict_proba(accepts['Loan_amount'].to_frame())[:,1]\n",
    "accepts['Loan_amount_binned'] = accepts['Loan_amount_binned'].astype('category')"
   ]
  },
  {
   "cell_type": "markdown",
   "metadata": {},
   "source": [
    "***Binned Monthly_income:***:"
   ]
  },
  {
   "cell_type": "code",
   "execution_count": 42,
   "metadata": {},
   "outputs": [],
   "source": [
    "tree_model = DecisionTreeClassifier(max_depth=10)\n",
    "tree_model.fit(X_train['Monthly_income'].to_frame(), X_train['Default_45'])\n",
    "X_train['Monthly_income_tree']=tree_model.predict_proba(X_train['Monthly_income'].to_frame())[:,1] "
   ]
  },
  {
   "cell_type": "code",
   "execution_count": 43,
   "metadata": {},
   "outputs": [
    {
     "name": "stdout",
     "output_type": "stream",
     "text": [
      "   depth  roc_auc_mean  roc_auc_std\n",
      "0      1      0.533529     0.024532\n",
      "1      2      0.582710     0.008822\n",
      "2      3      0.612870     0.010653\n",
      "3      4      0.626396     0.012414\n",
      "4      5      0.626825     0.013633\n",
      "5      6      0.622388     0.011894\n",
      "6      7      0.616670     0.013139\n",
      "7      8      0.615511     0.012519\n",
      "8      9      0.614877     0.011263\n",
      "9     10      0.614844     0.011267\n"
     ]
    }
   ],
   "source": [
    "# Monthly_income_tree\n",
    "\n",
    "score_ls = []     # here I will store the roc auc\n",
    "score_std_ls = [] # here I will store the standard deviation of the roc_auc\n",
    "\n",
    "for tree_depth in list(range(1,11)):\n",
    "    tree_model = DecisionTreeClassifier(max_depth=tree_depth)\n",
    "    \n",
    "    scores = cross_val_score(tree_model, X_train['Monthly_income_tree'].to_frame(),       \n",
    "    y_train, cv=3, scoring='roc_auc')   \n",
    "    \n",
    "    score_ls.append(np.mean(scores))\n",
    "    \n",
    "    score_std_ls.append(np.std(scores))\n",
    "    \n",
    "temp = pd.concat([pd.Series(list(range(1,11))), pd.Series(score_ls), pd.Series(score_std_ls)], axis=1)\n",
    "temp.columns = ['depth', 'roc_auc_mean', 'roc_auc_std']\n",
    "print(temp)"
   ]
  },
  {
   "cell_type": "code",
   "execution_count": 44,
   "metadata": {},
   "outputs": [],
   "source": [
    "tree_model_4 = DecisionTreeClassifier(max_depth=2)\n",
    "tree_model_4.fit(X_train['Monthly_income'].to_frame(), X_train['Default_45'])\n",
    "X_train['Monthly_income_tree']=tree_model_4.predict_proba(X_train['Monthly_income'].to_frame())[:,1] "
   ]
  },
  {
   "cell_type": "code",
   "execution_count": 45,
   "metadata": {},
   "outputs": [
    {
     "data": {
      "text/plain": [
       "4"
      ]
     },
     "execution_count": 45,
     "metadata": {},
     "output_type": "execute_result"
    }
   ],
   "source": [
    "X_train['Monthly_income_tree'].nunique()"
   ]
  },
  {
   "cell_type": "code",
   "execution_count": 46,
   "metadata": {},
   "outputs": [],
   "source": [
    "accepts['Monthly_income_binned'] = tree_model_4.predict_proba(accepts['Monthly_income'].to_frame())[:,1]\n",
    "accepts['Monthly_income_binned'] = accepts['Monthly_income_binned'].astype('category')"
   ]
  },
  {
   "cell_type": "markdown",
   "metadata": {},
   "source": [
    "***Binned Gearing_coefficient:***"
   ]
  },
  {
   "cell_type": "code",
   "execution_count": 47,
   "metadata": {},
   "outputs": [],
   "source": [
    "tree_model = DecisionTreeClassifier(max_depth=10)\n",
    "tree_model.fit(X_train['Gearing_coefficient'].to_frame(), X_train['Default_45'])\n",
    "X_train['Gearing_coefficient_tree']=tree_model.predict_proba(X_train['Gearing_coefficient'].to_frame())[:,1] "
   ]
  },
  {
   "cell_type": "code",
   "execution_count": 48,
   "metadata": {},
   "outputs": [
    {
     "name": "stdout",
     "output_type": "stream",
     "text": [
      "   depth  roc_auc_mean  roc_auc_std\n",
      "0      1      0.523291     0.009588\n",
      "1      2      0.541738     0.008718\n",
      "2      3      0.568581     0.002081\n",
      "3      4      0.577253     0.002803\n",
      "4      5      0.568243     0.007075\n",
      "5      6      0.567064     0.009103\n",
      "6      7      0.565873     0.007799\n",
      "7      8      0.565295     0.007639\n",
      "8      9      0.565226     0.007730\n",
      "9     10      0.565226     0.007730\n"
     ]
    }
   ],
   "source": [
    "# Gearing_coefficient_tree\n",
    "\n",
    "score_ls = []     # here I will store the roc auc\n",
    "score_std_ls = [] # here I will store the standard deviation of the roc_auc\n",
    "\n",
    "for tree_depth in list(range(1,11)):\n",
    "    tree_model = DecisionTreeClassifier(max_depth=tree_depth)\n",
    "    \n",
    "    scores = cross_val_score(tree_model, X_train['Gearing_coefficient_tree'].to_frame(),       \n",
    "    y_train, cv=3, scoring='roc_auc')   \n",
    "    \n",
    "    score_ls.append(np.mean(scores))\n",
    "    \n",
    "    score_std_ls.append(np.std(scores))\n",
    "    \n",
    "temp = pd.concat([pd.Series(list(range(1,11))), pd.Series(score_ls), pd.Series(score_std_ls)], axis=1)\n",
    "temp.columns = ['depth', 'roc_auc_mean', 'roc_auc_std']\n",
    "print(temp)"
   ]
  },
  {
   "cell_type": "code",
   "execution_count": 49,
   "metadata": {},
   "outputs": [],
   "source": [
    "tree_model_5 = DecisionTreeClassifier(max_depth=1)\n",
    "tree_model_5.fit(X_train['Gearing_coefficient'].to_frame(), X_train['Default_45'])\n",
    "X_train['Gearing_coefficient_tree']=tree_model_5.predict_proba(X_train['Gearing_coefficient'].to_frame())[:,1] "
   ]
  },
  {
   "cell_type": "code",
   "execution_count": 50,
   "metadata": {},
   "outputs": [
    {
     "data": {
      "text/plain": [
       "2"
      ]
     },
     "execution_count": 50,
     "metadata": {},
     "output_type": "execute_result"
    }
   ],
   "source": [
    "X_train['Gearing_coefficient_tree'].nunique()"
   ]
  },
  {
   "cell_type": "code",
   "execution_count": 51,
   "metadata": {},
   "outputs": [],
   "source": [
    "accepts['Gearing_coefficient_binned'] = tree_model_5.predict_proba(accepts['Gearing_coefficient'].to_frame())[:,1]\n",
    "accepts['Gearing_coefficient_binned'] = accepts['Gearing_coefficient_binned'].astype('category')"
   ]
  },
  {
   "cell_type": "code",
   "execution_count": 52,
   "metadata": {},
   "outputs": [
    {
     "data": {
      "text/plain": [
       "ID                            10000\n",
       "V1                                5\n",
       "V2                                6\n",
       "V3                               15\n",
       "V4                                6\n",
       "V5                                7\n",
       "V6                                7\n",
       "V7                                3\n",
       "V8                                5\n",
       "Has_FICO                          2\n",
       "Business_channel                  3\n",
       "Days_late                        55\n",
       "FICO_Score                      397\n",
       "Loan_amount                     776\n",
       "Monthly_income                 2317\n",
       "Age                              49\n",
       "Gearing_coefficient            4583\n",
       "Max_gearing_ratio                 3\n",
       "Default_45                        2\n",
       "Days_late_binned                  2\n",
       "Max_gearing_ratio_binned          3\n",
       "Age_binned                        8\n",
       "FICO_Score_binned                 4\n",
       "Loan_amount_binned                2\n",
       "Monthly_income_binned             4\n",
       "Gearing_coefficient_binned        2\n",
       "dtype: int64"
      ]
     },
     "execution_count": 52,
     "metadata": {},
     "output_type": "execute_result"
    }
   ],
   "source": [
    "accepts.nunique()"
   ]
  },
  {
   "cell_type": "markdown",
   "metadata": {},
   "source": [
    "Righ now, we are presenting the final decisions regarding the splitting. Nevertheless, some issues presented in the next section suggested to do some changes."
   ]
  },
  {
   "cell_type": "markdown",
   "metadata": {},
   "source": [
    "------------------------------------------------------------------------------------------"
   ]
  },
  {
   "cell_type": "markdown",
   "metadata": {},
   "source": [
    "**c) Final 'Accepts' table:**"
   ]
  },
  {
   "cell_type": "markdown",
   "metadata": {},
   "source": [
    "Now, we have a table with only categorical variables."
   ]
  },
  {
   "cell_type": "code",
   "execution_count": 53,
   "metadata": {},
   "outputs": [
    {
     "data": {
      "text/html": [
       "<div>\n",
       "<style scoped>\n",
       "    .dataframe tbody tr th:only-of-type {\n",
       "        vertical-align: middle;\n",
       "    }\n",
       "\n",
       "    .dataframe tbody tr th {\n",
       "        vertical-align: top;\n",
       "    }\n",
       "\n",
       "    .dataframe thead th {\n",
       "        text-align: right;\n",
       "    }\n",
       "</style>\n",
       "<table border=\"1\" class=\"dataframe\">\n",
       "  <thead>\n",
       "    <tr style=\"text-align: right;\">\n",
       "      <th></th>\n",
       "      <th>ID</th>\n",
       "      <th>V1</th>\n",
       "      <th>V2</th>\n",
       "      <th>V3</th>\n",
       "      <th>V4</th>\n",
       "      <th>V5</th>\n",
       "      <th>V6</th>\n",
       "      <th>V7</th>\n",
       "      <th>V8</th>\n",
       "      <th>Has_FICO</th>\n",
       "      <th>Business_channel</th>\n",
       "      <th>Days_late_binned</th>\n",
       "      <th>Max_gearing_ratio_binned</th>\n",
       "      <th>Age_binned</th>\n",
       "      <th>FICO_Score_binned</th>\n",
       "      <th>Loan_amount_binned</th>\n",
       "      <th>Monthly_income_binned</th>\n",
       "      <th>Gearing_coefficient_binned</th>\n",
       "      <th>Default_45</th>\n",
       "    </tr>\n",
       "  </thead>\n",
       "  <tbody>\n",
       "    <tr>\n",
       "      <th>0</th>\n",
       "      <td>250263</td>\n",
       "      <td>1</td>\n",
       "      <td>1</td>\n",
       "      <td>11</td>\n",
       "      <td>5</td>\n",
       "      <td>6</td>\n",
       "      <td>7</td>\n",
       "      <td>1</td>\n",
       "      <td>2</td>\n",
       "      <td>0</td>\n",
       "      <td>1</td>\n",
       "      <td>1</td>\n",
       "      <td>2</td>\n",
       "      <td>0.123350</td>\n",
       "      <td>0.242116</td>\n",
       "      <td>0.241163</td>\n",
       "      <td>0.260480</td>\n",
       "      <td>0.221184</td>\n",
       "      <td>0</td>\n",
       "    </tr>\n",
       "    <tr>\n",
       "      <th>1</th>\n",
       "      <td>250290</td>\n",
       "      <td>1</td>\n",
       "      <td>2</td>\n",
       "      <td>6</td>\n",
       "      <td>4</td>\n",
       "      <td>5</td>\n",
       "      <td>1</td>\n",
       "      <td>1</td>\n",
       "      <td>2</td>\n",
       "      <td>1</td>\n",
       "      <td>1</td>\n",
       "      <td>1</td>\n",
       "      <td>3</td>\n",
       "      <td>0.123350</td>\n",
       "      <td>0.065341</td>\n",
       "      <td>0.241163</td>\n",
       "      <td>0.260480</td>\n",
       "      <td>0.221184</td>\n",
       "      <td>0</td>\n",
       "    </tr>\n",
       "    <tr>\n",
       "      <th>2</th>\n",
       "      <td>250249</td>\n",
       "      <td>2</td>\n",
       "      <td>3</td>\n",
       "      <td>11</td>\n",
       "      <td>5</td>\n",
       "      <td>7</td>\n",
       "      <td>7</td>\n",
       "      <td>1</td>\n",
       "      <td>2</td>\n",
       "      <td>1</td>\n",
       "      <td>1</td>\n",
       "      <td>1</td>\n",
       "      <td>1</td>\n",
       "      <td>0.123350</td>\n",
       "      <td>0.242116</td>\n",
       "      <td>0.241163</td>\n",
       "      <td>0.139200</td>\n",
       "      <td>0.269817</td>\n",
       "      <td>0</td>\n",
       "    </tr>\n",
       "    <tr>\n",
       "      <th>3</th>\n",
       "      <td>249516</td>\n",
       "      <td>3</td>\n",
       "      <td>3</td>\n",
       "      <td>10</td>\n",
       "      <td>4</td>\n",
       "      <td>2</td>\n",
       "      <td>4</td>\n",
       "      <td>1</td>\n",
       "      <td>2</td>\n",
       "      <td>0</td>\n",
       "      <td>1</td>\n",
       "      <td>2</td>\n",
       "      <td>2</td>\n",
       "      <td>0.123350</td>\n",
       "      <td>0.242116</td>\n",
       "      <td>0.241163</td>\n",
       "      <td>0.260480</td>\n",
       "      <td>0.221184</td>\n",
       "      <td>1</td>\n",
       "    </tr>\n",
       "    <tr>\n",
       "      <th>4</th>\n",
       "      <td>249827</td>\n",
       "      <td>1</td>\n",
       "      <td>3</td>\n",
       "      <td>5</td>\n",
       "      <td>2</td>\n",
       "      <td>4</td>\n",
       "      <td>4</td>\n",
       "      <td>1</td>\n",
       "      <td>3</td>\n",
       "      <td>0</td>\n",
       "      <td>1</td>\n",
       "      <td>1</td>\n",
       "      <td>1</td>\n",
       "      <td>0.276257</td>\n",
       "      <td>0.242116</td>\n",
       "      <td>0.241163</td>\n",
       "      <td>0.206481</td>\n",
       "      <td>0.221184</td>\n",
       "      <td>0</td>\n",
       "    </tr>\n",
       "  </tbody>\n",
       "</table>\n",
       "</div>"
      ],
      "text/plain": [
       "       ID V1 V2  V3 V4 V5 V6 V7 V8 Has_FICO Business_channel Days_late_binned  \\\n",
       "0  250263  1  1  11  5  6  7  1  2        0                1                1   \n",
       "1  250290  1  2   6  4  5  1  1  2        1                1                1   \n",
       "2  250249  2  3  11  5  7  7  1  2        1                1                1   \n",
       "3  249516  3  3  10  4  2  4  1  2        0                1                2   \n",
       "4  249827  1  3   5  2  4  4  1  3        0                1                1   \n",
       "\n",
       "  Max_gearing_ratio_binned Age_binned FICO_Score_binned Loan_amount_binned  \\\n",
       "0                        2   0.123350          0.242116           0.241163   \n",
       "1                        3   0.123350          0.065341           0.241163   \n",
       "2                        1   0.123350          0.242116           0.241163   \n",
       "3                        2   0.123350          0.242116           0.241163   \n",
       "4                        1   0.276257          0.242116           0.241163   \n",
       "\n",
       "  Monthly_income_binned Gearing_coefficient_binned Default_45  \n",
       "0              0.260480                   0.221184          0  \n",
       "1              0.260480                   0.221184          0  \n",
       "2              0.139200                   0.269817          0  \n",
       "3              0.260480                   0.221184          1  \n",
       "4              0.206481                   0.221184          0  "
      ]
     },
     "execution_count": 53,
     "metadata": {},
     "output_type": "execute_result"
    }
   ],
   "source": [
    "# Final table \n",
    "a1 = accepts.iloc[:,:11]\n",
    "a2 = accepts.iloc[:,19:]\n",
    "a3 = pd.DataFrame(accepts['Default_45'])\n",
    "\n",
    "frames = [a1,a2,a3]\n",
    "a_db = pd.concat(frames,axis=1)\n",
    "a_db.head()"
   ]
  },
  {
   "cell_type": "code",
   "execution_count": 54,
   "metadata": {},
   "outputs": [],
   "source": [
    "# Fixing a couple of bugs\n",
    "a_db['Age_binned'] = a_db['Age_binned'].astype('category')\n",
    "a_db['Max_gearing_ratio_binned'] = a_db['Max_gearing_ratio_binned'].astype('category')"
   ]
  },
  {
   "cell_type": "code",
   "execution_count": 55,
   "metadata": {},
   "outputs": [
    {
     "data": {
      "text/plain": [
       "ID                              object\n",
       "V1                            category\n",
       "V2                            category\n",
       "V3                            category\n",
       "V4                            category\n",
       "V5                            category\n",
       "V6                            category\n",
       "V7                            category\n",
       "V8                            category\n",
       "Has_FICO                      category\n",
       "Business_channel              category\n",
       "Days_late_binned              category\n",
       "Max_gearing_ratio_binned      category\n",
       "Age_binned                    category\n",
       "FICO_Score_binned             category\n",
       "Loan_amount_binned            category\n",
       "Monthly_income_binned         category\n",
       "Gearing_coefficient_binned    category\n",
       "Default_45                    category\n",
       "dtype: object"
      ]
     },
     "execution_count": 55,
     "metadata": {},
     "output_type": "execute_result"
    }
   ],
   "source": [
    "a_db.dtypes"
   ]
  },
  {
   "cell_type": "code",
   "execution_count": 56,
   "metadata": {},
   "outputs": [],
   "source": [
    "#a_db.to_csv('C:/Users/jpolancoroque/Desktop/IESEG/02. Second Semester/Credit Scoring/a_db.csv')"
   ]
  },
  {
   "cell_type": "markdown",
   "metadata": {},
   "source": [
    "------------------------------------------------------------------------------------------"
   ]
  },
  {
   "cell_type": "markdown",
   "metadata": {},
   "source": [
    "**d) Data Transformation — Weight of Evidence Method:**"
   ]
  },
  {
   "cell_type": "markdown",
   "metadata": {},
   "source": [
    "For each variable, we are going to run the following processes: 1) pivot a table to have the counting of the categorical variables in each situation of the target variable, 2) build the WOE analysis table. The latter will help us to create the WOE metric, which will be used in the scoring model, and to do a feature selection. In order to run the feature selection, we have to buld the Information Value metric, which is derived from the WOE's metrics. According to the literature, anything below IV=0.02 should be discarded."
   ]
  },
  {
   "cell_type": "markdown",
   "metadata": {},
   "source": [
    "***V1 WOE:***"
   ]
  },
  {
   "cell_type": "code",
   "execution_count": 57,
   "metadata": {},
   "outputs": [
    {
     "data": {
      "text/html": [
       "<div>\n",
       "<style scoped>\n",
       "    .dataframe tbody tr th:only-of-type {\n",
       "        vertical-align: middle;\n",
       "    }\n",
       "\n",
       "    .dataframe tbody tr th {\n",
       "        vertical-align: top;\n",
       "    }\n",
       "\n",
       "    .dataframe thead tr th {\n",
       "        text-align: left;\n",
       "    }\n",
       "\n",
       "    .dataframe thead tr:last-of-type th {\n",
       "        text-align: right;\n",
       "    }\n",
       "</style>\n",
       "<table border=\"1\" class=\"dataframe\">\n",
       "  <thead>\n",
       "    <tr>\n",
       "      <th></th>\n",
       "      <th colspan=\"2\" halign=\"left\">ID</th>\n",
       "    </tr>\n",
       "    <tr>\n",
       "      <th>Default_45</th>\n",
       "      <th>0</th>\n",
       "      <th>1</th>\n",
       "    </tr>\n",
       "    <tr>\n",
       "      <th>V1</th>\n",
       "      <th></th>\n",
       "      <th></th>\n",
       "    </tr>\n",
       "  </thead>\n",
       "  <tbody>\n",
       "    <tr>\n",
       "      <th>1</th>\n",
       "      <td>4728</td>\n",
       "      <td>1055</td>\n",
       "    </tr>\n",
       "    <tr>\n",
       "      <th>2</th>\n",
       "      <td>415</td>\n",
       "      <td>87</td>\n",
       "    </tr>\n",
       "    <tr>\n",
       "      <th>3</th>\n",
       "      <td>1857</td>\n",
       "      <td>1011</td>\n",
       "    </tr>\n",
       "    <tr>\n",
       "      <th>4</th>\n",
       "      <td>631</td>\n",
       "      <td>208</td>\n",
       "    </tr>\n",
       "    <tr>\n",
       "      <th>5</th>\n",
       "      <td>5</td>\n",
       "      <td>3</td>\n",
       "    </tr>\n",
       "  </tbody>\n",
       "</table>\n",
       "</div>"
      ],
      "text/plain": [
       "              ID      \n",
       "Default_45     0     1\n",
       "V1                    \n",
       "1           4728  1055\n",
       "2            415    87\n",
       "3           1857  1011\n",
       "4            631   208\n",
       "5              5     3"
      ]
     },
     "execution_count": 57,
     "metadata": {},
     "output_type": "execute_result"
    }
   ],
   "source": [
    "# Pivoting the V1\n",
    "v1_p = a_db[['ID','V1','Default_45']]\n",
    "V1_pivoted = v1_p.pivot_table(v1_p,index= ['V1'],columns='Default_45', aggfunc='count',fill_value=0)\n",
    "#V1_pivoted = pd.DataFrame(V1_pivoted.unstack()).reset_index().rename(columns={\"Default_45\": \"Target\",0: \"Counting\"})\n",
    "#V1_pivoted = V1_pivoted.drop(['level_0','V1'],axis=1)\n",
    "V1_pivoted"
   ]
  },
  {
   "cell_type": "code",
   "execution_count": 58,
   "metadata": {},
   "outputs": [
    {
     "data": {
      "text/html": [
       "<div>\n",
       "<style scoped>\n",
       "    .dataframe tbody tr th:only-of-type {\n",
       "        vertical-align: middle;\n",
       "    }\n",
       "\n",
       "    .dataframe tbody tr th {\n",
       "        vertical-align: top;\n",
       "    }\n",
       "\n",
       "    .dataframe thead th {\n",
       "        text-align: right;\n",
       "    }\n",
       "</style>\n",
       "<table border=\"1\" class=\"dataframe\">\n",
       "  <thead>\n",
       "    <tr style=\"text-align: right;\">\n",
       "      <th></th>\n",
       "      <th>Counting</th>\n",
       "      <th>Bad</th>\n",
       "      <th>Good</th>\n",
       "      <th>Total_Distri</th>\n",
       "      <th>Bad_Distri</th>\n",
       "      <th>Good_Distri</th>\n",
       "      <th>WOE</th>\n",
       "      <th>WOE%</th>\n",
       "    </tr>\n",
       "    <tr>\n",
       "      <th>V1_Segments</th>\n",
       "      <th></th>\n",
       "      <th></th>\n",
       "      <th></th>\n",
       "      <th></th>\n",
       "      <th></th>\n",
       "      <th></th>\n",
       "      <th></th>\n",
       "      <th></th>\n",
       "    </tr>\n",
       "  </thead>\n",
       "  <tbody>\n",
       "    <tr>\n",
       "      <th>1</th>\n",
       "      <td>5783</td>\n",
       "      <td>1055</td>\n",
       "      <td>4728</td>\n",
       "      <td>0.5783</td>\n",
       "      <td>0.446277</td>\n",
       "      <td>0.619172</td>\n",
       "      <td>0.327443</td>\n",
       "      <td>32.744271</td>\n",
       "    </tr>\n",
       "    <tr>\n",
       "      <th>2</th>\n",
       "      <td>502</td>\n",
       "      <td>87</td>\n",
       "      <td>415</td>\n",
       "      <td>0.0502</td>\n",
       "      <td>0.036802</td>\n",
       "      <td>0.054348</td>\n",
       "      <td>0.389852</td>\n",
       "      <td>38.985160</td>\n",
       "    </tr>\n",
       "    <tr>\n",
       "      <th>3</th>\n",
       "      <td>2868</td>\n",
       "      <td>1011</td>\n",
       "      <td>1857</td>\n",
       "      <td>0.2868</td>\n",
       "      <td>0.427665</td>\n",
       "      <td>0.243190</td>\n",
       "      <td>-0.564496</td>\n",
       "      <td>-56.449646</td>\n",
       "    </tr>\n",
       "    <tr>\n",
       "      <th>4</th>\n",
       "      <td>839</td>\n",
       "      <td>208</td>\n",
       "      <td>631</td>\n",
       "      <td>0.0839</td>\n",
       "      <td>0.087986</td>\n",
       "      <td>0.082635</td>\n",
       "      <td>-0.062751</td>\n",
       "      <td>-6.275102</td>\n",
       "    </tr>\n",
       "    <tr>\n",
       "      <th>5</th>\n",
       "      <td>8</td>\n",
       "      <td>3</td>\n",
       "      <td>5</td>\n",
       "      <td>0.0008</td>\n",
       "      <td>0.001269</td>\n",
       "      <td>0.000655</td>\n",
       "      <td>-0.661693</td>\n",
       "      <td>-66.169318</td>\n",
       "    </tr>\n",
       "  </tbody>\n",
       "</table>\n",
       "</div>"
      ],
      "text/plain": [
       "             Counting   Bad  Good  Total_Distri  Bad_Distri  Good_Distri  \\\n",
       "V1_Segments                                                                \n",
       "1                5783  1055  4728        0.5783    0.446277     0.619172   \n",
       "2                 502    87   415        0.0502    0.036802     0.054348   \n",
       "3                2868  1011  1857        0.2868    0.427665     0.243190   \n",
       "4                 839   208   631        0.0839    0.087986     0.082635   \n",
       "5                   8     3     5        0.0008    0.001269     0.000655   \n",
       "\n",
       "                  WOE       WOE%  \n",
       "V1_Segments                       \n",
       "1            0.327443  32.744271  \n",
       "2            0.389852  38.985160  \n",
       "3           -0.564496 -56.449646  \n",
       "4           -0.062751  -6.275102  \n",
       "5           -0.661693 -66.169318  "
      ]
     },
     "execution_count": 58,
     "metadata": {},
     "output_type": "execute_result"
    }
   ],
   "source": [
    "# Building V1 WOE table\n",
    "v1_good = V1_pivoted.ID[0]\n",
    "v1_bad = V1_pivoted.ID[1]\n",
    "\n",
    "# Extracting the dictionary\n",
    "V1_Segments = dict(Counter(a_db['V1']))\n",
    "\n",
    "# Columns counting \n",
    "V1 = pd.DataFrame.from_dict(V1_Segments, orient='index').reset_index().rename(columns={\"index\": \"V1_Segments\",0: \"Counting\"}).set_index('V1_Segments')\n",
    "\n",
    "frames = [v1_good,v1_bad,V1]\n",
    "\n",
    "# Bad/Good Countings\n",
    "V1['Bad'] = v1_bad\n",
    "V1['Good'] = v1_good\n",
    "\n",
    "# Calculate WOE\n",
    "V1['Total_Distri'] = V1['Counting']/sum(V1['Counting'])\n",
    "V1['Bad_Distri'] = V1['Bad']/sum(V1['Bad'])\n",
    "V1['Good_Distri'] = V1['Good']/sum(V1['Good'])\n",
    "V1['WOE'] = np.log(V1['Good_Distri'] / V1['Bad_Distri'])\n",
    "V1['WOE%'] = V1['WOE'] * 100\n",
    "\n",
    "V1"
   ]
  },
  {
   "cell_type": "code",
   "execution_count": 59,
   "metadata": {},
   "outputs": [
    {
     "data": {
      "text/plain": [
       "0.1683310547565218"
      ]
     },
     "execution_count": 59,
     "metadata": {},
     "output_type": "execute_result"
    }
   ],
   "source": [
    "# Information Value\n",
    "IV_V1 = sum((V1['Good_Distri']-V1['Bad_Distri'])*V1['WOE'])\n",
    "IV_V1"
   ]
  },
  {
   "cell_type": "markdown",
   "metadata": {},
   "source": [
    "Considering this level of Information Value, we can tell V1 feature has a medium predictive power."
   ]
  },
  {
   "cell_type": "markdown",
   "metadata": {},
   "source": [
    "***V2 WOE:***"
   ]
  },
  {
   "cell_type": "code",
   "execution_count": 60,
   "metadata": {},
   "outputs": [
    {
     "data": {
      "text/html": [
       "<div>\n",
       "<style scoped>\n",
       "    .dataframe tbody tr th:only-of-type {\n",
       "        vertical-align: middle;\n",
       "    }\n",
       "\n",
       "    .dataframe tbody tr th {\n",
       "        vertical-align: top;\n",
       "    }\n",
       "\n",
       "    .dataframe thead tr th {\n",
       "        text-align: left;\n",
       "    }\n",
       "\n",
       "    .dataframe thead tr:last-of-type th {\n",
       "        text-align: right;\n",
       "    }\n",
       "</style>\n",
       "<table border=\"1\" class=\"dataframe\">\n",
       "  <thead>\n",
       "    <tr>\n",
       "      <th></th>\n",
       "      <th colspan=\"2\" halign=\"left\">ID</th>\n",
       "    </tr>\n",
       "    <tr>\n",
       "      <th>Default_45</th>\n",
       "      <th>0</th>\n",
       "      <th>1</th>\n",
       "    </tr>\n",
       "    <tr>\n",
       "      <th>V2</th>\n",
       "      <th></th>\n",
       "      <th></th>\n",
       "    </tr>\n",
       "  </thead>\n",
       "  <tbody>\n",
       "    <tr>\n",
       "      <th>1</th>\n",
       "      <td>890</td>\n",
       "      <td>168</td>\n",
       "    </tr>\n",
       "    <tr>\n",
       "      <th>2</th>\n",
       "      <td>250</td>\n",
       "      <td>43</td>\n",
       "    </tr>\n",
       "    <tr>\n",
       "      <th>3</th>\n",
       "      <td>2862</td>\n",
       "      <td>984</td>\n",
       "    </tr>\n",
       "    <tr>\n",
       "      <th>4</th>\n",
       "      <td>1845</td>\n",
       "      <td>426</td>\n",
       "    </tr>\n",
       "    <tr>\n",
       "      <th>5</th>\n",
       "      <td>1764</td>\n",
       "      <td>740</td>\n",
       "    </tr>\n",
       "    <tr>\n",
       "      <th>6</th>\n",
       "      <td>25</td>\n",
       "      <td>3</td>\n",
       "    </tr>\n",
       "  </tbody>\n",
       "</table>\n",
       "</div>"
      ],
      "text/plain": [
       "              ID     \n",
       "Default_45     0    1\n",
       "V2                   \n",
       "1            890  168\n",
       "2            250   43\n",
       "3           2862  984\n",
       "4           1845  426\n",
       "5           1764  740\n",
       "6             25    3"
      ]
     },
     "execution_count": 60,
     "metadata": {},
     "output_type": "execute_result"
    }
   ],
   "source": [
    "# Pivoting the V2\n",
    "V2_p = a_db[['ID','V2','Default_45']]\n",
    "V2_pivoted = V2_p.pivot_table(V2_p,index= ['V2'],columns='Default_45', aggfunc='count',fill_value=0)\n",
    "#V2_pivoted = pd.DataFrame(V2_pivoted.unstack()).reset_index().rename(columns={\"Default_45\": \"Target\",0: \"Counting\"})\n",
    "#V2_pivoted = V2_pivoted.drop(['level_0','V2'],axis=1)\n",
    "V2_pivoted"
   ]
  },
  {
   "cell_type": "code",
   "execution_count": 61,
   "metadata": {},
   "outputs": [
    {
     "data": {
      "text/html": [
       "<div>\n",
       "<style scoped>\n",
       "    .dataframe tbody tr th:only-of-type {\n",
       "        vertical-align: middle;\n",
       "    }\n",
       "\n",
       "    .dataframe tbody tr th {\n",
       "        vertical-align: top;\n",
       "    }\n",
       "\n",
       "    .dataframe thead th {\n",
       "        text-align: right;\n",
       "    }\n",
       "</style>\n",
       "<table border=\"1\" class=\"dataframe\">\n",
       "  <thead>\n",
       "    <tr style=\"text-align: right;\">\n",
       "      <th></th>\n",
       "      <th>Counting</th>\n",
       "      <th>Bad</th>\n",
       "      <th>Good</th>\n",
       "      <th>Total_Distri</th>\n",
       "      <th>Bad_Distri</th>\n",
       "      <th>Good_Distri</th>\n",
       "      <th>WOE</th>\n",
       "      <th>WOE%</th>\n",
       "    </tr>\n",
       "    <tr>\n",
       "      <th>V2_Segments</th>\n",
       "      <th></th>\n",
       "      <th></th>\n",
       "      <th></th>\n",
       "      <th></th>\n",
       "      <th></th>\n",
       "      <th></th>\n",
       "      <th></th>\n",
       "      <th></th>\n",
       "    </tr>\n",
       "  </thead>\n",
       "  <tbody>\n",
       "    <tr>\n",
       "      <th>1</th>\n",
       "      <td>1058</td>\n",
       "      <td>168</td>\n",
       "      <td>890</td>\n",
       "      <td>0.1058</td>\n",
       "      <td>0.071066</td>\n",
       "      <td>0.116553</td>\n",
       "      <td>0.494739</td>\n",
       "      <td>49.473868</td>\n",
       "    </tr>\n",
       "    <tr>\n",
       "      <th>2</th>\n",
       "      <td>293</td>\n",
       "      <td>43</td>\n",
       "      <td>250</td>\n",
       "      <td>0.0293</td>\n",
       "      <td>0.018190</td>\n",
       "      <td>0.032740</td>\n",
       "      <td>0.587742</td>\n",
       "      <td>58.774200</td>\n",
       "    </tr>\n",
       "    <tr>\n",
       "      <th>3</th>\n",
       "      <td>3846</td>\n",
       "      <td>984</td>\n",
       "      <td>2862</td>\n",
       "      <td>0.3846</td>\n",
       "      <td>0.416244</td>\n",
       "      <td>0.374804</td>\n",
       "      <td>-0.104869</td>\n",
       "      <td>-10.486874</td>\n",
       "    </tr>\n",
       "    <tr>\n",
       "      <th>4</th>\n",
       "      <td>2271</td>\n",
       "      <td>426</td>\n",
       "      <td>1845</td>\n",
       "      <td>0.2271</td>\n",
       "      <td>0.180203</td>\n",
       "      <td>0.241619</td>\n",
       "      <td>0.293276</td>\n",
       "      <td>29.327640</td>\n",
       "    </tr>\n",
       "    <tr>\n",
       "      <th>5</th>\n",
       "      <td>2504</td>\n",
       "      <td>740</td>\n",
       "      <td>1764</td>\n",
       "      <td>0.2504</td>\n",
       "      <td>0.313029</td>\n",
       "      <td>0.231011</td>\n",
       "      <td>-0.303830</td>\n",
       "      <td>-30.382976</td>\n",
       "    </tr>\n",
       "    <tr>\n",
       "      <th>6</th>\n",
       "      <td>28</td>\n",
       "      <td>3</td>\n",
       "      <td>25</td>\n",
       "      <td>0.0028</td>\n",
       "      <td>0.001269</td>\n",
       "      <td>0.003274</td>\n",
       "      <td>0.947745</td>\n",
       "      <td>94.774473</td>\n",
       "    </tr>\n",
       "  </tbody>\n",
       "</table>\n",
       "</div>"
      ],
      "text/plain": [
       "             Counting  Bad  Good  Total_Distri  Bad_Distri  Good_Distri  \\\n",
       "V2_Segments                                                               \n",
       "1                1058  168   890        0.1058    0.071066     0.116553   \n",
       "2                 293   43   250        0.0293    0.018190     0.032740   \n",
       "3                3846  984  2862        0.3846    0.416244     0.374804   \n",
       "4                2271  426  1845        0.2271    0.180203     0.241619   \n",
       "5                2504  740  1764        0.2504    0.313029     0.231011   \n",
       "6                  28    3    25        0.0028    0.001269     0.003274   \n",
       "\n",
       "                  WOE       WOE%  \n",
       "V2_Segments                       \n",
       "1            0.494739  49.473868  \n",
       "2            0.587742  58.774200  \n",
       "3           -0.104869 -10.486874  \n",
       "4            0.293276  29.327640  \n",
       "5           -0.303830 -30.382976  \n",
       "6            0.947745  94.774473  "
      ]
     },
     "execution_count": 61,
     "metadata": {},
     "output_type": "execute_result"
    }
   ],
   "source": [
    "# Building V2 WOE table\n",
    "V2_good = V2_pivoted.ID[0]\n",
    "V2_bad = V2_pivoted.ID[1]\n",
    "\n",
    "# Extracting the dictionary\n",
    "V2_Segments = dict(Counter(a_db['V2']))\n",
    "\n",
    "# Columns counting \n",
    "V2 = pd.DataFrame.from_dict(V2_Segments, orient='index').reset_index().rename(columns={\"index\": \"V2_Segments\",0: \"Counting\"}).set_index('V2_Segments')\n",
    "\n",
    "frames = [V2_good,V2_bad,V2]\n",
    "\n",
    "# Bad/Good Countings\n",
    "V2['Bad'] = V2_bad\n",
    "V2['Good'] = V2_good\n",
    "\n",
    "# Calculate WOE\n",
    "V2['Total_Distri'] = V2['Counting']/sum(V2['Counting'])\n",
    "V2['Bad_Distri'] = V2['Bad']/sum(V2['Bad'])\n",
    "V2['Good_Distri'] = V2['Good']/sum(V2['Good'])\n",
    "V2['WOE'] = np.log(V2['Good_Distri'] / V2['Bad_Distri'])\n",
    "V2['WOE%'] = V2['WOE'] * 100\n",
    "\n",
    "V2"
   ]
  },
  {
   "cell_type": "code",
   "execution_count": 62,
   "metadata": {},
   "outputs": [
    {
     "data": {
      "text/plain": [
       "0.08023311480406797"
      ]
     },
     "execution_count": 62,
     "metadata": {},
     "output_type": "execute_result"
    }
   ],
   "source": [
    "# Information Value\n",
    "IV_V2 = sum((V2['Good_Distri']-V2['Bad_Distri'])*V2['WOE'])\n",
    "IV_V2"
   ]
  },
  {
   "cell_type": "markdown",
   "metadata": {},
   "source": [
    "Considering this level of Information Value, we can tell V2 feature has a weak predictive power."
   ]
  },
  {
   "cell_type": "markdown",
   "metadata": {},
   "source": [
    "***V3 WOE:***"
   ]
  },
  {
   "cell_type": "code",
   "execution_count": 63,
   "metadata": {},
   "outputs": [
    {
     "data": {
      "text/html": [
       "<div>\n",
       "<style scoped>\n",
       "    .dataframe tbody tr th:only-of-type {\n",
       "        vertical-align: middle;\n",
       "    }\n",
       "\n",
       "    .dataframe tbody tr th {\n",
       "        vertical-align: top;\n",
       "    }\n",
       "\n",
       "    .dataframe thead tr th {\n",
       "        text-align: left;\n",
       "    }\n",
       "\n",
       "    .dataframe thead tr:last-of-type th {\n",
       "        text-align: right;\n",
       "    }\n",
       "</style>\n",
       "<table border=\"1\" class=\"dataframe\">\n",
       "  <thead>\n",
       "    <tr>\n",
       "      <th></th>\n",
       "      <th colspan=\"2\" halign=\"left\">ID</th>\n",
       "    </tr>\n",
       "    <tr>\n",
       "      <th>Default_45</th>\n",
       "      <th>0</th>\n",
       "      <th>1</th>\n",
       "    </tr>\n",
       "    <tr>\n",
       "      <th>V3</th>\n",
       "      <th></th>\n",
       "      <th></th>\n",
       "    </tr>\n",
       "  </thead>\n",
       "  <tbody>\n",
       "    <tr>\n",
       "      <th>1</th>\n",
       "      <td>156</td>\n",
       "      <td>35</td>\n",
       "    </tr>\n",
       "    <tr>\n",
       "      <th>2</th>\n",
       "      <td>764</td>\n",
       "      <td>264</td>\n",
       "    </tr>\n",
       "    <tr>\n",
       "      <th>3</th>\n",
       "      <td>365</td>\n",
       "      <td>184</td>\n",
       "    </tr>\n",
       "    <tr>\n",
       "      <th>4</th>\n",
       "      <td>151</td>\n",
       "      <td>42</td>\n",
       "    </tr>\n",
       "    <tr>\n",
       "      <th>5</th>\n",
       "      <td>250</td>\n",
       "      <td>27</td>\n",
       "    </tr>\n",
       "    <tr>\n",
       "      <th>6</th>\n",
       "      <td>51</td>\n",
       "      <td>19</td>\n",
       "    </tr>\n",
       "    <tr>\n",
       "      <th>7</th>\n",
       "      <td>221</td>\n",
       "      <td>41</td>\n",
       "    </tr>\n",
       "    <tr>\n",
       "      <th>8</th>\n",
       "      <td>77</td>\n",
       "      <td>30</td>\n",
       "    </tr>\n",
       "    <tr>\n",
       "      <th>9</th>\n",
       "      <td>13</td>\n",
       "      <td>3</td>\n",
       "    </tr>\n",
       "    <tr>\n",
       "      <th>10</th>\n",
       "      <td>1841</td>\n",
       "      <td>800</td>\n",
       "    </tr>\n",
       "    <tr>\n",
       "      <th>11</th>\n",
       "      <td>2757</td>\n",
       "      <td>601</td>\n",
       "    </tr>\n",
       "    <tr>\n",
       "      <th>12</th>\n",
       "      <td>295</td>\n",
       "      <td>43</td>\n",
       "    </tr>\n",
       "    <tr>\n",
       "      <th>13</th>\n",
       "      <td>179</td>\n",
       "      <td>62</td>\n",
       "    </tr>\n",
       "    <tr>\n",
       "      <th>14</th>\n",
       "      <td>242</td>\n",
       "      <td>122</td>\n",
       "    </tr>\n",
       "    <tr>\n",
       "      <th>15</th>\n",
       "      <td>274</td>\n",
       "      <td>91</td>\n",
       "    </tr>\n",
       "  </tbody>\n",
       "</table>\n",
       "</div>"
      ],
      "text/plain": [
       "              ID     \n",
       "Default_45     0    1\n",
       "V3                   \n",
       "1            156   35\n",
       "2            764  264\n",
       "3            365  184\n",
       "4            151   42\n",
       "5            250   27\n",
       "6             51   19\n",
       "7            221   41\n",
       "8             77   30\n",
       "9             13    3\n",
       "10          1841  800\n",
       "11          2757  601\n",
       "12           295   43\n",
       "13           179   62\n",
       "14           242  122\n",
       "15           274   91"
      ]
     },
     "execution_count": 63,
     "metadata": {},
     "output_type": "execute_result"
    }
   ],
   "source": [
    "# Pivoting the V3\n",
    "V3_p = a_db[['ID','V3','Default_45']]\n",
    "V3_pivoted = V3_p.pivot_table(V3_p,index= ['V3'],columns='Default_45', aggfunc='count',fill_value=0)\n",
    "V3_pivoted"
   ]
  },
  {
   "cell_type": "code",
   "execution_count": 64,
   "metadata": {},
   "outputs": [
    {
     "data": {
      "text/html": [
       "<div>\n",
       "<style scoped>\n",
       "    .dataframe tbody tr th:only-of-type {\n",
       "        vertical-align: middle;\n",
       "    }\n",
       "\n",
       "    .dataframe tbody tr th {\n",
       "        vertical-align: top;\n",
       "    }\n",
       "\n",
       "    .dataframe thead th {\n",
       "        text-align: right;\n",
       "    }\n",
       "</style>\n",
       "<table border=\"1\" class=\"dataframe\">\n",
       "  <thead>\n",
       "    <tr style=\"text-align: right;\">\n",
       "      <th></th>\n",
       "      <th>Counting</th>\n",
       "      <th>Bad</th>\n",
       "      <th>Good</th>\n",
       "      <th>Total_Distri</th>\n",
       "      <th>Bad_Distri</th>\n",
       "      <th>Good_Distri</th>\n",
       "      <th>WOE</th>\n",
       "      <th>WOE%</th>\n",
       "    </tr>\n",
       "    <tr>\n",
       "      <th>V3_Segments</th>\n",
       "      <th></th>\n",
       "      <th></th>\n",
       "      <th></th>\n",
       "      <th></th>\n",
       "      <th></th>\n",
       "      <th></th>\n",
       "      <th></th>\n",
       "      <th></th>\n",
       "    </tr>\n",
       "  </thead>\n",
       "  <tbody>\n",
       "    <tr>\n",
       "      <th>11</th>\n",
       "      <td>3358</td>\n",
       "      <td>601</td>\n",
       "      <td>2757</td>\n",
       "      <td>0.3358</td>\n",
       "      <td>0.254230</td>\n",
       "      <td>0.361053</td>\n",
       "      <td>0.350785</td>\n",
       "      <td>35.078467</td>\n",
       "    </tr>\n",
       "    <tr>\n",
       "      <th>6</th>\n",
       "      <td>70</td>\n",
       "      <td>19</td>\n",
       "      <td>51</td>\n",
       "      <td>0.0070</td>\n",
       "      <td>0.008037</td>\n",
       "      <td>0.006679</td>\n",
       "      <td>-0.185132</td>\n",
       "      <td>-18.513215</td>\n",
       "    </tr>\n",
       "    <tr>\n",
       "      <th>10</th>\n",
       "      <td>2641</td>\n",
       "      <td>800</td>\n",
       "      <td>1841</td>\n",
       "      <td>0.2641</td>\n",
       "      <td>0.338409</td>\n",
       "      <td>0.241095</td>\n",
       "      <td>-0.339066</td>\n",
       "      <td>-33.906635</td>\n",
       "    </tr>\n",
       "    <tr>\n",
       "      <th>5</th>\n",
       "      <td>277</td>\n",
       "      <td>27</td>\n",
       "      <td>250</td>\n",
       "      <td>0.0277</td>\n",
       "      <td>0.011421</td>\n",
       "      <td>0.032740</td>\n",
       "      <td>1.053105</td>\n",
       "      <td>105.310525</td>\n",
       "    </tr>\n",
       "    <tr>\n",
       "      <th>12</th>\n",
       "      <td>338</td>\n",
       "      <td>43</td>\n",
       "      <td>295</td>\n",
       "      <td>0.0338</td>\n",
       "      <td>0.018190</td>\n",
       "      <td>0.038633</td>\n",
       "      <td>0.753256</td>\n",
       "      <td>75.325643</td>\n",
       "    </tr>\n",
       "    <tr>\n",
       "      <th>14</th>\n",
       "      <td>364</td>\n",
       "      <td>122</td>\n",
       "      <td>242</td>\n",
       "      <td>0.0364</td>\n",
       "      <td>0.051607</td>\n",
       "      <td>0.031692</td>\n",
       "      <td>-0.487602</td>\n",
       "      <td>-48.760212</td>\n",
       "    </tr>\n",
       "    <tr>\n",
       "      <th>15</th>\n",
       "      <td>365</td>\n",
       "      <td>91</td>\n",
       "      <td>274</td>\n",
       "      <td>0.0365</td>\n",
       "      <td>0.038494</td>\n",
       "      <td>0.035883</td>\n",
       "      <td>-0.070250</td>\n",
       "      <td>-7.025021</td>\n",
       "    </tr>\n",
       "    <tr>\n",
       "      <th>3</th>\n",
       "      <td>549</td>\n",
       "      <td>184</td>\n",
       "      <td>365</td>\n",
       "      <td>0.0549</td>\n",
       "      <td>0.077834</td>\n",
       "      <td>0.047800</td>\n",
       "      <td>-0.487557</td>\n",
       "      <td>-48.755721</td>\n",
       "    </tr>\n",
       "    <tr>\n",
       "      <th>2</th>\n",
       "      <td>1028</td>\n",
       "      <td>264</td>\n",
       "      <td>764</td>\n",
       "      <td>0.1028</td>\n",
       "      <td>0.111675</td>\n",
       "      <td>0.100052</td>\n",
       "      <td>-0.109900</td>\n",
       "      <td>-10.990012</td>\n",
       "    </tr>\n",
       "    <tr>\n",
       "      <th>13</th>\n",
       "      <td>241</td>\n",
       "      <td>62</td>\n",
       "      <td>179</td>\n",
       "      <td>0.0241</td>\n",
       "      <td>0.026227</td>\n",
       "      <td>0.023442</td>\n",
       "      <td>-0.112267</td>\n",
       "      <td>-11.226739</td>\n",
       "    </tr>\n",
       "    <tr>\n",
       "      <th>1</th>\n",
       "      <td>191</td>\n",
       "      <td>35</td>\n",
       "      <td>156</td>\n",
       "      <td>0.0191</td>\n",
       "      <td>0.014805</td>\n",
       "      <td>0.020430</td>\n",
       "      <td>0.321989</td>\n",
       "      <td>32.198914</td>\n",
       "    </tr>\n",
       "    <tr>\n",
       "      <th>7</th>\n",
       "      <td>262</td>\n",
       "      <td>41</td>\n",
       "      <td>221</td>\n",
       "      <td>0.0262</td>\n",
       "      <td>0.017343</td>\n",
       "      <td>0.028942</td>\n",
       "      <td>0.512072</td>\n",
       "      <td>51.207183</td>\n",
       "    </tr>\n",
       "    <tr>\n",
       "      <th>4</th>\n",
       "      <td>193</td>\n",
       "      <td>42</td>\n",
       "      <td>151</td>\n",
       "      <td>0.0193</td>\n",
       "      <td>0.017766</td>\n",
       "      <td>0.019775</td>\n",
       "      <td>0.107091</td>\n",
       "      <td>10.709141</td>\n",
       "    </tr>\n",
       "    <tr>\n",
       "      <th>8</th>\n",
       "      <td>107</td>\n",
       "      <td>30</td>\n",
       "      <td>77</td>\n",
       "      <td>0.0107</td>\n",
       "      <td>0.012690</td>\n",
       "      <td>0.010084</td>\n",
       "      <td>-0.229911</td>\n",
       "      <td>-22.991077</td>\n",
       "    </tr>\n",
       "    <tr>\n",
       "      <th>9</th>\n",
       "      <td>16</td>\n",
       "      <td>3</td>\n",
       "      <td>13</td>\n",
       "      <td>0.0016</td>\n",
       "      <td>0.001269</td>\n",
       "      <td>0.001702</td>\n",
       "      <td>0.293818</td>\n",
       "      <td>29.381826</td>\n",
       "    </tr>\n",
       "  </tbody>\n",
       "</table>\n",
       "</div>"
      ],
      "text/plain": [
       "             Counting  Bad  Good  Total_Distri  Bad_Distri  Good_Distri  \\\n",
       "V3_Segments                                                               \n",
       "11               3358  601  2757        0.3358    0.254230     0.361053   \n",
       "6                  70   19    51        0.0070    0.008037     0.006679   \n",
       "10               2641  800  1841        0.2641    0.338409     0.241095   \n",
       "5                 277   27   250        0.0277    0.011421     0.032740   \n",
       "12                338   43   295        0.0338    0.018190     0.038633   \n",
       "14                364  122   242        0.0364    0.051607     0.031692   \n",
       "15                365   91   274        0.0365    0.038494     0.035883   \n",
       "3                 549  184   365        0.0549    0.077834     0.047800   \n",
       "2                1028  264   764        0.1028    0.111675     0.100052   \n",
       "13                241   62   179        0.0241    0.026227     0.023442   \n",
       "1                 191   35   156        0.0191    0.014805     0.020430   \n",
       "7                 262   41   221        0.0262    0.017343     0.028942   \n",
       "4                 193   42   151        0.0193    0.017766     0.019775   \n",
       "8                 107   30    77        0.0107    0.012690     0.010084   \n",
       "9                  16    3    13        0.0016    0.001269     0.001702   \n",
       "\n",
       "                  WOE        WOE%  \n",
       "V3_Segments                        \n",
       "11           0.350785   35.078467  \n",
       "6           -0.185132  -18.513215  \n",
       "10          -0.339066  -33.906635  \n",
       "5            1.053105  105.310525  \n",
       "12           0.753256   75.325643  \n",
       "14          -0.487602  -48.760212  \n",
       "15          -0.070250   -7.025021  \n",
       "3           -0.487557  -48.755721  \n",
       "2           -0.109900  -10.990012  \n",
       "13          -0.112267  -11.226739  \n",
       "1            0.321989   32.198914  \n",
       "7            0.512072   51.207183  \n",
       "4            0.107091   10.709141  \n",
       "8           -0.229911  -22.991077  \n",
       "9            0.293818   29.381826  "
      ]
     },
     "execution_count": 64,
     "metadata": {},
     "output_type": "execute_result"
    }
   ],
   "source": [
    "# Building V3 WOE table\n",
    "V3_good = V3_pivoted.ID[0]\n",
    "V3_bad = V3_pivoted.ID[1]\n",
    "\n",
    "# Extracting the dictionary\n",
    "V3_Segments = dict(Counter(a_db['V3']))\n",
    "\n",
    "# Columns counting \n",
    "V3 = pd.DataFrame.from_dict(V3_Segments, orient='index').reset_index().rename(columns={\"index\": \"V3_Segments\",0: \"Counting\"}).set_index('V3_Segments')\n",
    "\n",
    "frames = [V3_good,V3_bad,V3]\n",
    "\n",
    "# Bad/Good Countings\n",
    "V3['Bad'] = V3_bad\n",
    "V3['Good'] = V3_good\n",
    "\n",
    "# Calculate WOE\n",
    "V3['Total_Distri'] = V3['Counting']/sum(V3['Counting'])\n",
    "V3['Bad_Distri'] = V3['Bad']/sum(V3['Bad'])\n",
    "V3['Good_Distri'] = V3['Good']/sum(V3['Good'])\n",
    "V3['WOE'] = np.log(V3['Good_Distri'] / V3['Bad_Distri'])\n",
    "V3['WOE%'] = V3['WOE'] * 100\n",
    "\n",
    "V3"
   ]
  },
  {
   "cell_type": "code",
   "execution_count": 65,
   "metadata": {},
   "outputs": [
    {
     "data": {
      "text/plain": [
       "0.14338840003232295"
      ]
     },
     "execution_count": 65,
     "metadata": {},
     "output_type": "execute_result"
    }
   ],
   "source": [
    "# Information Value\n",
    "IV_V3 = sum((V3['Good_Distri']-V3['Bad_Distri'])*V3['WOE'])\n",
    "IV_V3"
   ]
  },
  {
   "cell_type": "markdown",
   "metadata": {},
   "source": [
    "Considering this level of Information Value, we can tell V3 feature has a medium predictive power."
   ]
  },
  {
   "cell_type": "markdown",
   "metadata": {},
   "source": [
    "***V4 WOE:***"
   ]
  },
  {
   "cell_type": "code",
   "execution_count": 66,
   "metadata": {},
   "outputs": [
    {
     "data": {
      "text/html": [
       "<div>\n",
       "<style scoped>\n",
       "    .dataframe tbody tr th:only-of-type {\n",
       "        vertical-align: middle;\n",
       "    }\n",
       "\n",
       "    .dataframe tbody tr th {\n",
       "        vertical-align: top;\n",
       "    }\n",
       "\n",
       "    .dataframe thead tr th {\n",
       "        text-align: left;\n",
       "    }\n",
       "\n",
       "    .dataframe thead tr:last-of-type th {\n",
       "        text-align: right;\n",
       "    }\n",
       "</style>\n",
       "<table border=\"1\" class=\"dataframe\">\n",
       "  <thead>\n",
       "    <tr>\n",
       "      <th></th>\n",
       "      <th colspan=\"2\" halign=\"left\">ID</th>\n",
       "    </tr>\n",
       "    <tr>\n",
       "      <th>Default_45</th>\n",
       "      <th>0</th>\n",
       "      <th>1</th>\n",
       "    </tr>\n",
       "    <tr>\n",
       "      <th>V4</th>\n",
       "      <th></th>\n",
       "      <th></th>\n",
       "    </tr>\n",
       "  </thead>\n",
       "  <tbody>\n",
       "    <tr>\n",
       "      <th>1</th>\n",
       "      <td>1078</td>\n",
       "      <td>295</td>\n",
       "    </tr>\n",
       "    <tr>\n",
       "      <th>2</th>\n",
       "      <td>1438</td>\n",
       "      <td>507</td>\n",
       "    </tr>\n",
       "    <tr>\n",
       "      <th>3</th>\n",
       "      <td>692</td>\n",
       "      <td>258</td>\n",
       "    </tr>\n",
       "    <tr>\n",
       "      <th>4</th>\n",
       "      <td>2568</td>\n",
       "      <td>1046</td>\n",
       "    </tr>\n",
       "    <tr>\n",
       "      <th>5</th>\n",
       "      <td>1858</td>\n",
       "      <td>257</td>\n",
       "    </tr>\n",
       "    <tr>\n",
       "      <th>6</th>\n",
       "      <td>2</td>\n",
       "      <td>1</td>\n",
       "    </tr>\n",
       "  </tbody>\n",
       "</table>\n",
       "</div>"
      ],
      "text/plain": [
       "              ID      \n",
       "Default_45     0     1\n",
       "V4                    \n",
       "1           1078   295\n",
       "2           1438   507\n",
       "3            692   258\n",
       "4           2568  1046\n",
       "5           1858   257\n",
       "6              2     1"
      ]
     },
     "execution_count": 66,
     "metadata": {},
     "output_type": "execute_result"
    }
   ],
   "source": [
    "# Pivoting the V4\n",
    "V4_p = a_db[['ID','V4','Default_45']]\n",
    "V4_pivoted = V4_p.pivot_table(V4_p,index= ['V4'],columns='Default_45', aggfunc='count',fill_value=0)\n",
    "V4_pivoted"
   ]
  },
  {
   "cell_type": "code",
   "execution_count": 67,
   "metadata": {},
   "outputs": [
    {
     "data": {
      "text/html": [
       "<div>\n",
       "<style scoped>\n",
       "    .dataframe tbody tr th:only-of-type {\n",
       "        vertical-align: middle;\n",
       "    }\n",
       "\n",
       "    .dataframe tbody tr th {\n",
       "        vertical-align: top;\n",
       "    }\n",
       "\n",
       "    .dataframe thead th {\n",
       "        text-align: right;\n",
       "    }\n",
       "</style>\n",
       "<table border=\"1\" class=\"dataframe\">\n",
       "  <thead>\n",
       "    <tr style=\"text-align: right;\">\n",
       "      <th></th>\n",
       "      <th>Counting</th>\n",
       "      <th>Bad</th>\n",
       "      <th>Good</th>\n",
       "      <th>Total_Distri</th>\n",
       "      <th>Bad_Distri</th>\n",
       "      <th>Good_Distri</th>\n",
       "      <th>WOE</th>\n",
       "      <th>WOE%</th>\n",
       "    </tr>\n",
       "    <tr>\n",
       "      <th>V4_Segments</th>\n",
       "      <th></th>\n",
       "      <th></th>\n",
       "      <th></th>\n",
       "      <th></th>\n",
       "      <th></th>\n",
       "      <th></th>\n",
       "      <th></th>\n",
       "      <th></th>\n",
       "    </tr>\n",
       "  </thead>\n",
       "  <tbody>\n",
       "    <tr>\n",
       "      <th>5</th>\n",
       "      <td>2115</td>\n",
       "      <td>257</td>\n",
       "      <td>1858</td>\n",
       "      <td>0.2115</td>\n",
       "      <td>0.108714</td>\n",
       "      <td>0.243321</td>\n",
       "      <td>0.805661</td>\n",
       "      <td>80.566103</td>\n",
       "    </tr>\n",
       "    <tr>\n",
       "      <th>4</th>\n",
       "      <td>3614</td>\n",
       "      <td>1046</td>\n",
       "      <td>2568</td>\n",
       "      <td>0.3614</td>\n",
       "      <td>0.442470</td>\n",
       "      <td>0.336302</td>\n",
       "      <td>-0.274365</td>\n",
       "      <td>-27.436479</td>\n",
       "    </tr>\n",
       "    <tr>\n",
       "      <th>2</th>\n",
       "      <td>1945</td>\n",
       "      <td>507</td>\n",
       "      <td>1438</td>\n",
       "      <td>0.1945</td>\n",
       "      <td>0.214467</td>\n",
       "      <td>0.188318</td>\n",
       "      <td>-0.130021</td>\n",
       "      <td>-13.002127</td>\n",
       "    </tr>\n",
       "    <tr>\n",
       "      <th>3</th>\n",
       "      <td>950</td>\n",
       "      <td>258</td>\n",
       "      <td>692</td>\n",
       "      <td>0.0950</td>\n",
       "      <td>0.109137</td>\n",
       "      <td>0.090623</td>\n",
       "      <td>-0.185892</td>\n",
       "      <td>-18.589244</td>\n",
       "    </tr>\n",
       "    <tr>\n",
       "      <th>1</th>\n",
       "      <td>1373</td>\n",
       "      <td>295</td>\n",
       "      <td>1078</td>\n",
       "      <td>0.1373</td>\n",
       "      <td>0.124788</td>\n",
       "      <td>0.141173</td>\n",
       "      <td>0.123369</td>\n",
       "      <td>12.336859</td>\n",
       "    </tr>\n",
       "    <tr>\n",
       "      <th>6</th>\n",
       "      <td>3</td>\n",
       "      <td>1</td>\n",
       "      <td>2</td>\n",
       "      <td>0.0003</td>\n",
       "      <td>0.000423</td>\n",
       "      <td>0.000262</td>\n",
       "      <td>-0.479372</td>\n",
       "      <td>-47.937163</td>\n",
       "    </tr>\n",
       "  </tbody>\n",
       "</table>\n",
       "</div>"
      ],
      "text/plain": [
       "             Counting   Bad  Good  Total_Distri  Bad_Distri  Good_Distri  \\\n",
       "V4_Segments                                                                \n",
       "5                2115   257  1858        0.2115    0.108714     0.243321   \n",
       "4                3614  1046  2568        0.3614    0.442470     0.336302   \n",
       "2                1945   507  1438        0.1945    0.214467     0.188318   \n",
       "3                 950   258   692        0.0950    0.109137     0.090623   \n",
       "1                1373   295  1078        0.1373    0.124788     0.141173   \n",
       "6                   3     1     2        0.0003    0.000423     0.000262   \n",
       "\n",
       "                  WOE       WOE%  \n",
       "V4_Segments                       \n",
       "5            0.805661  80.566103  \n",
       "4           -0.274365 -27.436479  \n",
       "2           -0.130021 -13.002127  \n",
       "3           -0.185892 -18.589244  \n",
       "1            0.123369  12.336859  \n",
       "6           -0.479372 -47.937163  "
      ]
     },
     "execution_count": 67,
     "metadata": {},
     "output_type": "execute_result"
    }
   ],
   "source": [
    "# Building V4 WOE table\n",
    "V4_good = V4_pivoted.ID[0]\n",
    "V4_bad = V4_pivoted.ID[1]\n",
    "\n",
    "# Extracting the dictionary\n",
    "V4_Segments = dict(Counter(a_db['V4']))\n",
    "\n",
    "# Columns counting \n",
    "V4 = pd.DataFrame.from_dict(V4_Segments, orient='index').reset_index().rename(columns={\"index\": \"V4_Segments\",0: \"Counting\"}).set_index('V4_Segments')\n",
    "\n",
    "frames = [V4_good,V4_bad,V4]\n",
    "\n",
    "# Bad/Good Countings\n",
    "V4['Bad'] = V4_bad\n",
    "V4['Good'] = V4_good\n",
    "\n",
    "# Calculate WOE\n",
    "V4['Total_Distri'] = V4['Counting']/sum(V4['Counting'])\n",
    "V4['Bad_Distri'] = V4['Bad']/sum(V4['Bad'])\n",
    "V4['Good_Distri'] = V4['Good']/sum(V4['Good'])\n",
    "V4['WOE'] = np.log(V4['Good_Distri'] / V4['Bad_Distri'])\n",
    "V4['WOE%'] = V4['WOE'] * 100\n",
    "\n",
    "V4"
   ]
  },
  {
   "cell_type": "code",
   "execution_count": 68,
   "metadata": {},
   "outputs": [
    {
     "data": {
      "text/plain": [
       "0.14651663349079613"
      ]
     },
     "execution_count": 68,
     "metadata": {},
     "output_type": "execute_result"
    }
   ],
   "source": [
    "# Information Value\n",
    "IV_V4 = sum((V4['Good_Distri']-V4['Bad_Distri'])*V4['WOE'])\n",
    "IV_V4"
   ]
  },
  {
   "cell_type": "markdown",
   "metadata": {},
   "source": [
    "Considering this level of Information Value, we can tell V4 feature has a medium predictive power."
   ]
  },
  {
   "cell_type": "markdown",
   "metadata": {},
   "source": [
    "***V5 WOE:***"
   ]
  },
  {
   "cell_type": "code",
   "execution_count": 69,
   "metadata": {},
   "outputs": [
    {
     "data": {
      "text/html": [
       "<div>\n",
       "<style scoped>\n",
       "    .dataframe tbody tr th:only-of-type {\n",
       "        vertical-align: middle;\n",
       "    }\n",
       "\n",
       "    .dataframe tbody tr th {\n",
       "        vertical-align: top;\n",
       "    }\n",
       "\n",
       "    .dataframe thead tr th {\n",
       "        text-align: left;\n",
       "    }\n",
       "\n",
       "    .dataframe thead tr:last-of-type th {\n",
       "        text-align: right;\n",
       "    }\n",
       "</style>\n",
       "<table border=\"1\" class=\"dataframe\">\n",
       "  <thead>\n",
       "    <tr>\n",
       "      <th></th>\n",
       "      <th colspan=\"2\" halign=\"left\">ID</th>\n",
       "    </tr>\n",
       "    <tr>\n",
       "      <th>Default_45</th>\n",
       "      <th>0</th>\n",
       "      <th>1</th>\n",
       "    </tr>\n",
       "    <tr>\n",
       "      <th>V5</th>\n",
       "      <th></th>\n",
       "      <th></th>\n",
       "    </tr>\n",
       "  </thead>\n",
       "  <tbody>\n",
       "    <tr>\n",
       "      <th>1</th>\n",
       "      <td>585</td>\n",
       "      <td>367</td>\n",
       "    </tr>\n",
       "    <tr>\n",
       "      <th>2</th>\n",
       "      <td>1371</td>\n",
       "      <td>784</td>\n",
       "    </tr>\n",
       "    <tr>\n",
       "      <th>3</th>\n",
       "      <td>1255</td>\n",
       "      <td>450</td>\n",
       "    </tr>\n",
       "    <tr>\n",
       "      <th>4</th>\n",
       "      <td>1192</td>\n",
       "      <td>269</td>\n",
       "    </tr>\n",
       "    <tr>\n",
       "      <th>5</th>\n",
       "      <td>715</td>\n",
       "      <td>147</td>\n",
       "    </tr>\n",
       "    <tr>\n",
       "      <th>6</th>\n",
       "      <td>713</td>\n",
       "      <td>99</td>\n",
       "    </tr>\n",
       "    <tr>\n",
       "      <th>7</th>\n",
       "      <td>1805</td>\n",
       "      <td>248</td>\n",
       "    </tr>\n",
       "  </tbody>\n",
       "</table>\n",
       "</div>"
      ],
      "text/plain": [
       "              ID     \n",
       "Default_45     0    1\n",
       "V5                   \n",
       "1            585  367\n",
       "2           1371  784\n",
       "3           1255  450\n",
       "4           1192  269\n",
       "5            715  147\n",
       "6            713   99\n",
       "7           1805  248"
      ]
     },
     "execution_count": 69,
     "metadata": {},
     "output_type": "execute_result"
    }
   ],
   "source": [
    "# Pivoting the V5\n",
    "V5_p = a_db[['ID','V5','Default_45']]\n",
    "V5_pivoted = V5_p.pivot_table(V5_p,index= ['V5'],columns='Default_45', aggfunc='count',fill_value=0)\n",
    "V5_pivoted"
   ]
  },
  {
   "cell_type": "code",
   "execution_count": 70,
   "metadata": {},
   "outputs": [
    {
     "data": {
      "text/html": [
       "<div>\n",
       "<style scoped>\n",
       "    .dataframe tbody tr th:only-of-type {\n",
       "        vertical-align: middle;\n",
       "    }\n",
       "\n",
       "    .dataframe tbody tr th {\n",
       "        vertical-align: top;\n",
       "    }\n",
       "\n",
       "    .dataframe thead th {\n",
       "        text-align: right;\n",
       "    }\n",
       "</style>\n",
       "<table border=\"1\" class=\"dataframe\">\n",
       "  <thead>\n",
       "    <tr style=\"text-align: right;\">\n",
       "      <th></th>\n",
       "      <th>Counting</th>\n",
       "      <th>Bad</th>\n",
       "      <th>Good</th>\n",
       "      <th>Total_Distri</th>\n",
       "      <th>Bad_Distri</th>\n",
       "      <th>Good_Distri</th>\n",
       "      <th>WOE</th>\n",
       "      <th>WOE%</th>\n",
       "    </tr>\n",
       "    <tr>\n",
       "      <th>V5_Segments</th>\n",
       "      <th></th>\n",
       "      <th></th>\n",
       "      <th></th>\n",
       "      <th></th>\n",
       "      <th></th>\n",
       "      <th></th>\n",
       "      <th></th>\n",
       "      <th></th>\n",
       "    </tr>\n",
       "  </thead>\n",
       "  <tbody>\n",
       "    <tr>\n",
       "      <th>6</th>\n",
       "      <td>812</td>\n",
       "      <td>99</td>\n",
       "      <td>713</td>\n",
       "      <td>0.0812</td>\n",
       "      <td>0.041878</td>\n",
       "      <td>0.093373</td>\n",
       "      <td>0.801843</td>\n",
       "      <td>80.184276</td>\n",
       "    </tr>\n",
       "    <tr>\n",
       "      <th>5</th>\n",
       "      <td>862</td>\n",
       "      <td>147</td>\n",
       "      <td>715</td>\n",
       "      <td>0.0862</td>\n",
       "      <td>0.062183</td>\n",
       "      <td>0.093635</td>\n",
       "      <td>0.409331</td>\n",
       "      <td>40.933115</td>\n",
       "    </tr>\n",
       "    <tr>\n",
       "      <th>7</th>\n",
       "      <td>2053</td>\n",
       "      <td>248</td>\n",
       "      <td>1805</td>\n",
       "      <td>0.2053</td>\n",
       "      <td>0.104907</td>\n",
       "      <td>0.236380</td>\n",
       "      <td>0.812368</td>\n",
       "      <td>81.236832</td>\n",
       "    </tr>\n",
       "    <tr>\n",
       "      <th>2</th>\n",
       "      <td>2155</td>\n",
       "      <td>784</td>\n",
       "      <td>1371</td>\n",
       "      <td>0.2155</td>\n",
       "      <td>0.331641</td>\n",
       "      <td>0.179544</td>\n",
       "      <td>-0.613632</td>\n",
       "      <td>-61.363215</td>\n",
       "    </tr>\n",
       "    <tr>\n",
       "      <th>4</th>\n",
       "      <td>1461</td>\n",
       "      <td>269</td>\n",
       "      <td>1192</td>\n",
       "      <td>0.1461</td>\n",
       "      <td>0.113790</td>\n",
       "      <td>0.156103</td>\n",
       "      <td>0.316158</td>\n",
       "      <td>31.615766</td>\n",
       "    </tr>\n",
       "    <tr>\n",
       "      <th>3</th>\n",
       "      <td>1705</td>\n",
       "      <td>450</td>\n",
       "      <td>1255</td>\n",
       "      <td>0.1705</td>\n",
       "      <td>0.190355</td>\n",
       "      <td>0.164353</td>\n",
       "      <td>-0.146876</td>\n",
       "      <td>-14.687554</td>\n",
       "    </tr>\n",
       "    <tr>\n",
       "      <th>1</th>\n",
       "      <td>952</td>\n",
       "      <td>367</td>\n",
       "      <td>585</td>\n",
       "      <td>0.0952</td>\n",
       "      <td>0.155245</td>\n",
       "      <td>0.076611</td>\n",
       "      <td>-0.706269</td>\n",
       "      <td>-70.626881</td>\n",
       "    </tr>\n",
       "  </tbody>\n",
       "</table>\n",
       "</div>"
      ],
      "text/plain": [
       "             Counting  Bad  Good  Total_Distri  Bad_Distri  Good_Distri  \\\n",
       "V5_Segments                                                               \n",
       "6                 812   99   713        0.0812    0.041878     0.093373   \n",
       "5                 862  147   715        0.0862    0.062183     0.093635   \n",
       "7                2053  248  1805        0.2053    0.104907     0.236380   \n",
       "2                2155  784  1371        0.2155    0.331641     0.179544   \n",
       "4                1461  269  1192        0.1461    0.113790     0.156103   \n",
       "3                1705  450  1255        0.1705    0.190355     0.164353   \n",
       "1                 952  367   585        0.0952    0.155245     0.076611   \n",
       "\n",
       "                  WOE       WOE%  \n",
       "V5_Segments                       \n",
       "6            0.801843  80.184276  \n",
       "5            0.409331  40.933115  \n",
       "7            0.812368  81.236832  \n",
       "2           -0.613632 -61.363215  \n",
       "4            0.316158  31.615766  \n",
       "3           -0.146876 -14.687554  \n",
       "1           -0.706269 -70.626881  "
      ]
     },
     "execution_count": 70,
     "metadata": {},
     "output_type": "execute_result"
    }
   ],
   "source": [
    "# Building V5 WOE table\n",
    "V5_good = V5_pivoted.ID[0]\n",
    "V5_bad = V5_pivoted.ID[1]\n",
    "\n",
    "# Extracting the dictionary\n",
    "V5_Segments = dict(Counter(a_db['V5']))\n",
    "\n",
    "# Columns counting \n",
    "V5 = pd.DataFrame.from_dict(V5_Segments, orient='index').reset_index().rename(columns={\"index\": \"V5_Segments\",0: \"Counting\"}).set_index('V5_Segments')\n",
    "\n",
    "frames = [V5_good,V5_bad,V5]\n",
    "\n",
    "# Bad/Good Countings\n",
    "V5['Bad'] = V5_bad\n",
    "V5['Good'] = V5_good\n",
    "\n",
    "# Calculate WOE\n",
    "V5['Total_Distri'] = V5['Counting']/sum(V5['Counting'])\n",
    "V5['Bad_Distri'] = V5['Bad']/sum(V5['Bad'])\n",
    "V5['Good_Distri'] = V5['Good']/sum(V5['Good'])\n",
    "V5['WOE'] = np.log(V5['Good_Distri'] / V5['Bad_Distri'])\n",
    "V5['WOE%'] = V5['WOE'] * 100\n",
    "\n",
    "V5"
   ]
  },
  {
   "cell_type": "code",
   "execution_count": 71,
   "metadata": {},
   "outputs": [
    {
     "data": {
      "text/plain": [
       "0.3270357753289542"
      ]
     },
     "execution_count": 71,
     "metadata": {},
     "output_type": "execute_result"
    }
   ],
   "source": [
    "# Information Value\n",
    "IV_V5 = sum((V5['Good_Distri']-V5['Bad_Distri'])*V5['WOE'])\n",
    "IV_V5"
   ]
  },
  {
   "cell_type": "markdown",
   "metadata": {},
   "source": [
    "Considering this level of Information Value, we can tell V5 feature has a strong predictive power."
   ]
  },
  {
   "cell_type": "markdown",
   "metadata": {},
   "source": [
    "***V6 WOE:***"
   ]
  },
  {
   "cell_type": "code",
   "execution_count": 72,
   "metadata": {},
   "outputs": [
    {
     "data": {
      "text/html": [
       "<div>\n",
       "<style scoped>\n",
       "    .dataframe tbody tr th:only-of-type {\n",
       "        vertical-align: middle;\n",
       "    }\n",
       "\n",
       "    .dataframe tbody tr th {\n",
       "        vertical-align: top;\n",
       "    }\n",
       "\n",
       "    .dataframe thead tr th {\n",
       "        text-align: left;\n",
       "    }\n",
       "\n",
       "    .dataframe thead tr:last-of-type th {\n",
       "        text-align: right;\n",
       "    }\n",
       "</style>\n",
       "<table border=\"1\" class=\"dataframe\">\n",
       "  <thead>\n",
       "    <tr>\n",
       "      <th></th>\n",
       "      <th colspan=\"2\" halign=\"left\">ID</th>\n",
       "    </tr>\n",
       "    <tr>\n",
       "      <th>Default_45</th>\n",
       "      <th>0</th>\n",
       "      <th>1</th>\n",
       "    </tr>\n",
       "    <tr>\n",
       "      <th>V6</th>\n",
       "      <th></th>\n",
       "      <th></th>\n",
       "    </tr>\n",
       "  </thead>\n",
       "  <tbody>\n",
       "    <tr>\n",
       "      <th>1</th>\n",
       "      <td>207</td>\n",
       "      <td>38</td>\n",
       "    </tr>\n",
       "    <tr>\n",
       "      <th>2</th>\n",
       "      <td>221</td>\n",
       "      <td>45</td>\n",
       "    </tr>\n",
       "    <tr>\n",
       "      <th>3</th>\n",
       "      <td>295</td>\n",
       "      <td>43</td>\n",
       "    </tr>\n",
       "    <tr>\n",
       "      <th>4</th>\n",
       "      <td>2384</td>\n",
       "      <td>710</td>\n",
       "    </tr>\n",
       "    <tr>\n",
       "      <th>5</th>\n",
       "      <td>2653</td>\n",
       "      <td>1267</td>\n",
       "    </tr>\n",
       "    <tr>\n",
       "      <th>6</th>\n",
       "      <td>26</td>\n",
       "      <td>17</td>\n",
       "    </tr>\n",
       "    <tr>\n",
       "      <th>7</th>\n",
       "      <td>1850</td>\n",
       "      <td>244</td>\n",
       "    </tr>\n",
       "  </tbody>\n",
       "</table>\n",
       "</div>"
      ],
      "text/plain": [
       "              ID      \n",
       "Default_45     0     1\n",
       "V6                    \n",
       "1            207    38\n",
       "2            221    45\n",
       "3            295    43\n",
       "4           2384   710\n",
       "5           2653  1267\n",
       "6             26    17\n",
       "7           1850   244"
      ]
     },
     "execution_count": 72,
     "metadata": {},
     "output_type": "execute_result"
    }
   ],
   "source": [
    "# Pivoting the V6\n",
    "V6_p = a_db[['ID','V6','Default_45']]\n",
    "V6_pivoted = V6_p.pivot_table(V6_p,index= ['V6'],columns='Default_45', aggfunc='count',fill_value=0)\n",
    "V6_pivoted"
   ]
  },
  {
   "cell_type": "code",
   "execution_count": 73,
   "metadata": {},
   "outputs": [
    {
     "data": {
      "text/html": [
       "<div>\n",
       "<style scoped>\n",
       "    .dataframe tbody tr th:only-of-type {\n",
       "        vertical-align: middle;\n",
       "    }\n",
       "\n",
       "    .dataframe tbody tr th {\n",
       "        vertical-align: top;\n",
       "    }\n",
       "\n",
       "    .dataframe thead th {\n",
       "        text-align: right;\n",
       "    }\n",
       "</style>\n",
       "<table border=\"1\" class=\"dataframe\">\n",
       "  <thead>\n",
       "    <tr style=\"text-align: right;\">\n",
       "      <th></th>\n",
       "      <th>Counting</th>\n",
       "      <th>Bad</th>\n",
       "      <th>Good</th>\n",
       "      <th>Total_Distri</th>\n",
       "      <th>Bad_Distri</th>\n",
       "      <th>Good_Distri</th>\n",
       "      <th>WOE</th>\n",
       "      <th>WOE%</th>\n",
       "    </tr>\n",
       "    <tr>\n",
       "      <th>V6_Segments</th>\n",
       "      <th></th>\n",
       "      <th></th>\n",
       "      <th></th>\n",
       "      <th></th>\n",
       "      <th></th>\n",
       "      <th></th>\n",
       "      <th></th>\n",
       "      <th></th>\n",
       "    </tr>\n",
       "  </thead>\n",
       "  <tbody>\n",
       "    <tr>\n",
       "      <th>7</th>\n",
       "      <td>2094</td>\n",
       "      <td>244</td>\n",
       "      <td>1850</td>\n",
       "      <td>0.2094</td>\n",
       "      <td>0.103215</td>\n",
       "      <td>0.242273</td>\n",
       "      <td>0.853254</td>\n",
       "      <td>85.325389</td>\n",
       "    </tr>\n",
       "    <tr>\n",
       "      <th>1</th>\n",
       "      <td>245</td>\n",
       "      <td>38</td>\n",
       "      <td>207</td>\n",
       "      <td>0.0245</td>\n",
       "      <td>0.016074</td>\n",
       "      <td>0.027108</td>\n",
       "      <td>0.522614</td>\n",
       "      <td>52.261383</td>\n",
       "    </tr>\n",
       "    <tr>\n",
       "      <th>4</th>\n",
       "      <td>3094</td>\n",
       "      <td>710</td>\n",
       "      <td>2384</td>\n",
       "      <td>0.3094</td>\n",
       "      <td>0.300338</td>\n",
       "      <td>0.312205</td>\n",
       "      <td>0.038751</td>\n",
       "      <td>3.875125</td>\n",
       "    </tr>\n",
       "    <tr>\n",
       "      <th>5</th>\n",
       "      <td>3920</td>\n",
       "      <td>1267</td>\n",
       "      <td>2653</td>\n",
       "      <td>0.3920</td>\n",
       "      <td>0.535956</td>\n",
       "      <td>0.347433</td>\n",
       "      <td>-0.433480</td>\n",
       "      <td>-43.347963</td>\n",
       "    </tr>\n",
       "    <tr>\n",
       "      <th>6</th>\n",
       "      <td>43</td>\n",
       "      <td>17</td>\n",
       "      <td>26</td>\n",
       "      <td>0.0043</td>\n",
       "      <td>0.007191</td>\n",
       "      <td>0.003405</td>\n",
       "      <td>-0.747636</td>\n",
       "      <td>-74.763561</td>\n",
       "    </tr>\n",
       "    <tr>\n",
       "      <th>2</th>\n",
       "      <td>266</td>\n",
       "      <td>45</td>\n",
       "      <td>221</td>\n",
       "      <td>0.0266</td>\n",
       "      <td>0.019036</td>\n",
       "      <td>0.028942</td>\n",
       "      <td>0.418981</td>\n",
       "      <td>41.898141</td>\n",
       "    </tr>\n",
       "    <tr>\n",
       "      <th>3</th>\n",
       "      <td>338</td>\n",
       "      <td>43</td>\n",
       "      <td>295</td>\n",
       "      <td>0.0338</td>\n",
       "      <td>0.018190</td>\n",
       "      <td>0.038633</td>\n",
       "      <td>0.753256</td>\n",
       "      <td>75.325643</td>\n",
       "    </tr>\n",
       "  </tbody>\n",
       "</table>\n",
       "</div>"
      ],
      "text/plain": [
       "             Counting   Bad  Good  Total_Distri  Bad_Distri  Good_Distri  \\\n",
       "V6_Segments                                                                \n",
       "7                2094   244  1850        0.2094    0.103215     0.242273   \n",
       "1                 245    38   207        0.0245    0.016074     0.027108   \n",
       "4                3094   710  2384        0.3094    0.300338     0.312205   \n",
       "5                3920  1267  2653        0.3920    0.535956     0.347433   \n",
       "6                  43    17    26        0.0043    0.007191     0.003405   \n",
       "2                 266    45   221        0.0266    0.019036     0.028942   \n",
       "3                 338    43   295        0.0338    0.018190     0.038633   \n",
       "\n",
       "                  WOE       WOE%  \n",
       "V6_Segments                       \n",
       "7            0.853254  85.325389  \n",
       "1            0.522614  52.261383  \n",
       "4            0.038751   3.875125  \n",
       "5           -0.433480 -43.347963  \n",
       "6           -0.747636 -74.763561  \n",
       "2            0.418981  41.898141  \n",
       "3            0.753256  75.325643  "
      ]
     },
     "execution_count": 73,
     "metadata": {},
     "output_type": "execute_result"
    }
   ],
   "source": [
    "# Building V6 WOE table\n",
    "V6_good = V6_pivoted.ID[0]\n",
    "V6_bad = V6_pivoted.ID[1]\n",
    "\n",
    "# Extracting the dictionary\n",
    "V6_Segments = dict(Counter(a_db['V6']))\n",
    "\n",
    "# Columns counting \n",
    "V6 = pd.DataFrame.from_dict(V6_Segments, orient='index').reset_index().rename(columns={\"index\": \"V6_Segments\",0: \"Counting\"}).set_index('V6_Segments')\n",
    "\n",
    "frames = [V6_good,V6_bad,V6]\n",
    "\n",
    "# Bad/Good Countings\n",
    "V6['Bad'] = V6_bad\n",
    "V6['Good'] = V6_good\n",
    "\n",
    "# Calculate WOE\n",
    "V6['Total_Distri'] = V6['Counting']/sum(V6['Counting'])\n",
    "V6['Bad_Distri'] = V6['Bad']/sum(V6['Bad'])\n",
    "V6['Good_Distri'] = V6['Good']/sum(V6['Good'])\n",
    "V6['WOE'] = np.log(V6['Good_Distri'] / V6['Bad_Distri'])\n",
    "V6['WOE%'] = V6['WOE'] * 100\n",
    "\n",
    "V6"
   ]
  },
  {
   "cell_type": "code",
   "execution_count": 74,
   "metadata": {},
   "outputs": [
    {
     "data": {
      "text/plain": [
       "0.22897976718361462"
      ]
     },
     "execution_count": 74,
     "metadata": {},
     "output_type": "execute_result"
    }
   ],
   "source": [
    "# Information Value\n",
    "IV_V6 = sum((V6['Good_Distri']-V6['Bad_Distri'])*V6['WOE'])\n",
    "IV_V6"
   ]
  },
  {
   "cell_type": "markdown",
   "metadata": {},
   "source": [
    "Considering this level of Information Value, we can tell V6 feature has a medium predictive power."
   ]
  },
  {
   "cell_type": "markdown",
   "metadata": {},
   "source": [
    "***V7 WOE:***"
   ]
  },
  {
   "cell_type": "code",
   "execution_count": 75,
   "metadata": {},
   "outputs": [
    {
     "data": {
      "text/html": [
       "<div>\n",
       "<style scoped>\n",
       "    .dataframe tbody tr th:only-of-type {\n",
       "        vertical-align: middle;\n",
       "    }\n",
       "\n",
       "    .dataframe tbody tr th {\n",
       "        vertical-align: top;\n",
       "    }\n",
       "\n",
       "    .dataframe thead tr th {\n",
       "        text-align: left;\n",
       "    }\n",
       "\n",
       "    .dataframe thead tr:last-of-type th {\n",
       "        text-align: right;\n",
       "    }\n",
       "</style>\n",
       "<table border=\"1\" class=\"dataframe\">\n",
       "  <thead>\n",
       "    <tr>\n",
       "      <th></th>\n",
       "      <th colspan=\"2\" halign=\"left\">ID</th>\n",
       "    </tr>\n",
       "    <tr>\n",
       "      <th>Default_45</th>\n",
       "      <th>0</th>\n",
       "      <th>1</th>\n",
       "    </tr>\n",
       "    <tr>\n",
       "      <th>V7</th>\n",
       "      <th></th>\n",
       "      <th></th>\n",
       "    </tr>\n",
       "  </thead>\n",
       "  <tbody>\n",
       "    <tr>\n",
       "      <th>1</th>\n",
       "      <td>4945</td>\n",
       "      <td>1161</td>\n",
       "    </tr>\n",
       "    <tr>\n",
       "      <th>2</th>\n",
       "      <td>140</td>\n",
       "      <td>76</td>\n",
       "    </tr>\n",
       "    <tr>\n",
       "      <th>3</th>\n",
       "      <td>2551</td>\n",
       "      <td>1127</td>\n",
       "    </tr>\n",
       "  </tbody>\n",
       "</table>\n",
       "</div>"
      ],
      "text/plain": [
       "              ID      \n",
       "Default_45     0     1\n",
       "V7                    \n",
       "1           4945  1161\n",
       "2            140    76\n",
       "3           2551  1127"
      ]
     },
     "execution_count": 75,
     "metadata": {},
     "output_type": "execute_result"
    }
   ],
   "source": [
    "# Pivoting the V7\n",
    "V7_p = a_db[['ID','V7','Default_45']]\n",
    "V7_pivoted = V7_p.pivot_table(V7_p,index= ['V7'],columns='Default_45', aggfunc='count',fill_value=0)\n",
    "V7_pivoted"
   ]
  },
  {
   "cell_type": "code",
   "execution_count": 76,
   "metadata": {},
   "outputs": [
    {
     "data": {
      "text/html": [
       "<div>\n",
       "<style scoped>\n",
       "    .dataframe tbody tr th:only-of-type {\n",
       "        vertical-align: middle;\n",
       "    }\n",
       "\n",
       "    .dataframe tbody tr th {\n",
       "        vertical-align: top;\n",
       "    }\n",
       "\n",
       "    .dataframe thead th {\n",
       "        text-align: right;\n",
       "    }\n",
       "</style>\n",
       "<table border=\"1\" class=\"dataframe\">\n",
       "  <thead>\n",
       "    <tr style=\"text-align: right;\">\n",
       "      <th></th>\n",
       "      <th>Counting</th>\n",
       "      <th>Bad</th>\n",
       "      <th>Good</th>\n",
       "      <th>Total_Distri</th>\n",
       "      <th>Bad_Distri</th>\n",
       "      <th>Good_Distri</th>\n",
       "      <th>WOE</th>\n",
       "      <th>WOE%</th>\n",
       "    </tr>\n",
       "    <tr>\n",
       "      <th>V7_Segments</th>\n",
       "      <th></th>\n",
       "      <th></th>\n",
       "      <th></th>\n",
       "      <th></th>\n",
       "      <th></th>\n",
       "      <th></th>\n",
       "      <th></th>\n",
       "      <th></th>\n",
       "    </tr>\n",
       "  </thead>\n",
       "  <tbody>\n",
       "    <tr>\n",
       "      <th>1</th>\n",
       "      <td>6106</td>\n",
       "      <td>1161</td>\n",
       "      <td>4945</td>\n",
       "      <td>0.6106</td>\n",
       "      <td>0.491117</td>\n",
       "      <td>0.647590</td>\n",
       "      <td>0.276576</td>\n",
       "      <td>27.657646</td>\n",
       "    </tr>\n",
       "    <tr>\n",
       "      <th>3</th>\n",
       "      <td>3678</td>\n",
       "      <td>1127</td>\n",
       "      <td>2551</td>\n",
       "      <td>0.3678</td>\n",
       "      <td>0.476734</td>\n",
       "      <td>0.334075</td>\n",
       "      <td>-0.355593</td>\n",
       "      <td>-35.559260</td>\n",
       "    </tr>\n",
       "    <tr>\n",
       "      <th>2</th>\n",
       "      <td>216</td>\n",
       "      <td>76</td>\n",
       "      <td>140</td>\n",
       "      <td>0.0216</td>\n",
       "      <td>0.032149</td>\n",
       "      <td>0.018334</td>\n",
       "      <td>-0.561610</td>\n",
       "      <td>-56.160972</td>\n",
       "    </tr>\n",
       "  </tbody>\n",
       "</table>\n",
       "</div>"
      ],
      "text/plain": [
       "             Counting   Bad  Good  Total_Distri  Bad_Distri  Good_Distri  \\\n",
       "V7_Segments                                                                \n",
       "1                6106  1161  4945        0.6106    0.491117     0.647590   \n",
       "3                3678  1127  2551        0.3678    0.476734     0.334075   \n",
       "2                 216    76   140        0.0216    0.032149     0.018334   \n",
       "\n",
       "                  WOE       WOE%  \n",
       "V7_Segments                       \n",
       "1            0.276576  27.657646  \n",
       "3           -0.355593 -35.559260  \n",
       "2           -0.561610 -56.160972  "
      ]
     },
     "execution_count": 76,
     "metadata": {},
     "output_type": "execute_result"
    }
   ],
   "source": [
    "# Building V7 WOE table\n",
    "V7_good = V7_pivoted.ID[0]\n",
    "V7_bad = V7_pivoted.ID[1]\n",
    "\n",
    "# Extracting the dictionary\n",
    "V7_Segments = dict(Counter(a_db['V7']))\n",
    "\n",
    "# Columns counting \n",
    "V7 = pd.DataFrame.from_dict(V7_Segments, orient='index').reset_index().rename(columns={\"index\": \"V7_Segments\",0: \"Counting\"}).set_index('V7_Segments')\n",
    "\n",
    "frames = [V7_good,V7_bad,V7]\n",
    "\n",
    "# Bad/Good Countings\n",
    "V7['Bad'] = V7_bad\n",
    "V7['Good'] = V7_good\n",
    "\n",
    "# Calculate WOE\n",
    "V7['Total_Distri'] = V7['Counting']/sum(V7['Counting'])\n",
    "V7['Bad_Distri'] = V7['Bad']/sum(V7['Bad'])\n",
    "V7['Good_Distri'] = V7['Good']/sum(V7['Good'])\n",
    "V7['WOE'] = np.log(V7['Good_Distri'] / V7['Bad_Distri'])\n",
    "V7['WOE%'] = V7['WOE'] * 100\n",
    "\n",
    "V7"
   ]
  },
  {
   "cell_type": "code",
   "execution_count": 77,
   "metadata": {},
   "outputs": [
    {
     "data": {
      "text/plain": [
       "0.10176383823797963"
      ]
     },
     "execution_count": 77,
     "metadata": {},
     "output_type": "execute_result"
    }
   ],
   "source": [
    "# Information Value\n",
    "IV_V7 = sum((V7['Good_Distri']-V7['Bad_Distri'])*V7['WOE'])\n",
    "IV_V7"
   ]
  },
  {
   "cell_type": "markdown",
   "metadata": {},
   "source": [
    "Considering this level of Information Value, we can tell V7 feature has a medium predictive power."
   ]
  },
  {
   "cell_type": "markdown",
   "metadata": {},
   "source": [
    "***V8 WOE:***"
   ]
  },
  {
   "cell_type": "code",
   "execution_count": 78,
   "metadata": {},
   "outputs": [
    {
     "data": {
      "text/html": [
       "<div>\n",
       "<style scoped>\n",
       "    .dataframe tbody tr th:only-of-type {\n",
       "        vertical-align: middle;\n",
       "    }\n",
       "\n",
       "    .dataframe tbody tr th {\n",
       "        vertical-align: top;\n",
       "    }\n",
       "\n",
       "    .dataframe thead tr th {\n",
       "        text-align: left;\n",
       "    }\n",
       "\n",
       "    .dataframe thead tr:last-of-type th {\n",
       "        text-align: right;\n",
       "    }\n",
       "</style>\n",
       "<table border=\"1\" class=\"dataframe\">\n",
       "  <thead>\n",
       "    <tr>\n",
       "      <th></th>\n",
       "      <th colspan=\"2\" halign=\"left\">ID</th>\n",
       "    </tr>\n",
       "    <tr>\n",
       "      <th>Default_45</th>\n",
       "      <th>0</th>\n",
       "      <th>1</th>\n",
       "    </tr>\n",
       "    <tr>\n",
       "      <th>V8</th>\n",
       "      <th></th>\n",
       "      <th></th>\n",
       "    </tr>\n",
       "  </thead>\n",
       "  <tbody>\n",
       "    <tr>\n",
       "      <th>1</th>\n",
       "      <td>2578</td>\n",
       "      <td>1125</td>\n",
       "    </tr>\n",
       "    <tr>\n",
       "      <th>2</th>\n",
       "      <td>3080</td>\n",
       "      <td>707</td>\n",
       "    </tr>\n",
       "    <tr>\n",
       "      <th>3</th>\n",
       "      <td>1191</td>\n",
       "      <td>295</td>\n",
       "    </tr>\n",
       "    <tr>\n",
       "      <th>4</th>\n",
       "      <td>654</td>\n",
       "      <td>188</td>\n",
       "    </tr>\n",
       "    <tr>\n",
       "      <th>&gt;4</th>\n",
       "      <td>133</td>\n",
       "      <td>49</td>\n",
       "    </tr>\n",
       "  </tbody>\n",
       "</table>\n",
       "</div>"
      ],
      "text/plain": [
       "              ID      \n",
       "Default_45     0     1\n",
       "V8                    \n",
       "1           2578  1125\n",
       "2           3080   707\n",
       "3           1191   295\n",
       "4            654   188\n",
       ">4           133    49"
      ]
     },
     "execution_count": 78,
     "metadata": {},
     "output_type": "execute_result"
    }
   ],
   "source": [
    "# Pivoting the V8\n",
    "V8_p = a_db[['ID','V8','Default_45']]\n",
    "V8_pivoted = V8_p.pivot_table(V8_p,index= ['V8'],columns='Default_45', aggfunc='count',fill_value=0)\n",
    "V8_pivoted"
   ]
  },
  {
   "cell_type": "code",
   "execution_count": 79,
   "metadata": {},
   "outputs": [
    {
     "data": {
      "text/html": [
       "<div>\n",
       "<style scoped>\n",
       "    .dataframe tbody tr th:only-of-type {\n",
       "        vertical-align: middle;\n",
       "    }\n",
       "\n",
       "    .dataframe tbody tr th {\n",
       "        vertical-align: top;\n",
       "    }\n",
       "\n",
       "    .dataframe thead th {\n",
       "        text-align: right;\n",
       "    }\n",
       "</style>\n",
       "<table border=\"1\" class=\"dataframe\">\n",
       "  <thead>\n",
       "    <tr style=\"text-align: right;\">\n",
       "      <th></th>\n",
       "      <th>Counting</th>\n",
       "      <th>Bad</th>\n",
       "      <th>Good</th>\n",
       "      <th>Total_Distri</th>\n",
       "      <th>Bad_Distri</th>\n",
       "      <th>Good_Distri</th>\n",
       "      <th>WOE</th>\n",
       "      <th>WOE%</th>\n",
       "    </tr>\n",
       "    <tr>\n",
       "      <th>V8_Segments</th>\n",
       "      <th></th>\n",
       "      <th></th>\n",
       "      <th></th>\n",
       "      <th></th>\n",
       "      <th></th>\n",
       "      <th></th>\n",
       "      <th></th>\n",
       "      <th></th>\n",
       "    </tr>\n",
       "  </thead>\n",
       "  <tbody>\n",
       "    <tr>\n",
       "      <th>2</th>\n",
       "      <td>3787</td>\n",
       "      <td>707</td>\n",
       "      <td>3080</td>\n",
       "      <td>0.3787</td>\n",
       "      <td>0.299069</td>\n",
       "      <td>0.403353</td>\n",
       "      <td>0.299135</td>\n",
       "      <td>29.913540</td>\n",
       "    </tr>\n",
       "    <tr>\n",
       "      <th>3</th>\n",
       "      <td>1486</td>\n",
       "      <td>295</td>\n",
       "      <td>1191</td>\n",
       "      <td>0.1486</td>\n",
       "      <td>0.124788</td>\n",
       "      <td>0.155972</td>\n",
       "      <td>0.223054</td>\n",
       "      <td>22.305441</td>\n",
       "    </tr>\n",
       "    <tr>\n",
       "      <th>4</th>\n",
       "      <td>842</td>\n",
       "      <td>188</td>\n",
       "      <td>654</td>\n",
       "      <td>0.0842</td>\n",
       "      <td>0.079526</td>\n",
       "      <td>0.085647</td>\n",
       "      <td>0.074147</td>\n",
       "      <td>7.414658</td>\n",
       "    </tr>\n",
       "    <tr>\n",
       "      <th>1</th>\n",
       "      <td>3703</td>\n",
       "      <td>1125</td>\n",
       "      <td>2578</td>\n",
       "      <td>0.3703</td>\n",
       "      <td>0.475888</td>\n",
       "      <td>0.337611</td>\n",
       "      <td>-0.343288</td>\n",
       "      <td>-34.328794</td>\n",
       "    </tr>\n",
       "    <tr>\n",
       "      <th>&gt;4</th>\n",
       "      <td>182</td>\n",
       "      <td>49</td>\n",
       "      <td>133</td>\n",
       "      <td>0.0182</td>\n",
       "      <td>0.020728</td>\n",
       "      <td>0.017417</td>\n",
       "      <td>-0.173990</td>\n",
       "      <td>-17.398998</td>\n",
       "    </tr>\n",
       "  </tbody>\n",
       "</table>\n",
       "</div>"
      ],
      "text/plain": [
       "             Counting   Bad  Good  Total_Distri  Bad_Distri  Good_Distri  \\\n",
       "V8_Segments                                                                \n",
       "2                3787   707  3080        0.3787    0.299069     0.403353   \n",
       "3                1486   295  1191        0.1486    0.124788     0.155972   \n",
       "4                 842   188   654        0.0842    0.079526     0.085647   \n",
       "1                3703  1125  2578        0.3703    0.475888     0.337611   \n",
       ">4                182    49   133        0.0182    0.020728     0.017417   \n",
       "\n",
       "                  WOE       WOE%  \n",
       "V8_Segments                       \n",
       "2            0.299135  29.913540  \n",
       "3            0.223054  22.305441  \n",
       "4            0.074147   7.414658  \n",
       "1           -0.343288 -34.328794  \n",
       ">4          -0.173990 -17.398998  "
      ]
     },
     "execution_count": 79,
     "metadata": {},
     "output_type": "execute_result"
    }
   ],
   "source": [
    "# Building V8 WOE table\n",
    "V8_good = V8_pivoted.ID[0]\n",
    "V8_bad = V8_pivoted.ID[1]\n",
    "\n",
    "# Extracting the dictionary\n",
    "V8_Segments = dict(Counter(a_db['V8']))\n",
    "\n",
    "# Columns counting \n",
    "V8 = pd.DataFrame.from_dict(V8_Segments, orient='index').reset_index().rename(columns={\"index\": \"V8_Segments\",0: \"Counting\"}).set_index('V8_Segments')\n",
    "\n",
    "frames = [V8_good,V8_bad,V8]\n",
    "\n",
    "# Bad/Good Countings\n",
    "V8['Bad'] = V8_bad\n",
    "V8['Good'] = V8_good\n",
    "\n",
    "# Calculate WOE\n",
    "V8['Total_Distri'] = V8['Counting']/sum(V8['Counting'])\n",
    "V8['Bad_Distri'] = V8['Bad']/sum(V8['Bad'])\n",
    "V8['Good_Distri'] = V8['Good']/sum(V8['Good'])\n",
    "V8['WOE'] = np.log(V8['Good_Distri'] / V8['Bad_Distri'])\n",
    "V8['WOE%'] = V8['WOE'] * 100\n",
    "\n",
    "V8"
   ]
  },
  {
   "cell_type": "code",
   "execution_count": 80,
   "metadata": {},
   "outputs": [
    {
     "data": {
      "text/plain": [
       "0.08664892225131007"
      ]
     },
     "execution_count": 80,
     "metadata": {},
     "output_type": "execute_result"
    }
   ],
   "source": [
    "# Information Value\n",
    "IV_V8 = sum((V8['Good_Distri']-V8['Bad_Distri'])*V8['WOE'])\n",
    "IV_V8"
   ]
  },
  {
   "cell_type": "markdown",
   "metadata": {},
   "source": [
    "Considering this level of Information Value, we can tell V8 feature has a weak predictive power."
   ]
  },
  {
   "cell_type": "markdown",
   "metadata": {},
   "source": [
    "***Has_FICO WOE:***"
   ]
  },
  {
   "cell_type": "code",
   "execution_count": 81,
   "metadata": {},
   "outputs": [
    {
     "data": {
      "text/html": [
       "<div>\n",
       "<style scoped>\n",
       "    .dataframe tbody tr th:only-of-type {\n",
       "        vertical-align: middle;\n",
       "    }\n",
       "\n",
       "    .dataframe tbody tr th {\n",
       "        vertical-align: top;\n",
       "    }\n",
       "\n",
       "    .dataframe thead tr th {\n",
       "        text-align: left;\n",
       "    }\n",
       "\n",
       "    .dataframe thead tr:last-of-type th {\n",
       "        text-align: right;\n",
       "    }\n",
       "</style>\n",
       "<table border=\"1\" class=\"dataframe\">\n",
       "  <thead>\n",
       "    <tr>\n",
       "      <th></th>\n",
       "      <th colspan=\"2\" halign=\"left\">ID</th>\n",
       "    </tr>\n",
       "    <tr>\n",
       "      <th>Default_45</th>\n",
       "      <th>0</th>\n",
       "      <th>1</th>\n",
       "    </tr>\n",
       "    <tr>\n",
       "      <th>Has_FICO</th>\n",
       "      <th></th>\n",
       "      <th></th>\n",
       "    </tr>\n",
       "  </thead>\n",
       "  <tbody>\n",
       "    <tr>\n",
       "      <th>0</th>\n",
       "      <td>3320</td>\n",
       "      <td>1152</td>\n",
       "    </tr>\n",
       "    <tr>\n",
       "      <th>1</th>\n",
       "      <td>4316</td>\n",
       "      <td>1212</td>\n",
       "    </tr>\n",
       "  </tbody>\n",
       "</table>\n",
       "</div>"
      ],
      "text/plain": [
       "              ID      \n",
       "Default_45     0     1\n",
       "Has_FICO              \n",
       "0           3320  1152\n",
       "1           4316  1212"
      ]
     },
     "execution_count": 81,
     "metadata": {},
     "output_type": "execute_result"
    }
   ],
   "source": [
    "# Pivoting the HAS_ICO\n",
    "HAS_FICO_p = a_db[['ID','Has_FICO','Default_45']]\n",
    "HAS_FICO_pivoted = HAS_FICO_p.pivot_table(HAS_FICO_p,index= ['Has_FICO'],columns='Default_45', aggfunc='count',fill_value=0)\n",
    "HAS_FICO_pivoted"
   ]
  },
  {
   "cell_type": "code",
   "execution_count": 82,
   "metadata": {},
   "outputs": [
    {
     "data": {
      "text/html": [
       "<div>\n",
       "<style scoped>\n",
       "    .dataframe tbody tr th:only-of-type {\n",
       "        vertical-align: middle;\n",
       "    }\n",
       "\n",
       "    .dataframe tbody tr th {\n",
       "        vertical-align: top;\n",
       "    }\n",
       "\n",
       "    .dataframe thead th {\n",
       "        text-align: right;\n",
       "    }\n",
       "</style>\n",
       "<table border=\"1\" class=\"dataframe\">\n",
       "  <thead>\n",
       "    <tr style=\"text-align: right;\">\n",
       "      <th></th>\n",
       "      <th>Counting</th>\n",
       "      <th>Bad</th>\n",
       "      <th>Good</th>\n",
       "      <th>Total_Distri</th>\n",
       "      <th>Bad_Distri</th>\n",
       "      <th>Good_Distri</th>\n",
       "      <th>WOE</th>\n",
       "      <th>WOE%</th>\n",
       "    </tr>\n",
       "    <tr>\n",
       "      <th>Has_FICO_Segments</th>\n",
       "      <th></th>\n",
       "      <th></th>\n",
       "      <th></th>\n",
       "      <th></th>\n",
       "      <th></th>\n",
       "      <th></th>\n",
       "      <th></th>\n",
       "      <th></th>\n",
       "    </tr>\n",
       "  </thead>\n",
       "  <tbody>\n",
       "    <tr>\n",
       "      <th>0</th>\n",
       "      <td>4472</td>\n",
       "      <td>1152</td>\n",
       "      <td>3320</td>\n",
       "      <td>0.4472</td>\n",
       "      <td>0.48731</td>\n",
       "      <td>0.434783</td>\n",
       "      <td>-0.114054</td>\n",
       "      <td>-11.405359</td>\n",
       "    </tr>\n",
       "    <tr>\n",
       "      <th>1</th>\n",
       "      <td>5528</td>\n",
       "      <td>1212</td>\n",
       "      <td>4316</td>\n",
       "      <td>0.5528</td>\n",
       "      <td>0.51269</td>\n",
       "      <td>0.565217</td>\n",
       "      <td>0.097538</td>\n",
       "      <td>9.753835</td>\n",
       "    </tr>\n",
       "  </tbody>\n",
       "</table>\n",
       "</div>"
      ],
      "text/plain": [
       "                   Counting   Bad  Good  Total_Distri  Bad_Distri  \\\n",
       "Has_FICO_Segments                                                   \n",
       "0                      4472  1152  3320        0.4472     0.48731   \n",
       "1                      5528  1212  4316        0.5528     0.51269   \n",
       "\n",
       "                   Good_Distri       WOE       WOE%  \n",
       "Has_FICO_Segments                                    \n",
       "0                     0.434783 -0.114054 -11.405359  \n",
       "1                     0.565217  0.097538   9.753835  "
      ]
     },
     "execution_count": 82,
     "metadata": {},
     "output_type": "execute_result"
    }
   ],
   "source": [
    "# Building HAS_FICO WOE table\n",
    "HAS_FICO_good = HAS_FICO_pivoted.ID[0]\n",
    "HAS_FICO_bad = HAS_FICO_pivoted.ID[1]\n",
    "\n",
    "# Extracting the dictionary\n",
    "HAS_FICO_Segments = dict(Counter(a_db['Has_FICO']))\n",
    "\n",
    "# Columns counting \n",
    "HAS_FICO = pd.DataFrame.from_dict(HAS_FICO_Segments, orient='index').reset_index().rename(columns={\"index\": \"Has_FICO_Segments\",0: \"Counting\"}).set_index('Has_FICO_Segments')\n",
    "\n",
    "frames = [HAS_FICO_good,HAS_FICO_bad,HAS_FICO]\n",
    "\n",
    "# Bad/Good Countings\n",
    "HAS_FICO['Bad'] = HAS_FICO_bad\n",
    "HAS_FICO['Good'] = HAS_FICO_good\n",
    "\n",
    "# Calculate WOE\n",
    "HAS_FICO['Total_Distri'] = HAS_FICO['Counting']/sum(HAS_FICO['Counting'])\n",
    "HAS_FICO['Bad_Distri'] = HAS_FICO['Bad']/sum(HAS_FICO['Bad'])\n",
    "HAS_FICO['Good_Distri'] = HAS_FICO['Good']/sum(HAS_FICO['Good'])\n",
    "HAS_FICO['WOE'] = np.log(HAS_FICO['Good_Distri'] / HAS_FICO['Bad_Distri'])\n",
    "HAS_FICO['WOE%'] = HAS_FICO['WOE'] * 100\n",
    "\n",
    "HAS_FICO"
   ]
  },
  {
   "cell_type": "code",
   "execution_count": 83,
   "metadata": {},
   "outputs": [
    {
     "data": {
      "text/plain": [
       "0.011114297396686859"
      ]
     },
     "execution_count": 83,
     "metadata": {},
     "output_type": "execute_result"
    }
   ],
   "source": [
    "# Information Value\n",
    "IV_HAS_FICO = sum((HAS_FICO['Good_Distri']-HAS_FICO['Bad_Distri'])*HAS_FICO['WOE'])\n",
    "IV_HAS_FICO"
   ]
  },
  {
   "cell_type": "markdown",
   "metadata": {},
   "source": [
    "Considering this level of Information Value, we can tell Has_FICO feature is not useful for prediction."
   ]
  },
  {
   "cell_type": "markdown",
   "metadata": {},
   "source": [
    "***Business_channel WOE:***"
   ]
  },
  {
   "cell_type": "code",
   "execution_count": 84,
   "metadata": {},
   "outputs": [
    {
     "data": {
      "text/html": [
       "<div>\n",
       "<style scoped>\n",
       "    .dataframe tbody tr th:only-of-type {\n",
       "        vertical-align: middle;\n",
       "    }\n",
       "\n",
       "    .dataframe tbody tr th {\n",
       "        vertical-align: top;\n",
       "    }\n",
       "\n",
       "    .dataframe thead tr th {\n",
       "        text-align: left;\n",
       "    }\n",
       "\n",
       "    .dataframe thead tr:last-of-type th {\n",
       "        text-align: right;\n",
       "    }\n",
       "</style>\n",
       "<table border=\"1\" class=\"dataframe\">\n",
       "  <thead>\n",
       "    <tr>\n",
       "      <th></th>\n",
       "      <th colspan=\"2\" halign=\"left\">ID</th>\n",
       "    </tr>\n",
       "    <tr>\n",
       "      <th>Default_45</th>\n",
       "      <th>0</th>\n",
       "      <th>1</th>\n",
       "    </tr>\n",
       "    <tr>\n",
       "      <th>Business_channel</th>\n",
       "      <th></th>\n",
       "      <th></th>\n",
       "    </tr>\n",
       "  </thead>\n",
       "  <tbody>\n",
       "    <tr>\n",
       "      <th>1</th>\n",
       "      <td>5488</td>\n",
       "      <td>1424</td>\n",
       "    </tr>\n",
       "    <tr>\n",
       "      <th>2</th>\n",
       "      <td>1287</td>\n",
       "      <td>857</td>\n",
       "    </tr>\n",
       "    <tr>\n",
       "      <th>3</th>\n",
       "      <td>861</td>\n",
       "      <td>83</td>\n",
       "    </tr>\n",
       "  </tbody>\n",
       "</table>\n",
       "</div>"
      ],
      "text/plain": [
       "                    ID      \n",
       "Default_45           0     1\n",
       "Business_channel            \n",
       "1                 5488  1424\n",
       "2                 1287   857\n",
       "3                  861    83"
      ]
     },
     "execution_count": 84,
     "metadata": {},
     "output_type": "execute_result"
    }
   ],
   "source": [
    "# Pivoting the BUSINESS_CHANNEL\n",
    "BUSINESS_CHANNEL_p = a_db[['ID','Business_channel','Default_45']]\n",
    "BUSINESS_CHANNEL_pivoted = BUSINESS_CHANNEL_p.pivot_table(BUSINESS_CHANNEL_p,index= ['Business_channel'],columns='Default_45', aggfunc='count',fill_value=0)\n",
    "BUSINESS_CHANNEL_pivoted"
   ]
  },
  {
   "cell_type": "code",
   "execution_count": 85,
   "metadata": {},
   "outputs": [
    {
     "data": {
      "text/html": [
       "<div>\n",
       "<style scoped>\n",
       "    .dataframe tbody tr th:only-of-type {\n",
       "        vertical-align: middle;\n",
       "    }\n",
       "\n",
       "    .dataframe tbody tr th {\n",
       "        vertical-align: top;\n",
       "    }\n",
       "\n",
       "    .dataframe thead th {\n",
       "        text-align: right;\n",
       "    }\n",
       "</style>\n",
       "<table border=\"1\" class=\"dataframe\">\n",
       "  <thead>\n",
       "    <tr style=\"text-align: right;\">\n",
       "      <th></th>\n",
       "      <th>Counting</th>\n",
       "      <th>Bad</th>\n",
       "      <th>Good</th>\n",
       "      <th>Total_Distri</th>\n",
       "      <th>Bad_Distri</th>\n",
       "      <th>Good_Distri</th>\n",
       "      <th>WOE</th>\n",
       "      <th>WOE%</th>\n",
       "    </tr>\n",
       "    <tr>\n",
       "      <th>BUSINESS_CHANNEL_Segments</th>\n",
       "      <th></th>\n",
       "      <th></th>\n",
       "      <th></th>\n",
       "      <th></th>\n",
       "      <th></th>\n",
       "      <th></th>\n",
       "      <th></th>\n",
       "      <th></th>\n",
       "    </tr>\n",
       "  </thead>\n",
       "  <tbody>\n",
       "    <tr>\n",
       "      <th>1</th>\n",
       "      <td>6912</td>\n",
       "      <td>1424</td>\n",
       "      <td>5488</td>\n",
       "      <td>0.6912</td>\n",
       "      <td>0.602369</td>\n",
       "      <td>0.718701</td>\n",
       "      <td>0.176575</td>\n",
       "      <td>17.657527</td>\n",
       "    </tr>\n",
       "    <tr>\n",
       "      <th>2</th>\n",
       "      <td>2144</td>\n",
       "      <td>857</td>\n",
       "      <td>1287</td>\n",
       "      <td>0.2144</td>\n",
       "      <td>0.362521</td>\n",
       "      <td>0.168544</td>\n",
       "      <td>-0.765888</td>\n",
       "      <td>-76.588752</td>\n",
       "    </tr>\n",
       "    <tr>\n",
       "      <th>3</th>\n",
       "      <td>944</td>\n",
       "      <td>83</td>\n",
       "      <td>861</td>\n",
       "      <td>0.0944</td>\n",
       "      <td>0.035110</td>\n",
       "      <td>0.112755</td>\n",
       "      <td>1.166735</td>\n",
       "      <td>116.673509</td>\n",
       "    </tr>\n",
       "  </tbody>\n",
       "</table>\n",
       "</div>"
      ],
      "text/plain": [
       "                           Counting   Bad  Good  Total_Distri  Bad_Distri  \\\n",
       "BUSINESS_CHANNEL_Segments                                                   \n",
       "1                              6912  1424  5488        0.6912    0.602369   \n",
       "2                              2144   857  1287        0.2144    0.362521   \n",
       "3                               944    83   861        0.0944    0.035110   \n",
       "\n",
       "                           Good_Distri       WOE        WOE%  \n",
       "BUSINESS_CHANNEL_Segments                                     \n",
       "1                             0.718701  0.176575   17.657527  \n",
       "2                             0.168544 -0.765888  -76.588752  \n",
       "3                             0.112755  1.166735  116.673509  "
      ]
     },
     "execution_count": 85,
     "metadata": {},
     "output_type": "execute_result"
    }
   ],
   "source": [
    "# Building BUSINESS_CHANNEL WOE table\n",
    "BUSINESS_CHANNEL_good = BUSINESS_CHANNEL_pivoted.ID[0]\n",
    "BUSINESS_CHANNEL_bad = BUSINESS_CHANNEL_pivoted.ID[1]\n",
    "\n",
    "# Extracting the dictionary\n",
    "BUSINESS_CHANNEL_Segments = dict(Counter(a_db['Business_channel']))\n",
    "\n",
    "# Columns counting \n",
    "BUSINESS_CHANNEL = pd.DataFrame.from_dict(BUSINESS_CHANNEL_Segments, orient='index').reset_index().rename(columns={\"index\": \"BUSINESS_CHANNEL_Segments\",0: \"Counting\"}).set_index('BUSINESS_CHANNEL_Segments')\n",
    "\n",
    "frames = [BUSINESS_CHANNEL_good,BUSINESS_CHANNEL_bad,BUSINESS_CHANNEL]\n",
    "\n",
    "# Bad/Good Countings\n",
    "BUSINESS_CHANNEL['Bad'] = BUSINESS_CHANNEL_bad\n",
    "BUSINESS_CHANNEL['Good'] = BUSINESS_CHANNEL_good\n",
    "\n",
    "# Calculate WOE\n",
    "BUSINESS_CHANNEL['Total_Distri'] = BUSINESS_CHANNEL['Counting']/sum(BUSINESS_CHANNEL['Counting'])\n",
    "BUSINESS_CHANNEL['Bad_Distri'] = BUSINESS_CHANNEL['Bad']/sum(BUSINESS_CHANNEL['Bad'])\n",
    "BUSINESS_CHANNEL['Good_Distri'] = BUSINESS_CHANNEL['Good']/sum(BUSINESS_CHANNEL['Good'])\n",
    "BUSINESS_CHANNEL['WOE'] = np.log(BUSINESS_CHANNEL['Good_Distri'] / BUSINESS_CHANNEL['Bad_Distri'])\n",
    "BUSINESS_CHANNEL['WOE%'] = BUSINESS_CHANNEL['WOE'] * 100\n",
    "\n",
    "BUSINESS_CHANNEL"
   ]
  },
  {
   "cell_type": "code",
   "execution_count": 86,
   "metadata": {},
   "outputs": [
    {
     "data": {
      "text/plain": [
       "0.2596978326972122"
      ]
     },
     "execution_count": 86,
     "metadata": {},
     "output_type": "execute_result"
    }
   ],
   "source": [
    "# Information Value\n",
    "IV_BUSINESS_CHANNEL = sum((BUSINESS_CHANNEL['Good_Distri']-BUSINESS_CHANNEL['Bad_Distri'])*BUSINESS_CHANNEL['WOE'])\n",
    "IV_BUSINESS_CHANNEL"
   ]
  },
  {
   "cell_type": "markdown",
   "metadata": {},
   "source": [
    "Considering this level of Information Value, we can tell Business_channel feature has a medium predictive power."
   ]
  },
  {
   "cell_type": "markdown",
   "metadata": {},
   "source": [
    "***Max_gearing_ratio_binned WOE:***"
   ]
  },
  {
   "cell_type": "code",
   "execution_count": 87,
   "metadata": {},
   "outputs": [
    {
     "data": {
      "text/html": [
       "<div>\n",
       "<style scoped>\n",
       "    .dataframe tbody tr th:only-of-type {\n",
       "        vertical-align: middle;\n",
       "    }\n",
       "\n",
       "    .dataframe tbody tr th {\n",
       "        vertical-align: top;\n",
       "    }\n",
       "\n",
       "    .dataframe thead tr th {\n",
       "        text-align: left;\n",
       "    }\n",
       "\n",
       "    .dataframe thead tr:last-of-type th {\n",
       "        text-align: right;\n",
       "    }\n",
       "</style>\n",
       "<table border=\"1\" class=\"dataframe\">\n",
       "  <thead>\n",
       "    <tr>\n",
       "      <th></th>\n",
       "      <th colspan=\"2\" halign=\"left\">ID</th>\n",
       "    </tr>\n",
       "    <tr>\n",
       "      <th>Default_45</th>\n",
       "      <th>0</th>\n",
       "      <th>1</th>\n",
       "    </tr>\n",
       "    <tr>\n",
       "      <th>Max_gearing_ratio_binned</th>\n",
       "      <th></th>\n",
       "      <th></th>\n",
       "    </tr>\n",
       "  </thead>\n",
       "  <tbody>\n",
       "    <tr>\n",
       "      <th>1</th>\n",
       "      <td>4468</td>\n",
       "      <td>1334</td>\n",
       "    </tr>\n",
       "    <tr>\n",
       "      <th>2</th>\n",
       "      <td>1667</td>\n",
       "      <td>583</td>\n",
       "    </tr>\n",
       "    <tr>\n",
       "      <th>3</th>\n",
       "      <td>1501</td>\n",
       "      <td>447</td>\n",
       "    </tr>\n",
       "  </tbody>\n",
       "</table>\n",
       "</div>"
      ],
      "text/plain": [
       "                            ID      \n",
       "Default_45                   0     1\n",
       "Max_gearing_ratio_binned            \n",
       "1                         4468  1334\n",
       "2                         1667   583\n",
       "3                         1501   447"
      ]
     },
     "execution_count": 87,
     "metadata": {},
     "output_type": "execute_result"
    }
   ],
   "source": [
    "# Pivoting the MAX_GEARING_RATIO_BINNED\n",
    "MAX_GEARING_RATIO_BINNED_p = a_db[['ID','Max_gearing_ratio_binned','Default_45']]\n",
    "MAX_GEARING_RATIO_BINNED_pivoted = MAX_GEARING_RATIO_BINNED_p.pivot_table(MAX_GEARING_RATIO_BINNED_p,index= ['Max_gearing_ratio_binned'],columns='Default_45', aggfunc='count',fill_value=0)\n",
    "MAX_GEARING_RATIO_BINNED_pivoted"
   ]
  },
  {
   "cell_type": "code",
   "execution_count": 88,
   "metadata": {},
   "outputs": [
    {
     "data": {
      "text/html": [
       "<div>\n",
       "<style scoped>\n",
       "    .dataframe tbody tr th:only-of-type {\n",
       "        vertical-align: middle;\n",
       "    }\n",
       "\n",
       "    .dataframe tbody tr th {\n",
       "        vertical-align: top;\n",
       "    }\n",
       "\n",
       "    .dataframe thead th {\n",
       "        text-align: right;\n",
       "    }\n",
       "</style>\n",
       "<table border=\"1\" class=\"dataframe\">\n",
       "  <thead>\n",
       "    <tr style=\"text-align: right;\">\n",
       "      <th></th>\n",
       "      <th>Counting</th>\n",
       "      <th>Bad</th>\n",
       "      <th>Good</th>\n",
       "      <th>Total_Distri</th>\n",
       "      <th>Bad_Distri</th>\n",
       "      <th>Good_Distri</th>\n",
       "      <th>WOE</th>\n",
       "      <th>WOE%</th>\n",
       "    </tr>\n",
       "    <tr>\n",
       "      <th>MAX_GEARING_RATIO_BINNED_Segments</th>\n",
       "      <th></th>\n",
       "      <th></th>\n",
       "      <th></th>\n",
       "      <th></th>\n",
       "      <th></th>\n",
       "      <th></th>\n",
       "      <th></th>\n",
       "      <th></th>\n",
       "    </tr>\n",
       "  </thead>\n",
       "  <tbody>\n",
       "    <tr>\n",
       "      <th>2</th>\n",
       "      <td>2250</td>\n",
       "      <td>583</td>\n",
       "      <td>1667</td>\n",
       "      <td>0.2250</td>\n",
       "      <td>0.246616</td>\n",
       "      <td>0.218308</td>\n",
       "      <td>-0.121925</td>\n",
       "      <td>-12.192511</td>\n",
       "    </tr>\n",
       "    <tr>\n",
       "      <th>3</th>\n",
       "      <td>1948</td>\n",
       "      <td>447</td>\n",
       "      <td>1501</td>\n",
       "      <td>0.1948</td>\n",
       "      <td>0.189086</td>\n",
       "      <td>0.196569</td>\n",
       "      <td>0.038809</td>\n",
       "      <td>3.880943</td>\n",
       "    </tr>\n",
       "    <tr>\n",
       "      <th>1</th>\n",
       "      <td>5802</td>\n",
       "      <td>1334</td>\n",
       "      <td>4468</td>\n",
       "      <td>0.5802</td>\n",
       "      <td>0.564298</td>\n",
       "      <td>0.585123</td>\n",
       "      <td>0.036240</td>\n",
       "      <td>3.624013</td>\n",
       "    </tr>\n",
       "  </tbody>\n",
       "</table>\n",
       "</div>"
      ],
      "text/plain": [
       "                                   Counting   Bad  Good  Total_Distri  \\\n",
       "MAX_GEARING_RATIO_BINNED_Segments                                       \n",
       "2                                      2250   583  1667        0.2250   \n",
       "3                                      1948   447  1501        0.1948   \n",
       "1                                      5802  1334  4468        0.5802   \n",
       "\n",
       "                                   Bad_Distri  Good_Distri       WOE  \\\n",
       "MAX_GEARING_RATIO_BINNED_Segments                                      \n",
       "2                                    0.246616     0.218308 -0.121925   \n",
       "3                                    0.189086     0.196569  0.038809   \n",
       "1                                    0.564298     0.585123  0.036240   \n",
       "\n",
       "                                        WOE%  \n",
       "MAX_GEARING_RATIO_BINNED_Segments             \n",
       "2                                 -12.192511  \n",
       "3                                   3.880943  \n",
       "1                                   3.624013  "
      ]
     },
     "execution_count": 88,
     "metadata": {},
     "output_type": "execute_result"
    }
   ],
   "source": [
    "# Building MAX_GEARING_RATIO_BINNED WOE table\n",
    "MAX_GEARING_RATIO_BINNED_good = MAX_GEARING_RATIO_BINNED_pivoted.ID[0]\n",
    "MAX_GEARING_RATIO_BINNED_bad = MAX_GEARING_RATIO_BINNED_pivoted.ID[1]\n",
    "\n",
    "# Extracting the dictionary\n",
    "MAX_GEARING_RATIO_BINNED_Segments = dict(Counter(a_db['Max_gearing_ratio_binned']))\n",
    "\n",
    "# Columns counting \n",
    "MAX_GEARING_RATIO_BINNED = pd.DataFrame.from_dict(MAX_GEARING_RATIO_BINNED_Segments, orient='index').reset_index().rename(columns={\"index\": \"MAX_GEARING_RATIO_BINNED_Segments\",0: \"Counting\"}).set_index('MAX_GEARING_RATIO_BINNED_Segments')\n",
    "\n",
    "frames = [MAX_GEARING_RATIO_BINNED_good,MAX_GEARING_RATIO_BINNED_bad,MAX_GEARING_RATIO_BINNED]\n",
    "\n",
    "# Bad/Good Countings\n",
    "MAX_GEARING_RATIO_BINNED['Bad'] = MAX_GEARING_RATIO_BINNED_bad\n",
    "MAX_GEARING_RATIO_BINNED['Good'] = MAX_GEARING_RATIO_BINNED_good\n",
    "\n",
    "# Calculate WOE\n",
    "MAX_GEARING_RATIO_BINNED['Total_Distri'] = MAX_GEARING_RATIO_BINNED['Counting']/sum(MAX_GEARING_RATIO_BINNED['Counting'])\n",
    "MAX_GEARING_RATIO_BINNED['Bad_Distri'] = MAX_GEARING_RATIO_BINNED['Bad']/sum(MAX_GEARING_RATIO_BINNED['Bad'])\n",
    "MAX_GEARING_RATIO_BINNED['Good_Distri'] = MAX_GEARING_RATIO_BINNED['Good']/sum(MAX_GEARING_RATIO_BINNED['Good'])\n",
    "MAX_GEARING_RATIO_BINNED['WOE'] = np.log(MAX_GEARING_RATIO_BINNED['Good_Distri'] / MAX_GEARING_RATIO_BINNED['Bad_Distri'])\n",
    "MAX_GEARING_RATIO_BINNED['WOE%'] = MAX_GEARING_RATIO_BINNED['WOE'] * 100\n",
    "\n",
    "MAX_GEARING_RATIO_BINNED"
   ]
  },
  {
   "cell_type": "code",
   "execution_count": 89,
   "metadata": {},
   "outputs": [
    {
     "data": {
      "text/plain": [
       "0.004496549273858511"
      ]
     },
     "execution_count": 89,
     "metadata": {},
     "output_type": "execute_result"
    }
   ],
   "source": [
    "# Information Value\n",
    "IV_MAX_GEARING_RATIO_BINNED = sum((MAX_GEARING_RATIO_BINNED['Good_Distri']-MAX_GEARING_RATIO_BINNED['Bad_Distri'])*MAX_GEARING_RATIO_BINNED['WOE'])\n",
    "IV_MAX_GEARING_RATIO_BINNED"
   ]
  },
  {
   "cell_type": "markdown",
   "metadata": {},
   "source": [
    "Considering this level of Information Value, we can tell Max_gearing_ratio feature is not useful for prediction."
   ]
  },
  {
   "cell_type": "markdown",
   "metadata": {},
   "source": [
    "***Age_binned WOE:***"
   ]
  },
  {
   "cell_type": "code",
   "execution_count": 90,
   "metadata": {},
   "outputs": [
    {
     "data": {
      "text/html": [
       "<div>\n",
       "<style scoped>\n",
       "    .dataframe tbody tr th:only-of-type {\n",
       "        vertical-align: middle;\n",
       "    }\n",
       "\n",
       "    .dataframe tbody tr th {\n",
       "        vertical-align: top;\n",
       "    }\n",
       "\n",
       "    .dataframe thead tr th {\n",
       "        text-align: left;\n",
       "    }\n",
       "\n",
       "    .dataframe thead tr:last-of-type th {\n",
       "        text-align: right;\n",
       "    }\n",
       "</style>\n",
       "<table border=\"1\" class=\"dataframe\">\n",
       "  <thead>\n",
       "    <tr>\n",
       "      <th></th>\n",
       "      <th colspan=\"2\" halign=\"left\">ID</th>\n",
       "    </tr>\n",
       "    <tr>\n",
       "      <th>Default_45</th>\n",
       "      <th>0</th>\n",
       "      <th>1</th>\n",
       "    </tr>\n",
       "    <tr>\n",
       "      <th>Age_binned</th>\n",
       "      <th></th>\n",
       "      <th></th>\n",
       "    </tr>\n",
       "  </thead>\n",
       "  <tbody>\n",
       "    <tr>\n",
       "      <th>0.123350</th>\n",
       "      <td>3003</td>\n",
       "      <td>438</td>\n",
       "    </tr>\n",
       "    <tr>\n",
       "      <th>0.172131</th>\n",
       "      <td>148</td>\n",
       "      <td>39</td>\n",
       "    </tr>\n",
       "    <tr>\n",
       "      <th>0.199021</th>\n",
       "      <td>709</td>\n",
       "      <td>153</td>\n",
       "    </tr>\n",
       "    <tr>\n",
       "      <th>0.276257</th>\n",
       "      <td>2526</td>\n",
       "      <td>963</td>\n",
       "    </tr>\n",
       "    <tr>\n",
       "      <th>0.338182</th>\n",
       "      <td>774</td>\n",
       "      <td>411</td>\n",
       "    </tr>\n",
       "    <tr>\n",
       "      <th>0.425000</th>\n",
       "      <td>377</td>\n",
       "      <td>280</td>\n",
       "    </tr>\n",
       "    <tr>\n",
       "      <th>0.464000</th>\n",
       "      <td>97</td>\n",
       "      <td>77</td>\n",
       "    </tr>\n",
       "    <tr>\n",
       "      <th>0.500000</th>\n",
       "      <td>2</td>\n",
       "      <td>3</td>\n",
       "    </tr>\n",
       "  </tbody>\n",
       "</table>\n",
       "</div>"
      ],
      "text/plain": [
       "              ID     \n",
       "Default_45     0    1\n",
       "Age_binned           \n",
       "0.123350    3003  438\n",
       "0.172131     148   39\n",
       "0.199021     709  153\n",
       "0.276257    2526  963\n",
       "0.338182     774  411\n",
       "0.425000     377  280\n",
       "0.464000      97   77\n",
       "0.500000       2    3"
      ]
     },
     "execution_count": 90,
     "metadata": {},
     "output_type": "execute_result"
    }
   ],
   "source": [
    "# Pivoting the AGE_BINNED\n",
    "AGE_BINNED_p = a_db[['ID','Age_binned','Default_45']]\n",
    "AGE_BINNED_pivoted = AGE_BINNED_p.pivot_table(AGE_BINNED_p,index= ['Age_binned'],columns='Default_45', aggfunc='count',fill_value=0)\n",
    "AGE_BINNED_pivoted"
   ]
  },
  {
   "cell_type": "code",
   "execution_count": 91,
   "metadata": {},
   "outputs": [
    {
     "data": {
      "text/html": [
       "<div>\n",
       "<style scoped>\n",
       "    .dataframe tbody tr th:only-of-type {\n",
       "        vertical-align: middle;\n",
       "    }\n",
       "\n",
       "    .dataframe tbody tr th {\n",
       "        vertical-align: top;\n",
       "    }\n",
       "\n",
       "    .dataframe thead th {\n",
       "        text-align: right;\n",
       "    }\n",
       "</style>\n",
       "<table border=\"1\" class=\"dataframe\">\n",
       "  <thead>\n",
       "    <tr style=\"text-align: right;\">\n",
       "      <th></th>\n",
       "      <th>Counting</th>\n",
       "      <th>Bad</th>\n",
       "      <th>Good</th>\n",
       "      <th>Total_Distri</th>\n",
       "      <th>Bad_Distri</th>\n",
       "      <th>Good_Distri</th>\n",
       "      <th>WOE</th>\n",
       "      <th>WOE%</th>\n",
       "    </tr>\n",
       "    <tr>\n",
       "      <th>AGE_BINNED_Segments</th>\n",
       "      <th></th>\n",
       "      <th></th>\n",
       "      <th></th>\n",
       "      <th></th>\n",
       "      <th></th>\n",
       "      <th></th>\n",
       "      <th></th>\n",
       "      <th></th>\n",
       "    </tr>\n",
       "  </thead>\n",
       "  <tbody>\n",
       "    <tr>\n",
       "      <th>0.123350</th>\n",
       "      <td>3441</td>\n",
       "      <td>438</td>\n",
       "      <td>3003</td>\n",
       "      <td>0.3441</td>\n",
       "      <td>0.185279</td>\n",
       "      <td>0.393269</td>\n",
       "      <td>0.752629</td>\n",
       "      <td>75.262935</td>\n",
       "    </tr>\n",
       "    <tr>\n",
       "      <th>0.276257</th>\n",
       "      <td>3489</td>\n",
       "      <td>963</td>\n",
       "      <td>2526</td>\n",
       "      <td>0.3489</td>\n",
       "      <td>0.407360</td>\n",
       "      <td>0.330801</td>\n",
       "      <td>-0.208180</td>\n",
       "      <td>-20.817992</td>\n",
       "    </tr>\n",
       "    <tr>\n",
       "      <th>0.425000</th>\n",
       "      <td>657</td>\n",
       "      <td>280</td>\n",
       "      <td>377</td>\n",
       "      <td>0.0657</td>\n",
       "      <td>0.118443</td>\n",
       "      <td>0.049371</td>\n",
       "      <td>-0.875063</td>\n",
       "      <td>-87.506322</td>\n",
       "    </tr>\n",
       "    <tr>\n",
       "      <th>0.199021</th>\n",
       "      <td>862</td>\n",
       "      <td>153</td>\n",
       "      <td>709</td>\n",
       "      <td>0.0862</td>\n",
       "      <td>0.064721</td>\n",
       "      <td>0.092850</td>\n",
       "      <td>0.360899</td>\n",
       "      <td>36.089880</td>\n",
       "    </tr>\n",
       "    <tr>\n",
       "      <th>0.338182</th>\n",
       "      <td>1185</td>\n",
       "      <td>411</td>\n",
       "      <td>774</td>\n",
       "      <td>0.1185</td>\n",
       "      <td>0.173858</td>\n",
       "      <td>0.101362</td>\n",
       "      <td>-0.539540</td>\n",
       "      <td>-53.954015</td>\n",
       "    </tr>\n",
       "    <tr>\n",
       "      <th>0.172131</th>\n",
       "      <td>187</td>\n",
       "      <td>39</td>\n",
       "      <td>148</td>\n",
       "      <td>0.0187</td>\n",
       "      <td>0.016497</td>\n",
       "      <td>0.019382</td>\n",
       "      <td>0.161132</td>\n",
       "      <td>16.113182</td>\n",
       "    </tr>\n",
       "    <tr>\n",
       "      <th>0.500000</th>\n",
       "      <td>5</td>\n",
       "      <td>3</td>\n",
       "      <td>2</td>\n",
       "      <td>0.0005</td>\n",
       "      <td>0.001269</td>\n",
       "      <td>0.000262</td>\n",
       "      <td>-1.577984</td>\n",
       "      <td>-157.798391</td>\n",
       "    </tr>\n",
       "    <tr>\n",
       "      <th>0.464000</th>\n",
       "      <td>174</td>\n",
       "      <td>77</td>\n",
       "      <td>97</td>\n",
       "      <td>0.0174</td>\n",
       "      <td>0.032572</td>\n",
       "      <td>0.012703</td>\n",
       "      <td>-0.941613</td>\n",
       "      <td>-94.161325</td>\n",
       "    </tr>\n",
       "  </tbody>\n",
       "</table>\n",
       "</div>"
      ],
      "text/plain": [
       "                     Counting  Bad  Good  Total_Distri  Bad_Distri  \\\n",
       "AGE_BINNED_Segments                                                  \n",
       "0.123350                 3441  438  3003        0.3441    0.185279   \n",
       "0.276257                 3489  963  2526        0.3489    0.407360   \n",
       "0.425000                  657  280   377        0.0657    0.118443   \n",
       "0.199021                  862  153   709        0.0862    0.064721   \n",
       "0.338182                 1185  411   774        0.1185    0.173858   \n",
       "0.172131                  187   39   148        0.0187    0.016497   \n",
       "0.500000                    5    3     2        0.0005    0.001269   \n",
       "0.464000                  174   77    97        0.0174    0.032572   \n",
       "\n",
       "                     Good_Distri       WOE        WOE%  \n",
       "AGE_BINNED_Segments                                     \n",
       "0.123350                0.393269  0.752629   75.262935  \n",
       "0.276257                0.330801 -0.208180  -20.817992  \n",
       "0.425000                0.049371 -0.875063  -87.506322  \n",
       "0.199021                0.092850  0.360899   36.089880  \n",
       "0.338182                0.101362 -0.539540  -53.954015  \n",
       "0.172131                0.019382  0.161132   16.113182  \n",
       "0.500000                0.000262 -1.577984 -157.798391  \n",
       "0.464000                0.012703 -0.941613  -94.161325  "
      ]
     },
     "execution_count": 91,
     "metadata": {},
     "output_type": "execute_result"
    }
   ],
   "source": [
    "# Building AGE_BINNED WOE table\n",
    "AGE_BINNED_good = AGE_BINNED_pivoted.ID[0]\n",
    "AGE_BINNED_bad = AGE_BINNED_pivoted.ID[1]\n",
    "\n",
    "# Extracting the dictionary\n",
    "AGE_BINNED_Segments = dict(Counter(a_db['Age_binned']))\n",
    "\n",
    "# Columns counting \n",
    "AGE_BINNED = pd.DataFrame.from_dict(AGE_BINNED_Segments, orient='index').reset_index().rename(columns={\"index\": \"AGE_BINNED_Segments\",0: \"Counting\"}).set_index('AGE_BINNED_Segments')\n",
    "\n",
    "frames = [AGE_BINNED_good,AGE_BINNED_bad,AGE_BINNED]\n",
    "\n",
    "# Bad/Good Countings\n",
    "AGE_BINNED['Bad'] = AGE_BINNED_bad\n",
    "AGE_BINNED['Good'] = AGE_BINNED_good\n",
    "\n",
    "# Calculate WOE\n",
    "AGE_BINNED['Total_Distri'] = AGE_BINNED['Counting']/sum(AGE_BINNED['Counting'])\n",
    "AGE_BINNED['Bad_Distri'] = AGE_BINNED['Bad']/sum(AGE_BINNED['Bad'])\n",
    "AGE_BINNED['Good_Distri'] = AGE_BINNED['Good']/sum(AGE_BINNED['Good'])\n",
    "AGE_BINNED['WOE'] = np.log(AGE_BINNED['Good_Distri'] / AGE_BINNED['Bad_Distri'])\n",
    "AGE_BINNED['WOE%'] = AGE_BINNED['WOE'] * 100\n",
    "\n",
    "AGE_BINNED"
   ]
  },
  {
   "cell_type": "code",
   "execution_count": 92,
   "metadata": {},
   "outputs": [
    {
     "data": {
      "text/plain": [
       "0.30294830673062256"
      ]
     },
     "execution_count": 92,
     "metadata": {},
     "output_type": "execute_result"
    }
   ],
   "source": [
    "# Information Value\n",
    "IV_AGE_BINNED = sum((AGE_BINNED['Good_Distri']-AGE_BINNED['Bad_Distri'])*AGE_BINNED['WOE'])\n",
    "IV_AGE_BINNED"
   ]
  },
  {
   "cell_type": "markdown",
   "metadata": {},
   "source": [
    "Considering this level of Information Value, we can tell Age feature has a strong predictive power."
   ]
  },
  {
   "cell_type": "markdown",
   "metadata": {},
   "source": [
    "***Days_late_binned WOE:***"
   ]
  },
  {
   "cell_type": "code",
   "execution_count": 93,
   "metadata": {},
   "outputs": [
    {
     "data": {
      "text/html": [
       "<div>\n",
       "<style scoped>\n",
       "    .dataframe tbody tr th:only-of-type {\n",
       "        vertical-align: middle;\n",
       "    }\n",
       "\n",
       "    .dataframe tbody tr th {\n",
       "        vertical-align: top;\n",
       "    }\n",
       "\n",
       "    .dataframe thead tr th {\n",
       "        text-align: left;\n",
       "    }\n",
       "\n",
       "    .dataframe thead tr:last-of-type th {\n",
       "        text-align: right;\n",
       "    }\n",
       "</style>\n",
       "<table border=\"1\" class=\"dataframe\">\n",
       "  <thead>\n",
       "    <tr>\n",
       "      <th></th>\n",
       "      <th colspan=\"2\" halign=\"left\">ID</th>\n",
       "    </tr>\n",
       "    <tr>\n",
       "      <th>Default_45</th>\n",
       "      <th>0</th>\n",
       "      <th>1</th>\n",
       "    </tr>\n",
       "    <tr>\n",
       "      <th>Days_late_binned</th>\n",
       "      <th></th>\n",
       "      <th></th>\n",
       "    </tr>\n",
       "  </thead>\n",
       "  <tbody>\n",
       "    <tr>\n",
       "      <th>1</th>\n",
       "      <td>7636</td>\n",
       "      <td>186</td>\n",
       "    </tr>\n",
       "    <tr>\n",
       "      <th>2</th>\n",
       "      <td>0</td>\n",
       "      <td>2178</td>\n",
       "    </tr>\n",
       "  </tbody>\n",
       "</table>\n",
       "</div>"
      ],
      "text/plain": [
       "                    ID      \n",
       "Default_45           0     1\n",
       "Days_late_binned            \n",
       "1                 7636   186\n",
       "2                    0  2178"
      ]
     },
     "execution_count": 93,
     "metadata": {},
     "output_type": "execute_result"
    }
   ],
   "source": [
    "# Pivoting the DAYS_LATE_BINNED\n",
    "DAYS_LATE_BINNED_p = a_db[['ID','Days_late_binned','Default_45']]\n",
    "DAYS_LATE_BINNED_pivoted = DAYS_LATE_BINNED_p.pivot_table(DAYS_LATE_BINNED_p,index= ['Days_late_binned'],columns='Default_45', aggfunc='count',fill_value=0)\n",
    "DAYS_LATE_BINNED_pivoted"
   ]
  },
  {
   "cell_type": "code",
   "execution_count": 94,
   "metadata": {},
   "outputs": [
    {
     "name": "stderr",
     "output_type": "stream",
     "text": [
      "C:\\ProgramData\\Anaconda3\\lib\\site-packages\\ipykernel_launcher.py:21: RuntimeWarning: divide by zero encountered in log\n"
     ]
    },
    {
     "data": {
      "text/html": [
       "<div>\n",
       "<style scoped>\n",
       "    .dataframe tbody tr th:only-of-type {\n",
       "        vertical-align: middle;\n",
       "    }\n",
       "\n",
       "    .dataframe tbody tr th {\n",
       "        vertical-align: top;\n",
       "    }\n",
       "\n",
       "    .dataframe thead th {\n",
       "        text-align: right;\n",
       "    }\n",
       "</style>\n",
       "<table border=\"1\" class=\"dataframe\">\n",
       "  <thead>\n",
       "    <tr style=\"text-align: right;\">\n",
       "      <th></th>\n",
       "      <th>Counting</th>\n",
       "      <th>Bad</th>\n",
       "      <th>Good</th>\n",
       "      <th>Total_Distri</th>\n",
       "      <th>Bad_Distri</th>\n",
       "      <th>Good_Distri</th>\n",
       "      <th>WOE</th>\n",
       "      <th>WOE%</th>\n",
       "    </tr>\n",
       "    <tr>\n",
       "      <th>DAYS_LATE_BINNED_Segments</th>\n",
       "      <th></th>\n",
       "      <th></th>\n",
       "      <th></th>\n",
       "      <th></th>\n",
       "      <th></th>\n",
       "      <th></th>\n",
       "      <th></th>\n",
       "      <th></th>\n",
       "    </tr>\n",
       "  </thead>\n",
       "  <tbody>\n",
       "    <tr>\n",
       "      <th>1</th>\n",
       "      <td>7822</td>\n",
       "      <td>186</td>\n",
       "      <td>7636</td>\n",
       "      <td>0.7822</td>\n",
       "      <td>0.07868</td>\n",
       "      <td>1.0</td>\n",
       "      <td>2.542364</td>\n",
       "      <td>254.23637</td>\n",
       "    </tr>\n",
       "    <tr>\n",
       "      <th>2</th>\n",
       "      <td>2178</td>\n",
       "      <td>2178</td>\n",
       "      <td>0</td>\n",
       "      <td>0.2178</td>\n",
       "      <td>0.92132</td>\n",
       "      <td>0.0</td>\n",
       "      <td>-inf</td>\n",
       "      <td>-inf</td>\n",
       "    </tr>\n",
       "  </tbody>\n",
       "</table>\n",
       "</div>"
      ],
      "text/plain": [
       "                           Counting   Bad  Good  Total_Distri  Bad_Distri  \\\n",
       "DAYS_LATE_BINNED_Segments                                                   \n",
       "1                              7822   186  7636        0.7822     0.07868   \n",
       "2                              2178  2178     0        0.2178     0.92132   \n",
       "\n",
       "                           Good_Distri       WOE       WOE%  \n",
       "DAYS_LATE_BINNED_Segments                                    \n",
       "1                                  1.0  2.542364  254.23637  \n",
       "2                                  0.0      -inf       -inf  "
      ]
     },
     "execution_count": 94,
     "metadata": {},
     "output_type": "execute_result"
    }
   ],
   "source": [
    "# Building DAYS_LATE_BINNED WOE table\n",
    "DAYS_LATE_BINNED_good = DAYS_LATE_BINNED_pivoted.ID[0]\n",
    "DAYS_LATE_BINNED_bad = DAYS_LATE_BINNED_pivoted.ID[1]\n",
    "\n",
    "# Extracting the dictionary\n",
    "DAYS_LATE_BINNED_Segments = dict(Counter(a_db['Days_late_binned']))\n",
    "\n",
    "# Columns counting \n",
    "DAYS_LATE_BINNED = pd.DataFrame.from_dict(DAYS_LATE_BINNED_Segments, orient='index').reset_index().rename(columns={\"index\": \"DAYS_LATE_BINNED_Segments\",0: \"Counting\"}).set_index('DAYS_LATE_BINNED_Segments')\n",
    "\n",
    "frames = [DAYS_LATE_BINNED_good,DAYS_LATE_BINNED_bad,DAYS_LATE_BINNED]\n",
    "\n",
    "# Bad/Good Countings\n",
    "DAYS_LATE_BINNED['Bad'] = DAYS_LATE_BINNED_bad\n",
    "DAYS_LATE_BINNED['Good'] = DAYS_LATE_BINNED_good\n",
    "\n",
    "# Calculate WOE\n",
    "DAYS_LATE_BINNED['Total_Distri'] = DAYS_LATE_BINNED['Counting']/sum(DAYS_LATE_BINNED['Counting'])\n",
    "DAYS_LATE_BINNED['Bad_Distri'] = DAYS_LATE_BINNED['Bad']/sum(DAYS_LATE_BINNED['Bad'])\n",
    "DAYS_LATE_BINNED['Good_Distri'] = DAYS_LATE_BINNED['Good']/sum(DAYS_LATE_BINNED['Good'])\n",
    "DAYS_LATE_BINNED['WOE'] = np.log(DAYS_LATE_BINNED['Good_Distri'] / DAYS_LATE_BINNED['Bad_Distri'])\n",
    "DAYS_LATE_BINNED['WOE%'] = DAYS_LATE_BINNED['WOE'] * 100\n",
    "\n",
    "DAYS_LATE_BINNED"
   ]
  },
  {
   "cell_type": "code",
   "execution_count": 95,
   "metadata": {},
   "outputs": [
    {
     "data": {
      "text/plain": [
       "inf"
      ]
     },
     "execution_count": 95,
     "metadata": {},
     "output_type": "execute_result"
    }
   ],
   "source": [
    "# Information Value\n",
    "IV_DAYS_LATE_BINNED = sum((DAYS_LATE_BINNED['Good_Distri']-DAYS_LATE_BINNED['Bad_Distri'])*DAYS_LATE_BINNED['WOE'])\n",
    "IV_DAYS_LATE_BINNED"
   ]
  },
  {
   "cell_type": "markdown",
   "metadata": {},
   "source": [
    "Considering this level of Information Value, we can tell Days_late feature is not useful for prediction."
   ]
  },
  {
   "cell_type": "markdown",
   "metadata": {},
   "source": [
    "***FICO_Score_binned WOE:***"
   ]
  },
  {
   "cell_type": "code",
   "execution_count": 96,
   "metadata": {},
   "outputs": [
    {
     "data": {
      "text/html": [
       "<div>\n",
       "<style scoped>\n",
       "    .dataframe tbody tr th:only-of-type {\n",
       "        vertical-align: middle;\n",
       "    }\n",
       "\n",
       "    .dataframe tbody tr th {\n",
       "        vertical-align: top;\n",
       "    }\n",
       "\n",
       "    .dataframe thead tr th {\n",
       "        text-align: left;\n",
       "    }\n",
       "\n",
       "    .dataframe thead tr:last-of-type th {\n",
       "        text-align: right;\n",
       "    }\n",
       "</style>\n",
       "<table border=\"1\" class=\"dataframe\">\n",
       "  <thead>\n",
       "    <tr>\n",
       "      <th></th>\n",
       "      <th colspan=\"2\" halign=\"left\">ID</th>\n",
       "    </tr>\n",
       "    <tr>\n",
       "      <th>Default_45</th>\n",
       "      <th>0</th>\n",
       "      <th>1</th>\n",
       "    </tr>\n",
       "    <tr>\n",
       "      <th>FICO_Score_binned</th>\n",
       "      <th></th>\n",
       "      <th></th>\n",
       "    </tr>\n",
       "  </thead>\n",
       "  <tbody>\n",
       "    <tr>\n",
       "      <th>0.065341</th>\n",
       "      <td>2376</td>\n",
       "      <td>162</td>\n",
       "    </tr>\n",
       "    <tr>\n",
       "      <th>0.242116</th>\n",
       "      <td>4319</td>\n",
       "      <td>1391</td>\n",
       "    </tr>\n",
       "    <tr>\n",
       "      <th>0.376238</th>\n",
       "      <td>450</td>\n",
       "      <td>280</td>\n",
       "    </tr>\n",
       "    <tr>\n",
       "      <th>0.514124</th>\n",
       "      <td>491</td>\n",
       "      <td>531</td>\n",
       "    </tr>\n",
       "  </tbody>\n",
       "</table>\n",
       "</div>"
      ],
      "text/plain": [
       "                     ID      \n",
       "Default_45            0     1\n",
       "FICO_Score_binned            \n",
       "0.065341           2376   162\n",
       "0.242116           4319  1391\n",
       "0.376238            450   280\n",
       "0.514124            491   531"
      ]
     },
     "execution_count": 96,
     "metadata": {},
     "output_type": "execute_result"
    }
   ],
   "source": [
    "# Pivoting the FICO_SCORE_BINNED\n",
    "FICO_SCORE_BINNED_p = a_db[['ID','FICO_Score_binned','Default_45']]\n",
    "FICO_SCORE_BINNED_pivoted = FICO_SCORE_BINNED_p.pivot_table(FICO_SCORE_BINNED_p,index= ['FICO_Score_binned'],columns='Default_45', aggfunc='count',fill_value=0)\n",
    "FICO_SCORE_BINNED_pivoted"
   ]
  },
  {
   "cell_type": "code",
   "execution_count": 97,
   "metadata": {},
   "outputs": [
    {
     "data": {
      "text/html": [
       "<div>\n",
       "<style scoped>\n",
       "    .dataframe tbody tr th:only-of-type {\n",
       "        vertical-align: middle;\n",
       "    }\n",
       "\n",
       "    .dataframe tbody tr th {\n",
       "        vertical-align: top;\n",
       "    }\n",
       "\n",
       "    .dataframe thead th {\n",
       "        text-align: right;\n",
       "    }\n",
       "</style>\n",
       "<table border=\"1\" class=\"dataframe\">\n",
       "  <thead>\n",
       "    <tr style=\"text-align: right;\">\n",
       "      <th></th>\n",
       "      <th>Counting</th>\n",
       "      <th>Bad</th>\n",
       "      <th>Good</th>\n",
       "      <th>Total_Distri</th>\n",
       "      <th>Bad_Distri</th>\n",
       "      <th>Good_Distri</th>\n",
       "      <th>WOE</th>\n",
       "      <th>WOE%</th>\n",
       "    </tr>\n",
       "    <tr>\n",
       "      <th>FICO_SCORE_BINNED_Segments</th>\n",
       "      <th></th>\n",
       "      <th></th>\n",
       "      <th></th>\n",
       "      <th></th>\n",
       "      <th></th>\n",
       "      <th></th>\n",
       "      <th></th>\n",
       "      <th></th>\n",
       "    </tr>\n",
       "  </thead>\n",
       "  <tbody>\n",
       "    <tr>\n",
       "      <th>0.242116</th>\n",
       "      <td>5710</td>\n",
       "      <td>1391</td>\n",
       "      <td>4319</td>\n",
       "      <td>0.5710</td>\n",
       "      <td>0.588409</td>\n",
       "      <td>0.565610</td>\n",
       "      <td>-0.039518</td>\n",
       "      <td>-3.951783</td>\n",
       "    </tr>\n",
       "    <tr>\n",
       "      <th>0.065341</th>\n",
       "      <td>2538</td>\n",
       "      <td>162</td>\n",
       "      <td>2376</td>\n",
       "      <td>0.2538</td>\n",
       "      <td>0.068528</td>\n",
       "      <td>0.311158</td>\n",
       "      <td>1.513059</td>\n",
       "      <td>151.305854</td>\n",
       "    </tr>\n",
       "    <tr>\n",
       "      <th>0.514124</th>\n",
       "      <td>1022</td>\n",
       "      <td>531</td>\n",
       "      <td>491</td>\n",
       "      <td>0.1022</td>\n",
       "      <td>0.224619</td>\n",
       "      <td>0.064301</td>\n",
       "      <td>-1.250837</td>\n",
       "      <td>-125.083670</td>\n",
       "    </tr>\n",
       "    <tr>\n",
       "      <th>0.376238</th>\n",
       "      <td>730</td>\n",
       "      <td>280</td>\n",
       "      <td>450</td>\n",
       "      <td>0.0730</td>\n",
       "      <td>0.118443</td>\n",
       "      <td>0.058931</td>\n",
       "      <td>-0.698061</td>\n",
       "      <td>-69.806083</td>\n",
       "    </tr>\n",
       "  </tbody>\n",
       "</table>\n",
       "</div>"
      ],
      "text/plain": [
       "                            Counting   Bad  Good  Total_Distri  Bad_Distri  \\\n",
       "FICO_SCORE_BINNED_Segments                                                   \n",
       "0.242116                        5710  1391  4319        0.5710    0.588409   \n",
       "0.065341                        2538   162  2376        0.2538    0.068528   \n",
       "0.514124                        1022   531   491        0.1022    0.224619   \n",
       "0.376238                         730   280   450        0.0730    0.118443   \n",
       "\n",
       "                            Good_Distri       WOE        WOE%  \n",
       "FICO_SCORE_BINNED_Segments                                     \n",
       "0.242116                       0.565610 -0.039518   -3.951783  \n",
       "0.065341                       0.311158  1.513059  151.305854  \n",
       "0.514124                       0.064301 -1.250837 -125.083670  \n",
       "0.376238                       0.058931 -0.698061  -69.806083  "
      ]
     },
     "execution_count": 97,
     "metadata": {},
     "output_type": "execute_result"
    }
   ],
   "source": [
    "# Building FICO_SCORE_BINNED WOE table\n",
    "FICO_SCORE_BINNED_good = FICO_SCORE_BINNED_pivoted.ID[0]\n",
    "FICO_SCORE_BINNED_bad = FICO_SCORE_BINNED_pivoted.ID[1]\n",
    "\n",
    "# Extracting the dictionary\n",
    "FICO_SCORE_BINNED_Segments = dict(Counter(a_db['FICO_Score_binned']))\n",
    "\n",
    "# Columns counting \n",
    "FICO_SCORE_BINNED = pd.DataFrame.from_dict(FICO_SCORE_BINNED_Segments, orient='index').reset_index().rename(columns={\"index\": \"FICO_SCORE_BINNED_Segments\",0: \"Counting\"}).set_index('FICO_SCORE_BINNED_Segments')\n",
    "\n",
    "frames = [FICO_SCORE_BINNED_good,FICO_SCORE_BINNED_bad,FICO_SCORE_BINNED]\n",
    "\n",
    "# Bad/Good Countings\n",
    "FICO_SCORE_BINNED['Bad'] = FICO_SCORE_BINNED_bad\n",
    "FICO_SCORE_BINNED['Good'] = FICO_SCORE_BINNED_good\n",
    "\n",
    "# Calculate WOE\n",
    "FICO_SCORE_BINNED['Total_Distri'] = FICO_SCORE_BINNED['Counting']/sum(FICO_SCORE_BINNED['Counting'])\n",
    "FICO_SCORE_BINNED['Bad_Distri'] = FICO_SCORE_BINNED['Bad']/sum(FICO_SCORE_BINNED['Bad'])\n",
    "FICO_SCORE_BINNED['Good_Distri'] = FICO_SCORE_BINNED['Good']/sum(FICO_SCORE_BINNED['Good'])\n",
    "FICO_SCORE_BINNED['WOE'] = np.log(FICO_SCORE_BINNED['Good_Distri'] / FICO_SCORE_BINNED['Bad_Distri'])\n",
    "FICO_SCORE_BINNED['WOE%'] = FICO_SCORE_BINNED['WOE'] * 100\n",
    "\n",
    "FICO_SCORE_BINNED"
   ]
  },
  {
   "cell_type": "code",
   "execution_count": 98,
   "metadata": {},
   "outputs": [
    {
     "data": {
      "text/plain": [
       "0.61008935046189"
      ]
     },
     "execution_count": 98,
     "metadata": {},
     "output_type": "execute_result"
    }
   ],
   "source": [
    "# Information Value\n",
    "IV_FICO_SCORE_BINNED = sum((FICO_SCORE_BINNED['Good_Distri']-FICO_SCORE_BINNED['Bad_Distri'])*FICO_SCORE_BINNED['WOE'])\n",
    "IV_FICO_SCORE_BINNED"
   ]
  },
  {
   "cell_type": "markdown",
   "metadata": {},
   "source": [
    "Considering this level of Information Value, we can tell FICO_Score feature has a strong predictive power."
   ]
  },
  {
   "cell_type": "markdown",
   "metadata": {},
   "source": [
    "***Loan_amount_binned WOE:***"
   ]
  },
  {
   "cell_type": "code",
   "execution_count": 99,
   "metadata": {},
   "outputs": [
    {
     "data": {
      "text/html": [
       "<div>\n",
       "<style scoped>\n",
       "    .dataframe tbody tr th:only-of-type {\n",
       "        vertical-align: middle;\n",
       "    }\n",
       "\n",
       "    .dataframe tbody tr th {\n",
       "        vertical-align: top;\n",
       "    }\n",
       "\n",
       "    .dataframe thead tr th {\n",
       "        text-align: left;\n",
       "    }\n",
       "\n",
       "    .dataframe thead tr:last-of-type th {\n",
       "        text-align: right;\n",
       "    }\n",
       "</style>\n",
       "<table border=\"1\" class=\"dataframe\">\n",
       "  <thead>\n",
       "    <tr>\n",
       "      <th></th>\n",
       "      <th colspan=\"2\" halign=\"left\">ID</th>\n",
       "    </tr>\n",
       "    <tr>\n",
       "      <th>Default_45</th>\n",
       "      <th>0</th>\n",
       "      <th>1</th>\n",
       "    </tr>\n",
       "    <tr>\n",
       "      <th>Loan_amount_binned</th>\n",
       "      <th></th>\n",
       "      <th></th>\n",
       "    </tr>\n",
       "  </thead>\n",
       "  <tbody>\n",
       "    <tr>\n",
       "      <th>0.091525</th>\n",
       "      <td>409</td>\n",
       "      <td>36</td>\n",
       "    </tr>\n",
       "    <tr>\n",
       "      <th>0.241163</th>\n",
       "      <td>7227</td>\n",
       "      <td>2328</td>\n",
       "    </tr>\n",
       "  </tbody>\n",
       "</table>\n",
       "</div>"
      ],
      "text/plain": [
       "                      ID      \n",
       "Default_45             0     1\n",
       "Loan_amount_binned            \n",
       "0.091525             409    36\n",
       "0.241163            7227  2328"
      ]
     },
     "execution_count": 99,
     "metadata": {},
     "output_type": "execute_result"
    }
   ],
   "source": [
    "# Pivoting the LOAN_AMOUNT_BINNED\n",
    "LOAN_AMOUNT_BINNED_p = a_db[['ID','Loan_amount_binned','Default_45']]\n",
    "LOAN_AMOUNT_BINNED_pivoted = LOAN_AMOUNT_BINNED_p.pivot_table(LOAN_AMOUNT_BINNED_p,index= ['Loan_amount_binned'],columns='Default_45', aggfunc='count',fill_value=0)\n",
    "LOAN_AMOUNT_BINNED_pivoted"
   ]
  },
  {
   "cell_type": "code",
   "execution_count": 100,
   "metadata": {},
   "outputs": [
    {
     "data": {
      "text/html": [
       "<div>\n",
       "<style scoped>\n",
       "    .dataframe tbody tr th:only-of-type {\n",
       "        vertical-align: middle;\n",
       "    }\n",
       "\n",
       "    .dataframe tbody tr th {\n",
       "        vertical-align: top;\n",
       "    }\n",
       "\n",
       "    .dataframe thead th {\n",
       "        text-align: right;\n",
       "    }\n",
       "</style>\n",
       "<table border=\"1\" class=\"dataframe\">\n",
       "  <thead>\n",
       "    <tr style=\"text-align: right;\">\n",
       "      <th></th>\n",
       "      <th>Counting</th>\n",
       "      <th>Bad</th>\n",
       "      <th>Good</th>\n",
       "      <th>Total_Distri</th>\n",
       "      <th>Bad_Distri</th>\n",
       "      <th>Good_Distri</th>\n",
       "      <th>WOE</th>\n",
       "      <th>WOE%</th>\n",
       "    </tr>\n",
       "    <tr>\n",
       "      <th>LOAN_AMOUNT_BINNED_Segments</th>\n",
       "      <th></th>\n",
       "      <th></th>\n",
       "      <th></th>\n",
       "      <th></th>\n",
       "      <th></th>\n",
       "      <th></th>\n",
       "      <th></th>\n",
       "      <th></th>\n",
       "    </tr>\n",
       "  </thead>\n",
       "  <tbody>\n",
       "    <tr>\n",
       "      <th>0.241163</th>\n",
       "      <td>9555</td>\n",
       "      <td>2328</td>\n",
       "      <td>7227</td>\n",
       "      <td>0.9555</td>\n",
       "      <td>0.984772</td>\n",
       "      <td>0.946438</td>\n",
       "      <td>-0.039704</td>\n",
       "      <td>-3.970432</td>\n",
       "    </tr>\n",
       "    <tr>\n",
       "      <th>0.091525</th>\n",
       "      <td>445</td>\n",
       "      <td>36</td>\n",
       "      <td>409</td>\n",
       "      <td>0.0445</td>\n",
       "      <td>0.015228</td>\n",
       "      <td>0.053562</td>\n",
       "      <td>1.257677</td>\n",
       "      <td>125.767741</td>\n",
       "    </tr>\n",
       "  </tbody>\n",
       "</table>\n",
       "</div>"
      ],
      "text/plain": [
       "                             Counting   Bad  Good  Total_Distri  Bad_Distri  \\\n",
       "LOAN_AMOUNT_BINNED_Segments                                                   \n",
       "0.241163                         9555  2328  7227        0.9555    0.984772   \n",
       "0.091525                          445    36   409        0.0445    0.015228   \n",
       "\n",
       "                             Good_Distri       WOE        WOE%  \n",
       "LOAN_AMOUNT_BINNED_Segments                                     \n",
       "0.241163                        0.946438 -0.039704   -3.970432  \n",
       "0.091525                        0.053562  1.257677  125.767741  "
      ]
     },
     "execution_count": 100,
     "metadata": {},
     "output_type": "execute_result"
    }
   ],
   "source": [
    "# Building LOAN_AMOUNT_BINNED WOE table\n",
    "LOAN_AMOUNT_BINNED_good = LOAN_AMOUNT_BINNED_pivoted.ID[0]\n",
    "LOAN_AMOUNT_BINNED_bad = LOAN_AMOUNT_BINNED_pivoted.ID[1]\n",
    "\n",
    "# Extracting the dictionary\n",
    "LOAN_AMOUNT_BINNED_Segments = dict(Counter(a_db['Loan_amount_binned']))\n",
    "\n",
    "# Columns counting \n",
    "LOAN_AMOUNT_BINNED = pd.DataFrame.from_dict(LOAN_AMOUNT_BINNED_Segments, orient='index').reset_index().rename(columns={\"index\": \"LOAN_AMOUNT_BINNED_Segments\",0: \"Counting\"}).set_index('LOAN_AMOUNT_BINNED_Segments')\n",
    "\n",
    "frames = [LOAN_AMOUNT_BINNED_good,LOAN_AMOUNT_BINNED_bad,LOAN_AMOUNT_BINNED]\n",
    "\n",
    "# Bad/Good Countings\n",
    "LOAN_AMOUNT_BINNED['Bad'] = LOAN_AMOUNT_BINNED_bad\n",
    "LOAN_AMOUNT_BINNED['Good'] = LOAN_AMOUNT_BINNED_good\n",
    "\n",
    "# Calculate WOE\n",
    "LOAN_AMOUNT_BINNED['Total_Distri'] = LOAN_AMOUNT_BINNED['Counting']/sum(LOAN_AMOUNT_BINNED['Counting'])\n",
    "LOAN_AMOUNT_BINNED['Bad_Distri'] = LOAN_AMOUNT_BINNED['Bad']/sum(LOAN_AMOUNT_BINNED['Bad'])\n",
    "LOAN_AMOUNT_BINNED['Good_Distri'] = LOAN_AMOUNT_BINNED['Good']/sum(LOAN_AMOUNT_BINNED['Good'])\n",
    "LOAN_AMOUNT_BINNED['WOE'] = np.log(LOAN_AMOUNT_BINNED['Good_Distri'] / LOAN_AMOUNT_BINNED['Bad_Distri'])\n",
    "LOAN_AMOUNT_BINNED['WOE%'] = LOAN_AMOUNT_BINNED['WOE'] * 100\n",
    "\n",
    "LOAN_AMOUNT_BINNED"
   ]
  },
  {
   "cell_type": "code",
   "execution_count": 101,
   "metadata": {},
   "outputs": [
    {
     "data": {
      "text/plain": [
       "0.049733374742214495"
      ]
     },
     "execution_count": 101,
     "metadata": {},
     "output_type": "execute_result"
    }
   ],
   "source": [
    "# Information Value\n",
    "IV_LOAN_AMOUNT_BINNED = sum((LOAN_AMOUNT_BINNED['Good_Distri']-LOAN_AMOUNT_BINNED['Bad_Distri'])*LOAN_AMOUNT_BINNED['WOE'])\n",
    "IV_LOAN_AMOUNT_BINNED"
   ]
  },
  {
   "cell_type": "markdown",
   "metadata": {},
   "source": [
    "Considering this level of Information Value, we can tell Loan_amount feature has a weak predictive power."
   ]
  },
  {
   "cell_type": "markdown",
   "metadata": {},
   "source": [
    "***Monthly_income_binned WOE:***"
   ]
  },
  {
   "cell_type": "code",
   "execution_count": 102,
   "metadata": {},
   "outputs": [
    {
     "data": {
      "text/html": [
       "<div>\n",
       "<style scoped>\n",
       "    .dataframe tbody tr th:only-of-type {\n",
       "        vertical-align: middle;\n",
       "    }\n",
       "\n",
       "    .dataframe tbody tr th {\n",
       "        vertical-align: top;\n",
       "    }\n",
       "\n",
       "    .dataframe thead tr th {\n",
       "        text-align: left;\n",
       "    }\n",
       "\n",
       "    .dataframe thead tr:last-of-type th {\n",
       "        text-align: right;\n",
       "    }\n",
       "</style>\n",
       "<table border=\"1\" class=\"dataframe\">\n",
       "  <thead>\n",
       "    <tr>\n",
       "      <th></th>\n",
       "      <th colspan=\"2\" halign=\"left\">ID</th>\n",
       "    </tr>\n",
       "    <tr>\n",
       "      <th>Default_45</th>\n",
       "      <th>0</th>\n",
       "      <th>1</th>\n",
       "    </tr>\n",
       "    <tr>\n",
       "      <th>Monthly_income_binned</th>\n",
       "      <th></th>\n",
       "      <th></th>\n",
       "    </tr>\n",
       "  </thead>\n",
       "  <tbody>\n",
       "    <tr>\n",
       "      <th>0.139200</th>\n",
       "      <td>755</td>\n",
       "      <td>138</td>\n",
       "    </tr>\n",
       "    <tr>\n",
       "      <th>0.192308</th>\n",
       "      <td>533</td>\n",
       "      <td>134</td>\n",
       "    </tr>\n",
       "    <tr>\n",
       "      <th>0.206481</th>\n",
       "      <td>1442</td>\n",
       "      <td>419</td>\n",
       "    </tr>\n",
       "    <tr>\n",
       "      <th>0.260480</th>\n",
       "      <td>4906</td>\n",
       "      <td>1673</td>\n",
       "    </tr>\n",
       "  </tbody>\n",
       "</table>\n",
       "</div>"
      ],
      "text/plain": [
       "                         ID      \n",
       "Default_45                0     1\n",
       "Monthly_income_binned            \n",
       "0.139200                755   138\n",
       "0.192308                533   134\n",
       "0.206481               1442   419\n",
       "0.260480               4906  1673"
      ]
     },
     "execution_count": 102,
     "metadata": {},
     "output_type": "execute_result"
    }
   ],
   "source": [
    "# Pivoting the MONTHLY_INCOME_BINNED\n",
    "MONTHLY_INCOME_BINNED_p = a_db[['ID','Monthly_income_binned','Default_45']]\n",
    "MONTHLY_INCOME_BINNED_pivoted = MONTHLY_INCOME_BINNED_p.pivot_table(MONTHLY_INCOME_BINNED_p,index= ['Monthly_income_binned'],columns='Default_45', aggfunc='count',fill_value=0)\n",
    "MONTHLY_INCOME_BINNED_pivoted"
   ]
  },
  {
   "cell_type": "code",
   "execution_count": 103,
   "metadata": {},
   "outputs": [
    {
     "data": {
      "text/html": [
       "<div>\n",
       "<style scoped>\n",
       "    .dataframe tbody tr th:only-of-type {\n",
       "        vertical-align: middle;\n",
       "    }\n",
       "\n",
       "    .dataframe tbody tr th {\n",
       "        vertical-align: top;\n",
       "    }\n",
       "\n",
       "    .dataframe thead th {\n",
       "        text-align: right;\n",
       "    }\n",
       "</style>\n",
       "<table border=\"1\" class=\"dataframe\">\n",
       "  <thead>\n",
       "    <tr style=\"text-align: right;\">\n",
       "      <th></th>\n",
       "      <th>Counting</th>\n",
       "      <th>Bad</th>\n",
       "      <th>Good</th>\n",
       "      <th>Total_Distri</th>\n",
       "      <th>Bad_Distri</th>\n",
       "      <th>Good_Distri</th>\n",
       "      <th>WOE</th>\n",
       "      <th>WOE%</th>\n",
       "    </tr>\n",
       "    <tr>\n",
       "      <th>MONTHLY_INCOME_BINNED_Segments</th>\n",
       "      <th></th>\n",
       "      <th></th>\n",
       "      <th></th>\n",
       "      <th></th>\n",
       "      <th></th>\n",
       "      <th></th>\n",
       "      <th></th>\n",
       "      <th></th>\n",
       "    </tr>\n",
       "  </thead>\n",
       "  <tbody>\n",
       "    <tr>\n",
       "      <th>0.260480</th>\n",
       "      <td>6579</td>\n",
       "      <td>1673</td>\n",
       "      <td>4906</td>\n",
       "      <td>0.6579</td>\n",
       "      <td>0.707699</td>\n",
       "      <td>0.642483</td>\n",
       "      <td>-0.096678</td>\n",
       "      <td>-9.667828</td>\n",
       "    </tr>\n",
       "    <tr>\n",
       "      <th>0.139200</th>\n",
       "      <td>893</td>\n",
       "      <td>138</td>\n",
       "      <td>755</td>\n",
       "      <td>0.0893</td>\n",
       "      <td>0.058376</td>\n",
       "      <td>0.098874</td>\n",
       "      <td>0.526945</td>\n",
       "      <td>52.694526</td>\n",
       "    </tr>\n",
       "    <tr>\n",
       "      <th>0.206481</th>\n",
       "      <td>1861</td>\n",
       "      <td>419</td>\n",
       "      <td>1442</td>\n",
       "      <td>0.1861</td>\n",
       "      <td>0.177242</td>\n",
       "      <td>0.188842</td>\n",
       "      <td>0.063397</td>\n",
       "      <td>6.339659</td>\n",
       "    </tr>\n",
       "    <tr>\n",
       "      <th>0.192308</th>\n",
       "      <td>667</td>\n",
       "      <td>134</td>\n",
       "      <td>533</td>\n",
       "      <td>0.0667</td>\n",
       "      <td>0.056684</td>\n",
       "      <td>0.069801</td>\n",
       "      <td>0.208163</td>\n",
       "      <td>20.816282</td>\n",
       "    </tr>\n",
       "  </tbody>\n",
       "</table>\n",
       "</div>"
      ],
      "text/plain": [
       "                                Counting   Bad  Good  Total_Distri  \\\n",
       "MONTHLY_INCOME_BINNED_Segments                                       \n",
       "0.260480                            6579  1673  4906        0.6579   \n",
       "0.139200                             893   138   755        0.0893   \n",
       "0.206481                            1861   419  1442        0.1861   \n",
       "0.192308                             667   134   533        0.0667   \n",
       "\n",
       "                                Bad_Distri  Good_Distri       WOE       WOE%  \n",
       "MONTHLY_INCOME_BINNED_Segments                                                \n",
       "0.260480                          0.707699     0.642483 -0.096678  -9.667828  \n",
       "0.139200                          0.058376     0.098874  0.526945  52.694526  \n",
       "0.206481                          0.177242     0.188842  0.063397   6.339659  \n",
       "0.192308                          0.056684     0.069801  0.208163  20.816282  "
      ]
     },
     "execution_count": 103,
     "metadata": {},
     "output_type": "execute_result"
    }
   ],
   "source": [
    "# Building MONTHLY_INCOME_BINNED WOE table\n",
    "MONTHLY_INCOME_BINNED_good = MONTHLY_INCOME_BINNED_pivoted.ID[0]\n",
    "MONTHLY_INCOME_BINNED_bad = MONTHLY_INCOME_BINNED_pivoted.ID[1]\n",
    "\n",
    "# Extracting the dictionary\n",
    "MONTHLY_INCOME_BINNED_Segments = dict(Counter(a_db['Monthly_income_binned']))\n",
    "\n",
    "# Columns counting \n",
    "MONTHLY_INCOME_BINNED = pd.DataFrame.from_dict(MONTHLY_INCOME_BINNED_Segments, orient='index').reset_index().rename(columns={\"index\": \"MONTHLY_INCOME_BINNED_Segments\",0: \"Counting\"}).set_index('MONTHLY_INCOME_BINNED_Segments')\n",
    "\n",
    "frames = [MONTHLY_INCOME_BINNED_good,MONTHLY_INCOME_BINNED_bad,MONTHLY_INCOME_BINNED]\n",
    "\n",
    "# Bad/Good Countings\n",
    "MONTHLY_INCOME_BINNED['Bad'] = MONTHLY_INCOME_BINNED_bad\n",
    "MONTHLY_INCOME_BINNED['Good'] = MONTHLY_INCOME_BINNED_good\n",
    "\n",
    "# Calculate WOE\n",
    "MONTHLY_INCOME_BINNED['Total_Distri'] = MONTHLY_INCOME_BINNED['Counting']/sum(MONTHLY_INCOME_BINNED['Counting'])\n",
    "MONTHLY_INCOME_BINNED['Bad_Distri'] = MONTHLY_INCOME_BINNED['Bad']/sum(MONTHLY_INCOME_BINNED['Bad'])\n",
    "MONTHLY_INCOME_BINNED['Good_Distri'] = MONTHLY_INCOME_BINNED['Good']/sum(MONTHLY_INCOME_BINNED['Good'])\n",
    "MONTHLY_INCOME_BINNED['WOE'] = np.log(MONTHLY_INCOME_BINNED['Good_Distri'] / MONTHLY_INCOME_BINNED['Bad_Distri'])\n",
    "MONTHLY_INCOME_BINNED['WOE%'] = MONTHLY_INCOME_BINNED['WOE'] * 100\n",
    "\n",
    "MONTHLY_INCOME_BINNED"
   ]
  },
  {
   "cell_type": "code",
   "execution_count": 104,
   "metadata": {},
   "outputs": [
    {
     "data": {
      "text/plain": [
       "0.031111217645136677"
      ]
     },
     "execution_count": 104,
     "metadata": {},
     "output_type": "execute_result"
    }
   ],
   "source": [
    "# Information Value\n",
    "IV_MONTHLY_INCOME_BINNED = sum((MONTHLY_INCOME_BINNED['Good_Distri']-MONTHLY_INCOME_BINNED['Bad_Distri'])*MONTHLY_INCOME_BINNED['WOE'])\n",
    "IV_MONTHLY_INCOME_BINNED"
   ]
  },
  {
   "cell_type": "markdown",
   "metadata": {},
   "source": [
    "Considering this level of Information Value, we can tell Monthly_Income feature has a weak predictive power."
   ]
  },
  {
   "cell_type": "markdown",
   "metadata": {},
   "source": [
    "***Gearing_coefficient_binned WOE:***"
   ]
  },
  {
   "cell_type": "code",
   "execution_count": 105,
   "metadata": {},
   "outputs": [
    {
     "data": {
      "text/html": [
       "<div>\n",
       "<style scoped>\n",
       "    .dataframe tbody tr th:only-of-type {\n",
       "        vertical-align: middle;\n",
       "    }\n",
       "\n",
       "    .dataframe tbody tr th {\n",
       "        vertical-align: top;\n",
       "    }\n",
       "\n",
       "    .dataframe thead tr th {\n",
       "        text-align: left;\n",
       "    }\n",
       "\n",
       "    .dataframe thead tr:last-of-type th {\n",
       "        text-align: right;\n",
       "    }\n",
       "</style>\n",
       "<table border=\"1\" class=\"dataframe\">\n",
       "  <thead>\n",
       "    <tr>\n",
       "      <th></th>\n",
       "      <th colspan=\"2\" halign=\"left\">ID</th>\n",
       "    </tr>\n",
       "    <tr>\n",
       "      <th>Default_45</th>\n",
       "      <th>0</th>\n",
       "      <th>1</th>\n",
       "    </tr>\n",
       "    <tr>\n",
       "      <th>Gearing_coefficient_binned</th>\n",
       "      <th></th>\n",
       "      <th></th>\n",
       "    </tr>\n",
       "  </thead>\n",
       "  <tbody>\n",
       "    <tr>\n",
       "      <th>0.221184</th>\n",
       "      <td>5591</td>\n",
       "      <td>1611</td>\n",
       "    </tr>\n",
       "    <tr>\n",
       "      <th>0.269817</th>\n",
       "      <td>2045</td>\n",
       "      <td>753</td>\n",
       "    </tr>\n",
       "  </tbody>\n",
       "</table>\n",
       "</div>"
      ],
      "text/plain": [
       "                              ID      \n",
       "Default_45                     0     1\n",
       "Gearing_coefficient_binned            \n",
       "0.221184                    5591  1611\n",
       "0.269817                    2045   753"
      ]
     },
     "execution_count": 105,
     "metadata": {},
     "output_type": "execute_result"
    }
   ],
   "source": [
    "# Pivoting the GEARING_COEFFICIENT_BINNED\n",
    "GEARING_COEFFICIENT_BINNED_p = a_db[['ID','Gearing_coefficient_binned','Default_45']]\n",
    "GEARING_COEFFICIENT_BINNED_pivoted = GEARING_COEFFICIENT_BINNED_p.pivot_table(GEARING_COEFFICIENT_BINNED_p,index= ['Gearing_coefficient_binned'],columns='Default_45', aggfunc='count',fill_value=0)\n",
    "GEARING_COEFFICIENT_BINNED_pivoted"
   ]
  },
  {
   "cell_type": "code",
   "execution_count": 106,
   "metadata": {},
   "outputs": [
    {
     "data": {
      "text/html": [
       "<div>\n",
       "<style scoped>\n",
       "    .dataframe tbody tr th:only-of-type {\n",
       "        vertical-align: middle;\n",
       "    }\n",
       "\n",
       "    .dataframe tbody tr th {\n",
       "        vertical-align: top;\n",
       "    }\n",
       "\n",
       "    .dataframe thead th {\n",
       "        text-align: right;\n",
       "    }\n",
       "</style>\n",
       "<table border=\"1\" class=\"dataframe\">\n",
       "  <thead>\n",
       "    <tr style=\"text-align: right;\">\n",
       "      <th></th>\n",
       "      <th>Counting</th>\n",
       "      <th>Bad</th>\n",
       "      <th>Good</th>\n",
       "      <th>Total_Distri</th>\n",
       "      <th>Bad_Distri</th>\n",
       "      <th>Good_Distri</th>\n",
       "      <th>WOE</th>\n",
       "      <th>WOE%</th>\n",
       "    </tr>\n",
       "    <tr>\n",
       "      <th>GEARING_COEFFICIENT_BINNED_Segments</th>\n",
       "      <th></th>\n",
       "      <th></th>\n",
       "      <th></th>\n",
       "      <th></th>\n",
       "      <th></th>\n",
       "      <th></th>\n",
       "      <th></th>\n",
       "      <th></th>\n",
       "    </tr>\n",
       "  </thead>\n",
       "  <tbody>\n",
       "    <tr>\n",
       "      <th>0.221184</th>\n",
       "      <td>7202</td>\n",
       "      <td>1611</td>\n",
       "      <td>5591</td>\n",
       "      <td>0.7202</td>\n",
       "      <td>0.681472</td>\n",
       "      <td>0.73219</td>\n",
       "      <td>0.071784</td>\n",
       "      <td>7.178425</td>\n",
       "    </tr>\n",
       "    <tr>\n",
       "      <th>0.269817</th>\n",
       "      <td>2798</td>\n",
       "      <td>753</td>\n",
       "      <td>2045</td>\n",
       "      <td>0.2798</td>\n",
       "      <td>0.318528</td>\n",
       "      <td>0.26781</td>\n",
       "      <td>-0.173431</td>\n",
       "      <td>-17.343097</td>\n",
       "    </tr>\n",
       "  </tbody>\n",
       "</table>\n",
       "</div>"
      ],
      "text/plain": [
       "                                     Counting   Bad  Good  Total_Distri  \\\n",
       "GEARING_COEFFICIENT_BINNED_Segments                                       \n",
       "0.221184                                 7202  1611  5591        0.7202   \n",
       "0.269817                                 2798   753  2045        0.2798   \n",
       "\n",
       "                                     Bad_Distri  Good_Distri       WOE  \\\n",
       "GEARING_COEFFICIENT_BINNED_Segments                                      \n",
       "0.221184                               0.681472      0.73219  0.071784   \n",
       "0.269817                               0.318528      0.26781 -0.173431   \n",
       "\n",
       "                                          WOE%  \n",
       "GEARING_COEFFICIENT_BINNED_Segments             \n",
       "0.221184                              7.178425  \n",
       "0.269817                            -17.343097  "
      ]
     },
     "execution_count": 106,
     "metadata": {},
     "output_type": "execute_result"
    }
   ],
   "source": [
    "# Building GEARING_COEFFICIENT_BINNED WOE table\n",
    "GEARING_COEFFICIENT_BINNED_good = GEARING_COEFFICIENT_BINNED_pivoted.ID[0]\n",
    "GEARING_COEFFICIENT_BINNED_bad = GEARING_COEFFICIENT_BINNED_pivoted.ID[1]\n",
    "\n",
    "# Extracting the dictionary\n",
    "GEARING_COEFFICIENT_BINNED_Segments = dict(Counter(a_db['Gearing_coefficient_binned']))\n",
    "\n",
    "# Columns counting \n",
    "GEARING_COEFFICIENT_BINNED = pd.DataFrame.from_dict(GEARING_COEFFICIENT_BINNED_Segments, orient='index').reset_index().rename(columns={\"index\": \"GEARING_COEFFICIENT_BINNED_Segments\",0: \"Counting\"}).set_index('GEARING_COEFFICIENT_BINNED_Segments')\n",
    "\n",
    "frames = [GEARING_COEFFICIENT_BINNED_good,GEARING_COEFFICIENT_BINNED_bad,GEARING_COEFFICIENT_BINNED]\n",
    "\n",
    "# Bad/Good Countings\n",
    "GEARING_COEFFICIENT_BINNED['Bad'] = GEARING_COEFFICIENT_BINNED_bad\n",
    "GEARING_COEFFICIENT_BINNED['Good'] = GEARING_COEFFICIENT_BINNED_good\n",
    "\n",
    "# Calculate WOE\n",
    "GEARING_COEFFICIENT_BINNED['Total_Distri'] = GEARING_COEFFICIENT_BINNED['Counting']/sum(GEARING_COEFFICIENT_BINNED['Counting'])\n",
    "GEARING_COEFFICIENT_BINNED['Bad_Distri'] = GEARING_COEFFICIENT_BINNED['Bad']/sum(GEARING_COEFFICIENT_BINNED['Bad'])\n",
    "GEARING_COEFFICIENT_BINNED['Good_Distri'] = GEARING_COEFFICIENT_BINNED['Good']/sum(GEARING_COEFFICIENT_BINNED['Good'])\n",
    "GEARING_COEFFICIENT_BINNED['WOE'] = np.log(GEARING_COEFFICIENT_BINNED['Good_Distri'] / GEARING_COEFFICIENT_BINNED['Bad_Distri'])\n",
    "GEARING_COEFFICIENT_BINNED['WOE%'] = GEARING_COEFFICIENT_BINNED['WOE'] * 100\n",
    "\n",
    "GEARING_COEFFICIENT_BINNED"
   ]
  },
  {
   "cell_type": "code",
   "execution_count": 107,
   "metadata": {},
   "outputs": [
    {
     "data": {
      "text/plain": [
       "0.012436714267556508"
      ]
     },
     "execution_count": 107,
     "metadata": {},
     "output_type": "execute_result"
    }
   ],
   "source": [
    "# Information Value\n",
    "IV_GEARING_COEFFICIENT_BINNED = sum((GEARING_COEFFICIENT_BINNED['Good_Distri']-GEARING_COEFFICIENT_BINNED['Bad_Distri'])*GEARING_COEFFICIENT_BINNED['WOE'])\n",
    "IV_GEARING_COEFFICIENT_BINNED"
   ]
  },
  {
   "cell_type": "markdown",
   "metadata": {},
   "source": [
    "Considering this level of Information Value, we can tell Gearing_coefficient feature is not useful for predictions."
   ]
  },
  {
   "cell_type": "markdown",
   "metadata": {},
   "source": [
    "***Feature selection*** - We should ***not*** use the following features to run a model:\n",
    "* Has_FICO\n",
    "* Max_gearing_ratio\n",
    "* Days_late\n",
    "* Gearing_coefficient"
   ]
  },
  {
   "cell_type": "markdown",
   "metadata": {},
   "source": [
    "------------------------------------------------------------------------------------------"
   ]
  },
  {
   "cell_type": "markdown",
   "metadata": {},
   "source": [
    "**e) Factor and Offset (Scorecard scaling):**"
   ]
  },
  {
   "cell_type": "markdown",
   "metadata": {},
   "source": [
    "In this section, we are going to establish the benchmark that is going to help us to create the score card."
   ]
  },
  {
   "cell_type": "code",
   "execution_count": 108,
   "metadata": {},
   "outputs": [
    {
     "name": "stdout",
     "output_type": "stream",
     "text": [
      "Factor: 14.43 | Offset: 556.78\n"
     ]
    }
   ],
   "source": [
    "# Target Score of 600 with a radio of good:bad of 20:1 and an increase of 10 means a doubling odds\n",
    "Factor = 10/np.log(2)\n",
    "Offset = 600 - Factor*np.log(20)\n",
    "print('Factor:', round(Factor,2),'| Offset:',round(Offset,2))"
   ]
  },
  {
   "cell_type": "markdown",
   "metadata": {},
   "source": [
    "------------------------------------------------------------------------------------------"
   ]
  },
  {
   "cell_type": "markdown",
   "metadata": {},
   "source": [
    "**d) Preparing the WOE database:**"
   ]
  },
  {
   "cell_type": "markdown",
   "metadata": {},
   "source": [
    "Here, we are only processing the data in order to have a similar table we originally had, but now all the variables are going to be continuos."
   ]
  },
  {
   "cell_type": "code",
   "execution_count": 109,
   "metadata": {},
   "outputs": [],
   "source": [
    "# Summarize Table\n",
    "V1 = V1.reset_index().rename(columns={\"V1_Segments\": \"Segments\"})[['Segments','WOE']]\n",
    "V1['Feature'] = 'V1'\n",
    "\n",
    "V2 = V2.reset_index().rename(columns={\"V2_Segments\": \"Segments\"})[['Segments','WOE']]\n",
    "V2['Feature'] = 'V2'\n",
    "\n",
    "V3 = V3.reset_index().rename(columns={\"V3_Segments\": \"Segments\"})[['Segments','WOE']]\n",
    "V3['Feature'] = 'V3'\n",
    "\n",
    "V4 = V4.reset_index().rename(columns={\"V4_Segments\": \"Segments\"})[['Segments','WOE']]\n",
    "V4['Feature'] = 'V4'\n",
    "\n",
    "V5 = V5.reset_index().rename(columns={\"V5_Segments\": \"Segments\"})[['Segments','WOE']]\n",
    "V5['Feature'] = 'V5'\n",
    "\n",
    "V6 = V6.reset_index().rename(columns={\"V6_Segments\": \"Segments\"})[['Segments','WOE']]\n",
    "V6['Feature'] = 'V6'\n",
    "\n",
    "V7 = V7.reset_index().rename(columns={\"V7_Segments\": \"Segments\"})[['Segments','WOE']]\n",
    "V7['Feature'] = 'V7'\n",
    "\n",
    "V8 = V8.reset_index().rename(columns={\"V8_Segments\": \"Segments\"})[['Segments','WOE']]\n",
    "V8['Feature'] = 'V8'\n",
    "\n",
    "BUSINESS_CHANNEL = BUSINESS_CHANNEL.reset_index().rename(columns={\"BUSINESS_CHANNEL_Segments\": \"Segments\"})[['Segments','WOE']]\n",
    "BUSINESS_CHANNEL['Feature'] = 'BUSINESS_CHANNEL'\n",
    "\n",
    "AGE_BINNED = AGE_BINNED.reset_index().rename(columns={\"AGE_BINNED_Segments\": \"Segments\"})[['Segments','WOE']]\n",
    "AGE_BINNED['Feature'] = 'AGE_BINNED'\n",
    "\n",
    "FICO_SCORE_BINNED = FICO_SCORE_BINNED.reset_index().rename(columns={\"FICO_SCORE_BINNED_Segments\": \"Segments\"})[['Segments','WOE']]\n",
    "FICO_SCORE_BINNED['Feature'] = 'FICO_SCORE_BINNED'\n",
    "\n",
    "LOAN_AMOUNT_BINNED = LOAN_AMOUNT_BINNED.reset_index().rename(columns={\"LOAN_AMOUNT_BINNED_Segments\": \"Segments\"})[['Segments','WOE']]\n",
    "LOAN_AMOUNT_BINNED['Feature'] = 'LOAN_AMOUNT_BINNED'\n",
    "\n",
    "MONTHLY_INCOME_BINNED = MONTHLY_INCOME_BINNED.reset_index().rename(columns={\"MONTHLY_INCOME_BINNED_Segments\": \"Segments\"})[['Segments','WOE']]\n",
    "MONTHLY_INCOME_BINNED['Feature'] = 'MONTHLY_INCOME_BINNED'"
   ]
  },
  {
   "cell_type": "code",
   "execution_count": 110,
   "metadata": {},
   "outputs": [],
   "source": [
    "# Concatenating tables\n",
    "#frames = [V1,V2,V3,V4,V5,V6,V7,V8,BUSINESS_CHANNEL,AGE_BINNED,FICO_SCORE_BINNED,LOAN_AMOUNT_BINNED,MONTHLY_INCOME_BINNED]\n",
    "\n",
    "#db = pd.concat(frames,axis=0)\n",
    "#db = db[['Feature', 'Segments', 'WOE']]\n",
    "\n",
    "#db.head()"
   ]
  },
  {
   "cell_type": "code",
   "execution_count": 111,
   "metadata": {},
   "outputs": [],
   "source": [
    "accepts = a_db"
   ]
  },
  {
   "cell_type": "code",
   "execution_count": 112,
   "metadata": {},
   "outputs": [],
   "source": [
    "# Doing a 'vlook up' in convert the categorical variables into continuos\n",
    "V1_2 = V1.iloc[:,0:2].rename(columns={\"Segments\": \"V1\",\"WOE\": \"V1_WOE\"})\n",
    "V2_2 = V2.iloc[:,0:2].rename(columns={\"Segments\": \"V2\",\"WOE\": \"V2_WOE\"})\n",
    "V3_2 = V3.iloc[:,0:2].rename(columns={\"Segments\": \"V3\",\"WOE\": \"V3_WOE\"})\n",
    "V4_2 = V4.iloc[:,0:2].rename(columns={\"Segments\": \"V4\",\"WOE\": \"V4_WOE\"})\n",
    "V5_2 = V5.iloc[:,0:2].rename(columns={\"Segments\": \"V5\",\"WOE\": \"V5_WOE\"})\n",
    "V6_2 = V6.iloc[:,0:2].rename(columns={\"Segments\": \"V6\",\"WOE\": \"V6_WOE\"})\n",
    "V7_2 = V7.iloc[:,0:2].rename(columns={\"Segments\": \"V7\",\"WOE\": \"V7_WOE\"})\n",
    "V8_2 = V8.iloc[:,0:2].rename(columns={\"Segments\": \"V8\",\"WOE\": \"V8_WOE\"})\n",
    "\n",
    "BUSINESS_CHANNEL_2 = BUSINESS_CHANNEL.iloc[:,0:2].rename(columns={\"Segments\": \"BUSINESS_CHANNEL\",\"WOE\": \"BUSINESS_CHANNEL_WOE\"})\n",
    "AGE_BINNED_2 = AGE_BINNED.iloc[:,0:2].rename(columns={\"Segments\": \"AGE_BINNED\",\"WOE\": \"AGE_BINNED_WOE\"})\n",
    "FICO_SCORE_BINNED_2 = FICO_SCORE_BINNED.iloc[:,0:2].rename(columns={\"Segments\": \"FICO_SCORE_BINNED\",\"WOE\": \"FICO_SCORE_BINNED_WOE\"})\n",
    "LOAN_AMOUNT_BINNED_2 = LOAN_AMOUNT_BINNED.iloc[:,0:2].rename(columns={\"Segments\": \"LOAN_AMOUNT_BINNED\",\"WOE\": \"LOAN_AMOUNT_BINNED_WOE\"})\n",
    "MONTHLY_INCOME_BINNED_2 = MONTHLY_INCOME_BINNED.iloc[:,0:2].rename(columns={\"Segments\": \"MONTHLY_INCOME_BINNED\",\"WOE\": \"MONTHLY_INCOME_BINNED_WOE\"})"
   ]
  },
  {
   "cell_type": "code",
   "execution_count": 113,
   "metadata": {},
   "outputs": [],
   "source": [
    "# Every column has to be in upper case in order to join both tables\n",
    "accepts.columns = accepts.columns.str.upper() "
   ]
  },
  {
   "cell_type": "code",
   "execution_count": 114,
   "metadata": {},
   "outputs": [],
   "source": [
    "# Joining all together in order to have a table with continuos variables\n",
    "accepts1 = accepts.merge(V1_2, on='V1', how='left')\n",
    "accepts2 = accepts1.merge(V2_2, on='V2', how='left')\n",
    "accepts3 = accepts2.merge(V3_2, on='V3', how='left')\n",
    "accepts4 = accepts3.merge(V4_2, on='V4', how='left')\n",
    "accepts5 = accepts4.merge(V5_2, on='V5', how='left')\n",
    "accepts6 = accepts5.merge(V6_2, on='V6', how='left')\n",
    "accepts7 = accepts6.merge(V7_2, on='V7', how='left')\n",
    "accepts8 = accepts7.merge(V8_2, on='V8', how='left')\n",
    "accepts9 = accepts8.merge(BUSINESS_CHANNEL_2, on='BUSINESS_CHANNEL', how='left')\n",
    "accepts10 = accepts9.merge(AGE_BINNED_2, on='AGE_BINNED', how='left')\n",
    "accepts11 = accepts10.merge(FICO_SCORE_BINNED_2, on='FICO_SCORE_BINNED', how='left')\n",
    "accepts12 = accepts11.merge(LOAN_AMOUNT_BINNED_2, on='LOAN_AMOUNT_BINNED', how='left')\n",
    "accepts13 = accepts12.merge(MONTHLY_INCOME_BINNED_2, on='MONTHLY_INCOME_BINNED', how='left')\n",
    "\n",
    "accepts = accepts13"
   ]
  },
  {
   "cell_type": "code",
   "execution_count": 115,
   "metadata": {},
   "outputs": [
    {
     "data": {
      "text/html": [
       "<div>\n",
       "<style scoped>\n",
       "    .dataframe tbody tr th:only-of-type {\n",
       "        vertical-align: middle;\n",
       "    }\n",
       "\n",
       "    .dataframe tbody tr th {\n",
       "        vertical-align: top;\n",
       "    }\n",
       "\n",
       "    .dataframe thead th {\n",
       "        text-align: right;\n",
       "    }\n",
       "</style>\n",
       "<table border=\"1\" class=\"dataframe\">\n",
       "  <thead>\n",
       "    <tr style=\"text-align: right;\">\n",
       "      <th></th>\n",
       "      <th>ID</th>\n",
       "      <th>V1_WOE</th>\n",
       "      <th>V2_WOE</th>\n",
       "      <th>V3_WOE</th>\n",
       "      <th>V4_WOE</th>\n",
       "      <th>V5_WOE</th>\n",
       "      <th>V6_WOE</th>\n",
       "      <th>V7_WOE</th>\n",
       "      <th>V8_WOE</th>\n",
       "      <th>BUSINESS_CHANNEL_WOE</th>\n",
       "      <th>AGE_BINNED_WOE</th>\n",
       "      <th>FICO_SCORE_BINNED_WOE</th>\n",
       "      <th>LOAN_AMOUNT_BINNED_WOE</th>\n",
       "      <th>MONTHLY_INCOME_BINNED_WOE</th>\n",
       "      <th>DEFAULT_45</th>\n",
       "    </tr>\n",
       "  </thead>\n",
       "  <tbody>\n",
       "    <tr>\n",
       "      <th>0</th>\n",
       "      <td>250263</td>\n",
       "      <td>0.327443</td>\n",
       "      <td>0.494739</td>\n",
       "      <td>0.350785</td>\n",
       "      <td>0.805661</td>\n",
       "      <td>0.801843</td>\n",
       "      <td>0.853254</td>\n",
       "      <td>0.276576</td>\n",
       "      <td>0.299135</td>\n",
       "      <td>0.176575</td>\n",
       "      <td>0.752629</td>\n",
       "      <td>-0.039518</td>\n",
       "      <td>-0.039704</td>\n",
       "      <td>-0.096678</td>\n",
       "      <td>0</td>\n",
       "    </tr>\n",
       "    <tr>\n",
       "      <th>1</th>\n",
       "      <td>250290</td>\n",
       "      <td>0.327443</td>\n",
       "      <td>0.587742</td>\n",
       "      <td>-0.185132</td>\n",
       "      <td>-0.274365</td>\n",
       "      <td>0.409331</td>\n",
       "      <td>0.522614</td>\n",
       "      <td>0.276576</td>\n",
       "      <td>0.299135</td>\n",
       "      <td>0.176575</td>\n",
       "      <td>0.752629</td>\n",
       "      <td>1.513059</td>\n",
       "      <td>-0.039704</td>\n",
       "      <td>-0.096678</td>\n",
       "      <td>0</td>\n",
       "    </tr>\n",
       "    <tr>\n",
       "      <th>2</th>\n",
       "      <td>250249</td>\n",
       "      <td>0.389852</td>\n",
       "      <td>-0.104869</td>\n",
       "      <td>0.350785</td>\n",
       "      <td>0.805661</td>\n",
       "      <td>0.812368</td>\n",
       "      <td>0.853254</td>\n",
       "      <td>0.276576</td>\n",
       "      <td>0.299135</td>\n",
       "      <td>0.176575</td>\n",
       "      <td>0.752629</td>\n",
       "      <td>-0.039518</td>\n",
       "      <td>-0.039704</td>\n",
       "      <td>0.526945</td>\n",
       "      <td>0</td>\n",
       "    </tr>\n",
       "    <tr>\n",
       "      <th>3</th>\n",
       "      <td>249516</td>\n",
       "      <td>-0.564496</td>\n",
       "      <td>-0.104869</td>\n",
       "      <td>-0.339066</td>\n",
       "      <td>-0.274365</td>\n",
       "      <td>-0.613632</td>\n",
       "      <td>0.038751</td>\n",
       "      <td>0.276576</td>\n",
       "      <td>0.299135</td>\n",
       "      <td>0.176575</td>\n",
       "      <td>0.752629</td>\n",
       "      <td>-0.039518</td>\n",
       "      <td>-0.039704</td>\n",
       "      <td>-0.096678</td>\n",
       "      <td>1</td>\n",
       "    </tr>\n",
       "    <tr>\n",
       "      <th>4</th>\n",
       "      <td>249827</td>\n",
       "      <td>0.327443</td>\n",
       "      <td>-0.104869</td>\n",
       "      <td>1.053105</td>\n",
       "      <td>-0.130021</td>\n",
       "      <td>0.316158</td>\n",
       "      <td>0.038751</td>\n",
       "      <td>0.276576</td>\n",
       "      <td>0.223054</td>\n",
       "      <td>0.176575</td>\n",
       "      <td>-0.208180</td>\n",
       "      <td>-0.039518</td>\n",
       "      <td>-0.039704</td>\n",
       "      <td>0.063397</td>\n",
       "      <td>0</td>\n",
       "    </tr>\n",
       "  </tbody>\n",
       "</table>\n",
       "</div>"
      ],
      "text/plain": [
       "       ID    V1_WOE    V2_WOE    V3_WOE    V4_WOE    V5_WOE    V6_WOE  \\\n",
       "0  250263  0.327443  0.494739  0.350785  0.805661  0.801843  0.853254   \n",
       "1  250290  0.327443  0.587742 -0.185132 -0.274365  0.409331  0.522614   \n",
       "2  250249  0.389852 -0.104869  0.350785  0.805661  0.812368  0.853254   \n",
       "3  249516 -0.564496 -0.104869 -0.339066 -0.274365 -0.613632  0.038751   \n",
       "4  249827  0.327443 -0.104869  1.053105 -0.130021  0.316158  0.038751   \n",
       "\n",
       "     V7_WOE    V8_WOE  BUSINESS_CHANNEL_WOE  AGE_BINNED_WOE  \\\n",
       "0  0.276576  0.299135              0.176575        0.752629   \n",
       "1  0.276576  0.299135              0.176575        0.752629   \n",
       "2  0.276576  0.299135              0.176575        0.752629   \n",
       "3  0.276576  0.299135              0.176575        0.752629   \n",
       "4  0.276576  0.223054              0.176575       -0.208180   \n",
       "\n",
       "   FICO_SCORE_BINNED_WOE  LOAN_AMOUNT_BINNED_WOE  MONTHLY_INCOME_BINNED_WOE  \\\n",
       "0              -0.039518               -0.039704                  -0.096678   \n",
       "1               1.513059               -0.039704                  -0.096678   \n",
       "2              -0.039518               -0.039704                   0.526945   \n",
       "3              -0.039518               -0.039704                  -0.096678   \n",
       "4              -0.039518               -0.039704                   0.063397   \n",
       "\n",
       "  DEFAULT_45  \n",
       "0          0  \n",
       "1          0  \n",
       "2          0  \n",
       "3          1  \n",
       "4          0  "
      ]
     },
     "execution_count": 115,
     "metadata": {},
     "output_type": "execute_result"
    }
   ],
   "source": [
    "# Final database\n",
    "a1 = accepts.iloc[:,0]\n",
    "a2 = accepts.iloc[:,19:]\n",
    "a3 = accepts.iloc[:,18]\n",
    "\n",
    "accepts = pd.concat([a1,a2,a3],axis=1)\n",
    "accepts.head(5)"
   ]
  },
  {
   "cell_type": "markdown",
   "metadata": {},
   "source": [
    "------------------------------------------------------------------------------------------"
   ]
  },
  {
   "cell_type": "markdown",
   "metadata": {},
   "source": [
    "**e) Modeling:**"
   ]
  },
  {
   "cell_type": "markdown",
   "metadata": {},
   "source": [
    "Using the previous table, we are going to run a Logistic Regression Model. By this, we will have the coefficients and the intercept that is going to help us to calculate the score card of each individual."
   ]
  },
  {
   "cell_type": "markdown",
   "metadata": {},
   "source": [
    "***Logistic Regression:***"
   ]
  },
  {
   "cell_type": "code",
   "execution_count": 116,
   "metadata": {},
   "outputs": [],
   "source": [
    "# Oversampling\n",
    "X = accepts.iloc[:,:14]\n",
    "y = accepts['DEFAULT_45']\n",
    "\n",
    "ros = RandomOverSampler(random_state=123)\n",
    "X_resampled, y_resampled = ros.fit_sample(X, y)\n",
    "\n",
    "X_resampled = pd.DataFrame(X_resampled)\n",
    "y_resampled = pd.DataFrame(y_resampled)\n",
    "\n",
    "a = pd.concat([X_resampled,y_resampled], axis=1)\n",
    "a.columns = accepts.columns\n",
    "\n",
    "accepts = a"
   ]
  },
  {
   "cell_type": "code",
   "execution_count": 117,
   "metadata": {},
   "outputs": [],
   "source": [
    "# Splitting the data into training and test set\n",
    "X_train, X_test, y_train, y_test = train_test_split(accepts.iloc[:,1:14],accepts['DEFAULT_45'] , test_size = 0.3)"
   ]
  },
  {
   "cell_type": "code",
   "execution_count": 118,
   "metadata": {},
   "outputs": [
    {
     "data": {
      "text/plain": [
       "LogisticRegression(C=1.0, class_weight=None, dual=False, fit_intercept=True,\n",
       "          intercept_scaling=1, max_iter=100, multi_class='ovr', n_jobs=1,\n",
       "          penalty='l2', random_state=123, solver='liblinear', tol=0.0001,\n",
       "          verbose=0, warm_start=False)"
      ]
     },
     "execution_count": 118,
     "metadata": {},
     "output_type": "execute_result"
    }
   ],
   "source": [
    "# Training the model\n",
    "logreg = LogisticRegression(random_state=123)\n",
    "logreg.fit(X_train, y_train)"
   ]
  },
  {
   "cell_type": "code",
   "execution_count": 119,
   "metadata": {},
   "outputs": [
    {
     "name": "stdout",
     "output_type": "stream",
     "text": [
      "Accuracy of logistic regression classifier on test set: 0.70\n"
     ]
    }
   ],
   "source": [
    "# Model Accuracy\n",
    "y_pred = logreg.predict(X_test)\n",
    "print('Accuracy of logistic regression classifier on test set: {:.2f}'.format(logreg.score(X_test, y_test)))"
   ]
  },
  {
   "cell_type": "code",
   "execution_count": 120,
   "metadata": {},
   "outputs": [
    {
     "data": {
      "image/png": "[encoded data removed]",
      "text/plain": [
       "<Figure size 432x288 with 1 Axes>"
      ]
     },
     "metadata": {
      "needs_background": "light"
     },
     "output_type": "display_data"
    }
   ],
   "source": [
    "# ROC Curve\n",
    "logit_roc_auc = roc_auc_score(y_test, logreg.predict(X_test))\n",
    "fpr, tpr, thresholds = roc_curve(y_test, logreg.predict_proba(X_test)[:,1])\n",
    "plt.figure()\n",
    "plt.plot(fpr, tpr, label='Logistic Regression (area = %0.2f)' % logit_roc_auc)\n",
    "plt.plot([0, 1], [0, 1],'r--')\n",
    "plt.xlim([0.0, 1.0])\n",
    "plt.ylim([0.0, 1.05])\n",
    "plt.xlabel('False Positive Rate')\n",
    "plt.ylabel('True Positive Rate')\n",
    "plt.title('Receiver operating characteristic')\n",
    "plt.legend(loc=\"lower right\")\n",
    "plt.show()"
   ]
  },
  {
   "cell_type": "code",
   "execution_count": 121,
   "metadata": {},
   "outputs": [
    {
     "name": "stdout",
     "output_type": "stream",
     "text": [
      "Average precision-recall score: 0.64\n"
     ]
    }
   ],
   "source": [
    "# Average precision-recall\n",
    "average_precision = average_precision_score(y_test, logreg.predict(X_test))\n",
    "print('Average precision-recall score: {0:0.2f}'.format(average_precision))"
   ]
  },
  {
   "cell_type": "code",
   "execution_count": 122,
   "metadata": {},
   "outputs": [
    {
     "name": "stderr",
     "output_type": "stream",
     "text": [
      "C:\\ProgramData\\Anaconda3\\lib\\site-packages\\ipykernel_launcher.py:8: SettingWithCopyWarning: \n",
      "A value is trying to be set on a copy of a slice from a DataFrame\n",
      "\n",
      "See the caveats in the documentation: http://pandas.pydata.org/pandas-docs/stable/indexing.html#indexing-view-versus-copy\n",
      "  \n",
      "C:\\ProgramData\\Anaconda3\\lib\\site-packages\\ipykernel_launcher.py:9: SettingWithCopyWarning: \n",
      "A value is trying to be set on a copy of a slice from a DataFrame\n",
      "\n",
      "See the caveats in the documentation: http://pandas.pydata.org/pandas-docs/stable/indexing.html#indexing-view-versus-copy\n",
      "  if __name__ == '__main__':\n"
     ]
    }
   ],
   "source": [
    "# Good and Bad Clients\n",
    "ID = accepts['ID']\n",
    "X = accepts.iloc[:,1:14]\n",
    "preds = pd.DataFrame(logreg.predict(accepts.iloc[:,1:14])).rename(columns={0:'Preds'})\n",
    "\n",
    "Classification = pd.concat([ID,X,preds],axis=1)\n",
    "\n",
    "Classification['Preds'][Classification['Preds'] == 0] = 'Good Client'\n",
    "Classification['Preds'][Classification['Preds'] == 1] = 'Bad Client'"
   ]
  },
  {
   "cell_type": "code",
   "execution_count": 123,
   "metadata": {},
   "outputs": [
    {
     "name": "stdout",
     "output_type": "stream",
     "text": [
      "% of Good Clients: 44.92\n"
     ]
    }
   ],
   "source": [
    "print('% of Good Clients:',round((sum(Classification['Preds'] == 'Good Client')/len(Classification['Preds']))*100,2))"
   ]
  },
  {
   "cell_type": "markdown",
   "metadata": {},
   "source": [
    "------------------------------------------------------------------------------------------"
   ]
  },
  {
   "cell_type": "markdown",
   "metadata": {},
   "source": [
    "**f) Other models:**"
   ]
  },
  {
   "cell_type": "markdown",
   "metadata": {},
   "source": [
    "***Naïve Bayes:***"
   ]
  },
  {
   "cell_type": "code",
   "execution_count": 133,
   "metadata": {},
   "outputs": [],
   "source": [
    "from sklearn.naive_bayes import GaussianNB"
   ]
  },
  {
   "cell_type": "code",
   "execution_count": 134,
   "metadata": {},
   "outputs": [
    {
     "data": {
      "text/plain": [
       "GaussianNB(priors=None)"
      ]
     },
     "execution_count": 134,
     "metadata": {},
     "output_type": "execute_result"
    }
   ],
   "source": [
    "# Training the model\n",
    "nb = GaussianNB()\n",
    "nb.fit(X_train,y_train)"
   ]
  },
  {
   "cell_type": "code",
   "execution_count": 135,
   "metadata": {},
   "outputs": [
    {
     "name": "stdout",
     "output_type": "stream",
     "text": [
      "Accuracy of Naïve Bayes classifier on test set: 0.66\n"
     ]
    }
   ],
   "source": [
    "# Model Accuracy\n",
    "y_pred = nb.predict(X_test)\n",
    "print('Accuracy of Naïve Bayes classifier on test set: {:.2f}'.format(nb.score(X_test, y_test)))"
   ]
  },
  {
   "cell_type": "code",
   "execution_count": 136,
   "metadata": {},
   "outputs": [
    {
     "data": {
      "image/png": "[encoded data removed]",
      "text/plain": [
       "<Figure size 432x288 with 1 Axes>"
      ]
     },
     "metadata": {
      "needs_background": "light"
     },
     "output_type": "display_data"
    }
   ],
   "source": [
    "# ROC Curve\n",
    "nb_roc_auc = roc_auc_score(y_test, nb.predict(X_test))\n",
    "fpr, tpr, thresholds = roc_curve(y_test, nb.predict_proba(X_test)[:,1])\n",
    "plt.figure()\n",
    "plt.plot(fpr, tpr, label='Naïve Bayes (area = %0.2f)' % nb_roc_auc)\n",
    "plt.plot([0, 1], [0, 1],'r--')\n",
    "plt.xlim([0.0, 1.0])\n",
    "plt.ylim([0.0, 1.05])\n",
    "plt.xlabel('False Positive Rate')\n",
    "plt.ylabel('True Positive Rate')\n",
    "plt.title('Receiver operating characteristic')\n",
    "plt.legend(loc=\"lower right\")\n",
    "plt.show()"
   ]
  },
  {
   "cell_type": "code",
   "execution_count": 137,
   "metadata": {},
   "outputs": [
    {
     "name": "stdout",
     "output_type": "stream",
     "text": [
      "Average precision-recall score: 0.61\n"
     ]
    }
   ],
   "source": [
    "# Average precision-recall\n",
    "average_precision = average_precision_score(y_test, nb.predict(X_test))\n",
    "print('Average precision-recall score: {0:0.2f}'.format(average_precision))"
   ]
  },
  {
   "cell_type": "markdown",
   "metadata": {},
   "source": [
    "***K-Nearest Neighbours:***"
   ]
  },
  {
   "cell_type": "code",
   "execution_count": 138,
   "metadata": {},
   "outputs": [],
   "source": [
    "from sklearn.neighbors import KNeighborsClassifier"
   ]
  },
  {
   "cell_type": "code",
   "execution_count": 139,
   "metadata": {},
   "outputs": [
    {
     "data": {
      "text/plain": [
       "KNeighborsClassifier(algorithm='auto', leaf_size=30, metric='minkowski',\n",
       "           metric_params=None, n_jobs=1, n_neighbors=50, p=2,\n",
       "           weights='uniform')"
      ]
     },
     "execution_count": 139,
     "metadata": {},
     "output_type": "execute_result"
    }
   ],
   "source": [
    "# Training the model\n",
    "knn = KNeighborsClassifier(n_neighbors=50)\n",
    "knn.fit(X_train,y_train)"
   ]
  },
  {
   "cell_type": "code",
   "execution_count": 140,
   "metadata": {},
   "outputs": [
    {
     "name": "stdout",
     "output_type": "stream",
     "text": [
      "Accuracy of K-Nearest Neighbours classifier on test set: 0.70\n"
     ]
    }
   ],
   "source": [
    "# Model Accuracy\n",
    "y_pred = knn.predict(X_test)\n",
    "print('Accuracy of K-Nearest Neighbours classifier on test set: {:.2f}'.format(knn.score(X_test, y_test)))"
   ]
  },
  {
   "cell_type": "code",
   "execution_count": 141,
   "metadata": {},
   "outputs": [
    {
     "data": {
      "image/png": "[encoded data removed]",
      "text/plain": [
       "<Figure size 432x288 with 1 Axes>"
      ]
     },
     "metadata": {
      "needs_background": "light"
     },
     "output_type": "display_data"
    }
   ],
   "source": [
    "# ROC Curve\n",
    "knn_roc_auc = roc_auc_score(y_test, knn.predict(X_test))\n",
    "fpr, tpr, thresholds = roc_curve(y_test, knn.predict_proba(X_test)[:,1])\n",
    "plt.figure()\n",
    "plt.plot(fpr, tpr, label='Stochastic Gradient Descent (area = %0.2f)' % knn_roc_auc)\n",
    "plt.plot([0, 1], [0, 1],'r--')\n",
    "plt.xlim([0.0, 1.0])\n",
    "plt.ylim([0.0, 1.05])\n",
    "plt.xlabel('False Positive Rate')\n",
    "plt.ylabel('True Positive Rate')\n",
    "plt.title('Receiver operating characteristic')\n",
    "plt.legend(loc=\"lower right\")\n",
    "plt.show()"
   ]
  },
  {
   "cell_type": "code",
   "execution_count": 142,
   "metadata": {},
   "outputs": [
    {
     "name": "stdout",
     "output_type": "stream",
     "text": [
      "Average precision-recall score: 0.65\n"
     ]
    }
   ],
   "source": [
    "# Average precision-recall\n",
    "average_precision = average_precision_score(y_test, knn.predict(X_test))\n",
    "print('Average precision-recall score: {0:0.2f}'.format(average_precision))"
   ]
  },
  {
   "cell_type": "markdown",
   "metadata": {},
   "source": [
    "***Random Forest:***"
   ]
  },
  {
   "cell_type": "code",
   "execution_count": 143,
   "metadata": {},
   "outputs": [
    {
     "name": "stderr",
     "output_type": "stream",
     "text": [
      "C:\\ProgramData\\Anaconda3\\lib\\site-packages\\sklearn\\ensemble\\weight_boosting.py:29: DeprecationWarning: numpy.core.umath_tests is an internal NumPy module and should not be imported. It will be removed in a future NumPy release.\n",
      "  from numpy.core.umath_tests import inner1d\n"
     ]
    }
   ],
   "source": [
    "from sklearn.ensemble import RandomForestClassifier"
   ]
  },
  {
   "cell_type": "code",
   "execution_count": 144,
   "metadata": {},
   "outputs": [
    {
     "data": {
      "text/plain": [
       "RandomForestClassifier(bootstrap=True, class_weight=None, criterion='gini',\n",
       "            max_depth=None, max_features=None, max_leaf_nodes=None,\n",
       "            min_impurity_decrease=0.0, min_impurity_split=None,\n",
       "            min_samples_leaf=30, min_samples_split=2,\n",
       "            min_weight_fraction_leaf=0.0, n_estimators=70, n_jobs=1,\n",
       "            oob_score=True, random_state=123, verbose=0, warm_start=False)"
      ]
     },
     "execution_count": 144,
     "metadata": {},
     "output_type": "execute_result"
    }
   ],
   "source": [
    "# Training the model\n",
    "rfm = RandomForestClassifier(n_estimators=70,oob_score=True,n_jobs=1,max_features=None,min_samples_leaf=30,random_state=123)\n",
    "rfm.fit(X_train,y_train)"
   ]
  },
  {
   "cell_type": "code",
   "execution_count": 145,
   "metadata": {},
   "outputs": [
    {
     "data": {
      "image/png": "[encoded data removed]",
      "text/plain": [
       "<Figure size 432x288 with 1 Axes>"
      ]
     },
     "metadata": {
      "needs_background": "light"
     },
     "output_type": "display_data"
    }
   ],
   "source": [
    "# ROC Curve\n",
    "rfm_roc_auc = roc_auc_score(y_test, rfm.predict(X_test))\n",
    "fpr, tpr, thresholds = roc_curve(y_test, rfm.predict_proba(X_test)[:,1])\n",
    "plt.figure()\n",
    "plt.plot(fpr, tpr, label='Random Forest (area = %0.2f)' % rfm_roc_auc)\n",
    "plt.plot([0, 1], [0, 1],'r--')\n",
    "plt.xlim([0.0, 1.0])\n",
    "plt.ylim([0.0, 1.05])\n",
    "plt.xlabel('False Positive Rate')\n",
    "plt.ylabel('True Positive Rate')\n",
    "plt.title('Receiver operating characteristic')\n",
    "plt.legend(loc=\"lower right\")\n",
    "plt.show()"
   ]
  },
  {
   "cell_type": "code",
   "execution_count": 146,
   "metadata": {},
   "outputs": [
    {
     "name": "stdout",
     "output_type": "stream",
     "text": [
      "Average precision-recall score: 0.67\n"
     ]
    }
   ],
   "source": [
    "# Average precision-recall\n",
    "average_precision = average_precision_score(y_test, rfm.predict(X_test))\n",
    "print('Average precision-recall score: {0:0.2f}'.format(average_precision))"
   ]
  },
  {
   "cell_type": "markdown",
   "metadata": {},
   "source": [
    "The Random Forest was the model with the best AUC score, so this could be used as final model. However, I tend to preffer the Logistic Regression because it is very intuitive and easy to explain in a business enviroment."
   ]
  },
  {
   "cell_type": "markdown",
   "metadata": {},
   "source": [
    "------------------------------------------------------------------------------------------"
   ]
  },
  {
   "cell_type": "markdown",
   "metadata": {},
   "source": [
    "**g) Rejects Database:**"
   ]
  },
  {
   "cell_type": "markdown",
   "metadata": {},
   "source": [
    "In order to replicate the previous exercise but with the rejects database, we have to transform our variables into continuous. Therefore, we are going to take the WOE metrics obtained in the previous exercise. Once transformed the database, we can use the accepts trained model to estimate a the likelihood of 'being a good or bad client' over the rejected customers."
   ]
  },
  {
   "cell_type": "code",
   "execution_count": 147,
   "metadata": {},
   "outputs": [
    {
     "data": {
      "text/html": [
       "<div>\n",
       "<style scoped>\n",
       "    .dataframe tbody tr th:only-of-type {\n",
       "        vertical-align: middle;\n",
       "    }\n",
       "\n",
       "    .dataframe tbody tr th {\n",
       "        vertical-align: top;\n",
       "    }\n",
       "\n",
       "    .dataframe thead th {\n",
       "        text-align: right;\n",
       "    }\n",
       "</style>\n",
       "<table border=\"1\" class=\"dataframe\">\n",
       "  <thead>\n",
       "    <tr style=\"text-align: right;\">\n",
       "      <th></th>\n",
       "      <th>ID</th>\n",
       "      <th>V1</th>\n",
       "      <th>V2</th>\n",
       "      <th>V3</th>\n",
       "      <th>V4</th>\n",
       "      <th>V5</th>\n",
       "      <th>V6</th>\n",
       "      <th>V7</th>\n",
       "      <th>V8</th>\n",
       "      <th>Has_FICO</th>\n",
       "      <th>Business_channel</th>\n",
       "      <th>FICO_Score</th>\n",
       "      <th>Loan_amount</th>\n",
       "      <th>Monthly_income</th>\n",
       "      <th>Age</th>\n",
       "      <th>Gearing_coefficient</th>\n",
       "      <th>Max_gearing_ratio</th>\n",
       "    </tr>\n",
       "  </thead>\n",
       "  <tbody>\n",
       "    <tr>\n",
       "      <th>0</th>\n",
       "      <td>305932</td>\n",
       "      <td>3</td>\n",
       "      <td>3</td>\n",
       "      <td>14</td>\n",
       "      <td>2</td>\n",
       "      <td>1</td>\n",
       "      <td>5</td>\n",
       "      <td>1</td>\n",
       "      <td>1</td>\n",
       "      <td>1</td>\n",
       "      <td>1</td>\n",
       "      <td>-0.030455</td>\n",
       "      <td>-0.323920</td>\n",
       "      <td>-0.605449</td>\n",
       "      <td>-1.064220</td>\n",
       "      <td>1.028210</td>\n",
       "      <td>-0.768631</td>\n",
       "    </tr>\n",
       "    <tr>\n",
       "      <th>1</th>\n",
       "      <td>305764</td>\n",
       "      <td>1</td>\n",
       "      <td>4</td>\n",
       "      <td>7</td>\n",
       "      <td>1</td>\n",
       "      <td>6</td>\n",
       "      <td>4</td>\n",
       "      <td>1</td>\n",
       "      <td>2</td>\n",
       "      <td>1</td>\n",
       "      <td>1</td>\n",
       "      <td>0.715222</td>\n",
       "      <td>5.668368</td>\n",
       "      <td>1.299572</td>\n",
       "      <td>0.807662</td>\n",
       "      <td>1.081778</td>\n",
       "      <td>1.796590</td>\n",
       "    </tr>\n",
       "    <tr>\n",
       "      <th>2</th>\n",
       "      <td>305971</td>\n",
       "      <td>1</td>\n",
       "      <td>4</td>\n",
       "      <td>10</td>\n",
       "      <td>4</td>\n",
       "      <td>5</td>\n",
       "      <td>4</td>\n",
       "      <td>1</td>\n",
       "      <td>4</td>\n",
       "      <td>1</td>\n",
       "      <td>3</td>\n",
       "      <td>0.764933</td>\n",
       "      <td>-0.750782</td>\n",
       "      <td>0.434027</td>\n",
       "      <td>-0.390342</td>\n",
       "      <td>-0.969416</td>\n",
       "      <td>1.796590</td>\n",
       "    </tr>\n",
       "    <tr>\n",
       "      <th>3</th>\n",
       "      <td>305664</td>\n",
       "      <td>1</td>\n",
       "      <td>5</td>\n",
       "      <td>14</td>\n",
       "      <td>2</td>\n",
       "      <td>2</td>\n",
       "      <td>5</td>\n",
       "      <td>3</td>\n",
       "      <td>3</td>\n",
       "      <td>1</td>\n",
       "      <td>1</td>\n",
       "      <td>-1.347818</td>\n",
       "      <td>-0.852651</td>\n",
       "      <td>-0.490122</td>\n",
       "      <td>-0.989344</td>\n",
       "      <td>1.046303</td>\n",
       "      <td>-0.768631</td>\n",
       "    </tr>\n",
       "    <tr>\n",
       "      <th>4</th>\n",
       "      <td>305639</td>\n",
       "      <td>1</td>\n",
       "      <td>4</td>\n",
       "      <td>15</td>\n",
       "      <td>1</td>\n",
       "      <td>5</td>\n",
       "      <td>4</td>\n",
       "      <td>1</td>\n",
       "      <td>3</td>\n",
       "      <td>1</td>\n",
       "      <td>2</td>\n",
       "      <td>1.634890</td>\n",
       "      <td>3.200955</td>\n",
       "      <td>0.561380</td>\n",
       "      <td>0.583036</td>\n",
       "      <td>0.088464</td>\n",
       "      <td>1.796590</td>\n",
       "    </tr>\n",
       "  </tbody>\n",
       "</table>\n",
       "</div>"
      ],
      "text/plain": [
       "       ID  V1  V2  V3  V4  V5  V6  V7 V8  Has_FICO  Business_channel  \\\n",
       "0  305932   3   3  14   2   1   5   1  1         1                 1   \n",
       "1  305764   1   4   7   1   6   4   1  2         1                 1   \n",
       "2  305971   1   4  10   4   5   4   1  4         1                 3   \n",
       "3  305664   1   5  14   2   2   5   3  3         1                 1   \n",
       "4  305639   1   4  15   1   5   4   1  3         1                 2   \n",
       "\n",
       "   FICO_Score  Loan_amount  Monthly_income       Age  Gearing_coefficient  \\\n",
       "0   -0.030455    -0.323920       -0.605449 -1.064220             1.028210   \n",
       "1    0.715222     5.668368        1.299572  0.807662             1.081778   \n",
       "2    0.764933    -0.750782        0.434027 -0.390342            -0.969416   \n",
       "3   -1.347818    -0.852651       -0.490122 -0.989344             1.046303   \n",
       "4    1.634890     3.200955        0.561380  0.583036             0.088464   \n",
       "\n",
       "   Max_gearing_ratio  \n",
       "0          -0.768631  \n",
       "1           1.796590  \n",
       "2           1.796590  \n",
       "3          -0.768631  \n",
       "4           1.796590  "
      ]
     },
     "execution_count": 147,
     "metadata": {},
     "output_type": "execute_result"
    }
   ],
   "source": [
    "# Inspecting 'rejects' table\n",
    "rejects.head()"
   ]
  },
  {
   "cell_type": "code",
   "execution_count": 148,
   "metadata": {},
   "outputs": [
    {
     "data": {
      "text/plain": [
       "(5000, 17)"
      ]
     },
     "execution_count": 148,
     "metadata": {},
     "output_type": "execute_result"
    }
   ],
   "source": [
    "rejects.shape"
   ]
  },
  {
   "cell_type": "code",
   "execution_count": 149,
   "metadata": {},
   "outputs": [
    {
     "data": {
      "text/plain": [
       "ID                       int64\n",
       "V1                       int64\n",
       "V2                       int64\n",
       "V3                       int64\n",
       "V4                       int64\n",
       "V5                       int64\n",
       "V6                       int64\n",
       "V7                       int64\n",
       "V8                      object\n",
       "Has_FICO                 int64\n",
       "Business_channel         int64\n",
       "FICO_Score             float64\n",
       "Loan_amount            float64\n",
       "Monthly_income         float64\n",
       "Age                    float64\n",
       "Gearing_coefficient    float64\n",
       "Max_gearing_ratio      float64\n",
       "dtype: object"
      ]
     },
     "execution_count": 149,
     "metadata": {},
     "output_type": "execute_result"
    }
   ],
   "source": [
    "# Knowing the data type\n",
    "rejects.dtypes"
   ]
  },
  {
   "cell_type": "code",
   "execution_count": 150,
   "metadata": {},
   "outputs": [],
   "source": [
    "# Convert ID into a string\n",
    "rejects['ID'] = rejects['ID'].astype('str')"
   ]
  },
  {
   "cell_type": "code",
   "execution_count": 151,
   "metadata": {},
   "outputs": [],
   "source": [
    "# Convert Vs features into category\n",
    "for i in rejects.iloc[:,1:11].columns:\n",
    "    rejects[i] = rejects[i].astype('category')"
   ]
  },
  {
   "cell_type": "code",
   "execution_count": 152,
   "metadata": {},
   "outputs": [],
   "source": [
    "# Convert Vs features into floats\n",
    "for i in rejects.iloc[:,11:18].columns:\n",
    "    rejects[i] = rejects[i].astype('float')"
   ]
  },
  {
   "cell_type": "code",
   "execution_count": 153,
   "metadata": {},
   "outputs": [
    {
     "name": "stdout",
     "output_type": "stream",
     "text": [
      "ID : 0\n",
      "V1 : 0\n",
      "V2 : 0\n",
      "V3 : 0\n",
      "V4 : 0\n",
      "V5 : 0\n",
      "V6 : 0\n",
      "V7 : 0\n",
      "V8 : 0\n",
      "Has_FICO : 0\n",
      "Business_channel : 0\n",
      "FICO_Score : 2086\n",
      "Loan_amount : 0\n",
      "Monthly_income : 0\n",
      "Age : 0\n",
      "Gearing_coefficient : 0\n",
      "Max_gearing_ratio : 0\n"
     ]
    }
   ],
   "source": [
    "# Detecting NAs values\n",
    "for i in rejects.columns:\n",
    "    print(i,':',sum(rejects[i].isna()))"
   ]
  },
  {
   "cell_type": "code",
   "execution_count": 154,
   "metadata": {},
   "outputs": [],
   "source": [
    "# Change the NAs values by medians in the FICO_Score feature\n",
    "rejects['FICO_Score'] = rejects['FICO_Score'].fillna(rejects['FICO_Score'].median())"
   ]
  },
  {
   "cell_type": "code",
   "execution_count": 155,
   "metadata": {},
   "outputs": [],
   "source": [
    "# Binning Max_gearing_ratio\n",
    "def func(row):\n",
    "    if row['Max_gearing_ratio'] < 0:\n",
    "        return 1\n",
    "    elif row['Max_gearing_ratio'] < 1.7:\n",
    "        return 2 \n",
    "    else:\n",
    "        return 3\n",
    "\n",
    "rejects['Max_gearing_ratio_binned'] = rejects.apply(func, axis=1)    \n",
    "rejects['Max_gearing_ratio_binned'] = rejects['Max_gearing_ratio_binned'].astype('category')"
   ]
  },
  {
   "cell_type": "code",
   "execution_count": 156,
   "metadata": {},
   "outputs": [
    {
     "data": {
      "text/plain": [
       "ID                            object\n",
       "V1                          category\n",
       "V2                          category\n",
       "V3                          category\n",
       "V4                          category\n",
       "V5                          category\n",
       "V6                          category\n",
       "V7                          category\n",
       "V8                          category\n",
       "Has_FICO                    category\n",
       "Business_channel            category\n",
       "FICO_Score                   float64\n",
       "Loan_amount                  float64\n",
       "Monthly_income               float64\n",
       "Age                          float64\n",
       "Gearing_coefficient          float64\n",
       "Max_gearing_ratio            float64\n",
       "Max_gearing_ratio_binned    category\n",
       "dtype: object"
      ]
     },
     "execution_count": 156,
     "metadata": {},
     "output_type": "execute_result"
    }
   ],
   "source": [
    "rejects.dtypes"
   ]
  },
  {
   "cell_type": "code",
   "execution_count": 157,
   "metadata": {},
   "outputs": [],
   "source": [
    "rejects['Age_binned'] = tree_model_1.predict_proba(rejects['Age'].to_frame())[:,1]\n",
    "rejects['Age_binned'] = rejects['Age_binned'].astype('category')\n",
    "\n",
    "rejects['FICO_Score_binned'] = tree_model_2.predict_proba(rejects['FICO_Score'].to_frame())[:,1]\n",
    "rejects['FICO_Score_binned'] = rejects['FICO_Score_binned'].astype('category')\n",
    "\n",
    "rejects['Loan_amount_binned'] = tree_model_3.predict_proba(rejects['Loan_amount'].to_frame())[:,1]\n",
    "rejects['Loan_amount_binned'] = rejects['Loan_amount_binned'].astype('category')\n",
    "\n",
    "rejects['Monthly_income_binned'] = tree_model_4.predict_proba(rejects['Monthly_income'].to_frame())[:,1]\n",
    "rejects['Monthly_income_binned'] = rejects['Monthly_income_binned'].astype('category')\n",
    "\n",
    "rejects['Gearing_coefficient_binned'] = tree_model_5.predict_proba(rejects['Gearing_coefficient'].to_frame())[:,1]\n",
    "rejects['Gearing_coefficient_binned'] = rejects['Gearing_coefficient_binned'].astype('category')"
   ]
  },
  {
   "cell_type": "code",
   "execution_count": 158,
   "metadata": {},
   "outputs": [
    {
     "data": {
      "text/html": [
       "<div>\n",
       "<style scoped>\n",
       "    .dataframe tbody tr th:only-of-type {\n",
       "        vertical-align: middle;\n",
       "    }\n",
       "\n",
       "    .dataframe tbody tr th {\n",
       "        vertical-align: top;\n",
       "    }\n",
       "\n",
       "    .dataframe thead th {\n",
       "        text-align: right;\n",
       "    }\n",
       "</style>\n",
       "<table border=\"1\" class=\"dataframe\">\n",
       "  <thead>\n",
       "    <tr style=\"text-align: right;\">\n",
       "      <th></th>\n",
       "      <th>ID</th>\n",
       "      <th>V1</th>\n",
       "      <th>V2</th>\n",
       "      <th>V3</th>\n",
       "      <th>V4</th>\n",
       "      <th>V5</th>\n",
       "      <th>V6</th>\n",
       "      <th>V7</th>\n",
       "      <th>V8</th>\n",
       "      <th>Has_FICO</th>\n",
       "      <th>Business_channel</th>\n",
       "      <th>Max_gearing_ratio_binned</th>\n",
       "      <th>Age_binned</th>\n",
       "      <th>FICO_Score_binned</th>\n",
       "      <th>Loan_amount_binned</th>\n",
       "      <th>Monthly_income_binned</th>\n",
       "      <th>Gearing_coefficient_binned</th>\n",
       "    </tr>\n",
       "  </thead>\n",
       "  <tbody>\n",
       "    <tr>\n",
       "      <th>0</th>\n",
       "      <td>305932</td>\n",
       "      <td>3</td>\n",
       "      <td>3</td>\n",
       "      <td>14</td>\n",
       "      <td>2</td>\n",
       "      <td>1</td>\n",
       "      <td>5</td>\n",
       "      <td>1</td>\n",
       "      <td>1</td>\n",
       "      <td>1</td>\n",
       "      <td>1</td>\n",
       "      <td>1</td>\n",
       "      <td>0.338182</td>\n",
       "      <td>0.065341</td>\n",
       "      <td>0.241163</td>\n",
       "      <td>0.206481</td>\n",
       "      <td>0.269817</td>\n",
       "    </tr>\n",
       "    <tr>\n",
       "      <th>1</th>\n",
       "      <td>305764</td>\n",
       "      <td>1</td>\n",
       "      <td>4</td>\n",
       "      <td>7</td>\n",
       "      <td>1</td>\n",
       "      <td>6</td>\n",
       "      <td>4</td>\n",
       "      <td>1</td>\n",
       "      <td>2</td>\n",
       "      <td>1</td>\n",
       "      <td>1</td>\n",
       "      <td>3</td>\n",
       "      <td>0.123350</td>\n",
       "      <td>0.065341</td>\n",
       "      <td>0.241163</td>\n",
       "      <td>0.192308</td>\n",
       "      <td>0.269817</td>\n",
       "    </tr>\n",
       "    <tr>\n",
       "      <th>2</th>\n",
       "      <td>305971</td>\n",
       "      <td>1</td>\n",
       "      <td>4</td>\n",
       "      <td>10</td>\n",
       "      <td>4</td>\n",
       "      <td>5</td>\n",
       "      <td>4</td>\n",
       "      <td>1</td>\n",
       "      <td>4</td>\n",
       "      <td>1</td>\n",
       "      <td>3</td>\n",
       "      <td>3</td>\n",
       "      <td>0.276257</td>\n",
       "      <td>0.065341</td>\n",
       "      <td>0.241163</td>\n",
       "      <td>0.260480</td>\n",
       "      <td>0.221184</td>\n",
       "    </tr>\n",
       "    <tr>\n",
       "      <th>3</th>\n",
       "      <td>305664</td>\n",
       "      <td>1</td>\n",
       "      <td>5</td>\n",
       "      <td>14</td>\n",
       "      <td>2</td>\n",
       "      <td>2</td>\n",
       "      <td>5</td>\n",
       "      <td>3</td>\n",
       "      <td>3</td>\n",
       "      <td>1</td>\n",
       "      <td>1</td>\n",
       "      <td>1</td>\n",
       "      <td>0.276257</td>\n",
       "      <td>0.514124</td>\n",
       "      <td>0.241163</td>\n",
       "      <td>0.260480</td>\n",
       "      <td>0.269817</td>\n",
       "    </tr>\n",
       "    <tr>\n",
       "      <th>4</th>\n",
       "      <td>305639</td>\n",
       "      <td>1</td>\n",
       "      <td>4</td>\n",
       "      <td>15</td>\n",
       "      <td>1</td>\n",
       "      <td>5</td>\n",
       "      <td>4</td>\n",
       "      <td>1</td>\n",
       "      <td>3</td>\n",
       "      <td>1</td>\n",
       "      <td>2</td>\n",
       "      <td>3</td>\n",
       "      <td>0.123350</td>\n",
       "      <td>0.065341</td>\n",
       "      <td>0.241163</td>\n",
       "      <td>0.260480</td>\n",
       "      <td>0.221184</td>\n",
       "    </tr>\n",
       "  </tbody>\n",
       "</table>\n",
       "</div>"
      ],
      "text/plain": [
       "       ID V1 V2  V3 V4 V5 V6 V7 V8 Has_FICO Business_channel  \\\n",
       "0  305932  3  3  14  2  1  5  1  1        1                1   \n",
       "1  305764  1  4   7  1  6  4  1  2        1                1   \n",
       "2  305971  1  4  10  4  5  4  1  4        1                3   \n",
       "3  305664  1  5  14  2  2  5  3  3        1                1   \n",
       "4  305639  1  4  15  1  5  4  1  3        1                2   \n",
       "\n",
       "  Max_gearing_ratio_binned Age_binned FICO_Score_binned Loan_amount_binned  \\\n",
       "0                        1   0.338182          0.065341           0.241163   \n",
       "1                        3   0.123350          0.065341           0.241163   \n",
       "2                        3   0.276257          0.065341           0.241163   \n",
       "3                        1   0.276257          0.514124           0.241163   \n",
       "4                        3   0.123350          0.065341           0.241163   \n",
       "\n",
       "  Monthly_income_binned Gearing_coefficient_binned  \n",
       "0              0.206481                   0.269817  \n",
       "1              0.192308                   0.269817  \n",
       "2              0.260480                   0.221184  \n",
       "3              0.260480                   0.269817  \n",
       "4              0.260480                   0.221184  "
      ]
     },
     "execution_count": 158,
     "metadata": {},
     "output_type": "execute_result"
    }
   ],
   "source": [
    "# Final table \n",
    "a1 = rejects.iloc[:,:11]\n",
    "a2 = rejects.iloc[:,17:]\n",
    "\n",
    "frames = [a1,a2]\n",
    "rejects = pd.concat(frames,axis=1)\n",
    "rejects.head()"
   ]
  },
  {
   "cell_type": "code",
   "execution_count": 159,
   "metadata": {},
   "outputs": [],
   "source": [
    "# Every column has to be in upper case in order to join both tables\n",
    "rejects.columns = rejects.columns.str.upper() "
   ]
  },
  {
   "cell_type": "code",
   "execution_count": 160,
   "metadata": {},
   "outputs": [],
   "source": [
    "# Joining all together in order to have a table with continuos variables\n",
    "rejects1 = rejects.merge(V1_2, on='V1', how='left')\n",
    "rejects2 = rejects1.merge(V2_2, on='V2', how='left')\n",
    "rejects3 = rejects2.merge(V3_2, on='V3', how='left')\n",
    "rejects4 = rejects3.merge(V4_2, on='V4', how='left')\n",
    "rejects5 = rejects4.merge(V5_2, on='V5', how='left')\n",
    "rejects6 = rejects5.merge(V6_2, on='V6', how='left')\n",
    "rejects7 = rejects6.merge(V7_2, on='V7', how='left')\n",
    "rejects8 = rejects7.merge(V8_2, on='V8', how='left')\n",
    "rejects9 = rejects8.merge(BUSINESS_CHANNEL_2, on='BUSINESS_CHANNEL', how='left')\n",
    "rejects10 = rejects9.merge(AGE_BINNED_2, on='AGE_BINNED', how='left')\n",
    "rejects11 = rejects10.merge(FICO_SCORE_BINNED_2, on='FICO_SCORE_BINNED', how='left')\n",
    "rejects12 = rejects11.merge(LOAN_AMOUNT_BINNED_2, on='LOAN_AMOUNT_BINNED', how='left')\n",
    "rejects13 = rejects12.merge(MONTHLY_INCOME_BINNED_2, on='MONTHLY_INCOME_BINNED', how='left')\n",
    "\n",
    "rejects = rejects13"
   ]
  },
  {
   "cell_type": "code",
   "execution_count": 161,
   "metadata": {},
   "outputs": [],
   "source": [
    "# Good and Bad Clients\n",
    "ID = rejects['ID']\n",
    "X = rejects.iloc[:,17:]\n",
    "preds = pd.DataFrame(logreg.predict(rejects.iloc[:,17:])).rename(columns={0:'DEFAULT_45'})\n",
    "\n",
    "Classification_rejects = pd.concat([ID,X,preds],axis=1)\n",
    "rejects = Classification_rejects\n",
    "    \n",
    "#Classification_rejects['Preds'][Classification_rejects['Preds'] == 0] = 'Good Client'\n",
    "#Classification_rejects['Preds'][Classification_rejects['Preds'] == 1] = 'Bad Client'"
   ]
  },
  {
   "cell_type": "code",
   "execution_count": 162,
   "metadata": {},
   "outputs": [
    {
     "data": {
      "text/html": [
       "<div>\n",
       "<style scoped>\n",
       "    .dataframe tbody tr th:only-of-type {\n",
       "        vertical-align: middle;\n",
       "    }\n",
       "\n",
       "    .dataframe tbody tr th {\n",
       "        vertical-align: top;\n",
       "    }\n",
       "\n",
       "    .dataframe thead th {\n",
       "        text-align: right;\n",
       "    }\n",
       "</style>\n",
       "<table border=\"1\" class=\"dataframe\">\n",
       "  <thead>\n",
       "    <tr style=\"text-align: right;\">\n",
       "      <th></th>\n",
       "      <th>ID</th>\n",
       "      <th>V1_WOE</th>\n",
       "      <th>V2_WOE</th>\n",
       "      <th>V3_WOE</th>\n",
       "      <th>V4_WOE</th>\n",
       "      <th>V5_WOE</th>\n",
       "      <th>V6_WOE</th>\n",
       "      <th>V7_WOE</th>\n",
       "      <th>V8_WOE</th>\n",
       "      <th>BUSINESS_CHANNEL_WOE</th>\n",
       "      <th>AGE_BINNED_WOE</th>\n",
       "      <th>FICO_SCORE_BINNED_WOE</th>\n",
       "      <th>LOAN_AMOUNT_BINNED_WOE</th>\n",
       "      <th>MONTHLY_INCOME_BINNED_WOE</th>\n",
       "      <th>DEFAULT_45</th>\n",
       "    </tr>\n",
       "  </thead>\n",
       "  <tbody>\n",
       "    <tr>\n",
       "      <th>0</th>\n",
       "      <td>305932</td>\n",
       "      <td>-0.564496</td>\n",
       "      <td>-0.104869</td>\n",
       "      <td>-0.487602</td>\n",
       "      <td>-0.130021</td>\n",
       "      <td>-0.706269</td>\n",
       "      <td>-0.433480</td>\n",
       "      <td>0.276576</td>\n",
       "      <td>-0.343288</td>\n",
       "      <td>0.176575</td>\n",
       "      <td>-0.539540</td>\n",
       "      <td>1.513059</td>\n",
       "      <td>-0.039704</td>\n",
       "      <td>0.063397</td>\n",
       "      <td>0</td>\n",
       "    </tr>\n",
       "    <tr>\n",
       "      <th>1</th>\n",
       "      <td>305764</td>\n",
       "      <td>0.327443</td>\n",
       "      <td>0.293276</td>\n",
       "      <td>0.512072</td>\n",
       "      <td>0.123369</td>\n",
       "      <td>0.801843</td>\n",
       "      <td>0.038751</td>\n",
       "      <td>0.276576</td>\n",
       "      <td>0.299135</td>\n",
       "      <td>0.176575</td>\n",
       "      <td>0.752629</td>\n",
       "      <td>1.513059</td>\n",
       "      <td>-0.039704</td>\n",
       "      <td>0.208163</td>\n",
       "      <td>0</td>\n",
       "    </tr>\n",
       "    <tr>\n",
       "      <th>2</th>\n",
       "      <td>305971</td>\n",
       "      <td>0.327443</td>\n",
       "      <td>0.293276</td>\n",
       "      <td>-0.339066</td>\n",
       "      <td>-0.274365</td>\n",
       "      <td>0.409331</td>\n",
       "      <td>0.038751</td>\n",
       "      <td>0.276576</td>\n",
       "      <td>0.074147</td>\n",
       "      <td>1.166735</td>\n",
       "      <td>-0.208180</td>\n",
       "      <td>1.513059</td>\n",
       "      <td>-0.039704</td>\n",
       "      <td>-0.096678</td>\n",
       "      <td>0</td>\n",
       "    </tr>\n",
       "    <tr>\n",
       "      <th>3</th>\n",
       "      <td>305664</td>\n",
       "      <td>0.327443</td>\n",
       "      <td>-0.303830</td>\n",
       "      <td>-0.487602</td>\n",
       "      <td>-0.130021</td>\n",
       "      <td>-0.613632</td>\n",
       "      <td>-0.433480</td>\n",
       "      <td>-0.355593</td>\n",
       "      <td>0.223054</td>\n",
       "      <td>0.176575</td>\n",
       "      <td>-0.208180</td>\n",
       "      <td>-1.250837</td>\n",
       "      <td>-0.039704</td>\n",
       "      <td>-0.096678</td>\n",
       "      <td>1</td>\n",
       "    </tr>\n",
       "    <tr>\n",
       "      <th>4</th>\n",
       "      <td>305639</td>\n",
       "      <td>0.327443</td>\n",
       "      <td>0.293276</td>\n",
       "      <td>-0.070250</td>\n",
       "      <td>0.123369</td>\n",
       "      <td>0.409331</td>\n",
       "      <td>0.038751</td>\n",
       "      <td>0.276576</td>\n",
       "      <td>0.223054</td>\n",
       "      <td>-0.765888</td>\n",
       "      <td>0.752629</td>\n",
       "      <td>1.513059</td>\n",
       "      <td>-0.039704</td>\n",
       "      <td>-0.096678</td>\n",
       "      <td>0</td>\n",
       "    </tr>\n",
       "  </tbody>\n",
       "</table>\n",
       "</div>"
      ],
      "text/plain": [
       "       ID    V1_WOE    V2_WOE    V3_WOE    V4_WOE    V5_WOE    V6_WOE  \\\n",
       "0  305932 -0.564496 -0.104869 -0.487602 -0.130021 -0.706269 -0.433480   \n",
       "1  305764  0.327443  0.293276  0.512072  0.123369  0.801843  0.038751   \n",
       "2  305971  0.327443  0.293276 -0.339066 -0.274365  0.409331  0.038751   \n",
       "3  305664  0.327443 -0.303830 -0.487602 -0.130021 -0.613632 -0.433480   \n",
       "4  305639  0.327443  0.293276 -0.070250  0.123369  0.409331  0.038751   \n",
       "\n",
       "     V7_WOE    V8_WOE  BUSINESS_CHANNEL_WOE  AGE_BINNED_WOE  \\\n",
       "0  0.276576 -0.343288              0.176575       -0.539540   \n",
       "1  0.276576  0.299135              0.176575        0.752629   \n",
       "2  0.276576  0.074147              1.166735       -0.208180   \n",
       "3 -0.355593  0.223054              0.176575       -0.208180   \n",
       "4  0.276576  0.223054             -0.765888        0.752629   \n",
       "\n",
       "   FICO_SCORE_BINNED_WOE  LOAN_AMOUNT_BINNED_WOE  MONTHLY_INCOME_BINNED_WOE  \\\n",
       "0               1.513059               -0.039704                   0.063397   \n",
       "1               1.513059               -0.039704                   0.208163   \n",
       "2               1.513059               -0.039704                  -0.096678   \n",
       "3              -1.250837               -0.039704                  -0.096678   \n",
       "4               1.513059               -0.039704                  -0.096678   \n",
       "\n",
       "   DEFAULT_45  \n",
       "0           0  \n",
       "1           0  \n",
       "2           0  \n",
       "3           1  \n",
       "4           0  "
      ]
     },
     "execution_count": 162,
     "metadata": {},
     "output_type": "execute_result"
    }
   ],
   "source": [
    "Classification_rejects.head()"
   ]
  },
  {
   "cell_type": "code",
   "execution_count": 163,
   "metadata": {},
   "outputs": [
    {
     "name": "stdout",
     "output_type": "stream",
     "text": [
      "% of Good Clients: 80.98\n"
     ]
    }
   ],
   "source": [
    "print('% of Good Clients:',round((sum(Classification_rejects['DEFAULT_45'] == 0)/len(Classification_rejects['DEFAULT_45']))*100,2))"
   ]
  },
  {
   "cell_type": "markdown",
   "metadata": {},
   "source": [
    "------------------------------------------------------------------------------------------"
   ]
  },
  {
   "cell_type": "markdown",
   "metadata": {},
   "source": [
    "**h) Final Model:** "
   ]
  },
  {
   "cell_type": "code",
   "execution_count": 164,
   "metadata": {},
   "outputs": [],
   "source": [
    "# Oversampling\n",
    "X = rejects.iloc[:,:14]\n",
    "y = rejects['DEFAULT_45']\n",
    "\n",
    "ros = RandomOverSampler(random_state=123)\n",
    "X_resampled, y_resampled = ros.fit_sample(X, y)\n",
    "\n",
    "X_resampled = pd.DataFrame(X_resampled)\n",
    "y_resampled = pd.DataFrame(y_resampled)\n",
    "\n",
    "b = pd.concat([X_resampled,y_resampled], axis=1)\n",
    "b.columns = rejects.columns\n",
    "\n",
    "rejects = b"
   ]
  },
  {
   "cell_type": "code",
   "execution_count": 165,
   "metadata": {},
   "outputs": [
    {
     "data": {
      "text/html": [
       "<div>\n",
       "<style scoped>\n",
       "    .dataframe tbody tr th:only-of-type {\n",
       "        vertical-align: middle;\n",
       "    }\n",
       "\n",
       "    .dataframe tbody tr th {\n",
       "        vertical-align: top;\n",
       "    }\n",
       "\n",
       "    .dataframe thead th {\n",
       "        text-align: right;\n",
       "    }\n",
       "</style>\n",
       "<table border=\"1\" class=\"dataframe\">\n",
       "  <thead>\n",
       "    <tr style=\"text-align: right;\">\n",
       "      <th></th>\n",
       "      <th>ID</th>\n",
       "      <th>V1_WOE</th>\n",
       "      <th>V2_WOE</th>\n",
       "      <th>V3_WOE</th>\n",
       "      <th>V4_WOE</th>\n",
       "      <th>V5_WOE</th>\n",
       "      <th>V6_WOE</th>\n",
       "      <th>V7_WOE</th>\n",
       "      <th>V8_WOE</th>\n",
       "      <th>BUSINESS_CHANNEL_WOE</th>\n",
       "      <th>AGE_BINNED_WOE</th>\n",
       "      <th>FICO_SCORE_BINNED_WOE</th>\n",
       "      <th>LOAN_AMOUNT_BINNED_WOE</th>\n",
       "      <th>MONTHLY_INCOME_BINNED_WOE</th>\n",
       "      <th>DEFAULT_45</th>\n",
       "    </tr>\n",
       "  </thead>\n",
       "  <tbody>\n",
       "    <tr>\n",
       "      <th>0</th>\n",
       "      <td>1393.0</td>\n",
       "      <td>-0.564496</td>\n",
       "      <td>-0.104869</td>\n",
       "      <td>-0.487557</td>\n",
       "      <td>-0.185892</td>\n",
       "      <td>-0.613632</td>\n",
       "      <td>-0.433480</td>\n",
       "      <td>0.276576</td>\n",
       "      <td>-0.343288</td>\n",
       "      <td>-0.765888</td>\n",
       "      <td>-0.208180</td>\n",
       "      <td>-0.039518</td>\n",
       "      <td>-0.039704</td>\n",
       "      <td>-0.096678</td>\n",
       "      <td>1</td>\n",
       "    </tr>\n",
       "    <tr>\n",
       "      <th>1</th>\n",
       "      <td>13331.0</td>\n",
       "      <td>-0.062751</td>\n",
       "      <td>0.293276</td>\n",
       "      <td>0.350785</td>\n",
       "      <td>0.123369</td>\n",
       "      <td>-0.613632</td>\n",
       "      <td>0.038751</td>\n",
       "      <td>-0.355593</td>\n",
       "      <td>-0.343288</td>\n",
       "      <td>0.176575</td>\n",
       "      <td>-0.208180</td>\n",
       "      <td>-1.250837</td>\n",
       "      <td>-0.039704</td>\n",
       "      <td>-0.096678</td>\n",
       "      <td>1</td>\n",
       "    </tr>\n",
       "    <tr>\n",
       "      <th>2</th>\n",
       "      <td>2933.0</td>\n",
       "      <td>0.327443</td>\n",
       "      <td>-0.303830</td>\n",
       "      <td>-0.339066</td>\n",
       "      <td>-0.274365</td>\n",
       "      <td>-0.613632</td>\n",
       "      <td>-0.433480</td>\n",
       "      <td>0.276576</td>\n",
       "      <td>0.223054</td>\n",
       "      <td>-0.765888</td>\n",
       "      <td>-0.208180</td>\n",
       "      <td>-0.698061</td>\n",
       "      <td>-0.039704</td>\n",
       "      <td>-0.096678</td>\n",
       "      <td>1</td>\n",
       "    </tr>\n",
       "    <tr>\n",
       "      <th>3</th>\n",
       "      <td>1526.0</td>\n",
       "      <td>0.327443</td>\n",
       "      <td>0.293276</td>\n",
       "      <td>-0.339066</td>\n",
       "      <td>-0.274365</td>\n",
       "      <td>0.316158</td>\n",
       "      <td>-0.433480</td>\n",
       "      <td>0.276576</td>\n",
       "      <td>0.299135</td>\n",
       "      <td>1.166735</td>\n",
       "      <td>0.752629</td>\n",
       "      <td>-0.039518</td>\n",
       "      <td>1.257677</td>\n",
       "      <td>0.063397</td>\n",
       "      <td>0</td>\n",
       "    </tr>\n",
       "    <tr>\n",
       "      <th>4</th>\n",
       "      <td>13295.0</td>\n",
       "      <td>-0.564496</td>\n",
       "      <td>-0.303830</td>\n",
       "      <td>-0.109900</td>\n",
       "      <td>-0.130021</td>\n",
       "      <td>-0.706269</td>\n",
       "      <td>-0.433480</td>\n",
       "      <td>-0.355593</td>\n",
       "      <td>-0.343288</td>\n",
       "      <td>0.176575</td>\n",
       "      <td>-0.208180</td>\n",
       "      <td>-0.039518</td>\n",
       "      <td>-0.039704</td>\n",
       "      <td>-0.096678</td>\n",
       "      <td>1</td>\n",
       "    </tr>\n",
       "  </tbody>\n",
       "</table>\n",
       "</div>"
      ],
      "text/plain": [
       "        ID    V1_WOE    V2_WOE    V3_WOE    V4_WOE    V5_WOE    V6_WOE  \\\n",
       "0   1393.0 -0.564496 -0.104869 -0.487557 -0.185892 -0.613632 -0.433480   \n",
       "1  13331.0 -0.062751  0.293276  0.350785  0.123369 -0.613632  0.038751   \n",
       "2   2933.0  0.327443 -0.303830 -0.339066 -0.274365 -0.613632 -0.433480   \n",
       "3   1526.0  0.327443  0.293276 -0.339066 -0.274365  0.316158 -0.433480   \n",
       "4  13295.0 -0.564496 -0.303830 -0.109900 -0.130021 -0.706269 -0.433480   \n",
       "\n",
       "     V7_WOE    V8_WOE  BUSINESS_CHANNEL_WOE  AGE_BINNED_WOE  \\\n",
       "0  0.276576 -0.343288             -0.765888       -0.208180   \n",
       "1 -0.355593 -0.343288              0.176575       -0.208180   \n",
       "2  0.276576  0.223054             -0.765888       -0.208180   \n",
       "3  0.276576  0.299135              1.166735        0.752629   \n",
       "4 -0.355593 -0.343288              0.176575       -0.208180   \n",
       "\n",
       "   FICO_SCORE_BINNED_WOE  LOAN_AMOUNT_BINNED_WOE  MONTHLY_INCOME_BINNED_WOE  \\\n",
       "0              -0.039518               -0.039704                  -0.096678   \n",
       "1              -1.250837               -0.039704                  -0.096678   \n",
       "2              -0.698061               -0.039704                  -0.096678   \n",
       "3              -0.039518                1.257677                   0.063397   \n",
       "4              -0.039518               -0.039704                  -0.096678   \n",
       "\n",
       "   DEFAULT_45  \n",
       "0           1  \n",
       "1           1  \n",
       "2           1  \n",
       "3           0  \n",
       "4           1  "
      ]
     },
     "execution_count": 165,
     "metadata": {},
     "output_type": "execute_result"
    }
   ],
   "source": [
    "# Here I am combining my reject database with the accepts training database\n",
    "accepts_train = pd.concat([X_train,y_train],axis=1)\n",
    "accepts_train = accepts_train.reset_index().rename(columns={'index':'ID'})\n",
    "\n",
    "final = pd.concat([accepts_train,rejects],axis=0)\n",
    "final.head()"
   ]
  },
  {
   "cell_type": "code",
   "execution_count": 168,
   "metadata": {},
   "outputs": [],
   "source": [
    "# Splitting the data into training and test set\n",
    "X_train, X_test, y_train, y_test = train_test_split(final.iloc[:,1:14],final['DEFAULT_45'] , test_size = 0.3)"
   ]
  },
  {
   "cell_type": "code",
   "execution_count": 169,
   "metadata": {},
   "outputs": [
    {
     "data": {
      "image/png": "[encoded data removed]",
      "text/plain": [
       "<Figure size 432x288 with 1 Axes>"
      ]
     },
     "metadata": {
      "needs_background": "light"
     },
     "output_type": "display_data"
    }
   ],
   "source": [
    "# Training the model\n",
    "logreg = LogisticRegression(random_state=123)\n",
    "logreg.fit(X_train, y_train)\n",
    "\n",
    "# ROC Curve\n",
    "logit_roc_auc = roc_auc_score(y_test, logreg.predict(X_test))\n",
    "fpr, tpr, thresholds = roc_curve(y_test, logreg.predict_proba(X_test)[:,1])\n",
    "plt.figure()\n",
    "plt.plot(fpr, tpr, label='Logistic Regression (area = %0.2f)' % logit_roc_auc)\n",
    "plt.plot([0, 1], [0, 1],'r--')\n",
    "plt.xlim([0.0, 1.0])\n",
    "plt.ylim([0.0, 1.05])\n",
    "plt.xlabel('False Positive Rate')\n",
    "plt.ylabel('True Positive Rate')\n",
    "plt.title('Receiver operating characteristic')\n",
    "plt.legend(loc=\"lower right\")\n",
    "plt.show()"
   ]
  },
  {
   "cell_type": "markdown",
   "metadata": {},
   "source": [
    "By doing this, now my model is giving me back an AUC of 81%, around 10 pp higher than the previous model."
   ]
  },
  {
   "cell_type": "markdown",
   "metadata": {},
   "source": [
    "***Scorecard using Logistic Regression:***"
   ]
  },
  {
   "cell_type": "code",
   "execution_count": 170,
   "metadata": {},
   "outputs": [
    {
     "name": "stdout",
     "output_type": "stream",
     "text": [
      "Coefficients: [[-0.28405416 -1.18768438 -0.40086023  0.29759231 -0.73066642 -0.19888157\n",
      "  -0.14639828 -0.39771959 -1.1951206  -0.01071842 -1.64448054  0.38705425\n",
      "   0.21514388]]\n",
      "Intercept: [0.07746709]\n"
     ]
    }
   ],
   "source": [
    "print('Coefficients:',logreg.fit(X_train, y_train).coef_)\n",
    "print('Intercept:',logreg.fit(X_train, y_train).intercept_)"
   ]
  },
  {
   "cell_type": "code",
   "execution_count": 171,
   "metadata": {},
   "outputs": [],
   "source": [
    "# Coefficients and intercept\n",
    "coef = np.array(logreg.fit(X_train, y_train).coef_)\n",
    "intercept = np.array(logreg.fit(X_train, y_train).intercept_)"
   ]
  },
  {
   "cell_type": "code",
   "execution_count": 172,
   "metadata": {},
   "outputs": [],
   "source": [
    "# Creating the Score table\n",
    "score = pd.DataFrame(accepts['ID'])\n",
    "score['V1_Score'] = pd.DataFrame((((-accepts['V1_WOE']*coef[0][0])+(intercept[0]/13))*Factor)+(Offset/13))\n",
    "score['V2_Score'] = pd.DataFrame((((-accepts['V2_WOE']*coef[0][1])+(intercept[0]/13))*Factor)+(Offset/13))\n",
    "score['V3_Score'] = pd.DataFrame((((-accepts['V3_WOE']*coef[0][2])+(intercept[0]/13))*Factor)+(Offset/13))\n",
    "score['V4_Score'] = pd.DataFrame((((-accepts['V4_WOE']*coef[0][3])+(intercept[0]/13))*Factor)+(Offset/13))\n",
    "score['V5_Score'] = pd.DataFrame((((-accepts['V5_WOE']*coef[0][4])+(intercept[0]/13))*Factor)+(Offset/13))\n",
    "score['V6_Score'] = pd.DataFrame((((-accepts['V6_WOE']*coef[0][5])+(intercept[0]/13))*Factor)+(Offset/13))\n",
    "score['V7_Score'] = pd.DataFrame((((-accepts['V7_WOE']*coef[0][6])+(intercept[0]/13))*Factor)+(Offset/13))\n",
    "score['V8_Score'] = pd.DataFrame((((-accepts['V8_WOE']*coef[0][7])+(intercept[0]/13))*Factor)+(Offset/13))\n",
    "score['BUSINESS_CHANNEL_Score'] = pd.DataFrame((((-accepts['BUSINESS_CHANNEL_WOE']*coef[0][8])+(intercept[0]/13))*Factor)+(Offset/13))\n",
    "score['AGE_Score'] = pd.DataFrame((((-accepts['AGE_BINNED_WOE']*coef[0][9])+(intercept[0]/13))*Factor)+(Offset/13))\n",
    "score['FICO_Score'] = pd.DataFrame((((-accepts['FICO_SCORE_BINNED_WOE']*coef[0][10])+(intercept[0]/13))*Factor)+(Offset/13))\n",
    "score['LOAN_AMOUNT_Score'] = pd.DataFrame((((-accepts['LOAN_AMOUNT_BINNED_WOE']*coef[0][11])+(intercept[0]/13))*Factor)+(Offset/13))\n",
    "score['MONTHLY_INCOME_Score'] = pd.DataFrame((((-accepts['MONTHLY_INCOME_BINNED_WOE']*coef[0][12])+(intercept[0]/13))*Factor)+(Offset/13))\n",
    "\n",
    "#score['Total_Score'] = ((score.iloc[:,1:].sum(axis=1))*Factor)+(Offset)\n",
    "score['Total_Score'] = score.iloc[:,1:].sum(axis=1)"
   ]
  },
  {
   "cell_type": "code",
   "execution_count": 173,
   "metadata": {},
   "outputs": [
    {
     "data": {
      "text/html": [
       "<div>\n",
       "<style scoped>\n",
       "    .dataframe tbody tr th:only-of-type {\n",
       "        vertical-align: middle;\n",
       "    }\n",
       "\n",
       "    .dataframe tbody tr th {\n",
       "        vertical-align: top;\n",
       "    }\n",
       "\n",
       "    .dataframe thead th {\n",
       "        text-align: right;\n",
       "    }\n",
       "</style>\n",
       "<table border=\"1\" class=\"dataframe\">\n",
       "  <thead>\n",
       "    <tr style=\"text-align: right;\">\n",
       "      <th></th>\n",
       "      <th>ID</th>\n",
       "      <th>V1_Score</th>\n",
       "      <th>V2_Score</th>\n",
       "      <th>V3_Score</th>\n",
       "      <th>V4_Score</th>\n",
       "      <th>V5_Score</th>\n",
       "      <th>V6_Score</th>\n",
       "      <th>V7_Score</th>\n",
       "      <th>V8_Score</th>\n",
       "      <th>BUSINESS_CHANNEL_Score</th>\n",
       "      <th>AGE_Score</th>\n",
       "      <th>FICO_Score</th>\n",
       "      <th>LOAN_AMOUNT_Score</th>\n",
       "      <th>MONTHLY_INCOME_Score</th>\n",
       "      <th>Total_Score</th>\n",
       "    </tr>\n",
       "  </thead>\n",
       "  <tbody>\n",
       "    <tr>\n",
       "      <th>0</th>\n",
       "      <td>250263.0</td>\n",
       "      <td>44.257128</td>\n",
       "      <td>51.392437</td>\n",
       "      <td>44.943911</td>\n",
       "      <td>39.456272</td>\n",
       "      <td>51.367712</td>\n",
       "      <td>45.363459</td>\n",
       "      <td>43.499408</td>\n",
       "      <td>44.631660</td>\n",
       "      <td>45.959758</td>\n",
       "      <td>43.031639</td>\n",
       "      <td>41.977702</td>\n",
       "      <td>43.136966</td>\n",
       "      <td>43.215333</td>\n",
       "      <td>582.233385</td>\n",
       "    </tr>\n",
       "    <tr>\n",
       "      <th>1</th>\n",
       "      <td>250290.0</td>\n",
       "      <td>44.257128</td>\n",
       "      <td>52.986018</td>\n",
       "      <td>41.844602</td>\n",
       "      <td>44.093200</td>\n",
       "      <td>47.230134</td>\n",
       "      <td>44.414769</td>\n",
       "      <td>43.499408</td>\n",
       "      <td>44.631660</td>\n",
       "      <td>45.959758</td>\n",
       "      <td>43.031639</td>\n",
       "      <td>78.812327</td>\n",
       "      <td>43.136966</td>\n",
       "      <td>43.215333</td>\n",
       "      <td>617.112941</td>\n",
       "    </tr>\n",
       "    <tr>\n",
       "      <th>2</th>\n",
       "      <td>250249.0</td>\n",
       "      <td>44.512882</td>\n",
       "      <td>41.118366</td>\n",
       "      <td>44.943911</td>\n",
       "      <td>39.456272</td>\n",
       "      <td>51.478665</td>\n",
       "      <td>45.363459</td>\n",
       "      <td>43.499408</td>\n",
       "      <td>44.631660</td>\n",
       "      <td>45.959758</td>\n",
       "      <td>43.031639</td>\n",
       "      <td>41.977702</td>\n",
       "      <td>43.136966</td>\n",
       "      <td>41.279687</td>\n",
       "      <td>570.390374</td>\n",
       "    </tr>\n",
       "    <tr>\n",
       "      <th>3</th>\n",
       "      <td>249516.0</td>\n",
       "      <td>40.601930</td>\n",
       "      <td>41.118366</td>\n",
       "      <td>40.954371</td>\n",
       "      <td>44.093200</td>\n",
       "      <td>36.446783</td>\n",
       "      <td>43.026444</td>\n",
       "      <td>43.499408</td>\n",
       "      <td>44.631660</td>\n",
       "      <td>45.959758</td>\n",
       "      <td>43.031639</td>\n",
       "      <td>41.977702</td>\n",
       "      <td>43.136966</td>\n",
       "      <td>43.215333</td>\n",
       "      <td>551.693559</td>\n",
       "    </tr>\n",
       "    <tr>\n",
       "      <th>4</th>\n",
       "      <td>249827.0</td>\n",
       "      <td>44.257128</td>\n",
       "      <td>41.118366</td>\n",
       "      <td>49.005565</td>\n",
       "      <td>43.473483</td>\n",
       "      <td>46.247965</td>\n",
       "      <td>43.026444</td>\n",
       "      <td>43.499408</td>\n",
       "      <td>44.195116</td>\n",
       "      <td>45.959758</td>\n",
       "      <td>42.883065</td>\n",
       "      <td>41.977702</td>\n",
       "      <td>43.136966</td>\n",
       "      <td>42.718482</td>\n",
       "      <td>571.499447</td>\n",
       "    </tr>\n",
       "  </tbody>\n",
       "</table>\n",
       "</div>"
      ],
      "text/plain": [
       "         ID   V1_Score   V2_Score   V3_Score   V4_Score   V5_Score   V6_Score  \\\n",
       "0  250263.0  44.257128  51.392437  44.943911  39.456272  51.367712  45.363459   \n",
       "1  250290.0  44.257128  52.986018  41.844602  44.093200  47.230134  44.414769   \n",
       "2  250249.0  44.512882  41.118366  44.943911  39.456272  51.478665  45.363459   \n",
       "3  249516.0  40.601930  41.118366  40.954371  44.093200  36.446783  43.026444   \n",
       "4  249827.0  44.257128  41.118366  49.005565  43.473483  46.247965  43.026444   \n",
       "\n",
       "    V7_Score   V8_Score  BUSINESS_CHANNEL_Score  AGE_Score  FICO_Score  \\\n",
       "0  43.499408  44.631660               45.959758  43.031639   41.977702   \n",
       "1  43.499408  44.631660               45.959758  43.031639   78.812327   \n",
       "2  43.499408  44.631660               45.959758  43.031639   41.977702   \n",
       "3  43.499408  44.631660               45.959758  43.031639   41.977702   \n",
       "4  43.499408  44.195116               45.959758  42.883065   41.977702   \n",
       "\n",
       "   LOAN_AMOUNT_Score  MONTHLY_INCOME_Score  Total_Score  \n",
       "0          43.136966             43.215333   582.233385  \n",
       "1          43.136966             43.215333   617.112941  \n",
       "2          43.136966             41.279687   570.390374  \n",
       "3          43.136966             43.215333   551.693559  \n",
       "4          43.136966             42.718482   571.499447  "
      ]
     },
     "execution_count": 173,
     "metadata": {},
     "output_type": "execute_result"
    }
   ],
   "source": [
    "score.head()"
   ]
  },
  {
   "cell_type": "code",
   "execution_count": 174,
   "metadata": {},
   "outputs": [
    {
     "data": {
      "text/plain": [
       "644.0133506497017"
      ]
     },
     "execution_count": 174,
     "metadata": {},
     "output_type": "execute_result"
    }
   ],
   "source": [
    "score['Total_Score'].max()"
   ]
  },
  {
   "cell_type": "code",
   "execution_count": 175,
   "metadata": {},
   "outputs": [
    {
     "name": "stderr",
     "output_type": "stream",
     "text": [
      "C:\\ProgramData\\Anaconda3\\lib\\site-packages\\scipy\\stats\\stats.py:1713: FutureWarning: Using a non-tuple sequence for multidimensional indexing is deprecated; use `arr[tuple(seq)]` instead of `arr[seq]`. In the future this will be interpreted as an array index, `arr[np.array(seq)]`, which will result either in an error or a different result.\n",
      "  return np.add.reduce(sorted[indexer] * weights, axis=axis) / sumval\n"
     ]
    },
    {
     "data": {
      "text/plain": [
       "<matplotlib.axes._subplots.AxesSubplot at 0x1a38421ab38>"
      ]
     },
     "execution_count": 175,
     "metadata": {},
     "output_type": "execute_result"
    },
    {
     "data": {
      "image/png": "[encoded data removed]",
      "text/plain": [
       "<Figure size 432x288 with 1 Axes>"
      ]
     },
     "metadata": {
      "needs_background": "light"
     },
     "output_type": "display_data"
    }
   ],
   "source": [
    "# Analysing Date_Late\n",
    "sns.distplot(score['Total_Score'])"
   ]
  },
  {
   "cell_type": "code",
   "execution_count": 176,
   "metadata": {},
   "outputs": [
    {
     "data": {
      "text/plain": [
       "12.82084861183866"
      ]
     },
     "execution_count": 176,
     "metadata": {},
     "output_type": "execute_result"
    }
   ],
   "source": [
    "(sum(score['Total_Score'] > 600)/len(score['Total_Score']))*100"
   ]
  },
  {
   "cell_type": "code",
   "execution_count": 177,
   "metadata": {},
   "outputs": [
    {
     "data": {
      "image/png": "[encoded data removed]",
      "text/plain": [
       "<Figure size 864x504 with 1 Axes>"
      ]
     },
     "metadata": {
      "needs_background": "light"
     },
     "output_type": "display_data"
    }
   ],
   "source": [
    "# Analysing Date_Late\n",
    "ax1 = plt.subplots(1, 1, figsize=(12, 7), sharex=True)\n",
    "ax1 = sns.boxplot(y='Total_Score', data=score, palette=\"GnBu\", showfliers = True)"
   ]
  },
  {
   "cell_type": "markdown",
   "metadata": {},
   "source": [
    "**Conclusions:** Around the 12.8% of all the base would have access to a credit (using the establablished Factor and Offset). "
   ]
  }
 ],
 "metadata": {
  "kernelspec": {
   "display_name": "Python 3",
   "language": "python",
   "name": "python3"
  },
  "language_info": {
   "codemirror_mode": {
    "name": "ipython",
    "version": 3
   },
   "file_extension": ".py",
   "mimetype": "text/x-python",
   "name": "python",
   "nbconvert_exporter": "python",
   "pygments_lexer": "ipython3",
   "version": "3.7.1"
  }
 },
 "nbformat": 4,
 "nbformat_minor": 2
}
