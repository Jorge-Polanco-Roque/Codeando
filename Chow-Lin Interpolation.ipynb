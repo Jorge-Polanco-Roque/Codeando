{
 "cells": [
  {
   "cell_type": "markdown",
   "metadata": {},
   "source": [
    "# Chow-Lin Interpolation"
   ]
  },
  {
   "cell_type": "markdown",
   "metadata": {},
   "source": [
    "**Este proceso nos ayuda a manipular bases que tienen datos con frecuencia de tiempo mezcladas. Una de las alternativas para tratar dichos casos es a través del 'Chow-Lin interpolation'.**"
   ]
  },
  {
   "cell_type": "code",
   "execution_count": 5,
   "metadata": {},
   "outputs": [],
   "source": [
    "#install.packages(\"tempdisagg\")"
   ]
  },
  {
   "cell_type": "markdown",
   "metadata": {},
   "source": [
    "https://cran.r-project.org/web/packages/tempdisagg/tempdisagg.pdf"
   ]
  },
  {
   "cell_type": "code",
   "execution_count": 6,
   "metadata": {},
   "outputs": [
    {
     "name": "stderr",
     "output_type": "stream",
     "text": [
      "Warning message:\n",
      "\"package 'tempdisagg' was built under R version 3.6.3\"\n"
     ]
    }
   ],
   "source": [
    "# Installing library\n",
    "library(tempdisagg)"
   ]
  },
  {
   "cell_type": "code",
   "execution_count": 240,
   "metadata": {},
   "outputs": [
    {
     "data": {
      "text/html": [
       "<style>\n",
       ".list-inline {list-style: none; margin:0; padding: 0}\n",
       ".list-inline>li {display: inline-block}\n",
       ".list-inline>li:not(:last-child)::after {content: \"\\00b7\"; padding: 0 .5ex}\n",
       "</style>\n",
       "<ol class=list-inline><li>6211</li><li>6591</li><li>6814</li><li>7028</li><li>7193</li><li>7287</li><li>7638</li><li>8349</li><li>9029</li><li>9484</li><li>10429</li><li>11225</li><li>11622</li><li>12754</li><li>13271</li><li>13432</li><li>14376</li><li>14783</li><li>14788</li><li>15566</li><li>16142</li><li>16169</li><li>17687</li><li>18527</li></ol>\n"
      ],
      "text/latex": [
       "\\begin{enumerate*}\n",
       "\\item 6211\n",
       "\\item 6591\n",
       "\\item 6814\n",
       "\\item 7028\n",
       "\\item 7193\n",
       "\\item 7287\n",
       "\\item 7638\n",
       "\\item 8349\n",
       "\\item 9029\n",
       "\\item 9484\n",
       "\\item 10429\n",
       "\\item 11225\n",
       "\\item 11622\n",
       "\\item 12754\n",
       "\\item 13271\n",
       "\\item 13432\n",
       "\\item 14376\n",
       "\\item 14783\n",
       "\\item 14788\n",
       "\\item 15566\n",
       "\\item 16142\n",
       "\\item 16169\n",
       "\\item 17687\n",
       "\\item 18527\n",
       "\\end{enumerate*}\n"
      ],
      "text/markdown": [
       "1. 6211\n",
       "2. 6591\n",
       "3. 6814\n",
       "4. 7028\n",
       "5. 7193\n",
       "6. 7287\n",
       "7. 7638\n",
       "8. 8349\n",
       "9. 9029\n",
       "10. 9484\n",
       "11. 10429\n",
       "12. 11225\n",
       "13. 11622\n",
       "14. 12754\n",
       "15. 13271\n",
       "16. 13432\n",
       "17. 14376\n",
       "18. 14783\n",
       "19. 14788\n",
       "20. 15566\n",
       "21. 16142\n",
       "22. 16169\n",
       "23. 17687\n",
       "24. 18527\n",
       "\n",
       "\n"
      ],
      "text/plain": [
       " [1]  6211  6591  6814  7028  7193  7287  7638  8349  9029  9484 10429 11225\n",
       "[13] 11622 12754 13271 13432 14376 14783 14788 15566 16142 16169 17687 18527"
      ]
     },
     "metadata": {},
     "output_type": "display_data"
    }
   ],
   "source": [
    "db = read.csv(\"C:/Users/jpolancoroque/Desktop/IESEG/Experimentos/Databases/chowlininterpolation2.csv\")\n",
    "db = db$X\n",
    "db"
   ]
  },
  {
   "cell_type": "code",
   "execution_count": 241,
   "metadata": {},
   "outputs": [
    {
     "data": {
      "text/html": [
       "<table>\n",
       "<caption>A Time Series: 6 × 4</caption>\n",
       "<thead>\n",
       "\t<tr><th></th><th scope=col>Qtr1</th><th scope=col>Qtr2</th><th scope=col>Qtr3</th><th scope=col>Qtr4</th></tr>\n",
       "</thead>\n",
       "<tbody>\n",
       "\t<tr><th scope=row>2018</th><td> 6211</td><td> 6591</td><td> 6814</td><td> 7028</td></tr>\n",
       "\t<tr><th scope=row>2019</th><td> 7193</td><td> 7287</td><td> 7638</td><td> 8349</td></tr>\n",
       "\t<tr><th scope=row>2020</th><td> 9029</td><td> 9484</td><td>10429</td><td>11225</td></tr>\n",
       "\t<tr><th scope=row>2021</th><td>11622</td><td>12754</td><td>13271</td><td>13432</td></tr>\n",
       "\t<tr><th scope=row>2022</th><td>14376</td><td>14783</td><td>14788</td><td>15566</td></tr>\n",
       "\t<tr><th scope=row>2023</th><td>16142</td><td>16169</td><td>17687</td><td>18527</td></tr>\n",
       "</tbody>\n",
       "</table>\n"
      ],
      "text/latex": [
       "A Time Series: 6 × 4\n",
       "\\begin{tabular}{r|llll}\n",
       "  & Qtr1 & Qtr2 & Qtr3 & Qtr4\\\\\n",
       "\\hline\n",
       "\t2018 &  6211 &  6591 &  6814 &  7028\\\\\n",
       "\t2019 &  7193 &  7287 &  7638 &  8349\\\\\n",
       "\t2020 &  9029 &  9484 & 10429 & 11225\\\\\n",
       "\t2021 & 11622 & 12754 & 13271 & 13432\\\\\n",
       "\t2022 & 14376 & 14783 & 14788 & 15566\\\\\n",
       "\t2023 & 16142 & 16169 & 17687 & 18527\\\\\n",
       "\\end{tabular}\n"
      ],
      "text/markdown": [
       "\n",
       "A Time Series: 6 × 4\n",
       "\n",
       "| <!--/--> | Qtr1 | Qtr2 | Qtr3 | Qtr4 |\n",
       "|---|---|---|---|---|\n",
       "| 2018 |  6211 |  6591 |  6814 |  7028 |\n",
       "| 2019 |  7193 |  7287 |  7638 |  8349 |\n",
       "| 2020 |  9029 |  9484 | 10429 | 11225 |\n",
       "| 2021 | 11622 | 12754 | 13271 | 13432 |\n",
       "| 2022 | 14376 | 14783 | 14788 | 15566 |\n",
       "| 2023 | 16142 | 16169 | 17687 | 18527 |\n",
       "\n"
      ],
      "text/plain": [
       "     Qtr1  Qtr2  Qtr3  Qtr4 \n",
       "2018  6211  6591  6814  7028\n",
       "2019  7193  7287  7638  8349\n",
       "2020  9029  9484 10429 11225\n",
       "2021 11622 12754 13271 13432\n",
       "2022 14376 14783 14788 15566\n",
       "2023 16142 16169 17687 18527"
      ]
     },
     "metadata": {},
     "output_type": "display_data"
    }
   ],
   "source": [
    "db = ts(db, start = c(2018, 1), frequency = 4)\n",
    "db"
   ]
  },
  {
   "cell_type": "code",
   "execution_count": 246,
   "metadata": {},
   "outputs": [],
   "source": [
    "# Building the benchmark and indicator series\n",
    "year_sums <- c(400, 450, 500, 800, 1000, 600)  \n",
    "low_freq_ts = ts(year_sums, frequency = 1, start=2018, end=2023)\n",
    "\n",
    "model <- td(low_freq_ts ~ db, conversion = \"average\", method = \"chow-lin-fixed\", fixed.rho = 0.9)\n",
    "high_freq_ts = predict(model)"
   ]
  },
  {
   "cell_type": "code",
   "execution_count": 247,
   "metadata": {},
   "outputs": [
    {
     "data": {
      "text/html": [
       "<table>\n",
       "<caption>A Time Series: 6 × 4</caption>\n",
       "<thead>\n",
       "\t<tr><th></th><th scope=col>Qtr1</th><th scope=col>Qtr2</th><th scope=col>Qtr3</th><th scope=col>Qtr4</th></tr>\n",
       "</thead>\n",
       "<tbody>\n",
       "\t<tr><th scope=row>2018</th><td> 387.7368</td><td> 392.9665</td><td> 402.0011</td><td> 417.2957</td></tr>\n",
       "\t<tr><th scope=row>2019</th><td> 438.3345</td><td> 449.0854</td><td> 454.9582</td><td> 457.6219</td></tr>\n",
       "\t<tr><th scope=row>2020</th><td> 450.6514</td><td> 463.9491</td><td> 509.1508</td><td> 576.2488</td></tr>\n",
       "\t<tr><th scope=row>2021</th><td> 661.8003</td><td> 759.1794</td><td> 847.4200</td><td> 931.6003</td></tr>\n",
       "\t<tr><th scope=row>2022</th><td>1031.0573</td><td>1055.6156</td><td>1007.6593</td><td> 905.6677</td></tr>\n",
       "\t<tr><th scope=row>2023</th><td> 732.5908</td><td> 601.3067</td><td> 543.3614</td><td> 522.7411</td></tr>\n",
       "</tbody>\n",
       "</table>\n"
      ],
      "text/latex": [
       "A Time Series: 6 × 4\n",
       "\\begin{tabular}{r|llll}\n",
       "  & Qtr1 & Qtr2 & Qtr3 & Qtr4\\\\\n",
       "\\hline\n",
       "\t2018 &  387.7368 &  392.9665 &  402.0011 &  417.2957\\\\\n",
       "\t2019 &  438.3345 &  449.0854 &  454.9582 &  457.6219\\\\\n",
       "\t2020 &  450.6514 &  463.9491 &  509.1508 &  576.2488\\\\\n",
       "\t2021 &  661.8003 &  759.1794 &  847.4200 &  931.6003\\\\\n",
       "\t2022 & 1031.0573 & 1055.6156 & 1007.6593 &  905.6677\\\\\n",
       "\t2023 &  732.5908 &  601.3067 &  543.3614 &  522.7411\\\\\n",
       "\\end{tabular}\n"
      ],
      "text/markdown": [
       "\n",
       "A Time Series: 6 × 4\n",
       "\n",
       "| <!--/--> | Qtr1 | Qtr2 | Qtr3 | Qtr4 |\n",
       "|---|---|---|---|---|\n",
       "| 2018 |  387.7368 |  392.9665 |  402.0011 |  417.2957 |\n",
       "| 2019 |  438.3345 |  449.0854 |  454.9582 |  457.6219 |\n",
       "| 2020 |  450.6514 |  463.9491 |  509.1508 |  576.2488 |\n",
       "| 2021 |  661.8003 |  759.1794 |  847.4200 |  931.6003 |\n",
       "| 2022 | 1031.0573 | 1055.6156 | 1007.6593 |  905.6677 |\n",
       "| 2023 |  732.5908 |  601.3067 |  543.3614 |  522.7411 |\n",
       "\n"
      ],
      "text/plain": [
       "     Qtr1      Qtr2      Qtr3      Qtr4     \n",
       "2018  387.7368  392.9665  402.0011  417.2957\n",
       "2019  438.3345  449.0854  454.9582  457.6219\n",
       "2020  450.6514  463.9491  509.1508  576.2488\n",
       "2021  661.8003  759.1794  847.4200  931.6003\n",
       "2022 1031.0573 1055.6156 1007.6593  905.6677\n",
       "2023  732.5908  601.3067  543.3614  522.7411"
      ]
     },
     "metadata": {},
     "output_type": "display_data"
    }
   ],
   "source": [
    "high_freq_ts"
   ]
  },
  {
   "cell_type": "code",
   "execution_count": 11,
   "metadata": {},
   "outputs": [],
   "source": [
    "# Understanding the hyperparameters\n",
    "#?td"
   ]
  },
  {
   "cell_type": "code",
   "execution_count": 53,
   "metadata": {},
   "outputs": [
    {
     "data": {
      "text/html": [
       "450"
      ],
      "text/latex": [
       "450"
      ],
      "text/markdown": [
       "450"
      ],
      "text/plain": [
       "[1] 450"
      ]
     },
     "metadata": {},
     "output_type": "display_data"
    }
   ],
   "source": [
    "# As the conversion method states, the mean of all the quarters is the annual total\n",
    "mean(high_freq_ts[time(high_freq_ts) >= 2019 & time(high_freq_ts) < 2020])"
   ]
  },
  {
   "cell_type": "code",
   "execution_count": 96,
   "metadata": {},
   "outputs": [
    {
     "data": {
      "text/html": [
       "A Time Series:<br><style>\n",
       ".list-inline {list-style: none; margin:0; padding: 0}\n",
       ".list-inline>li {display: inline-block}\n",
       ".list-inline>li:not(:last-child)::after {content: \"\\00b7\"; padding: 0 .5ex}\n",
       "</style>\n",
       "<ol class=list-inline><li>400</li><li>450</li><li>500</li><li>800</li><li>1000</li><li>600</li></ol>\n"
      ],
      "text/latex": [
       "A Time Series:\\\\\\begin{enumerate*}\n",
       "\\item 400\n",
       "\\item 450\n",
       "\\item 500\n",
       "\\item 800\n",
       "\\item 1000\n",
       "\\item 600\n",
       "\\end{enumerate*}\n"
      ],
      "text/markdown": [
       "A Time Series:  \n",
       "1. 400\n",
       "2. 450\n",
       "3. 500\n",
       "4. 800\n",
       "5. 1000\n",
       "6. 600\n",
       "\n",
       "\n"
      ],
      "text/plain": [
       "A Time Series:\n",
       "[1]  400  450  500  800 1000  600"
      ]
     },
     "metadata": {},
     "output_type": "display_data"
    }
   ],
   "source": [
    "# Getting back to the original state of data\n",
    "ta(high_freq_ts, conversion = \"average\", to = \"annual\")"
   ]
  },
  {
   "cell_type": "code",
   "execution_count": null,
   "metadata": {},
   "outputs": [],
   "source": []
  },
  {
   "cell_type": "code",
   "execution_count": null,
   "metadata": {},
   "outputs": [],
   "source": []
  },
  {
   "cell_type": "code",
   "execution_count": null,
   "metadata": {},
   "outputs": [],
   "source": []
  },
  {
   "cell_type": "code",
   "execution_count": null,
   "metadata": {},
   "outputs": [],
   "source": []
  },
  {
   "cell_type": "code",
   "execution_count": null,
   "metadata": {},
   "outputs": [],
   "source": []
  },
  {
   "cell_type": "code",
   "execution_count": null,
   "metadata": {},
   "outputs": [],
   "source": []
  },
  {
   "cell_type": "code",
   "execution_count": null,
   "metadata": {},
   "outputs": [],
   "source": []
  },
  {
   "cell_type": "code",
   "execution_count": null,
   "metadata": {},
   "outputs": [],
   "source": []
  },
  {
   "cell_type": "code",
   "execution_count": null,
   "metadata": {},
   "outputs": [],
   "source": []
  },
  {
   "cell_type": "code",
   "execution_count": null,
   "metadata": {},
   "outputs": [],
   "source": []
  },
  {
   "cell_type": "code",
   "execution_count": null,
   "metadata": {},
   "outputs": [],
   "source": []
  },
  {
   "cell_type": "code",
   "execution_count": null,
   "metadata": {},
   "outputs": [],
   "source": []
  }
 ],
 "metadata": {
  "kernelspec": {
   "display_name": "R",
   "language": "R",
   "name": "ir"
  },
  "language_info": {
   "codemirror_mode": "r",
   "file_extension": ".r",
   "mimetype": "text/x-r-source",
   "name": "R",
   "pygments_lexer": "r",
   "version": "3.6.1"
  }
 },
 "nbformat": 4,
 "nbformat_minor": 2
}
