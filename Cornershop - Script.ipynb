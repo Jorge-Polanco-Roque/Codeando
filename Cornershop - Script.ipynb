{
 "cells": [
  {
   "cell_type": "markdown",
   "metadata": {},
   "source": [
    "# Cornershop Challenge"
   ]
  },
  {
   "cell_type": "markdown",
   "metadata": {},
   "source": [
    "Coded by: **Jorge Polanco Roque**"
   ]
  },
  {
   "cell_type": "code",
   "execution_count": 1,
   "metadata": {},
   "outputs": [],
   "source": [
    "# Importing libraries\n",
    "from sklearn.model_selection import train_test_split\n",
    "from sklearn.preprocessing import OneHotEncoder\n",
    "from sklearn.preprocessing import LabelEncoder\n",
    "from shapely.geometry import Point, Polygon\n",
    "from sklearn import linear_model\n",
    "import matplotlib.pyplot as plt\n",
    "from statsmodels.api import OLS\n",
    "from sklearn.metrics import *\n",
    "from pandasql import sqldf\n",
    "import geopandas as gpd\n",
    "import seaborn as sns\n",
    "import pandas as pd\n",
    "import numpy as np\n",
    "import descartes\n",
    "import warnings\n",
    "import shapely\n",
    "import folium"
   ]
  },
  {
   "cell_type": "code",
   "execution_count": 2,
   "metadata": {},
   "outputs": [],
   "source": [
    "warnings.filterwarnings('ignore')"
   ]
  },
  {
   "cell_type": "code",
   "execution_count": 3,
   "metadata": {},
   "outputs": [],
   "source": [
    "# Defining a SQL function\n",
    "pysqldf = lambda q: sqldf(q, globals())"
   ]
  },
  {
   "cell_type": "markdown",
   "metadata": {},
   "source": [
    "______________________________________________________________________________________________________"
   ]
  },
  {
   "cell_type": "markdown",
   "metadata": {},
   "source": [
    "# I. Data Pre-Processing"
   ]
  },
  {
   "cell_type": "markdown",
   "metadata": {},
   "source": [
    "The first step is going to be the extaction and loading of the input databases. Before going further with the challenge, I will transform the input into a final dataframe (a consolidated final table). Once having the final dataframe, then I will present the results of each requested point."
   ]
  },
  {
   "cell_type": "markdown",
   "metadata": {},
   "source": [
    "**Importing the data:**"
   ]
  },
  {
   "cell_type": "code",
   "execution_count": 4,
   "metadata": {},
   "outputs": [],
   "source": [
    "# Defining paths\n",
    "path = \"C:/Users/jpolancoroque/Desktop/Job Applications/Cornershop/businessintelligence-test-master/data\"\n",
    "\n",
    "# Importing the input tables\n",
    "order_product = pd.read_csv(path+'/order_product.csv')\n",
    "orders = pd.read_csv(path+'/orders.csv')\n",
    "shoppers = pd.read_csv(path+'/shoppers.csv')\n",
    "storebranch = pd.read_csv(path+'/storebranch.csv')"
   ]
  },
  {
   "cell_type": "markdown",
   "metadata": {},
   "source": [
    "**Exploring the data:**"
   ]
  },
  {
   "cell_type": "markdown",
   "metadata": {},
   "source": [
    "***a) Order_product Table***"
   ]
  },
  {
   "cell_type": "code",
   "execution_count": 5,
   "metadata": {},
   "outputs": [
    {
     "data": {
      "text/plain": [
       "(120876, 5)"
      ]
     },
     "execution_count": 5,
     "metadata": {},
     "output_type": "execute_result"
    }
   ],
   "source": [
    "# Shape of the table\n",
    "order_product.shape"
   ]
  },
  {
   "cell_type": "code",
   "execution_count": 6,
   "metadata": {},
   "outputs": [
    {
     "data": {
      "text/html": [
       "<div>\n",
       "<style scoped>\n",
       "    .dataframe tbody tr th:only-of-type {\n",
       "        vertical-align: middle;\n",
       "    }\n",
       "\n",
       "    .dataframe tbody tr th {\n",
       "        vertical-align: top;\n",
       "    }\n",
       "\n",
       "    .dataframe thead th {\n",
       "        text-align: right;\n",
       "    }\n",
       "</style>\n",
       "<table border=\"1\" class=\"dataframe\">\n",
       "  <thead>\n",
       "    <tr style=\"text-align: right;\">\n",
       "      <th></th>\n",
       "      <th>order_id</th>\n",
       "      <th>product_id</th>\n",
       "      <th>quantity</th>\n",
       "      <th>quantity_found</th>\n",
       "      <th>buy_unit</th>\n",
       "    </tr>\n",
       "  </thead>\n",
       "  <tbody>\n",
       "    <tr>\n",
       "      <th>0</th>\n",
       "      <td>bdfc44fb525986b7bab8c589fc47e853</td>\n",
       "      <td>ab9757d9892b0e83ab3a1c1af0c84c52</td>\n",
       "      <td>0.75</td>\n",
       "      <td>0.155</td>\n",
       "      <td>KG</td>\n",
       "    </tr>\n",
       "    <tr>\n",
       "      <th>1</th>\n",
       "      <td>bdfc44fb525986b7bab8c589fc47e853</td>\n",
       "      <td>f1f042251bf634d44f338fbaf13b16e4</td>\n",
       "      <td>0.30</td>\n",
       "      <td>0.400</td>\n",
       "      <td>KG</td>\n",
       "    </tr>\n",
       "    <tr>\n",
       "      <th>2</th>\n",
       "      <td>bdfc44fb525986b7bab8c589fc47e853</td>\n",
       "      <td>0630d47440965509b0b3f80fd1b3578f</td>\n",
       "      <td>1.00</td>\n",
       "      <td>1.000</td>\n",
       "      <td>UN</td>\n",
       "    </tr>\n",
       "    <tr>\n",
       "      <th>3</th>\n",
       "      <td>bdfc44fb525986b7bab8c589fc47e853</td>\n",
       "      <td>9dd69b1f300666d5573e3a9934f2e03e</td>\n",
       "      <td>2.00</td>\n",
       "      <td>2.000</td>\n",
       "      <td>UN</td>\n",
       "    </tr>\n",
       "    <tr>\n",
       "      <th>4</th>\n",
       "      <td>bdfc44fb525986b7bab8c589fc47e853</td>\n",
       "      <td>3dfcdbe308bde67370649dd875f2507b</td>\n",
       "      <td>1.00</td>\n",
       "      <td>1.000</td>\n",
       "      <td>UN</td>\n",
       "    </tr>\n",
       "  </tbody>\n",
       "</table>\n",
       "</div>"
      ],
      "text/plain": [
       "                           order_id                        product_id  \\\n",
       "0  bdfc44fb525986b7bab8c589fc47e853  ab9757d9892b0e83ab3a1c1af0c84c52   \n",
       "1  bdfc44fb525986b7bab8c589fc47e853  f1f042251bf634d44f338fbaf13b16e4   \n",
       "2  bdfc44fb525986b7bab8c589fc47e853  0630d47440965509b0b3f80fd1b3578f   \n",
       "3  bdfc44fb525986b7bab8c589fc47e853  9dd69b1f300666d5573e3a9934f2e03e   \n",
       "4  bdfc44fb525986b7bab8c589fc47e853  3dfcdbe308bde67370649dd875f2507b   \n",
       "\n",
       "   quantity  quantity_found buy_unit  \n",
       "0      0.75           0.155       KG  \n",
       "1      0.30           0.400       KG  \n",
       "2      1.00           1.000       UN  \n",
       "3      2.00           2.000       UN  \n",
       "4      1.00           1.000       UN  "
      ]
     },
     "execution_count": 6,
     "metadata": {},
     "output_type": "execute_result"
    }
   ],
   "source": [
    "# First 5 rows of the database\n",
    "order_product.head()"
   ]
  },
  {
   "cell_type": "code",
   "execution_count": 7,
   "metadata": {},
   "outputs": [
    {
     "name": "stdout",
     "output_type": "stream",
     "text": [
      "<class 'pandas.core.frame.DataFrame'>\n",
      "RangeIndex: 120876 entries, 0 to 120875\n",
      "Data columns (total 5 columns):\n",
      "order_id          120876 non-null object\n",
      "product_id        120876 non-null object\n",
      "quantity          120876 non-null float64\n",
      "quantity_found    120876 non-null float64\n",
      "buy_unit          120876 non-null object\n",
      "dtypes: float64(2), object(3)\n",
      "memory usage: 4.6+ MB\n"
     ]
    }
   ],
   "source": [
    "# Data type\n",
    "order_product.info()"
   ]
  },
  {
   "cell_type": "code",
   "execution_count": 8,
   "metadata": {},
   "outputs": [
    {
     "data": {
      "text/plain": [
       "order_id          0\n",
       "product_id        0\n",
       "quantity          0\n",
       "quantity_found    0\n",
       "buy_unit          0\n",
       "dtype: int64"
      ]
     },
     "execution_count": 8,
     "metadata": {},
     "output_type": "execute_result"
    }
   ],
   "source": [
    "# Is there any null values?\n",
    "order_product.isnull().sum()"
   ]
  },
  {
   "cell_type": "code",
   "execution_count": 9,
   "metadata": {},
   "outputs": [
    {
     "data": {
      "text/plain": [
       "order_id          0\n",
       "product_id        0\n",
       "quantity          0\n",
       "quantity_found    0\n",
       "buy_unit          0\n",
       "dtype: int64"
      ]
     },
     "execution_count": 9,
     "metadata": {},
     "output_type": "execute_result"
    }
   ],
   "source": [
    "# Is there any NA values?\n",
    "order_product.isna().sum()"
   ]
  },
  {
   "cell_type": "markdown",
   "metadata": {},
   "source": [
    "***b) Orders Table***"
   ]
  },
  {
   "cell_type": "code",
   "execution_count": 10,
   "metadata": {},
   "outputs": [
    {
     "data": {
      "text/plain": [
       "(7295, 11)"
      ]
     },
     "execution_count": 10,
     "metadata": {},
     "output_type": "execute_result"
    }
   ],
   "source": [
    "# Shape of the table\n",
    "orders.shape"
   ]
  },
  {
   "cell_type": "code",
   "execution_count": 11,
   "metadata": {},
   "outputs": [
    {
     "data": {
      "text/html": [
       "<div>\n",
       "<style scoped>\n",
       "    .dataframe tbody tr th:only-of-type {\n",
       "        vertical-align: middle;\n",
       "    }\n",
       "\n",
       "    .dataframe tbody tr th {\n",
       "        vertical-align: top;\n",
       "    }\n",
       "\n",
       "    .dataframe thead th {\n",
       "        text-align: right;\n",
       "    }\n",
       "</style>\n",
       "<table border=\"1\" class=\"dataframe\">\n",
       "  <thead>\n",
       "    <tr style=\"text-align: right;\">\n",
       "      <th></th>\n",
       "      <th>order_id</th>\n",
       "      <th>lat</th>\n",
       "      <th>lng</th>\n",
       "      <th>dow</th>\n",
       "      <th>promised_time</th>\n",
       "      <th>actual_time</th>\n",
       "      <th>on_demand</th>\n",
       "      <th>picker_id</th>\n",
       "      <th>driver_id</th>\n",
       "      <th>store_branch_id</th>\n",
       "      <th>total_minutes</th>\n",
       "    </tr>\n",
       "  </thead>\n",
       "  <tbody>\n",
       "    <tr>\n",
       "      <th>0</th>\n",
       "      <td>6abd5e28d01b7c733fe37485294235dc</td>\n",
       "      <td>18.221141</td>\n",
       "      <td>-100.313914</td>\n",
       "      <td>2</td>\n",
       "      <td>13:00:00</td>\n",
       "      <td>12:00:15</td>\n",
       "      <td>False</td>\n",
       "      <td>09bb5bfe76adbb474dddbdd111a51623</td>\n",
       "      <td>09bb5bfe76adbb474dddbdd111a51623</td>\n",
       "      <td>0dc6fb5924a8b917bc641666ed02663c</td>\n",
       "      <td>91.800861</td>\n",
       "    </tr>\n",
       "    <tr>\n",
       "      <th>1</th>\n",
       "      <td>0d37a1eea001f01b40232ffd496ff663</td>\n",
       "      <td>18.177712</td>\n",
       "      <td>-100.357051</td>\n",
       "      <td>2</td>\n",
       "      <td>13:00:00</td>\n",
       "      <td>10:28:10</td>\n",
       "      <td>False</td>\n",
       "      <td>c4c722114a82fa21654e57e9636d68b0</td>\n",
       "      <td>c4c722114a82fa21654e57e9636d68b0</td>\n",
       "      <td>2bbf833e689d24b697f1f3529c3f3c4b</td>\n",
       "      <td>206.599732</td>\n",
       "    </tr>\n",
       "    <tr>\n",
       "      <th>2</th>\n",
       "      <td>528428e9b9eb5d3bd0dbdd8da692b087</td>\n",
       "      <td>18.266832</td>\n",
       "      <td>-100.317553</td>\n",
       "      <td>2</td>\n",
       "      <td>11:00:00</td>\n",
       "      <td>10:40:50</td>\n",
       "      <td>False</td>\n",
       "      <td>e15c7a67d0ea9a54dffb410bc1d8528b</td>\n",
       "      <td>e15c7a67d0ea9a54dffb410bc1d8528b</td>\n",
       "      <td>8d891dfc0e29d744c15c18adced74a68</td>\n",
       "      <td>93.458001</td>\n",
       "    </tr>\n",
       "    <tr>\n",
       "      <th>3</th>\n",
       "      <td>d3f7be6d64eae7405b7bf024e04807a2</td>\n",
       "      <td>18.248884</td>\n",
       "      <td>-100.322622</td>\n",
       "      <td>2</td>\n",
       "      <td>10:00:00</td>\n",
       "      <td>09:41:47</td>\n",
       "      <td>False</td>\n",
       "      <td>d1f0bd4b237c1358f09db22076b940e7</td>\n",
       "      <td>d1f0bd4b237c1358f09db22076b940e7</td>\n",
       "      <td>0dc6fb5924a8b917bc641666ed02663c</td>\n",
       "      <td>124.778761</td>\n",
       "    </tr>\n",
       "    <tr>\n",
       "      <th>4</th>\n",
       "      <td>e0ad6533b6cd9a382ec6c1d473c5036c</td>\n",
       "      <td>18.229110</td>\n",
       "      <td>-100.322672</td>\n",
       "      <td>2</td>\n",
       "      <td>11:00:00</td>\n",
       "      <td>10:07:53</td>\n",
       "      <td>False</td>\n",
       "      <td>06a71e8ab0c6db5ce22a4689fd76a3f4</td>\n",
       "      <td>06a71e8ab0c6db5ce22a4689fd76a3f4</td>\n",
       "      <td>afd0a7b8d546fcc697bb93a5934b65c3</td>\n",
       "      <td>130.321208</td>\n",
       "    </tr>\n",
       "  </tbody>\n",
       "</table>\n",
       "</div>"
      ],
      "text/plain": [
       "                           order_id        lat         lng  dow promised_time  \\\n",
       "0  6abd5e28d01b7c733fe37485294235dc  18.221141 -100.313914    2      13:00:00   \n",
       "1  0d37a1eea001f01b40232ffd496ff663  18.177712 -100.357051    2      13:00:00   \n",
       "2  528428e9b9eb5d3bd0dbdd8da692b087  18.266832 -100.317553    2      11:00:00   \n",
       "3  d3f7be6d64eae7405b7bf024e04807a2  18.248884 -100.322622    2      10:00:00   \n",
       "4  e0ad6533b6cd9a382ec6c1d473c5036c  18.229110 -100.322672    2      11:00:00   \n",
       "\n",
       "  actual_time  on_demand                         picker_id  \\\n",
       "0    12:00:15      False  09bb5bfe76adbb474dddbdd111a51623   \n",
       "1    10:28:10      False  c4c722114a82fa21654e57e9636d68b0   \n",
       "2    10:40:50      False  e15c7a67d0ea9a54dffb410bc1d8528b   \n",
       "3    09:41:47      False  d1f0bd4b237c1358f09db22076b940e7   \n",
       "4    10:07:53      False  06a71e8ab0c6db5ce22a4689fd76a3f4   \n",
       "\n",
       "                          driver_id                   store_branch_id  \\\n",
       "0  09bb5bfe76adbb474dddbdd111a51623  0dc6fb5924a8b917bc641666ed02663c   \n",
       "1  c4c722114a82fa21654e57e9636d68b0  2bbf833e689d24b697f1f3529c3f3c4b   \n",
       "2  e15c7a67d0ea9a54dffb410bc1d8528b  8d891dfc0e29d744c15c18adced74a68   \n",
       "3  d1f0bd4b237c1358f09db22076b940e7  0dc6fb5924a8b917bc641666ed02663c   \n",
       "4  06a71e8ab0c6db5ce22a4689fd76a3f4  afd0a7b8d546fcc697bb93a5934b65c3   \n",
       "\n",
       "   total_minutes  \n",
       "0      91.800861  \n",
       "1     206.599732  \n",
       "2      93.458001  \n",
       "3     124.778761  \n",
       "4     130.321208  "
      ]
     },
     "execution_count": 11,
     "metadata": {},
     "output_type": "execute_result"
    }
   ],
   "source": [
    "# First 5 rows of the database\n",
    "orders.head()"
   ]
  },
  {
   "cell_type": "code",
   "execution_count": 12,
   "metadata": {},
   "outputs": [
    {
     "name": "stdout",
     "output_type": "stream",
     "text": [
      "<class 'pandas.core.frame.DataFrame'>\n",
      "RangeIndex: 7295 entries, 0 to 7294\n",
      "Data columns (total 11 columns):\n",
      "order_id           7295 non-null object\n",
      "lat                7295 non-null float64\n",
      "lng                7295 non-null float64\n",
      "dow                7295 non-null int64\n",
      "promised_time      7295 non-null object\n",
      "actual_time        7295 non-null object\n",
      "on_demand          7295 non-null bool\n",
      "picker_id          7295 non-null object\n",
      "driver_id          7295 non-null object\n",
      "store_branch_id    7295 non-null object\n",
      "total_minutes      6543 non-null float64\n",
      "dtypes: bool(1), float64(3), int64(1), object(6)\n",
      "memory usage: 577.1+ KB\n"
     ]
    }
   ],
   "source": [
    "# Data type\n",
    "orders.info()"
   ]
  },
  {
   "cell_type": "code",
   "execution_count": 13,
   "metadata": {},
   "outputs": [
    {
     "data": {
      "text/plain": [
       "order_id             0\n",
       "lat                  0\n",
       "lng                  0\n",
       "dow                  0\n",
       "promised_time        0\n",
       "actual_time          0\n",
       "on_demand            0\n",
       "picker_id            0\n",
       "driver_id            0\n",
       "store_branch_id      0\n",
       "total_minutes      752\n",
       "dtype: int64"
      ]
     },
     "execution_count": 13,
     "metadata": {},
     "output_type": "execute_result"
    }
   ],
   "source": [
    "# Is there any null values?\n",
    "orders.isnull().sum()"
   ]
  },
  {
   "cell_type": "code",
   "execution_count": 14,
   "metadata": {},
   "outputs": [
    {
     "data": {
      "text/plain": [
       "order_id             0\n",
       "lat                  0\n",
       "lng                  0\n",
       "dow                  0\n",
       "promised_time        0\n",
       "actual_time          0\n",
       "on_demand            0\n",
       "picker_id            0\n",
       "driver_id            0\n",
       "store_branch_id      0\n",
       "total_minutes      752\n",
       "dtype: int64"
      ]
     },
     "execution_count": 14,
     "metadata": {},
     "output_type": "execute_result"
    }
   ],
   "source": [
    "# Is there any NA values?\n",
    "orders.isna().sum()"
   ]
  },
  {
   "cell_type": "code",
   "execution_count": 15,
   "metadata": {},
   "outputs": [],
   "source": [
    "# Creating a 'day_of_week' feature based on 'dow'\n",
    "week_day = {0 : 'Sunday', 1 : 'Monday', 2 : 'Tuesday', 3 : 'Wednesday', 4 : 'Thursday', 5 : 'Friday', 6 : 'Saturday'}\n",
    "orders['day_of_week'] = orders['dow'].map(week_day)\n",
    "\n",
    "orders['day_of_week'] = pd.Categorical(orders['day_of_week'])"
   ]
  },
  {
   "cell_type": "code",
   "execution_count": 16,
   "metadata": {},
   "outputs": [],
   "source": [
    "# Changing the data type of the 'promised_time' feature\n",
    "orders['promised_time'] = orders['promised_time'].astype('datetime64[ns]').dt.hour"
   ]
  },
  {
   "cell_type": "code",
   "execution_count": 17,
   "metadata": {},
   "outputs": [],
   "source": [
    "# Changing the data type of the 'actual_time' feature\n",
    "orders['actual_time'] = orders['actual_time'].astype('datetime64[ns]').dt.hour"
   ]
  },
  {
   "cell_type": "code",
   "execution_count": 18,
   "metadata": {},
   "outputs": [],
   "source": [
    "# Changing the data type of the 'on_demand' feature\n",
    "orders['on_demand'] = orders['on_demand'].astype('uint8') \n",
    "orders['on_demand'] = pd.Categorical(orders['on_demand'])"
   ]
  },
  {
   "cell_type": "code",
   "execution_count": 19,
   "metadata": {},
   "outputs": [],
   "source": [
    "# Categories of 'promised_time_cat'\n",
    "orders['promised_time_cat'] = 1\n",
    "orders['promised_time_cat'][(orders['promised_time'] <= 6)] = 'Early Morning'\n",
    "orders['promised_time_cat'][(orders['promised_time'] > 6) & (orders['promised_time'] <= 12)] = 'Morning'\n",
    "orders['promised_time_cat'][(orders['promised_time'] > 12) & (orders['promised_time'] <= 18)] = 'Afternoon'\n",
    "orders['promised_time_cat'][(orders['promised_time'] > 18)] = 'Night'\n",
    "\n",
    "orders['promised_time_cat'] = pd.Categorical(orders['promised_time_cat'])"
   ]
  },
  {
   "cell_type": "code",
   "execution_count": 20,
   "metadata": {},
   "outputs": [],
   "source": [
    "# Categories of 'actual_time_cat'\n",
    "orders['actual_time_cat'] = 1\n",
    "orders['actual_time_cat'][(orders['actual_time'] <= 6)] = 'Early Morning'\n",
    "orders['actual_time_cat'][(orders['actual_time'] > 6) & (orders['actual_time'] <= 12)] = 'Morning'\n",
    "orders['actual_time_cat'][(orders['actual_time'] > 12) & (orders['actual_time'] <= 18)] = 'Afternoon'\n",
    "orders['actual_time_cat'][(orders['actual_time'] > 18)] = 'Night'\n",
    "\n",
    "orders['actual_time_cat'] = pd.Categorical(orders['actual_time_cat'])"
   ]
  },
  {
   "cell_type": "markdown",
   "metadata": {},
   "source": [
    "______________________________________________________________________________________________________"
   ]
  },
  {
   "cell_type": "markdown",
   "metadata": {},
   "source": [
    "#### OPTION #1: Regression Model"
   ]
  },
  {
   "cell_type": "markdown",
   "metadata": {},
   "source": [
    "***Building a model to fill the missing values***"
   ]
  },
  {
   "cell_type": "code",
   "execution_count": 21,
   "metadata": {},
   "outputs": [],
   "source": [
    "# orders with all the data\n",
    "orders_reg = orders[orders['total_minutes'].notnull()]\n",
    "\n",
    "orders_pred = orders[orders['total_minutes'].isnull()]"
   ]
  },
  {
   "cell_type": "code",
   "execution_count": 22,
   "metadata": {},
   "outputs": [],
   "source": [
    "# Integer encode - 'day_of_week'\n",
    "label_encoder_1 = LabelEncoder()\n",
    "integer_encoded_1 = label_encoder_1.fit_transform(orders_reg['day_of_week'])\n",
    "onehot_encoder_1 = OneHotEncoder(sparse=False)\n",
    "integer_encoded_1 = integer_encoded_1.reshape(len(integer_encoded_1), 1)\n",
    "onehot_encoded_1 = onehot_encoder_1.fit_transform(integer_encoded_1)\n",
    "\n",
    "dow_ohe = pd.DataFrame(onehot_encoded_1)\n",
    "\n",
    "# Integer encode - 'promised_time_cat'\n",
    "label_encoder_2 = LabelEncoder()\n",
    "integer_encoded_2 = label_encoder_2.fit_transform(orders_reg['promised_time_cat'])\n",
    "onehot_encoder_2 = OneHotEncoder(sparse=False)\n",
    "integer_encoded_2 = integer_encoded_2.reshape(len(integer_encoded_2), 1)\n",
    "onehot_encoded_2 = onehot_encoder_2.fit_transform(integer_encoded_2)\n",
    "\n",
    "promised_time_cat_ohe = pd.DataFrame(onehot_encoded_2)\n",
    "\n",
    "# Integer encode - 'actual_time_cat'\n",
    "label_encoder_3 = LabelEncoder()\n",
    "integer_encoded_3 = label_encoder_3.fit_transform(orders_reg['actual_time_cat'])\n",
    "onehot_encoder_3 = OneHotEncoder(sparse=False)\n",
    "integer_encoded_3 = integer_encoded_3.reshape(len(integer_encoded_3), 1)\n",
    "onehot_encoded_3 = onehot_encoder_3.fit_transform(integer_encoded_3)\n",
    "\n",
    "actual_time_cat_ohe = pd.DataFrame(onehot_encoded_3)"
   ]
  },
  {
   "cell_type": "code",
   "execution_count": 23,
   "metadata": {},
   "outputs": [],
   "source": [
    "# Creating a database to run a regresion\n",
    "orders_reg2 = pd.DataFrame(np.hstack([orders_reg[['on_demand', 'total_minutes']], dow_ohe, promised_time_cat_ohe]))\n",
    "orders_reg2.columns = ['on_demand', 'total_minutes', 'Sunday', 'Monday', 'Tuesday', 'Wednesday', 'Thursday', 'Friday', 'Saturday',\n",
    "                      'Early Morning - Promised', 'Morning - Promised', 'Afternoon - Promised', 'Night - Promised']\n",
    "\n",
    "orders_reg2 = orders_reg2[['on_demand', 'total_minutes', 'Sunday', 'Monday', 'Tuesday', 'Wednesday', 'Thursday', 'Friday',\n",
    "            'Morning - Promised', 'Afternoon - Promised', 'Night - Promised']]\n",
    "\n",
    "X = orders_reg2[['on_demand', 'Sunday', 'Monday', 'Tuesday', 'Wednesday', 'Thursday', 'Friday',\n",
    "            'Morning - Promised', 'Afternoon - Promised', 'Night - Promised']]\n",
    "\n",
    "y = orders_reg2[['total_minutes']]"
   ]
  },
  {
   "cell_type": "code",
   "execution_count": 24,
   "metadata": {},
   "outputs": [
    {
     "data": {
      "text/plain": [
       "0.0875783624862958"
      ]
     },
     "execution_count": 24,
     "metadata": {},
     "output_type": "execute_result"
    }
   ],
   "source": [
    "# Running a linear regression \n",
    "X_train, X_test, y_train, y_test = train_test_split(X, y, test_size = 0.3, random_state = 123)\n",
    "reg_all = linear_model.LinearRegression()\n",
    "reg_all.fit(X_train, y_train)\n",
    "y_pred = reg_all.predict(X_test)\n",
    "reg_all.score(X_test, y_test)"
   ]
  },
  {
   "cell_type": "markdown",
   "metadata": {},
   "source": [
    "Considering such a low R2, probably we should choose another approach."
   ]
  },
  {
   "cell_type": "markdown",
   "metadata": {},
   "source": [
    "______________________________________________________________________________________________________"
   ]
  },
  {
   "cell_type": "markdown",
   "metadata": {},
   "source": [
    "#### OPTION #2: Group by Median"
   ]
  },
  {
   "cell_type": "code",
   "execution_count": 25,
   "metadata": {},
   "outputs": [
    {
     "data": {
      "text/plain": [
       "<matplotlib.axes._subplots.AxesSubplot at 0x236022d0240>"
      ]
     },
     "execution_count": 25,
     "metadata": {},
     "output_type": "execute_result"
    },
    {
     "data": {
      "image/png": "[encoded data removed]",
      "text/plain": [
       "<Figure size 432x288 with 1 Axes>"
      ]
     },
     "metadata": {
      "needs_background": "light"
     },
     "output_type": "display_data"
    }
   ],
   "source": [
    "# Total_minutes distribution excluding the missing values\n",
    "sns.distplot(orders['total_minutes'][orders['total_minutes'].notnull()])"
   ]
  },
  {
   "cell_type": "code",
   "execution_count": 26,
   "metadata": {},
   "outputs": [
    {
     "data": {
      "text/plain": [
       "count    6543.000000\n",
       "mean       86.990510\n",
       "std        32.511126\n",
       "min        13.255014\n",
       "25%        64.076635\n",
       "50%        81.634440\n",
       "75%       103.896845\n",
       "max       289.865714\n",
       "Name: total_minutes, dtype: float64"
      ]
     },
     "execution_count": 26,
     "metadata": {},
     "output_type": "execute_result"
    }
   ],
   "source": [
    "# CTL metrics\n",
    "orders['total_minutes'][orders['total_minutes'].notnull()].describe()"
   ]
  },
  {
   "cell_type": "markdown",
   "metadata": {},
   "source": [
    "A popular way to replace the missing values is the using of medians. However, recognizing the difference of 'total_minutes' among the week days, I will choose the median of each day in order to try to have a more educated guess."
   ]
  },
  {
   "cell_type": "code",
   "execution_count": 27,
   "metadata": {},
   "outputs": [
    {
     "data": {
      "text/html": [
       "<div>\n",
       "<style scoped>\n",
       "    .dataframe tbody tr th:only-of-type {\n",
       "        vertical-align: middle;\n",
       "    }\n",
       "\n",
       "    .dataframe tbody tr th {\n",
       "        vertical-align: top;\n",
       "    }\n",
       "\n",
       "    .dataframe thead th {\n",
       "        text-align: right;\n",
       "    }\n",
       "</style>\n",
       "<table border=\"1\" class=\"dataframe\">\n",
       "  <thead>\n",
       "    <tr style=\"text-align: right;\">\n",
       "      <th></th>\n",
       "      <th>total_minutes</th>\n",
       "    </tr>\n",
       "    <tr>\n",
       "      <th>day_of_week</th>\n",
       "      <th></th>\n",
       "    </tr>\n",
       "  </thead>\n",
       "  <tbody>\n",
       "    <tr>\n",
       "      <th>Friday</th>\n",
       "      <td>79.546304</td>\n",
       "    </tr>\n",
       "    <tr>\n",
       "      <th>Monday</th>\n",
       "      <td>86.372588</td>\n",
       "    </tr>\n",
       "    <tr>\n",
       "      <th>Saturday</th>\n",
       "      <td>75.332870</td>\n",
       "    </tr>\n",
       "    <tr>\n",
       "      <th>Sunday</th>\n",
       "      <td>76.385168</td>\n",
       "    </tr>\n",
       "    <tr>\n",
       "      <th>Thursday</th>\n",
       "      <td>80.265052</td>\n",
       "    </tr>\n",
       "    <tr>\n",
       "      <th>Tuesday</th>\n",
       "      <td>85.273684</td>\n",
       "    </tr>\n",
       "    <tr>\n",
       "      <th>Wednesday</th>\n",
       "      <td>82.173236</td>\n",
       "    </tr>\n",
       "  </tbody>\n",
       "</table>\n",
       "</div>"
      ],
      "text/plain": [
       "             total_minutes\n",
       "day_of_week               \n",
       "Friday           79.546304\n",
       "Monday           86.372588\n",
       "Saturday         75.332870\n",
       "Sunday           76.385168\n",
       "Thursday         80.265052\n",
       "Tuesday          85.273684\n",
       "Wednesday        82.173236"
      ]
     },
     "execution_count": 27,
     "metadata": {},
     "output_type": "execute_result"
    }
   ],
   "source": [
    "# Calculating the median by week day\n",
    "pivot1 = orders[orders['total_minutes'].notnull()].groupby('day_of_week').agg({'total_minutes':np.median})\n",
    "pivot1"
   ]
  },
  {
   "cell_type": "code",
   "execution_count": 28,
   "metadata": {},
   "outputs": [],
   "source": [
    "# Labeling missing values as '-1'\n",
    "orders['total_minutes'] = orders['total_minutes'].fillna(-1)"
   ]
  },
  {
   "cell_type": "code",
   "execution_count": 29,
   "metadata": {},
   "outputs": [],
   "source": [
    "# Replacing the week day median\n",
    "orders['total_minutes'][(orders['day_of_week'] == 'Sunday') & (orders['total_minutes'] == -1)] = pivot1.loc['Sunday'][0]\n",
    "orders['total_minutes'][(orders['day_of_week'] == 'Monday') & (orders['total_minutes'] == -1)] = pivot1.loc['Monday'][0]\n",
    "orders['total_minutes'][(orders['day_of_week'] == 'Tuesday') & (orders['total_minutes'] == -1)] = pivot1.loc['Tuesday'][0]\n",
    "orders['total_minutes'][(orders['day_of_week'] == 'Wednesday') & (orders['total_minutes'] == -1)] = pivot1.loc['Wednesday'][0]\n",
    "orders['total_minutes'][(orders['day_of_week'] == 'Thursday') & (orders['total_minutes'] == -1)] = pivot1.loc['Thursday'][0]\n",
    "orders['total_minutes'][(orders['day_of_week'] == 'Friday') & (orders['total_minutes'] == -1)] = pivot1.loc['Friday'][0]\n",
    "orders['total_minutes'][(orders['day_of_week'] == 'Saturday') & (orders['total_minutes'] == -1)] = pivot1.loc['Saturday'][0]"
   ]
  },
  {
   "cell_type": "markdown",
   "metadata": {},
   "source": [
    "***c) Shoppers Table***"
   ]
  },
  {
   "cell_type": "code",
   "execution_count": 30,
   "metadata": {},
   "outputs": [
    {
     "data": {
      "text/plain": [
       "(600, 6)"
      ]
     },
     "execution_count": 30,
     "metadata": {},
     "output_type": "execute_result"
    }
   ],
   "source": [
    "# Shape of the table\n",
    "shoppers.shape"
   ]
  },
  {
   "cell_type": "code",
   "execution_count": 31,
   "metadata": {},
   "outputs": [
    {
     "data": {
      "text/html": [
       "<div>\n",
       "<style scoped>\n",
       "    .dataframe tbody tr th:only-of-type {\n",
       "        vertical-align: middle;\n",
       "    }\n",
       "\n",
       "    .dataframe tbody tr th {\n",
       "        vertical-align: top;\n",
       "    }\n",
       "\n",
       "    .dataframe thead th {\n",
       "        text-align: right;\n",
       "    }\n",
       "</style>\n",
       "<table border=\"1\" class=\"dataframe\">\n",
       "  <thead>\n",
       "    <tr style=\"text-align: right;\">\n",
       "      <th></th>\n",
       "      <th>shopper_id</th>\n",
       "      <th>seniority</th>\n",
       "      <th>found_rate</th>\n",
       "      <th>picking_speed</th>\n",
       "      <th>accepted_rate</th>\n",
       "      <th>rating</th>\n",
       "    </tr>\n",
       "  </thead>\n",
       "  <tbody>\n",
       "    <tr>\n",
       "      <th>0</th>\n",
       "      <td>087ab65ceca40dbef697f585dc159d5d</td>\n",
       "      <td>ADVANCED</td>\n",
       "      <td>0.8610</td>\n",
       "      <td>1.64</td>\n",
       "      <td>1.00</td>\n",
       "      <td>4.48</td>\n",
       "    </tr>\n",
       "    <tr>\n",
       "      <th>1</th>\n",
       "      <td>645973c41314d763b58dc2bceeeeffc9</td>\n",
       "      <td>INTERMEDIATE</td>\n",
       "      <td>0.8337</td>\n",
       "      <td>2.83</td>\n",
       "      <td>0.96</td>\n",
       "      <td>4.79</td>\n",
       "    </tr>\n",
       "    <tr>\n",
       "      <th>2</th>\n",
       "      <td>82810715fdda44962e7e422015ea1f32</td>\n",
       "      <td>ADVANCED</td>\n",
       "      <td>0.8681</td>\n",
       "      <td>1.27</td>\n",
       "      <td>0.88</td>\n",
       "      <td>4.84</td>\n",
       "    </tr>\n",
       "    <tr>\n",
       "      <th>3</th>\n",
       "      <td>416aa7dbd5a2f58d7bca96657e8faa1e</td>\n",
       "      <td>INTERMEDIATE</td>\n",
       "      <td>0.8784</td>\n",
       "      <td>2.11</td>\n",
       "      <td>1.00</td>\n",
       "      <td>NaN</td>\n",
       "    </tr>\n",
       "    <tr>\n",
       "      <th>4</th>\n",
       "      <td>27a3e845a4c3eb7ded4748f84140a843</td>\n",
       "      <td>ADVANCED</td>\n",
       "      <td>0.8466</td>\n",
       "      <td>1.50</td>\n",
       "      <td>1.00</td>\n",
       "      <td>4.84</td>\n",
       "    </tr>\n",
       "  </tbody>\n",
       "</table>\n",
       "</div>"
      ],
      "text/plain": [
       "                         shopper_id     seniority  found_rate  picking_speed  \\\n",
       "0  087ab65ceca40dbef697f585dc159d5d      ADVANCED      0.8610           1.64   \n",
       "1  645973c41314d763b58dc2bceeeeffc9  INTERMEDIATE      0.8337           2.83   \n",
       "2  82810715fdda44962e7e422015ea1f32      ADVANCED      0.8681           1.27   \n",
       "3  416aa7dbd5a2f58d7bca96657e8faa1e  INTERMEDIATE      0.8784           2.11   \n",
       "4  27a3e845a4c3eb7ded4748f84140a843      ADVANCED      0.8466           1.50   \n",
       "\n",
       "   accepted_rate  rating  \n",
       "0           1.00    4.48  \n",
       "1           0.96    4.79  \n",
       "2           0.88    4.84  \n",
       "3           1.00     NaN  \n",
       "4           1.00    4.84  "
      ]
     },
     "execution_count": 31,
     "metadata": {},
     "output_type": "execute_result"
    }
   ],
   "source": [
    "# First 5 rows of the database\n",
    "shoppers.head()"
   ]
  },
  {
   "cell_type": "code",
   "execution_count": 32,
   "metadata": {},
   "outputs": [
    {
     "name": "stdout",
     "output_type": "stream",
     "text": [
      "<class 'pandas.core.frame.DataFrame'>\n",
      "RangeIndex: 600 entries, 0 to 599\n",
      "Data columns (total 6 columns):\n",
      "shopper_id       600 non-null object\n",
      "seniority        600 non-null object\n",
      "found_rate       564 non-null float64\n",
      "picking_speed    600 non-null float64\n",
      "accepted_rate    594 non-null float64\n",
      "rating           566 non-null float64\n",
      "dtypes: float64(4), object(2)\n",
      "memory usage: 28.2+ KB\n"
     ]
    }
   ],
   "source": [
    "# Data type\n",
    "shoppers.info()"
   ]
  },
  {
   "cell_type": "code",
   "execution_count": 33,
   "metadata": {},
   "outputs": [
    {
     "data": {
      "text/plain": [
       "shopper_id        0\n",
       "seniority         0\n",
       "found_rate       36\n",
       "picking_speed     0\n",
       "accepted_rate     6\n",
       "rating           34\n",
       "dtype: int64"
      ]
     },
     "execution_count": 33,
     "metadata": {},
     "output_type": "execute_result"
    }
   ],
   "source": [
    "# Is there any null values?\n",
    "shoppers.isnull().sum()"
   ]
  },
  {
   "cell_type": "code",
   "execution_count": 34,
   "metadata": {},
   "outputs": [
    {
     "data": {
      "text/plain": [
       "shopper_id        0\n",
       "seniority         0\n",
       "found_rate       36\n",
       "picking_speed     0\n",
       "accepted_rate     6\n",
       "rating           34\n",
       "dtype: int64"
      ]
     },
     "execution_count": 34,
     "metadata": {},
     "output_type": "execute_result"
    }
   ],
   "source": [
    "# Is there any NA values?\n",
    "shoppers.isna().sum()"
   ]
  },
  {
   "cell_type": "code",
   "execution_count": 35,
   "metadata": {},
   "outputs": [],
   "source": [
    "# Seniority as categorical variable\n",
    "shoppers['seniority'] = pd.Categorical(shoppers['seniority'])"
   ]
  },
  {
   "cell_type": "markdown",
   "metadata": {},
   "source": [
    "Considering we are presenting 36 and 34missing values in the 'found_rate' and 'raiting' variables, we have to evaluate the impact that could have and the best approach to deal with."
   ]
  },
  {
   "cell_type": "code",
   "execution_count": 36,
   "metadata": {},
   "outputs": [
    {
     "data": {
      "text/html": [
       "<div>\n",
       "<style scoped>\n",
       "    .dataframe tbody tr th:only-of-type {\n",
       "        vertical-align: middle;\n",
       "    }\n",
       "\n",
       "    .dataframe tbody tr th {\n",
       "        vertical-align: top;\n",
       "    }\n",
       "\n",
       "    .dataframe thead th {\n",
       "        text-align: right;\n",
       "    }\n",
       "</style>\n",
       "<table border=\"1\" class=\"dataframe\">\n",
       "  <thead>\n",
       "    <tr style=\"text-align: right;\">\n",
       "      <th></th>\n",
       "      <th>found_rate</th>\n",
       "    </tr>\n",
       "    <tr>\n",
       "      <th>seniority</th>\n",
       "      <th></th>\n",
       "    </tr>\n",
       "  </thead>\n",
       "  <tbody>\n",
       "    <tr>\n",
       "      <th>ADVANCED</th>\n",
       "      <td>0.86315</td>\n",
       "    </tr>\n",
       "    <tr>\n",
       "      <th>BEGINNER</th>\n",
       "      <td>0.81990</td>\n",
       "    </tr>\n",
       "    <tr>\n",
       "      <th>INTERMEDIATE</th>\n",
       "      <td>0.84670</td>\n",
       "    </tr>\n",
       "    <tr>\n",
       "      <th>REVIEW</th>\n",
       "      <td>0.83280</td>\n",
       "    </tr>\n",
       "  </tbody>\n",
       "</table>\n",
       "</div>"
      ],
      "text/plain": [
       "              found_rate\n",
       "seniority               \n",
       "ADVANCED         0.86315\n",
       "BEGINNER         0.81990\n",
       "INTERMEDIATE     0.84670\n",
       "REVIEW           0.83280"
      ]
     },
     "execution_count": 36,
     "metadata": {},
     "output_type": "execute_result"
    }
   ],
   "source": [
    "# Calculating the median by seniority\n",
    "pivot2 = shoppers[shoppers['found_rate'].notnull()].groupby('seniority').agg({'found_rate':np.median})\n",
    "pivot2"
   ]
  },
  {
   "cell_type": "code",
   "execution_count": 37,
   "metadata": {},
   "outputs": [
    {
     "data": {
      "text/html": [
       "<div>\n",
       "<style scoped>\n",
       "    .dataframe tbody tr th:only-of-type {\n",
       "        vertical-align: middle;\n",
       "    }\n",
       "\n",
       "    .dataframe tbody tr th {\n",
       "        vertical-align: top;\n",
       "    }\n",
       "\n",
       "    .dataframe thead th {\n",
       "        text-align: right;\n",
       "    }\n",
       "</style>\n",
       "<table border=\"1\" class=\"dataframe\">\n",
       "  <thead>\n",
       "    <tr style=\"text-align: right;\">\n",
       "      <th></th>\n",
       "      <th>accepted_rate</th>\n",
       "    </tr>\n",
       "    <tr>\n",
       "      <th>seniority</th>\n",
       "      <th></th>\n",
       "    </tr>\n",
       "  </thead>\n",
       "  <tbody>\n",
       "    <tr>\n",
       "      <th>ADVANCED</th>\n",
       "      <td>1.0000</td>\n",
       "    </tr>\n",
       "    <tr>\n",
       "      <th>BEGINNER</th>\n",
       "      <td>0.9333</td>\n",
       "    </tr>\n",
       "    <tr>\n",
       "      <th>INTERMEDIATE</th>\n",
       "      <td>0.9600</td>\n",
       "    </tr>\n",
       "    <tr>\n",
       "      <th>REVIEW</th>\n",
       "      <td>0.9200</td>\n",
       "    </tr>\n",
       "  </tbody>\n",
       "</table>\n",
       "</div>"
      ],
      "text/plain": [
       "              accepted_rate\n",
       "seniority                  \n",
       "ADVANCED             1.0000\n",
       "BEGINNER             0.9333\n",
       "INTERMEDIATE         0.9600\n",
       "REVIEW               0.9200"
      ]
     },
     "execution_count": 37,
     "metadata": {},
     "output_type": "execute_result"
    }
   ],
   "source": [
    "# Calculating the median by seniority\n",
    "pivot3 = shoppers[shoppers['accepted_rate'].notnull()].groupby('seniority').agg({'accepted_rate':np.median})\n",
    "pivot3"
   ]
  },
  {
   "cell_type": "code",
   "execution_count": 38,
   "metadata": {},
   "outputs": [
    {
     "data": {
      "text/html": [
       "<div>\n",
       "<style scoped>\n",
       "    .dataframe tbody tr th:only-of-type {\n",
       "        vertical-align: middle;\n",
       "    }\n",
       "\n",
       "    .dataframe tbody tr th {\n",
       "        vertical-align: top;\n",
       "    }\n",
       "\n",
       "    .dataframe thead th {\n",
       "        text-align: right;\n",
       "    }\n",
       "</style>\n",
       "<table border=\"1\" class=\"dataframe\">\n",
       "  <thead>\n",
       "    <tr style=\"text-align: right;\">\n",
       "      <th></th>\n",
       "      <th>rating</th>\n",
       "    </tr>\n",
       "    <tr>\n",
       "      <th>seniority</th>\n",
       "      <th></th>\n",
       "    </tr>\n",
       "  </thead>\n",
       "  <tbody>\n",
       "    <tr>\n",
       "      <th>ADVANCED</th>\n",
       "      <td>4.80</td>\n",
       "    </tr>\n",
       "    <tr>\n",
       "      <th>BEGINNER</th>\n",
       "      <td>5.00</td>\n",
       "    </tr>\n",
       "    <tr>\n",
       "      <th>INTERMEDIATE</th>\n",
       "      <td>4.84</td>\n",
       "    </tr>\n",
       "    <tr>\n",
       "      <th>REVIEW</th>\n",
       "      <td>4.84</td>\n",
       "    </tr>\n",
       "  </tbody>\n",
       "</table>\n",
       "</div>"
      ],
      "text/plain": [
       "              rating\n",
       "seniority           \n",
       "ADVANCED        4.80\n",
       "BEGINNER        5.00\n",
       "INTERMEDIATE    4.84\n",
       "REVIEW          4.84"
      ]
     },
     "execution_count": 38,
     "metadata": {},
     "output_type": "execute_result"
    }
   ],
   "source": [
    "# Calculating the median by seniority\n",
    "pivot4 = shoppers[shoppers['rating'].notnull()].groupby('seniority').agg({'rating':np.median})\n",
    "pivot4"
   ]
  },
  {
   "cell_type": "code",
   "execution_count": 39,
   "metadata": {},
   "outputs": [],
   "source": [
    "# Labeling missing values as '-1'\n",
    "shoppers['found_rate'] = shoppers['found_rate'].fillna(-1)\n",
    "shoppers['accepted_rate'] = shoppers['accepted_rate'].fillna(-1)\n",
    "shoppers['rating'] = shoppers['rating'].fillna(-1)"
   ]
  },
  {
   "cell_type": "code",
   "execution_count": 40,
   "metadata": {},
   "outputs": [],
   "source": [
    "# Replacing the seniority median\n",
    "shoppers['found_rate'][(shoppers['seniority'] == 'ADVANCED') & (shoppers['found_rate'] == -1)] = pivot2.loc['ADVANCED'][0]\n",
    "shoppers['found_rate'][(shoppers['seniority'] == 'BEGINNER') & (shoppers['found_rate'] == -1)] = pivot2.loc['BEGINNER'][0]\n",
    "shoppers['found_rate'][(shoppers['seniority'] == 'INTERMEDIATE') & (shoppers['found_rate'] == -1)] = pivot2.loc['INTERMEDIATE'][0]\n",
    "shoppers['found_rate'][(shoppers['seniority'] == 'REVIEW') & (shoppers['found_rate'] == -1)] = pivot2.loc['REVIEW'][0]"
   ]
  },
  {
   "cell_type": "code",
   "execution_count": 41,
   "metadata": {},
   "outputs": [],
   "source": [
    "# Replacing the seniority median\n",
    "shoppers['accepted_rate'][(shoppers['seniority'] == 'ADVANCED') & (shoppers['accepted_rate'] == -1)] = pivot3.loc['ADVANCED'][0]\n",
    "shoppers['accepted_rate'][(shoppers['seniority'] == 'BEGINNER') & (shoppers['accepted_rate'] == -1)] = pivot3.loc['BEGINNER'][0]\n",
    "shoppers['accepted_rate'][(shoppers['seniority'] == 'INTERMEDIATE') & (shoppers['accepted_rate'] == -1)] = pivot3.loc['INTERMEDIATE'][0]\n",
    "shoppers['accepted_rate'][(shoppers['seniority'] == 'REVIEW') & (shoppers['accepted_rate'] == -1)] = pivot3.loc['REVIEW'][0]"
   ]
  },
  {
   "cell_type": "code",
   "execution_count": 42,
   "metadata": {},
   "outputs": [],
   "source": [
    "# Replacing the seniority median\n",
    "shoppers['rating'][(shoppers['seniority'] == 'ADVANCED') & (shoppers['rating'] == -1)] = pivot4.loc['ADVANCED'][0]\n",
    "shoppers['rating'][(shoppers['seniority'] == 'BEGINNER') & (shoppers['rating'] == -1)] = pivot4.loc['BEGINNER'][0]\n",
    "shoppers['rating'][(shoppers['seniority'] == 'INTERMEDIATE') & (shoppers['rating'] == -1)] = pivot4.loc['INTERMEDIATE'][0]\n",
    "shoppers['rating'][(shoppers['seniority'] == 'REVIEW') & (shoppers['rating'] == -1)] = pivot4.loc['REVIEW'][0]"
   ]
  },
  {
   "cell_type": "markdown",
   "metadata": {},
   "source": [
    "***d) Storebranch Table***"
   ]
  },
  {
   "cell_type": "code",
   "execution_count": 43,
   "metadata": {},
   "outputs": [
    {
     "data": {
      "text/plain": [
       "(113, 4)"
      ]
     },
     "execution_count": 43,
     "metadata": {},
     "output_type": "execute_result"
    }
   ],
   "source": [
    "# Shape of the table\n",
    "storebranch.shape"
   ]
  },
  {
   "cell_type": "code",
   "execution_count": 44,
   "metadata": {},
   "outputs": [
    {
     "data": {
      "text/html": [
       "<div>\n",
       "<style scoped>\n",
       "    .dataframe tbody tr th:only-of-type {\n",
       "        vertical-align: middle;\n",
       "    }\n",
       "\n",
       "    .dataframe tbody tr th {\n",
       "        vertical-align: top;\n",
       "    }\n",
       "\n",
       "    .dataframe thead th {\n",
       "        text-align: right;\n",
       "    }\n",
       "</style>\n",
       "<table border=\"1\" class=\"dataframe\">\n",
       "  <thead>\n",
       "    <tr style=\"text-align: right;\">\n",
       "      <th></th>\n",
       "      <th>store_branch_id</th>\n",
       "      <th>store</th>\n",
       "      <th>lat</th>\n",
       "      <th>lng</th>\n",
       "    </tr>\n",
       "  </thead>\n",
       "  <tbody>\n",
       "    <tr>\n",
       "      <th>0</th>\n",
       "      <td>cf0895f1e3beb8164f0a86e6f940ae56</td>\n",
       "      <td>c0b93cf93cf854981b8d6bd849eec4b0</td>\n",
       "      <td>18.160308</td>\n",
       "      <td>-100.260673</td>\n",
       "    </tr>\n",
       "    <tr>\n",
       "      <th>1</th>\n",
       "      <td>3ddd4c29cab4178d89d549c6ba65c236</td>\n",
       "      <td>044d56734d20e04984d846dade6d39f3</td>\n",
       "      <td>18.272830</td>\n",
       "      <td>-100.318814</td>\n",
       "    </tr>\n",
       "    <tr>\n",
       "      <th>2</th>\n",
       "      <td>e9763f24fd46d0b9e52d423207a87c3c</td>\n",
       "      <td>452ae015bf846e1d2932b7ea15720d64</td>\n",
       "      <td>18.273494</td>\n",
       "      <td>-100.319585</td>\n",
       "    </tr>\n",
       "    <tr>\n",
       "      <th>3</th>\n",
       "      <td>49b7d60d6095a9f1129ce798102b62f4</td>\n",
       "      <td>6447951cd071f6f045fd4e6194920926</td>\n",
       "      <td>18.247743</td>\n",
       "      <td>-100.403558</td>\n",
       "    </tr>\n",
       "    <tr>\n",
       "      <th>4</th>\n",
       "      <td>8f21cfda17b340aeee062220d0bee8e5</td>\n",
       "      <td>452ae015bf846e1d2932b7ea15720d64</td>\n",
       "      <td>18.203111</td>\n",
       "      <td>-100.297714</td>\n",
       "    </tr>\n",
       "  </tbody>\n",
       "</table>\n",
       "</div>"
      ],
      "text/plain": [
       "                    store_branch_id                             store  \\\n",
       "0  cf0895f1e3beb8164f0a86e6f940ae56  c0b93cf93cf854981b8d6bd849eec4b0   \n",
       "1  3ddd4c29cab4178d89d549c6ba65c236  044d56734d20e04984d846dade6d39f3   \n",
       "2  e9763f24fd46d0b9e52d423207a87c3c  452ae015bf846e1d2932b7ea15720d64   \n",
       "3  49b7d60d6095a9f1129ce798102b62f4  6447951cd071f6f045fd4e6194920926   \n",
       "4  8f21cfda17b340aeee062220d0bee8e5  452ae015bf846e1d2932b7ea15720d64   \n",
       "\n",
       "         lat         lng  \n",
       "0  18.160308 -100.260673  \n",
       "1  18.272830 -100.318814  \n",
       "2  18.273494 -100.319585  \n",
       "3  18.247743 -100.403558  \n",
       "4  18.203111 -100.297714  "
      ]
     },
     "execution_count": 44,
     "metadata": {},
     "output_type": "execute_result"
    }
   ],
   "source": [
    "# First 5 rows of the database\n",
    "storebranch.head()"
   ]
  },
  {
   "cell_type": "code",
   "execution_count": 45,
   "metadata": {},
   "outputs": [
    {
     "name": "stdout",
     "output_type": "stream",
     "text": [
      "<class 'pandas.core.frame.DataFrame'>\n",
      "RangeIndex: 113 entries, 0 to 112\n",
      "Data columns (total 4 columns):\n",
      "store_branch_id    113 non-null object\n",
      "store              113 non-null object\n",
      "lat                113 non-null float64\n",
      "lng                113 non-null float64\n",
      "dtypes: float64(2), object(2)\n",
      "memory usage: 3.6+ KB\n"
     ]
    }
   ],
   "source": [
    "# Data type\n",
    "storebranch.info()"
   ]
  },
  {
   "cell_type": "code",
   "execution_count": 46,
   "metadata": {},
   "outputs": [
    {
     "data": {
      "text/plain": [
       "store_branch_id    0\n",
       "store              0\n",
       "lat                0\n",
       "lng                0\n",
       "dtype: int64"
      ]
     },
     "execution_count": 46,
     "metadata": {},
     "output_type": "execute_result"
    }
   ],
   "source": [
    "# Is there any null values?\n",
    "storebranch.isnull().sum()"
   ]
  },
  {
   "cell_type": "code",
   "execution_count": 47,
   "metadata": {},
   "outputs": [
    {
     "data": {
      "text/plain": [
       "store_branch_id    0\n",
       "store              0\n",
       "lat                0\n",
       "lng                0\n",
       "dtype: int64"
      ]
     },
     "execution_count": 47,
     "metadata": {},
     "output_type": "execute_result"
    }
   ],
   "source": [
    "# Is there any NA values?\n",
    "storebranch.isna().sum()"
   ]
  },
  {
   "cell_type": "markdown",
   "metadata": {},
   "source": [
    "# II. SQL Queries"
   ]
  },
  {
   "cell_type": "markdown",
   "metadata": {},
   "source": [
    "**1. Calculate the number of orders per day of the week, distinguishing if the orders are on_demand.**"
   ]
  },
  {
   "cell_type": "code",
   "execution_count": 48,
   "metadata": {},
   "outputs": [],
   "source": [
    "num_orders = pysqldf(\"\"\"\n",
    "\n",
    "SELECT day_of_week, COUNT(order_id) AS 'Number of orders by day'\n",
    "FROM  orders\n",
    "WHERE on_demand = '1'\n",
    "GROUP BY day_of_week, on_demand\n",
    "ORDER BY dow\n",
    "\n",
    "\"\"\")"
   ]
  },
  {
   "cell_type": "code",
   "execution_count": 49,
   "metadata": {},
   "outputs": [
    {
     "data": {
      "text/html": [
       "<div>\n",
       "<style scoped>\n",
       "    .dataframe tbody tr th:only-of-type {\n",
       "        vertical-align: middle;\n",
       "    }\n",
       "\n",
       "    .dataframe tbody tr th {\n",
       "        vertical-align: top;\n",
       "    }\n",
       "\n",
       "    .dataframe thead th {\n",
       "        text-align: right;\n",
       "    }\n",
       "</style>\n",
       "<table border=\"1\" class=\"dataframe\">\n",
       "  <thead>\n",
       "    <tr style=\"text-align: right;\">\n",
       "      <th></th>\n",
       "      <th>day_of_week</th>\n",
       "      <th>Number of orders by day</th>\n",
       "    </tr>\n",
       "  </thead>\n",
       "  <tbody>\n",
       "    <tr>\n",
       "      <th>0</th>\n",
       "      <td>Sunday</td>\n",
       "      <td>381</td>\n",
       "    </tr>\n",
       "    <tr>\n",
       "      <th>1</th>\n",
       "      <td>Monday</td>\n",
       "      <td>426</td>\n",
       "    </tr>\n",
       "    <tr>\n",
       "      <th>2</th>\n",
       "      <td>Tuesday</td>\n",
       "      <td>610</td>\n",
       "    </tr>\n",
       "    <tr>\n",
       "      <th>3</th>\n",
       "      <td>Wednesday</td>\n",
       "      <td>480</td>\n",
       "    </tr>\n",
       "    <tr>\n",
       "      <th>4</th>\n",
       "      <td>Thursday</td>\n",
       "      <td>572</td>\n",
       "    </tr>\n",
       "    <tr>\n",
       "      <th>5</th>\n",
       "      <td>Friday</td>\n",
       "      <td>291</td>\n",
       "    </tr>\n",
       "    <tr>\n",
       "      <th>6</th>\n",
       "      <td>Saturday</td>\n",
       "      <td>310</td>\n",
       "    </tr>\n",
       "  </tbody>\n",
       "</table>\n",
       "</div>"
      ],
      "text/plain": [
       "  day_of_week  Number of orders by day\n",
       "0      Sunday                      381\n",
       "1      Monday                      426\n",
       "2     Tuesday                      610\n",
       "3   Wednesday                      480\n",
       "4    Thursday                      572\n",
       "5      Friday                      291\n",
       "6    Saturday                      310"
      ]
     },
     "execution_count": 49,
     "metadata": {},
     "output_type": "execute_result"
    }
   ],
   "source": [
    "num_orders"
   ]
  },
  {
   "cell_type": "code",
   "execution_count": 50,
   "metadata": {},
   "outputs": [],
   "source": [
    "# Saving a Pandas Dataframe as a CSV\n",
    "num_orders.to_csv('C:/Users/jpolancoroque/Desktop/Job Applications/Cornershop/Queries/Q1.csv',index=False) "
   ]
  },
  {
   "cell_type": "markdown",
   "metadata": {},
   "source": [
    "**2. Calculate the average quantity of distinct products that each order has, grouped by store.**"
   ]
  },
  {
   "cell_type": "code",
   "execution_count": 51,
   "metadata": {},
   "outputs": [],
   "source": [
    "avg_distinct_products = pysqldf(\"\"\"\n",
    "\n",
    "SELECT DISTINCT A.store_branch_id, COUNT(DISTINCT B.product_id)/COUNT(DISTINCT A.order_id) AS 'Avg Distinct Products'\n",
    "FROM orders AS A\n",
    "LEFT JOIN order_product AS B ON A.order_id = B.order_id\n",
    "GROUP BY A.store_branch_id\n",
    "ORDER BY 'Avg Distinct Products' DESC\n",
    "\n",
    "\"\"\")"
   ]
  },
  {
   "cell_type": "code",
   "execution_count": 52,
   "metadata": {},
   "outputs": [
    {
     "data": {
      "text/html": [
       "<div>\n",
       "<style scoped>\n",
       "    .dataframe tbody tr th:only-of-type {\n",
       "        vertical-align: middle;\n",
       "    }\n",
       "\n",
       "    .dataframe tbody tr th {\n",
       "        vertical-align: top;\n",
       "    }\n",
       "\n",
       "    .dataframe thead th {\n",
       "        text-align: right;\n",
       "    }\n",
       "</style>\n",
       "<table border=\"1\" class=\"dataframe\">\n",
       "  <thead>\n",
       "    <tr style=\"text-align: right;\">\n",
       "      <th></th>\n",
       "      <th>store_branch_id</th>\n",
       "      <th>Avg Distinct Products</th>\n",
       "    </tr>\n",
       "  </thead>\n",
       "  <tbody>\n",
       "    <tr>\n",
       "      <th>0</th>\n",
       "      <td>00868095685ee799fb5c158e8d081fe1</td>\n",
       "      <td>1</td>\n",
       "    </tr>\n",
       "    <tr>\n",
       "      <th>1</th>\n",
       "      <td>02020427c72aa211602ead141160a9eb</td>\n",
       "      <td>0</td>\n",
       "    </tr>\n",
       "    <tr>\n",
       "      <th>2</th>\n",
       "      <td>0302e4778cdaf296d9b69564e6296b6b</td>\n",
       "      <td>13</td>\n",
       "    </tr>\n",
       "    <tr>\n",
       "      <th>3</th>\n",
       "      <td>0309659a74b54b7933aa6c0571497d9b</td>\n",
       "      <td>11</td>\n",
       "    </tr>\n",
       "    <tr>\n",
       "      <th>4</th>\n",
       "      <td>0a5262149db2b5b849da2128cee09358</td>\n",
       "      <td>2</td>\n",
       "    </tr>\n",
       "  </tbody>\n",
       "</table>\n",
       "</div>"
      ],
      "text/plain": [
       "                    store_branch_id  Avg Distinct Products\n",
       "0  00868095685ee799fb5c158e8d081fe1                      1\n",
       "1  02020427c72aa211602ead141160a9eb                      0\n",
       "2  0302e4778cdaf296d9b69564e6296b6b                     13\n",
       "3  0309659a74b54b7933aa6c0571497d9b                     11\n",
       "4  0a5262149db2b5b849da2128cee09358                      2"
      ]
     },
     "execution_count": 52,
     "metadata": {},
     "output_type": "execute_result"
    }
   ],
   "source": [
    "avg_distinct_products.head()"
   ]
  },
  {
   "cell_type": "code",
   "execution_count": 53,
   "metadata": {},
   "outputs": [],
   "source": [
    "# Saving a Pandas Dataframe as a CSV\n",
    "avg_distinct_products.to_csv('C:/Users/jpolancoroque/Desktop/Job Applications/Cornershop/Queries/Q2.csv',index=False) "
   ]
  },
  {
   "cell_type": "markdown",
   "metadata": {},
   "source": [
    "**3. Calculate the average found rate(*) of the orders grouped by the product format and day of the week.**"
   ]
  },
  {
   "cell_type": "code",
   "execution_count": 54,
   "metadata": {},
   "outputs": [],
   "source": [
    "avg_found_rate = pysqldf(\"\"\"\n",
    "\n",
    "SELECT B.day_of_week, A.buy_unit, AVG(A.quantity_found/A.quantity) AS 'Found rate'\n",
    "FROM order_product AS A\n",
    "LEFT JOIN orders AS B ON A.order_id = B.order_id\n",
    "GROUP BY B.day_of_week, A.buy_unit\n",
    "ORDER BY B.dow, A.buy_unit\n",
    "\n",
    "\n",
    "\"\"\")"
   ]
  },
  {
   "cell_type": "code",
   "execution_count": 55,
   "metadata": {},
   "outputs": [
    {
     "data": {
      "text/html": [
       "<div>\n",
       "<style scoped>\n",
       "    .dataframe tbody tr th:only-of-type {\n",
       "        vertical-align: middle;\n",
       "    }\n",
       "\n",
       "    .dataframe tbody tr th {\n",
       "        vertical-align: top;\n",
       "    }\n",
       "\n",
       "    .dataframe thead th {\n",
       "        text-align: right;\n",
       "    }\n",
       "</style>\n",
       "<table border=\"1\" class=\"dataframe\">\n",
       "  <thead>\n",
       "    <tr style=\"text-align: right;\">\n",
       "      <th></th>\n",
       "      <th>day_of_week</th>\n",
       "      <th>buy_unit</th>\n",
       "      <th>Found rate</th>\n",
       "    </tr>\n",
       "  </thead>\n",
       "  <tbody>\n",
       "    <tr>\n",
       "      <th>0</th>\n",
       "      <td>Sunday</td>\n",
       "      <td>KG</td>\n",
       "      <td>1.648505</td>\n",
       "    </tr>\n",
       "    <tr>\n",
       "      <th>1</th>\n",
       "      <td>Sunday</td>\n",
       "      <td>UN</td>\n",
       "      <td>0.837293</td>\n",
       "    </tr>\n",
       "    <tr>\n",
       "      <th>2</th>\n",
       "      <td>Monday</td>\n",
       "      <td>KG</td>\n",
       "      <td>1.708183</td>\n",
       "    </tr>\n",
       "    <tr>\n",
       "      <th>3</th>\n",
       "      <td>Monday</td>\n",
       "      <td>UN</td>\n",
       "      <td>0.847000</td>\n",
       "    </tr>\n",
       "    <tr>\n",
       "      <th>4</th>\n",
       "      <td>Tuesday</td>\n",
       "      <td>KG</td>\n",
       "      <td>1.686631</td>\n",
       "    </tr>\n",
       "    <tr>\n",
       "      <th>5</th>\n",
       "      <td>Tuesday</td>\n",
       "      <td>UN</td>\n",
       "      <td>0.849243</td>\n",
       "    </tr>\n",
       "    <tr>\n",
       "      <th>6</th>\n",
       "      <td>Wednesday</td>\n",
       "      <td>KG</td>\n",
       "      <td>1.656883</td>\n",
       "    </tr>\n",
       "    <tr>\n",
       "      <th>7</th>\n",
       "      <td>Wednesday</td>\n",
       "      <td>UN</td>\n",
       "      <td>0.848326</td>\n",
       "    </tr>\n",
       "    <tr>\n",
       "      <th>8</th>\n",
       "      <td>Thursday</td>\n",
       "      <td>KG</td>\n",
       "      <td>1.611180</td>\n",
       "    </tr>\n",
       "    <tr>\n",
       "      <th>9</th>\n",
       "      <td>Thursday</td>\n",
       "      <td>UN</td>\n",
       "      <td>0.849060</td>\n",
       "    </tr>\n",
       "    <tr>\n",
       "      <th>10</th>\n",
       "      <td>Friday</td>\n",
       "      <td>KG</td>\n",
       "      <td>1.606526</td>\n",
       "    </tr>\n",
       "    <tr>\n",
       "      <th>11</th>\n",
       "      <td>Friday</td>\n",
       "      <td>UN</td>\n",
       "      <td>0.850070</td>\n",
       "    </tr>\n",
       "    <tr>\n",
       "      <th>12</th>\n",
       "      <td>Saturday</td>\n",
       "      <td>KG</td>\n",
       "      <td>1.581927</td>\n",
       "    </tr>\n",
       "    <tr>\n",
       "      <th>13</th>\n",
       "      <td>Saturday</td>\n",
       "      <td>UN</td>\n",
       "      <td>0.850567</td>\n",
       "    </tr>\n",
       "  </tbody>\n",
       "</table>\n",
       "</div>"
      ],
      "text/plain": [
       "   day_of_week buy_unit  Found rate\n",
       "0       Sunday       KG    1.648505\n",
       "1       Sunday       UN    0.837293\n",
       "2       Monday       KG    1.708183\n",
       "3       Monday       UN    0.847000\n",
       "4      Tuesday       KG    1.686631\n",
       "5      Tuesday       UN    0.849243\n",
       "6    Wednesday       KG    1.656883\n",
       "7    Wednesday       UN    0.848326\n",
       "8     Thursday       KG    1.611180\n",
       "9     Thursday       UN    0.849060\n",
       "10      Friday       KG    1.606526\n",
       "11      Friday       UN    0.850070\n",
       "12    Saturday       KG    1.581927\n",
       "13    Saturday       UN    0.850567"
      ]
     },
     "execution_count": 55,
     "metadata": {},
     "output_type": "execute_result"
    }
   ],
   "source": [
    "avg_found_rate"
   ]
  },
  {
   "cell_type": "code",
   "execution_count": 56,
   "metadata": {},
   "outputs": [],
   "source": [
    "# Saving a Pandas Dataframe as a CSV\n",
    "avg_found_rate.to_csv('C:/Users/jpolancoroque/Desktop/Job Applications/Cornershop/Queries/Q3.csv',index=False) "
   ]
  },
  {
   "cell_type": "markdown",
   "metadata": {},
   "source": [
    "**4. Calculate the average error and mean squared error of our estimation model for each hour of the day.**"
   ]
  },
  {
   "cell_type": "markdown",
   "metadata": {},
   "source": [
    "I am not sure what do you mean with 'our estimation model'. So, I will assume that you are expecting the following:\n",
    "* total_minutes = dummies of promised hour + error"
   ]
  },
  {
   "cell_type": "code",
   "execution_count": 57,
   "metadata": {},
   "outputs": [],
   "source": [
    "# Integer encode - 'day_of_week'\n",
    "label_encoder_4 = LabelEncoder()\n",
    "integer_encoded_4 = label_encoder_4.fit_transform(orders['promised_time'])\n",
    "onehot_encoder_4 = OneHotEncoder(sparse=False)\n",
    "integer_encoded_4 = integer_encoded_4.reshape(len(integer_encoded_4), 1)\n",
    "onehot_encoded_4 = onehot_encoder_4.fit_transform(integer_encoded_4)\n",
    "\n",
    "promised_time_ohe = pd.DataFrame(onehot_encoded_4)"
   ]
  },
  {
   "cell_type": "code",
   "execution_count": 58,
   "metadata": {},
   "outputs": [
    {
     "data": {
      "text/html": [
       "<div>\n",
       "<style scoped>\n",
       "    .dataframe tbody tr th:only-of-type {\n",
       "        vertical-align: middle;\n",
       "    }\n",
       "\n",
       "    .dataframe tbody tr th {\n",
       "        vertical-align: top;\n",
       "    }\n",
       "\n",
       "    .dataframe thead th {\n",
       "        text-align: right;\n",
       "    }\n",
       "</style>\n",
       "<table border=\"1\" class=\"dataframe\">\n",
       "  <thead>\n",
       "    <tr style=\"text-align: right;\">\n",
       "      <th></th>\n",
       "      <th>total_minutes</th>\n",
       "      <th>12 am</th>\n",
       "      <th>8 am</th>\n",
       "      <th>9 am</th>\n",
       "      <th>10 am</th>\n",
       "      <th>11 am</th>\n",
       "      <th>12 pm</th>\n",
       "      <th>1 pm</th>\n",
       "      <th>2 pm</th>\n",
       "      <th>3 pm</th>\n",
       "      <th>4 pm</th>\n",
       "      <th>5 pm</th>\n",
       "      <th>6 pm</th>\n",
       "      <th>7 pm</th>\n",
       "      <th>8 pm</th>\n",
       "      <th>9 pm</th>\n",
       "      <th>10 pm</th>\n",
       "      <th>11 pm</th>\n",
       "    </tr>\n",
       "  </thead>\n",
       "  <tbody>\n",
       "    <tr>\n",
       "      <th>0</th>\n",
       "      <td>91.800861</td>\n",
       "      <td>0.0</td>\n",
       "      <td>0.0</td>\n",
       "      <td>0.0</td>\n",
       "      <td>0.0</td>\n",
       "      <td>0.0</td>\n",
       "      <td>0.0</td>\n",
       "      <td>1.0</td>\n",
       "      <td>0.0</td>\n",
       "      <td>0.0</td>\n",
       "      <td>0.0</td>\n",
       "      <td>0.0</td>\n",
       "      <td>0.0</td>\n",
       "      <td>0.0</td>\n",
       "      <td>0.0</td>\n",
       "      <td>0.0</td>\n",
       "      <td>0.0</td>\n",
       "      <td>0.0</td>\n",
       "    </tr>\n",
       "    <tr>\n",
       "      <th>1</th>\n",
       "      <td>206.599732</td>\n",
       "      <td>0.0</td>\n",
       "      <td>0.0</td>\n",
       "      <td>0.0</td>\n",
       "      <td>0.0</td>\n",
       "      <td>0.0</td>\n",
       "      <td>0.0</td>\n",
       "      <td>1.0</td>\n",
       "      <td>0.0</td>\n",
       "      <td>0.0</td>\n",
       "      <td>0.0</td>\n",
       "      <td>0.0</td>\n",
       "      <td>0.0</td>\n",
       "      <td>0.0</td>\n",
       "      <td>0.0</td>\n",
       "      <td>0.0</td>\n",
       "      <td>0.0</td>\n",
       "      <td>0.0</td>\n",
       "    </tr>\n",
       "    <tr>\n",
       "      <th>2</th>\n",
       "      <td>93.458001</td>\n",
       "      <td>0.0</td>\n",
       "      <td>0.0</td>\n",
       "      <td>0.0</td>\n",
       "      <td>0.0</td>\n",
       "      <td>1.0</td>\n",
       "      <td>0.0</td>\n",
       "      <td>0.0</td>\n",
       "      <td>0.0</td>\n",
       "      <td>0.0</td>\n",
       "      <td>0.0</td>\n",
       "      <td>0.0</td>\n",
       "      <td>0.0</td>\n",
       "      <td>0.0</td>\n",
       "      <td>0.0</td>\n",
       "      <td>0.0</td>\n",
       "      <td>0.0</td>\n",
       "      <td>0.0</td>\n",
       "    </tr>\n",
       "    <tr>\n",
       "      <th>3</th>\n",
       "      <td>124.778761</td>\n",
       "      <td>0.0</td>\n",
       "      <td>0.0</td>\n",
       "      <td>0.0</td>\n",
       "      <td>1.0</td>\n",
       "      <td>0.0</td>\n",
       "      <td>0.0</td>\n",
       "      <td>0.0</td>\n",
       "      <td>0.0</td>\n",
       "      <td>0.0</td>\n",
       "      <td>0.0</td>\n",
       "      <td>0.0</td>\n",
       "      <td>0.0</td>\n",
       "      <td>0.0</td>\n",
       "      <td>0.0</td>\n",
       "      <td>0.0</td>\n",
       "      <td>0.0</td>\n",
       "      <td>0.0</td>\n",
       "    </tr>\n",
       "    <tr>\n",
       "      <th>4</th>\n",
       "      <td>130.321208</td>\n",
       "      <td>0.0</td>\n",
       "      <td>0.0</td>\n",
       "      <td>0.0</td>\n",
       "      <td>0.0</td>\n",
       "      <td>1.0</td>\n",
       "      <td>0.0</td>\n",
       "      <td>0.0</td>\n",
       "      <td>0.0</td>\n",
       "      <td>0.0</td>\n",
       "      <td>0.0</td>\n",
       "      <td>0.0</td>\n",
       "      <td>0.0</td>\n",
       "      <td>0.0</td>\n",
       "      <td>0.0</td>\n",
       "      <td>0.0</td>\n",
       "      <td>0.0</td>\n",
       "      <td>0.0</td>\n",
       "    </tr>\n",
       "  </tbody>\n",
       "</table>\n",
       "</div>"
      ],
      "text/plain": [
       "   total_minutes  12 am  8 am  9 am  10 am  11 am  12 pm  1 pm  2 pm  3 pm  \\\n",
       "0      91.800861    0.0   0.0   0.0    0.0    0.0    0.0   1.0   0.0   0.0   \n",
       "1     206.599732    0.0   0.0   0.0    0.0    0.0    0.0   1.0   0.0   0.0   \n",
       "2      93.458001    0.0   0.0   0.0    0.0    1.0    0.0   0.0   0.0   0.0   \n",
       "3     124.778761    0.0   0.0   0.0    1.0    0.0    0.0   0.0   0.0   0.0   \n",
       "4     130.321208    0.0   0.0   0.0    0.0    1.0    0.0   0.0   0.0   0.0   \n",
       "\n",
       "   4 pm  5 pm  6 pm  7 pm  8 pm  9 pm  10 pm  11 pm  \n",
       "0   0.0   0.0   0.0   0.0   0.0   0.0    0.0    0.0  \n",
       "1   0.0   0.0   0.0   0.0   0.0   0.0    0.0    0.0  \n",
       "2   0.0   0.0   0.0   0.0   0.0   0.0    0.0    0.0  \n",
       "3   0.0   0.0   0.0   0.0   0.0   0.0    0.0    0.0  \n",
       "4   0.0   0.0   0.0   0.0   0.0   0.0    0.0    0.0  "
      ]
     },
     "execution_count": 58,
     "metadata": {},
     "output_type": "execute_result"
    }
   ],
   "source": [
    "orders_reg3 = pd.DataFrame(np.hstack([orders[['total_minutes']], promised_time_ohe]))\n",
    "orders_reg3.columns = ['total_minutes','12 am', '8 am','9 am','10 am','11 am','12 pm','1 pm','2 pm','3 pm','4 pm','5 pm',\n",
    "                            '6 pm','7 pm','8 pm','9 pm','10 pm','11 pm']\n",
    "orders_reg3.head()"
   ]
  },
  {
   "cell_type": "code",
   "execution_count": 59,
   "metadata": {},
   "outputs": [],
   "source": [
    "# Running a linear regression \n",
    "X = orders_reg3[['12 am', '8 am','9 am','10 am','11 am','12 pm','1 pm','2 pm','3 pm','4 pm','5 pm',\n",
    "                            '6 pm','7 pm','8 pm','9 pm','10 pm']]\n",
    "y = orders_reg3[['total_minutes']]\n",
    "\n",
    "X_train, X_test, y_train, y_test = train_test_split(X, y, test_size = 0.3, random_state = 123)\n",
    "reg_all = linear_model.LinearRegression()\n",
    "reg_all.fit(X_train, y_train)\n",
    "y_pred = reg_all.predict(X_test)"
   ]
  },
  {
   "cell_type": "code",
   "execution_count": 60,
   "metadata": {},
   "outputs": [
    {
     "name": "stdout",
     "output_type": "stream",
     "text": [
      "Mean Squared Error: 917.2176201592322\n",
      "Root Mean Squared Error: 30.285600871688715\n"
     ]
    }
   ],
   "source": [
    "# Calculating the Mean Squared Error\n",
    "MSE = mean_squared_error(y_test,y_pred)\n",
    "RMSE = np.sqrt(MSE)\n",
    "\n",
    "print(\"Mean Squared Error: {}\".format(MSE))\n",
    "print(\"Root Mean Squared Error: {}\".format(RMSE))"
   ]
  },
  {
   "cell_type": "code",
   "execution_count": 61,
   "metadata": {},
   "outputs": [
    {
     "data": {
      "text/html": [
       "<table class=\"simpletable\">\n",
       "<caption>OLS Regression Results</caption>\n",
       "<tr>\n",
       "  <th>Dep. Variable:</th>      <td>total_minutes</td>  <th>  R-squared (uncentered):</th>      <td>   0.862</td> \n",
       "</tr>\n",
       "<tr>\n",
       "  <th>Model:</th>                   <td>OLS</td>       <th>  Adj. R-squared (uncentered):</th> <td>   0.861</td> \n",
       "</tr>\n",
       "<tr>\n",
       "  <th>Method:</th>             <td>Least Squares</td>  <th>  F-statistic:       </th>          <td>   2830.</td> \n",
       "</tr>\n",
       "<tr>\n",
       "  <th>Date:</th>             <td>Sun, 12 Jul 2020</td> <th>  Prob (F-statistic):</th>           <td>  0.00</td>  \n",
       "</tr>\n",
       "<tr>\n",
       "  <th>Time:</th>                 <td>21:02:04</td>     <th>  Log-Likelihood:    </th>          <td> -36108.</td> \n",
       "</tr>\n",
       "<tr>\n",
       "  <th>No. Observations:</th>      <td>  7295</td>      <th>  AIC:               </th>          <td>7.225e+04</td>\n",
       "</tr>\n",
       "<tr>\n",
       "  <th>Df Residuals:</th>          <td>  7279</td>      <th>  BIC:               </th>          <td>7.236e+04</td>\n",
       "</tr>\n",
       "<tr>\n",
       "  <th>Df Model:</th>              <td>    16</td>      <th>                     </th>              <td> </td>    \n",
       "</tr>\n",
       "<tr>\n",
       "  <th>Covariance Type:</th>      <td>nonrobust</td>    <th>                     </th>              <td> </td>    \n",
       "</tr>\n",
       "</table>\n",
       "<table class=\"simpletable\">\n",
       "<tr>\n",
       "    <td></td>       <th>coef</th>     <th>std err</th>      <th>t</th>      <th>P>|t|</th>  <th>[0.025</th>    <th>0.975]</th>  \n",
       "</tr>\n",
       "<tr>\n",
       "  <th>12 am</th> <td>   85.7088</td> <td>    6.242</td> <td>   13.731</td> <td> 0.000</td> <td>   73.473</td> <td>   97.945</td>\n",
       "</tr>\n",
       "<tr>\n",
       "  <th>8 am</th>  <td>   75.2750</td> <td>   17.094</td> <td>    4.403</td> <td> 0.000</td> <td>   41.765</td> <td>  108.785</td>\n",
       "</tr>\n",
       "<tr>\n",
       "  <th>9 am</th>  <td>   79.4715</td> <td>    3.231</td> <td>   24.600</td> <td> 0.000</td> <td>   73.139</td> <td>   85.804</td>\n",
       "</tr>\n",
       "<tr>\n",
       "  <th>10 am</th> <td>   90.7855</td> <td>    1.545</td> <td>   58.780</td> <td> 0.000</td> <td>   87.758</td> <td>   93.813</td>\n",
       "</tr>\n",
       "<tr>\n",
       "  <th>11 am</th> <td>   86.1017</td> <td>    1.323</td> <td>   65.090</td> <td> 0.000</td> <td>   83.509</td> <td>   88.695</td>\n",
       "</tr>\n",
       "<tr>\n",
       "  <th>12 pm</th> <td>   84.5577</td> <td>    1.388</td> <td>   60.934</td> <td> 0.000</td> <td>   81.837</td> <td>   87.278</td>\n",
       "</tr>\n",
       "<tr>\n",
       "  <th>1 pm</th>  <td>   87.4579</td> <td>    1.312</td> <td>   66.657</td> <td> 0.000</td> <td>   84.886</td> <td>   90.030</td>\n",
       "</tr>\n",
       "<tr>\n",
       "  <th>2 pm</th>  <td>   86.8181</td> <td>    1.357</td> <td>   63.990</td> <td> 0.000</td> <td>   84.158</td> <td>   89.478</td>\n",
       "</tr>\n",
       "<tr>\n",
       "  <th>3 pm</th>  <td>   86.8129</td> <td>    1.545</td> <td>   56.208</td> <td> 0.000</td> <td>   83.785</td> <td>   89.841</td>\n",
       "</tr>\n",
       "<tr>\n",
       "  <th>4 pm</th>  <td>   86.3451</td> <td>    1.565</td> <td>   55.158</td> <td> 0.000</td> <td>   83.276</td> <td>   89.414</td>\n",
       "</tr>\n",
       "<tr>\n",
       "  <th>5 pm</th>  <td>   84.1736</td> <td>    1.649</td> <td>   51.053</td> <td> 0.000</td> <td>   80.942</td> <td>   87.406</td>\n",
       "</tr>\n",
       "<tr>\n",
       "  <th>6 pm</th>  <td>   82.6241</td> <td>    1.589</td> <td>   52.001</td> <td> 0.000</td> <td>   79.509</td> <td>   85.739</td>\n",
       "</tr>\n",
       "<tr>\n",
       "  <th>7 pm</th>  <td>   86.3510</td> <td>    1.552</td> <td>   55.623</td> <td> 0.000</td> <td>   83.308</td> <td>   89.394</td>\n",
       "</tr>\n",
       "<tr>\n",
       "  <th>8 pm</th>  <td>   86.6976</td> <td>    1.496</td> <td>   57.937</td> <td> 0.000</td> <td>   83.764</td> <td>   89.631</td>\n",
       "</tr>\n",
       "<tr>\n",
       "  <th>9 pm</th>  <td>   88.7002</td> <td>    1.562</td> <td>   56.781</td> <td> 0.000</td> <td>   85.638</td> <td>   91.762</td>\n",
       "</tr>\n",
       "<tr>\n",
       "  <th>10 pm</th> <td>   87.2651</td> <td>    1.509</td> <td>   57.811</td> <td> 0.000</td> <td>   84.306</td> <td>   90.224</td>\n",
       "</tr>\n",
       "</table>\n",
       "<table class=\"simpletable\">\n",
       "<tr>\n",
       "  <th>Omnibus:</th>       <td>1863.853</td> <th>  Durbin-Watson:     </th> <td>   1.871</td>\n",
       "</tr>\n",
       "<tr>\n",
       "  <th>Prob(Omnibus):</th>  <td> 0.000</td>  <th>  Jarque-Bera (JB):  </th> <td>4979.643</td>\n",
       "</tr>\n",
       "<tr>\n",
       "  <th>Skew:</th>           <td> 1.367</td>  <th>  Prob(JB):          </th> <td>    0.00</td>\n",
       "</tr>\n",
       "<tr>\n",
       "  <th>Kurtosis:</th>       <td> 5.985</td>  <th>  Cond. No.          </th> <td>    13.0</td>\n",
       "</tr>\n",
       "</table><br/><br/>Warnings:<br/>[1] Standard Errors assume that the covariance matrix of the errors is correctly specified."
      ],
      "text/plain": [
       "<class 'statsmodels.iolib.summary.Summary'>\n",
       "\"\"\"\n",
       "                                 OLS Regression Results                                \n",
       "=======================================================================================\n",
       "Dep. Variable:          total_minutes   R-squared (uncentered):                   0.862\n",
       "Model:                            OLS   Adj. R-squared (uncentered):              0.861\n",
       "Method:                 Least Squares   F-statistic:                              2830.\n",
       "Date:                Sun, 12 Jul 2020   Prob (F-statistic):                        0.00\n",
       "Time:                        21:02:04   Log-Likelihood:                         -36108.\n",
       "No. Observations:                7295   AIC:                                  7.225e+04\n",
       "Df Residuals:                    7279   BIC:                                  7.236e+04\n",
       "Df Model:                          16                                                  \n",
       "Covariance Type:            nonrobust                                                  \n",
       "==============================================================================\n",
       "                 coef    std err          t      P>|t|      [0.025      0.975]\n",
       "------------------------------------------------------------------------------\n",
       "12 am         85.7088      6.242     13.731      0.000      73.473      97.945\n",
       "8 am          75.2750     17.094      4.403      0.000      41.765     108.785\n",
       "9 am          79.4715      3.231     24.600      0.000      73.139      85.804\n",
       "10 am         90.7855      1.545     58.780      0.000      87.758      93.813\n",
       "11 am         86.1017      1.323     65.090      0.000      83.509      88.695\n",
       "12 pm         84.5577      1.388     60.934      0.000      81.837      87.278\n",
       "1 pm          87.4579      1.312     66.657      0.000      84.886      90.030\n",
       "2 pm          86.8181      1.357     63.990      0.000      84.158      89.478\n",
       "3 pm          86.8129      1.545     56.208      0.000      83.785      89.841\n",
       "4 pm          86.3451      1.565     55.158      0.000      83.276      89.414\n",
       "5 pm          84.1736      1.649     51.053      0.000      80.942      87.406\n",
       "6 pm          82.6241      1.589     52.001      0.000      79.509      85.739\n",
       "7 pm          86.3510      1.552     55.623      0.000      83.308      89.394\n",
       "8 pm          86.6976      1.496     57.937      0.000      83.764      89.631\n",
       "9 pm          88.7002      1.562     56.781      0.000      85.638      91.762\n",
       "10 pm         87.2651      1.509     57.811      0.000      84.306      90.224\n",
       "==============================================================================\n",
       "Omnibus:                     1863.853   Durbin-Watson:                   1.871\n",
       "Prob(Omnibus):                  0.000   Jarque-Bera (JB):             4979.643\n",
       "Skew:                           1.367   Prob(JB):                         0.00\n",
       "Kurtosis:                       5.985   Cond. No.                         13.0\n",
       "==============================================================================\n",
       "\n",
       "Warnings:\n",
       "[1] Standard Errors assume that the covariance matrix of the errors is correctly specified.\n",
       "\"\"\""
      ]
     },
     "execution_count": 61,
     "metadata": {},
     "output_type": "execute_result"
    }
   ],
   "source": [
    "OLS(y,X).fit().summary()"
   ]
  },
  {
   "cell_type": "markdown",
   "metadata": {},
   "source": [
    "**5. Calculate the number of orders in which the picker_id and driver_id are different.**"
   ]
  },
  {
   "cell_type": "code",
   "execution_count": 62,
   "metadata": {},
   "outputs": [],
   "source": [
    "dif_driver_picker = pysqldf(\"\"\"\n",
    "\n",
    "SELECT COUNT(order_id) AS 'Num of Orders'\n",
    "FROM orders\n",
    "WHERE picker_id != driver_id\n",
    "\n",
    "\n",
    "\"\"\")"
   ]
  },
  {
   "cell_type": "code",
   "execution_count": 63,
   "metadata": {},
   "outputs": [
    {
     "data": {
      "text/html": [
       "<div>\n",
       "<style scoped>\n",
       "    .dataframe tbody tr th:only-of-type {\n",
       "        vertical-align: middle;\n",
       "    }\n",
       "\n",
       "    .dataframe tbody tr th {\n",
       "        vertical-align: top;\n",
       "    }\n",
       "\n",
       "    .dataframe thead th {\n",
       "        text-align: right;\n",
       "    }\n",
       "</style>\n",
       "<table border=\"1\" class=\"dataframe\">\n",
       "  <thead>\n",
       "    <tr style=\"text-align: right;\">\n",
       "      <th></th>\n",
       "      <th>Num of Orders</th>\n",
       "    </tr>\n",
       "  </thead>\n",
       "  <tbody>\n",
       "    <tr>\n",
       "      <th>0</th>\n",
       "      <td>216</td>\n",
       "    </tr>\n",
       "  </tbody>\n",
       "</table>\n",
       "</div>"
      ],
      "text/plain": [
       "   Num of Orders\n",
       "0            216"
      ]
     },
     "execution_count": 63,
     "metadata": {},
     "output_type": "execute_result"
    }
   ],
   "source": [
    "dif_driver_picker"
   ]
  },
  {
   "cell_type": "code",
   "execution_count": 64,
   "metadata": {},
   "outputs": [],
   "source": [
    "# Saving a Pandas Dataframe as a CSV\n",
    "dif_driver_picker.to_csv('C:/Users/jpolancoroque/Desktop/Job Applications/Cornershop/Queries/Q5.csv',index=False) "
   ]
  },
  {
   "cell_type": "markdown",
   "metadata": {},
   "source": [
    "# III. Additional Analysis"
   ]
  },
  {
   "cell_type": "markdown",
   "metadata": {},
   "source": [
    "**a) Map of orders**"
   ]
  },
  {
   "cell_type": "markdown",
   "metadata": {},
   "source": [
    "You will find the resulting map within the email."
   ]
  },
  {
   "cell_type": "code",
   "execution_count": 65,
   "metadata": {},
   "outputs": [
    {
     "data": {
      "text/plain": [
       "[<shapely.geometry.point.Point at 0x23609557898>,\n",
       " <shapely.geometry.point.Point at 0x23609557978>,\n",
       " <shapely.geometry.point.Point at 0x23609557940>]"
      ]
     },
     "execution_count": 65,
     "metadata": {},
     "output_type": "execute_result"
    }
   ],
   "source": [
    "# Defining the geometry\n",
    "geometry = [Point(xy) for xy in zip(orders[\"lng\"],orders[\"lat\"])]\n",
    "geometry[:3]"
   ]
  },
  {
   "cell_type": "code",
   "execution_count": 66,
   "metadata": {},
   "outputs": [],
   "source": [
    "# Type of format for the lat and lng\n",
    "crs = {'init':'epsg:4326'}"
   ]
  },
  {
   "cell_type": "code",
   "execution_count": 67,
   "metadata": {},
   "outputs": [
    {
     "data": {
      "text/html": [
       "<div>\n",
       "<style scoped>\n",
       "    .dataframe tbody tr th:only-of-type {\n",
       "        vertical-align: middle;\n",
       "    }\n",
       "\n",
       "    .dataframe tbody tr th {\n",
       "        vertical-align: top;\n",
       "    }\n",
       "\n",
       "    .dataframe thead th {\n",
       "        text-align: right;\n",
       "    }\n",
       "</style>\n",
       "<table border=\"1\" class=\"dataframe\">\n",
       "  <thead>\n",
       "    <tr style=\"text-align: right;\">\n",
       "      <th></th>\n",
       "      <th>order_id</th>\n",
       "      <th>lat</th>\n",
       "      <th>lng</th>\n",
       "      <th>dow</th>\n",
       "      <th>promised_time</th>\n",
       "      <th>actual_time</th>\n",
       "      <th>on_demand</th>\n",
       "      <th>picker_id</th>\n",
       "      <th>driver_id</th>\n",
       "      <th>store_branch_id</th>\n",
       "      <th>total_minutes</th>\n",
       "      <th>day_of_week</th>\n",
       "      <th>promised_time_cat</th>\n",
       "      <th>actual_time_cat</th>\n",
       "      <th>geometry</th>\n",
       "    </tr>\n",
       "  </thead>\n",
       "  <tbody>\n",
       "    <tr>\n",
       "      <th>0</th>\n",
       "      <td>6abd5e28d01b7c733fe37485294235dc</td>\n",
       "      <td>18.221141</td>\n",
       "      <td>-100.313914</td>\n",
       "      <td>2</td>\n",
       "      <td>13</td>\n",
       "      <td>12</td>\n",
       "      <td>0</td>\n",
       "      <td>09bb5bfe76adbb474dddbdd111a51623</td>\n",
       "      <td>09bb5bfe76adbb474dddbdd111a51623</td>\n",
       "      <td>0dc6fb5924a8b917bc641666ed02663c</td>\n",
       "      <td>91.800861</td>\n",
       "      <td>Tuesday</td>\n",
       "      <td>Afternoon</td>\n",
       "      <td>Morning</td>\n",
       "      <td>POINT (-100.31391 18.22114)</td>\n",
       "    </tr>\n",
       "    <tr>\n",
       "      <th>1</th>\n",
       "      <td>0d37a1eea001f01b40232ffd496ff663</td>\n",
       "      <td>18.177712</td>\n",
       "      <td>-100.357051</td>\n",
       "      <td>2</td>\n",
       "      <td>13</td>\n",
       "      <td>10</td>\n",
       "      <td>0</td>\n",
       "      <td>c4c722114a82fa21654e57e9636d68b0</td>\n",
       "      <td>c4c722114a82fa21654e57e9636d68b0</td>\n",
       "      <td>2bbf833e689d24b697f1f3529c3f3c4b</td>\n",
       "      <td>206.599732</td>\n",
       "      <td>Tuesday</td>\n",
       "      <td>Afternoon</td>\n",
       "      <td>Morning</td>\n",
       "      <td>POINT (-100.35705 18.17771)</td>\n",
       "    </tr>\n",
       "    <tr>\n",
       "      <th>2</th>\n",
       "      <td>528428e9b9eb5d3bd0dbdd8da692b087</td>\n",
       "      <td>18.266832</td>\n",
       "      <td>-100.317553</td>\n",
       "      <td>2</td>\n",
       "      <td>11</td>\n",
       "      <td>10</td>\n",
       "      <td>0</td>\n",
       "      <td>e15c7a67d0ea9a54dffb410bc1d8528b</td>\n",
       "      <td>e15c7a67d0ea9a54dffb410bc1d8528b</td>\n",
       "      <td>8d891dfc0e29d744c15c18adced74a68</td>\n",
       "      <td>93.458001</td>\n",
       "      <td>Tuesday</td>\n",
       "      <td>Morning</td>\n",
       "      <td>Morning</td>\n",
       "      <td>POINT (-100.31755 18.26683)</td>\n",
       "    </tr>\n",
       "    <tr>\n",
       "      <th>3</th>\n",
       "      <td>d3f7be6d64eae7405b7bf024e04807a2</td>\n",
       "      <td>18.248884</td>\n",
       "      <td>-100.322622</td>\n",
       "      <td>2</td>\n",
       "      <td>10</td>\n",
       "      <td>9</td>\n",
       "      <td>0</td>\n",
       "      <td>d1f0bd4b237c1358f09db22076b940e7</td>\n",
       "      <td>d1f0bd4b237c1358f09db22076b940e7</td>\n",
       "      <td>0dc6fb5924a8b917bc641666ed02663c</td>\n",
       "      <td>124.778761</td>\n",
       "      <td>Tuesday</td>\n",
       "      <td>Morning</td>\n",
       "      <td>Morning</td>\n",
       "      <td>POINT (-100.32262 18.24888)</td>\n",
       "    </tr>\n",
       "    <tr>\n",
       "      <th>4</th>\n",
       "      <td>e0ad6533b6cd9a382ec6c1d473c5036c</td>\n",
       "      <td>18.229110</td>\n",
       "      <td>-100.322672</td>\n",
       "      <td>2</td>\n",
       "      <td>11</td>\n",
       "      <td>10</td>\n",
       "      <td>0</td>\n",
       "      <td>06a71e8ab0c6db5ce22a4689fd76a3f4</td>\n",
       "      <td>06a71e8ab0c6db5ce22a4689fd76a3f4</td>\n",
       "      <td>afd0a7b8d546fcc697bb93a5934b65c3</td>\n",
       "      <td>130.321208</td>\n",
       "      <td>Tuesday</td>\n",
       "      <td>Morning</td>\n",
       "      <td>Morning</td>\n",
       "      <td>POINT (-100.32267 18.22911)</td>\n",
       "    </tr>\n",
       "  </tbody>\n",
       "</table>\n",
       "</div>"
      ],
      "text/plain": [
       "                           order_id        lat         lng  dow  \\\n",
       "0  6abd5e28d01b7c733fe37485294235dc  18.221141 -100.313914    2   \n",
       "1  0d37a1eea001f01b40232ffd496ff663  18.177712 -100.357051    2   \n",
       "2  528428e9b9eb5d3bd0dbdd8da692b087  18.266832 -100.317553    2   \n",
       "3  d3f7be6d64eae7405b7bf024e04807a2  18.248884 -100.322622    2   \n",
       "4  e0ad6533b6cd9a382ec6c1d473c5036c  18.229110 -100.322672    2   \n",
       "\n",
       "   promised_time  actual_time on_demand                         picker_id  \\\n",
       "0             13           12         0  09bb5bfe76adbb474dddbdd111a51623   \n",
       "1             13           10         0  c4c722114a82fa21654e57e9636d68b0   \n",
       "2             11           10         0  e15c7a67d0ea9a54dffb410bc1d8528b   \n",
       "3             10            9         0  d1f0bd4b237c1358f09db22076b940e7   \n",
       "4             11           10         0  06a71e8ab0c6db5ce22a4689fd76a3f4   \n",
       "\n",
       "                          driver_id                   store_branch_id  \\\n",
       "0  09bb5bfe76adbb474dddbdd111a51623  0dc6fb5924a8b917bc641666ed02663c   \n",
       "1  c4c722114a82fa21654e57e9636d68b0  2bbf833e689d24b697f1f3529c3f3c4b   \n",
       "2  e15c7a67d0ea9a54dffb410bc1d8528b  8d891dfc0e29d744c15c18adced74a68   \n",
       "3  d1f0bd4b237c1358f09db22076b940e7  0dc6fb5924a8b917bc641666ed02663c   \n",
       "4  06a71e8ab0c6db5ce22a4689fd76a3f4  afd0a7b8d546fcc697bb93a5934b65c3   \n",
       "\n",
       "   total_minutes day_of_week promised_time_cat actual_time_cat  \\\n",
       "0      91.800861     Tuesday         Afternoon         Morning   \n",
       "1     206.599732     Tuesday         Afternoon         Morning   \n",
       "2      93.458001     Tuesday           Morning         Morning   \n",
       "3     124.778761     Tuesday           Morning         Morning   \n",
       "4     130.321208     Tuesday           Morning         Morning   \n",
       "\n",
       "                      geometry  \n",
       "0  POINT (-100.31391 18.22114)  \n",
       "1  POINT (-100.35705 18.17771)  \n",
       "2  POINT (-100.31755 18.26683)  \n",
       "3  POINT (-100.32262 18.24888)  \n",
       "4  POINT (-100.32267 18.22911)  "
      ]
     },
     "execution_count": 67,
     "metadata": {},
     "output_type": "execute_result"
    }
   ],
   "source": [
    "# Transforming the DataFrame to a GeoDataFrame\n",
    "geo_df = gpd.GeoDataFrame(orders, crs=crs, geometry=geometry)\n",
    "geo_df.head()"
   ]
  },
  {
   "cell_type": "code",
   "execution_count": 68,
   "metadata": {},
   "outputs": [],
   "source": [
    "# Starting point\n",
    "m = folium.Map(location=[18.221141,-100.313914], zoom_start=13)\n",
    "\n",
    "# Plotting all the different locations\n",
    "for i in range(len(geo_df)):\n",
    "    folium.Marker(location=(geo_df.iloc[i,1], geo_df.iloc[i,2])).add_to(m)\n",
    "\n",
    "m.save('C:/Users/jpolancoroque/Desktop/Job Applications/Cornershop/mapa.html')"
   ]
  },
  {
   "cell_type": "markdown",
   "metadata": {},
   "source": [
    "**b) Plotting**"
   ]
  },
  {
   "cell_type": "code",
   "execution_count": 89,
   "metadata": {},
   "outputs": [
    {
     "data": {
      "image/png": "[encoded data removed]",
      "text/plain": [
       "<Figure size 936x576 with 1 Axes>"
      ]
     },
     "metadata": {},
     "output_type": "display_data"
    }
   ],
   "source": [
    "# Boxplot - total_minutes\n",
    "fig, ax = plt.subplots(figsize=(13,8))\n",
    "sns.set(style=\"whitegrid\")\n",
    "ax = sns.boxplot(x=\"total_minutes\", y=\"day_of_week\", data=orders, order=[\"Sunday\", \"Monday\", \"Tuesday\", \"Wednesday\",\n",
    "                                                                        \"Thursday\", \"Friday\", \"Saturday\"])\n",
    "plt.title('Distribution of Total Minutes by Week day')\n",
    "plt.show()"
   ]
  },
  {
   "cell_type": "code",
   "execution_count": 101,
   "metadata": {},
   "outputs": [
    {
     "data": {
      "image/png": "[encoded data removed]",
      "text/plain": [
       "<Figure size 936x576 with 1 Axes>"
      ]
     },
     "metadata": {},
     "output_type": "display_data"
    }
   ],
   "source": [
    "# Barplot - day_of_week - buy_unit\n",
    "fig, ax = plt.subplots(figsize=(13,8))\n",
    "sns.set(style=\"whitegrid\")\n",
    "ax = sns.barplot(x=\"day_of_week\", y=\"Found rate\", hue = \"buy_unit\", data=avg_found_rate)\n",
    "plt.title('Average Units of the orders')\n",
    "plt.show()"
   ]
  },
  {
   "cell_type": "code",
   "execution_count": 104,
   "metadata": {},
   "outputs": [
    {
     "data": {
      "image/png": "[encoded data removed]",
      "text/plain": [
       "<Figure size 936x576 with 1 Axes>"
      ]
     },
     "metadata": {},
     "output_type": "display_data"
    }
   ],
   "source": [
    "# Barplot - total_minutes\n",
    "fig, ax = plt.subplots(figsize=(13,8))\n",
    "sns.set(style=\"whitegrid\")\n",
    "ax = sns.barplot(x=\"day_of_week\", y=\"Number of orders by day\", data=num_orders)\n",
    "plt.title('Number of orders')\n",
    "plt.show()"
   ]
  },
  {
   "cell_type": "code",
   "execution_count": 102,
   "metadata": {},
   "outputs": [
    {
     "data": {
      "text/html": [
       "<div>\n",
       "<style scoped>\n",
       "    .dataframe tbody tr th:only-of-type {\n",
       "        vertical-align: middle;\n",
       "    }\n",
       "\n",
       "    .dataframe tbody tr th {\n",
       "        vertical-align: top;\n",
       "    }\n",
       "\n",
       "    .dataframe thead th {\n",
       "        text-align: right;\n",
       "    }\n",
       "</style>\n",
       "<table border=\"1\" class=\"dataframe\">\n",
       "  <thead>\n",
       "    <tr style=\"text-align: right;\">\n",
       "      <th></th>\n",
       "      <th>day_of_week</th>\n",
       "      <th>Number of orders by day</th>\n",
       "    </tr>\n",
       "  </thead>\n",
       "  <tbody>\n",
       "    <tr>\n",
       "      <th>0</th>\n",
       "      <td>Sunday</td>\n",
       "      <td>381</td>\n",
       "    </tr>\n",
       "    <tr>\n",
       "      <th>1</th>\n",
       "      <td>Monday</td>\n",
       "      <td>426</td>\n",
       "    </tr>\n",
       "    <tr>\n",
       "      <th>2</th>\n",
       "      <td>Tuesday</td>\n",
       "      <td>610</td>\n",
       "    </tr>\n",
       "    <tr>\n",
       "      <th>3</th>\n",
       "      <td>Wednesday</td>\n",
       "      <td>480</td>\n",
       "    </tr>\n",
       "    <tr>\n",
       "      <th>4</th>\n",
       "      <td>Thursday</td>\n",
       "      <td>572</td>\n",
       "    </tr>\n",
       "    <tr>\n",
       "      <th>5</th>\n",
       "      <td>Friday</td>\n",
       "      <td>291</td>\n",
       "    </tr>\n",
       "    <tr>\n",
       "      <th>6</th>\n",
       "      <td>Saturday</td>\n",
       "      <td>310</td>\n",
       "    </tr>\n",
       "  </tbody>\n",
       "</table>\n",
       "</div>"
      ],
      "text/plain": [
       "  day_of_week  Number of orders by day\n",
       "0      Sunday                      381\n",
       "1      Monday                      426\n",
       "2     Tuesday                      610\n",
       "3   Wednesday                      480\n",
       "4    Thursday                      572\n",
       "5      Friday                      291\n",
       "6    Saturday                      310"
      ]
     },
     "execution_count": 102,
     "metadata": {},
     "output_type": "execute_result"
    }
   ],
   "source": [
    "num_orders"
   ]
  }
 ],
 "metadata": {
  "kernelspec": {
   "display_name": "Python 3",
   "language": "python",
   "name": "python3"
  },
  "language_info": {
   "codemirror_mode": {
    "name": "ipython",
    "version": 3
   },
   "file_extension": ".py",
   "mimetype": "text/x-python",
   "name": "python",
   "nbconvert_exporter": "python",
   "pygments_lexer": "ipython3",
   "version": "3.7.1"
  }
 },
 "nbformat": 4,
 "nbformat_minor": 2
}
