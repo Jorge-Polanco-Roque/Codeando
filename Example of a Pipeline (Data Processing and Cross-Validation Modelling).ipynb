{
 "cells": [
  {
   "cell_type": "markdown",
   "id": "recent-capability",
   "metadata": {},
   "source": [
    "# Example of a Pipeline (Data Processing and Cross-Validation Modelling)"
   ]
  },
  {
   "cell_type": "code",
   "execution_count": 1,
   "id": "complicated-audience",
   "metadata": {},
   "outputs": [],
   "source": [
    "# Example of using the ColumnTransformer for the Abalone dataset\n",
    "from sklearn.model_selection import cross_val_score\n",
    "from sklearn.preprocessing import OneHotEncoder\n",
    "from sklearn.preprocessing import MinMaxScaler\n",
    "from sklearn.compose import ColumnTransformer\n",
    "from sklearn.model_selection import KFold\n",
    "from sklearn.pipeline import Pipeline\n",
    "from sklearn.svm import SVR\n",
    "from pandas import read_csv\n",
    "from numpy import absolute\n",
    "from numpy import mean\n",
    "from numpy import std\n"
   ]
  },
  {
   "cell_type": "code",
   "execution_count": 2,
   "id": "offshore-peeing",
   "metadata": {},
   "outputs": [],
   "source": [
    "# load dataset\n",
    "url = 'https://raw.githubusercontent.com/jbrownlee/Datasets/master/abalone.csv'\n",
    "dataframe = read_csv(url, header=None)\n"
   ]
  },
  {
   "cell_type": "code",
   "execution_count": 3,
   "id": "viral-robertson",
   "metadata": {},
   "outputs": [
    {
     "name": "stdout",
     "output_type": "stream",
     "text": [
      "(4177, 8) (4177,)\n"
     ]
    }
   ],
   "source": [
    "# Split into inputs and outputs\n",
    "last_ix = len(dataframe.columns) - 1\n",
    "X, y = dataframe.drop(last_ix, axis=1), dataframe[last_ix]\n",
    "print(X.shape, y.shape)\n"
   ]
  },
  {
   "cell_type": "code",
   "execution_count": 4,
   "id": "north-space",
   "metadata": {},
   "outputs": [],
   "source": [
    "# Determine categorical and numerical features\n",
    "numerical_ix = X.select_dtypes(include=['int64', 'float64']).columns\n",
    "categorical_ix = X.select_dtypes(include=['object', 'bool']).columns\n"
   ]
  },
  {
   "cell_type": "code",
   "execution_count": 5,
   "id": "split-philadelphia",
   "metadata": {},
   "outputs": [],
   "source": [
    "# Define the data preparation for the columns\n",
    "t = [('cat', OneHotEncoder(), categorical_ix), ('num', MinMaxScaler(), numerical_ix)]\n",
    "col_transform = ColumnTransformer(transformers=t)\n"
   ]
  },
  {
   "cell_type": "code",
   "execution_count": 6,
   "id": "prompt-prior",
   "metadata": {},
   "outputs": [],
   "source": [
    "# Define the model\n",
    "model = SVR(kernel='rbf',gamma='scale',C=100)\n"
   ]
  },
  {
   "cell_type": "code",
   "execution_count": 7,
   "id": "least-economy",
   "metadata": {},
   "outputs": [],
   "source": [
    "# Define the data preparation and modeling pipeline\n",
    "pipeline = Pipeline(steps=[('prep',col_transform), ('m', model)])\n"
   ]
  },
  {
   "cell_type": "code",
   "execution_count": 8,
   "id": "departmental-ghana",
   "metadata": {},
   "outputs": [],
   "source": [
    "# Define the model cross-validation configuration\n",
    "cv = KFold(n_splits=10, shuffle=True, random_state=1)\n"
   ]
  },
  {
   "cell_type": "code",
   "execution_count": 9,
   "id": "governmental-success",
   "metadata": {},
   "outputs": [],
   "source": [
    "# Evaluate the pipeline using cross validation and calculate MAE\n",
    "scores = cross_val_score(pipeline, X, y, scoring='neg_mean_absolute_error', cv=cv, n_jobs=-1)\n"
   ]
  },
  {
   "cell_type": "code",
   "execution_count": 10,
   "id": "promising-impression",
   "metadata": {},
   "outputs": [],
   "source": [
    "# Convert MAE scores to positive values\n",
    "scores = absolute(scores)\n"
   ]
  },
  {
   "cell_type": "code",
   "execution_count": 11,
   "id": "logical-generator",
   "metadata": {},
   "outputs": [
    {
     "name": "stdout",
     "output_type": "stream",
     "text": [
      "MAE: 1.465 (0.047)\n"
     ]
    }
   ],
   "source": [
    "# Summarize the model performance\n",
    "print('MAE: %.3f (%.3f)' % (mean(scores), std(scores)))"
   ]
  },
  {
   "cell_type": "code",
   "execution_count": null,
   "id": "patient-compound",
   "metadata": {},
   "outputs": [],
   "source": []
  },
  {
   "cell_type": "code",
   "execution_count": null,
   "id": "resistant-symbol",
   "metadata": {},
   "outputs": [],
   "source": []
  },
  {
   "cell_type": "code",
   "execution_count": null,
   "id": "speaking-grass",
   "metadata": {},
   "outputs": [],
   "source": []
  },
  {
   "cell_type": "code",
   "execution_count": null,
   "id": "opened-collectible",
   "metadata": {},
   "outputs": [],
   "source": []
  }
 ],
 "metadata": {
  "kernelspec": {
   "display_name": "Python 3",
   "language": "python",
   "name": "python3"
  },
  "language_info": {
   "codemirror_mode": {
    "name": "ipython",
    "version": 3
   },
   "file_extension": ".py",
   "mimetype": "text/x-python",
   "name": "python",
   "nbconvert_exporter": "python",
   "pygments_lexer": "ipython3",
   "version": "3.8.5"
  }
 },
 "nbformat": 4,
 "nbformat_minor": 5
}
