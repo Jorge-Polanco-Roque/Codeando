{
 "cells": [
  {
   "cell_type": "markdown",
   "metadata": {},
   "source": [
    "# Forecasting - Exam Assignment"
   ]
  },
  {
   "cell_type": "markdown",
   "metadata": {},
   "source": [
    "Coded by: **Jorge Polanco**"
   ]
  },
  {
   "cell_type": "code",
   "execution_count": 1,
   "metadata": {},
   "outputs": [],
   "source": [
    "#install.packages(\"tabulizer\")\n",
    "#install.packages(\"XLConnect\")\n",
    "#install.packages('lmtest')"
   ]
  },
  {
   "cell_type": "code",
   "execution_count": 1,
   "metadata": {},
   "outputs": [
    {
     "name": "stderr",
     "output_type": "stream",
     "text": [
      "Warning message:\n",
      "\"package 'XLConnect' was built under R version 3.6.3\"\n",
      "XLConnect 1.0.1 by Mirai Solutions GmbH [aut],\n",
      "  Martin Studer [cre],\n",
      "  The Apache Software Foundation [ctb, cph] (Apache POI),\n",
      "  Graph Builder [ctb, cph] (Curvesapi Java library)\n",
      "\n",
      "http://www.mirai-solutions.com\n",
      "https://github.com/miraisolutions/xlconnect\n",
      "\n",
      "Warning message:\n",
      "\"package 'tabulizer' was built under R version 3.6.3\"\n",
      "\n",
      "Attaching package: 'lubridate'\n",
      "\n",
      "\n",
      "The following object is masked from 'package:base':\n",
      "\n",
      "    date\n",
      "\n",
      "\n",
      "Warning message:\n",
      "\"package 'tseries' was built under R version 3.6.3\"\n",
      "Registered S3 method overwritten by 'quantmod':\n",
      "  method            from\n",
      "  as.zoo.data.frame zoo \n",
      "\n",
      "Warning message:\n",
      "\"package 'readxl' was built under R version 3.6.3\"\n",
      "Warning message:\n",
      "\"package 'portes' was built under R version 3.6.3\"\n",
      "Loading required package: forecast\n",
      "\n",
      "Warning message:\n",
      "\"package 'forecast' was built under R version 3.6.3\"\n",
      "Warning message:\n",
      "\"package 'lmtest' was built under R version 3.6.3\"\n",
      "Loading required package: zoo\n",
      "\n",
      "Warning message:\n",
      "\"package 'zoo' was built under R version 3.6.3\"\n",
      "\n",
      "Attaching package: 'zoo'\n",
      "\n",
      "\n",
      "The following objects are masked from 'package:base':\n",
      "\n",
      "    as.Date, as.Date.numeric\n",
      "\n",
      "\n",
      "\n",
      "Attaching package: 'dplyr'\n",
      "\n",
      "\n",
      "The following objects are masked from 'package:lubridate':\n",
      "\n",
      "    intersect, setdiff, union\n",
      "\n",
      "\n",
      "The following objects are masked from 'package:stats':\n",
      "\n",
      "    filter, lag\n",
      "\n",
      "\n",
      "The following objects are masked from 'package:base':\n",
      "\n",
      "    intersect, setdiff, setequal, union\n",
      "\n",
      "\n",
      "Warning message:\n",
      "\"package 'fpp2' was built under R version 3.6.3\"\n",
      "Loading required package: ggplot2\n",
      "\n",
      "Warning message:\n",
      "\"package 'ggplot2' was built under R version 3.6.3\"\n",
      "Loading required package: fma\n",
      "\n",
      "Warning message:\n",
      "\"package 'fma' was built under R version 3.6.3\"\n",
      "Loading required package: expsmooth\n",
      "\n",
      "Warning message:\n",
      "\"package 'expsmooth' was built under R version 3.6.3\"\n"
     ]
    }
   ],
   "source": [
    "# Importing libraries\n",
    "library(XLConnect)\n",
    "library(tabulizer)\n",
    "library(lubridate)\n",
    "library(parallel)\n",
    "library(tseries)\n",
    "library(readxl)\n",
    "library(portes)\n",
    "library(lmtest)\n",
    "library(dplyr)\n",
    "library(fpp2)"
   ]
  },
  {
   "cell_type": "markdown",
   "metadata": {},
   "source": [
    "**Preparing the datasets:**"
   ]
  },
  {
   "cell_type": "code",
   "execution_count": 2,
   "metadata": {},
   "outputs": [],
   "source": [
    "# Declaring my working directory\n",
    "setwd(\"C:/Users/jpolancoroque/Desktop/IESEG/02. Second Semester/Forecasting/Exam\")"
   ]
  },
  {
   "cell_type": "code",
   "execution_count": 3,
   "metadata": {},
   "outputs": [],
   "source": [
    "# Knowing my excel file\n",
    "importWorksheets = function(filename) {\n",
    "    workbook = loadWorkbook(filename)\n",
    "    sheet_names = getSheets(workbook)\n",
    "    names(sheet_names) = sheet_names\n",
    "    sheet_list = lapply(sheet_names, function(.sheet){\n",
    "        readWorksheet(object=workbook, .sheet)})\n",
    "}"
   ]
  },
  {
   "cell_type": "code",
   "execution_count": 4,
   "metadata": {},
   "outputs": [],
   "source": [
    "# Importing database and the names of the excel sheet\n",
    "data = importWorksheets('DataSets2020 v2.xlsx')"
   ]
  },
  {
   "cell_type": "code",
   "execution_count": 5,
   "metadata": {},
   "outputs": [],
   "source": [
    "# Selecting Turnover database\n",
    "Turnover_db = ts(data$Turnover, frequency = 12, start = 2000)\n",
    "Turnover_db = Turnover_db[,2]"
   ]
  },
  {
   "cell_type": "code",
   "execution_count": 6,
   "metadata": {},
   "outputs": [
    {
     "data": {
      "text/html": [
       "<table>\n",
       "<caption>A Time Series: 21 × 12</caption>\n",
       "<thead>\n",
       "\t<tr><th></th><th scope=col>Jan</th><th scope=col>Feb</th><th scope=col>Mar</th><th scope=col>Apr</th><th scope=col>May</th><th scope=col>Jun</th><th scope=col>Jul</th><th scope=col>Aug</th><th scope=col>Sep</th><th scope=col>Oct</th><th scope=col>Nov</th><th scope=col>Dec</th></tr>\n",
       "</thead>\n",
       "<tbody>\n",
       "\t<tr><th scope=row>2000</th><td> 43.06</td><td> 50.01</td><td> 60.52</td><td> 56.07</td><td> 69.35</td><td> 71.09</td><td> 60.40</td><td> 67.78</td><td> 64.27</td><td> 61.39</td><td> 58.37</td><td> 58.95</td></tr>\n",
       "\t<tr><th scope=row>2001</th><td> 54.29</td><td> 52.83</td><td> 63.68</td><td> 62.21</td><td> 74.90</td><td> 72.40</td><td> 72.91</td><td> 73.10</td><td> 58.03</td><td> 65.15</td><td> 60.86</td><td> 55.51</td></tr>\n",
       "\t<tr><th scope=row>2002</th><td> 54.61</td><td> 54.83</td><td> 62.90</td><td> 68.20</td><td> 69.40</td><td> 69.51</td><td> 71.53</td><td> 68.61</td><td> 63.95</td><td> 64.65</td><td> 57.14</td><td> 62.76</td></tr>\n",
       "\t<tr><th scope=row>2003</th><td> 59.25</td><td> 55.61</td><td> 66.65</td><td> 72.51</td><td> 70.11</td><td> 82.28</td><td> 81.48</td><td> 78.44</td><td> 69.86</td><td> 71.20</td><td> 61.91</td><td> 70.40</td></tr>\n",
       "\t<tr><th scope=row>2004</th><td> 59.64</td><td> 60.76</td><td> 80.50</td><td> 71.94</td><td> 77.77</td><td> 89.13</td><td> 75.52</td><td> 79.91</td><td> 75.08</td><td> 67.18</td><td> 69.34</td><td> 69.74</td></tr>\n",
       "\t<tr><th scope=row>2005</th><td> 59.66</td><td> 62.82</td><td> 81.16</td><td> 79.88</td><td> 84.95</td><td> 95.87</td><td> 81.86</td><td> 78.83</td><td> 82.23</td><td> 73.61</td><td> 76.74</td><td> 74.92</td></tr>\n",
       "\t<tr><th scope=row>2006</th><td> 64.54</td><td> 66.08</td><td> 79.51</td><td> 76.46</td><td> 84.34</td><td> 95.39</td><td> 89.55</td><td> 84.15</td><td> 76.86</td><td> 80.61</td><td> 73.85</td><td> 76.20</td></tr>\n",
       "\t<tr><th scope=row>2007</th><td> 70.55</td><td> 68.06</td><td> 86.22</td><td> 86.58</td><td> 93.11</td><td> 96.70</td><td> 83.46</td><td> 85.89</td><td> 79.11</td><td> 84.49</td><td> 77.50</td><td> 79.41</td></tr>\n",
       "\t<tr><th scope=row>2008</th><td> 77.26</td><td> 70.76</td><td> 82.09</td><td> 87.67</td><td> 94.31</td><td> 86.38</td><td> 96.28</td><td> 86.71</td><td> 83.91</td><td> 83.96</td><td> 74.54</td><td> 87.83</td></tr>\n",
       "\t<tr><th scope=row>2009</th><td> 67.38</td><td> 71.70</td><td> 86.10</td><td> 87.07</td><td> 88.56</td><td>103.22</td><td> 94.75</td><td> 84.60</td><td> 88.83</td><td> 80.40</td><td> 78.85</td><td> 86.08</td></tr>\n",
       "\t<tr><th scope=row>2010</th><td> 60.59</td><td> 74.12</td><td> 88.11</td><td> 86.43</td><td> 83.63</td><td>101.95</td><td> 95.21</td><td> 82.70</td><td> 82.19</td><td> 75.14</td><td> 79.41</td><td> 76.96</td></tr>\n",
       "\t<tr><th scope=row>2011</th><td> 72.73</td><td> 76.23</td><td> 95.92</td><td> 92.75</td><td>106.87</td><td>101.82</td><td> 88.16</td><td> 88.90</td><td> 96.68</td><td> 85.04</td><td> 88.36</td><td> 90.65</td></tr>\n",
       "\t<tr><th scope=row>2012</th><td> 79.43</td><td> 87.84</td><td>100.54</td><td> 91.32</td><td>102.40</td><td>114.70</td><td> 96.28</td><td>109.97</td><td> 96.70</td><td> 96.04</td><td> 92.39</td><td> 94.97</td></tr>\n",
       "\t<tr><th scope=row>2013</th><td> 77.84</td><td> 73.88</td><td> 95.40</td><td> 95.68</td><td>104.00</td><td>106.09</td><td>109.54</td><td> 94.83</td><td> 98.06</td><td> 96.31</td><td> 87.56</td><td> 95.49</td></tr>\n",
       "\t<tr><th scope=row>2014</th><td> 80.43</td><td> 82.35</td><td>101.83</td><td>104.45</td><td>105.54</td><td>119.74</td><td>108.22</td><td> 95.96</td><td>106.79</td><td> 99.60</td><td> 87.65</td><td>103.26</td></tr>\n",
       "\t<tr><th scope=row>2015</th><td> 81.09</td><td> 81.20</td><td>105.03</td><td>106.28</td><td>102.35</td><td>117.25</td><td>112.59</td><td>101.05</td><td>100.48</td><td> 98.27</td><td> 96.51</td><td> 97.89</td></tr>\n",
       "\t<tr><th scope=row>2016</th><td> 83.25</td><td> 89.84</td><td>113.20</td><td>112.13</td><td>117.28</td><td>125.43</td><td>113.53</td><td>114.17</td><td>121.29</td><td>111.62</td><td>115.04</td><td>112.38</td></tr>\n",
       "\t<tr><th scope=row>2017</th><td> 92.76</td><td>106.27</td><td>122.99</td><td>106.89</td><td>129.13</td><td>143.44</td><td>121.97</td><td>119.78</td><td>122.45</td><td>118.81</td><td>108.68</td><td>109.30</td></tr>\n",
       "\t<tr><th scope=row>2018</th><td>104.23</td><td>107.14</td><td>123.69</td><td>120.63</td><td>140.39</td><td>139.71</td><td>133.63</td><td>133.31</td><td>117.70</td><td>122.89</td><td>109.61</td><td>111.57</td></tr>\n",
       "\t<tr><th scope=row>2019</th><td>112.25</td><td>110.99</td><td>134.00</td><td>137.46</td><td>146.05</td><td>149.62</td><td>149.38</td><td>124.19</td><td>143.41</td><td>132.12</td><td>133.54</td><td>139.07</td></tr>\n",
       "\t<tr><th scope=row>2020</th><td>118.42</td><td>      </td><td>      </td><td>      </td><td>      </td><td>      </td><td>      </td><td>      </td><td>      </td><td>      </td><td>      </td><td>      </td></tr>\n",
       "</tbody>\n",
       "</table>\n"
      ],
      "text/latex": [
       "A Time Series: 21 × 12\n",
       "\\begin{tabular}{r|llllllllllll}\n",
       "  & Jan & Feb & Mar & Apr & May & Jun & Jul & Aug & Sep & Oct & Nov & Dec\\\\\n",
       "\\hline\n",
       "\t2000 &  43.06 &  50.01 &  60.52 &  56.07 &  69.35 &  71.09 &  60.40 &  67.78 &  64.27 &  61.39 &  58.37 &  58.95\\\\\n",
       "\t2001 &  54.29 &  52.83 &  63.68 &  62.21 &  74.90 &  72.40 &  72.91 &  73.10 &  58.03 &  65.15 &  60.86 &  55.51\\\\\n",
       "\t2002 &  54.61 &  54.83 &  62.90 &  68.20 &  69.40 &  69.51 &  71.53 &  68.61 &  63.95 &  64.65 &  57.14 &  62.76\\\\\n",
       "\t2003 &  59.25 &  55.61 &  66.65 &  72.51 &  70.11 &  82.28 &  81.48 &  78.44 &  69.86 &  71.20 &  61.91 &  70.40\\\\\n",
       "\t2004 &  59.64 &  60.76 &  80.50 &  71.94 &  77.77 &  89.13 &  75.52 &  79.91 &  75.08 &  67.18 &  69.34 &  69.74\\\\\n",
       "\t2005 &  59.66 &  62.82 &  81.16 &  79.88 &  84.95 &  95.87 &  81.86 &  78.83 &  82.23 &  73.61 &  76.74 &  74.92\\\\\n",
       "\t2006 &  64.54 &  66.08 &  79.51 &  76.46 &  84.34 &  95.39 &  89.55 &  84.15 &  76.86 &  80.61 &  73.85 &  76.20\\\\\n",
       "\t2007 &  70.55 &  68.06 &  86.22 &  86.58 &  93.11 &  96.70 &  83.46 &  85.89 &  79.11 &  84.49 &  77.50 &  79.41\\\\\n",
       "\t2008 &  77.26 &  70.76 &  82.09 &  87.67 &  94.31 &  86.38 &  96.28 &  86.71 &  83.91 &  83.96 &  74.54 &  87.83\\\\\n",
       "\t2009 &  67.38 &  71.70 &  86.10 &  87.07 &  88.56 & 103.22 &  94.75 &  84.60 &  88.83 &  80.40 &  78.85 &  86.08\\\\\n",
       "\t2010 &  60.59 &  74.12 &  88.11 &  86.43 &  83.63 & 101.95 &  95.21 &  82.70 &  82.19 &  75.14 &  79.41 &  76.96\\\\\n",
       "\t2011 &  72.73 &  76.23 &  95.92 &  92.75 & 106.87 & 101.82 &  88.16 &  88.90 &  96.68 &  85.04 &  88.36 &  90.65\\\\\n",
       "\t2012 &  79.43 &  87.84 & 100.54 &  91.32 & 102.40 & 114.70 &  96.28 & 109.97 &  96.70 &  96.04 &  92.39 &  94.97\\\\\n",
       "\t2013 &  77.84 &  73.88 &  95.40 &  95.68 & 104.00 & 106.09 & 109.54 &  94.83 &  98.06 &  96.31 &  87.56 &  95.49\\\\\n",
       "\t2014 &  80.43 &  82.35 & 101.83 & 104.45 & 105.54 & 119.74 & 108.22 &  95.96 & 106.79 &  99.60 &  87.65 & 103.26\\\\\n",
       "\t2015 &  81.09 &  81.20 & 105.03 & 106.28 & 102.35 & 117.25 & 112.59 & 101.05 & 100.48 &  98.27 &  96.51 &  97.89\\\\\n",
       "\t2016 &  83.25 &  89.84 & 113.20 & 112.13 & 117.28 & 125.43 & 113.53 & 114.17 & 121.29 & 111.62 & 115.04 & 112.38\\\\\n",
       "\t2017 &  92.76 & 106.27 & 122.99 & 106.89 & 129.13 & 143.44 & 121.97 & 119.78 & 122.45 & 118.81 & 108.68 & 109.30\\\\\n",
       "\t2018 & 104.23 & 107.14 & 123.69 & 120.63 & 140.39 & 139.71 & 133.63 & 133.31 & 117.70 & 122.89 & 109.61 & 111.57\\\\\n",
       "\t2019 & 112.25 & 110.99 & 134.00 & 137.46 & 146.05 & 149.62 & 149.38 & 124.19 & 143.41 & 132.12 & 133.54 & 139.07\\\\\n",
       "\t2020 & 118.42 &        &        &        &        &        &        &        &        &        &        &       \\\\\n",
       "\\end{tabular}\n"
      ],
      "text/markdown": [
       "\n",
       "A Time Series: 21 × 12\n",
       "\n",
       "| <!--/--> | Jan | Feb | Mar | Apr | May | Jun | Jul | Aug | Sep | Oct | Nov | Dec |\n",
       "|---|---|---|---|---|---|---|---|---|---|---|---|---|\n",
       "| 2000 |  43.06 |  50.01 |  60.52 |  56.07 |  69.35 |  71.09 |  60.40 |  67.78 |  64.27 |  61.39 |  58.37 |  58.95 |\n",
       "| 2001 |  54.29 |  52.83 |  63.68 |  62.21 |  74.90 |  72.40 |  72.91 |  73.10 |  58.03 |  65.15 |  60.86 |  55.51 |\n",
       "| 2002 |  54.61 |  54.83 |  62.90 |  68.20 |  69.40 |  69.51 |  71.53 |  68.61 |  63.95 |  64.65 |  57.14 |  62.76 |\n",
       "| 2003 |  59.25 |  55.61 |  66.65 |  72.51 |  70.11 |  82.28 |  81.48 |  78.44 |  69.86 |  71.20 |  61.91 |  70.40 |\n",
       "| 2004 |  59.64 |  60.76 |  80.50 |  71.94 |  77.77 |  89.13 |  75.52 |  79.91 |  75.08 |  67.18 |  69.34 |  69.74 |\n",
       "| 2005 |  59.66 |  62.82 |  81.16 |  79.88 |  84.95 |  95.87 |  81.86 |  78.83 |  82.23 |  73.61 |  76.74 |  74.92 |\n",
       "| 2006 |  64.54 |  66.08 |  79.51 |  76.46 |  84.34 |  95.39 |  89.55 |  84.15 |  76.86 |  80.61 |  73.85 |  76.20 |\n",
       "| 2007 |  70.55 |  68.06 |  86.22 |  86.58 |  93.11 |  96.70 |  83.46 |  85.89 |  79.11 |  84.49 |  77.50 |  79.41 |\n",
       "| 2008 |  77.26 |  70.76 |  82.09 |  87.67 |  94.31 |  86.38 |  96.28 |  86.71 |  83.91 |  83.96 |  74.54 |  87.83 |\n",
       "| 2009 |  67.38 |  71.70 |  86.10 |  87.07 |  88.56 | 103.22 |  94.75 |  84.60 |  88.83 |  80.40 |  78.85 |  86.08 |\n",
       "| 2010 |  60.59 |  74.12 |  88.11 |  86.43 |  83.63 | 101.95 |  95.21 |  82.70 |  82.19 |  75.14 |  79.41 |  76.96 |\n",
       "| 2011 |  72.73 |  76.23 |  95.92 |  92.75 | 106.87 | 101.82 |  88.16 |  88.90 |  96.68 |  85.04 |  88.36 |  90.65 |\n",
       "| 2012 |  79.43 |  87.84 | 100.54 |  91.32 | 102.40 | 114.70 |  96.28 | 109.97 |  96.70 |  96.04 |  92.39 |  94.97 |\n",
       "| 2013 |  77.84 |  73.88 |  95.40 |  95.68 | 104.00 | 106.09 | 109.54 |  94.83 |  98.06 |  96.31 |  87.56 |  95.49 |\n",
       "| 2014 |  80.43 |  82.35 | 101.83 | 104.45 | 105.54 | 119.74 | 108.22 |  95.96 | 106.79 |  99.60 |  87.65 | 103.26 |\n",
       "| 2015 |  81.09 |  81.20 | 105.03 | 106.28 | 102.35 | 117.25 | 112.59 | 101.05 | 100.48 |  98.27 |  96.51 |  97.89 |\n",
       "| 2016 |  83.25 |  89.84 | 113.20 | 112.13 | 117.28 | 125.43 | 113.53 | 114.17 | 121.29 | 111.62 | 115.04 | 112.38 |\n",
       "| 2017 |  92.76 | 106.27 | 122.99 | 106.89 | 129.13 | 143.44 | 121.97 | 119.78 | 122.45 | 118.81 | 108.68 | 109.30 |\n",
       "| 2018 | 104.23 | 107.14 | 123.69 | 120.63 | 140.39 | 139.71 | 133.63 | 133.31 | 117.70 | 122.89 | 109.61 | 111.57 |\n",
       "| 2019 | 112.25 | 110.99 | 134.00 | 137.46 | 146.05 | 149.62 | 149.38 | 124.19 | 143.41 | 132.12 | 133.54 | 139.07 |\n",
       "| 2020 | 118.42 | <!----> | <!----> | <!----> | <!----> | <!----> | <!----> | <!----> | <!----> | <!----> | <!----> | <!----> |\n",
       "\n"
      ],
      "text/plain": [
       "     Jan    Feb    Mar    Apr    May    Jun    Jul    Aug    Sep    Oct   \n",
       "2000  43.06  50.01  60.52  56.07  69.35  71.09  60.40  67.78  64.27  61.39\n",
       "2001  54.29  52.83  63.68  62.21  74.90  72.40  72.91  73.10  58.03  65.15\n",
       "2002  54.61  54.83  62.90  68.20  69.40  69.51  71.53  68.61  63.95  64.65\n",
       "2003  59.25  55.61  66.65  72.51  70.11  82.28  81.48  78.44  69.86  71.20\n",
       "2004  59.64  60.76  80.50  71.94  77.77  89.13  75.52  79.91  75.08  67.18\n",
       "2005  59.66  62.82  81.16  79.88  84.95  95.87  81.86  78.83  82.23  73.61\n",
       "2006  64.54  66.08  79.51  76.46  84.34  95.39  89.55  84.15  76.86  80.61\n",
       "2007  70.55  68.06  86.22  86.58  93.11  96.70  83.46  85.89  79.11  84.49\n",
       "2008  77.26  70.76  82.09  87.67  94.31  86.38  96.28  86.71  83.91  83.96\n",
       "2009  67.38  71.70  86.10  87.07  88.56 103.22  94.75  84.60  88.83  80.40\n",
       "2010  60.59  74.12  88.11  86.43  83.63 101.95  95.21  82.70  82.19  75.14\n",
       "2011  72.73  76.23  95.92  92.75 106.87 101.82  88.16  88.90  96.68  85.04\n",
       "2012  79.43  87.84 100.54  91.32 102.40 114.70  96.28 109.97  96.70  96.04\n",
       "2013  77.84  73.88  95.40  95.68 104.00 106.09 109.54  94.83  98.06  96.31\n",
       "2014  80.43  82.35 101.83 104.45 105.54 119.74 108.22  95.96 106.79  99.60\n",
       "2015  81.09  81.20 105.03 106.28 102.35 117.25 112.59 101.05 100.48  98.27\n",
       "2016  83.25  89.84 113.20 112.13 117.28 125.43 113.53 114.17 121.29 111.62\n",
       "2017  92.76 106.27 122.99 106.89 129.13 143.44 121.97 119.78 122.45 118.81\n",
       "2018 104.23 107.14 123.69 120.63 140.39 139.71 133.63 133.31 117.70 122.89\n",
       "2019 112.25 110.99 134.00 137.46 146.05 149.62 149.38 124.19 143.41 132.12\n",
       "2020 118.42                                                               \n",
       "     Nov    Dec   \n",
       "2000  58.37  58.95\n",
       "2001  60.86  55.51\n",
       "2002  57.14  62.76\n",
       "2003  61.91  70.40\n",
       "2004  69.34  69.74\n",
       "2005  76.74  74.92\n",
       "2006  73.85  76.20\n",
       "2007  77.50  79.41\n",
       "2008  74.54  87.83\n",
       "2009  78.85  86.08\n",
       "2010  79.41  76.96\n",
       "2011  88.36  90.65\n",
       "2012  92.39  94.97\n",
       "2013  87.56  95.49\n",
       "2014  87.65 103.26\n",
       "2015  96.51  97.89\n",
       "2016 115.04 112.38\n",
       "2017 108.68 109.30\n",
       "2018 109.61 111.57\n",
       "2019 133.54 139.07\n",
       "2020              "
      ]
     },
     "metadata": {},
     "output_type": "display_data"
    }
   ],
   "source": [
    "# Turnover database in \"Time Series\" format\n",
    "Turnover_db"
   ]
  },
  {
   "cell_type": "markdown",
   "metadata": {},
   "source": [
    "-----------------------------------------------------------------------------------------------------"
   ]
  },
  {
   "cell_type": "markdown",
   "metadata": {},
   "source": [
    "# Exercise 1"
   ]
  },
  {
   "cell_type": "markdown",
   "metadata": {},
   "source": [
    "## 1) Explore the data using relevant graphs, and discuss the properties of the data."
   ]
  },
  {
   "cell_type": "code",
   "execution_count": 7,
   "metadata": {},
   "outputs": [
    {
     "data": {
      "image/png": "[encoded data removed]",
      "text/plain": [
       "Plot with title \"Monthly Turnover\""
      ]
     },
     "metadata": {
      "image/png": {
       "height": 420,
       "width": 420
      },
      "text/plain": {
       "height": 420,
       "width": 420
      }
     },
     "output_type": "display_data"
    }
   ],
   "source": [
    "# Plotting the original data\n",
    "plot(Turnover_db, main = 'Monthly Turnover', ylab = 'Turnover')"
   ]
  },
  {
   "cell_type": "markdown",
   "metadata": {},
   "source": [
    "**By looking at the Turnover time series, we can see there is a positive trend and an apparently seasonal process. However, all these insights will be confirm through statistical test. Also, we can say that there are some possible outliers that should be treated through some smoothing method.**"
   ]
  },
  {
   "cell_type": "code",
   "execution_count": 8,
   "metadata": {},
   "outputs": [
    {
     "data": {
      "image/png": "[encoded data removed]",
      "text/plain": [
       "Plot with title \"Seasonal plot: Monthly Turnover\""
      ]
     },
     "metadata": {
      "image/png": {
       "height": 420,
       "width": 420
      },
      "text/plain": {
       "height": 420,
       "width": 420
      }
     },
     "output_type": "display_data"
    }
   ],
   "source": [
    "# Seasonal Plot\n",
    "seasonplot(Turnover_db, year.labels=TRUE, year.labels.left=TRUE, pch=19, col=rainbow(40), main='Seasonal plot: Monthly Turnover')"
   ]
  },
  {
   "cell_type": "markdown",
   "metadata": {},
   "source": [
    "**As previously mentioned, here we can see clearly the positive trend and the seasonal pattern in a clear way.**"
   ]
  },
  {
   "cell_type": "code",
   "execution_count": 9,
   "metadata": {},
   "outputs": [
    {
     "data": {
      "image/png": "[encoded data removed]",
      "text/plain": [
       "Plot with title \"Seasonal subseries plot: Turnover\""
      ]
     },
     "metadata": {
      "image/png": {
       "height": 420,
       "width": 420
      },
      "text/plain": {
       "height": 420,
       "width": 420
      }
     },
     "output_type": "display_data"
    }
   ],
   "source": [
    "# Avg turnover by month\n",
    "monthplot(Turnover_db, type=\"l\", main=\"Seasonal subseries plot: Turnover\", ylab=\"Turnover\", xlab=\"Month\", xaxt=\"n\")\n",
    "axis(1,at=1:12, labels=month.abb, cex=1)"
   ]
  },
  {
   "cell_type": "markdown",
   "metadata": {},
   "source": [
    "**In this graph, we can see in a compact way the average turnover by month.**"
   ]
  },
  {
   "cell_type": "code",
   "execution_count": 10,
   "metadata": {},
   "outputs": [
    {
     "data": {
      "image/png": "[encoded data removed]",
      "text/plain": [
       "plot without title"
      ]
     },
     "metadata": {
      "image/png": {
       "height": 420,
       "width": 420
      },
      "text/plain": {
       "height": 420,
       "width": 420
      }
     },
     "output_type": "display_data"
    }
   ],
   "source": [
    "# Plotting lag correlations\n",
    "lag.plot(Turnover_db, lags=12, do.lines=FALSE, main='Auto-correlation lags - Turnover Index')"
   ]
  },
  {
   "cell_type": "markdown",
   "metadata": {},
   "source": [
    "**There is correlated data with the lag 12 because we have an important monthly seasonal pattern.**"
   ]
  },
  {
   "cell_type": "code",
   "execution_count": 11,
   "metadata": {},
   "outputs": [
    {
     "data": {
      "image/png": "[encoded data removed]",
      "text/plain": [
       "Plot with title \"Seasonal subseries plot: Turnover\""
      ]
     },
     "metadata": {
      "image/png": {
       "height": 420,
       "width": 420
      },
      "text/plain": {
       "height": 420,
       "width": 420
      }
     },
     "output_type": "display_data"
    }
   ],
   "source": [
    "par(mfrow=c(3,1))\n",
    "plot(Turnover_db, main = 'Monthly Turnover', ylab = 'Turnover')\n",
    "seasonplot(Turnover_db, year.labels=TRUE, year.labels.left=TRUE, pch=19, col=rainbow(40), main='Seasonal plot: Monthly Turnover')\n",
    "monthplot(Turnover_db, type=\"l\", main=\"Seasonal subseries plot: Turnover\", ylab=\"Turnover\", xlab=\"Month\", xaxt=\"n\")\n",
    "axis(1,at=1:12, labels=month.abb, cex=1)"
   ]
  },
  {
   "cell_type": "code",
   "execution_count": 12,
   "metadata": {},
   "outputs": [
    {
     "data": {
      "image/png": "[encoded data removed]",
      "text/plain": [
       "Plot with title \"\""
      ]
     },
     "metadata": {
      "image/png": {
       "height": 420,
       "width": 420
      },
      "text/plain": {
       "height": 420,
       "width": 420
      }
     },
     "output_type": "display_data"
    }
   ],
   "source": [
    "# Auto-correlation function and Partial Auto-correlation function\n",
    "tsdisplay(Turnover_db)"
   ]
  },
  {
   "cell_type": "markdown",
   "metadata": {},
   "source": [
    "**All the lags are significant. It seems that every 12 lags we have a stronger correlationship. Also, the fact the lines are always too high means that there is a upward trend. This graphics will be very helpful in the construction of our models, so we will discuss this topic in following sections. By now, it is important to say that it seems we should use a smoothing method in order to get a white noise time serie; otherwise, some model assumptions could be violeted.**"
   ]
  },
  {
   "cell_type": "markdown",
   "metadata": {},
   "source": [
    "-----------------------------------------------------------------------------------------------------"
   ]
  },
  {
   "cell_type": "markdown",
   "metadata": {},
   "source": [
    "## 2) Discuss whether a transformation of the data would be useful. If so, select the most appropriate transformation."
   ]
  },
  {
   "cell_type": "code",
   "execution_count": 13,
   "metadata": {},
   "outputs": [
    {
     "data": {
      "text/html": [
       "0.22909095336647"
      ],
      "text/latex": [
       "0.22909095336647"
      ],
      "text/markdown": [
       "0.22909095336647"
      ],
      "text/plain": [
       "[1] 0.229091"
      ]
     },
     "metadata": {},
     "output_type": "display_data"
    }
   ],
   "source": [
    "# Searching the optimal lambda\n",
    "lambda_bc = BoxCox.lambda(Turnover_db)\n",
    "lambda_bc"
   ]
  },
  {
   "cell_type": "code",
   "execution_count": 14,
   "metadata": {},
   "outputs": [],
   "source": [
    "# Using a Log transformation over my original series\n",
    "transformed_turnover = BoxCox(Turnover_db,lambda=lambda_bc)"
   ]
  },
  {
   "cell_type": "code",
   "execution_count": 15,
   "metadata": {},
   "outputs": [
    {
     "data": {
      "image/png": "[encoded data removed]",
      "text/plain": [
       "Plot with title \"Transformed Turnover Index Series\""
      ]
     },
     "metadata": {
      "image/png": {
       "height": 420,
       "width": 420
      },
      "text/plain": {
       "height": 420,
       "width": 420
      }
     },
     "output_type": "display_data"
    }
   ],
   "source": [
    "# Plotting a more smooth version of my series\n",
    "plot(transformed_turnover, ylab='Transformed Turnover Index', main='Transformed Turnover Index Series')"
   ]
  },
  {
   "cell_type": "markdown",
   "metadata": {},
   "source": [
    "**Using the BoxCox function, we can get an optimal lambda to transform my series.**"
   ]
  },
  {
   "cell_type": "code",
   "execution_count": 16,
   "metadata": {},
   "outputs": [
    {
     "name": "stderr",
     "output_type": "stream",
     "text": [
      "Warning message in adf.test(transformed_turnover, alternative = \"stationary\"):\n",
      "\"p-value smaller than printed p-value\"\n"
     ]
    },
    {
     "data": {
      "text/plain": [
       "\n",
       "\tAugmented Dickey-Fuller Test\n",
       "\n",
       "data:  transformed_turnover\n",
       "Dickey-Fuller = -7.4207, Lag order = 6, p-value = 0.01\n",
       "alternative hypothesis: stationary\n"
      ]
     },
     "metadata": {},
     "output_type": "display_data"
    }
   ],
   "source": [
    "# Augmented Dicky-Fuller Test\n",
    "adf.test(transformed_turnover, alternative = \"stationary\")"
   ]
  },
  {
   "cell_type": "markdown",
   "metadata": {},
   "source": [
    "**Moreover, through the ADF test, we can see that this time serie is stationary; therefore, this will be specially appropiate for ARIMA models.**"
   ]
  },
  {
   "cell_type": "markdown",
   "metadata": {},
   "source": [
    "-----------------------------------------------------------------------------------------------------"
   ]
  },
  {
   "cell_type": "markdown",
   "metadata": {},
   "source": [
    "## 3) Create forecasts using the seasonal naive method. Check the residual diagnostics and the forecast accuracy."
   ]
  },
  {
   "cell_type": "code",
   "execution_count": 17,
   "metadata": {},
   "outputs": [],
   "source": [
    "# Dividing the dataset and fitting the training set\n",
    "training_set = window(Turnover_db, end=c(2015,12))\n",
    "test_set = window(Turnover_db,start=c(2016,1))\n",
    "fit_sn = snaive(training_set,h=length(test_set), lambda=lambda_bc)"
   ]
  },
  {
   "cell_type": "code",
   "execution_count": 18,
   "metadata": {},
   "outputs": [
    {
     "data": {
      "text/html": [
       "<table>\n",
       "<caption>A matrix: 2 × 8 of type dbl</caption>\n",
       "<thead>\n",
       "\t<tr><th></th><th scope=col>ME</th><th scope=col>RMSE</th><th scope=col>MAE</th><th scope=col>MPE</th><th scope=col>MAPE</th><th scope=col>MASE</th><th scope=col>ACF1</th><th scope=col>Theil's U</th></tr>\n",
       "</thead>\n",
       "<tbody>\n",
       "\t<tr><th scope=row>Training set</th><td> 2.659611</td><td> 6.612143</td><td> 5.158722</td><td> 3.09471</td><td> 6.23105</td><td>1.000000</td><td>0.04369396</td><td>      NA</td></tr>\n",
       "\t<tr><th scope=row>Test set</th><td>21.338367</td><td>24.051192</td><td>21.338367</td><td>17.11021</td><td>17.11021</td><td>4.136367</td><td>0.52611586</td><td>1.926643</td></tr>\n",
       "</tbody>\n",
       "</table>\n"
      ],
      "text/latex": [
       "A matrix: 2 × 8 of type dbl\n",
       "\\begin{tabular}{r|llllllll}\n",
       "  & ME & RMSE & MAE & MPE & MAPE & MASE & ACF1 & Theil's U\\\\\n",
       "\\hline\n",
       "\tTraining set &  2.659611 &  6.612143 &  5.158722 &  3.09471 &  6.23105 & 1.000000 & 0.04369396 &       NA\\\\\n",
       "\tTest set & 21.338367 & 24.051192 & 21.338367 & 17.11021 & 17.11021 & 4.136367 & 0.52611586 & 1.926643\\\\\n",
       "\\end{tabular}\n"
      ],
      "text/markdown": [
       "\n",
       "A matrix: 2 × 8 of type dbl\n",
       "\n",
       "| <!--/--> | ME | RMSE | MAE | MPE | MAPE | MASE | ACF1 | Theil's U |\n",
       "|---|---|---|---|---|---|---|---|---|\n",
       "| Training set |  2.659611 |  6.612143 |  5.158722 |  3.09471 |  6.23105 | 1.000000 | 0.04369396 |       NA |\n",
       "| Test set | 21.338367 | 24.051192 | 21.338367 | 17.11021 | 17.11021 | 4.136367 | 0.52611586 | 1.926643 |\n",
       "\n"
      ],
      "text/plain": [
       "             ME        RMSE      MAE       MPE      MAPE     MASE    \n",
       "Training set  2.659611  6.612143  5.158722  3.09471  6.23105 1.000000\n",
       "Test set     21.338367 24.051192 21.338367 17.11021 17.11021 4.136367\n",
       "             ACF1       Theil's U\n",
       "Training set 0.04369396       NA \n",
       "Test set     0.52611586 1.926643 "
      ]
     },
     "metadata": {},
     "output_type": "display_data"
    }
   ],
   "source": [
    "# Cost function of training and test set\n",
    "accuracy(fit_sn,test_set)"
   ]
  },
  {
   "cell_type": "markdown",
   "metadata": {},
   "source": [
    "**By looking at this cost function performance, it seems that there is chance to reduce the gap between the training set and the test set.**"
   ]
  },
  {
   "cell_type": "code",
   "execution_count": 19,
   "metadata": {},
   "outputs": [
    {
     "data": {
      "image/png": "[encoded data removed]",
      "text/plain": [
       "Plot with title \"Forecasts from Seasonal naive method\""
      ]
     },
     "metadata": {
      "image/png": {
       "height": 420,
       "width": 420
      },
      "text/plain": {
       "height": 420,
       "width": 420
      }
     },
     "output_type": "display_data"
    }
   ],
   "source": [
    "# Plotting predictions\n",
    "plot(fit_sn)\n",
    "lines(test_set, col='red')"
   ]
  },
  {
   "cell_type": "markdown",
   "metadata": {},
   "source": [
    "**The gray zone shows the forecast with up a 95% of confidence level. The forecast presented with the blue line is the average of all the point in each period.**"
   ]
  },
  {
   "cell_type": "code",
   "execution_count": 20,
   "metadata": {},
   "outputs": [
    {
     "name": "stdout",
     "output_type": "stream",
     "text": [
      "\n",
      "\tLjung-Box test\n",
      "\n",
      "data:  Residuals from Seasonal naive method\n",
      "Q* = 72.938, df = 24, p-value = 7.78e-07\n",
      "\n",
      "Model df: 0.   Total lags used: 24\n",
      "\n"
     ]
    },
    {
     "data": {
      "image/png": "[encoded data removed]",
      "text/plain": [
       "plot without title"
      ]
     },
     "metadata": {
      "image/png": {
       "height": 420,
       "width": 420
      },
      "text/plain": {
       "height": 420,
       "width": 420
      }
     },
     "output_type": "display_data"
    }
   ],
   "source": [
    "# Ljung-Box test for the forecast series\n",
    "checkresiduals(fit_sn)"
   ]
  },
  {
   "cell_type": "markdown",
   "metadata": {},
   "source": [
    "**According to the Ljung-Box test, with a 99% of confidence level we can reject our null hypothesis, which means that there is no white process in my forecast series. Considering the latter, we can say that the time series can be predicted, but we are able to improve our model.**"
   ]
  },
  {
   "cell_type": "markdown",
   "metadata": {},
   "source": [
    "-----------------------------------------------------------------------------------------------------"
   ]
  },
  {
   "cell_type": "markdown",
   "metadata": {},
   "source": [
    "## 4) Use an STL decomposition to forecast the turnover index. Use the appropriate underlying methods to do so. Check the residual diagnostics and the forecast accuracy."
   ]
  },
  {
   "cell_type": "markdown",
   "metadata": {},
   "source": [
    "**a) Original Serie:**"
   ]
  },
  {
   "cell_type": "code",
   "execution_count": 21,
   "metadata": {},
   "outputs": [],
   "source": [
    "# Trend-Cycle Component\n",
    "turnover_stl = stl(Turnover_db, t.window=15,s.window=\"periodic\", robust = TRUE)"
   ]
  },
  {
   "cell_type": "code",
   "execution_count": 22,
   "metadata": {},
   "outputs": [
    {
     "data": {
      "image/png": "[encoded data removed]",
      "text/plain": [
       "plot without title"
      ]
     },
     "metadata": {
      "image/png": {
       "height": 420,
       "width": 420
      },
      "text/plain": {
       "height": 420,
       "width": 420
      }
     },
     "output_type": "display_data"
    }
   ],
   "source": [
    "# STL decomposition\n",
    "plot(turnover_stl)"
   ]
  },
  {
   "cell_type": "markdown",
   "metadata": {},
   "source": [
    "**We can start decomposing the original time series in order to identify the seasonal, trend and error pattern. Also,as we can see in the 'remainder' section, there is many more information we are not considering in the time series.**"
   ]
  },
  {
   "cell_type": "code",
   "execution_count": 23,
   "metadata": {},
   "outputs": [
    {
     "data": {
      "image/png": "[encoded data removed]",
      "text/plain": [
       "Plot with title \"Trend-Cycle Components of the Turnover Time Series\""
      ]
     },
     "metadata": {
      "image/png": {
       "height": 420,
       "width": 420
      },
      "text/plain": {
       "height": 420,
       "width": 420
      }
     },
     "output_type": "display_data"
    }
   ],
   "source": [
    "# Trend Pattern\n",
    "plot(Turnover_db, col=\"gray\", main=\"Trend-Cycle Components of the Turnover Time Series\", ylab=\"Turnover\")\n",
    "lines(turnover_stl$time.series[,2],col=\"red\")"
   ]
  },
  {
   "cell_type": "markdown",
   "metadata": {},
   "source": [
    "**In this graph, we are only showing the positive trend across the whole serie. It seems that the slope of the trend presented two phases, the 2000-2010 trend has a lower slope than the period 2010-2020.**"
   ]
  },
  {
   "cell_type": "code",
   "execution_count": null,
   "metadata": {},
   "outputs": [],
   "source": [
    "# Seasonal adjustment\n",
    "plot(Turnover_db, col=\"gray\", main=\"Seasonal-Cycle Components of the Turnover Time Series\", ylab=\"Turnover\")\n",
    "lines(seasadj(turnover_stl),col=\"red\")"
   ]
  },
  {
   "cell_type": "markdown",
   "metadata": {},
   "source": [
    "**In this chart we are adjusting the seasonal pattern.**"
   ]
  },
  {
   "cell_type": "markdown",
   "metadata": {},
   "source": [
    "**b) Multiplicative and Adjusted Serie:**"
   ]
  },
  {
   "cell_type": "code",
   "execution_count": null,
   "metadata": {},
   "outputs": [],
   "source": [
    "# Multiplicative decomposition process\n",
    "turnover_stl_multiplicative = decompose(Turnover_db, type=\"multiplicative\")\n",
    "plot(turnover_stl_multiplicative)"
   ]
  },
  {
   "cell_type": "markdown",
   "metadata": {},
   "source": [
    "**Through the multiplicative method, here we are trying to smooth the series. The multiplicative Smoothing selection was based on how the change in the seasonal looks like.**"
   ]
  },
  {
   "cell_type": "code",
   "execution_count": null,
   "metadata": {},
   "outputs": [],
   "source": [
    "# Seasonal adjustment with seasonal adjustment\n",
    "seasAdj = seasadj(turnover_stl_multiplicative)\n",
    "plot(Turnover_db,col=\"gray\", main=\"Trend-Cycle Components of the Turnover Time Series with seasonal adj\", ylab=\"Turnover\")\n",
    "lines(seasAdj, col='red')"
   ]
  },
  {
   "cell_type": "markdown",
   "metadata": {},
   "source": [
    "**From this new series, we will run different model versions in order to find a good one.**"
   ]
  },
  {
   "cell_type": "code",
   "execution_count": null,
   "metadata": {},
   "outputs": [],
   "source": [
    "# Random walk with drift forecasts of the seasonally adjusted data\n",
    "fit = stl(Turnover_db, s.window=\"periodic\")\n",
    "fcast = forecast(fit, method=\"rwdrift\", h=24)\n",
    "\n",
    "# Fitting the model\n",
    "pl_adj = seasadj(fit)\n",
    "rwf_adj = rwf(pl_adj, h=24, drift = TRUE, lambda=lambda_bc)\n",
    "plot(rwf_adj)\n",
    "\n",
    "# Original data\n",
    "lines(Turnover_db, col=\"red\")\n",
    "\n",
    "# Mean of the forecast\n",
    "lines(fcast$mean, col=\"green\")"
   ]
  },
  {
   "cell_type": "code",
   "execution_count": null,
   "metadata": {},
   "outputs": [],
   "source": [
    "# Dividing the dataset and fitting the training set\n",
    "training_set = window(pl_adj, end=c(2015,12))\n",
    "test_set = window(pl_adj,start=c(2016,1))\n",
    "fit_stl = rwf(training_set, h=length(test_set), drift = TRUE, lambda=lambda_bc)\n",
    "\n",
    "# Cost function of training and test set\n",
    "accuracy(fit_stl,test_set)"
   ]
  },
  {
   "cell_type": "markdown",
   "metadata": {},
   "source": [
    "**By comparing the MASE, we can see that Cost Function is lower in this model than the Seasonal Naive one (more than 2 times lower!).**"
   ]
  },
  {
   "cell_type": "code",
   "execution_count": null,
   "metadata": {},
   "outputs": [],
   "source": [
    "# Plotting predictions\n",
    "plot(fit_stl)\n",
    "lines(test_set, col='red')"
   ]
  },
  {
   "cell_type": "markdown",
   "metadata": {},
   "source": [
    "**The gray zone shows the forecast with up a 95% of confidence level. The forecast presented with the blue line is the average of all the point in each period.**"
   ]
  },
  {
   "cell_type": "code",
   "execution_count": null,
   "metadata": {},
   "outputs": [],
   "source": [
    "checkresiduals(fit_stl)"
   ]
  },
  {
   "cell_type": "markdown",
   "metadata": {},
   "source": [
    "**According to the Ljung-Box test, with a 99% of confidence level we can reject our null hypothesis, which means that there is no white process in my forecast series. Considering the latter, we can say that the time series can be predicted, but we are able to improve our model.**"
   ]
  },
  {
   "cell_type": "markdown",
   "metadata": {},
   "source": [
    "-----------------------------------------------------------------------------------------------------"
   ]
  },
  {
   "cell_type": "markdown",
   "metadata": {},
   "source": [
    "## 5) Generate forecasts using Holt-Winters’ method. Check the residual diagnostics and the forecast accuracy."
   ]
  },
  {
   "cell_type": "code",
   "execution_count": null,
   "metadata": {},
   "outputs": [],
   "source": [
    "# Identifying potential models (using the whole serie): Damped Holt's vs Holt's\n",
    "turnover = window(Turnover_db,start=2000)\n",
    "\n",
    "fit_holt_damped = holt(turnover, damped = TRUE, phi=0.8,h=12,lambda=lambda_bc, seasonal='multiplicative')\n",
    "fit_holt = holt(turnover, h=12,lambda=lambda_bc, seasonal='multiplicative')\n",
    "\n",
    "par(mfrow=c(2,1))\n",
    "plot(fit_holt_damped)\n",
    "plot(fit_holt)"
   ]
  },
  {
   "cell_type": "markdown",
   "metadata": {},
   "source": [
    "**Looking at the three different options, it seems that it makes more sense rooting for the Holt's with no damping.**"
   ]
  },
  {
   "cell_type": "code",
   "execution_count": null,
   "metadata": {},
   "outputs": [],
   "source": [
    "# Using a transformation for the modeling\n",
    "training_set = window(Turnover_db, end=c(2015,12))\n",
    "test_set = window(Turnover_db,start=c(2016,1))\n",
    "\n",
    "fit_dhm = holt(training_set, damped = TRUE,h=length(test_set),lambda=lambda_bc, seasonal='multiplicative')\n",
    "fit_holt = holt(training_set, damped = FALSE, h=length(test_set),lambda=lambda_bc, seasonal='multiplicative')"
   ]
  },
  {
   "cell_type": "code",
   "execution_count": null,
   "metadata": {},
   "outputs": [],
   "source": [
    "fit_dhm$model\n",
    "fit_holt$model"
   ]
  },
  {
   "cell_type": "markdown",
   "metadata": {},
   "source": [
    "**Interpreting the coefficients we can say the following:**\n",
    "* a high alfa tells us that the last observation has an important weight \n",
    "* a beta near to zero value tells us that there is a constante trend \n",
    "* a phi around one value tells us there is no damoing."
   ]
  },
  {
   "cell_type": "code",
   "execution_count": null,
   "metadata": {},
   "outputs": [],
   "source": [
    "# Cost function of training and test set\n",
    "accuracy(fit_dhm,test_set)"
   ]
  },
  {
   "cell_type": "code",
   "execution_count": null,
   "metadata": {},
   "outputs": [],
   "source": [
    "# Cost function of training and test set\n",
    "accuracy(fit_holt,test_set)"
   ]
  },
  {
   "cell_type": "markdown",
   "metadata": {},
   "source": [
    "**Comparing the MASE metrics, the Damped Holt's vs the Holt's, we should stick up with the Holt's. The latter is aligned with what we saw in the previous charts.**"
   ]
  },
  {
   "cell_type": "code",
   "execution_count": null,
   "metadata": {},
   "outputs": [],
   "source": [
    "# Plotting the Holt's model\n",
    "plot(fit_holt)\n",
    "lines(test_set, col='red')"
   ]
  },
  {
   "cell_type": "markdown",
   "metadata": {},
   "source": [
    "**In this case, it seems that the version with no damping reduce our cost function.**"
   ]
  },
  {
   "cell_type": "code",
   "execution_count": null,
   "metadata": {},
   "outputs": [],
   "source": [
    "checkresiduals(fit_holt)"
   ]
  },
  {
   "cell_type": "markdown",
   "metadata": {},
   "source": [
    "**According to the Ljung-Box test, with a 99% of confidence level we can reject our null hypothesis, which means that there is no white process in my forecast series. Considering the latter, we can say that the time series can be predicted, but we are able to improve our model.**"
   ]
  },
  {
   "cell_type": "markdown",
   "metadata": {},
   "source": [
    "-----------------------------------------------------------------------------------------------------"
   ]
  },
  {
   "cell_type": "markdown",
   "metadata": {},
   "source": [
    "## 6) Generate forecasts using ETS. First select the appropriate model(s) yourself and discuss their performance. Compare these models with the results of the automated ETS procedure. Check the residual diagnostics and the forecast accuracy for the various ETS models you’ve considered."
   ]
  },
  {
   "cell_type": "code",
   "execution_count": null,
   "metadata": {},
   "outputs": [],
   "source": [
    "# Training and Test set\n",
    "training_set = window(Turnover_db, end=c(2015,12))\n",
    "test_set = window(Turnover_db,start=c(2016,1))"
   ]
  },
  {
   "cell_type": "code",
   "execution_count": null,
   "metadata": {},
   "outputs": [],
   "source": [
    "# We are going to run the folllowing models\n",
    "models_ets = c('ANN','AAN',\n",
    "               'ANA','AAA',\n",
    "               'MNN','MAN',\n",
    "               'MNA','MAA',\n",
    "               'MNM','MAM')"
   ]
  },
  {
   "cell_type": "code",
   "execution_count": null,
   "metadata": {},
   "outputs": [],
   "source": [
    "# Declaring empty matrix\n",
    "matrix_ets = matrix(data=NA, nrow=10, ncol=2)"
   ]
  },
  {
   "cell_type": "code",
   "execution_count": null,
   "metadata": {},
   "outputs": [],
   "source": [
    "# Building the model\n",
    "for (i in 1:10){\n",
    "    model = ets(training_set, model=models_ets[i], damped=FALSE)\n",
    "    fcast = forecast(model,h=length(test_set))\n",
    "    accuracy = accuracy(fcast, test_set)\n",
    "    matrix_ets[i,1] = model$aicc\n",
    "    matrix_ets[i,2] = accuracy[2,6]\n",
    "}\n",
    "\n",
    "rownames(matrix_ets) = models_ets\n",
    "colnames(matrix_ets) = c(\"AICc\",\"MASE\")"
   ]
  },
  {
   "cell_type": "code",
   "execution_count": null,
   "metadata": {},
   "outputs": [],
   "source": [
    "# MAM model is the best one\n",
    "min(matrix_ets[,2])"
   ]
  },
  {
   "cell_type": "code",
   "execution_count": null,
   "metadata": {},
   "outputs": [],
   "source": [
    "matrix_ets"
   ]
  },
  {
   "cell_type": "code",
   "execution_count": null,
   "metadata": {},
   "outputs": [],
   "source": [
    "model_MAM = ets(training_set, model=\"MAM\", damped=FALSE)\n",
    "fcast_MAM = forecast(model,h=length(test_set))\n",
    "accuracy(fcast_MAM, test_set)"
   ]
  },
  {
   "cell_type": "code",
   "execution_count": null,
   "metadata": {},
   "outputs": [],
   "source": [
    "# Plotting ETS(M,A,M)\n",
    "plot(model_MAM)"
   ]
  },
  {
   "cell_type": "markdown",
   "metadata": {},
   "source": [
    "**The best model is a Holt's Linear method with a multiplicative error process, which presets the min MASE value out of the 10 models we have got.**"
   ]
  },
  {
   "cell_type": "code",
   "execution_count": null,
   "metadata": {},
   "outputs": [],
   "source": [
    "checkresiduals(model_MAM)"
   ]
  },
  {
   "cell_type": "markdown",
   "metadata": {},
   "source": [
    "**According to the Ljung-Box test, with a 99% of confidence level we can reject our null hypothesis, which means that there is no white process in my forecast series. Considering the latter, we can say that the time series can be predicted, but we are able to improve our model.**"
   ]
  },
  {
   "cell_type": "markdown",
   "metadata": {},
   "source": [
    "-----------------------------------------------------------------------------------------------------"
   ]
  },
  {
   "cell_type": "markdown",
   "metadata": {},
   "source": [
    "## 7) Generate forecasts using ARIMA. First select the appropriate model(s) yourself and discuss their performance. Compare these models with the results of the auto.arima procedure. Check the residual diagnostics and the forecast accuracy for the ARIMA models you’ve considered."
   ]
  },
  {
   "cell_type": "markdown",
   "metadata": {},
   "source": [
    "**a) Auto Arima:**"
   ]
  },
  {
   "cell_type": "code",
   "execution_count": 47,
   "metadata": {},
   "outputs": [],
   "source": [
    "# Training my model\n",
    "training_set = window(Turnover_db, end=c(2015,12))\n",
    "test_set = window(Turnover_db,start=c(2016,1))\n",
    "fit_arima= auto.arima(training_set, seasonal=TRUE, approximation=FALSE, stepwise=FALSE, lambda=lambda_bc)"
   ]
  },
  {
   "cell_type": "code",
   "execution_count": 48,
   "metadata": {},
   "outputs": [
    {
     "name": "stdout",
     "output_type": "stream",
     "text": [
      "Series: training_set \n",
      "ARIMA(3,0,0)(2,1,0)[12] with drift \n",
      "Box Cox transformation: lambda= 0.229091 \n",
      "\n",
      "Coefficients:\n",
      "          ar1     ar2     ar3     sar1     sar2   drift\n",
      "      -0.0069  0.1327  0.3962  -0.5771  -0.3306  0.0078\n",
      "s.e.   0.0702  0.0693  0.0734   0.0751   0.0714  0.0012\n",
      "\n",
      "sigma^2 estimated as 0.02816:  log likelihood=66.06\n",
      "AIC=-118.12   AICc=-117.47   BIC=-95.77\n",
      "\n",
      "Training set error measures:\n",
      "                      ME     RMSE      MAE        MPE     MAPE      MASE\n",
      "Training set -0.01894455 4.868234 3.601214 -0.1588641 4.353349 0.6980825\n",
      "                    ACF1\n",
      "Training set -0.02033757\n"
     ]
    }
   ],
   "source": [
    "summary(fit_arima)"
   ]
  },
  {
   "cell_type": "code",
   "execution_count": 49,
   "metadata": {},
   "outputs": [
    {
     "data": {
      "image/png": "[encoded data removed]",
      "text/plain": [
       "Plot with title \"Forecasts from ARIMA(3,0,0)(2,1,0)[12] with drift\""
      ]
     },
     "metadata": {
      "image/png": {
       "height": 420,
       "width": 420
      },
      "text/plain": {
       "height": 420,
       "width": 420
      }
     },
     "output_type": "display_data"
    }
   ],
   "source": [
    "fcast_arima = forecast(fit_arima,h=60)\n",
    "plot(fcast_arima)\n",
    "lines(test_set, col=\"red\")"
   ]
  },
  {
   "cell_type": "code",
   "execution_count": 50,
   "metadata": {},
   "outputs": [
    {
     "data": {
      "text/html": [
       "<table>\n",
       "<caption>A matrix: 2 × 8 of type dbl</caption>\n",
       "<thead>\n",
       "\t<tr><th></th><th scope=col>ME</th><th scope=col>RMSE</th><th scope=col>MAE</th><th scope=col>MPE</th><th scope=col>MAPE</th><th scope=col>MASE</th><th scope=col>ACF1</th><th scope=col>Theil's U</th></tr>\n",
       "</thead>\n",
       "<tbody>\n",
       "\t<tr><th scope=row>Training set</th><td>-0.01894455</td><td> 4.868234</td><td> 3.601214</td><td>-0.1588641</td><td> 4.353349</td><td>0.6980825</td><td>-0.02033757</td><td>     NA</td></tr>\n",
       "\t<tr><th scope=row>Test set</th><td>12.16382401</td><td>14.519396</td><td>12.563057</td><td> 9.7100986</td><td>10.078725</td><td>2.4353039</td><td> 0.19570868</td><td>1.17925</td></tr>\n",
       "</tbody>\n",
       "</table>\n"
      ],
      "text/latex": [
       "A matrix: 2 × 8 of type dbl\n",
       "\\begin{tabular}{r|llllllll}\n",
       "  & ME & RMSE & MAE & MPE & MAPE & MASE & ACF1 & Theil's U\\\\\n",
       "\\hline\n",
       "\tTraining set & -0.01894455 &  4.868234 &  3.601214 & -0.1588641 &  4.353349 & 0.6980825 & -0.02033757 &      NA\\\\\n",
       "\tTest set & 12.16382401 & 14.519396 & 12.563057 &  9.7100986 & 10.078725 & 2.4353039 &  0.19570868 & 1.17925\\\\\n",
       "\\end{tabular}\n"
      ],
      "text/markdown": [
       "\n",
       "A matrix: 2 × 8 of type dbl\n",
       "\n",
       "| <!--/--> | ME | RMSE | MAE | MPE | MAPE | MASE | ACF1 | Theil's U |\n",
       "|---|---|---|---|---|---|---|---|---|\n",
       "| Training set | -0.01894455 |  4.868234 |  3.601214 | -0.1588641 |  4.353349 | 0.6980825 | -0.02033757 |      NA |\n",
       "| Test set | 12.16382401 | 14.519396 | 12.563057 |  9.7100986 | 10.078725 | 2.4353039 |  0.19570868 | 1.17925 |\n",
       "\n"
      ],
      "text/plain": [
       "             ME          RMSE      MAE       MPE        MAPE      MASE     \n",
       "Training set -0.01894455  4.868234  3.601214 -0.1588641  4.353349 0.6980825\n",
       "Test set     12.16382401 14.519396 12.563057  9.7100986 10.078725 2.4353039\n",
       "             ACF1        Theil's U\n",
       "Training set -0.02033757      NA  \n",
       "Test set      0.19570868 1.17925  "
      ]
     },
     "metadata": {},
     "output_type": "display_data"
    }
   ],
   "source": [
    "auto_arima = accuracy(fcast_arima,test_set)\n",
    "auto_arima"
   ]
  },
  {
   "cell_type": "code",
   "execution_count": 51,
   "metadata": {},
   "outputs": [
    {
     "data": {
      "image/png": "[encoded data removed]",
      "text/plain": [
       "Plot with title \"\""
      ]
     },
     "metadata": {
      "image/png": {
       "height": 420,
       "width": 420
      },
      "text/plain": {
       "height": 420,
       "width": 420
      }
     },
     "output_type": "display_data"
    }
   ],
   "source": [
    "res_arima = residuals(fit_arima)\n",
    "tsdisplay(res_arima)"
   ]
  },
  {
   "cell_type": "code",
   "execution_count": 52,
   "metadata": {},
   "outputs": [
    {
     "name": "stdout",
     "output_type": "stream",
     "text": [
      "\n",
      "\tLjung-Box test\n",
      "\n",
      "data:  Residuals from ARIMA(3,0,0)(2,1,0)[12] with drift\n",
      "Q* = 65.439, df = 18, p-value = 2.629e-07\n",
      "\n",
      "Model df: 6.   Total lags used: 24\n",
      "\n"
     ]
    },
    {
     "data": {
      "image/png": "[encoded data removed]",
      "text/plain": [
       "plot without title"
      ]
     },
     "metadata": {
      "image/png": {
       "height": 420,
       "width": 420
      },
      "text/plain": {
       "height": 420,
       "width": 420
      }
     },
     "output_type": "display_data"
    }
   ],
   "source": [
    "checkresiduals(fcast_arima)"
   ]
  },
  {
   "cell_type": "code",
   "execution_count": 53,
   "metadata": {},
   "outputs": [
    {
     "data": {
      "text/html": [
       "<table>\n",
       "<caption>A matrix: 24 × 4 of type dbl</caption>\n",
       "<thead>\n",
       "\t<tr><th></th><th scope=col>lags</th><th scope=col>statistic</th><th scope=col>df</th><th scope=col>p-value</th></tr>\n",
       "</thead>\n",
       "<tbody>\n",
       "\t<tr><th scope=row></th><td> 1</td><td> 0.004120306</td><td> 0</td><td>          NA</td></tr>\n",
       "\t<tr><th scope=row></th><td> 2</td><td> 0.007592953</td><td> 0</td><td>          NA</td></tr>\n",
       "\t<tr><th scope=row></th><td> 3</td><td> 0.390401978</td><td> 0</td><td>          NA</td></tr>\n",
       "\t<tr><th scope=row></th><td> 4</td><td> 0.822703325</td><td> 0</td><td>          NA</td></tr>\n",
       "\t<tr><th scope=row></th><td> 5</td><td> 1.756545794</td><td> 0</td><td>          NA</td></tr>\n",
       "\t<tr><th scope=row></th><td> 6</td><td> 1.759012107</td><td> 0</td><td>0.000000e+00</td></tr>\n",
       "\t<tr><th scope=row></th><td> 7</td><td> 2.708029214</td><td> 1</td><td>9.984427e-02</td></tr>\n",
       "\t<tr><th scope=row></th><td> 8</td><td> 2.937219592</td><td> 2</td><td>2.302454e-01</td></tr>\n",
       "\t<tr><th scope=row></th><td> 9</td><td>20.428689889</td><td> 3</td><td>1.383272e-04</td></tr>\n",
       "\t<tr><th scope=row></th><td>10</td><td>20.462745827</td><td> 4</td><td>4.045797e-04</td></tr>\n",
       "\t<tr><th scope=row></th><td>11</td><td>23.183421808</td><td> 5</td><td>3.113700e-04</td></tr>\n",
       "\t<tr><th scope=row></th><td>12</td><td>24.691343474</td><td> 6</td><td>3.894264e-04</td></tr>\n",
       "\t<tr><th scope=row></th><td>13</td><td>33.346201746</td><td> 7</td><td>2.282006e-05</td></tr>\n",
       "\t<tr><th scope=row></th><td>14</td><td>34.547398173</td><td> 8</td><td>3.232074e-05</td></tr>\n",
       "\t<tr><th scope=row></th><td>15</td><td>34.622329798</td><td> 9</td><td>6.944849e-05</td></tr>\n",
       "\t<tr><th scope=row></th><td>16</td><td>37.250179197</td><td>10</td><td>5.122165e-05</td></tr>\n",
       "\t<tr><th scope=row></th><td>17</td><td>37.332826740</td><td>11</td><td>1.013301e-04</td></tr>\n",
       "\t<tr><th scope=row></th><td>18</td><td>39.123906044</td><td>12</td><td>1.003994e-04</td></tr>\n",
       "\t<tr><th scope=row></th><td>19</td><td>45.543697555</td><td>13</td><td>1.697749e-05</td></tr>\n",
       "\t<tr><th scope=row></th><td>20</td><td>45.567579235</td><td>14</td><td>3.298339e-05</td></tr>\n",
       "\t<tr><th scope=row></th><td>21</td><td>45.695632771</td><td>15</td><td>5.943028e-05</td></tr>\n",
       "\t<tr><th scope=row></th><td>22</td><td>52.299541425</td><td>16</td><td>9.798920e-06</td></tr>\n",
       "\t<tr><th scope=row></th><td>23</td><td>59.432029802</td><td>17</td><td>1.303656e-06</td></tr>\n",
       "\t<tr><th scope=row></th><td>24</td><td>65.438634682</td><td>18</td><td>2.628602e-07</td></tr>\n",
       "</tbody>\n",
       "</table>\n"
      ],
      "text/latex": [
       "A matrix: 24 × 4 of type dbl\n",
       "\\begin{tabular}{r|llll}\n",
       "  & lags & statistic & df & p-value\\\\\n",
       "\\hline\n",
       "\t &  1 &  0.004120306 &  0 &           NA\\\\\n",
       "\t &  2 &  0.007592953 &  0 &           NA\\\\\n",
       "\t &  3 &  0.390401978 &  0 &           NA\\\\\n",
       "\t &  4 &  0.822703325 &  0 &           NA\\\\\n",
       "\t &  5 &  1.756545794 &  0 &           NA\\\\\n",
       "\t &  6 &  1.759012107 &  0 & 0.000000e+00\\\\\n",
       "\t &  7 &  2.708029214 &  1 & 9.984427e-02\\\\\n",
       "\t &  8 &  2.937219592 &  2 & 2.302454e-01\\\\\n",
       "\t &  9 & 20.428689889 &  3 & 1.383272e-04\\\\\n",
       "\t & 10 & 20.462745827 &  4 & 4.045797e-04\\\\\n",
       "\t & 11 & 23.183421808 &  5 & 3.113700e-04\\\\\n",
       "\t & 12 & 24.691343474 &  6 & 3.894264e-04\\\\\n",
       "\t & 13 & 33.346201746 &  7 & 2.282006e-05\\\\\n",
       "\t & 14 & 34.547398173 &  8 & 3.232074e-05\\\\\n",
       "\t & 15 & 34.622329798 &  9 & 6.944849e-05\\\\\n",
       "\t & 16 & 37.250179197 & 10 & 5.122165e-05\\\\\n",
       "\t & 17 & 37.332826740 & 11 & 1.013301e-04\\\\\n",
       "\t & 18 & 39.123906044 & 12 & 1.003994e-04\\\\\n",
       "\t & 19 & 45.543697555 & 13 & 1.697749e-05\\\\\n",
       "\t & 20 & 45.567579235 & 14 & 3.298339e-05\\\\\n",
       "\t & 21 & 45.695632771 & 15 & 5.943028e-05\\\\\n",
       "\t & 22 & 52.299541425 & 16 & 9.798920e-06\\\\\n",
       "\t & 23 & 59.432029802 & 17 & 1.303656e-06\\\\\n",
       "\t & 24 & 65.438634682 & 18 & 2.628602e-07\\\\\n",
       "\\end{tabular}\n"
      ],
      "text/markdown": [
       "\n",
       "A matrix: 24 × 4 of type dbl\n",
       "\n",
       "| <!--/--> | lags | statistic | df | p-value |\n",
       "|---|---|---|---|---|\n",
       "| <!----> |  1 |  0.004120306 |  0 |           NA |\n",
       "| <!----> |  2 |  0.007592953 |  0 |           NA |\n",
       "| <!----> |  3 |  0.390401978 |  0 |           NA |\n",
       "| <!----> |  4 |  0.822703325 |  0 |           NA |\n",
       "| <!----> |  5 |  1.756545794 |  0 |           NA |\n",
       "| <!----> |  6 |  1.759012107 |  0 | 0.000000e+00 |\n",
       "| <!----> |  7 |  2.708029214 |  1 | 9.984427e-02 |\n",
       "| <!----> |  8 |  2.937219592 |  2 | 2.302454e-01 |\n",
       "| <!----> |  9 | 20.428689889 |  3 | 1.383272e-04 |\n",
       "| <!----> | 10 | 20.462745827 |  4 | 4.045797e-04 |\n",
       "| <!----> | 11 | 23.183421808 |  5 | 3.113700e-04 |\n",
       "| <!----> | 12 | 24.691343474 |  6 | 3.894264e-04 |\n",
       "| <!----> | 13 | 33.346201746 |  7 | 2.282006e-05 |\n",
       "| <!----> | 14 | 34.547398173 |  8 | 3.232074e-05 |\n",
       "| <!----> | 15 | 34.622329798 |  9 | 6.944849e-05 |\n",
       "| <!----> | 16 | 37.250179197 | 10 | 5.122165e-05 |\n",
       "| <!----> | 17 | 37.332826740 | 11 | 1.013301e-04 |\n",
       "| <!----> | 18 | 39.123906044 | 12 | 1.003994e-04 |\n",
       "| <!----> | 19 | 45.543697555 | 13 | 1.697749e-05 |\n",
       "| <!----> | 20 | 45.567579235 | 14 | 3.298339e-05 |\n",
       "| <!----> | 21 | 45.695632771 | 15 | 5.943028e-05 |\n",
       "| <!----> | 22 | 52.299541425 | 16 | 9.798920e-06 |\n",
       "| <!----> | 23 | 59.432029802 | 17 | 1.303656e-06 |\n",
       "| <!----> | 24 | 65.438634682 | 18 | 2.628602e-07 |\n",
       "\n"
      ],
      "text/plain": [
       " lags statistic    df p-value     \n",
       "  1    0.004120306  0           NA\n",
       "  2    0.007592953  0           NA\n",
       "  3    0.390401978  0           NA\n",
       "  4    0.822703325  0           NA\n",
       "  5    1.756545794  0           NA\n",
       "  6    1.759012107  0 0.000000e+00\n",
       "  7    2.708029214  1 9.984427e-02\n",
       "  8    2.937219592  2 2.302454e-01\n",
       "  9   20.428689889  3 1.383272e-04\n",
       " 10   20.462745827  4 4.045797e-04\n",
       " 11   23.183421808  5 3.113700e-04\n",
       " 12   24.691343474  6 3.894264e-04\n",
       " 13   33.346201746  7 2.282006e-05\n",
       " 14   34.547398173  8 3.232074e-05\n",
       " 15   34.622329798  9 6.944849e-05\n",
       " 16   37.250179197 10 5.122165e-05\n",
       " 17   37.332826740 11 1.013301e-04\n",
       " 18   39.123906044 12 1.003994e-04\n",
       " 19   45.543697555 13 1.697749e-05\n",
       " 20   45.567579235 14 3.298339e-05\n",
       " 21   45.695632771 15 5.943028e-05\n",
       " 22   52.299541425 16 9.798920e-06\n",
       " 23   59.432029802 17 1.303656e-06\n",
       " 24   65.438634682 18 2.628602e-07"
      ]
     },
     "metadata": {},
     "output_type": "display_data"
    }
   ],
   "source": [
    "LjungBox(res_arima, lags=seq(1,24,1), order=length(fit_arima$coef))"
   ]
  },
  {
   "cell_type": "markdown",
   "metadata": {},
   "source": [
    "**b) Manual Arima:**"
   ]
  },
  {
   "cell_type": "code",
   "execution_count": 54,
   "metadata": {},
   "outputs": [
    {
     "data": {
      "text/html": [
       "1"
      ],
      "text/latex": [
       "1"
      ],
      "text/markdown": [
       "1"
      ],
      "text/plain": [
       "[1] 1"
      ]
     },
     "metadata": {},
     "output_type": "display_data"
    },
    {
     "data": {
      "text/html": [
       "1"
      ],
      "text/latex": [
       "1"
      ],
      "text/markdown": [
       "1"
      ],
      "text/plain": [
       "[1] 1"
      ]
     },
     "metadata": {},
     "output_type": "display_data"
    }
   ],
   "source": [
    "# How many differentials do I need to get a stationary series?\n",
    "ndiffs(Turnover_db)\n",
    "\n",
    "# How many lags do I need to get a stationary series?\n",
    "nsdiffs(Turnover_db)"
   ]
  },
  {
   "cell_type": "code",
   "execution_count": 55,
   "metadata": {},
   "outputs": [],
   "source": [
    "training_set = window(diff(log(Turnover_db),lag=12), end=c(2015,12))\n",
    "test_set = window(diff(log(Turnover_db),lag=12),start=c(2016,1))\n",
    "fit_arima= Arima(training_set, order = c(12,1,3), seasonal=c(2,1,1), include.constant=FALSE)"
   ]
  },
  {
   "cell_type": "code",
   "execution_count": null,
   "metadata": {},
   "outputs": [],
   "source": [
    "training_set = window(diff(log(Turnover_db),lag=12), end=c(2015,12))\n",
    "test_set = window(diff(log(Turnover_db),lag=12),start=c(2016,1))\n",
    "fit_arima= Arima(training_set, order = c(24,1,3), seasonal=c(3,1,1), include.constant=FALSE)"
   ]
  },
  {
   "cell_type": "code",
   "execution_count": null,
   "metadata": {},
   "outputs": [],
   "source": [
    "fit_arima"
   ]
  },
  {
   "cell_type": "code",
   "execution_count": null,
   "metadata": {},
   "outputs": [],
   "source": [
    "fcast_arima = forecast(fit_arima,h=60)\n",
    "plot(fcast_arima)\n",
    "lines(test_set, col=\"red\")"
   ]
  },
  {
   "cell_type": "code",
   "execution_count": null,
   "metadata": {},
   "outputs": [],
   "source": [
    "manual_arima = accuracy(fcast_arima,test_set)\n",
    "manual_arima"
   ]
  },
  {
   "cell_type": "code",
   "execution_count": null,
   "metadata": {},
   "outputs": [],
   "source": [
    "res_arima = fit_arima$residuals\n",
    "tsdisplay(fit_arima$residuals)"
   ]
  },
  {
   "cell_type": "code",
   "execution_count": null,
   "metadata": {},
   "outputs": [],
   "source": [
    "checkresiduals(fit_arima)"
   ]
  },
  {
   "cell_type": "code",
   "execution_count": null,
   "metadata": {},
   "outputs": [],
   "source": [
    "LjungBox(res_arima, lags=seq(1,24,1), order=length(fit_arima$coef))"
   ]
  },
  {
   "cell_type": "markdown",
   "metadata": {},
   "source": [
    "-----------------------------------------------------------------------------------------------------"
   ]
  },
  {
   "cell_type": "markdown",
   "metadata": {},
   "source": [
    "## 8) Compare the different models in terms of residual diagnostics, model fit, and forecast accuracy. Analyse your results and select your final model."
   ]
  },
  {
   "cell_type": "code",
   "execution_count": null,
   "metadata": {},
   "outputs": [],
   "source": [
    "# Auto ARIMA: ARIMA(3,0,0)(2,1,0) with drift \n",
    "auto_arima"
   ]
  },
  {
   "cell_type": "code",
   "execution_count": null,
   "metadata": {},
   "outputs": [],
   "source": [
    "# Manual ARIMA: ARIMA(12,2,3)(2,1,1)\n",
    "manual_arima"
   ]
  },
  {
   "cell_type": "markdown",
   "metadata": {},
   "source": [
    "**Even though both models are not following a white noise process, we can compara the results of the main cost function performance in order to understand which one is better vs the other. In this case, it seems that the manual ARIMA is presenting by far a lower MASE. Actually, comparing the MASE of the test set, the manual ARIMA presented the best performance among all run in this assignment.**"
   ]
  },
  {
   "cell_type": "markdown",
   "metadata": {},
   "source": [
    "-----------------------------------------------------------------------------------------------------"
   ]
  },
  {
   "cell_type": "markdown",
   "metadata": {},
   "source": [
    "## 9) Generate out of sample forecasts up to December 2020, based on the complete time series. Discuss your results."
   ]
  },
  {
   "cell_type": "code",
   "execution_count": null,
   "metadata": {},
   "outputs": [],
   "source": [
    "# Training my model\n",
    "transformed_turnover = window(diff(log(Turnover_db),lag=12))\n",
    "fit_arima= auto.arima(transformed_turnover, seasonal=TRUE, approximation=FALSE, stepwise=FALSE)"
   ]
  },
  {
   "cell_type": "code",
   "execution_count": null,
   "metadata": {},
   "outputs": [],
   "source": [
    "summary(fit_arima)"
   ]
  },
  {
   "cell_type": "code",
   "execution_count": null,
   "metadata": {},
   "outputs": [],
   "source": [
    "fcast_arima = forecast(fit_arima,h=11)\n",
    "plot(fcast_arima)"
   ]
  },
  {
   "cell_type": "code",
   "execution_count": null,
   "metadata": {},
   "outputs": [],
   "source": [
    "res_arima = fit_arima$residuals\n",
    "tsdisplay(fit_arima$residuals)"
   ]
  },
  {
   "cell_type": "code",
   "execution_count": null,
   "metadata": {},
   "outputs": [],
   "source": [
    "checkresiduals(fit_arima)"
   ]
  },
  {
   "cell_type": "code",
   "execution_count": null,
   "metadata": {},
   "outputs": [],
   "source": [
    "LjungBox(res_arima, lags=seq(1,24,1), order=length(fit_arima$coef))"
   ]
  },
  {
   "cell_type": "markdown",
   "metadata": {},
   "source": [
    "**According to the Ljung-Box test, with a 99% of confidence level we can reject our null hypothesis, which means that there is no white process in my forecast series. Considering the latter, we can say that the time series can be predicted, but we are able to improve our model.**"
   ]
  },
  {
   "cell_type": "markdown",
   "metadata": {},
   "source": [
    "-----------------------------------------------------------------------------------------------------"
   ]
  },
  {
   "cell_type": "markdown",
   "metadata": {},
   "source": [
    "## 10) In addition, generate the seasonally adjusted time series for the Turnover data. Estimate an (auto-)ARIMA model and an (auto-)ETS model for this non-seasonal time series. Compare the forecast accuracy and residual diagnostics of both models, and select the final model for the seasonally adjusted series. Generate out of sample forecasts up to December 2020, based on the complete time series.Discuss your results."
   ]
  },
  {
   "cell_type": "code",
   "execution_count": null,
   "metadata": {},
   "outputs": [],
   "source": [
    "# Multiplicative process\n",
    "Turnover_multiplicative = decompose(Turnover_db, type=\"multiplicative\")"
   ]
  },
  {
   "cell_type": "code",
   "execution_count": null,
   "metadata": {},
   "outputs": [],
   "source": [
    "# Seasonally adjusted\n",
    "Seasonally_adjusted = seasadj(Turnover_multiplicative)"
   ]
  },
  {
   "cell_type": "code",
   "execution_count": null,
   "metadata": {},
   "outputs": [],
   "source": [
    "# Plotting the seasonally adjusted serie\n",
    "plot(Turnover_db, col='gray', ylab='Turnover', main='Turnover Index')\n",
    "lines(Seasonally_adjusted, col='red')"
   ]
  },
  {
   "cell_type": "code",
   "execution_count": null,
   "metadata": {},
   "outputs": [],
   "source": [
    "# ADF test of the seasonal adjusted serie\n",
    "adf.test(Seasonally_adjusted, alternative='stationary')"
   ]
  },
  {
   "cell_type": "markdown",
   "metadata": {},
   "source": [
    "**Considering the high level of p-value, we should not reject the hypothesis null; therefore, this is not a stationary series.**"
   ]
  },
  {
   "cell_type": "markdown",
   "metadata": {},
   "source": [
    "**a) Auto ARIMA:**"
   ]
  },
  {
   "cell_type": "code",
   "execution_count": null,
   "metadata": {},
   "outputs": [],
   "source": [
    "# Training my model\n",
    "training_set = window(Seasonally_adjusted, end=c(2015,12))\n",
    "test_set = window(Seasonally_adjusted,start=c(2016,1))\n",
    "fit_arima= auto.arima(training_set, seasonal=TRUE, approximation=FALSE, stepwise=FALSE, lambda=lambda_bc)"
   ]
  },
  {
   "cell_type": "code",
   "execution_count": null,
   "metadata": {},
   "outputs": [],
   "source": [
    "summary(fit_arima)"
   ]
  },
  {
   "cell_type": "code",
   "execution_count": null,
   "metadata": {},
   "outputs": [],
   "source": [
    "fcast_arima = forecast(fit_arima,h=60)\n",
    "plot(fcast_arima)\n",
    "lines(test_set, col=\"red\")"
   ]
  },
  {
   "cell_type": "code",
   "execution_count": null,
   "metadata": {},
   "outputs": [],
   "source": [
    "auto_arima = accuracy(fcast_arima,test_set)\n",
    "auto_arima"
   ]
  },
  {
   "cell_type": "code",
   "execution_count": null,
   "metadata": {},
   "outputs": [],
   "source": [
    "res_arima = residuals(fit_arima)\n",
    "tsdisplay(res_arima)"
   ]
  },
  {
   "cell_type": "code",
   "execution_count": null,
   "metadata": {},
   "outputs": [],
   "source": [
    "checkresiduals(fcast_arima)"
   ]
  },
  {
   "cell_type": "code",
   "execution_count": null,
   "metadata": {},
   "outputs": [],
   "source": [
    "LjungBox(res_arima, lags=seq(1,24,1), order=length(fit_arima$coef))"
   ]
  },
  {
   "cell_type": "markdown",
   "metadata": {},
   "source": [
    "**b) Auto ETS:**"
   ]
  },
  {
   "cell_type": "code",
   "execution_count": null,
   "metadata": {},
   "outputs": [],
   "source": [
    "# Training my model\n",
    "training_set = window(Seasonally_adjusted, end=c(2015,12))\n",
    "test_set = window(Seasonally_adjusted,start=c(2016,1))\n",
    "fit_ets = ets(training_set, lambda=lambda_bc)"
   ]
  },
  {
   "cell_type": "code",
   "execution_count": null,
   "metadata": {},
   "outputs": [],
   "source": [
    "summary(fit_ets)"
   ]
  },
  {
   "cell_type": "code",
   "execution_count": null,
   "metadata": {},
   "outputs": [],
   "source": [
    "fcast_ets = forecast(fit_ets,h=60)\n",
    "plot(fcast_ets)\n",
    "lines(test_set, col=\"red\")"
   ]
  },
  {
   "cell_type": "code",
   "execution_count": null,
   "metadata": {},
   "outputs": [],
   "source": [
    "accuracy(fcast_ets,test_set)"
   ]
  },
  {
   "cell_type": "code",
   "execution_count": null,
   "metadata": {},
   "outputs": [],
   "source": [
    "res_ets = residuals(fit_ets)\n",
    "tsdisplay(res_ets)"
   ]
  },
  {
   "cell_type": "code",
   "execution_count": null,
   "metadata": {},
   "outputs": [],
   "source": [
    "checkresiduals(fit_ets)"
   ]
  },
  {
   "cell_type": "code",
   "execution_count": null,
   "metadata": {},
   "outputs": [],
   "source": [
    "LjungBox(res_ets, lags=seq(1,24,1), order=length(fit_ets$coef))"
   ]
  },
  {
   "cell_type": "markdown",
   "metadata": {},
   "source": [
    "**Between the Auto ARIMA and the Auto ETS, we should select the Auto ETS because it presents a lower MASE level.**"
   ]
  },
  {
   "cell_type": "markdown",
   "metadata": {},
   "source": [
    "-----------------------------------------------------------------------------------------------------"
   ]
  },
  {
   "cell_type": "markdown",
   "metadata": {},
   "source": [
    "# EXERCISE 2"
   ]
  },
  {
   "cell_type": "markdown",
   "metadata": {},
   "source": [
    "For this exercise, find a recent and relevant time series to forecast, using the techniques\n",
    "that have been discussed during the lectures. In your analysis, set up a carefully\n",
    "selected forecasting process, taking data considerations and implementation issues\n",
    "into account. Describe your approach, and motivate your choices.\n",
    "The data set should be original (not from R packages), recent, sufficiently long and\n",
    "must include a seasonal component. The data should be analyzed using at least two\n",
    "techniques, and results should be compared."
   ]
  },
  {
   "cell_type": "markdown",
   "metadata": {},
   "source": [
    "**We are going to work with the Mexican Monthly inflation series (from Jan-2000 to Mar-2020), which comes from the official institute (INEGI).**"
   ]
  },
  {
   "cell_type": "markdown",
   "metadata": {},
   "source": [
    "**a) Importing the dataset:**"
   ]
  },
  {
   "cell_type": "code",
   "execution_count": null,
   "metadata": {},
   "outputs": [],
   "source": [
    "# Importing my file\n",
    "inflation = read.table(\"inflation - INEGI.csv\", sep=\",\", head=TRUE)"
   ]
  },
  {
   "cell_type": "code",
   "execution_count": null,
   "metadata": {},
   "outputs": [],
   "source": [
    "# Selecting Turnover database\n",
    "inflation_db = ts(inflation, frequency = 12, start = 2000)\n",
    "inflation_db = inflation_db[,2]"
   ]
  },
  {
   "cell_type": "markdown",
   "metadata": {},
   "source": [
    "**b) Descriptive Analytics:**"
   ]
  },
  {
   "cell_type": "code",
   "execution_count": null,
   "metadata": {},
   "outputs": [],
   "source": [
    "# Plotting the original data\n",
    "plot(inflation_db, main = 'Monthly Inflation - Mexico 2000-2020', ylab = '% Monthly Inflation')"
   ]
  },
  {
   "cell_type": "code",
   "execution_count": null,
   "metadata": {},
   "outputs": [],
   "source": [
    "# Avg turnover by month\n",
    "monthplot(inflation_db, type=\"l\", main=\"Seasonal subseries plot: Monthly Inflation\", ylab=\"Monthly Inflation\", xlab=\"Month\", xaxt=\"n\")\n",
    "axis(1,at=1:12, labels=month.abb, cex=1)"
   ]
  },
  {
   "cell_type": "code",
   "execution_count": null,
   "metadata": {},
   "outputs": [],
   "source": [
    "# Auto-correlation function and Partial Auto-correlation function\n",
    "tsdisplay(inflation_db)"
   ]
  },
  {
   "cell_type": "code",
   "execution_count": null,
   "metadata": {},
   "outputs": [],
   "source": [
    "# Augmented Dicky-Fuller Test\n",
    "adf.test(inflation_db, alternative = \"stationary\")"
   ]
  },
  {
   "cell_type": "markdown",
   "metadata": {},
   "source": [
    "**We could describe this time series as a serie that presents seasonality and stationarity, perhaps with a slightly decreasing across time.**"
   ]
  },
  {
   "cell_type": "code",
   "execution_count": null,
   "metadata": {},
   "outputs": [],
   "source": [
    "# Searching the optimal lambda\n",
    "lambda_bc2 = BoxCox.lambda(inflation_db)\n",
    "lambda_bc2"
   ]
  },
  {
   "cell_type": "markdown",
   "metadata": {},
   "source": [
    "**c) STL Decomposition:**"
   ]
  },
  {
   "cell_type": "code",
   "execution_count": null,
   "metadata": {},
   "outputs": [],
   "source": [
    "# Additive decomposition process\n",
    "inflation_stl_additive = decompose(inflation_db, type=\"additive\")\n",
    "plot(inflation_stl_additive)"
   ]
  },
  {
   "cell_type": "code",
   "execution_count": null,
   "metadata": {},
   "outputs": [],
   "source": [
    "# Seasonal adjustment with seasonal adjustment\n",
    "seasAdj = seasadj(inflation_stl_additive)\n",
    "plot(inflation_db,col=\"gray\", main=\"Trend-Cycle Components of the Monthly Inflation with seasonal adj\", ylab=\"Monthly Inflation\")\n",
    "lines(seasAdj, col='red')"
   ]
  },
  {
   "cell_type": "code",
   "execution_count": null,
   "metadata": {},
   "outputs": [],
   "source": [
    "# Random walk with drift forecasts of the seasonally adjusted data\n",
    "fit = stl(inflation_db, s.window=\"periodic\")\n",
    "fcast = forecast(fit, method=\"rwdrift\", h=24)\n",
    "\n",
    "# Fitting the model\n",
    "pl_adj = seasadj(fit)\n",
    "rwf_adj = rwf(pl_adj, h=24, drift = TRUE, lambda=1)\n",
    "plot(rwf_adj)\n",
    "\n",
    "# Original data\n",
    "lines(inflation_db, col=\"red\")\n",
    "\n",
    "# Mean of the forecast\n",
    "lines(fcast$mean, col=\"green\")"
   ]
  },
  {
   "cell_type": "code",
   "execution_count": null,
   "metadata": {},
   "outputs": [],
   "source": [
    "# Dividing the dataset and fitting the training set\n",
    "training_set = window(pl_adj, end=c(2015,12))\n",
    "test_set = window(pl_adj,start=c(2016,1))\n",
    "fit_stl = rwf(training_set, h=length(test_set), drift = TRUE, lambda=1)\n",
    "\n",
    "# Cost function of training and test set\n",
    "accuracy(fit_stl,test_set)"
   ]
  },
  {
   "cell_type": "code",
   "execution_count": null,
   "metadata": {},
   "outputs": [],
   "source": [
    "checkresiduals(fit_stl)"
   ]
  },
  {
   "cell_type": "markdown",
   "metadata": {},
   "source": [
    "**c) ETS Modeling:**"
   ]
  },
  {
   "cell_type": "code",
   "execution_count": null,
   "metadata": {},
   "outputs": [],
   "source": [
    "# Training and Test set\n",
    "training_set = window(inflation_db, end=c(2015,12))\n",
    "test_set = window(inflation_db,start=c(2016,1))"
   ]
  },
  {
   "cell_type": "code",
   "execution_count": null,
   "metadata": {},
   "outputs": [],
   "source": [
    "# Declaring empty matrix\n",
    "matrix_ets2 = matrix(data=NA, nrow=4, ncol=2)"
   ]
  },
  {
   "cell_type": "code",
   "execution_count": null,
   "metadata": {},
   "outputs": [],
   "source": [
    "# Building ETS models with Damped = TRUE\n",
    "models_ets2 = models_ets[1:4] \n",
    "\n",
    "for (i in 1:4){\n",
    "    model = ets(training_set, model=models_ets2[i])\n",
    "    fcast = forecast(model,h=length(test_set))\n",
    "    accuracy = accuracy(fcast, test_set)\n",
    "    matrix_ets2[i,1] = model$aicc\n",
    "    matrix_ets2[i,2] = accuracy[2,6]\n",
    "}\n",
    "\n",
    "rownames(matrix_ets2) = models_ets2\n",
    "colnames(matrix_ets2) = c(\"AICc\",\"MASE\")"
   ]
  },
  {
   "cell_type": "code",
   "execution_count": null,
   "metadata": {},
   "outputs": [],
   "source": [
    "matrix_ets2"
   ]
  },
  {
   "cell_type": "code",
   "execution_count": null,
   "metadata": {},
   "outputs": [],
   "source": [
    "# Presenting the winner model: ANA\n",
    "fit_ana = ets(training_set, model=models_ets2[3], damped=FALSE)\n",
    "fit_ana"
   ]
  },
  {
   "cell_type": "code",
   "execution_count": null,
   "metadata": {},
   "outputs": [],
   "source": [
    "# Plotting the winner model\n",
    "fcast_ana = forecast(fit_ana,h=60)\n",
    "plot(fcast_ana)\n",
    "lines(test_set, col=\"red\")"
   ]
  },
  {
   "cell_type": "code",
   "execution_count": null,
   "metadata": {},
   "outputs": [],
   "source": [
    "# Accuracy of the ANA model\n",
    "accuracy(fcast_ana,test_set)"
   ]
  },
  {
   "cell_type": "code",
   "execution_count": null,
   "metadata": {},
   "outputs": [],
   "source": [
    "# Residuals of the ANA model\n",
    "res_ana = residuals(fit_ana)\n",
    "tsdisplay(res_ana)"
   ]
  },
  {
   "cell_type": "code",
   "execution_count": null,
   "metadata": {},
   "outputs": [],
   "source": [
    "# Ljung-Box of the ANA model\n",
    "checkresiduals(fit_ana)"
   ]
  },
  {
   "cell_type": "code",
   "execution_count": null,
   "metadata": {},
   "outputs": [],
   "source": [
    "# Ljung-Box of the ANA model\n",
    "LjungBox(res_ana, lags=seq(1,24,1), order=length(fit_ana$coef))"
   ]
  },
  {
   "cell_type": "markdown",
   "metadata": {},
   "source": [
    "**d) ARIMA:**"
   ]
  },
  {
   "cell_type": "code",
   "execution_count": null,
   "metadata": {},
   "outputs": [],
   "source": [
    "# How many differentials do I need to get a stationary series?\n",
    "ndiffs(inflation_db)\n",
    "\n",
    "# How many lags do I need to get a stationary series?\n",
    "nsdiffs(inflation_db)"
   ]
  },
  {
   "cell_type": "code",
   "execution_count": null,
   "metadata": {},
   "outputs": [],
   "source": [
    "# Presenting the ACF and the PACF\n",
    "tsdisplay(inflation_db)"
   ]
  },
  {
   "cell_type": "code",
   "execution_count": null,
   "metadata": {},
   "outputs": [],
   "source": [
    "# Auto ARIMA\n",
    "training_set = window(inflation_db, end=c(2015,12))\n",
    "test_set = window(inflation_db,start=c(2016,1))\n",
    "fit_arima2 = auto.arima(training_set, seasonal=TRUE, approximation=FALSE, stepwise=FALSE, lambda=1)\n",
    "fcast_arima2 = forecast(fit_arima2,h=60)\n",
    "fit_arima2"
   ]
  },
  {
   "cell_type": "code",
   "execution_count": null,
   "metadata": {},
   "outputs": [],
   "source": [
    "auto_arima2 = accuracy(fcast_arima2,test_set)\n",
    "auto_arima2"
   ]
  },
  {
   "cell_type": "code",
   "execution_count": null,
   "metadata": {},
   "outputs": [],
   "source": [
    "checkresiduals(fcast_arima2)"
   ]
  },
  {
   "cell_type": "markdown",
   "metadata": {},
   "source": [
    "**e) Conclusions:**"
   ]
  },
  {
   "cell_type": "markdown",
   "metadata": {},
   "source": [
    "**The ETS and ARIMA model brought test set MASE below zero, which tells us that these are good models. Moreover, the gap between the cost function metrics of the training and test set are not too big, which tells us that there is no overfittig. Comparing the MASE, we could say that the ETS model is the best one; however, it did fail in having white noise (Ljung-Box). In the other hand, the auto ARIMA model presented a similar MASE, but with a white noise process. For this reason, I would choose the ARIMA model because the residuals are closer to the model's assumptions (normal distribution).**"
   ]
  },
  {
   "cell_type": "code",
   "execution_count": null,
   "metadata": {},
   "outputs": [],
   "source": []
  },
  {
   "cell_type": "code",
   "execution_count": null,
   "metadata": {},
   "outputs": [],
   "source": []
  }
 ],
 "metadata": {
  "kernelspec": {
   "display_name": "R",
   "language": "R",
   "name": "ir"
  },
  "language_info": {
   "codemirror_mode": "r",
   "file_extension": ".r",
   "mimetype": "text/x-r-source",
   "name": "R",
   "pygments_lexer": "r",
   "version": "3.6.1"
  }
 },
 "nbformat": 4,
 "nbformat_minor": 2
}
