{
 "cells": [
  {
   "cell_type": "markdown",
   "metadata": {},
   "source": [
    "# Neural Network Homework"
   ]
  },
  {
   "cell_type": "markdown",
   "metadata": {},
   "source": [
    "Coded by: **Jorge Polanco**"
   ]
  },
  {
   "cell_type": "code",
   "execution_count": 507,
   "metadata": {},
   "outputs": [],
   "source": [
    "#pip install Keras\n",
    "#pip install Tensorflow\n",
    "from sklearn.model_selection import train_test_split\n",
    "from sklearn.preprocessing import StandardScaler\n",
    "from keras.datasets import reuters\n",
    "import pyspark.sql.functions as f\n",
    "import matplotlib.pyplot as plt\n",
    "from sklearn import metrics\n",
    "from keras import models\n",
    "from keras import layers\n",
    "import tensorflow as tf\n",
    "import pandas as pd\n",
    "import numpy as np\n",
    "import random"
   ]
  },
  {
   "cell_type": "code",
   "execution_count": 512,
   "metadata": {},
   "outputs": [],
   "source": [
    "# Stablishing the directory from we will get our inputs\n",
    "directory = \"C:/Users/jpolancoroque/Desktop/IESEG/02. Second Semester/Statistical & Machine Learning Approaches for Marketing/SML_Section7_v2.1/data/com1_default\""
   ]
  },
  {
   "cell_type": "code",
   "execution_count": 513,
   "metadata": {},
   "outputs": [],
   "source": [
    "# Import the database\n",
    "db = pd.read_csv(directory + '/default.csv', sep=\";\")"
   ]
  },
  {
   "cell_type": "code",
   "execution_count": 514,
   "metadata": {},
   "outputs": [],
   "source": [
    "db = db.reset_index(drop=True, inplace=False)"
   ]
  },
  {
   "cell_type": "code",
   "execution_count": 515,
   "metadata": {},
   "outputs": [
    {
     "data": {
      "text/html": [
       "<div>\n",
       "<style scoped>\n",
       "    .dataframe tbody tr th:only-of-type {\n",
       "        vertical-align: middle;\n",
       "    }\n",
       "\n",
       "    .dataframe tbody tr th {\n",
       "        vertical-align: top;\n",
       "    }\n",
       "\n",
       "    .dataframe thead th {\n",
       "        text-align: right;\n",
       "    }\n",
       "</style>\n",
       "<table border=\"1\" class=\"dataframe\">\n",
       "  <thead>\n",
       "    <tr style=\"text-align: right;\">\n",
       "      <th></th>\n",
       "      <th>Unnamed: 0</th>\n",
       "      <th>X1</th>\n",
       "      <th>X2</th>\n",
       "      <th>X3</th>\n",
       "      <th>X4</th>\n",
       "      <th>X5</th>\n",
       "      <th>X6</th>\n",
       "      <th>X7</th>\n",
       "      <th>X8</th>\n",
       "      <th>X9</th>\n",
       "      <th>...</th>\n",
       "      <th>X15</th>\n",
       "      <th>X16</th>\n",
       "      <th>X17</th>\n",
       "      <th>X18</th>\n",
       "      <th>X19</th>\n",
       "      <th>X20</th>\n",
       "      <th>X21</th>\n",
       "      <th>X22</th>\n",
       "      <th>X23</th>\n",
       "      <th>Y</th>\n",
       "    </tr>\n",
       "  </thead>\n",
       "  <tbody>\n",
       "    <tr>\n",
       "      <th>0</th>\n",
       "      <td>1</td>\n",
       "      <td>20000</td>\n",
       "      <td>2</td>\n",
       "      <td>2</td>\n",
       "      <td>1</td>\n",
       "      <td>24</td>\n",
       "      <td>2</td>\n",
       "      <td>2</td>\n",
       "      <td>-1</td>\n",
       "      <td>-1</td>\n",
       "      <td>...</td>\n",
       "      <td>0</td>\n",
       "      <td>0</td>\n",
       "      <td>0</td>\n",
       "      <td>0</td>\n",
       "      <td>689</td>\n",
       "      <td>0</td>\n",
       "      <td>0</td>\n",
       "      <td>0</td>\n",
       "      <td>0</td>\n",
       "      <td>1</td>\n",
       "    </tr>\n",
       "    <tr>\n",
       "      <th>1</th>\n",
       "      <td>2</td>\n",
       "      <td>120000</td>\n",
       "      <td>2</td>\n",
       "      <td>2</td>\n",
       "      <td>2</td>\n",
       "      <td>26</td>\n",
       "      <td>-1</td>\n",
       "      <td>2</td>\n",
       "      <td>0</td>\n",
       "      <td>0</td>\n",
       "      <td>...</td>\n",
       "      <td>3272</td>\n",
       "      <td>3455</td>\n",
       "      <td>3261</td>\n",
       "      <td>0</td>\n",
       "      <td>1000</td>\n",
       "      <td>1000</td>\n",
       "      <td>1000</td>\n",
       "      <td>0</td>\n",
       "      <td>2000</td>\n",
       "      <td>1</td>\n",
       "    </tr>\n",
       "    <tr>\n",
       "      <th>2</th>\n",
       "      <td>3</td>\n",
       "      <td>90000</td>\n",
       "      <td>2</td>\n",
       "      <td>2</td>\n",
       "      <td>2</td>\n",
       "      <td>34</td>\n",
       "      <td>0</td>\n",
       "      <td>0</td>\n",
       "      <td>0</td>\n",
       "      <td>0</td>\n",
       "      <td>...</td>\n",
       "      <td>14331</td>\n",
       "      <td>14948</td>\n",
       "      <td>15549</td>\n",
       "      <td>1518</td>\n",
       "      <td>1500</td>\n",
       "      <td>1000</td>\n",
       "      <td>1000</td>\n",
       "      <td>1000</td>\n",
       "      <td>5000</td>\n",
       "      <td>0</td>\n",
       "    </tr>\n",
       "    <tr>\n",
       "      <th>3</th>\n",
       "      <td>4</td>\n",
       "      <td>50000</td>\n",
       "      <td>2</td>\n",
       "      <td>2</td>\n",
       "      <td>1</td>\n",
       "      <td>37</td>\n",
       "      <td>0</td>\n",
       "      <td>0</td>\n",
       "      <td>0</td>\n",
       "      <td>0</td>\n",
       "      <td>...</td>\n",
       "      <td>28314</td>\n",
       "      <td>28959</td>\n",
       "      <td>29547</td>\n",
       "      <td>2000</td>\n",
       "      <td>2019</td>\n",
       "      <td>1200</td>\n",
       "      <td>1100</td>\n",
       "      <td>1069</td>\n",
       "      <td>1000</td>\n",
       "      <td>0</td>\n",
       "    </tr>\n",
       "    <tr>\n",
       "      <th>4</th>\n",
       "      <td>5</td>\n",
       "      <td>50000</td>\n",
       "      <td>1</td>\n",
       "      <td>2</td>\n",
       "      <td>1</td>\n",
       "      <td>57</td>\n",
       "      <td>-1</td>\n",
       "      <td>0</td>\n",
       "      <td>-1</td>\n",
       "      <td>0</td>\n",
       "      <td>...</td>\n",
       "      <td>20940</td>\n",
       "      <td>19146</td>\n",
       "      <td>19131</td>\n",
       "      <td>2000</td>\n",
       "      <td>36681</td>\n",
       "      <td>10000</td>\n",
       "      <td>9000</td>\n",
       "      <td>689</td>\n",
       "      <td>679</td>\n",
       "      <td>0</td>\n",
       "    </tr>\n",
       "  </tbody>\n",
       "</table>\n",
       "<p>5 rows × 25 columns</p>\n",
       "</div>"
      ],
      "text/plain": [
       "   Unnamed: 0      X1  X2  X3  X4  X5  X6  X7  X8  X9  ...    X15    X16  \\\n",
       "0           1   20000   2   2   1  24   2   2  -1  -1  ...      0      0   \n",
       "1           2  120000   2   2   2  26  -1   2   0   0  ...   3272   3455   \n",
       "2           3   90000   2   2   2  34   0   0   0   0  ...  14331  14948   \n",
       "3           4   50000   2   2   1  37   0   0   0   0  ...  28314  28959   \n",
       "4           5   50000   1   2   1  57  -1   0  -1   0  ...  20940  19146   \n",
       "\n",
       "     X17   X18    X19    X20   X21   X22   X23  Y  \n",
       "0      0     0    689      0     0     0     0  1  \n",
       "1   3261     0   1000   1000  1000     0  2000  1  \n",
       "2  15549  1518   1500   1000  1000  1000  5000  0  \n",
       "3  29547  2000   2019   1200  1100  1069  1000  0  \n",
       "4  19131  2000  36681  10000  9000   689   679  0  \n",
       "\n",
       "[5 rows x 25 columns]"
      ]
     },
     "execution_count": 515,
     "metadata": {},
     "output_type": "execute_result"
    }
   ],
   "source": [
    "db.head()"
   ]
  },
  {
   "cell_type": "code",
   "execution_count": 516,
   "metadata": {},
   "outputs": [
    {
     "data": {
      "text/html": [
       "<div>\n",
       "<style scoped>\n",
       "    .dataframe tbody tr th:only-of-type {\n",
       "        vertical-align: middle;\n",
       "    }\n",
       "\n",
       "    .dataframe tbody tr th {\n",
       "        vertical-align: top;\n",
       "    }\n",
       "\n",
       "    .dataframe thead th {\n",
       "        text-align: right;\n",
       "    }\n",
       "</style>\n",
       "<table border=\"1\" class=\"dataframe\">\n",
       "  <thead>\n",
       "    <tr style=\"text-align: right;\">\n",
       "      <th></th>\n",
       "      <th>Y</th>\n",
       "    </tr>\n",
       "  </thead>\n",
       "  <tbody>\n",
       "    <tr>\n",
       "      <th>0</th>\n",
       "      <td>1</td>\n",
       "    </tr>\n",
       "    <tr>\n",
       "      <th>1</th>\n",
       "      <td>1</td>\n",
       "    </tr>\n",
       "    <tr>\n",
       "      <th>2</th>\n",
       "      <td>0</td>\n",
       "    </tr>\n",
       "    <tr>\n",
       "      <th>3</th>\n",
       "      <td>0</td>\n",
       "    </tr>\n",
       "    <tr>\n",
       "      <th>4</th>\n",
       "      <td>0</td>\n",
       "    </tr>\n",
       "  </tbody>\n",
       "</table>\n",
       "</div>"
      ],
      "text/plain": [
       "   Y\n",
       "0  1\n",
       "1  1\n",
       "2  0\n",
       "3  0\n",
       "4  0"
      ]
     },
     "execution_count": 516,
     "metadata": {},
     "output_type": "execute_result"
    }
   ],
   "source": [
    "y = db.iloc[:,-1]\n",
    "y = pd.DataFrame(y)\n",
    "y.head()"
   ]
  },
  {
   "cell_type": "code",
   "execution_count": 517,
   "metadata": {},
   "outputs": [],
   "source": [
    "y = y.astype('object')"
   ]
  },
  {
   "cell_type": "code",
   "execution_count": 518,
   "metadata": {},
   "outputs": [
    {
     "data": {
      "text/html": [
       "<div>\n",
       "<style scoped>\n",
       "    .dataframe tbody tr th:only-of-type {\n",
       "        vertical-align: middle;\n",
       "    }\n",
       "\n",
       "    .dataframe tbody tr th {\n",
       "        vertical-align: top;\n",
       "    }\n",
       "\n",
       "    .dataframe thead th {\n",
       "        text-align: right;\n",
       "    }\n",
       "</style>\n",
       "<table border=\"1\" class=\"dataframe\">\n",
       "  <thead>\n",
       "    <tr style=\"text-align: right;\">\n",
       "      <th></th>\n",
       "      <th>X1</th>\n",
       "      <th>X2</th>\n",
       "      <th>X3</th>\n",
       "      <th>X4</th>\n",
       "      <th>X5</th>\n",
       "      <th>X6</th>\n",
       "      <th>X7</th>\n",
       "      <th>X8</th>\n",
       "      <th>X9</th>\n",
       "      <th>X10</th>\n",
       "      <th>...</th>\n",
       "      <th>X14</th>\n",
       "      <th>X15</th>\n",
       "      <th>X16</th>\n",
       "      <th>X17</th>\n",
       "      <th>X18</th>\n",
       "      <th>X19</th>\n",
       "      <th>X20</th>\n",
       "      <th>X21</th>\n",
       "      <th>X22</th>\n",
       "      <th>X23</th>\n",
       "    </tr>\n",
       "  </thead>\n",
       "  <tbody>\n",
       "    <tr>\n",
       "      <th>0</th>\n",
       "      <td>20000</td>\n",
       "      <td>2</td>\n",
       "      <td>2</td>\n",
       "      <td>1</td>\n",
       "      <td>24</td>\n",
       "      <td>2</td>\n",
       "      <td>2</td>\n",
       "      <td>-1</td>\n",
       "      <td>-1</td>\n",
       "      <td>-2</td>\n",
       "      <td>...</td>\n",
       "      <td>689</td>\n",
       "      <td>0</td>\n",
       "      <td>0</td>\n",
       "      <td>0</td>\n",
       "      <td>0</td>\n",
       "      <td>689</td>\n",
       "      <td>0</td>\n",
       "      <td>0</td>\n",
       "      <td>0</td>\n",
       "      <td>0</td>\n",
       "    </tr>\n",
       "    <tr>\n",
       "      <th>1</th>\n",
       "      <td>120000</td>\n",
       "      <td>2</td>\n",
       "      <td>2</td>\n",
       "      <td>2</td>\n",
       "      <td>26</td>\n",
       "      <td>-1</td>\n",
       "      <td>2</td>\n",
       "      <td>0</td>\n",
       "      <td>0</td>\n",
       "      <td>0</td>\n",
       "      <td>...</td>\n",
       "      <td>2682</td>\n",
       "      <td>3272</td>\n",
       "      <td>3455</td>\n",
       "      <td>3261</td>\n",
       "      <td>0</td>\n",
       "      <td>1000</td>\n",
       "      <td>1000</td>\n",
       "      <td>1000</td>\n",
       "      <td>0</td>\n",
       "      <td>2000</td>\n",
       "    </tr>\n",
       "    <tr>\n",
       "      <th>2</th>\n",
       "      <td>90000</td>\n",
       "      <td>2</td>\n",
       "      <td>2</td>\n",
       "      <td>2</td>\n",
       "      <td>34</td>\n",
       "      <td>0</td>\n",
       "      <td>0</td>\n",
       "      <td>0</td>\n",
       "      <td>0</td>\n",
       "      <td>0</td>\n",
       "      <td>...</td>\n",
       "      <td>13559</td>\n",
       "      <td>14331</td>\n",
       "      <td>14948</td>\n",
       "      <td>15549</td>\n",
       "      <td>1518</td>\n",
       "      <td>1500</td>\n",
       "      <td>1000</td>\n",
       "      <td>1000</td>\n",
       "      <td>1000</td>\n",
       "      <td>5000</td>\n",
       "    </tr>\n",
       "    <tr>\n",
       "      <th>3</th>\n",
       "      <td>50000</td>\n",
       "      <td>2</td>\n",
       "      <td>2</td>\n",
       "      <td>1</td>\n",
       "      <td>37</td>\n",
       "      <td>0</td>\n",
       "      <td>0</td>\n",
       "      <td>0</td>\n",
       "      <td>0</td>\n",
       "      <td>0</td>\n",
       "      <td>...</td>\n",
       "      <td>49291</td>\n",
       "      <td>28314</td>\n",
       "      <td>28959</td>\n",
       "      <td>29547</td>\n",
       "      <td>2000</td>\n",
       "      <td>2019</td>\n",
       "      <td>1200</td>\n",
       "      <td>1100</td>\n",
       "      <td>1069</td>\n",
       "      <td>1000</td>\n",
       "    </tr>\n",
       "    <tr>\n",
       "      <th>4</th>\n",
       "      <td>50000</td>\n",
       "      <td>1</td>\n",
       "      <td>2</td>\n",
       "      <td>1</td>\n",
       "      <td>57</td>\n",
       "      <td>-1</td>\n",
       "      <td>0</td>\n",
       "      <td>-1</td>\n",
       "      <td>0</td>\n",
       "      <td>0</td>\n",
       "      <td>...</td>\n",
       "      <td>35835</td>\n",
       "      <td>20940</td>\n",
       "      <td>19146</td>\n",
       "      <td>19131</td>\n",
       "      <td>2000</td>\n",
       "      <td>36681</td>\n",
       "      <td>10000</td>\n",
       "      <td>9000</td>\n",
       "      <td>689</td>\n",
       "      <td>679</td>\n",
       "    </tr>\n",
       "  </tbody>\n",
       "</table>\n",
       "<p>5 rows × 23 columns</p>\n",
       "</div>"
      ],
      "text/plain": [
       "       X1  X2  X3  X4  X5  X6  X7  X8  X9  X10  ...    X14    X15    X16  \\\n",
       "0   20000   2   2   1  24   2   2  -1  -1   -2  ...    689      0      0   \n",
       "1  120000   2   2   2  26  -1   2   0   0    0  ...   2682   3272   3455   \n",
       "2   90000   2   2   2  34   0   0   0   0    0  ...  13559  14331  14948   \n",
       "3   50000   2   2   1  37   0   0   0   0    0  ...  49291  28314  28959   \n",
       "4   50000   1   2   1  57  -1   0  -1   0    0  ...  35835  20940  19146   \n",
       "\n",
       "     X17   X18    X19    X20   X21   X22   X23  \n",
       "0      0     0    689      0     0     0     0  \n",
       "1   3261     0   1000   1000  1000     0  2000  \n",
       "2  15549  1518   1500   1000  1000  1000  5000  \n",
       "3  29547  2000   2019   1200  1100  1069  1000  \n",
       "4  19131  2000  36681  10000  9000   689   679  \n",
       "\n",
       "[5 rows x 23 columns]"
      ]
     },
     "execution_count": 518,
     "metadata": {},
     "output_type": "execute_result"
    }
   ],
   "source": [
    "db = db.iloc[:,1:-1]\n",
    "db.head()"
   ]
  },
  {
   "cell_type": "markdown",
   "metadata": {},
   "source": [
    "**Q1**"
   ]
  },
  {
   "cell_type": "code",
   "execution_count": 519,
   "metadata": {},
   "outputs": [
    {
     "name": "stdout",
     "output_type": "stream",
     "text": [
      "(24000, 23) (24000, 1)\n",
      "(6000, 23) (6000, 1)\n"
     ]
    }
   ],
   "source": [
    "# Load the dataset\n",
    "random.seed(1)\n",
    "X_train, X_test, y_train, y_test = train_test_split(db, y, test_size=0.2)\n",
    "\n",
    "print(X_train.shape, y_train.shape)\n",
    "print(X_test.shape, y_test.shape)"
   ]
  },
  {
   "cell_type": "code",
   "execution_count": 520,
   "metadata": {},
   "outputs": [],
   "source": [
    "# Standarizing\n",
    "X_train = StandardScaler().fit(X_train).transform(X_train)\n",
    "X_test = StandardScaler().fit(X_test).transform(X_test)\n",
    "\n",
    "# Leaving with changes for the classification models\n",
    "X_train2 = X_train\n",
    "X_test2 = X_test\n",
    "y_train2 = y_train\n",
    "y_test2 = y_test"
   ]
  },
  {
   "cell_type": "code",
   "execution_count": 521,
   "metadata": {},
   "outputs": [],
   "source": [
    "# Vectorize labels\n",
    "#X_train = np.asarray(X_train).astype('float32')\n",
    "#X_test = np.asarray(X_test).astype('float32')\n",
    "from keras.utils.np_utils import to_categorical\n",
    "\n",
    "y_train = to_categorical(y_train)\n",
    "y_test = to_categorical(y_test)\n",
    "\n",
    "#y_train = np.asarray(y_train)\n",
    "#y_test = np.asarray(y_test)"
   ]
  },
  {
   "cell_type": "code",
   "execution_count": 522,
   "metadata": {},
   "outputs": [],
   "source": [
    "# Create a validation set\n",
    "x_val = X_train[:5000]\n",
    "partial_X_train = X_train[5000:]\n",
    "\n",
    "y_val = y_train[:5000]\n",
    "partial_y_train = y_train[5000:]"
   ]
  },
  {
   "cell_type": "code",
   "execution_count": 523,
   "metadata": {},
   "outputs": [
    {
     "name": "stdout",
     "output_type": "stream",
     "text": [
      "(5000, 23) (5000, 2)\n",
      "(19000, 23) (19000, 2)\n"
     ]
    }
   ],
   "source": [
    "print(x_val.shape, y_val.shape)\n",
    "print(partial_X_train.shape, partial_y_train.shape)"
   ]
  },
  {
   "cell_type": "markdown",
   "metadata": {},
   "source": [
    "**Q2**"
   ]
  },
  {
   "cell_type": "code",
   "execution_count": 524,
   "metadata": {},
   "outputs": [],
   "source": [
    "# Simple DNN: input data = vectors, labels = scalars\n",
    "model = models.Sequential()"
   ]
  },
  {
   "cell_type": "code",
   "execution_count": 525,
   "metadata": {},
   "outputs": [],
   "source": [
    "# Define the layers\n",
    "model.add(layers.Dense(30, activation='sigmoid'))\n",
    "model.add(layers.Dense(2, activation='sigmoid'))"
   ]
  },
  {
   "cell_type": "code",
   "execution_count": 526,
   "metadata": {},
   "outputs": [],
   "source": [
    "model.compile(optimizer='rmsprop',\n",
    "  loss='categorical_crossentropy',\n",
    "  metrics=['acc'])"
   ]
  },
  {
   "cell_type": "code",
   "execution_count": 527,
   "metadata": {
    "scrolled": true
   },
   "outputs": [],
   "source": [
    "# Fit the model\n",
    "#history = model.fit(partial_X_train, partial_y_train, validation_data=(x_val, y_val))"
   ]
  },
  {
   "cell_type": "code",
   "execution_count": 528,
   "metadata": {},
   "outputs": [
    {
     "name": "stdout",
     "output_type": "stream",
     "text": [
      "Train on 19000 samples, validate on 5000 samples\n",
      "Epoch 1/20\n",
      "19000/19000 [==============================] - 1s 29us/step - loss: 0.5809 - acc: 0.7777 - val_loss: 0.5259 - val_acc: 0.7780\n",
      "Epoch 2/20\n",
      "19000/19000 [==============================] - 0s 9us/step - loss: 0.5039 - acc: 0.7822 - val_loss: 0.4914 - val_acc: 0.7786\n",
      "Epoch 3/20\n",
      "19000/19000 [==============================] - 0s 9us/step - loss: 0.4844 - acc: 0.7888 - val_loss: 0.4814 - val_acc: 0.7880\n",
      "Epoch 4/20\n",
      "19000/19000 [==============================] - 0s 7us/step - loss: 0.4763 - acc: 0.7963 - val_loss: 0.4756 - val_acc: 0.7958\n",
      "Epoch 5/20\n",
      "19000/19000 [==============================] - 0s 8us/step - loss: 0.4704 - acc: 0.8004 - val_loss: 0.4709 - val_acc: 0.7964\n",
      "Epoch 6/20\n",
      "19000/19000 [==============================] - 0s 7us/step - loss: 0.4656 - acc: 0.8024 - val_loss: 0.4674 - val_acc: 0.7994\n",
      "Epoch 7/20\n",
      "19000/19000 [==============================] - 0s 6us/step - loss: 0.4618 - acc: 0.8049 - val_loss: 0.4649 - val_acc: 0.8020\n",
      "Epoch 8/20\n",
      "19000/19000 [==============================] - 0s 7us/step - loss: 0.4587 - acc: 0.8069 - val_loss: 0.4624 - val_acc: 0.8042\n",
      "Epoch 9/20\n",
      "19000/19000 [==============================] - 0s 8us/step - loss: 0.4559 - acc: 0.8077 - val_loss: 0.4607 - val_acc: 0.8056\n",
      "Epoch 10/20\n",
      "19000/19000 [==============================] - 0s 7us/step - loss: 0.4536 - acc: 0.8080 - val_loss: 0.4604 - val_acc: 0.8090\n",
      "Epoch 11/20\n",
      "19000/19000 [==============================] - 0s 7us/step - loss: 0.4520 - acc: 0.8091 - val_loss: 0.4583 - val_acc: 0.8084\n",
      "Epoch 12/20\n",
      "19000/19000 [==============================] - 0s 7us/step - loss: 0.4505 - acc: 0.8097 - val_loss: 0.4586 - val_acc: 0.8092\n",
      "Epoch 13/20\n",
      "19000/19000 [==============================] - 0s 7us/step - loss: 0.4492 - acc: 0.8119 - val_loss: 0.4568 - val_acc: 0.8100\n",
      "Epoch 14/20\n",
      "19000/19000 [==============================] - 0s 7us/step - loss: 0.4482 - acc: 0.8121 - val_loss: 0.4571 - val_acc: 0.8096\n",
      "Epoch 15/20\n",
      "19000/19000 [==============================] - 0s 7us/step - loss: 0.4474 - acc: 0.8123 - val_loss: 0.4565 - val_acc: 0.8104\n",
      "Epoch 16/20\n",
      "19000/19000 [==============================] - 0s 8us/step - loss: 0.4464 - acc: 0.8145 - val_loss: 0.4547 - val_acc: 0.8084\n",
      "Epoch 17/20\n",
      "19000/19000 [==============================] - 0s 7us/step - loss: 0.4459 - acc: 0.8141 - val_loss: 0.4544 - val_acc: 0.8076\n",
      "Epoch 18/20\n",
      "19000/19000 [==============================] - 0s 10us/step - loss: 0.4452 - acc: 0.8144 - val_loss: 0.4540 - val_acc: 0.8110\n",
      "Epoch 19/20\n",
      "19000/19000 [==============================] - 0s 9us/step - loss: 0.4446 - acc: 0.8156 - val_loss: 0.4540 - val_acc: 0.8108\n",
      "Epoch 20/20\n",
      "19000/19000 [==============================] - 0s 7us/step - loss: 0.4440 - acc: 0.8161 - val_loss: 0.4532 - val_acc: 0.8074\n"
     ]
    }
   ],
   "source": [
    "# Fit the model\n",
    "history = model.fit(partial_X_train,\n",
    "  partial_y_train,\n",
    "  epochs=20,\n",
    "  batch_size=512,\n",
    "  validation_data=(x_val, y_val))"
   ]
  },
  {
   "cell_type": "code",
   "execution_count": 529,
   "metadata": {},
   "outputs": [
    {
     "data": {
      "text/plain": [
       "dict_keys(['val_loss', 'val_acc', 'loss', 'acc'])"
      ]
     },
     "execution_count": 529,
     "metadata": {},
     "output_type": "execute_result"
    }
   ],
   "source": [
    "# Have a look at the training history\n",
    "history_dict = history.history\n",
    "history_dict.keys()"
   ]
  },
  {
   "cell_type": "code",
   "execution_count": 530,
   "metadata": {},
   "outputs": [
    {
     "name": "stdout",
     "output_type": "stream",
     "text": [
      "[0.777999997138977, 0.7785999774932861, 0.7879999876022339, 0.795799970626831, 0.7964000105857849, 0.7993999719619751, 0.8019999861717224, 0.8041999936103821, 0.8055999875068665, 0.8090000152587891, 0.8083999752998352, 0.8091999888420105, 0.8100000023841858, 0.8095999956130981, 0.8104000091552734, 0.8083999752998352, 0.8076000213623047, 0.8109999895095825, 0.8108000159263611, 0.8073999881744385]\n"
     ]
    }
   ],
   "source": [
    "# Get accuracy on validation set\n",
    "acc = history_dict.get(\"acc\")\n",
    "val_acc = history_dict.get(\"val_acc\")\n",
    "print(val_acc)"
   ]
  },
  {
   "cell_type": "code",
   "execution_count": 531,
   "metadata": {},
   "outputs": [],
   "source": [
    "# Create values\n",
    "history_dict = history.history\n",
    "loss_values = history_dict['loss']\n",
    "val_loss_values = history_dict['val_loss']\n",
    "epochs = range(1, len(acc) + 1)"
   ]
  },
  {
   "cell_type": "code",
   "execution_count": 532,
   "metadata": {},
   "outputs": [
    {
     "data": {
      "image/png": "[encoded data removed]",
      "text/plain": [
       "<Figure size 432x288 with 1 Axes>"
      ]
     },
     "metadata": {
      "needs_background": "light"
     },
     "output_type": "display_data"
    }
   ],
   "source": [
    "# Create plot\n",
    "plt.plot(epochs, loss_values, 'bo', label='Training loss')\n",
    "plt.plot(epochs, val_loss_values, 'b', label='Validation loss')\n",
    "plt.title('Training and validation loss')\n",
    "plt.xlabel('Epochs')\n",
    "plt.ylabel('Loss')\n",
    "plt.legend()\n",
    "plt.show()"
   ]
  },
  {
   "cell_type": "code",
   "execution_count": 533,
   "metadata": {},
   "outputs": [
    {
     "data": {
      "image/png": "[encoded data removed]",
      "text/plain": [
       "<Figure size 432x288 with 1 Axes>"
      ]
     },
     "metadata": {
      "needs_background": "light"
     },
     "output_type": "display_data"
    }
   ],
   "source": [
    "# Create values\n",
    "acc_values = history_dict['acc']\n",
    "val_acc_values = history_dict['val_acc']\n",
    "epochs = range(1, len(acc_values) + 1)\n",
    "\n",
    "# Create plot\n",
    "plt.plot(epochs, acc_values, 'bo', label='Training acc')\n",
    "plt.plot(epochs, val_acc_values, 'b', label='Validation acc')\n",
    "plt.title('Training and validation accuracy')\n",
    "plt.xlabel('Epochs')\n",
    "plt.ylabel('Accuracy')\n",
    "plt.legend()\n",
    "plt.show()"
   ]
  },
  {
   "cell_type": "code",
   "execution_count": 534,
   "metadata": {},
   "outputs": [
    {
     "name": "stdout",
     "output_type": "stream",
     "text": [
      "Epoch 1/5\n",
      "24000/24000 [==============================] - 0s 16us/step - loss: 0.5568 - acc: 0.7771\n",
      "Epoch 2/5\n",
      "24000/24000 [==============================] - 0s 9us/step - loss: 0.4992 - acc: 0.7959\n",
      "Epoch 3/5\n",
      "24000/24000 [==============================] - 0s 8us/step - loss: 0.4753 - acc: 0.8020\n",
      "Epoch 4/5\n",
      "24000/24000 [==============================] - 0s 9us/step - loss: 0.4657 - acc: 0.8071\n",
      "Epoch 5/5\n",
      "24000/24000 [==============================] - 0s 8us/step - loss: 0.4626 - acc: 0.8089\n",
      "6000/6000 [==============================] - 0s 58us/step\n"
     ]
    }
   ],
   "source": [
    "model.compile(optimizer='rmsprop',\n",
    "  loss='binary_crossentropy',\n",
    "  metrics=['acc'])\n",
    "\n",
    "model.fit(X_train, y_train, epochs=5, batch_size=512)\n",
    "\n",
    "results_epoch = model.evaluate(X_test, y_test)"
   ]
  },
  {
   "cell_type": "markdown",
   "metadata": {},
   "source": [
    "**Q3**"
   ]
  },
  {
   "cell_type": "code",
   "execution_count": 535,
   "metadata": {},
   "outputs": [],
   "source": [
    "# Simple DNN: input data = vectors, labels = scalars\n",
    "model2 = models.Sequential()"
   ]
  },
  {
   "cell_type": "code",
   "execution_count": 536,
   "metadata": {},
   "outputs": [],
   "source": [
    "# Define the layers\n",
    "model2.add(layers.Dense(30, activation='sigmoid'))\n",
    "model2.add(layers.Dense(30, activation='sigmoid'))\n",
    "model2.add(layers.Dense(30, activation='sigmoid'))\n",
    "model2.add(layers.Dense(30, activation='sigmoid'))\n",
    "model2.add(layers.Dense(30, activation='sigmoid'))\n",
    "model2.add(layers.Dense(2, activation='sigmoid'))"
   ]
  },
  {
   "cell_type": "code",
   "execution_count": 537,
   "metadata": {},
   "outputs": [],
   "source": [
    "model2.compile(optimizer='rmsprop',\n",
    "  loss='categorical_crossentropy',\n",
    "  metrics=['acc'])"
   ]
  },
  {
   "cell_type": "code",
   "execution_count": 538,
   "metadata": {},
   "outputs": [
    {
     "name": "stdout",
     "output_type": "stream",
     "text": [
      "Train on 19000 samples, validate on 5000 samples\n",
      "Epoch 1/20\n",
      "19000/19000 [==============================] - 1s 29us/step - loss: 0.5844 - acc: 0.7454 - val_loss: 0.5337 - val_acc: 0.7750\n",
      "Epoch 2/20\n",
      "19000/19000 [==============================] - 0s 11us/step - loss: 0.5304 - acc: 0.7771 - val_loss: 0.5323 - val_acc: 0.7750\n",
      "Epoch 3/20\n",
      "19000/19000 [==============================] - 0s 11us/step - loss: 0.5291 - acc: 0.7771 - val_loss: 0.5312 - val_acc: 0.7750\n",
      "Epoch 4/20\n",
      "19000/19000 [==============================] - 0s 10us/step - loss: 0.5257 - acc: 0.7771 - val_loss: 0.5244 - val_acc: 0.7750\n",
      "Epoch 5/20\n",
      "19000/19000 [==============================] - 0s 10us/step - loss: 0.5165 - acc: 0.7771 - val_loss: 0.5129 - val_acc: 0.7750\n",
      "Epoch 6/20\n",
      "19000/19000 [==============================] - 0s 10us/step - loss: 0.4997 - acc: 0.7771 - val_loss: 0.4912 - val_acc: 0.7750\n",
      "Epoch 7/20\n",
      "19000/19000 [==============================] - 0s 10us/step - loss: 0.4804 - acc: 0.7801 - val_loss: 0.4765 - val_acc: 0.8018\n",
      "Epoch 8/20\n",
      "19000/19000 [==============================] - 0s 9us/step - loss: 0.4672 - acc: 0.8044 - val_loss: 0.4664 - val_acc: 0.8088\n",
      "Epoch 9/20\n",
      "19000/19000 [==============================] - 0s 11us/step - loss: 0.4624 - acc: 0.8066 - val_loss: 0.4647 - val_acc: 0.8076\n",
      "Epoch 10/20\n",
      "19000/19000 [==============================] - 0s 9us/step - loss: 0.4604 - acc: 0.8085 - val_loss: 0.4662 - val_acc: 0.8066\n",
      "Epoch 11/20\n",
      "19000/19000 [==============================] - 0s 10us/step - loss: 0.4589 - acc: 0.8098 - val_loss: 0.4638 - val_acc: 0.8072\n",
      "Epoch 12/20\n",
      "19000/19000 [==============================] - 0s 11us/step - loss: 0.4577 - acc: 0.8106 - val_loss: 0.4673 - val_acc: 0.8072\n",
      "Epoch 13/20\n",
      "19000/19000 [==============================] - 0s 10us/step - loss: 0.4571 - acc: 0.8111 - val_loss: 0.4641 - val_acc: 0.8056\n",
      "Epoch 14/20\n",
      "19000/19000 [==============================] - 0s 12us/step - loss: 0.4561 - acc: 0.8138 - val_loss: 0.4661 - val_acc: 0.8088\n",
      "Epoch 15/20\n",
      "19000/19000 [==============================] - 0s 12us/step - loss: 0.4558 - acc: 0.8128 - val_loss: 0.4630 - val_acc: 0.8064\n",
      "Epoch 16/20\n",
      "19000/19000 [==============================] - 0s 9us/step - loss: 0.4550 - acc: 0.8140 - val_loss: 0.4628 - val_acc: 0.8108\n",
      "Epoch 17/20\n",
      "19000/19000 [==============================] - 0s 9us/step - loss: 0.4543 - acc: 0.8144 - val_loss: 0.4609 - val_acc: 0.8106\n",
      "Epoch 18/20\n",
      "19000/19000 [==============================] - 0s 9us/step - loss: 0.4535 - acc: 0.8151 - val_loss: 0.4607 - val_acc: 0.8110\n",
      "Epoch 19/20\n",
      "19000/19000 [==============================] - 0s 9us/step - loss: 0.4534 - acc: 0.8162 - val_loss: 0.4620 - val_acc: 0.8108\n",
      "Epoch 20/20\n",
      "19000/19000 [==============================] - 0s 8us/step - loss: 0.4530 - acc: 0.8163 - val_loss: 0.4625 - val_acc: 0.8070\n"
     ]
    }
   ],
   "source": [
    "# Fit the model\n",
    "history2 = model2.fit(partial_X_train,\n",
    "  partial_y_train,\n",
    "  epochs=20,\n",
    "  batch_size=512,\n",
    "  validation_data=(x_val, y_val))"
   ]
  },
  {
   "cell_type": "code",
   "execution_count": 539,
   "metadata": {},
   "outputs": [
    {
     "data": {
      "text/plain": [
       "dict_keys(['val_loss', 'val_acc', 'loss', 'acc'])"
      ]
     },
     "execution_count": 539,
     "metadata": {},
     "output_type": "execute_result"
    }
   ],
   "source": [
    "# Have a look at the training history\n",
    "history_dict2 = history2.history\n",
    "history_dict2.keys()"
   ]
  },
  {
   "cell_type": "code",
   "execution_count": 540,
   "metadata": {},
   "outputs": [
    {
     "name": "stdout",
     "output_type": "stream",
     "text": [
      "[0.7749999761581421, 0.7749999761581421, 0.7749999761581421, 0.7749999761581421, 0.7749999761581421, 0.7749999761581421, 0.801800012588501, 0.8087999820709229, 0.8076000213623047, 0.8065999746322632, 0.807200014591217, 0.807200014591217, 0.8055999875068665, 0.8087999820709229, 0.8064000010490417, 0.8108000159263611, 0.8105999827384949, 0.8109999895095825, 0.8108000159263611, 0.8069999814033508]\n"
     ]
    }
   ],
   "source": [
    "# Get accuracy on validation set\n",
    "acc2 = history_dict2.get(\"acc\")\n",
    "val_acc2 = history_dict2.get(\"val_acc\")\n",
    "print(val_acc2)"
   ]
  },
  {
   "cell_type": "code",
   "execution_count": 541,
   "metadata": {},
   "outputs": [],
   "source": [
    "# Create values\n",
    "history_dict2 = history2.history\n",
    "loss_values2 = history_dict2['loss']\n",
    "val_loss_values2 = history_dict2['val_loss']\n",
    "epochs2 = range(1, len(acc) + 1)"
   ]
  },
  {
   "cell_type": "code",
   "execution_count": 542,
   "metadata": {},
   "outputs": [
    {
     "data": {
      "image/png": "[encoded data removed]",
      "text/plain": [
       "<Figure size 432x288 with 1 Axes>"
      ]
     },
     "metadata": {
      "needs_background": "light"
     },
     "output_type": "display_data"
    }
   ],
   "source": [
    "# Create plot\n",
    "plt.plot(epochs2, loss_values2, 'bo', label='Training loss')\n",
    "plt.plot(epochs2, val_loss_values2, 'b', label='Validation loss')\n",
    "plt.title('Training and validation loss')\n",
    "plt.xlabel('Epochs')\n",
    "plt.ylabel('Loss')\n",
    "plt.legend()\n",
    "plt.show()"
   ]
  },
  {
   "cell_type": "code",
   "execution_count": 543,
   "metadata": {},
   "outputs": [
    {
     "data": {
      "image/png": "[encoded data removed]",
      "text/plain": [
       "<Figure size 432x288 with 1 Axes>"
      ]
     },
     "metadata": {
      "needs_background": "light"
     },
     "output_type": "display_data"
    }
   ],
   "source": [
    "# Create values\n",
    "acc_values2 = history_dict2['acc']\n",
    "val_acc_values2 = history_dict2['val_acc']\n",
    "epochs2 = range(1, len(acc_values2) + 1)\n",
    "\n",
    "# Create plot\n",
    "plt.plot(epochs2, acc_values2, 'bo', label='Training acc')\n",
    "plt.plot(epochs2, val_acc_values2, 'b', label='Validation acc')\n",
    "plt.title('Training and validation accuracy')\n",
    "plt.xlabel('Epochs')\n",
    "plt.ylabel('Accuracy')\n",
    "plt.legend()\n",
    "plt.show()"
   ]
  },
  {
   "cell_type": "code",
   "execution_count": 544,
   "metadata": {},
   "outputs": [
    {
     "name": "stdout",
     "output_type": "stream",
     "text": [
      "Epoch 1/15\n",
      "24000/24000 [==============================] - 0s 11us/step - loss: 0.4613 - acc: 0.8093\n",
      "Epoch 2/15\n",
      "24000/24000 [==============================] - 0s 6us/step - loss: 0.4602 - acc: 0.8103\n",
      "Epoch 3/15\n",
      "24000/24000 [==============================] - 0s 7us/step - loss: 0.4594 - acc: 0.8095\n",
      "Epoch 4/15\n",
      "24000/24000 [==============================] - 0s 6us/step - loss: 0.4586 - acc: 0.8107\n",
      "Epoch 5/15\n",
      "24000/24000 [==============================] - 0s 7us/step - loss: 0.4579 - acc: 0.8093\n",
      "Epoch 6/15\n",
      "24000/24000 [==============================] - 0s 7us/step - loss: 0.4573 - acc: 0.8099\n",
      "Epoch 7/15\n",
      "24000/24000 [==============================] - 0s 5us/step - loss: 0.4565 - acc: 0.8101\n",
      "Epoch 8/15\n",
      "24000/24000 [==============================] - 0s 6us/step - loss: 0.4559 - acc: 0.8097\n",
      "Epoch 9/15\n",
      "24000/24000 [==============================] - 0s 7us/step - loss: 0.4553 - acc: 0.8109\n",
      "Epoch 10/15\n",
      "24000/24000 [==============================] - 0s 6us/step - loss: 0.4546 - acc: 0.8111\n",
      "Epoch 11/15\n",
      "24000/24000 [==============================] - 0s 4us/step - loss: 0.4539 - acc: 0.8106\n",
      "Epoch 12/15\n",
      "24000/24000 [==============================] - 0s 5us/step - loss: 0.4534 - acc: 0.8111\n",
      "Epoch 13/15\n",
      "24000/24000 [==============================] - 0s 6us/step - loss: 0.4527 - acc: 0.8114\n",
      "Epoch 14/15\n",
      "24000/24000 [==============================] - 0s 6us/step - loss: 0.4520 - acc: 0.8115\n",
      "Epoch 15/15\n",
      "24000/24000 [==============================] - 0s 7us/step - loss: 0.4514 - acc: 0.8125\n",
      "6000/6000 [==============================] - 0s 34us/step\n"
     ]
    }
   ],
   "source": [
    "model.compile(optimizer='rmsprop',\n",
    "  loss='binary_crossentropy',\n",
    "  metrics=['acc'])\n",
    "\n",
    "model.fit(X_train, y_train, epochs=15, batch_size=512)\n",
    "\n",
    "results_epoch = model.evaluate(X_test, y_test)"
   ]
  },
  {
   "cell_type": "markdown",
   "metadata": {},
   "source": [
    "**Q4**"
   ]
  },
  {
   "cell_type": "markdown",
   "metadata": {},
   "source": [
    "***1) Decision Tree:***"
   ]
  },
  {
   "cell_type": "code",
   "execution_count": 570,
   "metadata": {},
   "outputs": [],
   "source": [
    "from sklearn.tree import DecisionTreeClassifier"
   ]
  },
  {
   "cell_type": "code",
   "execution_count": 556,
   "metadata": {},
   "outputs": [],
   "source": [
    "y_train2 = np.asarray(y_train2).astype('float32')\n",
    "y_test2 = np.asarray(y_test2).astype('float32')"
   ]
  },
  {
   "cell_type": "code",
   "execution_count": 562,
   "metadata": {},
   "outputs": [],
   "source": [
    "# Create Decision Tree classifer object\n",
    "clf = DecisionTreeClassifier()\n",
    "\n",
    "# Train Decision Tree Classifer\n",
    "clf = clf.fit(X_train2,y_train2)\n",
    "\n",
    "# Predict the response for test dataset\n",
    "y_pred = clf.predict(X_test2)"
   ]
  },
  {
   "cell_type": "code",
   "execution_count": 563,
   "metadata": {},
   "outputs": [
    {
     "name": "stdout",
     "output_type": "stream",
     "text": [
      "Accuracy: 0.7118333333333333\n"
     ]
    }
   ],
   "source": [
    "print(\"Accuracy:\",metrics.accuracy_score(y_test2, y_pred))"
   ]
  },
  {
   "cell_type": "markdown",
   "metadata": {},
   "source": [
    "***2) Logistic Regression:***"
   ]
  },
  {
   "cell_type": "code",
   "execution_count": 510,
   "metadata": {},
   "outputs": [],
   "source": [
    "from sklearn.linear_model import LogisticRegression"
   ]
  },
  {
   "cell_type": "code",
   "execution_count": 564,
   "metadata": {},
   "outputs": [
    {
     "name": "stderr",
     "output_type": "stream",
     "text": [
      "C:\\ProgramData\\Anaconda3\\lib\\site-packages\\sklearn\\linear_model\\logistic.py:432: FutureWarning: Default solver will be changed to 'lbfgs' in 0.22. Specify a solver to silence this warning.\n",
      "  FutureWarning)\n",
      "C:\\ProgramData\\Anaconda3\\lib\\site-packages\\sklearn\\utils\\validation.py:724: DataConversionWarning: A column-vector y was passed when a 1d array was expected. Please change the shape of y to (n_samples, ), for example using ravel().\n",
      "  y = column_or_1d(y, warn=True)\n"
     ]
    }
   ],
   "source": [
    "# Create Logistic Regression classifer object\n",
    "log_reg = LogisticRegression()\n",
    "\n",
    "# Train Logistic Regression Classifer\n",
    "log_reg = log_reg.fit(X_train2,y_train2)\n",
    "\n",
    "# Predict the response for test dataset\n",
    "y_pred = log_reg.predict(X_test2)"
   ]
  },
  {
   "cell_type": "code",
   "execution_count": 565,
   "metadata": {},
   "outputs": [
    {
     "name": "stdout",
     "output_type": "stream",
     "text": [
      "Accuracy: 0.8215\n"
     ]
    }
   ],
   "source": [
    "print(\"Accuracy:\",metrics.accuracy_score(y_test2, y_pred))"
   ]
  },
  {
   "cell_type": "markdown",
   "metadata": {},
   "source": [
    "***3) KNN Model:***"
   ]
  },
  {
   "cell_type": "code",
   "execution_count": 566,
   "metadata": {},
   "outputs": [],
   "source": [
    "from sklearn.neighbors import KNeighborsClassifier"
   ]
  },
  {
   "cell_type": "code",
   "execution_count": 567,
   "metadata": {},
   "outputs": [
    {
     "name": "stderr",
     "output_type": "stream",
     "text": [
      "C:\\ProgramData\\Anaconda3\\lib\\site-packages\\ipykernel_launcher.py:5: DataConversionWarning: A column-vector y was passed when a 1d array was expected. Please change the shape of y to (n_samples, ), for example using ravel().\n",
      "  \"\"\"\n"
     ]
    }
   ],
   "source": [
    "# Create KNN classifer object\n",
    "knn_c = KNeighborsClassifier()\n",
    "\n",
    "# Train KNN Classifer\n",
    "knn_c = knn_c.fit(X_train2,y_train2)\n",
    "\n",
    "# Predict the response for test dataset\n",
    "y_pred = knn_c.predict(X_test2)"
   ]
  },
  {
   "cell_type": "code",
   "execution_count": 568,
   "metadata": {},
   "outputs": [
    {
     "name": "stdout",
     "output_type": "stream",
     "text": [
      "Accuracy: 0.7966666666666666\n"
     ]
    }
   ],
   "source": [
    "print(\"Accuracy:\",metrics.accuracy_score(y_test2, y_pred))"
   ]
  },
  {
   "cell_type": "markdown",
   "metadata": {},
   "source": [
    "***4) KNN Model:***"
   ]
  },
  {
   "cell_type": "code",
   "execution_count": 571,
   "metadata": {},
   "outputs": [],
   "source": [
    "from sklearn.naive_bayes import GaussianNB"
   ]
  },
  {
   "cell_type": "code",
   "execution_count": 572,
   "metadata": {},
   "outputs": [
    {
     "name": "stderr",
     "output_type": "stream",
     "text": [
      "C:\\ProgramData\\Anaconda3\\lib\\site-packages\\sklearn\\utils\\validation.py:724: DataConversionWarning: A column-vector y was passed when a 1d array was expected. Please change the shape of y to (n_samples, ), for example using ravel().\n",
      "  y = column_or_1d(y, warn=True)\n"
     ]
    }
   ],
   "source": [
    "# Create GNV classifer object\n",
    "gnv = GaussianNB()\n",
    "\n",
    "# Train GNV Classifer\n",
    "gnv = gnv.fit(X_train2,y_train2)\n",
    "\n",
    "# Predict the response for test dataset\n",
    "y_pred = gnv.predict(X_test2)"
   ]
  },
  {
   "cell_type": "code",
   "execution_count": 573,
   "metadata": {},
   "outputs": [
    {
     "name": "stdout",
     "output_type": "stream",
     "text": [
      "Accuracy: 0.7388333333333333\n"
     ]
    }
   ],
   "source": [
    "print(\"Accuracy:\",metrics.accuracy_score(y_test2, y_pred))"
   ]
  },
  {
   "cell_type": "markdown",
   "metadata": {},
   "source": [
    "***5) SVC Model:***"
   ]
  },
  {
   "cell_type": "code",
   "execution_count": 575,
   "metadata": {},
   "outputs": [],
   "source": [
    "from sklearn.svm import SVC"
   ]
  },
  {
   "cell_type": "code",
   "execution_count": 576,
   "metadata": {},
   "outputs": [
    {
     "name": "stderr",
     "output_type": "stream",
     "text": [
      "C:\\ProgramData\\Anaconda3\\lib\\site-packages\\sklearn\\utils\\validation.py:724: DataConversionWarning: A column-vector y was passed when a 1d array was expected. Please change the shape of y to (n_samples, ), for example using ravel().\n",
      "  y = column_or_1d(y, warn=True)\n"
     ]
    }
   ],
   "source": [
    "# Create SVC object\n",
    "svc = SVC()\n",
    "\n",
    "# Train SVC\n",
    "svc = svc.fit(X_train2,y_train2)\n",
    "\n",
    "# Predict the response for test dataset\n",
    "y_pred = svc.predict(X_test2)"
   ]
  },
  {
   "cell_type": "code",
   "execution_count": 577,
   "metadata": {},
   "outputs": [
    {
     "name": "stdout",
     "output_type": "stream",
     "text": [
      "Accuracy: 0.8306666666666667\n"
     ]
    }
   ],
   "source": [
    "print(\"Accuracy:\",metrics.accuracy_score(y_test2, y_pred))"
   ]
  },
  {
   "cell_type": "markdown",
   "metadata": {},
   "source": [
    "**Conclusions:** In general terms, we can say that Neural Network models tends to show a better and more stable performance than other models. However, this will always depend on the particular case one is dealing with. For instance, in this case it seems that SVC model presented a better performance (even with no CV processes). So, if I would have to choose between a SVC and a NN to present to a client, probably I would choose the easiest one to understand, which would be SVC model."
   ]
  }
 ],
 "metadata": {
  "kernelspec": {
   "display_name": "Python 3",
   "language": "python",
   "name": "python3"
  },
  "language_info": {
   "codemirror_mode": {
    "name": "ipython",
    "version": 3
   },
   "file_extension": ".py",
   "mimetype": "text/x-python",
   "name": "python",
   "nbconvert_exporter": "python",
   "pygments_lexer": "ipython3",
   "version": "3.7.1"
  }
 },
 "nbformat": 4,
 "nbformat_minor": 2
}
