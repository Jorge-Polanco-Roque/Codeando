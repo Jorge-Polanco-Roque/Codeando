{
 "cells": [
  {
   "cell_type": "markdown",
   "metadata": {},
   "source": [
    "# Homework #3 - Jorge Polanco"
   ]
  },
  {
   "cell_type": "markdown",
   "metadata": {},
   "source": [
    "## Chapter 5:"
   ]
  },
  {
   "cell_type": "markdown",
   "metadata": {},
   "source": [
    "***Exercise 3***"
   ]
  },
  {
   "cell_type": "markdown",
   "metadata": {},
   "source": [
    "a)"
   ]
  },
  {
   "cell_type": "code",
   "execution_count": 2,
   "metadata": {},
   "outputs": [],
   "source": [
    "# First of all, we have to select the number of k-folds, \n",
    "# which is equal to the number of times we are going to divide the dataset in equally separated splits.\n",
    "# For instances, we decided to have k=5. \n",
    "# So, 1 out of these 5 is going to be the validation set, the rest will be the training set.\n",
    "# We can repeat the last process 5 times, which will give back 5 different models.\n",
    "# Finally, the Mean Squared Error is calculated."
   ]
  },
  {
   "cell_type": "markdown",
   "metadata": {},
   "source": [
    "b)"
   ]
  },
  {
   "cell_type": "code",
   "execution_count": null,
   "metadata": {},
   "outputs": [],
   "source": [
    "# Cross Validation: - variance, but + bias\n",
    "# Leave One Out Cross Validation: + variance, but - bias"
   ]
  },
  {
   "cell_type": "markdown",
   "metadata": {},
   "source": [
    "***Exercise 3***"
   ]
  },
  {
   "cell_type": "markdown",
   "metadata": {},
   "source": [
    "a)"
   ]
  },
  {
   "cell_type": "code",
   "execution_count": 4,
   "metadata": {},
   "outputs": [],
   "source": [
    "set.seed(1)\n",
    "x = rnorm(100)\n",
    "y = x-2*x**2+rnorm(100)\n",
    "\n",
    "# n = 100 observations\n",
    "# p = 2 features"
   ]
  },
  {
   "cell_type": "markdown",
   "metadata": {},
   "source": [
    "b)"
   ]
  },
  {
   "cell_type": "code",
   "execution_count": 5,
   "metadata": {},
   "outputs": [
    {
     "data": {
      "image/png": "[encoded data removed]",
      "text/plain": [
       "Plot with title \"Scatterplot\""
      ]
     },
     "metadata": {
      "image/png": {
       "height": 420,
       "width": 420
      },
      "text/plain": {
       "height": 420,
       "width": 420
      }
     },
     "output_type": "display_data"
    }
   ],
   "source": [
    "# This relationship has a parabol-shape, which is explained by the second feature.\n",
    "plot(x, y, main=\"Scatterplot\", xlab=\"x\", ylab=\"y\", pch=19)"
   ]
  },
  {
   "cell_type": "markdown",
   "metadata": {},
   "source": [
    "c)"
   ]
  },
  {
   "cell_type": "code",
   "execution_count": 69,
   "metadata": {},
   "outputs": [
    {
     "name": "stderr",
     "output_type": "stream",
     "text": [
      "Installing package into 'C:/Users/jpolancoroque/Documents/R/win-library/3.6'\n",
      "(as 'lib' is unspecified)\n",
      "\n",
      "also installing the dependency 'MASS'\n",
      "\n",
      "\n"
     ]
    },
    {
     "name": "stdout",
     "output_type": "stream",
     "text": [
      "package 'MASS' successfully unpacked and MD5 sums checked\n",
      "package 'boot' successfully unpacked and MD5 sums checked\n",
      "\n",
      "The downloaded binary packages are in\n",
      "\tC:\\Users\\jpolancoroque\\AppData\\Local\\Temp\\RtmpAh3Q4x\\downloaded_packages\n"
     ]
    },
    {
     "name": "stderr",
     "output_type": "stream",
     "text": [
      "Warning message:\n",
      "\"package 'boot' was built under R version 3.6.2\"\n"
     ]
    }
   ],
   "source": [
    "install.packages(\"boot\",dep=TRUE)\n",
    "library(boot)"
   ]
  },
  {
   "cell_type": "code",
   "execution_count": 70,
   "metadata": {},
   "outputs": [
    {
     "name": "stdout",
     "output_type": "stream",
     "text": [
      "\n",
      "Call:  glm(formula = y ~ x, data = tabla)\n",
      "\n",
      "Coefficients:\n",
      "(Intercept)            x  \n",
      "    -1.6254       0.6925  \n",
      "\n",
      "Degrees of Freedom: 99 Total (i.e. Null);  98 Residual\n",
      "Null Deviance:\t    700.9 \n",
      "Residual Deviance: 662.6 \tAIC: 478.9\n",
      "\n",
      "Call:  glm(formula = y ~ x + x2, data = tabla)\n",
      "\n",
      "Coefficients:\n",
      "(Intercept)            x           x2  \n",
      "    0.05672      1.01716     -2.11892  \n",
      "\n",
      "Degrees of Freedom: 99 Total (i.e. Null);  97 Residual\n",
      "Null Deviance:\t    700.9 \n",
      "Residual Deviance: 89.03 \tAIC: 280.2\n",
      "\n",
      "Call:  glm(formula = y ~ x + x2 + x3, data = tabla)\n",
      "\n",
      "Coefficients:\n",
      "(Intercept)            x           x2           x3  \n",
      "    0.06151      0.97528     -2.12379      0.01764  \n",
      "\n",
      "Degrees of Freedom: 99 Total (i.e. Null);  96 Residual\n",
      "Null Deviance:\t    700.9 \n",
      "Residual Deviance: 88.96 \tAIC: 282.1\n",
      "\n",
      "Call:  glm(formula = y ~ x + x2 + x3 + x4, data = tabla)\n",
      "\n",
      "Coefficients:\n",
      "(Intercept)            x           x2           x3           x4  \n",
      "   0.156703     1.030826    -2.409898    -0.009133     0.069785  \n",
      "\n",
      "Degrees of Freedom: 99 Total (i.e. Null);  95 Residual\n",
      "Null Deviance:\t    700.9 \n",
      "Residual Deviance: 87.38 \tAIC: 282.3\n"
     ]
    },
    {
     "data": {
      "text/html": [
       "<style>\n",
       ".list-inline {list-style: none; margin:0; padding: 0}\n",
       ".list-inline>li {display: inline-block}\n",
       ".list-inline>li:not(:last-child)::after {content: \"\\00b7\"; padding: 0 .5ex}\n",
       "</style>\n",
       "<ol class=list-inline><li>7.28816160667281</li><li>7.28474411546929</li></ol>\n"
      ],
      "text/latex": [
       "\\begin{enumerate*}\n",
       "\\item 7.28816160667281\n",
       "\\item 7.28474411546929\n",
       "\\end{enumerate*}\n"
      ],
      "text/markdown": [
       "1. 7.28816160667281\n",
       "2. 7.28474411546929\n",
       "\n",
       "\n"
      ],
      "text/plain": [
       "[1] 7.288162 7.284744"
      ]
     },
     "metadata": {},
     "output_type": "display_data"
    },
    {
     "data": {
      "text/html": [
       "<style>\n",
       ".list-inline {list-style: none; margin:0; padding: 0}\n",
       ".list-inline>li {display: inline-block}\n",
       ".list-inline>li:not(:last-child)::after {content: \"\\00b7\"; padding: 0 .5ex}\n",
       "</style>\n",
       "<ol class=list-inline><li>0.937423637615552</li><li>0.937178917181123</li></ol>\n"
      ],
      "text/latex": [
       "\\begin{enumerate*}\n",
       "\\item 0.937423637615552\n",
       "\\item 0.937178917181123\n",
       "\\end{enumerate*}\n"
      ],
      "text/markdown": [
       "1. 0.937423637615552\n",
       "2. 0.937178917181123\n",
       "\n",
       "\n"
      ],
      "text/plain": [
       "[1] 0.9374236 0.9371789"
      ]
     },
     "metadata": {},
     "output_type": "display_data"
    },
    {
     "data": {
      "text/html": [
       "<style>\n",
       ".list-inline {list-style: none; margin:0; padding: 0}\n",
       ".list-inline>li {display: inline-block}\n",
       ".list-inline>li:not(:last-child)::after {content: \"\\00b7\"; padding: 0 .5ex}\n",
       "</style>\n",
       "<ol class=list-inline><li>0.937423637615552</li><li>0.937178917181123</li></ol>\n"
      ],
      "text/latex": [
       "\\begin{enumerate*}\n",
       "\\item 0.937423637615552\n",
       "\\item 0.937178917181123\n",
       "\\end{enumerate*}\n"
      ],
      "text/markdown": [
       "1. 0.937423637615552\n",
       "2. 0.937178917181123\n",
       "\n",
       "\n"
      ],
      "text/plain": [
       "[1] 0.9374236 0.9371789"
      ]
     },
     "metadata": {},
     "output_type": "display_data"
    },
    {
     "data": {
      "text/html": [
       "<style>\n",
       ".list-inline {list-style: none; margin:0; padding: 0}\n",
       ".list-inline>li {display: inline-block}\n",
       ".list-inline>li:not(:last-child)::after {content: \"\\00b7\"; padding: 0 .5ex}\n",
       "</style>\n",
       "<ol class=list-inline><li>0.953904892744804</li><li>0.953445283156601</li></ol>\n"
      ],
      "text/latex": [
       "\\begin{enumerate*}\n",
       "\\item 0.953904892744804\n",
       "\\item 0.953445283156601\n",
       "\\end{enumerate*}\n"
      ],
      "text/markdown": [
       "1. 0.953904892744804\n",
       "2. 0.953445283156601\n",
       "\n",
       "\n"
      ],
      "text/plain": [
       "[1] 0.9539049 0.9534453"
      ]
     },
     "metadata": {},
     "output_type": "display_data"
    }
   ],
   "source": [
    "set.seed(1)\n",
    "\n",
    "# Creating a dataframe\n",
    "tabla = data.frame(y, x, x2 = x**2, x3 = x**3, x4 = x**4)\n",
    "\n",
    "# Defining my regressions\n",
    "reg1 = glm(y ~ x, data=tabla)\n",
    "reg2 = glm(y ~ x + x2, data=tabla)\n",
    "reg3 = glm(y ~ x + x2 + x3, data=tabla)\n",
    "reg4 = glm(y ~ x + x2 + x3 + x4, data=tabla)\n",
    "\n",
    "print(reg1)\n",
    "print(reg2)\n",
    "print(reg3)\n",
    "print(reg4)\n",
    "\n",
    "# LOOCV error\n",
    "error1 = cv.glm(tabla, reg1)\n",
    "error1$delta\n",
    "\n",
    "error2 = cv.glm(tabla, reg2)\n",
    "error2$delta\n",
    "\n",
    "error3 = cv.glm(tabla, reg3)\n",
    "error2$delta\n",
    "\n",
    "error4 = cv.glm(tabla, reg4)\n",
    "error4$delta"
   ]
  },
  {
   "cell_type": "code",
   "execution_count": 62,
   "metadata": {},
   "outputs": [
    {
     "name": "stdout",
     "output_type": "stream",
     "text": [
      "\n",
      "Call:  glm(formula = y ~ x, data = tabla)\n",
      "\n",
      "Coefficients:\n",
      "(Intercept)            x  \n",
      "    -1.6254       0.6925  \n",
      "\n",
      "Degrees of Freedom: 99 Total (i.e. Null);  98 Residual\n",
      "Null Deviance:\t    700.9 \n",
      "Residual Deviance: 662.6 \tAIC: 478.9\n",
      "\n",
      "Call:  glm(formula = y ~ x + x2, data = tabla)\n",
      "\n",
      "Coefficients:\n",
      "(Intercept)            x           x2  \n",
      "    0.05672      1.01716     -2.11892  \n",
      "\n",
      "Degrees of Freedom: 99 Total (i.e. Null);  97 Residual\n",
      "Null Deviance:\t    700.9 \n",
      "Residual Deviance: 89.03 \tAIC: 280.2\n",
      "\n",
      "Call:  glm(formula = y ~ x + x2 + x3, data = tabla)\n",
      "\n",
      "Coefficients:\n",
      "(Intercept)            x           x2           x3  \n",
      "    0.06151      0.97528     -2.12379      0.01764  \n",
      "\n",
      "Degrees of Freedom: 99 Total (i.e. Null);  96 Residual\n",
      "Null Deviance:\t    700.9 \n",
      "Residual Deviance: 88.96 \tAIC: 282.1\n",
      "\n",
      "Call:  glm(formula = y ~ x + x2 + x3 + x4, data = tabla)\n",
      "\n",
      "Coefficients:\n",
      "(Intercept)            x           x2           x3           x4  \n",
      "   0.156703     1.030826    -2.409898    -0.009133     0.069785  \n",
      "\n",
      "Degrees of Freedom: 99 Total (i.e. Null);  95 Residual\n",
      "Null Deviance:\t    700.9 \n",
      "Residual Deviance: 87.38 \tAIC: 282.3\n"
     ]
    },
    {
     "ename": "ERROR",
     "evalue": "Error in cv.glm(tabla, reg1): could not find function \"cv.glm\"\n",
     "output_type": "error",
     "traceback": [
      "Error in cv.glm(tabla, reg1): could not find function \"cv.glm\"\nTraceback:\n"
     ]
    }
   ],
   "source": [
    "set.seed(2)\n",
    "\n",
    "# Creating a dataframe\n",
    "tabla = data.frame(y, x, x2 = x**2, x3 = x**3, x4 = x**4)\n",
    "\n",
    "# Defining my regressions\n",
    "reg1 = glm(y ~ x, data=tabla)\n",
    "reg2 = glm(y ~ x + x2, data=tabla)\n",
    "reg3 = glm(y ~ x + x2 + x3, data=tabla)\n",
    "reg4 = glm(y ~ x + x2 + x3 + x4, data=tabla)\n",
    "\n",
    "print(reg1)\n",
    "print(reg2)\n",
    "print(reg3)\n",
    "print(reg4)\n",
    "\n",
    "# LOOCV error\n",
    "error1 = cv.glm(tabla, reg1)\n",
    "error1$delta\n",
    "\n",
    "error2 = cv.glm(tabla, reg2)\n",
    "error2$delta\n",
    "\n",
    "error3 = cv.glm(tabla, reg3)\n",
    "error2$delta\n",
    "\n",
    "error4 = cv.glm(tabla, reg4)\n",
    "error4$delta"
   ]
  },
  {
   "cell_type": "markdown",
   "metadata": {},
   "source": [
    "d)"
   ]
  },
  {
   "cell_type": "code",
   "execution_count": 71,
   "metadata": {},
   "outputs": [
    {
     "name": "stdout",
     "output_type": "stream",
     "text": [
      "\n",
      "Call:  glm(formula = y ~ x, data = tabla)\n",
      "\n",
      "Coefficients:\n",
      "(Intercept)            x  \n",
      "    -1.6254       0.6925  \n",
      "\n",
      "Degrees of Freedom: 99 Total (i.e. Null);  98 Residual\n",
      "Null Deviance:\t    700.9 \n",
      "Residual Deviance: 662.6 \tAIC: 478.9\n",
      "\n",
      "Call:  glm(formula = y ~ x + x2, data = tabla)\n",
      "\n",
      "Coefficients:\n",
      "(Intercept)            x           x2  \n",
      "    0.05672      1.01716     -2.11892  \n",
      "\n",
      "Degrees of Freedom: 99 Total (i.e. Null);  97 Residual\n",
      "Null Deviance:\t    700.9 \n",
      "Residual Deviance: 89.03 \tAIC: 280.2\n",
      "\n",
      "Call:  glm(formula = y ~ x + x2 + x3, data = tabla)\n",
      "\n",
      "Coefficients:\n",
      "(Intercept)            x           x2           x3  \n",
      "    0.06151      0.97528     -2.12379      0.01764  \n",
      "\n",
      "Degrees of Freedom: 99 Total (i.e. Null);  96 Residual\n",
      "Null Deviance:\t    700.9 \n",
      "Residual Deviance: 88.96 \tAIC: 282.1\n",
      "\n",
      "Call:  glm(formula = y ~ x + x2 + x3 + x4, data = tabla)\n",
      "\n",
      "Coefficients:\n",
      "(Intercept)            x           x2           x3           x4  \n",
      "   0.156703     1.030826    -2.409898    -0.009133     0.069785  \n",
      "\n",
      "Degrees of Freedom: 99 Total (i.e. Null);  95 Residual\n",
      "Null Deviance:\t    700.9 \n",
      "Residual Deviance: 87.38 \tAIC: 282.3\n"
     ]
    },
    {
     "data": {
      "text/html": [
       "<style>\n",
       ".list-inline {list-style: none; margin:0; padding: 0}\n",
       ".list-inline>li {display: inline-block}\n",
       ".list-inline>li:not(:last-child)::after {content: \"\\00b7\"; padding: 0 .5ex}\n",
       "</style>\n",
       "<ol class=list-inline><li>7.28816160667281</li><li>7.2847441154693</li></ol>\n"
      ],
      "text/latex": [
       "\\begin{enumerate*}\n",
       "\\item 7.28816160667281\n",
       "\\item 7.2847441154693\n",
       "\\end{enumerate*}\n"
      ],
      "text/markdown": [
       "1. 7.28816160667281\n",
       "2. 7.2847441154693\n",
       "\n",
       "\n"
      ],
      "text/plain": [
       "[1] 7.288162 7.284744"
      ]
     },
     "metadata": {},
     "output_type": "display_data"
    },
    {
     "data": {
      "text/html": [
       "<style>\n",
       ".list-inline {list-style: none; margin:0; padding: 0}\n",
       ".list-inline>li {display: inline-block}\n",
       ".list-inline>li:not(:last-child)::after {content: \"\\00b7\"; padding: 0 .5ex}\n",
       "</style>\n",
       "<ol class=list-inline><li>0.937423637615552</li><li>0.937178917181122</li></ol>\n"
      ],
      "text/latex": [
       "\\begin{enumerate*}\n",
       "\\item 0.937423637615552\n",
       "\\item 0.937178917181122\n",
       "\\end{enumerate*}\n"
      ],
      "text/markdown": [
       "1. 0.937423637615552\n",
       "2. 0.937178917181122\n",
       "\n",
       "\n"
      ],
      "text/plain": [
       "[1] 0.9374236 0.9371789"
      ]
     },
     "metadata": {},
     "output_type": "display_data"
    },
    {
     "data": {
      "text/html": [
       "<style>\n",
       ".list-inline {list-style: none; margin:0; padding: 0}\n",
       ".list-inline>li {display: inline-block}\n",
       ".list-inline>li:not(:last-child)::after {content: \"\\00b7\"; padding: 0 .5ex}\n",
       "</style>\n",
       "<ol class=list-inline><li>0.937423637615552</li><li>0.937178917181122</li></ol>\n"
      ],
      "text/latex": [
       "\\begin{enumerate*}\n",
       "\\item 0.937423637615552\n",
       "\\item 0.937178917181122\n",
       "\\end{enumerate*}\n"
      ],
      "text/markdown": [
       "1. 0.937423637615552\n",
       "2. 0.937178917181122\n",
       "\n",
       "\n"
      ],
      "text/plain": [
       "[1] 0.9374236 0.9371789"
      ]
     },
     "metadata": {},
     "output_type": "display_data"
    },
    {
     "data": {
      "text/html": [
       "<style>\n",
       ".list-inline {list-style: none; margin:0; padding: 0}\n",
       ".list-inline>li {display: inline-block}\n",
       ".list-inline>li:not(:last-child)::after {content: \"\\00b7\"; padding: 0 .5ex}\n",
       "</style>\n",
       "<ol class=list-inline><li>0.953904892744804</li><li>0.953445283156601</li></ol>\n"
      ],
      "text/latex": [
       "\\begin{enumerate*}\n",
       "\\item 0.953904892744804\n",
       "\\item 0.953445283156601\n",
       "\\end{enumerate*}\n"
      ],
      "text/markdown": [
       "1. 0.953904892744804\n",
       "2. 0.953445283156601\n",
       "\n",
       "\n"
      ],
      "text/plain": [
       "[1] 0.9539049 0.9534453"
      ]
     },
     "metadata": {},
     "output_type": "display_data"
    }
   ],
   "source": [
    "set.seed(2)\n",
    "\n",
    "# Creating a dataframe\n",
    "tabla = data.frame(y, x, x2 = x**2, x3 = x**3, x4 = x**4)\n",
    "\n",
    "# Defining my regressions\n",
    "reg1 = glm(y ~ x, data=tabla)\n",
    "reg2 = glm(y ~ x + x2, data=tabla)\n",
    "reg3 = glm(y ~ x + x2 + x3, data=tabla)\n",
    "reg4 = glm(y ~ x + x2 + x3 + x4, data=tabla)\n",
    "\n",
    "print(reg1)\n",
    "print(reg2)\n",
    "print(reg3)\n",
    "print(reg4)\n",
    "\n",
    "# LOOCV error\n",
    "error1 = cv.glm(tabla, reg1)\n",
    "error1$delta\n",
    "\n",
    "error2 = cv.glm(tabla, reg2)\n",
    "error2$delta\n",
    "\n",
    "error3 = cv.glm(tabla, reg3)\n",
    "error2$delta\n",
    "\n",
    "error4 = cv.glm(tabla, reg4)\n",
    "error4$delta"
   ]
  },
  {
   "cell_type": "markdown",
   "metadata": {},
   "source": [
    "e)"
   ]
  },
  {
   "cell_type": "code",
   "execution_count": 63,
   "metadata": {},
   "outputs": [],
   "source": [
    "# First one, present the lowest AIC, which is better."
   ]
  },
  {
   "cell_type": "markdown",
   "metadata": {},
   "source": [
    "f)"
   ]
  },
  {
   "cell_type": "code",
   "execution_count": null,
   "metadata": {},
   "outputs": [],
   "source": [
    "# Yes"
   ]
  },
  {
   "cell_type": "markdown",
   "metadata": {},
   "source": [
    "## Chapter 6:"
   ]
  },
  {
   "cell_type": "markdown",
   "metadata": {},
   "source": [
    "***Exercise 1***"
   ]
  },
  {
   "cell_type": "markdown",
   "metadata": {},
   "source": [
    "a)"
   ]
  },
  {
   "cell_type": "code",
   "execution_count": 72,
   "metadata": {},
   "outputs": [],
   "source": [
    "# The lower Residual Sum of Squares, the better the model is."
   ]
  },
  {
   "cell_type": "markdown",
   "metadata": {},
   "source": [
    "b)"
   ]
  },
  {
   "cell_type": "code",
   "execution_count": null,
   "metadata": {},
   "outputs": [],
   "source": [
    "# It is not possible knowing this beforehand."
   ]
  },
  {
   "cell_type": "markdown",
   "metadata": {},
   "source": [
    "c)"
   ]
  },
  {
   "cell_type": "code",
   "execution_count": null,
   "metadata": {},
   "outputs": [],
   "source": [
    "# T\n",
    "# T\n",
    "# F\n",
    "# F\n",
    "# F"
   ]
  },
  {
   "cell_type": "markdown",
   "metadata": {},
   "source": [
    "***Exercise 9***"
   ]
  },
  {
   "cell_type": "markdown",
   "metadata": {},
   "source": [
    "a)"
   ]
  },
  {
   "cell_type": "code",
   "execution_count": 88,
   "metadata": {},
   "outputs": [],
   "source": [
    "require(ISLR)\n",
    "data(College)\n",
    "\n",
    "division = sample(1:nrow(College), nrow(College)*.7)\n",
    "train = College[division,]\n",
    "test = College[-division,]"
   ]
  },
  {
   "cell_type": "markdown",
   "metadata": {},
   "source": [
    "b)"
   ]
  },
  {
   "cell_type": "code",
   "execution_count": 94,
   "metadata": {},
   "outputs": [
    {
     "name": "stdout",
     "output_type": "stream",
     "text": [
      "\n",
      "Call:\n",
      "lm(formula = Apps ~ ., data = train)\n",
      "\n",
      "Coefficients:\n",
      "(Intercept)   PrivateYes       Accept       Enroll    Top10perc    Top25perc  \n",
      " -584.00704   -427.59610      1.31483     -0.70653     58.16549    -17.86708  \n",
      "F.Undergrad  P.Undergrad     Outstate   Room.Board        Books     Personal  \n",
      "    0.15132      0.04494     -0.06948      0.22002     -0.11497      0.06613  \n",
      "        PhD     Terminal    S.F.Ratio  perc.alumni       Expend    Grad.Rate  \n",
      "   -9.20238     -3.22419     11.75490     -3.94830      0.07138      7.63707  \n",
      "\n",
      "[1] 1801743\n"
     ]
    }
   ],
   "source": [
    "reg = lm(Apps~ ., data=train)\n",
    "pred = predict(reg, test)\n",
    "error = mean((test$Apps - pred)**2)\n",
    "\n",
    "print(reg)\n",
    "print(error)"
   ]
  },
  {
   "cell_type": "markdown",
   "metadata": {},
   "source": [
    "c)"
   ]
  },
  {
   "cell_type": "code",
   "execution_count": 97,
   "metadata": {},
   "outputs": [
    {
     "name": "stderr",
     "output_type": "stream",
     "text": [
      "Installing package into 'C:/Users/jpolancoroque/Documents/R/win-library/3.6'\n",
      "(as 'lib' is unspecified)\n",
      "\n",
      "Warning message:\n",
      "\"package 'glmnet' is in use and will not be installed\"\n"
     ]
    }
   ],
   "source": [
    "install.packages(\"glmnet\",dep=TRUE)\n",
    "require(glmnet)"
   ]
  },
  {
   "cell_type": "code",
   "execution_count": 118,
   "metadata": {},
   "outputs": [
    {
     "name": "stdout",
     "output_type": "stream",
     "text": [
      "\n",
      "Call:  cv.glmnet(x = train2, y = train$Apps, alpha = 0) \n",
      "\n",
      "Measure: Mean-Squared Error \n",
      "\n",
      "    Lambda Measure     SE Nonzero\n",
      "min  326.0 1113848 148358      17\n",
      "1se  753.1 1246314 165272      17\n",
      "[1] 3798988\n"
     ]
    }
   ],
   "source": [
    "train2 = model.matrix(Apps~., data=train)[,-1]\n",
    "test2 = model.matrix(Apps~., data=test)[,-1]\n",
    "ridge = cv.glmnet(train2, train$Apps, alpha=0)\n",
    "pred2 = predict(ridge, newx=test2)\n",
    "error2 = mean((test$Apps - pred2)^2)\n",
    "\n",
    "print(ridge)\n",
    "print(error2)"
   ]
  },
  {
   "cell_type": "markdown",
   "metadata": {},
   "source": [
    "d)"
   ]
  },
  {
   "cell_type": "code",
   "execution_count": 129,
   "metadata": {},
   "outputs": [
    {
     "name": "stdout",
     "output_type": "stream",
     "text": [
      "\n",
      "Call:  cv.glmnet(x = train3, y = train$Apps, alpha = 1) \n",
      "\n",
      "Measure: Mean-Squared Error \n",
      "\n",
      "    Lambda Measure     SE Nonzero\n",
      "min   1.74 1002001 201994      17\n",
      "1se 200.03 1197436 296965       4\n",
      "[1] 2074900\n"
     ]
    }
   ],
   "source": [
    "train3 = model.matrix(Apps~., data=train)[,-1]\n",
    "test3 = model.matrix(Apps~., data=test)[,-1]\n",
    "lasso = cv.glmnet(train3, train$Apps, alpha=1)\n",
    "pred3 = predict(lasso, newx=test3)\n",
    "error3 = mean((test$Apps - pred3)^2) \n",
    "\n",
    "print(lasso)\n",
    "print(error3)"
   ]
  },
  {
   "cell_type": "markdown",
   "metadata": {},
   "source": [
    "e)"
   ]
  },
  {
   "cell_type": "code",
   "execution_count": 131,
   "metadata": {},
   "outputs": [
    {
     "name": "stderr",
     "output_type": "stream",
     "text": [
      "Installing package into 'C:/Users/jpolancoroque/Documents/R/win-library/3.6'\n",
      "(as 'lib' is unspecified)\n",
      "\n",
      "also installing the dependencies 'Rmpi', 'RUnit'\n",
      "\n",
      "\n"
     ]
    },
    {
     "name": "stdout",
     "output_type": "stream",
     "text": [
      "package 'Rmpi' successfully unpacked and MD5 sums checked\n",
      "package 'RUnit' successfully unpacked and MD5 sums checked\n",
      "package 'pls' successfully unpacked and MD5 sums checked\n",
      "\n",
      "The downloaded binary packages are in\n",
      "\tC:\\Users\\jpolancoroque\\AppData\\Local\\Temp\\RtmpAh3Q4x\\downloaded_packages\n"
     ]
    }
   ],
   "source": [
    "install.packages(\"pls\",dep=TRUE)\n",
    "require(glmnet)"
   ]
  },
  {
   "cell_type": "code",
   "execution_count": 145,
   "metadata": {},
   "outputs": [
    {
     "name": "stdout",
     "output_type": "stream",
     "text": [
      "Data: \tX dimension: 543 17 \n",
      "\tY dimension: 543 1\n",
      "Fit method: svdpc\n",
      "Number of components considered: 17\n",
      "\n",
      "VALIDATION: RMSEP\n",
      "Cross-validated using 10 random segments.\n",
      "       (Intercept)  1 comps  2 comps  3 comps  4 comps  5 comps  6 comps\n",
      "CV            3507     3492     1650     1663     1581     1247     1245\n",
      "adjCV         3507     3490     1647     1663     1624     1237     1241\n",
      "       7 comps  8 comps  9 comps  10 comps  11 comps  12 comps  13 comps\n",
      "CV        1241     1197     1172      1170      1163      1161      1158\n",
      "adjCV     1242     1190     1169      1168      1161      1158      1155\n",
      "       14 comps  15 comps  16 comps  17 comps\n",
      "CV         1157      1162      1031     987.5\n",
      "adjCV      1155      1159      1028     984.5\n",
      "\n",
      "TRAINING: % variance explained\n",
      "      1 comps  2 comps  3 comps  4 comps  5 comps  6 comps  7 comps  8 comps\n",
      "X      32.567    57.75    64.90    70.51    76.05    81.03    84.61    88.01\n",
      "Apps    3.276    78.70    78.79    80.80    88.21    88.23    88.25    89.42\n",
      "      9 comps  10 comps  11 comps  12 comps  13 comps  14 comps  15 comps\n",
      "X       91.01     93.25     95.37     97.03     98.08     98.94     99.45\n",
      "Apps    89.50     89.66     89.81     89.86     89.95     89.98     90.01\n",
      "      16 comps  17 comps\n",
      "X        99.84    100.00\n",
      "Apps     92.21     92.92\n"
     ]
    }
   ],
   "source": [
    "pcr = pcr(Apps~., data=train, scale=TRUE, validation=\"CV\")\n",
    "summary(fit.pcr)\n",
    "pred4 = predict(pcr, test, ncomp=16)\n",
    "error4 = mean((test$Apps - pred4)^2)"
   ]
  },
  {
   "cell_type": "markdown",
   "metadata": {},
   "source": [
    "f)"
   ]
  },
  {
   "cell_type": "code",
   "execution_count": 148,
   "metadata": {},
   "outputs": [
    {
     "name": "stdout",
     "output_type": "stream",
     "text": [
      "Data: \tX dimension: 543 17 \n",
      "\tY dimension: 543 1\n",
      "Fit method: kernelpls\n",
      "Number of components considered: 17\n",
      "\n",
      "VALIDATION: RMSEP\n",
      "Cross-validated using 10 random segments.\n",
      "       (Intercept)  1 comps  2 comps  3 comps  4 comps  5 comps  6 comps\n",
      "CV            3507     1484     1291     1128     1103     1069     1035\n",
      "adjCV         3507     1482     1291     1126     1097     1059     1030\n",
      "       7 comps  8 comps  9 comps  10 comps  11 comps  12 comps  13 comps\n",
      "CV        1017     1018     1014      1011      1009      1006      1006\n",
      "adjCV     1012     1013     1010      1007      1005      1002      1002\n",
      "       14 comps  15 comps  16 comps  17 comps\n",
      "CV         1007      1007      1007      1007\n",
      "adjCV      1002      1003      1003      1003\n",
      "\n",
      "TRAINING: % variance explained\n",
      "      1 comps  2 comps  3 comps  4 comps  5 comps  6 comps  7 comps  8 comps\n",
      "X       25.56    46.66    63.12    66.16    69.76    74.12    76.38    79.99\n",
      "Apps    82.64    87.15    90.19    91.17    92.06    92.55    92.73    92.78\n",
      "      9 comps  10 comps  11 comps  12 comps  13 comps  14 comps  15 comps\n",
      "X       82.76     85.26     88.23     90.99     93.02     95.65     97.30\n",
      "Apps    92.83     92.88     92.91     92.92     92.92     92.92     92.92\n",
      "      16 comps  17 comps\n",
      "X        99.08    100.00\n",
      "Apps     92.92     92.92\n"
     ]
    }
   ],
   "source": [
    "pls <- plsr(Apps~., data=train, scale=TRUE, validation=\"CV\")\n",
    "summary(fit.pls)\n",
    "pred5 <- predict(pls, test, ncomp=10) \n",
    "error5 <- mean((test$Apps - pred5)^2)"
   ]
  },
  {
   "cell_type": "markdown",
   "metadata": {},
   "source": [
    "g)"
   ]
  },
  {
   "cell_type": "code",
   "execution_count": 153,
   "metadata": {},
   "outputs": [
    {
     "data": {
      "image/png": "[encoded data removed]",
      "text/plain": [
       "plot without title"
      ]
     },
     "metadata": {
      "image/png": {
       "height": 420,
       "width": 420
      },
      "text/plain": {
       "height": 420,
       "width": 420
      }
     },
     "output_type": "display_data"
    }
   ],
   "source": [
    "# I would choose both LM and PLS models\n",
    "errors = c(error, error2, error3, error4, error5)\n",
    "names(errors) = c(\"LM\", \"Ridge\", \"Lasso\", \"PCR\", \"PLS\")\n",
    "barplot(errors)"
   ]
  },
  {
   "cell_type": "markdown",
   "metadata": {},
   "source": [
    "## Chapter 7:"
   ]
  },
  {
   "cell_type": "markdown",
   "metadata": {},
   "source": [
    "***Exercise 9***"
   ]
  },
  {
   "cell_type": "markdown",
   "metadata": {},
   "source": [
    "a)"
   ]
  },
  {
   "cell_type": "code",
   "execution_count": 160,
   "metadata": {},
   "outputs": [
    {
     "data": {
      "text/plain": [
       "\n",
       "Call:\n",
       "lm(formula = nox ~ poly(dis, 3), data = Boston)\n",
       "\n",
       "Residuals:\n",
       "      Min        1Q    Median        3Q       Max \n",
       "-0.121130 -0.040619 -0.009738  0.023385  0.194904 \n",
       "\n",
       "Coefficients:\n",
       "               Estimate Std. Error t value Pr(>|t|)    \n",
       "(Intercept)    0.554695   0.002759 201.021  < 2e-16 ***\n",
       "poly(dis, 3)1 -2.003096   0.062071 -32.271  < 2e-16 ***\n",
       "poly(dis, 3)2  0.856330   0.062071  13.796  < 2e-16 ***\n",
       "poly(dis, 3)3 -0.318049   0.062071  -5.124 4.27e-07 ***\n",
       "---\n",
       "Signif. codes:  0 '***' 0.001 '**' 0.01 '*' 0.05 '.' 0.1 ' ' 1\n",
       "\n",
       "Residual standard error: 0.06207 on 502 degrees of freedom\n",
       "Multiple R-squared:  0.7148,\tAdjusted R-squared:  0.7131 \n",
       "F-statistic: 419.3 on 3 and 502 DF,  p-value: < 2.2e-16\n"
      ]
     },
     "metadata": {},
     "output_type": "display_data"
    },
    {
     "data": {
      "image/png": "[encoded data removed]",
      "text/plain": [
       "Plot with title \"Degree 3 Polynomial Fit\""
      ]
     },
     "metadata": {
      "image/png": {
       "height": 420,
       "width": 420
      },
      "text/plain": {
       "height": 420,
       "width": 420
      }
     },
     "output_type": "display_data"
    }
   ],
   "source": [
    "require(MASS)\n",
    "data(Boston)\n",
    "\n",
    "a = lm(nox~poly(dis,3), data=Boston)\n",
    "summary(a)\n",
    "\n",
    "dislims = range(Boston$dis)\n",
    "\n",
    "b = seq(dislims[1], dislims[2], 0.1)\n",
    "preds = predict(a, newdata=list(dis=b), se=TRUE)\n",
    "\n",
    "c = preds$fit + cbind(2*preds$se.fit, -2*preds$se.fit)\n",
    "par(mfrow=c(1,1), mar=c(4.5,4.5,1,1), oma=c(0,0,4,0))\n",
    "\n",
    "plot(Boston$dis, Boston$nox, xlim=dislims)\n",
    "title(\"Degree 3 Polynomial Fit\")\n",
    "lines(b, preds$fit, lwd=2, col=\"blue\")\n",
    "matlines(b, c, lwd=1, col=\"blue\", lty=3)"
   ]
  },
  {
   "cell_type": "markdown",
   "metadata": {},
   "source": [
    "b)"
   ]
  },
  {
   "cell_type": "code",
   "execution_count": 166,
   "metadata": {},
   "outputs": [
    {
     "name": "stdout",
     "output_type": "stream",
     "text": [
      " [1] 2.768563 2.035262 1.934107 1.932981 1.915290 1.878257 1.849484 1.835630\n",
      " [9] 1.833331 1.832171\n"
     ]
    },
    {
     "data": {
      "image/png": "[encoded data removed]",
      "text/plain": [
       "plot without title"
      ]
     },
     "metadata": {
      "image/png": {
       "height": 420,
       "width": 420
      },
      "text/plain": {
       "height": 420,
       "width": 420
      }
     },
     "output_type": "display_data"
    }
   ],
   "source": [
    "RSS = rep(0,10)\n",
    "for (i in 1:10) {\n",
    "  lm = lm(nox~poly(dis,i), data=Boston)\n",
    "  RSS[i] = sum(lm$residuals^2)\n",
    "}\n",
    "print(RSS)\n",
    "plot(RSS, type=\"b\")"
   ]
  },
  {
   "cell_type": "markdown",
   "metadata": {},
   "source": [
    "c)"
   ]
  },
  {
   "cell_type": "code",
   "execution_count": 177,
   "metadata": {},
   "outputs": [
    {
     "name": "stdout",
     "output_type": "stream",
     "text": [
      " [1] 0.005545667 0.004080491 0.003908864 0.003866571 0.004113276 0.005476647\n",
      " [7] 0.011305192 0.013536423 0.017683290 0.005762965\n"
     ]
    },
    {
     "data": {
      "image/png": "[encoded data removed]",
      "text/plain": [
       "plot without title"
      ]
     },
     "metadata": {
      "image/png": {
       "height": 420,
       "width": 420
      },
      "text/plain": {
       "height": 420,
       "width": 420
      }
     },
     "output_type": "display_data"
    }
   ],
   "source": [
    "CV = rep(0,10)\n",
    "for (i in 1:10) {\n",
    "  glm_fit = glm(nox~poly(dis,i), data=Boston)\n",
    "  CV[i] = cv.glm(Boston, glm_fit, K=10)$delta[1]}\n",
    "print(CV)\n",
    "plot(CV, type=\"b\")"
   ]
  },
  {
   "cell_type": "markdown",
   "metadata": {},
   "source": [
    "d)"
   ]
  },
  {
   "cell_type": "code",
   "execution_count": 179,
   "metadata": {},
   "outputs": [
    {
     "name": "stderr",
     "output_type": "stream",
     "text": [
      "Installing package into 'C:/Users/jpolancoroque/Documents/R/win-library/3.6'\n",
      "(as 'lib' is unspecified)\n",
      "\n",
      "Warning message:\n",
      "\"package 'splines' is not available (for R version 3.6.1)\"\n",
      "Warning message:\n",
      "\"package 'splines' is a base package, and should not be updated\"\n"
     ]
    }
   ],
   "source": [
    "install.packages(\"splines\",dep=TRUE)\n",
    "require(splines)"
   ]
  },
  {
   "cell_type": "code",
   "execution_count": 183,
   "metadata": {},
   "outputs": [
    {
     "data": {
      "text/html": [
       "<strong>50%:</strong> 3.20745"
      ],
      "text/latex": [
       "\\textbf{50\\textbackslash{}\\%:} 3.20745"
      ],
      "text/markdown": [
       "**50%:** 3.20745"
      ],
      "text/plain": [
       "    50% \n",
       "3.20745 "
      ]
     },
     "metadata": {},
     "output_type": "display_data"
    },
    {
     "data": {
      "image/png": "[encoded data removed]",
      "text/plain": [
       "plot without title"
      ]
     },
     "metadata": {
      "image/png": {
       "height": 420,
       "width": 420
      },
      "text/plain": {
       "height": 420,
       "width": 420
      }
     },
     "output_type": "display_data"
    }
   ],
   "source": [
    "sp = lm(nox~bs(dis, df=4), data=Boston)\n",
    "\n",
    "pred = predict(sp, newdata=list(dis=dis.grid), se=T)\n",
    "\n",
    "plot(Boston$dis, Boston$nox, col=\"red\")\n",
    "lines(dis.grid, pred$fit, lwd=2)\n",
    "lines(dis.grid, pred$fit+2*pred$se, lty=\"dashed\")\n",
    "lines(dis.grid, pred$fit-2*pred$se, lty=\"dashed\")\n",
    "attr(bs(Boston$dis,df=4),\"knots\")  "
   ]
  },
  {
   "cell_type": "markdown",
   "metadata": {},
   "source": [
    "e)"
   ]
  },
  {
   "cell_type": "code",
   "execution_count": 184,
   "metadata": {},
   "outputs": [
    {
     "name": "stdout",
     "output_type": "stream",
     "text": [
      "[1] 1.922775 1.840173 1.833966 1.829884 1.816995 1.825653 1.792535\n"
     ]
    },
    {
     "data": {
      "image/png": "[encoded data removed]",
      "text/plain": [
       "plot without title"
      ]
     },
     "metadata": {
      "image/png": {
       "height": 420,
       "width": 420
      },
      "text/plain": {
       "height": 420,
       "width": 420
      }
     },
     "output_type": "display_data"
    }
   ],
   "source": [
    "RSS2 = rep(0,7)\n",
    "for (i in 4:10) {\n",
    "  sp2 = lm(nox~bs(dis, df=i), data=Boston)\n",
    "  RSS2[i-3] <- sum(sp2$residuals^2)\n",
    "}\n",
    "print(RSS2)\n",
    "plot(4:10, RSS2, type=\"b\")"
   ]
  },
  {
   "cell_type": "markdown",
   "metadata": {},
   "source": [
    "f)"
   ]
  },
  {
   "cell_type": "code",
   "execution_count": 186,
   "metadata": {},
   "outputs": [
    {
     "name": "stderr",
     "output_type": "stream",
     "text": [
      "Warning message in bs(dis, degree = 3L, knots = c(`50%` = 3.1222), Boundary.knots = c(1.1296, :\n",
      "\"some 'x' values beyond boundary knots may cause ill-conditioned bases\"\n",
      "Warning message in bs(dis, degree = 3L, knots = c(`50%` = 3.1222), Boundary.knots = c(1.1296, :\n",
      "\"some 'x' values beyond boundary knots may cause ill-conditioned bases\"\n",
      "Warning message in bs(dis, degree = 3L, knots = c(`50%` = 3.3175), Boundary.knots = c(1.137, :\n",
      "\"some 'x' values beyond boundary knots may cause ill-conditioned bases\"\n",
      "Warning message in bs(dis, degree = 3L, knots = c(`50%` = 3.3175), Boundary.knots = c(1.137, :\n",
      "\"some 'x' values beyond boundary knots may cause ill-conditioned bases\"\n",
      "Warning message in bs(dis, degree = 3L, knots = c(`33.33333%` = 2.41306666666667, :\n",
      "\"some 'x' values beyond boundary knots may cause ill-conditioned bases\"\n",
      "Warning message in bs(dis, degree = 3L, knots = c(`33.33333%` = 2.41306666666667, :\n",
      "\"some 'x' values beyond boundary knots may cause ill-conditioned bases\"\n",
      "Warning message in bs(dis, degree = 3L, knots = c(`33.33333%` = 2.40296666666667, :\n",
      "\"some 'x' values beyond boundary knots may cause ill-conditioned bases\"\n",
      "Warning message in bs(dis, degree = 3L, knots = c(`33.33333%` = 2.40296666666667, :\n",
      "\"some 'x' values beyond boundary knots may cause ill-conditioned bases\"\n",
      "Warning message in bs(dis, degree = 3L, knots = c(`25%` = 2.10035, `50%` = 3.2721, :\n",
      "\"some 'x' values beyond boundary knots may cause ill-conditioned bases\"\n",
      "Warning message in bs(dis, degree = 3L, knots = c(`25%` = 2.10035, `50%` = 3.2721, :\n",
      "\"some 'x' values beyond boundary knots may cause ill-conditioned bases\"\n",
      "Warning message in bs(dis, degree = 3L, knots = c(`25%` = 2.0754, `50%` = 3.0665, :\n",
      "\"some 'x' values beyond boundary knots may cause ill-conditioned bases\"\n",
      "Warning message in bs(dis, degree = 3L, knots = c(`25%` = 2.0754, `50%` = 3.0665, :\n",
      "\"some 'x' values beyond boundary knots may cause ill-conditioned bases\"\n",
      "Warning message in bs(dis, degree = 3L, knots = c(`20%` = 1.9444, `40%` = 2.6403, :\n",
      "\"some 'x' values beyond boundary knots may cause ill-conditioned bases\"\n",
      "Warning message in bs(dis, degree = 3L, knots = c(`20%` = 1.9444, `40%` = 2.6403, :\n",
      "\"some 'x' values beyond boundary knots may cause ill-conditioned bases\"\n",
      "Warning message in bs(dis, degree = 3L, knots = c(`20%` = 1.97036, `40%` = 2.62334, :\n",
      "\"some 'x' values beyond boundary knots may cause ill-conditioned bases\"\n",
      "Warning message in bs(dis, degree = 3L, knots = c(`20%` = 1.97036, `40%` = 2.62334, :\n",
      "\"some 'x' values beyond boundary knots may cause ill-conditioned bases\"\n",
      "Warning message in bs(dis, degree = 3L, knots = c(`16.66667%` = 1.84476666666667, :\n",
      "\"some 'x' values beyond boundary knots may cause ill-conditioned bases\"\n",
      "Warning message in bs(dis, degree = 3L, knots = c(`16.66667%` = 1.84476666666667, :\n",
      "\"some 'x' values beyond boundary knots may cause ill-conditioned bases\"\n",
      "Warning message in bs(dis, degree = 3L, knots = c(`14.28571%` = 1.7912, `28.57143%` = 2.1705, :\n",
      "\"some 'x' values beyond boundary knots may cause ill-conditioned bases\"\n",
      "Warning message in bs(dis, degree = 3L, knots = c(`14.28571%` = 1.7912, `28.57143%` = 2.1705, :\n",
      "\"some 'x' values beyond boundary knots may cause ill-conditioned bases\"\n",
      "Warning message in bs(dis, degree = 3L, knots = c(`14.28571%` = 1.7912, `28.57143%` = 2.2004, :\n",
      "\"some 'x' values beyond boundary knots may cause ill-conditioned bases\"\n",
      "Warning message in bs(dis, degree = 3L, knots = c(`14.28571%` = 1.7912, `28.57143%` = 2.2004, :\n",
      "\"some 'x' values beyond boundary knots may cause ill-conditioned bases\"\n",
      "Warning message in bs(dis, degree = 3L, knots = c(`12.5%` = 1.7443625, `25%` = 2.09705, :\n",
      "\"some 'x' values beyond boundary knots may cause ill-conditioned bases\"\n",
      "Warning message in bs(dis, degree = 3L, knots = c(`12.5%` = 1.7443625, `25%` = 2.09705, :\n",
      "\"some 'x' values beyond boundary knots may cause ill-conditioned bases\"\n",
      "Warning message in bs(dis, degree = 3L, knots = c(`12.5%` = 1.764825, `25%` = 2.106075, :\n",
      "\"some 'x' values beyond boundary knots may cause ill-conditioned bases\"\n",
      "Warning message in bs(dis, degree = 3L, knots = c(`12.5%` = 1.764825, `25%` = 2.106075, :\n",
      "\"some 'x' values beyond boundary knots may cause ill-conditioned bases\"\n"
     ]
    },
    {
     "name": "stdout",
     "output_type": "stream",
     "text": [
      "[1] 0.003884688 0.003717317 0.003754188 0.003691993 0.003697386 0.003750414\n",
      "[7] 0.003706697\n"
     ]
    },
    {
     "data": {
      "image/png": "[encoded data removed]",
      "text/plain": [
       "plot without title"
      ]
     },
     "metadata": {
      "image/png": {
       "height": 420,
       "width": 420
      },
      "text/plain": {
       "height": 420,
       "width": 420
      }
     },
     "output_type": "display_data"
    }
   ],
   "source": [
    "CV2 = rep(0,7)\n",
    "for (i in 4:10) {\n",
    "  glm2 = glm(nox~bs(dis, df=i), data=Boston)\n",
    "  CV2[i-3] <- cv.glm(Boston, glm2, K=10)$delta[1]}\n",
    "print(CV2)\n",
    "plot(4:10, CV2, type=\"b\") "
   ]
  },
  {
   "cell_type": "markdown",
   "metadata": {},
   "source": [
    "***Exercise 10***"
   ]
  },
  {
   "cell_type": "markdown",
   "metadata": {},
   "source": [
    "a)"
   ]
  },
  {
   "cell_type": "code",
   "execution_count": 187,
   "metadata": {},
   "outputs": [],
   "source": [
    "div = sample(1:nrow(College), nrow(College)*.7)\n",
    "train = College[div,]\n",
    "test = College[-div,]"
   ]
  },
  {
   "cell_type": "code",
   "execution_count": 188,
   "metadata": {},
   "outputs": [],
   "source": [
    "predict = function(object, newdata, id, ...){\n",
    "  form = as.formula(object$call[[2]])\n",
    "  mat = model.matrix(form, newdata)\n",
    "  coefi = coef(object, id=id)\n",
    "  xvars = names(coefi)\n",
    "  mat[,xvars]%*%coefi}"
   ]
  },
  {
   "cell_type": "markdown",
   "metadata": {},
   "source": [
    "b)"
   ]
  },
  {
   "cell_type": "code",
   "execution_count": 195,
   "metadata": {},
   "outputs": [
    {
     "name": "stderr",
     "output_type": "stream",
     "text": [
      "Installing package into 'C:/Users/jpolancoroque/Documents/R/win-library/3.6'\n",
      "(as 'lib' is unspecified)\n",
      "\n",
      "also installing the dependency 'akima'\n",
      "\n",
      "\n"
     ]
    },
    {
     "name": "stdout",
     "output_type": "stream",
     "text": [
      "package 'akima' successfully unpacked and MD5 sums checked\n",
      "package 'gam' successfully unpacked and MD5 sums checked\n",
      "\n",
      "The downloaded binary packages are in\n",
      "\tC:\\Users\\jpolancoroque\\AppData\\Local\\Temp\\RtmpAh3Q4x\\downloaded_packages\n"
     ]
    },
    {
     "name": "stderr",
     "output_type": "stream",
     "text": [
      "Loading required package: gam\n",
      "\n",
      "Warning message:\n",
      "\"package 'gam' was built under R version 3.6.2\"\n",
      "Loading required package: foreach\n",
      "\n",
      "Warning message:\n",
      "\"package 'foreach' was built under R version 3.6.2\"\n",
      "Loaded gam 1.16.1\n",
      "\n",
      "\n"
     ]
    }
   ],
   "source": [
    "install.packages(\"gam\",dep=TRUE)\n",
    "require(gam)"
   ]
  },
  {
   "cell_type": "code",
   "execution_count": 196,
   "metadata": {},
   "outputs": [
    {
     "name": "stderr",
     "output_type": "stream",
     "text": [
      "Warning message in model.matrix.default(mt, mf, contrasts):\n",
      "\"non-list contrasts argument ignored\"\n"
     ]
    },
    {
     "data": {
      "image/png": "[encoded data removed]",
      "text/plain": [
       "plot without title"
      ]
     },
     "metadata": {
      "image/png": {
       "height": 420,
       "width": 420
      },
      "text/plain": {
       "height": 420,
       "width": 420
      }
     },
     "output_type": "display_data"
    }
   ],
   "source": [
    "gam = gam(Outstate ~ \n",
    "                 Private +   \n",
    "                 s(Room.Board,3) + \n",
    "                 s(Terminal,3) + \n",
    "                 s(perc.alumni,3) + \n",
    "                 s(Expend,3) + \n",
    "                 s(Grad.Rate,3), \n",
    "               data=College)\n",
    "par(mfrow=c(2,3))\n",
    "plot(gam, se=TRUE, col=\"blue\")"
   ]
  },
  {
   "cell_type": "markdown",
   "metadata": {},
   "source": [
    "c)"
   ]
  },
  {
   "cell_type": "code",
   "execution_count": 199,
   "metadata": {},
   "outputs": [
    {
     "name": "stdout",
     "output_type": "stream",
     "text": [
      "                                                   [,1]\n",
      "Agnes Scott College                           15260.717\n",
      "Albertus Magnus College                       12284.435\n",
      "Allegheny College                             13040.130\n",
      "Alma College                                  11769.701\n",
      "Alverno College                                9681.657\n",
      "Amherst College                               18126.087\n",
      "Andrews University                             9371.059\n",
      "Arkansas College (Lyon College)               12022.422\n",
      "Augustana College IL                          11762.581\n",
      "Barnard College                               16272.100\n",
      "Barry University                              11431.337\n",
      "Bemidji State University                       4471.321\n",
      "Bennington College                            12315.298\n",
      "Bentley College                               12932.803\n",
      "Berry College                                 10745.137\n",
      "Bethel College KS                             10216.557\n",
      "Blackburn College                             10107.065\n",
      "Bloomsburg Univ. of Pennsylvania               6747.129\n",
      "Bluffton College                              10084.598\n",
      "Bowdoin College                               17704.818\n",
      "Buena Vista College                            9435.267\n",
      "California Polytechnic-San Luis                8163.175\n",
      "Calvin College                                11328.557\n",
      "Capital University                            11276.974\n",
      "Capitol College                                8385.346\n",
      "Carson-Newman College                          8760.304\n",
      "Castleton State College                        8127.349\n",
      "Catholic University of America                14025.009\n",
      "Central College                               10790.123\n",
      "Central Wesleyan College                       7574.140\n",
      "Centre College                                14148.109\n",
      "Chatham College                               14092.658\n",
      "Claflin College                                7611.737\n",
      "Claremont McKenna College                     17032.998\n",
      "Clark University                              12891.887\n",
      "Clinch Valley Coll. of  the Univ. of Virginia  5254.166\n",
      "Coe College                                   11821.791\n",
      "Coker College                                 11822.179\n",
      "College of Charleston                          5947.715\n",
      "College of Santa Fe                           10447.536\n",
      "Columbia College                              11255.916\n",
      "Concordia University CA                        9652.068\n",
      "Cornell College                               11449.869\n",
      "Dana College                                   9089.786\n",
      "Daniel Webster College                        10539.389\n",
      "Davidson College                              16037.599\n",
      "Defiance College                               9081.873\n",
      "DePauw University                             13311.064\n",
      "Dickinson College                             14400.702\n",
      "Doane College                                  9687.217\n",
      "Drake University                              12110.215\n",
      "Drury College                                 11198.879\n",
      "Duke University                               19342.731\n",
      "East Carolina University                       7168.489\n",
      "East Texas Baptist University                  6914.771\n",
      "Eastern Mennonite College                     11246.877\n",
      "Eckerd College                                12517.241\n",
      "Elon College                                  10048.676\n",
      "Emory University                              19136.314\n",
      "Emporia State University                       5282.945\n",
      "Erskine College                               11110.702\n",
      "Ferrum College                                 8095.555\n",
      "Florida Southern College                      10041.625\n",
      "Fontbonne College                              8866.743\n",
      "Franklin Pierce College                        9134.033\n",
      "Freed-Hardeman University                      8794.462\n",
      "Gannon University                              9627.799\n",
      "Gardner Webb University                        7851.341\n",
      "Georgetown University                         17343.573\n",
      "Gettysburg College                            13764.136\n",
      "Gordon College                                11200.587\n",
      "Goshen College                                11321.800\n",
      "Grace College and Seminary                    10208.371\n",
      "Green Mountain College                         9455.371\n",
      "Gwynedd Mercy College                         11417.058\n",
      "Hampden - Sydney College                      13818.081\n",
      "Hartwick College                              12738.871\n",
      "Hiram College                                 13183.454\n",
      "Hope College                                  11889.774\n",
      "Illinois Benedictine College                  11553.639\n",
      "Illinois Wesleyan University                  12180.817\n",
      "Indiana Wesleyan University                    7834.760\n",
      "Iona College                                  12280.299\n",
      "James Madison University                       8870.758\n",
      "Judson College                                10132.656\n",
      "Kentucky Wesleyan College                     10123.832\n",
      "Kenyon College                                13793.889\n",
      "Knox College                                  13062.831\n",
      "La Salle University                           12217.892\n",
      "Lamar University                               5008.060\n",
      "Lambuth University                             8170.182\n",
      "Lesley College                                11339.548\n",
      "Lindenwood College                            10456.727\n",
      "Longwood College                               7127.287\n",
      "Louisiana State University at Baton Rouge      5634.785\n",
      "Loyola Marymount University                   13150.449\n",
      "Lycoming College                              11209.908\n",
      "Lynchburg College                             11528.294\n",
      "Manhattan College                             13874.880\n",
      "Marian College of Fond du Lac                  7899.596\n",
      "Marietta College                              12608.188\n",
      "Marquette University                          12304.819\n",
      "Mary Washington College                        8776.690\n",
      "Massachusetts Institute of Technology         20741.315\n",
      "McMurry University                             7638.155\n",
      "Mercyhurst College                            10465.871\n",
      "Michigan State University                      8444.720\n",
      "Millersville University of Penn.               7683.270\n",
      "Millsaps College                              12139.527\n",
      "Missouri Southern State College                5965.616\n",
      "Monmouth College IL                           12050.305\n",
      "Monmouth College                              11237.689\n",
      "Moorhead State University                      5752.722\n",
      "Moravian College                              12136.928\n",
      "Morris College                                 8793.322\n",
      "Mount Saint Mary College                      11150.278\n",
      "Mount Vernon Nazarene College                  8200.838\n",
      "Northeast Missouri State University            6879.938\n",
      "Northern Illinois University                   6079.872\n",
      "Oglethorpe University                         11380.958\n",
      "Ohio Northern University                      11822.896\n",
      "Ohio University                                7979.347\n",
      "Oklahoma State University                      6409.394\n",
      "Pembroke State University                      5268.965\n",
      "Pepperdine University                         14814.105\n",
      "Pfeiffer College                               8706.345\n",
      "Point Loma Nazarene College                    9783.117\n",
      "Princeton University                          20060.998\n",
      "Quincy University                             10787.475\n",
      "Reed College                                  14546.910\n",
      "Regis College                                 14033.354\n",
      "Rensselaer Polytechnic Institute              14488.012\n",
      "Rider University                              12815.498\n",
      "Rivier College                                10540.202\n",
      "Rowan College of New Jersey                    7277.519\n",
      "Rutgers at New Brunswick                       9763.436\n",
      "Rutgers State University at Camden             8767.006\n",
      "Saint Cloud State University                   5128.043\n",
      "Saint Francis College                         10775.461\n",
      "Saint John's University                       11808.651\n",
      "Saint Joseph's College                        10554.500\n",
      "Saint Joseph College                          11961.964\n",
      "Saint Mary's College                          13366.736\n",
      "Saint Mary-of-the-Woods College               11263.567\n",
      "Saint Vincent College                         11136.815\n",
      "Salem-Teikyo University                        9778.571\n",
      "Scripps College                               17181.963\n",
      "Seattle Pacific University                    11738.856\n",
      "Seton Hall University                         12591.453\n",
      "Seton Hill College                            11595.574\n",
      "Simpson College                               11445.328\n",
      "Smith College                                 17821.539\n",
      "Southeastern Oklahoma State Univ.              4486.806\n",
      "Southwest Baptist University                   7542.246\n",
      "Southwest Missouri State University            5076.543\n",
      "Spalding University                           10000.598\n",
      "St. Bonaventure University                    12611.609\n",
      "St. John Fisher College                       11849.878\n",
      "St. Mary's College of California              13010.737\n",
      "SUNY College  at Brockport                     7116.071\n",
      "SUNY College  at Oswego                        7767.041\n",
      "SUNY College at Cortland                       7276.879\n",
      "SUNY College at Plattsburgh                    7532.857\n",
      "SUNY College at Purchase                       7854.813\n",
      "Sweet Briar College                           16184.825\n",
      "Syracuse University                           14043.661\n",
      "Taylor University                             11402.979\n",
      "Texas Wesleyan University                      8864.018\n",
      "Trenton State College                          9161.616\n",
      "Tri-State University                           9926.042\n",
      "Trinity University                            14266.894\n",
      "Union College NY                              16190.262\n",
      "Univ. of Wisconsin at OshKosh                  5464.646\n",
      "University of Arkansas at Fayetteville         5971.541\n",
      "University of Chicago                         21867.247\n",
      "University of Cincinnati                       9439.231\n",
      "University of Connecticut at Storrs            9620.554\n",
      "University of Evansville                      11105.600\n",
      "University of Florida                         10244.818\n",
      "University of Georgia                          7854.077\n",
      "University of Hawaii at Manoa                  7707.960\n",
      "University of Illinois at Chicago              8826.013\n",
      "University of La Verne                        10901.634\n",
      "University of Maine at Presque Isle            5482.152\n",
      "University of Maryland at Baltimore County     7358.747\n",
      "University of Miami                           14823.248\n",
      "University of Michigan at Ann Arbor           11556.265\n",
      "University of Minnesota at Duluth              6517.958\n",
      "University of Missouri at Saint Louis          6451.745\n",
      "University of New England                     11116.538\n",
      "University of North Carolina at Chapel Hill   11136.718\n",
      "University of North Carolina at Charlotte      6334.066\n",
      "University of North Carolina at Wilmington     6635.349\n",
      "University of North Dakota                     6979.576\n",
      "University of North Florida                    6880.398\n",
      "University of North Texas                      5703.736\n",
      "University of Pittsburgh-Main Campus           9794.398\n",
      "University of Puget Sound                     11505.810\n",
      "University of Rhode Island                     8963.899\n",
      "University of Sci. and Arts of Oklahoma        3693.103\n",
      "University of South Carolina at Aiken          4671.725\n",
      "University of Southern California             14677.177\n",
      "University of Southern Indiana                 4937.206\n",
      "University of St. Thomas MN                   10955.968\n",
      "University of St. Thomas TX                    9773.722\n",
      "University of the Pacific                     12955.876\n",
      "University of Tulsa                           10862.617\n",
      "University of Utah                             7149.627\n",
      "University of Virginia                        10519.368\n",
      "University of Wisconsin-Stout                  6111.164\n",
      "University of Wisconsin at Green Bay           5244.649\n",
      "University of Wisconsin at Madison             9468.186\n",
      "Ursuline College                               9838.058\n",
      "Valley City State University                   4344.310\n",
      "Vanderbilt University                         17772.797\n",
      "Virginia Commonwealth University               8015.338\n",
      "Viterbo College                               10120.192\n",
      "Voorhees College                               6813.287\n",
      "Wabash College                                13990.396\n",
      "Washington and Jefferson College              12568.462\n",
      "Waynesburg College                             9224.584\n",
      "Webber College                                 8360.755\n",
      "Webster University                             9182.780\n",
      "Wellesley College                             17903.323\n",
      "Western New England College                   11548.431\n",
      "Westminster College                           11375.278\n",
      "Wheaton College IL                            12971.402\n",
      "Wheeling Jesuit College                       10816.387\n",
      "Whitman College                               13850.985\n",
      "Wilkes University                             11781.419\n",
      "William Jewell College                         9241.783\n",
      "Winona State University                        5312.180\n",
      "Wisconsin Lutheran College                     9286.493\n",
      "Xavier University                             12193.911\n"
     ]
    },
    {
     "name": "stdout",
     "output_type": "stream",
     "text": [
      "[1] 3879128\n"
     ]
    }
   ],
   "source": [
    "pred = predict(gam, test)\n",
    "MSE_error = mean((test$Outstate - pred)^2)\n",
    "\n",
    "print(pred)\n",
    "print(MSE_error)"
   ]
  },
  {
   "cell_type": "markdown",
   "metadata": {},
   "source": [
    "d)"
   ]
  },
  {
   "cell_type": "code",
   "execution_count": 200,
   "metadata": {},
   "outputs": [
    {
     "data": {
      "text/plain": [
       "\n",
       "Call: gam(formula = Outstate ~ Private + s(Room.Board, 3) + s(Terminal, \n",
       "    3) + s(perc.alumni, 3) + s(Expend, 3) + s(Grad.Rate, 3), \n",
       "    data = College)\n",
       "Deviance Residuals:\n",
       "     Min       1Q   Median       3Q      Max \n",
       "-7110.16 -1137.02    50.44  1285.38  8278.86 \n",
       "\n",
       "(Dispersion Parameter for gaussian family taken to be 3520187)\n",
       "\n",
       "    Null Deviance: 12559297426 on 776 degrees of freedom\n",
       "Residual Deviance: 2675342725 on 760.0001 degrees of freedom\n",
       "AIC: 13936.36 \n",
       "\n",
       "Number of Local Scoring Iterations: 2 \n",
       "\n",
       "Anova for Parametric Effects\n",
       "                   Df     Sum Sq    Mean Sq F value    Pr(>F)    \n",
       "Private             1 3366732308 3366732308 956.407 < 2.2e-16 ***\n",
       "s(Room.Board, 3)    1 2549088628 2549088628 724.134 < 2.2e-16 ***\n",
       "s(Terminal, 3)      1  802254341  802254341 227.901 < 2.2e-16 ***\n",
       "s(perc.alumni, 3)   1  525154274  525154274 149.184 < 2.2e-16 ***\n",
       "s(Expend, 3)        1 1022010841 1022010841 290.329 < 2.2e-16 ***\n",
       "s(Grad.Rate, 3)     1  151344060  151344060  42.993 1.014e-10 ***\n",
       "Residuals         760 2675342725    3520187                      \n",
       "---\n",
       "Signif. codes:  0 '***' 0.001 '**' 0.01 '*' 0.05 '.' 0.1 ' ' 1\n",
       "\n",
       "Anova for Nonparametric Effects\n",
       "                  Npar Df Npar F   Pr(F)    \n",
       "(Intercept)                                 \n",
       "Private                                     \n",
       "s(Room.Board, 3)        2  2.591 0.07557 .  \n",
       "s(Terminal, 3)          2  2.558 0.07815 .  \n",
       "s(perc.alumni, 3)       2  0.835 0.43446    \n",
       "s(Expend, 3)            2 56.179 < 2e-16 ***\n",
       "s(Grad.Rate, 3)         2  3.363 0.03515 *  \n",
       "---\n",
       "Signif. codes:  0 '***' 0.001 '**' 0.01 '*' 0.05 '.' 0.1 ' ' 1"
      ]
     },
     "metadata": {},
     "output_type": "display_data"
    }
   ],
   "source": [
    "# Non-linnear effects for perc.alumni\n",
    "summary(gam)"
   ]
  }
 ],
 "metadata": {
  "kernelspec": {
   "display_name": "R",
   "language": "R",
   "name": "ir"
  },
  "language_info": {
   "codemirror_mode": "r",
   "file_extension": ".r",
   "mimetype": "text/x-r-source",
   "name": "R",
   "pygments_lexer": "r",
   "version": "3.6.1"
  }
 },
 "nbformat": 4,
 "nbformat_minor": 2
}
