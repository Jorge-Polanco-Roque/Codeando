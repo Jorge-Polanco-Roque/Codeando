{
 "cells": [
  {
   "cell_type": "markdown",
   "metadata": {},
   "source": [
    "# Rappi Challenge"
   ]
  },
  {
   "cell_type": "markdown",
   "metadata": {},
   "source": [
    "**Coded by:** Jorge Polanco Roque"
   ]
  },
  {
   "cell_type": "markdown",
   "metadata": {},
   "source": [
    "## I. Settings: "
   ]
  },
  {
   "cell_type": "code",
   "execution_count": 1,
   "metadata": {},
   "outputs": [
    {
     "name": "stderr",
     "output_type": "stream",
     "text": [
      "C:\\ProgramData\\Anaconda3\\lib\\site-packages\\sklearn\\ensemble\\weight_boosting.py:29: DeprecationWarning: numpy.core.umath_tests is an internal NumPy module and should not be imported. It will be removed in a future NumPy release.\n",
      "  from numpy.core.umath_tests import inner1d\n",
      "C:\\ProgramData\\Anaconda3\\lib\\site-packages\\statsmodels\\tools\\_testing.py:19: FutureWarning: pandas.util.testing is deprecated. Use the functions in the public API at pandas.testing instead.\n",
      "  import pandas.util.testing as tm\n"
     ]
    }
   ],
   "source": [
    "# Libraries\n",
    "from sklearn.metrics import classification_report, confusion_matrix  \n",
    "from sklearn.ensemble import GradientBoostingClassifier\n",
    "from sklearn.model_selection import train_test_split\n",
    "from sklearn.linear_model import LogisticRegression\n",
    "from sklearn.ensemble import RandomForestClassifier\n",
    "from sklearn.model_selection import cross_val_score\n",
    "from sklearn.neural_network import MLPClassifier\n",
    "from sklearn.model_selection import GridSearchCV\n",
    "from sklearn.preprocessing import StandardScaler\n",
    "from sklearn.ensemble import AdaBoostClassifier\n",
    "from sklearn.ensemble import BaggingClassifier\n",
    "from sklearn.metrics import roc_auc_score\n",
    "import matplotlib.pyplot as plt\n",
    "from datetime import datetime\n",
    "from sklearn.svm import SVC\n",
    "import seaborn as sbn\n",
    "import pandas as pd\n",
    "import numpy as np\n",
    "import warnings\n",
    "import random\n",
    "import copy\n",
    "import re"
   ]
  },
  {
   "cell_type": "code",
   "execution_count": 2,
   "metadata": {},
   "outputs": [],
   "source": [
    "# Setting a random seed\n",
    "random.seed(123)"
   ]
  },
  {
   "cell_type": "code",
   "execution_count": 3,
   "metadata": {},
   "outputs": [],
   "source": [
    "# Hidding warnings\n",
    "warnings.filterwarnings('ignore')"
   ]
  },
  {
   "cell_type": "code",
   "execution_count": 4,
   "metadata": {},
   "outputs": [],
   "source": [
    "# Loading input files\n",
    "path = \"C:/Users/jpolancoroque/Desktop/Job Applications/Rappi\"\n",
    "\n",
    "db = pd.read_csv(path+\"/orders.csv\", sep = \",\")"
   ]
  },
  {
   "cell_type": "markdown",
   "metadata": {},
   "source": [
    "## II. Feature Engineering:"
   ]
  },
  {
   "cell_type": "code",
   "execution_count": 5,
   "metadata": {},
   "outputs": [
    {
     "data": {
      "text/html": [
       "<div>\n",
       "<style scoped>\n",
       "    .dataframe tbody tr th:only-of-type {\n",
       "        vertical-align: middle;\n",
       "    }\n",
       "\n",
       "    .dataframe tbody tr th {\n",
       "        vertical-align: top;\n",
       "    }\n",
       "\n",
       "    .dataframe thead th {\n",
       "        text-align: right;\n",
       "    }\n",
       "</style>\n",
       "<table border=\"1\" class=\"dataframe\">\n",
       "  <thead>\n",
       "    <tr style=\"text-align: right;\">\n",
       "      <th></th>\n",
       "      <th>order_id</th>\n",
       "      <th>store_id</th>\n",
       "      <th>to_user_distance</th>\n",
       "      <th>to_user_elevation</th>\n",
       "      <th>total_earning</th>\n",
       "      <th>created_at</th>\n",
       "      <th>taken</th>\n",
       "    </tr>\n",
       "  </thead>\n",
       "  <tbody>\n",
       "    <tr>\n",
       "      <th>0</th>\n",
       "      <td>14364873</td>\n",
       "      <td>30000009</td>\n",
       "      <td>2.478101</td>\n",
       "      <td>-72.719360</td>\n",
       "      <td>4200</td>\n",
       "      <td>2017-09-07T20:02:17Z</td>\n",
       "      <td>0</td>\n",
       "    </tr>\n",
       "    <tr>\n",
       "      <th>1</th>\n",
       "      <td>14370123</td>\n",
       "      <td>30000058</td>\n",
       "      <td>0.451711</td>\n",
       "      <td>37.754761</td>\n",
       "      <td>4200</td>\n",
       "      <td>2017-09-07T20:13:16Z</td>\n",
       "      <td>0</td>\n",
       "    </tr>\n",
       "    <tr>\n",
       "      <th>2</th>\n",
       "      <td>14368534</td>\n",
       "      <td>900003684</td>\n",
       "      <td>2.026072</td>\n",
       "      <td>207.191162</td>\n",
       "      <td>4000</td>\n",
       "      <td>2017-09-07T20:07:23Z</td>\n",
       "      <td>0</td>\n",
       "    </tr>\n",
       "    <tr>\n",
       "      <th>3</th>\n",
       "      <td>14370258</td>\n",
       "      <td>900014452</td>\n",
       "      <td>2.671432</td>\n",
       "      <td>1.722656</td>\n",
       "      <td>4400</td>\n",
       "      <td>2017-09-07T20:15:19Z</td>\n",
       "      <td>1</td>\n",
       "    </tr>\n",
       "    <tr>\n",
       "      <th>4</th>\n",
       "      <td>14369923</td>\n",
       "      <td>900014085</td>\n",
       "      <td>0.965496</td>\n",
       "      <td>117.429199</td>\n",
       "      <td>3450</td>\n",
       "      <td>2017-09-07T20:12:14Z</td>\n",
       "      <td>1</td>\n",
       "    </tr>\n",
       "  </tbody>\n",
       "</table>\n",
       "</div>"
      ],
      "text/plain": [
       "   order_id   store_id  to_user_distance  to_user_elevation  total_earning  \\\n",
       "0  14364873   30000009          2.478101         -72.719360           4200   \n",
       "1  14370123   30000058          0.451711          37.754761           4200   \n",
       "2  14368534  900003684          2.026072         207.191162           4000   \n",
       "3  14370258  900014452          2.671432           1.722656           4400   \n",
       "4  14369923  900014085          0.965496         117.429199           3450   \n",
       "\n",
       "             created_at  taken  \n",
       "0  2017-09-07T20:02:17Z      0  \n",
       "1  2017-09-07T20:13:16Z      0  \n",
       "2  2017-09-07T20:07:23Z      0  \n",
       "3  2017-09-07T20:15:19Z      1  \n",
       "4  2017-09-07T20:12:14Z      1  "
      ]
     },
     "execution_count": 5,
     "metadata": {},
     "output_type": "execute_result"
    }
   ],
   "source": [
    "# Original database\n",
    "db.head(5)"
   ]
  },
  {
   "cell_type": "code",
   "execution_count": 6,
   "metadata": {},
   "outputs": [
    {
     "name": "stdout",
     "output_type": "stream",
     "text": [
      "<class 'pandas.core.frame.DataFrame'>\n",
      "RangeIndex: 146987 entries, 0 to 146986\n",
      "Data columns (total 7 columns):\n",
      " #   Column             Non-Null Count   Dtype  \n",
      "---  ------             --------------   -----  \n",
      " 0   order_id           146987 non-null  int64  \n",
      " 1   store_id           146987 non-null  int64  \n",
      " 2   to_user_distance   146987 non-null  float64\n",
      " 3   to_user_elevation  146987 non-null  float64\n",
      " 4   total_earning      146987 non-null  int64  \n",
      " 5   created_at         146987 non-null  object \n",
      " 6   taken              146987 non-null  int64  \n",
      "dtypes: float64(2), int64(4), object(1)\n",
      "memory usage: 7.9+ MB\n"
     ]
    }
   ],
   "source": [
    "# Data type of each column\n",
    "db.info()"
   ]
  },
  {
   "cell_type": "code",
   "execution_count": 7,
   "metadata": {},
   "outputs": [
    {
     "name": "stdout",
     "output_type": "stream",
     "text": [
      "1    135407\n",
      "0     11580\n",
      "Name: taken, dtype: int64\n"
     ]
    },
    {
     "data": {
      "image/png": "[encoded data removed]",
      "text/plain": [
       "<Figure size 432x288 with 1 Axes>"
      ]
     },
     "metadata": {},
     "output_type": "display_data"
    }
   ],
   "source": [
    "# How many takens we got?\n",
    "print(db['taken'].value_counts())\n",
    "# pie chart of workers\n",
    "labels = ['Taken', 'Not Taken']\n",
    "sizes = [db['taken'].value_counts()[1],\n",
    "         db['taken'].value_counts()[0]\n",
    "        ]\n",
    "# print(sizes) # adds up to 1433, which is the total number of participants\n",
    "fig1, ax1 = plt.subplots()\n",
    "ax1.pie(sizes, labels=labels, autopct='%1.1f%%', shadow=True)\n",
    "ax1.axis('equal')\n",
    "plt.title('How many takens we got? (%)')\n",
    "\n",
    "plt.show()"
   ]
  },
  {
   "cell_type": "code",
   "execution_count": 8,
   "metadata": {},
   "outputs": [],
   "source": [
    "# Configuration of data types\n",
    "db[\"order_id\"] = db[\"order_id\"].astype('object')\n",
    "db[\"store_id\"] = db[\"store_id\"].astype('object')\n",
    "db[\"to_user_distance\"] = round((db[\"to_user_distance\"]*1000),2).astype('float64')\n",
    "db[\"to_user_elevation\"] = round((db[\"to_user_elevation\"]),2).astype('float64')"
   ]
  },
  {
   "cell_type": "code",
   "execution_count": 9,
   "metadata": {},
   "outputs": [],
   "source": [
    "# Renaming columns\n",
    "db.rename(columns={'to_user_distance':'to_user_distance (mts)', 'to_user_elevation' : 'to_user_elevation (mts)'}, inplace=True)"
   ]
  },
  {
   "cell_type": "code",
   "execution_count": 10,
   "metadata": {},
   "outputs": [],
   "source": [
    "# Triangulation between store and user considering the y and x axis (elevation and distance, respectively)\n",
    "db[\"hypotenuse\"] = ((db[\"to_user_distance (mts)\"]**2)+(db[\"to_user_elevation (mts)\"]**2))**(1/2)\n",
    "db[\"hypotenuse\"] = round(db[\"hypotenuse\"],2).astype('float64')"
   ]
  },
  {
   "cell_type": "code",
   "execution_count": 11,
   "metadata": {},
   "outputs": [],
   "source": [
    "# Regex changes\n",
    "rex = r'T|Z'\n",
    "\n",
    "datetime_db = []\n",
    "\n",
    "for i in db[\"created_at\"]:\n",
    "    datetime_db.append(re.split(rex, i))\n",
    "\n",
    "datetime_db = pd.DataFrame(datetime_db)\n",
    "datetime_db.columns = [\"Date\",\"Time\",\"0\"]\n",
    "datetime_db = datetime_db[[\"Date\",\"Time\"]]"
   ]
  },
  {
   "cell_type": "code",
   "execution_count": 12,
   "metadata": {},
   "outputs": [],
   "source": [
    "# Substituting datetime feature\n",
    "db = db.drop([\"created_at\"], axis = 1)\n",
    "db[[\"Date\",\"Time\"]] = datetime_db[[\"Date\",\"Time\"]].values"
   ]
  },
  {
   "cell_type": "code",
   "execution_count": 13,
   "metadata": {},
   "outputs": [],
   "source": [
    "# Date format\n",
    "db[\"Date\"] = pd.to_datetime(db[\"Date\"], infer_datetime_format=True)\n",
    "\n",
    "db[\"Date_Year\"] = db[\"Date\"].dt.year\n",
    "db[\"Date_Month\"] = db[\"Date\"].dt.month\n",
    "db[\"Date_Day\"] = db[\"Date\"].dt.day_name(locale = \"English\")\n",
    "db[\"Date_MonthDay\"] = db[\"Date\"].dt.day"
   ]
  },
  {
   "cell_type": "code",
   "execution_count": 14,
   "metadata": {},
   "outputs": [],
   "source": [
    "# One-Hot Encoding Day\n",
    "months_db = pd.get_dummies(db[\"Date_Month\"], prefix='Date_Month')\n",
    "months_db = months_db.drop([\"Date_Month_10\"], axis = 1)\n",
    "\n",
    "db[['Date_Month']] = months_db[['Date_Month_9']].values"
   ]
  },
  {
   "cell_type": "code",
   "execution_count": 15,
   "metadata": {},
   "outputs": [],
   "source": [
    "# Because we only have September and October data, it could be convenient having a dummy variable\n",
    "db.rename(columns={'Date_Month':'September'}, inplace=True)"
   ]
  },
  {
   "cell_type": "code",
   "execution_count": 16,
   "metadata": {},
   "outputs": [
    {
     "data": {
      "text/plain": [
       "1    75816\n",
       "0    71171\n",
       "Name: Date_Weekends, dtype: int64"
      ]
     },
     "execution_count": 16,
     "metadata": {},
     "output_type": "execute_result"
    }
   ],
   "source": [
    "# Creating Week-ends\n",
    "col = 'Date_Day'\n",
    "conditions = [ (db[col] == 'Friday') | (db[col] == \"Saturday\") | (db[col] == \"Sunday\") ]\n",
    "choices = [ 1 ]\n",
    "\n",
    "db[\"Date_Weekends\"] = np.select(conditions, choices, default= 0)\n",
    "\n",
    "db[\"Date_Weekends\"].value_counts()"
   ]
  },
  {
   "cell_type": "code",
   "execution_count": 17,
   "metadata": {},
   "outputs": [
    {
     "name": "stdout",
     "output_type": "stream",
     "text": [
      "Saturday     2577\n",
      "Friday       1882\n",
      "Tuesday      1590\n",
      "Thursday     1468\n",
      "Sunday       1441\n",
      "Monday       1325\n",
      "Wednesday    1297\n",
      "Name: Date_Day, dtype: int64\n"
     ]
    },
    {
     "data": {
      "image/png": "[encoded data removed]",
      "text/plain": [
       "<Figure size 432x288 with 1 Axes>"
      ]
     },
     "metadata": {},
     "output_type": "display_data"
    }
   ],
   "source": [
    "# Non-Taken orders by Week day\n",
    "print(db['Date_Day'][db['taken'] == 0].value_counts())\n",
    "\n",
    "# pie chart of workers\n",
    "labels = ['Monday', 'Tuesday', 'Wednesday', 'Thursday', 'Friday', 'Saturday', 'Sunday']\n",
    "sizes = [db['Date_Day'][db['taken'] == 0].value_counts()[\"Monday\"],\n",
    "         db['Date_Day'][db['taken'] == 0].value_counts()[\"Tuesday\"],\n",
    "         db['Date_Day'][db['taken'] == 0].value_counts()[\"Wednesday\"],\n",
    "         db['Date_Day'][db['taken'] == 0].value_counts()[\"Thursday\"],\n",
    "         db['Date_Day'][db['taken'] == 0].value_counts()[\"Friday\"],\n",
    "         db['Date_Day'][db['taken'] == 0].value_counts()[\"Saturday\"],\n",
    "         db['Date_Day'][db['taken'] == 0].value_counts()[\"Sunday\"]\n",
    "        ]\n",
    "# print(sizes) # adds up to 1433, which is the total number of participants\n",
    "fig1, ax1 = plt.subplots()\n",
    "ax1.pie(sizes, labels=labels, autopct='%1.1f%%', shadow=True)\n",
    "ax1.axis('equal')\n",
    "plt.title('Non-Taken orders by Week day (%)')\n",
    "\n",
    "plt.show()"
   ]
  },
  {
   "cell_type": "code",
   "execution_count": 18,
   "metadata": {},
   "outputs": [],
   "source": [
    "# One-Hot Encoding Day\n",
    "date_day_db = pd.get_dummies(db[\"Date_Day\"], prefix='Date_Day')\n",
    "\n",
    "db = db.drop([\"Date_Day\"], axis = 1)\n",
    "db[['Date_Day_Friday', 'Date_Day_Monday', 'Date_Day_Saturday',\n",
    "       'Date_Day_Sunday', 'Date_Day_Thursday', 'Date_Day_Tuesday','Date_Day_Wednesday']] = date_day_db.values"
   ]
  },
  {
   "cell_type": "code",
   "execution_count": 19,
   "metadata": {},
   "outputs": [],
   "source": [
    "# Time format\n",
    "db[\"Time_Hour\"] = pd.to_datetime(db[\"Time\"]).dt.hour"
   ]
  },
  {
   "cell_type": "code",
   "execution_count": 20,
   "metadata": {},
   "outputs": [
    {
     "data": {
      "text/plain": [
       "<matplotlib.axes._subplots.AxesSubplot at 0x216bfccd470>"
      ]
     },
     "execution_count": 20,
     "metadata": {},
     "output_type": "execute_result"
    },
    {
     "data": {
      "image/png": "[encoded data removed]",
      "text/plain": [
       "<Figure size 432x288 with 1 Axes>"
      ]
     },
     "metadata": {
      "needs_background": "light"
     },
     "output_type": "display_data"
    }
   ],
   "source": [
    "# Time_Hour Distribution\n",
    "sbn.distplot(db[\"Time_Hour\"])"
   ]
  },
  {
   "cell_type": "code",
   "execution_count": 21,
   "metadata": {},
   "outputs": [
    {
     "data": {
      "text/plain": [
       "Afternoon        67889\n",
       "Night            45875\n",
       "Morning          31929\n",
       "Early Morning     1294\n",
       "Name: Hour_Group, dtype: int64"
      ]
     },
     "execution_count": 21,
     "metadata": {},
     "output_type": "execute_result"
    }
   ],
   "source": [
    "# Creating a group of hours\n",
    "col = 'Time_Hour'\n",
    "conditions = [ db[col] <= 6, (db[col] > 6) & (db[col] <= 12), (db[col] > 12) & (db[col] <= 18), \n",
    "               (db[col] > 18) & (db[col] <= 23) ]\n",
    "choices = [ \"Early Morning\", \"Morning\", \"Afternoon\", \"Night\" ]\n",
    "\n",
    "db[\"Hour_Group\"] = np.select(conditions, choices, default=np.nan)\n",
    "\n",
    "db[\"Hour_Group\"].value_counts()"
   ]
  },
  {
   "cell_type": "code",
   "execution_count": 22,
   "metadata": {},
   "outputs": [],
   "source": [
    "# One-Hot Encoding Hour Group\n",
    "hour_group_db = pd.get_dummies(db[\"Hour_Group\"], prefix='Hour_Group')\n",
    "\n",
    "db = db.drop([\"Hour_Group\"], axis = 1)\n",
    "db[['Hour_Group_Afternoon', 'Hour_Group_Early Morning',\n",
    "       'Hour_Group_Morning', 'Hour_Group_Night']] = hour_group_db.values"
   ]
  },
  {
   "cell_type": "code",
   "execution_count": 23,
   "metadata": {},
   "outputs": [
    {
     "name": "stdout",
     "output_type": "stream",
     "text": [
      "<class 'pandas.core.frame.DataFrame'>\n",
      "RangeIndex: 146987 entries, 0 to 146986\n",
      "Data columns (total 25 columns):\n",
      " #   Column                    Non-Null Count   Dtype         \n",
      "---  ------                    --------------   -----         \n",
      " 0   order_id                  146987 non-null  object        \n",
      " 1   store_id                  146987 non-null  object        \n",
      " 2   to_user_distance (mts)    146987 non-null  float64       \n",
      " 3   to_user_elevation (mts)   146987 non-null  float64       \n",
      " 4   total_earning             146987 non-null  int64         \n",
      " 5   taken                     146987 non-null  int64         \n",
      " 6   hypotenuse                146987 non-null  float64       \n",
      " 7   Date                      146987 non-null  datetime64[ns]\n",
      " 8   Time                      146987 non-null  object        \n",
      " 9   Date_Year                 146987 non-null  int64         \n",
      " 10  September                 146987 non-null  int64         \n",
      " 11  Date_MonthDay             146987 non-null  int64         \n",
      " 12  Date_Weekends             146987 non-null  int32         \n",
      " 13  Date_Day_Friday           146987 non-null  int64         \n",
      " 14  Date_Day_Monday           146987 non-null  int64         \n",
      " 15  Date_Day_Saturday         146987 non-null  int64         \n",
      " 16  Date_Day_Sunday           146987 non-null  int64         \n",
      " 17  Date_Day_Thursday         146987 non-null  int64         \n",
      " 18  Date_Day_Tuesday          146987 non-null  int64         \n",
      " 19  Date_Day_Wednesday        146987 non-null  int64         \n",
      " 20  Time_Hour                 146987 non-null  int64         \n",
      " 21  Hour_Group_Afternoon      146987 non-null  int64         \n",
      " 22  Hour_Group_Early Morning  146987 non-null  int64         \n",
      " 23  Hour_Group_Morning        146987 non-null  int64         \n",
      " 24  Hour_Group_Night          146987 non-null  int64         \n",
      "dtypes: datetime64[ns](1), float64(3), int32(1), int64(17), object(3)\n",
      "memory usage: 27.5+ MB\n"
     ]
    }
   ],
   "source": [
    "# Data type of each feature\n",
    "db.info()"
   ]
  },
  {
   "cell_type": "code",
   "execution_count": 24,
   "metadata": {},
   "outputs": [
    {
     "data": {
      "text/html": [
       "<div>\n",
       "<style scoped>\n",
       "    .dataframe tbody tr th:only-of-type {\n",
       "        vertical-align: middle;\n",
       "    }\n",
       "\n",
       "    .dataframe tbody tr th {\n",
       "        vertical-align: top;\n",
       "    }\n",
       "\n",
       "    .dataframe thead th {\n",
       "        text-align: right;\n",
       "    }\n",
       "</style>\n",
       "<table border=\"1\" class=\"dataframe\">\n",
       "  <thead>\n",
       "    <tr style=\"text-align: right;\">\n",
       "      <th></th>\n",
       "      <th>September</th>\n",
       "      <th>Date_MonthDay</th>\n",
       "      <th>Date_Weekends</th>\n",
       "      <th>Date_Day_Friday</th>\n",
       "      <th>Date_Day_Monday</th>\n",
       "      <th>Date_Day_Saturday</th>\n",
       "      <th>Date_Day_Sunday</th>\n",
       "      <th>Date_Day_Thursday</th>\n",
       "      <th>Date_Day_Tuesday</th>\n",
       "      <th>Date_Day_Wednesday</th>\n",
       "      <th>Time_Hour</th>\n",
       "      <th>Hour_Group_Afternoon</th>\n",
       "      <th>Hour_Group_Early Morning</th>\n",
       "      <th>Hour_Group_Morning</th>\n",
       "      <th>Hour_Group_Night</th>\n",
       "    </tr>\n",
       "  </thead>\n",
       "  <tbody>\n",
       "    <tr>\n",
       "      <th>0</th>\n",
       "      <td>1</td>\n",
       "      <td>7</td>\n",
       "      <td>0</td>\n",
       "      <td>0</td>\n",
       "      <td>0</td>\n",
       "      <td>0</td>\n",
       "      <td>0</td>\n",
       "      <td>1</td>\n",
       "      <td>0</td>\n",
       "      <td>0</td>\n",
       "      <td>20</td>\n",
       "      <td>0</td>\n",
       "      <td>0</td>\n",
       "      <td>0</td>\n",
       "      <td>1</td>\n",
       "    </tr>\n",
       "    <tr>\n",
       "      <th>1</th>\n",
       "      <td>1</td>\n",
       "      <td>7</td>\n",
       "      <td>0</td>\n",
       "      <td>0</td>\n",
       "      <td>0</td>\n",
       "      <td>0</td>\n",
       "      <td>0</td>\n",
       "      <td>1</td>\n",
       "      <td>0</td>\n",
       "      <td>0</td>\n",
       "      <td>20</td>\n",
       "      <td>0</td>\n",
       "      <td>0</td>\n",
       "      <td>0</td>\n",
       "      <td>1</td>\n",
       "    </tr>\n",
       "    <tr>\n",
       "      <th>2</th>\n",
       "      <td>1</td>\n",
       "      <td>7</td>\n",
       "      <td>0</td>\n",
       "      <td>0</td>\n",
       "      <td>0</td>\n",
       "      <td>0</td>\n",
       "      <td>0</td>\n",
       "      <td>1</td>\n",
       "      <td>0</td>\n",
       "      <td>0</td>\n",
       "      <td>20</td>\n",
       "      <td>0</td>\n",
       "      <td>0</td>\n",
       "      <td>0</td>\n",
       "      <td>1</td>\n",
       "    </tr>\n",
       "  </tbody>\n",
       "</table>\n",
       "</div>"
      ],
      "text/plain": [
       "   September  Date_MonthDay  Date_Weekends  Date_Day_Friday  Date_Day_Monday  \\\n",
       "0          1              7              0                0                0   \n",
       "1          1              7              0                0                0   \n",
       "2          1              7              0                0                0   \n",
       "\n",
       "   Date_Day_Saturday  Date_Day_Sunday  Date_Day_Thursday  Date_Day_Tuesday  \\\n",
       "0                  0                0                  1                 0   \n",
       "1                  0                0                  1                 0   \n",
       "2                  0                0                  1                 0   \n",
       "\n",
       "   Date_Day_Wednesday  Time_Hour  Hour_Group_Afternoon  \\\n",
       "0                   0         20                     0   \n",
       "1                   0         20                     0   \n",
       "2                   0         20                     0   \n",
       "\n",
       "   Hour_Group_Early Morning  Hour_Group_Morning  Hour_Group_Night  \n",
       "0                         0                   0                 1  \n",
       "1                         0                   0                 1  \n",
       "2                         0                   0                 1  "
      ]
     },
     "execution_count": 24,
     "metadata": {},
     "output_type": "execute_result"
    }
   ],
   "source": [
    "# Final database\n",
    "db.iloc[:,10:].head(3)"
   ]
  },
  {
   "cell_type": "code",
   "execution_count": 25,
   "metadata": {},
   "outputs": [
    {
     "data": {
      "text/plain": [
       "Index(['order_id', 'store_id', 'to_user_distance (mts)',\n",
       "       'to_user_elevation (mts)', 'total_earning', 'taken', 'hypotenuse',\n",
       "       'Date', 'Time', 'Date_Year', 'September', 'Date_MonthDay',\n",
       "       'Date_Weekends', 'Date_Day_Friday', 'Date_Day_Monday',\n",
       "       'Date_Day_Saturday', 'Date_Day_Sunday', 'Date_Day_Thursday',\n",
       "       'Date_Day_Tuesday', 'Date_Day_Wednesday', 'Time_Hour',\n",
       "       'Hour_Group_Afternoon', 'Hour_Group_Early Morning',\n",
       "       'Hour_Group_Morning', 'Hour_Group_Night'],\n",
       "      dtype='object')"
      ]
     },
     "execution_count": 25,
     "metadata": {},
     "output_type": "execute_result"
    }
   ],
   "source": [
    "# Column list of the database\n",
    "db.columns"
   ]
  },
  {
   "cell_type": "code",
   "execution_count": 26,
   "metadata": {},
   "outputs": [],
   "source": [
    "# Let's create a copy just in case\n",
    "db_original = copy.copy(db)"
   ]
  },
  {
   "cell_type": "code",
   "execution_count": 27,
   "metadata": {},
   "outputs": [
    {
     "data": {
      "text/html": [
       "<div>\n",
       "<style scoped>\n",
       "    .dataframe tbody tr th:only-of-type {\n",
       "        vertical-align: middle;\n",
       "    }\n",
       "\n",
       "    .dataframe tbody tr th {\n",
       "        vertical-align: top;\n",
       "    }\n",
       "\n",
       "    .dataframe thead th {\n",
       "        text-align: right;\n",
       "    }\n",
       "</style>\n",
       "<table border=\"1\" class=\"dataframe\">\n",
       "  <thead>\n",
       "    <tr style=\"text-align: right;\">\n",
       "      <th></th>\n",
       "      <th>order_id</th>\n",
       "      <th>store_id</th>\n",
       "      <th>to_user_distance (mts)</th>\n",
       "      <th>to_user_elevation (mts)</th>\n",
       "      <th>total_earning</th>\n",
       "      <th>taken</th>\n",
       "      <th>hypotenuse</th>\n",
       "      <th>Date</th>\n",
       "      <th>Time</th>\n",
       "      <th>Date_Year</th>\n",
       "      <th>...</th>\n",
       "      <th>Date_Day_Saturday</th>\n",
       "      <th>Date_Day_Sunday</th>\n",
       "      <th>Date_Day_Thursday</th>\n",
       "      <th>Date_Day_Tuesday</th>\n",
       "      <th>Date_Day_Wednesday</th>\n",
       "      <th>Time_Hour</th>\n",
       "      <th>Hour_Group_Afternoon</th>\n",
       "      <th>Hour_Group_Early Morning</th>\n",
       "      <th>Hour_Group_Morning</th>\n",
       "      <th>Hour_Group_Night</th>\n",
       "    </tr>\n",
       "  </thead>\n",
       "  <tbody>\n",
       "    <tr>\n",
       "      <th>0</th>\n",
       "      <td>14364873</td>\n",
       "      <td>30000009</td>\n",
       "      <td>2478.10</td>\n",
       "      <td>-72.72</td>\n",
       "      <td>4200</td>\n",
       "      <td>0</td>\n",
       "      <td>2479.17</td>\n",
       "      <td>2017-09-07</td>\n",
       "      <td>20:02:17</td>\n",
       "      <td>2017</td>\n",
       "      <td>...</td>\n",
       "      <td>0</td>\n",
       "      <td>0</td>\n",
       "      <td>1</td>\n",
       "      <td>0</td>\n",
       "      <td>0</td>\n",
       "      <td>20</td>\n",
       "      <td>0</td>\n",
       "      <td>0</td>\n",
       "      <td>0</td>\n",
       "      <td>1</td>\n",
       "    </tr>\n",
       "    <tr>\n",
       "      <th>1</th>\n",
       "      <td>14370123</td>\n",
       "      <td>30000058</td>\n",
       "      <td>451.71</td>\n",
       "      <td>37.75</td>\n",
       "      <td>4200</td>\n",
       "      <td>0</td>\n",
       "      <td>453.28</td>\n",
       "      <td>2017-09-07</td>\n",
       "      <td>20:13:16</td>\n",
       "      <td>2017</td>\n",
       "      <td>...</td>\n",
       "      <td>0</td>\n",
       "      <td>0</td>\n",
       "      <td>1</td>\n",
       "      <td>0</td>\n",
       "      <td>0</td>\n",
       "      <td>20</td>\n",
       "      <td>0</td>\n",
       "      <td>0</td>\n",
       "      <td>0</td>\n",
       "      <td>1</td>\n",
       "    </tr>\n",
       "    <tr>\n",
       "      <th>2</th>\n",
       "      <td>14368534</td>\n",
       "      <td>900003684</td>\n",
       "      <td>2026.07</td>\n",
       "      <td>207.19</td>\n",
       "      <td>4000</td>\n",
       "      <td>0</td>\n",
       "      <td>2036.64</td>\n",
       "      <td>2017-09-07</td>\n",
       "      <td>20:07:23</td>\n",
       "      <td>2017</td>\n",
       "      <td>...</td>\n",
       "      <td>0</td>\n",
       "      <td>0</td>\n",
       "      <td>1</td>\n",
       "      <td>0</td>\n",
       "      <td>0</td>\n",
       "      <td>20</td>\n",
       "      <td>0</td>\n",
       "      <td>0</td>\n",
       "      <td>0</td>\n",
       "      <td>1</td>\n",
       "    </tr>\n",
       "    <tr>\n",
       "      <th>3</th>\n",
       "      <td>14370258</td>\n",
       "      <td>900014452</td>\n",
       "      <td>2671.43</td>\n",
       "      <td>1.72</td>\n",
       "      <td>4400</td>\n",
       "      <td>1</td>\n",
       "      <td>2671.43</td>\n",
       "      <td>2017-09-07</td>\n",
       "      <td>20:15:19</td>\n",
       "      <td>2017</td>\n",
       "      <td>...</td>\n",
       "      <td>0</td>\n",
       "      <td>0</td>\n",
       "      <td>1</td>\n",
       "      <td>0</td>\n",
       "      <td>0</td>\n",
       "      <td>20</td>\n",
       "      <td>0</td>\n",
       "      <td>0</td>\n",
       "      <td>0</td>\n",
       "      <td>1</td>\n",
       "    </tr>\n",
       "    <tr>\n",
       "      <th>4</th>\n",
       "      <td>14369923</td>\n",
       "      <td>900014085</td>\n",
       "      <td>965.50</td>\n",
       "      <td>117.43</td>\n",
       "      <td>3450</td>\n",
       "      <td>1</td>\n",
       "      <td>972.62</td>\n",
       "      <td>2017-09-07</td>\n",
       "      <td>20:12:14</td>\n",
       "      <td>2017</td>\n",
       "      <td>...</td>\n",
       "      <td>0</td>\n",
       "      <td>0</td>\n",
       "      <td>1</td>\n",
       "      <td>0</td>\n",
       "      <td>0</td>\n",
       "      <td>20</td>\n",
       "      <td>0</td>\n",
       "      <td>0</td>\n",
       "      <td>0</td>\n",
       "      <td>1</td>\n",
       "    </tr>\n",
       "  </tbody>\n",
       "</table>\n",
       "<p>5 rows × 25 columns</p>\n",
       "</div>"
      ],
      "text/plain": [
       "   order_id   store_id  to_user_distance (mts)  to_user_elevation (mts)  \\\n",
       "0  14364873   30000009                 2478.10                   -72.72   \n",
       "1  14370123   30000058                  451.71                    37.75   \n",
       "2  14368534  900003684                 2026.07                   207.19   \n",
       "3  14370258  900014452                 2671.43                     1.72   \n",
       "4  14369923  900014085                  965.50                   117.43   \n",
       "\n",
       "   total_earning  taken  hypotenuse       Date      Time  Date_Year  ...  \\\n",
       "0           4200      0     2479.17 2017-09-07  20:02:17       2017  ...   \n",
       "1           4200      0      453.28 2017-09-07  20:13:16       2017  ...   \n",
       "2           4000      0     2036.64 2017-09-07  20:07:23       2017  ...   \n",
       "3           4400      1     2671.43 2017-09-07  20:15:19       2017  ...   \n",
       "4           3450      1      972.62 2017-09-07  20:12:14       2017  ...   \n",
       "\n",
       "   Date_Day_Saturday  Date_Day_Sunday  Date_Day_Thursday  Date_Day_Tuesday  \\\n",
       "0                  0                0                  1                 0   \n",
       "1                  0                0                  1                 0   \n",
       "2                  0                0                  1                 0   \n",
       "3                  0                0                  1                 0   \n",
       "4                  0                0                  1                 0   \n",
       "\n",
       "   Date_Day_Wednesday  Time_Hour  Hour_Group_Afternoon  \\\n",
       "0                   0         20                     0   \n",
       "1                   0         20                     0   \n",
       "2                   0         20                     0   \n",
       "3                   0         20                     0   \n",
       "4                   0         20                     0   \n",
       "\n",
       "   Hour_Group_Early Morning  Hour_Group_Morning  Hour_Group_Night  \n",
       "0                         0                   0                 1  \n",
       "1                         0                   0                 1  \n",
       "2                         0                   0                 1  \n",
       "3                         0                   0                 1  \n",
       "4                         0                   0                 1  \n",
       "\n",
       "[5 rows x 25 columns]"
      ]
     },
     "execution_count": 27,
     "metadata": {},
     "output_type": "execute_result"
    }
   ],
   "source": [
    "# So this is the original database after some changes\n",
    "db_original.head()"
   ]
  },
  {
   "cell_type": "markdown",
   "metadata": {},
   "source": [
    "In order to eliminate False Positives, I will drop all the outliers in hypotenuse, which represents total distance."
   ]
  },
  {
   "cell_type": "code",
   "execution_count": 28,
   "metadata": {},
   "outputs": [],
   "source": [
    "# Excluding outliers in the distance feature\n",
    "db_no_outliers = db[db['hypotenuse'].between(db['hypotenuse'].quantile(.05), db['hypotenuse'].quantile(.95)) == True]"
   ]
  },
  {
   "cell_type": "code",
   "execution_count": 29,
   "metadata": {},
   "outputs": [],
   "source": [
    "# Defining scalar\n",
    "scaler = StandardScaler()\n",
    "\n",
    "db_scaled = pd.DataFrame(scaler.fit_transform(db_no_outliers[['to_user_distance (mts)',\n",
    "                                                  'to_user_elevation (mts)', 'total_earning', 'hypotenuse']]))\n",
    "\n",
    "db_scaled.columns = ['to_user_distance (mts)','to_user_elevation (mts)', 'total_earning', 'hypotenuse']\n",
    "\n",
    "\n",
    "db_no_outliers[['to_user_distance (mts)','to_user_elevation (mts)', 'total_earning', 'hypotenuse']] = db_scaled[['to_user_distance (mts)','to_user_elevation (mts)', 'total_earning', 'hypotenuse']].values"
   ]
  },
  {
   "cell_type": "code",
   "execution_count": 30,
   "metadata": {},
   "outputs": [],
   "source": [
    "# Select the most important variables\n",
    "X = db_no_outliers[['total_earning', 'hypotenuse','September','Date_Weekends', 'Date_Day_Friday',\n",
    "        'Date_Day_Saturday', 'Date_Day_Sunday','Date_Day_Thursday','Date_Day_Tuesday', \n",
    "        'Date_Day_Wednesday','Hour_Group_Afternoon','Hour_Group_Morning', 'Hour_Group_Night',\n",
    "        'to_user_distance (mts)','to_user_elevation (mts)', 'Date_MonthDay', 'Date_Day_Monday',\n",
    "        'Time_Hour', 'Hour_Group_Early Morning']]\n",
    "\n",
    "y = db_no_outliers[['taken']]"
   ]
  },
  {
   "cell_type": "code",
   "execution_count": 31,
   "metadata": {},
   "outputs": [],
   "source": [
    "# Splitting my database to model it\n",
    "X_train, X_test, y_train, y_test = train_test_split(X, y,\n",
    "                                                    test_size=0.3, stratify=y)"
   ]
  },
  {
   "cell_type": "code",
   "execution_count": 32,
   "metadata": {
    "scrolled": true
   },
   "outputs": [],
   "source": [
    "#from sklearn.model_selection import StratifiedShuffleSplit\n",
    "\n",
    "#sss = StratifiedShuffleSplit(n_splits=10, test_size=0.3)\n",
    "\n",
    "#for train_index, test_index in sss.split(X, y):\n",
    "#    X_train, X_test = X.iloc[train_index], X.iloc[test_index]\n",
    "#    y_train, y_test = y.iloc[train_index], y.iloc[test_index]"
   ]
  },
  {
   "cell_type": "markdown",
   "metadata": {},
   "source": [
    "## III. Modeling:"
   ]
  },
  {
   "cell_type": "markdown",
   "metadata": {},
   "source": [
    "Steps:\n",
    "* Hyperparameter Tunning\n",
    "* Model Selection"
   ]
  },
  {
   "cell_type": "markdown",
   "metadata": {},
   "source": [
    "**a) Logistic Regression:**"
   ]
  },
  {
   "cell_type": "code",
   "execution_count": 33,
   "metadata": {},
   "outputs": [],
   "source": [
    "# Hyperparameter Optimization\n",
    "log_reg = LogisticRegression()\n",
    "param_grid1 = [{'penalty' : ['l2'],\n",
    "               'C' : np.logspace(-4,4,5),\n",
    "               'solver' : ['newton-cg', 'lbfgs', 'liblinear', 'sag', 'saga']\n",
    "              }]\n",
    "\n",
    "\n",
    "clf_log_reg = GridSearchCV(log_reg, param_grid = param_grid1, cv = 5, verbose = True, n_jobs = 8, scoring ='roc_auc')"
   ]
  },
  {
   "cell_type": "code",
   "execution_count": 34,
   "metadata": {},
   "outputs": [],
   "source": [
    "# GridSearchCV help us to run at once many combinations of hyperparameters\n",
    "#best_clf_log_reg = clf_log_reg.fit(X_train, y_train)"
   ]
  },
  {
   "cell_type": "code",
   "execution_count": 35,
   "metadata": {},
   "outputs": [],
   "source": [
    "# The following is the result of the best model considering the ROC AUC\n",
    "#print(best_clf_log_reg.best_estimator_)"
   ]
  },
  {
   "cell_type": "code",
   "execution_count": 36,
   "metadata": {},
   "outputs": [],
   "source": [
    "# The best model considering the set of options I tested in the previous lines\n",
    "log_reg2 = LogisticRegression(C=10000.0, class_weight=None, dual=False,\n",
    "          fit_intercept=True, intercept_scaling=1, max_iter=100,\n",
    "          multi_class='ovr', n_jobs=1, penalty='l2', random_state=None,\n",
    "          solver='lbfgs', tol=0.0001, verbose=0, warm_start=False)"
   ]
  },
  {
   "cell_type": "code",
   "execution_count": 37,
   "metadata": {},
   "outputs": [],
   "source": [
    "# Training the model\n",
    "best_clf_log_reg = log_reg2.fit(X, y)"
   ]
  },
  {
   "cell_type": "code",
   "execution_count": 38,
   "metadata": {},
   "outputs": [],
   "source": [
    "# Run the predictions using the test set\n",
    "grid_predictions_log_reg = log_reg2.predict(X_test)"
   ]
  },
  {
   "cell_type": "code",
   "execution_count": 39,
   "metadata": {},
   "outputs": [
    {
     "name": "stdout",
     "output_type": "stream",
     "text": [
      "[[    0  3130]\n",
      " [    0 36557]]\n"
     ]
    }
   ],
   "source": [
    "# The confusion matrix will help us know how good is the model in classifying the target variable\n",
    "print(confusion_matrix(y_test,grid_predictions_log_reg))"
   ]
  },
  {
   "cell_type": "code",
   "execution_count": 40,
   "metadata": {},
   "outputs": [
    {
     "name": "stdout",
     "output_type": "stream",
     "text": [
      "             precision    recall  f1-score   support\n",
      "\n",
      "          0       0.00      0.00      0.00      3130\n",
      "          1       0.92      1.00      0.96     36557\n",
      "\n",
      "avg / total       0.85      0.92      0.88     39687\n",
      "\n"
     ]
    }
   ],
   "source": [
    "# Accuracy metrics\n",
    "print(classification_report(y_test,grid_predictions_log_reg))"
   ]
  },
  {
   "cell_type": "code",
   "execution_count": 41,
   "metadata": {},
   "outputs": [
    {
     "name": "stdout",
     "output_type": "stream",
     "text": [
      "AUC: 65.0 Accuracy: 92.0\n"
     ]
    }
   ],
   "source": [
    "# This last test will tell us which model is the best one\n",
    "print('AUC:', round(cross_val_score(log_reg2, X_test, y_test, cv=5, scoring='roc_auc').mean(),2)*100, 'Accuracy:', \n",
    "      round(cross_val_score(log_reg2, X_test, y_test, cv=5, scoring='accuracy').mean(),2)*100)"
   ]
  },
  {
   "cell_type": "markdown",
   "metadata": {},
   "source": [
    "The coefficients of this model can give us an idea of the importance of each one of the variables. According to the Log Regression, the most important variables are: Hour_Group and Date_Day ones."
   ]
  },
  {
   "cell_type": "code",
   "execution_count": 42,
   "metadata": {},
   "outputs": [
    {
     "data": {
      "text/html": [
       "<div>\n",
       "<style scoped>\n",
       "    .dataframe tbody tr th:only-of-type {\n",
       "        vertical-align: middle;\n",
       "    }\n",
       "\n",
       "    .dataframe tbody tr th {\n",
       "        vertical-align: top;\n",
       "    }\n",
       "\n",
       "    .dataframe thead th {\n",
       "        text-align: right;\n",
       "    }\n",
       "</style>\n",
       "<table border=\"1\" class=\"dataframe\">\n",
       "  <thead>\n",
       "    <tr style=\"text-align: right;\">\n",
       "      <th></th>\n",
       "      <th>Coef</th>\n",
       "    </tr>\n",
       "  </thead>\n",
       "  <tbody>\n",
       "    <tr>\n",
       "      <th>Hour_Group_Afternoon</th>\n",
       "      <td>0.989447</td>\n",
       "    </tr>\n",
       "    <tr>\n",
       "      <th>Hour_Group_Morning</th>\n",
       "      <td>0.867601</td>\n",
       "    </tr>\n",
       "    <tr>\n",
       "      <th>Hour_Group_Night</th>\n",
       "      <td>0.860448</td>\n",
       "    </tr>\n",
       "    <tr>\n",
       "      <th>Date_Day_Wednesday</th>\n",
       "      <td>0.597842</td>\n",
       "    </tr>\n",
       "    <tr>\n",
       "      <th>Date_Day_Sunday</th>\n",
       "      <td>0.505474</td>\n",
       "    </tr>\n",
       "    <tr>\n",
       "      <th>Date_Day_Tuesday</th>\n",
       "      <td>0.366511</td>\n",
       "    </tr>\n",
       "    <tr>\n",
       "      <th>Date_Day_Thursday</th>\n",
       "      <td>0.337611</td>\n",
       "    </tr>\n",
       "    <tr>\n",
       "      <th>Date_Weekends</th>\n",
       "      <td>0.323323</td>\n",
       "    </tr>\n",
       "    <tr>\n",
       "      <th>Date_Day_Monday</th>\n",
       "      <td>0.320717</td>\n",
       "    </tr>\n",
       "    <tr>\n",
       "      <th>total_earning</th>\n",
       "      <td>0.268286</td>\n",
       "    </tr>\n",
       "    <tr>\n",
       "      <th>to_user_elevation (mts)</th>\n",
       "      <td>0.078699</td>\n",
       "    </tr>\n",
       "    <tr>\n",
       "      <th>September</th>\n",
       "      <td>0.042866</td>\n",
       "    </tr>\n",
       "    <tr>\n",
       "      <th>Date_MonthDay</th>\n",
       "      <td>-0.006816</td>\n",
       "    </tr>\n",
       "    <tr>\n",
       "      <th>Time_Hour</th>\n",
       "      <td>-0.039999</td>\n",
       "    </tr>\n",
       "    <tr>\n",
       "      <th>Date_Day_Saturday</th>\n",
       "      <td>-0.091005</td>\n",
       "    </tr>\n",
       "    <tr>\n",
       "      <th>Date_Day_Friday</th>\n",
       "      <td>-0.091145</td>\n",
       "    </tr>\n",
       "    <tr>\n",
       "      <th>to_user_distance (mts)</th>\n",
       "      <td>-0.156733</td>\n",
       "    </tr>\n",
       "    <tr>\n",
       "      <th>hypotenuse</th>\n",
       "      <td>-0.194245</td>\n",
       "    </tr>\n",
       "    <tr>\n",
       "      <th>Hour_Group_Early Morning</th>\n",
       "      <td>-0.771491</td>\n",
       "    </tr>\n",
       "  </tbody>\n",
       "</table>\n",
       "</div>"
      ],
      "text/plain": [
       "                              Coef\n",
       "Hour_Group_Afternoon      0.989447\n",
       "Hour_Group_Morning        0.867601\n",
       "Hour_Group_Night          0.860448\n",
       "Date_Day_Wednesday        0.597842\n",
       "Date_Day_Sunday           0.505474\n",
       "Date_Day_Tuesday          0.366511\n",
       "Date_Day_Thursday         0.337611\n",
       "Date_Weekends             0.323323\n",
       "Date_Day_Monday           0.320717\n",
       "total_earning             0.268286\n",
       "to_user_elevation (mts)   0.078699\n",
       "September                 0.042866\n",
       "Date_MonthDay            -0.006816\n",
       "Time_Hour                -0.039999\n",
       "Date_Day_Saturday        -0.091005\n",
       "Date_Day_Friday          -0.091145\n",
       "to_user_distance (mts)   -0.156733\n",
       "hypotenuse               -0.194245\n",
       "Hour_Group_Early Morning -0.771491"
      ]
     },
     "execution_count": 42,
     "metadata": {},
     "output_type": "execute_result"
    }
   ],
   "source": [
    "# Coefficients\n",
    "log_reg_coef = pd.DataFrame(best_clf_log_reg.coef_, columns = list(X.columns)).transpose()\n",
    "log_reg_coef = log_reg_coef.sort_values(by = [0], ascending=False)\n",
    "log_reg_coef.columns = ['Coef']\n",
    "log_reg_coef"
   ]
  },
  {
   "cell_type": "markdown",
   "metadata": {},
   "source": [
    "**b) Random Forest:**"
   ]
  },
  {
   "cell_type": "code",
   "execution_count": 43,
   "metadata": {},
   "outputs": [],
   "source": [
    "# Hyperparameter Optimization\n",
    "rfc = RandomForestClassifier()\n",
    "param_grid2 = [{ \n",
    "    'n_estimators': [200, 500],\n",
    "    'max_features': ['auto', 'sqrt', 'log2'],\n",
    "    'max_depth' : [4,6,8],\n",
    "    'criterion' :['gini', 'entropy']}]\n",
    "\n",
    "clf_rfc = GridSearchCV(rfc, param_grid = param_grid2, cv = 5, verbose = True, n_jobs = 8, scoring ='roc_auc')"
   ]
  },
  {
   "cell_type": "code",
   "execution_count": 44,
   "metadata": {},
   "outputs": [],
   "source": [
    "#best_clf_rfc = clf_rfc.fit(X, y)"
   ]
  },
  {
   "cell_type": "code",
   "execution_count": 45,
   "metadata": {},
   "outputs": [],
   "source": [
    "#print(best_clf_rfc.best_estimator_)"
   ]
  },
  {
   "cell_type": "code",
   "execution_count": 46,
   "metadata": {},
   "outputs": [],
   "source": [
    "rfc2 = RandomForestClassifier(bootstrap=True, class_weight=None, criterion='entropy',\n",
    "            max_depth=8, max_features='auto', max_leaf_nodes=None,\n",
    "            min_impurity_decrease=0.0, min_impurity_split=None,\n",
    "            min_samples_leaf=1, min_samples_split=2,\n",
    "            min_weight_fraction_leaf=0.0, n_estimators=500, n_jobs=1,\n",
    "            oob_score=False, random_state=None, verbose=0,\n",
    "            warm_start=False)"
   ]
  },
  {
   "cell_type": "code",
   "execution_count": 47,
   "metadata": {},
   "outputs": [],
   "source": [
    "best_clf_rfc = rfc2.fit(X, y)"
   ]
  },
  {
   "cell_type": "code",
   "execution_count": 48,
   "metadata": {},
   "outputs": [],
   "source": [
    "grid_predictions_rfc = best_clf_rfc.predict(X_test)"
   ]
  },
  {
   "cell_type": "code",
   "execution_count": 49,
   "metadata": {},
   "outputs": [
    {
     "name": "stdout",
     "output_type": "stream",
     "text": [
      "[[    1  3129]\n",
      " [    0 36557]]\n"
     ]
    }
   ],
   "source": [
    "print(confusion_matrix(y_test,grid_predictions_rfc))"
   ]
  },
  {
   "cell_type": "code",
   "execution_count": 50,
   "metadata": {},
   "outputs": [
    {
     "name": "stdout",
     "output_type": "stream",
     "text": [
      "             precision    recall  f1-score   support\n",
      "\n",
      "          0       1.00      0.00      0.00      3130\n",
      "          1       0.92      1.00      0.96     36557\n",
      "\n",
      "avg / total       0.93      0.92      0.88     39687\n",
      "\n"
     ]
    }
   ],
   "source": [
    "print(classification_report(y_test,grid_predictions_rfc))"
   ]
  },
  {
   "cell_type": "code",
   "execution_count": 51,
   "metadata": {},
   "outputs": [
    {
     "name": "stdout",
     "output_type": "stream",
     "text": [
      "AUC: 70.0 Accuracy: 92.0\n"
     ]
    }
   ],
   "source": [
    "print('AUC:', round(cross_val_score(rfc2, X_test, y_test, cv=5, scoring='roc_auc').mean(),2)*100, 'Accuracy:', \n",
    "      round(cross_val_score(rfc2, X_test, y_test, cv=5, scoring='accuracy').mean(),2)*100)"
   ]
  },
  {
   "cell_type": "markdown",
   "metadata": {},
   "source": [
    "**c) Gradient Boosting Classifier:**"
   ]
  },
  {
   "cell_type": "code",
   "execution_count": 52,
   "metadata": {},
   "outputs": [],
   "source": [
    "# Hyperparameter Optimization\n",
    "gbc = GradientBoostingClassifier()\n",
    "param_grid3 = [{\n",
    "    \"loss\":[\"deviance\"],\n",
    "    \"learning_rate\": [0.01, 0.1],\n",
    "    \"min_samples_split\": np.linspace(0.1, 0.5, 6),\n",
    "    \"min_samples_leaf\": np.linspace(0.1, 0.5, 6),\n",
    "    \"max_depth\":[3,8],\n",
    "    \"max_features\":[\"log2\",\"sqrt\"],\n",
    "    \"subsample\":[0.5, 1.0],\n",
    "    \"n_estimators\":[10]\n",
    "    }]\n",
    "\n",
    "clf_gbc = GridSearchCV(gbc, param_grid = param_grid3, cv = 5, verbose = True, n_jobs = 8, scoring ='roc_auc')"
   ]
  },
  {
   "cell_type": "code",
   "execution_count": 53,
   "metadata": {},
   "outputs": [],
   "source": [
    "#best_clf_gbc = clf_gbc.fit(X_train, y_train)"
   ]
  },
  {
   "cell_type": "code",
   "execution_count": 54,
   "metadata": {},
   "outputs": [],
   "source": [
    "#print(best_clf_gbc.best_estimator_)"
   ]
  },
  {
   "cell_type": "code",
   "execution_count": 55,
   "metadata": {},
   "outputs": [],
   "source": [
    "gbc2 = GradientBoostingClassifier(criterion='friedman_mse', init=None,\n",
    "              learning_rate=0.1, loss='deviance', max_depth=8,\n",
    "              max_features='log2', max_leaf_nodes=None,\n",
    "              min_impurity_decrease=0.0, min_impurity_split=None,\n",
    "              min_samples_leaf=0.1, min_samples_split=0.1,\n",
    "              min_weight_fraction_leaf=0.0, n_estimators=10,\n",
    "              presort='auto', random_state=None, subsample=1.0, verbose=0,\n",
    "              warm_start=False)"
   ]
  },
  {
   "cell_type": "code",
   "execution_count": 56,
   "metadata": {},
   "outputs": [],
   "source": [
    "best_clf_gbc = gbc2.fit(X, y)"
   ]
  },
  {
   "cell_type": "code",
   "execution_count": 57,
   "metadata": {},
   "outputs": [],
   "source": [
    "grid_predictions_gbc = best_clf_gbc.predict(X_test)"
   ]
  },
  {
   "cell_type": "code",
   "execution_count": 58,
   "metadata": {},
   "outputs": [
    {
     "name": "stdout",
     "output_type": "stream",
     "text": [
      "[[    0  3130]\n",
      " [    0 36557]]\n"
     ]
    }
   ],
   "source": [
    "print(confusion_matrix(y_test,grid_predictions_gbc))"
   ]
  },
  {
   "cell_type": "code",
   "execution_count": 59,
   "metadata": {},
   "outputs": [
    {
     "name": "stdout",
     "output_type": "stream",
     "text": [
      "             precision    recall  f1-score   support\n",
      "\n",
      "          0       0.00      0.00      0.00      3130\n",
      "          1       0.92      1.00      0.96     36557\n",
      "\n",
      "avg / total       0.85      0.92      0.88     39687\n",
      "\n"
     ]
    }
   ],
   "source": [
    "print(classification_report(y_test,grid_predictions_gbc))"
   ]
  },
  {
   "cell_type": "code",
   "execution_count": 60,
   "metadata": {},
   "outputs": [
    {
     "name": "stdout",
     "output_type": "stream",
     "text": [
      "AUC: 66.0 Accuracy: 92.0\n"
     ]
    }
   ],
   "source": [
    "print('AUC:', round(cross_val_score(gbc2, X_test, y_test, cv=5, scoring='roc_auc').mean(),2)*100, 'Accuracy:', \n",
    "      round(cross_val_score(gbc2, X_test, y_test, cv=5, scoring='accuracy').mean(),2)*100)"
   ]
  },
  {
   "cell_type": "markdown",
   "metadata": {},
   "source": [
    "**d) Ada Boost Classifier:**"
   ]
  },
  {
   "cell_type": "code",
   "execution_count": 61,
   "metadata": {},
   "outputs": [],
   "source": [
    "# Hyperparameter Optimization\n",
    "abc = AdaBoostClassifier()\n",
    "best_clf_abc = abc.fit(X_train, y_train)"
   ]
  },
  {
   "cell_type": "code",
   "execution_count": 62,
   "metadata": {},
   "outputs": [],
   "source": [
    "grid_predictions_abc = best_clf_abc.predict(X_test)"
   ]
  },
  {
   "cell_type": "code",
   "execution_count": 63,
   "metadata": {},
   "outputs": [
    {
     "name": "stdout",
     "output_type": "stream",
     "text": [
      "[[    1  3129]\n",
      " [    5 36552]]\n"
     ]
    }
   ],
   "source": [
    "print(confusion_matrix(y_test,grid_predictions_abc))"
   ]
  },
  {
   "cell_type": "code",
   "execution_count": 64,
   "metadata": {},
   "outputs": [
    {
     "name": "stdout",
     "output_type": "stream",
     "text": [
      "             precision    recall  f1-score   support\n",
      "\n",
      "          0       0.17      0.00      0.00      3130\n",
      "          1       0.92      1.00      0.96     36557\n",
      "\n",
      "avg / total       0.86      0.92      0.88     39687\n",
      "\n"
     ]
    }
   ],
   "source": [
    "print(classification_report(y_test,grid_predictions_abc))"
   ]
  },
  {
   "cell_type": "code",
   "execution_count": 65,
   "metadata": {},
   "outputs": [
    {
     "name": "stdout",
     "output_type": "stream",
     "text": [
      "AUC: 70.0 Accuracy: 92.0\n"
     ]
    }
   ],
   "source": [
    "print('AUC:', round(cross_val_score(best_clf_abc, X_test, y_test, cv=5, scoring='roc_auc').mean(),2)*100, 'Accuracy:', \n",
    "      round(cross_val_score(best_clf_abc, X_test, y_test, cv=5, scoring='accuracy').mean(),2)*100)"
   ]
  },
  {
   "cell_type": "markdown",
   "metadata": {},
   "source": [
    "**e) Neural Network:** The Winner!"
   ]
  },
  {
   "cell_type": "markdown",
   "metadata": {},
   "source": [
    "Considering several accuracy analysis, it seems that this model presents the best performance in terms of ROC AUC. Moreover, unlike other models, this one is presenting a better performance identifying both 0s and 1s."
   ]
  },
  {
   "cell_type": "code",
   "execution_count": 66,
   "metadata": {},
   "outputs": [],
   "source": [
    "# Hyperparameter Optimization\n",
    "nn = MLPClassifier()\n",
    "param_grid5 = [{\n",
    "    'hidden_layer_sizes': [(50,50,50), (50,100,50)],\n",
    "    'activation': ['tanh', 'relu'],\n",
    "    'solver': ['sgd', 'adam'],\n",
    "    'alpha': [0.0001, 0.05],\n",
    "    'learning_rate': ['constant','adaptive']}]\n",
    "\n",
    "clf_nn = GridSearchCV(nn, param_grid = param_grid5, cv = 5, verbose = True, n_jobs = 8, scoring ='roc_auc')"
   ]
  },
  {
   "cell_type": "code",
   "execution_count": 67,
   "metadata": {},
   "outputs": [],
   "source": [
    "#best_clf_nn = clf_nn.fit(X, y)"
   ]
  },
  {
   "cell_type": "code",
   "execution_count": 68,
   "metadata": {},
   "outputs": [],
   "source": [
    "#print(best_clf_nn.best_estimator_)"
   ]
  },
  {
   "cell_type": "code",
   "execution_count": 69,
   "metadata": {},
   "outputs": [],
   "source": [
    "nn2 = MLPClassifier(activation='tanh', alpha=0.0001, batch_size='auto', beta_1=0.9,\n",
    "       beta_2=0.999, early_stopping=False, epsilon=1e-08,\n",
    "       hidden_layer_sizes=(50, 50, 50), learning_rate='constant',\n",
    "       learning_rate_init=0.001, max_iter=200, momentum=0.9,\n",
    "       nesterovs_momentum=True, power_t=0.5, random_state=None,\n",
    "       shuffle=True, solver='adam', tol=0.0001, validation_fraction=0.1,\n",
    "       verbose=False, warm_start=False)"
   ]
  },
  {
   "cell_type": "code",
   "execution_count": 70,
   "metadata": {},
   "outputs": [],
   "source": [
    "best_clf_nn = nn2.fit(X, y)"
   ]
  },
  {
   "cell_type": "code",
   "execution_count": 71,
   "metadata": {},
   "outputs": [],
   "source": [
    "grid_predictions_nn = best_clf_nn.predict(X_test)"
   ]
  },
  {
   "cell_type": "code",
   "execution_count": 72,
   "metadata": {},
   "outputs": [
    {
     "name": "stdout",
     "output_type": "stream",
     "text": [
      "[[  216  2914]\n",
      " [   96 36461]]\n"
     ]
    }
   ],
   "source": [
    "print(confusion_matrix(y_test,grid_predictions_nn))"
   ]
  },
  {
   "cell_type": "code",
   "execution_count": 73,
   "metadata": {},
   "outputs": [
    {
     "name": "stdout",
     "output_type": "stream",
     "text": [
      "             precision    recall  f1-score   support\n",
      "\n",
      "          0       0.69      0.07      0.13      3130\n",
      "          1       0.93      1.00      0.96     36557\n",
      "\n",
      "avg / total       0.91      0.92      0.89     39687\n",
      "\n"
     ]
    }
   ],
   "source": [
    "print(classification_report(y_test,grid_predictions_nn))"
   ]
  },
  {
   "cell_type": "code",
   "execution_count": 74,
   "metadata": {},
   "outputs": [
    {
     "name": "stdout",
     "output_type": "stream",
     "text": [
      "AUC: 70.0 Accuracy: 92.0\n"
     ]
    }
   ],
   "source": [
    "print('AUC:', round(cross_val_score(nn2, X_test, y_test, cv=10, scoring='roc_auc').mean(),2)*100, 'Accuracy:', \n",
    "      round(cross_val_score(nn2, X_test, y_test, cv=10, scoring='accuracy').mean(),2)*100)"
   ]
  }
 ],
 "metadata": {
  "kernelspec": {
   "display_name": "Python 3",
   "language": "python",
   "name": "python3"
  },
  "language_info": {
   "codemirror_mode": {
    "name": "ipython",
    "version": 3
   },
   "file_extension": ".py",
   "mimetype": "text/x-python",
   "name": "python",
   "nbconvert_exporter": "python",
   "pygments_lexer": "ipython3",
   "version": "3.7.1"
  }
 },
 "nbformat": 4,
 "nbformat_minor": 2
}
