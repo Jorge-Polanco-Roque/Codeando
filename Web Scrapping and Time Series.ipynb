{
 "cells": [
  {
   "cell_type": "markdown",
   "metadata": {},
   "source": [
    "# Individual Project - Financial Programming"
   ]
  },
  {
   "cell_type": "code",
   "execution_count": 1,
   "metadata": {},
   "outputs": [],
   "source": [
    "#pip install BeautifulSoup4\n",
    "#pip install selenium"
   ]
  },
  {
   "cell_type": "markdown",
   "metadata": {},
   "source": [
    "# Section I. Project before the change in the webpage"
   ]
  },
  {
   "cell_type": "markdown",
   "metadata": {},
   "source": [
    "***As I showed you in a class,before the changes in the webpage, this project was basicly finished. In 'Section I', I am including a functional scrapping designed for the previous webpage. In 'Section II', I am presenting a script relating to the new scope of the project. In order to see the previous outputs, do not run everything at once.*** "
   ]
  },
  {
   "cell_type": "code",
   "execution_count": 4,
   "metadata": {},
   "outputs": [],
   "source": [
    "# Libraries\n",
    "from sklearn.model_selection   import train_test_split\n",
    "from bokeh.plotting import figure, output_file, show\n",
    "from sklearn.linear_model import LinearRegression\n",
    "from pandas.plotting import autocorrelation_plot\n",
    "from sklearn.preprocessing import StandardScaler\n",
    "from sklearn.metrics import mean_absolute_error\n",
    "from statsmodels.tsa.stattools import adfuller\n",
    "from statsmodels.tsa.arima_model import ARIMA\n",
    "from bokeh.io import output_file, show\n",
    "from bokeh.layouts import gridplot\n",
    "from bokeh.plotting import figure\n",
    "from statsmodels.api import OLS\n",
    "import matplotlib.pyplot as plt\n",
    "from datetime import timedelta\n",
    "import statsmodels.api as sm\n",
    "from pylab import rcParams\n",
    "from numpy import log\n",
    "import pandas as pd\n",
    "import itertools\n",
    "import warnings\n",
    "import datetime\n",
    "import sys\n",
    "\n",
    "# BeautifulSoap et al\n",
    "from urllib.request import urlopen\n",
    "from html.parser import HTMLParser\n",
    "import bs4 as BeautifulSoup\n",
    "import urllib.request\n",
    "import requests\n",
    "import lxml"
   ]
  },
  {
   "cell_type": "markdown",
   "metadata": {},
   "source": [
    "## 1) Defining the date scope: "
   ]
  },
  {
   "cell_type": "markdown",
   "metadata": {},
   "source": [
    "***Determining dates of the report:***"
   ]
  },
  {
   "cell_type": "code",
   "execution_count": 52,
   "metadata": {},
   "outputs": [],
   "source": [
    "list_d = []\n",
    "inicio = datetime.datetime.strptime('20-10-2019', '%d-%m-%Y')\n",
    "fin = datetime.datetime.strptime('25-10-2019', '%d-%m-%Y')\n",
    "date_range = (inicio + datetime.timedelta(days=x) for x in range(0, (fin-inicio).days))"
   ]
  },
  {
   "cell_type": "code",
   "execution_count": 53,
   "metadata": {},
   "outputs": [],
   "source": [
    "for x in date_range:\n",
    "    list_d.append(x.strftime(\"%Y-%m-%d\"))"
   ]
  },
  {
   "cell_type": "code",
   "execution_count": 55,
   "metadata": {},
   "outputs": [
    {
     "name": "stdout",
     "output_type": "stream",
     "text": [
      "['https://www.epexspot.com/en/market-data/dayaheadauction/auction-table/2019-10-20/DE_LU']\n",
      "['https://www.epexspot.com/en/market-data/dayaheadauction/auction-table/2019-10-20/DE_LU', 'https://www.epexspot.com/en/market-data/dayaheadauction/auction-table/2019-10-21/DE_LU']\n",
      "['https://www.epexspot.com/en/market-data/dayaheadauction/auction-table/2019-10-20/DE_LU', 'https://www.epexspot.com/en/market-data/dayaheadauction/auction-table/2019-10-21/DE_LU', 'https://www.epexspot.com/en/market-data/dayaheadauction/auction-table/2019-10-22/DE_LU']\n",
      "['https://www.epexspot.com/en/market-data/dayaheadauction/auction-table/2019-10-20/DE_LU', 'https://www.epexspot.com/en/market-data/dayaheadauction/auction-table/2019-10-21/DE_LU', 'https://www.epexspot.com/en/market-data/dayaheadauction/auction-table/2019-10-22/DE_LU', 'https://www.epexspot.com/en/market-data/dayaheadauction/auction-table/2019-10-23/DE_LU']\n",
      "['https://www.epexspot.com/en/market-data/dayaheadauction/auction-table/2019-10-20/DE_LU', 'https://www.epexspot.com/en/market-data/dayaheadauction/auction-table/2019-10-21/DE_LU', 'https://www.epexspot.com/en/market-data/dayaheadauction/auction-table/2019-10-22/DE_LU', 'https://www.epexspot.com/en/market-data/dayaheadauction/auction-table/2019-10-23/DE_LU', 'https://www.epexspot.com/en/market-data/dayaheadauction/auction-table/2019-10-24/DE_LU']\n"
     ]
    }
   ],
   "source": [
    "list_links = []\n",
    "for i in list_d:\n",
    "    liga1 = 'https://www.epexspot.com/en/market-data/dayaheadauction/auction-table/'+i+'/DE_LU'\n",
    "    list_links.append(liga1)\n",
    "    print(list_links)"
   ]
  },
  {
   "cell_type": "markdown",
   "metadata": {},
   "source": [
    "## 2) BeautifulSoup:"
   ]
  },
  {
   "cell_type": "markdown",
   "metadata": {},
   "source": [
    "### a) Webscrapping: "
   ]
  },
  {
   "cell_type": "code",
   "execution_count": 8,
   "metadata": {},
   "outputs": [],
   "source": [
    "sauce1 = urllib.request.urlopen(liga1).read()\n",
    "sopa1 = BeautifulSoup.BeautifulSoup(sauce1, 'lxml')"
   ]
  },
  {
   "cell_type": "markdown",
   "metadata": {},
   "source": [
    "***Auction Database:***"
   ]
  },
  {
   "cell_type": "code",
   "execution_count": 10,
   "metadata": {},
   "outputs": [],
   "source": [
    "table = sopa1.find_all('table')[0]\n",
    "rows = table.find_all('tr')"
   ]
  },
  {
   "cell_type": "code",
   "execution_count": 11,
   "metadata": {},
   "outputs": [],
   "source": [
    "row_list = list()\n",
    "for tr in rows:\n",
    "    td = tr.find_all('td')\n",
    "    row = [tr.text.strip() for tr in td if tr.text.strip()]\n",
    "    if row:\n",
    "        row_list.append(row)"
   ]
  },
  {
   "cell_type": "code",
   "execution_count": 90,
   "metadata": {},
   "outputs": [],
   "source": [
    "base_auction = pd.DataFrame(row_list)\n",
    "base_auction = base_auction.set_index(0)"
   ]
  },
  {
   "cell_type": "markdown",
   "metadata": {},
   "source": [
    "***Block Prices Database:***"
   ]
  },
  {
   "cell_type": "code",
   "execution_count": 13,
   "metadata": {},
   "outputs": [],
   "source": [
    "table_bp = sopa1.find_all('table')[1]\n",
    "rows_bp = table_bp.find_all('tr')"
   ]
  },
  {
   "cell_type": "code",
   "execution_count": 14,
   "metadata": {},
   "outputs": [],
   "source": [
    "row_list_bp = list()\n",
    "for tr_bp in rows_bp:\n",
    "    td_bp = tr_bp.find_all('td')\n",
    "    row_bp = [tr_bp.text.strip() for tr_bp in td_bp if tr_bp.text.strip()]\n",
    "    if row_bp:\n",
    "        row_list_bp.append(row_bp)"
   ]
  },
  {
   "cell_type": "code",
   "execution_count": 88,
   "metadata": {},
   "outputs": [],
   "source": [
    "base_bp = pd.DataFrame(row_list_bp)\n",
    "base_bp = base_bp.set_index(0)\n",
    "base_bp.index.names = ['Hour Range']"
   ]
  },
  {
   "cell_type": "code",
   "execution_count": 89,
   "metadata": {},
   "outputs": [
    {
     "data": {
      "text/html": [
       "<div>\n",
       "<style scoped>\n",
       "    .dataframe tbody tr th:only-of-type {\n",
       "        vertical-align: middle;\n",
       "    }\n",
       "\n",
       "    .dataframe tbody tr th {\n",
       "        vertical-align: top;\n",
       "    }\n",
       "\n",
       "    .dataframe thead th {\n",
       "        text-align: right;\n",
       "    }\n",
       "</style>\n",
       "<table border=\"1\" class=\"dataframe\">\n",
       "  <thead>\n",
       "    <tr style=\"text-align: right;\">\n",
       "      <th></th>\n",
       "      <th>2019-11-05</th>\n",
       "      <th>2019-11-06</th>\n",
       "      <th>2019-11-07</th>\n",
       "      <th>2019-11-08</th>\n",
       "      <th>2019-11-09</th>\n",
       "      <th>2019-11-10</th>\n",
       "      <th>2019-11-11</th>\n",
       "    </tr>\n",
       "    <tr>\n",
       "      <th>Hour Range</th>\n",
       "      <th></th>\n",
       "      <th></th>\n",
       "      <th></th>\n",
       "      <th></th>\n",
       "      <th></th>\n",
       "      <th></th>\n",
       "      <th></th>\n",
       "    </tr>\n",
       "  </thead>\n",
       "  <tbody>\n",
       "    <tr>\n",
       "      <th>Middle Night (01-04)</th>\n",
       "      <td>25.78</td>\n",
       "      <td>35.20</td>\n",
       "      <td>35.27</td>\n",
       "      <td>34.12</td>\n",
       "      <td>39.54</td>\n",
       "      <td>35.56</td>\n",
       "      <td>37.84</td>\n",
       "    </tr>\n",
       "    <tr>\n",
       "      <th>Early Morning (05-08)</th>\n",
       "      <td>34.61</td>\n",
       "      <td>43.40</td>\n",
       "      <td>39.05</td>\n",
       "      <td>41.49</td>\n",
       "      <td>38.37</td>\n",
       "      <td>35.50</td>\n",
       "      <td>40.21</td>\n",
       "    </tr>\n",
       "    <tr>\n",
       "      <th>Late Morning (09-12)</th>\n",
       "      <td>47.95</td>\n",
       "      <td>56.98</td>\n",
       "      <td>48.44</td>\n",
       "      <td>54.94</td>\n",
       "      <td>43.32</td>\n",
       "      <td>38.47</td>\n",
       "      <td>49.12</td>\n",
       "    </tr>\n",
       "  </tbody>\n",
       "</table>\n",
       "</div>"
      ],
      "text/plain": [
       "                      2019-11-05 2019-11-06 2019-11-07 2019-11-08 2019-11-09  \\\n",
       "Hour Range                                                                     \n",
       "Middle Night (01-04)       25.78      35.20      35.27      34.12      39.54   \n",
       "Early Morning (05-08)      34.61      43.40      39.05      41.49      38.37   \n",
       "Late Morning (09-12)       47.95      56.98      48.44      54.94      43.32   \n",
       "\n",
       "                      2019-11-10 2019-11-11  \n",
       "Hour Range                                   \n",
       "Middle Night (01-04)       35.56      37.84  \n",
       "Early Morning (05-08)      35.50      40.21  \n",
       "Late Morning (09-12)       38.47      49.12  "
      ]
     },
     "execution_count": 89,
     "metadata": {},
     "output_type": "execute_result"
    }
   ],
   "source": [
    "base_bp.columns = [input_dia_minus_6, input_dia_minus_5, input_dia_minus_4, input_dia_minus_3, input_dia_minus_2, input_dia_minus_1, input_dia]\n",
    "base_bp.head(3)"
   ]
  },
  {
   "cell_type": "markdown",
   "metadata": {},
   "source": [
    "***Hours:***"
   ]
  },
  {
   "cell_type": "code",
   "execution_count": 410,
   "metadata": {},
   "outputs": [],
   "source": [
    "table_h = sopa1.find_all('table')[2]\n",
    "rows_h = table_h.find_all('tr')"
   ]
  },
  {
   "cell_type": "code",
   "execution_count": 411,
   "metadata": {},
   "outputs": [],
   "source": [
    "row_list_h = list()\n",
    "for tr_h in rows_h:\n",
    "    td_h = tr_h.find_all('td')\n",
    "    row_h = [tr_h.text.strip() for tr_h in td_h if tr_h.text.strip()]\n",
    "    if row_h:\n",
    "        row_list_h.append(row_h)"
   ]
  },
  {
   "cell_type": "code",
   "execution_count": 412,
   "metadata": {},
   "outputs": [],
   "source": [
    "base_h = pd.DataFrame(row_list_h)\n",
    "base_h = base_h.set_index(0)"
   ]
  },
  {
   "cell_type": "code",
   "execution_count": 413,
   "metadata": {},
   "outputs": [
    {
     "data": {
      "text/html": [
       "<div>\n",
       "<style scoped>\n",
       "    .dataframe tbody tr th:only-of-type {\n",
       "        vertical-align: middle;\n",
       "    }\n",
       "\n",
       "    .dataframe tbody tr th {\n",
       "        vertical-align: top;\n",
       "    }\n",
       "\n",
       "    .dataframe thead th {\n",
       "        text-align: right;\n",
       "    }\n",
       "</style>\n",
       "<table border=\"1\" class=\"dataframe\">\n",
       "  <thead>\n",
       "    <tr style=\"text-align: right;\">\n",
       "      <th></th>\n",
       "      <th>metric</th>\n",
       "      <th>2019-11-05</th>\n",
       "      <th>2019-11-06</th>\n",
       "      <th>2019-11-07</th>\n",
       "      <th>2019-11-08</th>\n",
       "      <th>2019-11-09</th>\n",
       "      <th>2019-11-10</th>\n",
       "      <th>2019-11-11</th>\n",
       "    </tr>\n",
       "    <tr>\n",
       "      <th>Hour</th>\n",
       "      <th></th>\n",
       "      <th></th>\n",
       "      <th></th>\n",
       "      <th></th>\n",
       "      <th></th>\n",
       "      <th></th>\n",
       "      <th></th>\n",
       "      <th></th>\n",
       "    </tr>\n",
       "  </thead>\n",
       "  <tbody>\n",
       "    <tr>\n",
       "      <th>00 - 01</th>\n",
       "      <td>€/MWh</td>\n",
       "      <td>26.50</td>\n",
       "      <td>36.97</td>\n",
       "      <td>39.07</td>\n",
       "      <td>36.94</td>\n",
       "      <td>42.63</td>\n",
       "      <td>37.57</td>\n",
       "      <td>41.83</td>\n",
       "    </tr>\n",
       "    <tr>\n",
       "      <th>MWh</th>\n",
       "      <td>12,873.1</td>\n",
       "      <td>8,282.7</td>\n",
       "      <td>10,741.5</td>\n",
       "      <td>11,211.1</td>\n",
       "      <td>8,695.5</td>\n",
       "      <td>11,743.6</td>\n",
       "      <td>11,879.3</td>\n",
       "      <td>None</td>\n",
       "    </tr>\n",
       "    <tr>\n",
       "      <th>01 - 02</th>\n",
       "      <td>€/MWh</td>\n",
       "      <td>25.64</td>\n",
       "      <td>35.75</td>\n",
       "      <td>35.95</td>\n",
       "      <td>35.64</td>\n",
       "      <td>39.78</td>\n",
       "      <td>35.30</td>\n",
       "      <td>38.59</td>\n",
       "    </tr>\n",
       "  </tbody>\n",
       "</table>\n",
       "</div>"
      ],
      "text/plain": [
       "           metric 2019-11-05 2019-11-06 2019-11-07 2019-11-08 2019-11-09  \\\n",
       "Hour                                                                       \n",
       "00 - 01     €/MWh      26.50      36.97      39.07      36.94      42.63   \n",
       "MWh      12,873.1    8,282.7   10,741.5   11,211.1    8,695.5   11,743.6   \n",
       "01 - 02     €/MWh      25.64      35.75      35.95      35.64      39.78   \n",
       "\n",
       "        2019-11-10 2019-11-11  \n",
       "Hour                           \n",
       "00 - 01      37.57      41.83  \n",
       "MWh       11,879.3       None  \n",
       "01 - 02      35.30      38.59  "
      ]
     },
     "execution_count": 413,
     "metadata": {},
     "output_type": "execute_result"
    }
   ],
   "source": [
    "base_h.columns = ['metric', input_dia_minus_6, input_dia_minus_5, input_dia_minus_4, input_dia_minus_3, input_dia_minus_2, input_dia_minus_1, input_dia]\n",
    "base_h.index.names = ['Hour']\n",
    "base_h.head(3)"
   ]
  },
  {
   "cell_type": "markdown",
   "metadata": {},
   "source": [
    "***EUR/MWh Database:*** "
   ]
  },
  {
   "cell_type": "code",
   "execution_count": 414,
   "metadata": {},
   "outputs": [],
   "source": [
    "pairs = []\n",
    "\n",
    "for i in range(len(base_h)):\n",
    "    if i % 2 == 0:\n",
    "        pairs.append(i)"
   ]
  },
  {
   "cell_type": "code",
   "execution_count": 415,
   "metadata": {},
   "outputs": [
    {
     "data": {
      "text/html": [
       "<div>\n",
       "<style scoped>\n",
       "    .dataframe tbody tr th:only-of-type {\n",
       "        vertical-align: middle;\n",
       "    }\n",
       "\n",
       "    .dataframe tbody tr th {\n",
       "        vertical-align: top;\n",
       "    }\n",
       "\n",
       "    .dataframe thead th {\n",
       "        text-align: right;\n",
       "    }\n",
       "</style>\n",
       "<table border=\"1\" class=\"dataframe\">\n",
       "  <thead>\n",
       "    <tr style=\"text-align: right;\">\n",
       "      <th></th>\n",
       "      <th>metric</th>\n",
       "      <th>2019-11-05</th>\n",
       "      <th>2019-11-06</th>\n",
       "      <th>2019-11-07</th>\n",
       "      <th>2019-11-08</th>\n",
       "      <th>2019-11-09</th>\n",
       "      <th>2019-11-10</th>\n",
       "      <th>2019-11-11</th>\n",
       "    </tr>\n",
       "    <tr>\n",
       "      <th>Hour</th>\n",
       "      <th></th>\n",
       "      <th></th>\n",
       "      <th></th>\n",
       "      <th></th>\n",
       "      <th></th>\n",
       "      <th></th>\n",
       "      <th></th>\n",
       "      <th></th>\n",
       "    </tr>\n",
       "  </thead>\n",
       "  <tbody>\n",
       "    <tr>\n",
       "      <th>00 - 01</th>\n",
       "      <td>€/MWh</td>\n",
       "      <td>26.50</td>\n",
       "      <td>36.97</td>\n",
       "      <td>39.07</td>\n",
       "      <td>36.94</td>\n",
       "      <td>42.63</td>\n",
       "      <td>37.57</td>\n",
       "      <td>41.83</td>\n",
       "    </tr>\n",
       "    <tr>\n",
       "      <th>01 - 02</th>\n",
       "      <td>€/MWh</td>\n",
       "      <td>25.64</td>\n",
       "      <td>35.75</td>\n",
       "      <td>35.95</td>\n",
       "      <td>35.64</td>\n",
       "      <td>39.78</td>\n",
       "      <td>35.30</td>\n",
       "      <td>38.59</td>\n",
       "    </tr>\n",
       "    <tr>\n",
       "      <th>02 - 03</th>\n",
       "      <td>€/MWh</td>\n",
       "      <td>25.97</td>\n",
       "      <td>34.27</td>\n",
       "      <td>33.40</td>\n",
       "      <td>32.07</td>\n",
       "      <td>38.81</td>\n",
       "      <td>35.13</td>\n",
       "      <td>36.20</td>\n",
       "    </tr>\n",
       "    <tr>\n",
       "      <th>03 - 04</th>\n",
       "      <td>€/MWh</td>\n",
       "      <td>24.99</td>\n",
       "      <td>33.79</td>\n",
       "      <td>32.67</td>\n",
       "      <td>31.82</td>\n",
       "      <td>36.94</td>\n",
       "      <td>34.22</td>\n",
       "      <td>34.75</td>\n",
       "    </tr>\n",
       "    <tr>\n",
       "      <th>04 - 05</th>\n",
       "      <td>€/MWh</td>\n",
       "      <td>26.04</td>\n",
       "      <td>34.45</td>\n",
       "      <td>32.11</td>\n",
       "      <td>33.19</td>\n",
       "      <td>36.20</td>\n",
       "      <td>33.86</td>\n",
       "      <td>34.80</td>\n",
       "    </tr>\n",
       "  </tbody>\n",
       "</table>\n",
       "</div>"
      ],
      "text/plain": [
       "        metric 2019-11-05 2019-11-06 2019-11-07 2019-11-08 2019-11-09  \\\n",
       "Hour                                                                    \n",
       "00 - 01  €/MWh      26.50      36.97      39.07      36.94      42.63   \n",
       "01 - 02  €/MWh      25.64      35.75      35.95      35.64      39.78   \n",
       "02 - 03  €/MWh      25.97      34.27      33.40      32.07      38.81   \n",
       "03 - 04  €/MWh      24.99      33.79      32.67      31.82      36.94   \n",
       "04 - 05  €/MWh      26.04      34.45      32.11      33.19      36.20   \n",
       "\n",
       "        2019-11-10 2019-11-11  \n",
       "Hour                           \n",
       "00 - 01      37.57      41.83  \n",
       "01 - 02      35.30      38.59  \n",
       "02 - 03      35.13      36.20  \n",
       "03 - 04      34.22      34.75  \n",
       "04 - 05      33.86      34.80  "
      ]
     },
     "execution_count": 415,
     "metadata": {},
     "output_type": "execute_result"
    }
   ],
   "source": [
    "base_h1 = base_h.iloc[pairs,:]\n",
    "base_h1.head()"
   ]
  },
  {
   "cell_type": "code",
   "execution_count": 416,
   "metadata": {},
   "outputs": [],
   "source": [
    "horas = []\n",
    "for i in base_h1.index:\n",
    "    horas.append(i)"
   ]
  },
  {
   "cell_type": "code",
   "execution_count": 417,
   "metadata": {},
   "outputs": [
    {
     "data": {
      "text/html": [
       "<div>\n",
       "<style scoped>\n",
       "    .dataframe tbody tr th:only-of-type {\n",
       "        vertical-align: middle;\n",
       "    }\n",
       "\n",
       "    .dataframe tbody tr th {\n",
       "        vertical-align: top;\n",
       "    }\n",
       "\n",
       "    .dataframe thead th {\n",
       "        text-align: right;\n",
       "    }\n",
       "</style>\n",
       "<table border=\"1\" class=\"dataframe\">\n",
       "  <thead>\n",
       "    <tr style=\"text-align: right;\">\n",
       "      <th></th>\n",
       "      <th>0</th>\n",
       "    </tr>\n",
       "  </thead>\n",
       "  <tbody>\n",
       "    <tr>\n",
       "      <th>0</th>\n",
       "      <td>00 - 01</td>\n",
       "    </tr>\n",
       "    <tr>\n",
       "      <th>1</th>\n",
       "      <td>01 - 02</td>\n",
       "    </tr>\n",
       "    <tr>\n",
       "      <th>2</th>\n",
       "      <td>02 - 03</td>\n",
       "    </tr>\n",
       "    <tr>\n",
       "      <th>3</th>\n",
       "      <td>03 - 04</td>\n",
       "    </tr>\n",
       "    <tr>\n",
       "      <th>4</th>\n",
       "      <td>04 - 05</td>\n",
       "    </tr>\n",
       "  </tbody>\n",
       "</table>\n",
       "</div>"
      ],
      "text/plain": [
       "         0\n",
       "0  00 - 01\n",
       "1  01 - 02\n",
       "2  02 - 03\n",
       "3  03 - 04\n",
       "4  04 - 05"
      ]
     },
     "execution_count": 417,
     "metadata": {},
     "output_type": "execute_result"
    }
   ],
   "source": [
    "horas = pd.DataFrame(horas)\n",
    "horas.head()"
   ]
  },
  {
   "cell_type": "code",
   "execution_count": 418,
   "metadata": {},
   "outputs": [
    {
     "data": {
      "text/plain": [
       "list"
      ]
     },
     "execution_count": 418,
     "metadata": {},
     "output_type": "execute_result"
    }
   ],
   "source": [
    "hr = list(horas)\n",
    "type(hr)"
   ]
  },
  {
   "cell_type": "markdown",
   "metadata": {},
   "source": [
    "***MWh Database:*** "
   ]
  },
  {
   "cell_type": "code",
   "execution_count": 419,
   "metadata": {},
   "outputs": [],
   "source": [
    "odds = []\n",
    "\n",
    "for i in range(len(base_h)):\n",
    "    if i % 2 != 0:\n",
    "        odds.append(i)"
   ]
  },
  {
   "cell_type": "code",
   "execution_count": 420,
   "metadata": {},
   "outputs": [],
   "source": [
    "base_h2 = base_h.iloc[odds,:]"
   ]
  },
  {
   "cell_type": "code",
   "execution_count": 421,
   "metadata": {},
   "outputs": [
    {
     "name": "stderr",
     "output_type": "stream",
     "text": [
      "C:\\ProgramData\\Anaconda3\\lib\\site-packages\\ipykernel_launcher.py:1: SettingWithCopyWarning: \n",
      "A value is trying to be set on a copy of a slice from a DataFrame\n",
      "\n",
      "See the caveats in the documentation: http://pandas.pydata.org/pandas-docs/stable/indexing.html#indexing-view-versus-copy\n",
      "  \"\"\"Entry point for launching an IPython kernel.\n",
      "C:\\ProgramData\\Anaconda3\\lib\\site-packages\\ipykernel_launcher.py:3: SettingWithCopyWarning: \n",
      "A value is trying to be set on a copy of a slice from a DataFrame.\n",
      "Try using .loc[row_indexer,col_indexer] = value instead\n",
      "\n",
      "See the caveats in the documentation: http://pandas.pydata.org/pandas-docs/stable/indexing.html#indexing-view-versus-copy\n",
      "  This is separate from the ipykernel package so we can avoid doing imports until\n"
     ]
    }
   ],
   "source": [
    "base_h2.iloc[:, :] = base_h2.iloc[:, :].shift(1, axis=1)\n",
    "base_h2 = base_h2.iloc[:, :]\n",
    "base_h2['metric'] = 'MWh'"
   ]
  },
  {
   "cell_type": "code",
   "execution_count": 424,
   "metadata": {},
   "outputs": [],
   "source": [
    "base_h2 = base_h2.reset_index()"
   ]
  },
  {
   "cell_type": "code",
   "execution_count": 426,
   "metadata": {},
   "outputs": [],
   "source": [
    "base_h2['Hour'] = horas\n",
    "base_h2 = base_h2.set_index(base_h2['Hour'])"
   ]
  },
  {
   "cell_type": "code",
   "execution_count": 436,
   "metadata": {},
   "outputs": [],
   "source": [
    "base_h2 = base_h2.drop(\"Hour\", axis = 1)"
   ]
  },
  {
   "cell_type": "code",
   "execution_count": 437,
   "metadata": {},
   "outputs": [
    {
     "data": {
      "text/html": [
       "<div>\n",
       "<style scoped>\n",
       "    .dataframe tbody tr th:only-of-type {\n",
       "        vertical-align: middle;\n",
       "    }\n",
       "\n",
       "    .dataframe tbody tr th {\n",
       "        vertical-align: top;\n",
       "    }\n",
       "\n",
       "    .dataframe thead th {\n",
       "        text-align: right;\n",
       "    }\n",
       "</style>\n",
       "<table border=\"1\" class=\"dataframe\">\n",
       "  <thead>\n",
       "    <tr style=\"text-align: right;\">\n",
       "      <th></th>\n",
       "      <th>metric</th>\n",
       "      <th>2019-11-05</th>\n",
       "      <th>2019-11-06</th>\n",
       "      <th>2019-11-07</th>\n",
       "      <th>2019-11-08</th>\n",
       "      <th>2019-11-09</th>\n",
       "      <th>2019-11-10</th>\n",
       "      <th>2019-11-11</th>\n",
       "    </tr>\n",
       "    <tr>\n",
       "      <th>Hour</th>\n",
       "      <th></th>\n",
       "      <th></th>\n",
       "      <th></th>\n",
       "      <th></th>\n",
       "      <th></th>\n",
       "      <th></th>\n",
       "      <th></th>\n",
       "      <th></th>\n",
       "    </tr>\n",
       "  </thead>\n",
       "  <tbody>\n",
       "    <tr>\n",
       "      <th>00 - 01</th>\n",
       "      <td>MWh</td>\n",
       "      <td>12,873.1</td>\n",
       "      <td>8,282.7</td>\n",
       "      <td>10,741.5</td>\n",
       "      <td>11,211.1</td>\n",
       "      <td>8,695.5</td>\n",
       "      <td>11,743.6</td>\n",
       "      <td>11,879.3</td>\n",
       "    </tr>\n",
       "    <tr>\n",
       "      <th>01 - 02</th>\n",
       "      <td>MWh</td>\n",
       "      <td>12,399.1</td>\n",
       "      <td>8,818.9</td>\n",
       "      <td>11,900.0</td>\n",
       "      <td>11,741.3</td>\n",
       "      <td>7,795.3</td>\n",
       "      <td>12,290.8</td>\n",
       "      <td>12,739.7</td>\n",
       "    </tr>\n",
       "    <tr>\n",
       "      <th>02 - 03</th>\n",
       "      <td>MWh</td>\n",
       "      <td>12,130.9</td>\n",
       "      <td>8,895.4</td>\n",
       "      <td>13,395.9</td>\n",
       "      <td>11,091.7</td>\n",
       "      <td>7,946.8</td>\n",
       "      <td>11,521.0</td>\n",
       "      <td>12,079.3</td>\n",
       "    </tr>\n",
       "    <tr>\n",
       "      <th>03 - 04</th>\n",
       "      <td>MWh</td>\n",
       "      <td>12,383.6</td>\n",
       "      <td>9,180.0</td>\n",
       "      <td>14,438.6</td>\n",
       "      <td>11,245.9</td>\n",
       "      <td>8,682.9</td>\n",
       "      <td>11,610.8</td>\n",
       "      <td>10,614.2</td>\n",
       "    </tr>\n",
       "    <tr>\n",
       "      <th>04 - 05</th>\n",
       "      <td>MWh</td>\n",
       "      <td>12,064.4</td>\n",
       "      <td>9,945.6</td>\n",
       "      <td>15,326.4</td>\n",
       "      <td>10,965.0</td>\n",
       "      <td>8,516.8</td>\n",
       "      <td>11,446.9</td>\n",
       "      <td>10,068.4</td>\n",
       "    </tr>\n",
       "  </tbody>\n",
       "</table>\n",
       "</div>"
      ],
      "text/plain": [
       "        metric 2019-11-05 2019-11-06 2019-11-07 2019-11-08 2019-11-09  \\\n",
       "Hour                                                                    \n",
       "00 - 01    MWh   12,873.1    8,282.7   10,741.5   11,211.1    8,695.5   \n",
       "01 - 02    MWh   12,399.1    8,818.9   11,900.0   11,741.3    7,795.3   \n",
       "02 - 03    MWh   12,130.9    8,895.4   13,395.9   11,091.7    7,946.8   \n",
       "03 - 04    MWh   12,383.6    9,180.0   14,438.6   11,245.9    8,682.9   \n",
       "04 - 05    MWh   12,064.4    9,945.6   15,326.4   10,965.0    8,516.8   \n",
       "\n",
       "        2019-11-10 2019-11-11  \n",
       "Hour                           \n",
       "00 - 01   11,743.6   11,879.3  \n",
       "01 - 02   12,290.8   12,739.7  \n",
       "02 - 03   11,521.0   12,079.3  \n",
       "03 - 04   11,610.8   10,614.2  \n",
       "04 - 05   11,446.9   10,068.4  "
      ]
     },
     "execution_count": 437,
     "metadata": {},
     "output_type": "execute_result"
    }
   ],
   "source": [
    "base_h2.head()"
   ]
  },
  {
   "cell_type": "markdown",
   "metadata": {},
   "source": [
    "## 2) Database Cleaning: "
   ]
  },
  {
   "cell_type": "markdown",
   "metadata": {},
   "source": [
    "***Auction database:***"
   ]
  },
  {
   "cell_type": "code",
   "execution_count": 77,
   "metadata": {},
   "outputs": [],
   "source": [
    "base_auction.columns = [input_dia_minus_6, input_dia_minus_5, input_dia_minus_4, input_dia_minus_3, input_dia_minus_2, input_dia_minus_1, input_dia]"
   ]
  },
  {
   "cell_type": "code",
   "execution_count": 80,
   "metadata": {},
   "outputs": [],
   "source": [
    "base_auction.index.names = ['Metrics']"
   ]
  },
  {
   "cell_type": "code",
   "execution_count": 81,
   "metadata": {},
   "outputs": [],
   "source": [
    "# Auction Tables\n",
    "day_base = base_auction.iloc[:2,:]\n",
    "day_peak = base_auction.iloc[3:,:]"
   ]
  },
  {
   "cell_type": "code",
   "execution_count": 82,
   "metadata": {},
   "outputs": [
    {
     "data": {
      "text/html": [
       "<div>\n",
       "<style scoped>\n",
       "    .dataframe tbody tr th:only-of-type {\n",
       "        vertical-align: middle;\n",
       "    }\n",
       "\n",
       "    .dataframe tbody tr th {\n",
       "        vertical-align: top;\n",
       "    }\n",
       "\n",
       "    .dataframe thead th {\n",
       "        text-align: right;\n",
       "    }\n",
       "</style>\n",
       "<table border=\"1\" class=\"dataframe\">\n",
       "  <thead>\n",
       "    <tr style=\"text-align: right;\">\n",
       "      <th></th>\n",
       "      <th>2019-11-05</th>\n",
       "      <th>2019-11-06</th>\n",
       "      <th>2019-11-07</th>\n",
       "      <th>2019-11-08</th>\n",
       "      <th>2019-11-09</th>\n",
       "      <th>2019-11-10</th>\n",
       "      <th>2019-11-11</th>\n",
       "    </tr>\n",
       "    <tr>\n",
       "      <th>Metrics</th>\n",
       "      <th></th>\n",
       "      <th></th>\n",
       "      <th></th>\n",
       "      <th></th>\n",
       "      <th></th>\n",
       "      <th></th>\n",
       "      <th></th>\n",
       "    </tr>\n",
       "  </thead>\n",
       "  <tbody>\n",
       "    <tr>\n",
       "      <th>Prices (€/MWh)</th>\n",
       "      <td>42.70</td>\n",
       "      <td>51.79</td>\n",
       "      <td>43.52</td>\n",
       "      <td>48.38</td>\n",
       "      <td>41.69</td>\n",
       "      <td>41.03</td>\n",
       "      <td>44.56</td>\n",
       "    </tr>\n",
       "    <tr>\n",
       "      <th>Volumes (MWh)</th>\n",
       "      <td>259,146.0</td>\n",
       "      <td>241,679.6</td>\n",
       "      <td>312,105.9</td>\n",
       "      <td>266,231.2</td>\n",
       "      <td>230,785.2</td>\n",
       "      <td>276,493.2</td>\n",
       "      <td>327,441.1</td>\n",
       "    </tr>\n",
       "  </tbody>\n",
       "</table>\n",
       "</div>"
      ],
      "text/plain": [
       "               2019-11-05 2019-11-06 2019-11-07 2019-11-08 2019-11-09  \\\n",
       "Metrics                                                                 \n",
       "Prices (€/MWh)      42.70      51.79      43.52      48.38      41.69   \n",
       "Volumes (MWh)   259,146.0  241,679.6  312,105.9  266,231.2  230,785.2   \n",
       "\n",
       "               2019-11-10 2019-11-11  \n",
       "Metrics                               \n",
       "Prices (€/MWh)      41.03      44.56  \n",
       "Volumes (MWh)   276,493.2  327,441.1  "
      ]
     },
     "execution_count": 82,
     "metadata": {},
     "output_type": "execute_result"
    }
   ],
   "source": [
    "day_base.head()"
   ]
  },
  {
   "cell_type": "markdown",
   "metadata": {},
   "source": [
    "## 3) Exporting databases: "
   ]
  },
  {
   "cell_type": "code",
   "execution_count": 99,
   "metadata": {},
   "outputs": [],
   "source": [
    "filename_db = str(input_dia) + ' Day Base Report.xlsx'\n",
    "filename_dp = str(input_dia) + ' Day Peack Report.xlsx'"
   ]
  },
  {
   "cell_type": "code",
   "execution_count": 100,
   "metadata": {},
   "outputs": [],
   "source": [
    "day_base.to_excel(r'C:/Users/jpolancoroque/Desktop/First Semester/Financial Programing/Individual/EPEX SPOT/Germany/'+filename_db)\n",
    "day_peak.to_excel(r'C:/Users/jpolancoroque/Desktop/First Semester/Financial Programing/Individual/EPEX SPOT/Germany/'+filename_dp)"
   ]
  },
  {
   "cell_type": "markdown",
   "metadata": {},
   "source": [
    "# Section II. New scope of the project"
   ]
  },
  {
   "cell_type": "markdown",
   "metadata": {},
   "source": [
    "## 1) Importing Data:"
   ]
  },
  {
   "cell_type": "code",
   "execution_count": 5,
   "metadata": {},
   "outputs": [],
   "source": [
    "# Stablishing the directory from we will get our inputs\n",
    "directory = \"C:/Users/jpolancoroque/Desktop/First Semester/Financial Programing/Individual/EPEX SPOT/Germany\""
   ]
  },
  {
   "cell_type": "code",
   "execution_count": 6,
   "metadata": {},
   "outputs": [],
   "source": [
    "# Import the database\n",
    "db1 = pd.read_csv(directory + '/DayAheadAuctionEPEXSPOT_DE.csv')\n",
    "db2 = pd.read_csv(directory + '/DayAheadAuctionEPEXSPOT_DE_LU.csv')"
   ]
  },
  {
   "cell_type": "code",
   "execution_count": 7,
   "metadata": {},
   "outputs": [],
   "source": [
    "# Transforing to a dataframe\n",
    "db1 = pd.DataFrame(db1)\n",
    "db2 = pd.DataFrame(db2)"
   ]
  },
  {
   "cell_type": "code",
   "execution_count": 8,
   "metadata": {},
   "outputs": [],
   "source": [
    "# Eliminating 'index'\n",
    "db1 =  db1.iloc[:,1:]\n",
    "db2 =  db2.iloc[:,1:]"
   ]
  },
  {
   "cell_type": "code",
   "execution_count": 9,
   "metadata": {},
   "outputs": [
    {
     "data": {
      "text/html": [
       "<div>\n",
       "<style scoped>\n",
       "    .dataframe tbody tr th:only-of-type {\n",
       "        vertical-align: middle;\n",
       "    }\n",
       "\n",
       "    .dataframe tbody tr th {\n",
       "        vertical-align: top;\n",
       "    }\n",
       "\n",
       "    .dataframe thead th {\n",
       "        text-align: right;\n",
       "    }\n",
       "</style>\n",
       "<table border=\"1\" class=\"dataframe\">\n",
       "  <thead>\n",
       "    <tr style=\"text-align: right;\">\n",
       "      <th></th>\n",
       "      <th>DateTime</th>\n",
       "      <th>Prices</th>\n",
       "      <th>Volume</th>\n",
       "      <th>MiddleNight</th>\n",
       "      <th>EarlyMorning</th>\n",
       "      <th>LateMorning</th>\n",
       "      <th>EarlyAfternoon</th>\n",
       "      <th>RushHour</th>\n",
       "      <th>OffPeak2</th>\n",
       "      <th>Night</th>\n",
       "      <th>...</th>\n",
       "      <th>OffPeak</th>\n",
       "      <th>Morning</th>\n",
       "      <th>HighNoon</th>\n",
       "      <th>Afternoon</th>\n",
       "      <th>Evening</th>\n",
       "      <th>SunPeak</th>\n",
       "      <th>BasePrice</th>\n",
       "      <th>BaseVolume</th>\n",
       "      <th>PeakPrice</th>\n",
       "      <th>PeakVolume</th>\n",
       "    </tr>\n",
       "  </thead>\n",
       "  <tbody>\n",
       "    <tr>\n",
       "      <th>0</th>\n",
       "      <td>2014-01-01 00:00:00</td>\n",
       "      <td>15.15</td>\n",
       "      <td>25906.8</td>\n",
       "      <td>12.98</td>\n",
       "      <td>10.6</td>\n",
       "      <td>11.56</td>\n",
       "      <td>17.99</td>\n",
       "      <td>31.96</td>\n",
       "      <td>19.2</td>\n",
       "      <td>12.49</td>\n",
       "      <td>...</td>\n",
       "      <td>14.26</td>\n",
       "      <td>10.13</td>\n",
       "      <td>13.51</td>\n",
       "      <td>27.0</td>\n",
       "      <td>23.27</td>\n",
       "      <td>16.17</td>\n",
       "      <td>17.38</td>\n",
       "      <td>715188.0</td>\n",
       "      <td>NaN</td>\n",
       "      <td>NaN</td>\n",
       "    </tr>\n",
       "    <tr>\n",
       "      <th>1</th>\n",
       "      <td>2014-01-01 01:00:00</td>\n",
       "      <td>12.96</td>\n",
       "      <td>27601.2</td>\n",
       "      <td>12.98</td>\n",
       "      <td>10.6</td>\n",
       "      <td>11.56</td>\n",
       "      <td>17.99</td>\n",
       "      <td>31.96</td>\n",
       "      <td>19.2</td>\n",
       "      <td>12.49</td>\n",
       "      <td>...</td>\n",
       "      <td>14.26</td>\n",
       "      <td>10.13</td>\n",
       "      <td>13.51</td>\n",
       "      <td>27.0</td>\n",
       "      <td>23.27</td>\n",
       "      <td>16.17</td>\n",
       "      <td>17.38</td>\n",
       "      <td>715188.0</td>\n",
       "      <td>NaN</td>\n",
       "      <td>NaN</td>\n",
       "    </tr>\n",
       "    <tr>\n",
       "      <th>2</th>\n",
       "      <td>2014-01-01 02:00:00</td>\n",
       "      <td>12.09</td>\n",
       "      <td>29032.0</td>\n",
       "      <td>12.98</td>\n",
       "      <td>10.6</td>\n",
       "      <td>11.56</td>\n",
       "      <td>17.99</td>\n",
       "      <td>31.96</td>\n",
       "      <td>19.2</td>\n",
       "      <td>12.49</td>\n",
       "      <td>...</td>\n",
       "      <td>14.26</td>\n",
       "      <td>10.13</td>\n",
       "      <td>13.51</td>\n",
       "      <td>27.0</td>\n",
       "      <td>23.27</td>\n",
       "      <td>16.17</td>\n",
       "      <td>17.38</td>\n",
       "      <td>715188.0</td>\n",
       "      <td>NaN</td>\n",
       "      <td>NaN</td>\n",
       "    </tr>\n",
       "    <tr>\n",
       "      <th>3</th>\n",
       "      <td>2014-01-01 03:00:00</td>\n",
       "      <td>11.70</td>\n",
       "      <td>29543.0</td>\n",
       "      <td>12.98</td>\n",
       "      <td>10.6</td>\n",
       "      <td>11.56</td>\n",
       "      <td>17.99</td>\n",
       "      <td>31.96</td>\n",
       "      <td>19.2</td>\n",
       "      <td>12.49</td>\n",
       "      <td>...</td>\n",
       "      <td>14.26</td>\n",
       "      <td>10.13</td>\n",
       "      <td>13.51</td>\n",
       "      <td>27.0</td>\n",
       "      <td>23.27</td>\n",
       "      <td>16.17</td>\n",
       "      <td>17.38</td>\n",
       "      <td>715188.0</td>\n",
       "      <td>NaN</td>\n",
       "      <td>NaN</td>\n",
       "    </tr>\n",
       "    <tr>\n",
       "      <th>4</th>\n",
       "      <td>2014-01-01 04:00:00</td>\n",
       "      <td>11.66</td>\n",
       "      <td>29467.5</td>\n",
       "      <td>12.98</td>\n",
       "      <td>10.6</td>\n",
       "      <td>11.56</td>\n",
       "      <td>17.99</td>\n",
       "      <td>31.96</td>\n",
       "      <td>19.2</td>\n",
       "      <td>12.49</td>\n",
       "      <td>...</td>\n",
       "      <td>14.26</td>\n",
       "      <td>10.13</td>\n",
       "      <td>13.51</td>\n",
       "      <td>27.0</td>\n",
       "      <td>23.27</td>\n",
       "      <td>16.17</td>\n",
       "      <td>17.38</td>\n",
       "      <td>715188.0</td>\n",
       "      <td>NaN</td>\n",
       "      <td>NaN</td>\n",
       "    </tr>\n",
       "  </tbody>\n",
       "</table>\n",
       "<p>5 rows × 22 columns</p>\n",
       "</div>"
      ],
      "text/plain": [
       "              DateTime  Prices   Volume  MiddleNight  EarlyMorning  \\\n",
       "0  2014-01-01 00:00:00   15.15  25906.8        12.98          10.6   \n",
       "1  2014-01-01 01:00:00   12.96  27601.2        12.98          10.6   \n",
       "2  2014-01-01 02:00:00   12.09  29032.0        12.98          10.6   \n",
       "3  2014-01-01 03:00:00   11.70  29543.0        12.98          10.6   \n",
       "4  2014-01-01 04:00:00   11.66  29467.5        12.98          10.6   \n",
       "\n",
       "   LateMorning  EarlyAfternoon  RushHour  OffPeak2  Night  ...  OffPeak  \\\n",
       "0        11.56           17.99     31.96      19.2  12.49  ...    14.26   \n",
       "1        11.56           17.99     31.96      19.2  12.49  ...    14.26   \n",
       "2        11.56           17.99     31.96      19.2  12.49  ...    14.26   \n",
       "3        11.56           17.99     31.96      19.2  12.49  ...    14.26   \n",
       "4        11.56           17.99     31.96      19.2  12.49  ...    14.26   \n",
       "\n",
       "   Morning  HighNoon  Afternoon  Evening  SunPeak  BasePrice  BaseVolume  \\\n",
       "0    10.13     13.51       27.0    23.27    16.17      17.38    715188.0   \n",
       "1    10.13     13.51       27.0    23.27    16.17      17.38    715188.0   \n",
       "2    10.13     13.51       27.0    23.27    16.17      17.38    715188.0   \n",
       "3    10.13     13.51       27.0    23.27    16.17      17.38    715188.0   \n",
       "4    10.13     13.51       27.0    23.27    16.17      17.38    715188.0   \n",
       "\n",
       "   PeakPrice  PeakVolume  \n",
       "0        NaN         NaN  \n",
       "1        NaN         NaN  \n",
       "2        NaN         NaN  \n",
       "3        NaN         NaN  \n",
       "4        NaN         NaN  \n",
       "\n",
       "[5 rows x 22 columns]"
      ]
     },
     "execution_count": 9,
     "metadata": {},
     "output_type": "execute_result"
    }
   ],
   "source": [
    "# Knowing the database\n",
    "db1.head()"
   ]
  },
  {
   "cell_type": "markdown",
   "metadata": {},
   "source": [
    "## 2) Cleaning Data: "
   ]
  },
  {
   "cell_type": "markdown",
   "metadata": {},
   "source": [
    "***a) First Table:***"
   ]
  },
  {
   "cell_type": "code",
   "execution_count": 10,
   "metadata": {},
   "outputs": [
    {
     "data": {
      "text/plain": [
       "DateTime              0\n",
       "Prices               24\n",
       "Volume               24\n",
       "MiddleNight           0\n",
       "EarlyMorning          0\n",
       "LateMorning           0\n",
       "EarlyAfternoon        0\n",
       "RushHour              0\n",
       "OffPeak2              0\n",
       "Night                 0\n",
       "OffPeak1              0\n",
       "Business              0\n",
       "OffPeak               0\n",
       "Morning               0\n",
       "HighNoon              0\n",
       "Afternoon             0\n",
       "Evening               0\n",
       "SunPeak               0\n",
       "BasePrice             0\n",
       "BaseVolume            0\n",
       "PeakPrice         43847\n",
       "PeakVolume        43847\n",
       "dtype: int64"
      ]
     },
     "execution_count": 10,
     "metadata": {},
     "output_type": "execute_result"
    }
   ],
   "source": [
    "# Detecting missing values\n",
    "db1.isna().sum()"
   ]
  },
  {
   "cell_type": "code",
   "execution_count": 11,
   "metadata": {},
   "outputs": [],
   "source": [
    "# Eliminating PeakPrice and PeakVolume\n",
    "db1 =  db1.drop(columns=\"PeakPrice\")\n",
    "db1 =  db1.drop(columns=\"PeakVolume\")"
   ]
  },
  {
   "cell_type": "code",
   "execution_count": 12,
   "metadata": {},
   "outputs": [],
   "source": [
    "# Detecting rows with missing values\n",
    "missing = db1[db1['Prices'].isna()]"
   ]
  },
  {
   "cell_type": "code",
   "execution_count": 13,
   "metadata": {},
   "outputs": [],
   "source": [
    "# Dropping missing values\n",
    "db1 = db1.drop(missing.index, axis = 0)"
   ]
  },
  {
   "cell_type": "code",
   "execution_count": 14,
   "metadata": {},
   "outputs": [
    {
     "data": {
      "text/plain": [
       "DateTime          0\n",
       "Prices            0\n",
       "Volume            0\n",
       "MiddleNight       0\n",
       "EarlyMorning      0\n",
       "LateMorning       0\n",
       "EarlyAfternoon    0\n",
       "RushHour          0\n",
       "OffPeak2          0\n",
       "Night             0\n",
       "OffPeak1          0\n",
       "Business          0\n",
       "OffPeak           0\n",
       "Morning           0\n",
       "HighNoon          0\n",
       "Afternoon         0\n",
       "Evening           0\n",
       "SunPeak           0\n",
       "BasePrice         0\n",
       "BaseVolume        0\n",
       "dtype: int64"
      ]
     },
     "execution_count": 14,
     "metadata": {},
     "output_type": "execute_result"
    }
   ],
   "source": [
    "db1.isna().sum()"
   ]
  },
  {
   "cell_type": "code",
   "execution_count": 15,
   "metadata": {},
   "outputs": [],
   "source": [
    "# Changing names of features\n",
    "dictio = ({'DateTime':'DateTime' ,'Prices': 'Prices','Volume':'Volume', \n",
    "                            'MiddleNight': '0-3', 'EarlyMorning':'4-7', 'LateMorning':'8-11',\n",
    "                            'EarlyAfternoon': '12-15', 'RushHour':'16-19', 'OffPeak2':'20-23',\n",
    "                            'Night':'Day Avg', 'OffPeak1':'Business Time', 'Business':'Dawning',\n",
    "                            'OffPeak':'Early Morning', 'Morning':'School Time', 'HighNoon':'Sleeping Time',\n",
    "                            'Afternoon':'Morning', 'Evening':'Noon', 'SunPeak':'Afternoon',\n",
    "                            'BasePrice':'Day Average 2', 'BaseVolume':'Sum Day Volume'\n",
    "          })\n",
    "\n",
    "db1 = db1.rename(columns = dictio)"
   ]
  },
  {
   "cell_type": "code",
   "execution_count": 16,
   "metadata": {},
   "outputs": [],
   "source": [
    "# Eliminating redundant feature\n",
    "db1 =  db1.drop(columns=\"Day Average 2\")"
   ]
  },
  {
   "cell_type": "code",
   "execution_count": 17,
   "metadata": {},
   "outputs": [],
   "source": [
    "# Creating time features\n",
    "db1['DateTime'] = pd.to_datetime(db1['DateTime'], format = '%Y-%m-%d %H:%M')\n",
    "db1['Year'] = db1['DateTime'].dt.year\n",
    "db1['Month'] = db1['DateTime'].dt.month\n",
    "db1['Day'] = db1['DateTime'].dt.day\n",
    "db1['Hour'] = db1['DateTime'].dt.hour\n",
    "db1['Day_of_Week'] = db1['DateTime'].dt.dayofweek"
   ]
  },
  {
   "cell_type": "code",
   "execution_count": 18,
   "metadata": {},
   "outputs": [],
   "source": [
    "# Reordering the features\n",
    "db1 = db1[['DateTime','Year','Month','Day','Hour','Day_of_Week', 'Prices', 'Volume', '0-3', '4-7', '8-11', '12-15', '16-19', '20-23','Dawning', 'Early Morning',\n",
    "        'Morning','School Time', 'Afternoon','Business Time','Noon','Sleeping Time','Day Avg','Sum Day Volume' ]]"
   ]
  },
  {
   "cell_type": "code",
   "execution_count": 19,
   "metadata": {},
   "outputs": [
    {
     "data": {
      "text/html": [
       "<div>\n",
       "<style scoped>\n",
       "    .dataframe tbody tr th:only-of-type {\n",
       "        vertical-align: middle;\n",
       "    }\n",
       "\n",
       "    .dataframe tbody tr th {\n",
       "        vertical-align: top;\n",
       "    }\n",
       "\n",
       "    .dataframe thead th {\n",
       "        text-align: right;\n",
       "    }\n",
       "</style>\n",
       "<table border=\"1\" class=\"dataframe\">\n",
       "  <thead>\n",
       "    <tr style=\"text-align: right;\">\n",
       "      <th></th>\n",
       "      <th>DateTime</th>\n",
       "      <th>Year</th>\n",
       "      <th>Month</th>\n",
       "      <th>Day</th>\n",
       "      <th>Hour</th>\n",
       "      <th>Day_of_Week</th>\n",
       "      <th>Prices</th>\n",
       "      <th>Volume</th>\n",
       "      <th>0-3</th>\n",
       "      <th>4-7</th>\n",
       "      <th>...</th>\n",
       "      <th>Dawning</th>\n",
       "      <th>Early Morning</th>\n",
       "      <th>Morning</th>\n",
       "      <th>School Time</th>\n",
       "      <th>Afternoon</th>\n",
       "      <th>Business Time</th>\n",
       "      <th>Noon</th>\n",
       "      <th>Sleeping Time</th>\n",
       "      <th>Day Avg</th>\n",
       "      <th>Sum Day Volume</th>\n",
       "    </tr>\n",
       "  </thead>\n",
       "  <tbody>\n",
       "    <tr>\n",
       "      <th>0</th>\n",
       "      <td>2014-01-01 00:00:00</td>\n",
       "      <td>2014</td>\n",
       "      <td>1</td>\n",
       "      <td>1</td>\n",
       "      <td>0</td>\n",
       "      <td>2</td>\n",
       "      <td>15.15</td>\n",
       "      <td>25906.8</td>\n",
       "      <td>12.98</td>\n",
       "      <td>10.6</td>\n",
       "      <td>...</td>\n",
       "      <td>14.77</td>\n",
       "      <td>14.26</td>\n",
       "      <td>27.0</td>\n",
       "      <td>10.13</td>\n",
       "      <td>16.17</td>\n",
       "      <td>11.79</td>\n",
       "      <td>23.27</td>\n",
       "      <td>13.51</td>\n",
       "      <td>12.49</td>\n",
       "      <td>715188.0</td>\n",
       "    </tr>\n",
       "    <tr>\n",
       "      <th>1</th>\n",
       "      <td>2014-01-01 01:00:00</td>\n",
       "      <td>2014</td>\n",
       "      <td>1</td>\n",
       "      <td>1</td>\n",
       "      <td>1</td>\n",
       "      <td>2</td>\n",
       "      <td>12.96</td>\n",
       "      <td>27601.2</td>\n",
       "      <td>12.98</td>\n",
       "      <td>10.6</td>\n",
       "      <td>...</td>\n",
       "      <td>14.77</td>\n",
       "      <td>14.26</td>\n",
       "      <td>27.0</td>\n",
       "      <td>10.13</td>\n",
       "      <td>16.17</td>\n",
       "      <td>11.79</td>\n",
       "      <td>23.27</td>\n",
       "      <td>13.51</td>\n",
       "      <td>12.49</td>\n",
       "      <td>715188.0</td>\n",
       "    </tr>\n",
       "    <tr>\n",
       "      <th>2</th>\n",
       "      <td>2014-01-01 02:00:00</td>\n",
       "      <td>2014</td>\n",
       "      <td>1</td>\n",
       "      <td>1</td>\n",
       "      <td>2</td>\n",
       "      <td>2</td>\n",
       "      <td>12.09</td>\n",
       "      <td>29032.0</td>\n",
       "      <td>12.98</td>\n",
       "      <td>10.6</td>\n",
       "      <td>...</td>\n",
       "      <td>14.77</td>\n",
       "      <td>14.26</td>\n",
       "      <td>27.0</td>\n",
       "      <td>10.13</td>\n",
       "      <td>16.17</td>\n",
       "      <td>11.79</td>\n",
       "      <td>23.27</td>\n",
       "      <td>13.51</td>\n",
       "      <td>12.49</td>\n",
       "      <td>715188.0</td>\n",
       "    </tr>\n",
       "    <tr>\n",
       "      <th>3</th>\n",
       "      <td>2014-01-01 03:00:00</td>\n",
       "      <td>2014</td>\n",
       "      <td>1</td>\n",
       "      <td>1</td>\n",
       "      <td>3</td>\n",
       "      <td>2</td>\n",
       "      <td>11.70</td>\n",
       "      <td>29543.0</td>\n",
       "      <td>12.98</td>\n",
       "      <td>10.6</td>\n",
       "      <td>...</td>\n",
       "      <td>14.77</td>\n",
       "      <td>14.26</td>\n",
       "      <td>27.0</td>\n",
       "      <td>10.13</td>\n",
       "      <td>16.17</td>\n",
       "      <td>11.79</td>\n",
       "      <td>23.27</td>\n",
       "      <td>13.51</td>\n",
       "      <td>12.49</td>\n",
       "      <td>715188.0</td>\n",
       "    </tr>\n",
       "    <tr>\n",
       "      <th>4</th>\n",
       "      <td>2014-01-01 04:00:00</td>\n",
       "      <td>2014</td>\n",
       "      <td>1</td>\n",
       "      <td>1</td>\n",
       "      <td>4</td>\n",
       "      <td>2</td>\n",
       "      <td>11.66</td>\n",
       "      <td>29467.5</td>\n",
       "      <td>12.98</td>\n",
       "      <td>10.6</td>\n",
       "      <td>...</td>\n",
       "      <td>14.77</td>\n",
       "      <td>14.26</td>\n",
       "      <td>27.0</td>\n",
       "      <td>10.13</td>\n",
       "      <td>16.17</td>\n",
       "      <td>11.79</td>\n",
       "      <td>23.27</td>\n",
       "      <td>13.51</td>\n",
       "      <td>12.49</td>\n",
       "      <td>715188.0</td>\n",
       "    </tr>\n",
       "  </tbody>\n",
       "</table>\n",
       "<p>5 rows × 24 columns</p>\n",
       "</div>"
      ],
      "text/plain": [
       "             DateTime  Year  Month  Day  Hour  Day_of_Week  Prices   Volume  \\\n",
       "0 2014-01-01 00:00:00  2014      1    1     0            2   15.15  25906.8   \n",
       "1 2014-01-01 01:00:00  2014      1    1     1            2   12.96  27601.2   \n",
       "2 2014-01-01 02:00:00  2014      1    1     2            2   12.09  29032.0   \n",
       "3 2014-01-01 03:00:00  2014      1    1     3            2   11.70  29543.0   \n",
       "4 2014-01-01 04:00:00  2014      1    1     4            2   11.66  29467.5   \n",
       "\n",
       "     0-3   4-7  ...  Dawning  Early Morning  Morning  School Time  Afternoon  \\\n",
       "0  12.98  10.6  ...    14.77          14.26     27.0        10.13      16.17   \n",
       "1  12.98  10.6  ...    14.77          14.26     27.0        10.13      16.17   \n",
       "2  12.98  10.6  ...    14.77          14.26     27.0        10.13      16.17   \n",
       "3  12.98  10.6  ...    14.77          14.26     27.0        10.13      16.17   \n",
       "4  12.98  10.6  ...    14.77          14.26     27.0        10.13      16.17   \n",
       "\n",
       "   Business Time   Noon  Sleeping Time  Day Avg  Sum Day Volume  \n",
       "0          11.79  23.27          13.51    12.49        715188.0  \n",
       "1          11.79  23.27          13.51    12.49        715188.0  \n",
       "2          11.79  23.27          13.51    12.49        715188.0  \n",
       "3          11.79  23.27          13.51    12.49        715188.0  \n",
       "4          11.79  23.27          13.51    12.49        715188.0  \n",
       "\n",
       "[5 rows x 24 columns]"
      ]
     },
     "execution_count": 19,
     "metadata": {},
     "output_type": "execute_result"
    }
   ],
   "source": [
    "# New database\n",
    "db1.head()"
   ]
  },
  {
   "cell_type": "markdown",
   "metadata": {},
   "source": [
    "***b) Second Table:***"
   ]
  },
  {
   "cell_type": "code",
   "execution_count": 20,
   "metadata": {},
   "outputs": [
    {
     "data": {
      "text/plain": [
       "DateTime             0\n",
       "Prices               6\n",
       "Volume               6\n",
       "MiddleNight          0\n",
       "EarlyMorning         0\n",
       "LateMorning          0\n",
       "EarlyAfternoon       0\n",
       "RushHour             0\n",
       "OffPeak2             0\n",
       "Night                0\n",
       "OffPeak1             0\n",
       "Business             0\n",
       "OffPeak              0\n",
       "Morning              0\n",
       "HighNoon             0\n",
       "Afternoon            0\n",
       "Evening              0\n",
       "SunPeak              0\n",
       "BasePrice            0\n",
       "BaseVolume           0\n",
       "PeakPrice         2359\n",
       "PeakVolume        2359\n",
       "dtype: int64"
      ]
     },
     "execution_count": 20,
     "metadata": {},
     "output_type": "execute_result"
    }
   ],
   "source": [
    "# Detecting missing values\n",
    "db2.isna().sum()"
   ]
  },
  {
   "cell_type": "code",
   "execution_count": 21,
   "metadata": {},
   "outputs": [],
   "source": [
    "# Eliminating PeakPrice and PeakVolume\n",
    "db2 =  db2.drop(columns=\"PeakPrice\")\n",
    "db2 =  db2.drop(columns=\"PeakVolume\")"
   ]
  },
  {
   "cell_type": "code",
   "execution_count": 22,
   "metadata": {},
   "outputs": [],
   "source": [
    "# Detecting rows with missing values\n",
    "missing = db2[db2['Prices'].isna()]"
   ]
  },
  {
   "cell_type": "code",
   "execution_count": 23,
   "metadata": {},
   "outputs": [],
   "source": [
    "# Dropping missing values\n",
    "db2 = db2.drop(missing.index, axis = 0)"
   ]
  },
  {
   "cell_type": "code",
   "execution_count": 24,
   "metadata": {},
   "outputs": [
    {
     "data": {
      "text/plain": [
       "DateTime          0\n",
       "Prices            0\n",
       "Volume            0\n",
       "MiddleNight       0\n",
       "EarlyMorning      0\n",
       "LateMorning       0\n",
       "EarlyAfternoon    0\n",
       "RushHour          0\n",
       "OffPeak2          0\n",
       "Night             0\n",
       "OffPeak1          0\n",
       "Business          0\n",
       "OffPeak           0\n",
       "Morning           0\n",
       "HighNoon          0\n",
       "Afternoon         0\n",
       "Evening           0\n",
       "SunPeak           0\n",
       "BasePrice         0\n",
       "BaseVolume        0\n",
       "dtype: int64"
      ]
     },
     "execution_count": 24,
     "metadata": {},
     "output_type": "execute_result"
    }
   ],
   "source": [
    "# Detecting missing values\n",
    "db2.isna().sum()"
   ]
  },
  {
   "cell_type": "code",
   "execution_count": 25,
   "metadata": {},
   "outputs": [],
   "source": [
    "# Changing names of features\n",
    "dictio = ({'DateTime':'DateTime' ,'Prices': 'Prices','Volume':'Volume', \n",
    "                            'MiddleNight': '0-3', 'EarlyMorning':'4-7', 'LateMorning':'8-11',\n",
    "                            'EarlyAfternoon': '12-15', 'RushHour':'16-19', 'OffPeak2':'20-23',\n",
    "                            'Night':'Day Avg', 'OffPeak1':'Business Time', 'Business':'Dawning',\n",
    "                            'OffPeak':'Early Morning', 'Morning':'School Time', 'HighNoon':'Sleeping Time',\n",
    "                            'Afternoon':'Morning', 'Evening':'Noon', 'SunPeak':'Afternoon',\n",
    "                            'BasePrice':'Day Average 2', 'BaseVolume':'Sum Day Volume'\n",
    "          })\n",
    "\n",
    "db2 = db2.rename(columns = dictio)"
   ]
  },
  {
   "cell_type": "code",
   "execution_count": 26,
   "metadata": {},
   "outputs": [],
   "source": [
    "# Eliminating redundant feature\n",
    "db2 =  db2.drop(columns=\"Day Average 2\")"
   ]
  },
  {
   "cell_type": "code",
   "execution_count": 27,
   "metadata": {},
   "outputs": [],
   "source": [
    "# Creating time features\n",
    "db2['DateTime'] = pd.to_datetime(db2['DateTime'], format = '%Y-%m-%d %H:%M')\n",
    "db2['Year'] = db2['DateTime'].dt.year\n",
    "db2['Month'] = db2['DateTime'].dt.month\n",
    "db2['Day'] = db2['DateTime'].dt.day\n",
    "db2['Hour'] = db2['DateTime'].dt.hour\n",
    "db2['Day_of_Week'] = db2['DateTime'].dt.dayofweek"
   ]
  },
  {
   "cell_type": "code",
   "execution_count": 28,
   "metadata": {},
   "outputs": [],
   "source": [
    "# Reordering the features\n",
    "db2 = db2[['DateTime','Year','Month','Day', 'Hour','Day_of_Week', 'Prices', 'Volume', '0-3', '4-7', '8-11', '12-15', '16-19', '20-23','Dawning', 'Early Morning',\n",
    "        'Morning','School Time', 'Afternoon','Business Time','Noon','Sleeping Time','Day Avg','Sum Day Volume' ]]"
   ]
  },
  {
   "cell_type": "code",
   "execution_count": 29,
   "metadata": {},
   "outputs": [
    {
     "data": {
      "text/html": [
       "<div>\n",
       "<style scoped>\n",
       "    .dataframe tbody tr th:only-of-type {\n",
       "        vertical-align: middle;\n",
       "    }\n",
       "\n",
       "    .dataframe tbody tr th {\n",
       "        vertical-align: top;\n",
       "    }\n",
       "\n",
       "    .dataframe thead th {\n",
       "        text-align: right;\n",
       "    }\n",
       "</style>\n",
       "<table border=\"1\" class=\"dataframe\">\n",
       "  <thead>\n",
       "    <tr style=\"text-align: right;\">\n",
       "      <th></th>\n",
       "      <th>DateTime</th>\n",
       "      <th>Year</th>\n",
       "      <th>Month</th>\n",
       "      <th>Day</th>\n",
       "      <th>Hour</th>\n",
       "      <th>Day_of_Week</th>\n",
       "      <th>Prices</th>\n",
       "      <th>Volume</th>\n",
       "      <th>0-3</th>\n",
       "      <th>4-7</th>\n",
       "      <th>...</th>\n",
       "      <th>Dawning</th>\n",
       "      <th>Early Morning</th>\n",
       "      <th>Morning</th>\n",
       "      <th>School Time</th>\n",
       "      <th>Afternoon</th>\n",
       "      <th>Business Time</th>\n",
       "      <th>Noon</th>\n",
       "      <th>Sleeping Time</th>\n",
       "      <th>Day Avg</th>\n",
       "      <th>Sum Day Volume</th>\n",
       "    </tr>\n",
       "  </thead>\n",
       "  <tbody>\n",
       "    <tr>\n",
       "      <th>0</th>\n",
       "      <td>2018-10-01 00:00:00</td>\n",
       "      <td>2018</td>\n",
       "      <td>10</td>\n",
       "      <td>1</td>\n",
       "      <td>0</td>\n",
       "      <td>0</td>\n",
       "      <td>59.53</td>\n",
       "      <td>17572.0</td>\n",
       "      <td>53.61</td>\n",
       "      <td>61.41</td>\n",
       "      <td>...</td>\n",
       "      <td>52.27</td>\n",
       "      <td>57.51</td>\n",
       "      <td>77.75</td>\n",
       "      <td>67.8</td>\n",
       "      <td>55.74</td>\n",
       "      <td>66.76</td>\n",
       "      <td>67.18</td>\n",
       "      <td>55.73</td>\n",
       "      <td>61.24</td>\n",
       "      <td>552501.9</td>\n",
       "    </tr>\n",
       "    <tr>\n",
       "      <th>1</th>\n",
       "      <td>2018-10-01 01:00:00</td>\n",
       "      <td>2018</td>\n",
       "      <td>10</td>\n",
       "      <td>1</td>\n",
       "      <td>1</td>\n",
       "      <td>0</td>\n",
       "      <td>56.10</td>\n",
       "      <td>18524.5</td>\n",
       "      <td>53.61</td>\n",
       "      <td>61.41</td>\n",
       "      <td>...</td>\n",
       "      <td>52.27</td>\n",
       "      <td>57.51</td>\n",
       "      <td>77.75</td>\n",
       "      <td>67.8</td>\n",
       "      <td>55.74</td>\n",
       "      <td>66.76</td>\n",
       "      <td>67.18</td>\n",
       "      <td>55.73</td>\n",
       "      <td>61.24</td>\n",
       "      <td>552501.9</td>\n",
       "    </tr>\n",
       "    <tr>\n",
       "      <th>2</th>\n",
       "      <td>2018-10-01 02:00:00</td>\n",
       "      <td>2018</td>\n",
       "      <td>10</td>\n",
       "      <td>1</td>\n",
       "      <td>2</td>\n",
       "      <td>0</td>\n",
       "      <td>51.41</td>\n",
       "      <td>19033.2</td>\n",
       "      <td>53.61</td>\n",
       "      <td>61.41</td>\n",
       "      <td>...</td>\n",
       "      <td>52.27</td>\n",
       "      <td>57.51</td>\n",
       "      <td>77.75</td>\n",
       "      <td>67.8</td>\n",
       "      <td>55.74</td>\n",
       "      <td>66.76</td>\n",
       "      <td>67.18</td>\n",
       "      <td>55.73</td>\n",
       "      <td>61.24</td>\n",
       "      <td>552501.9</td>\n",
       "    </tr>\n",
       "    <tr>\n",
       "      <th>3</th>\n",
       "      <td>2018-10-01 03:00:00</td>\n",
       "      <td>2018</td>\n",
       "      <td>10</td>\n",
       "      <td>1</td>\n",
       "      <td>3</td>\n",
       "      <td>0</td>\n",
       "      <td>47.38</td>\n",
       "      <td>18313.7</td>\n",
       "      <td>53.61</td>\n",
       "      <td>61.41</td>\n",
       "      <td>...</td>\n",
       "      <td>52.27</td>\n",
       "      <td>57.51</td>\n",
       "      <td>77.75</td>\n",
       "      <td>67.8</td>\n",
       "      <td>55.74</td>\n",
       "      <td>66.76</td>\n",
       "      <td>67.18</td>\n",
       "      <td>55.73</td>\n",
       "      <td>61.24</td>\n",
       "      <td>552501.9</td>\n",
       "    </tr>\n",
       "    <tr>\n",
       "      <th>4</th>\n",
       "      <td>2018-10-01 04:00:00</td>\n",
       "      <td>2018</td>\n",
       "      <td>10</td>\n",
       "      <td>1</td>\n",
       "      <td>4</td>\n",
       "      <td>0</td>\n",
       "      <td>47.59</td>\n",
       "      <td>17949.1</td>\n",
       "      <td>53.61</td>\n",
       "      <td>61.41</td>\n",
       "      <td>...</td>\n",
       "      <td>52.27</td>\n",
       "      <td>57.51</td>\n",
       "      <td>77.75</td>\n",
       "      <td>67.8</td>\n",
       "      <td>55.74</td>\n",
       "      <td>66.76</td>\n",
       "      <td>67.18</td>\n",
       "      <td>55.73</td>\n",
       "      <td>61.24</td>\n",
       "      <td>552501.9</td>\n",
       "    </tr>\n",
       "  </tbody>\n",
       "</table>\n",
       "<p>5 rows × 24 columns</p>\n",
       "</div>"
      ],
      "text/plain": [
       "             DateTime  Year  Month  Day  Hour  Day_of_Week  Prices   Volume  \\\n",
       "0 2018-10-01 00:00:00  2018     10    1     0            0   59.53  17572.0   \n",
       "1 2018-10-01 01:00:00  2018     10    1     1            0   56.10  18524.5   \n",
       "2 2018-10-01 02:00:00  2018     10    1     2            0   51.41  19033.2   \n",
       "3 2018-10-01 03:00:00  2018     10    1     3            0   47.38  18313.7   \n",
       "4 2018-10-01 04:00:00  2018     10    1     4            0   47.59  17949.1   \n",
       "\n",
       "     0-3    4-7  ...  Dawning  Early Morning  Morning  School Time  Afternoon  \\\n",
       "0  53.61  61.41  ...    52.27          57.51    77.75         67.8      55.74   \n",
       "1  53.61  61.41  ...    52.27          57.51    77.75         67.8      55.74   \n",
       "2  53.61  61.41  ...    52.27          57.51    77.75         67.8      55.74   \n",
       "3  53.61  61.41  ...    52.27          57.51    77.75         67.8      55.74   \n",
       "4  53.61  61.41  ...    52.27          57.51    77.75         67.8      55.74   \n",
       "\n",
       "   Business Time   Noon  Sleeping Time  Day Avg  Sum Day Volume  \n",
       "0          66.76  67.18          55.73    61.24        552501.9  \n",
       "1          66.76  67.18          55.73    61.24        552501.9  \n",
       "2          66.76  67.18          55.73    61.24        552501.9  \n",
       "3          66.76  67.18          55.73    61.24        552501.9  \n",
       "4          66.76  67.18          55.73    61.24        552501.9  \n",
       "\n",
       "[5 rows x 24 columns]"
      ]
     },
     "execution_count": 29,
     "metadata": {},
     "output_type": "execute_result"
    }
   ],
   "source": [
    "# New database\n",
    "db2.head()"
   ]
  },
  {
   "cell_type": "markdown",
   "metadata": {},
   "source": [
    "## 2) Merging tables: "
   ]
  },
  {
   "cell_type": "code",
   "execution_count": 30,
   "metadata": {},
   "outputs": [],
   "source": [
    "# Merging tables\n",
    "db = db1.append(db2)"
   ]
  },
  {
   "cell_type": "code",
   "execution_count": 31,
   "metadata": {},
   "outputs": [
    {
     "data": {
      "text/html": [
       "<div>\n",
       "<style scoped>\n",
       "    .dataframe tbody tr th:only-of-type {\n",
       "        vertical-align: middle;\n",
       "    }\n",
       "\n",
       "    .dataframe tbody tr th {\n",
       "        vertical-align: top;\n",
       "    }\n",
       "\n",
       "    .dataframe thead th {\n",
       "        text-align: right;\n",
       "    }\n",
       "</style>\n",
       "<table border=\"1\" class=\"dataframe\">\n",
       "  <thead>\n",
       "    <tr style=\"text-align: right;\">\n",
       "      <th></th>\n",
       "      <th>DateTime</th>\n",
       "      <th>Year</th>\n",
       "      <th>Month</th>\n",
       "      <th>Day</th>\n",
       "      <th>Hour</th>\n",
       "      <th>Day_of_Week</th>\n",
       "      <th>Prices</th>\n",
       "      <th>Volume</th>\n",
       "      <th>0-3</th>\n",
       "      <th>4-7</th>\n",
       "      <th>...</th>\n",
       "      <th>Dawning</th>\n",
       "      <th>Early Morning</th>\n",
       "      <th>Morning</th>\n",
       "      <th>School Time</th>\n",
       "      <th>Afternoon</th>\n",
       "      <th>Business Time</th>\n",
       "      <th>Noon</th>\n",
       "      <th>Sleeping Time</th>\n",
       "      <th>Day Avg</th>\n",
       "      <th>Sum Day Volume</th>\n",
       "    </tr>\n",
       "  </thead>\n",
       "  <tbody>\n",
       "    <tr>\n",
       "      <th>0</th>\n",
       "      <td>2014-01-01 00:00:00</td>\n",
       "      <td>2014</td>\n",
       "      <td>1</td>\n",
       "      <td>1</td>\n",
       "      <td>0</td>\n",
       "      <td>2</td>\n",
       "      <td>15.15</td>\n",
       "      <td>25906.8</td>\n",
       "      <td>12.98</td>\n",
       "      <td>10.6</td>\n",
       "      <td>...</td>\n",
       "      <td>14.77</td>\n",
       "      <td>14.26</td>\n",
       "      <td>27.0</td>\n",
       "      <td>10.13</td>\n",
       "      <td>16.17</td>\n",
       "      <td>11.79</td>\n",
       "      <td>23.27</td>\n",
       "      <td>13.51</td>\n",
       "      <td>12.49</td>\n",
       "      <td>715188.0</td>\n",
       "    </tr>\n",
       "    <tr>\n",
       "      <th>1</th>\n",
       "      <td>2014-01-01 01:00:00</td>\n",
       "      <td>2014</td>\n",
       "      <td>1</td>\n",
       "      <td>1</td>\n",
       "      <td>1</td>\n",
       "      <td>2</td>\n",
       "      <td>12.96</td>\n",
       "      <td>27601.2</td>\n",
       "      <td>12.98</td>\n",
       "      <td>10.6</td>\n",
       "      <td>...</td>\n",
       "      <td>14.77</td>\n",
       "      <td>14.26</td>\n",
       "      <td>27.0</td>\n",
       "      <td>10.13</td>\n",
       "      <td>16.17</td>\n",
       "      <td>11.79</td>\n",
       "      <td>23.27</td>\n",
       "      <td>13.51</td>\n",
       "      <td>12.49</td>\n",
       "      <td>715188.0</td>\n",
       "    </tr>\n",
       "    <tr>\n",
       "      <th>2</th>\n",
       "      <td>2014-01-01 02:00:00</td>\n",
       "      <td>2014</td>\n",
       "      <td>1</td>\n",
       "      <td>1</td>\n",
       "      <td>2</td>\n",
       "      <td>2</td>\n",
       "      <td>12.09</td>\n",
       "      <td>29032.0</td>\n",
       "      <td>12.98</td>\n",
       "      <td>10.6</td>\n",
       "      <td>...</td>\n",
       "      <td>14.77</td>\n",
       "      <td>14.26</td>\n",
       "      <td>27.0</td>\n",
       "      <td>10.13</td>\n",
       "      <td>16.17</td>\n",
       "      <td>11.79</td>\n",
       "      <td>23.27</td>\n",
       "      <td>13.51</td>\n",
       "      <td>12.49</td>\n",
       "      <td>715188.0</td>\n",
       "    </tr>\n",
       "    <tr>\n",
       "      <th>3</th>\n",
       "      <td>2014-01-01 03:00:00</td>\n",
       "      <td>2014</td>\n",
       "      <td>1</td>\n",
       "      <td>1</td>\n",
       "      <td>3</td>\n",
       "      <td>2</td>\n",
       "      <td>11.70</td>\n",
       "      <td>29543.0</td>\n",
       "      <td>12.98</td>\n",
       "      <td>10.6</td>\n",
       "      <td>...</td>\n",
       "      <td>14.77</td>\n",
       "      <td>14.26</td>\n",
       "      <td>27.0</td>\n",
       "      <td>10.13</td>\n",
       "      <td>16.17</td>\n",
       "      <td>11.79</td>\n",
       "      <td>23.27</td>\n",
       "      <td>13.51</td>\n",
       "      <td>12.49</td>\n",
       "      <td>715188.0</td>\n",
       "    </tr>\n",
       "    <tr>\n",
       "      <th>4</th>\n",
       "      <td>2014-01-01 04:00:00</td>\n",
       "      <td>2014</td>\n",
       "      <td>1</td>\n",
       "      <td>1</td>\n",
       "      <td>4</td>\n",
       "      <td>2</td>\n",
       "      <td>11.66</td>\n",
       "      <td>29467.5</td>\n",
       "      <td>12.98</td>\n",
       "      <td>10.6</td>\n",
       "      <td>...</td>\n",
       "      <td>14.77</td>\n",
       "      <td>14.26</td>\n",
       "      <td>27.0</td>\n",
       "      <td>10.13</td>\n",
       "      <td>16.17</td>\n",
       "      <td>11.79</td>\n",
       "      <td>23.27</td>\n",
       "      <td>13.51</td>\n",
       "      <td>12.49</td>\n",
       "      <td>715188.0</td>\n",
       "    </tr>\n",
       "  </tbody>\n",
       "</table>\n",
       "<p>5 rows × 24 columns</p>\n",
       "</div>"
      ],
      "text/plain": [
       "             DateTime  Year  Month  Day  Hour  Day_of_Week  Prices   Volume  \\\n",
       "0 2014-01-01 00:00:00  2014      1    1     0            2   15.15  25906.8   \n",
       "1 2014-01-01 01:00:00  2014      1    1     1            2   12.96  27601.2   \n",
       "2 2014-01-01 02:00:00  2014      1    1     2            2   12.09  29032.0   \n",
       "3 2014-01-01 03:00:00  2014      1    1     3            2   11.70  29543.0   \n",
       "4 2014-01-01 04:00:00  2014      1    1     4            2   11.66  29467.5   \n",
       "\n",
       "     0-3   4-7  ...  Dawning  Early Morning  Morning  School Time  Afternoon  \\\n",
       "0  12.98  10.6  ...    14.77          14.26     27.0        10.13      16.17   \n",
       "1  12.98  10.6  ...    14.77          14.26     27.0        10.13      16.17   \n",
       "2  12.98  10.6  ...    14.77          14.26     27.0        10.13      16.17   \n",
       "3  12.98  10.6  ...    14.77          14.26     27.0        10.13      16.17   \n",
       "4  12.98  10.6  ...    14.77          14.26     27.0        10.13      16.17   \n",
       "\n",
       "   Business Time   Noon  Sleeping Time  Day Avg  Sum Day Volume  \n",
       "0          11.79  23.27          13.51    12.49        715188.0  \n",
       "1          11.79  23.27          13.51    12.49        715188.0  \n",
       "2          11.79  23.27          13.51    12.49        715188.0  \n",
       "3          11.79  23.27          13.51    12.49        715188.0  \n",
       "4          11.79  23.27          13.51    12.49        715188.0  \n",
       "\n",
       "[5 rows x 24 columns]"
      ]
     },
     "execution_count": 31,
     "metadata": {},
     "output_type": "execute_result"
    }
   ],
   "source": [
    "# New database\n",
    "db.head()"
   ]
  },
  {
   "cell_type": "markdown",
   "metadata": {},
   "source": [
    "## 3) Grouping by time features:"
   ]
  },
  {
   "cell_type": "code",
   "execution_count": 32,
   "metadata": {},
   "outputs": [
    {
     "name": "stdout",
     "output_type": "stream",
     "text": [
      "hour_0 = db[db[\"Hour\"] == 0].iloc[:,[0,1,2,3,4,5,6]].set_index([\"DateTime\"])\n",
      "hour_1 = db[db[\"Hour\"] == 1].iloc[:,[0,1,2,3,4,5,6]].set_index([\"DateTime\"])\n",
      "hour_2 = db[db[\"Hour\"] == 2].iloc[:,[0,1,2,3,4,5,6]].set_index([\"DateTime\"])\n",
      "hour_3 = db[db[\"Hour\"] == 3].iloc[:,[0,1,2,3,4,5,6]].set_index([\"DateTime\"])\n",
      "hour_4 = db[db[\"Hour\"] == 4].iloc[:,[0,1,2,3,4,5,6]].set_index([\"DateTime\"])\n",
      "hour_5 = db[db[\"Hour\"] == 5].iloc[:,[0,1,2,3,4,5,6]].set_index([\"DateTime\"])\n",
      "hour_6 = db[db[\"Hour\"] == 6].iloc[:,[0,1,2,3,4,5,6]].set_index([\"DateTime\"])\n",
      "hour_7 = db[db[\"Hour\"] == 7].iloc[:,[0,1,2,3,4,5,6]].set_index([\"DateTime\"])\n",
      "hour_8 = db[db[\"Hour\"] == 8].iloc[:,[0,1,2,3,4,5,6]].set_index([\"DateTime\"])\n",
      "hour_9 = db[db[\"Hour\"] == 9].iloc[:,[0,1,2,3,4,5,6]].set_index([\"DateTime\"])\n",
      "hour_10 = db[db[\"Hour\"] == 10].iloc[:,[0,1,2,3,4,5,6]].set_index([\"DateTime\"])\n",
      "hour_11 = db[db[\"Hour\"] == 11].iloc[:,[0,1,2,3,4,5,6]].set_index([\"DateTime\"])\n",
      "hour_12 = db[db[\"Hour\"] == 12].iloc[:,[0,1,2,3,4,5,6]].set_index([\"DateTime\"])\n",
      "hour_13 = db[db[\"Hour\"] == 13].iloc[:,[0,1,2,3,4,5,6]].set_index([\"DateTime\"])\n",
      "hour_14 = db[db[\"Hour\"] == 14].iloc[:,[0,1,2,3,4,5,6]].set_index([\"DateTime\"])\n",
      "hour_15 = db[db[\"Hour\"] == 15].iloc[:,[0,1,2,3,4,5,6]].set_index([\"DateTime\"])\n",
      "hour_16 = db[db[\"Hour\"] == 16].iloc[:,[0,1,2,3,4,5,6]].set_index([\"DateTime\"])\n",
      "hour_17 = db[db[\"Hour\"] == 17].iloc[:,[0,1,2,3,4,5,6]].set_index([\"DateTime\"])\n",
      "hour_18 = db[db[\"Hour\"] == 18].iloc[:,[0,1,2,3,4,5,6]].set_index([\"DateTime\"])\n",
      "hour_19 = db[db[\"Hour\"] == 19].iloc[:,[0,1,2,3,4,5,6]].set_index([\"DateTime\"])\n",
      "hour_20 = db[db[\"Hour\"] == 20].iloc[:,[0,1,2,3,4,5,6]].set_index([\"DateTime\"])\n",
      "hour_21 = db[db[\"Hour\"] == 21].iloc[:,[0,1,2,3,4,5,6]].set_index([\"DateTime\"])\n",
      "hour_22 = db[db[\"Hour\"] == 22].iloc[:,[0,1,2,3,4,5,6]].set_index([\"DateTime\"])\n",
      "hour_23 = db[db[\"Hour\"] == 23].iloc[:,[0,1,2,3,4,5,6]].set_index([\"DateTime\"])\n"
     ]
    }
   ],
   "source": [
    "# Loop for creating hour functions\n",
    "for i in range(24):\n",
    "    print('hour_'+str(i)+' = db[db[\"Hour\"] == '+str(i)+']'+'.iloc[:,[0,1,2,3,4,5,6]].set_index([\"DateTime\"])')"
   ]
  },
  {
   "cell_type": "code",
   "execution_count": 33,
   "metadata": {},
   "outputs": [],
   "source": [
    "# Creating hour features\n",
    "hour_0 = db[db[\"Hour\"] == 0].iloc[:,[0,1,2,3,4,5,6]].set_index([\"DateTime\"])\n",
    "hour_1 = db[db[\"Hour\"] == 1].iloc[:,[0,1,2,3,4,5,6]].set_index([\"DateTime\"])\n",
    "hour_2 = db[db[\"Hour\"] == 2].iloc[:,[0,1,2,3,4,5,6]].set_index([\"DateTime\"])\n",
    "hour_3 = db[db[\"Hour\"] == 3].iloc[:,[0,1,2,3,4,5,6]].set_index([\"DateTime\"])\n",
    "hour_4 = db[db[\"Hour\"] == 4].iloc[:,[0,1,2,3,4,5,6]].set_index([\"DateTime\"])\n",
    "hour_5 = db[db[\"Hour\"] == 5].iloc[:,[0,1,2,3,4,5,6]].set_index([\"DateTime\"])\n",
    "hour_6 = db[db[\"Hour\"] == 6].iloc[:,[0,1,2,3,4,5,6]].set_index([\"DateTime\"])\n",
    "hour_7 = db[db[\"Hour\"] == 7].iloc[:,[0,1,2,3,4,5,6]].set_index([\"DateTime\"])\n",
    "hour_8 = db[db[\"Hour\"] == 8].iloc[:,[0,1,2,3,4,5,6]].set_index([\"DateTime\"])\n",
    "hour_9 = db[db[\"Hour\"] == 9].iloc[:,[0,1,2,3,4,5,6]].set_index([\"DateTime\"])\n",
    "hour_10 = db[db[\"Hour\"] == 10].iloc[:,[0,1,2,3,4,5,6]].set_index([\"DateTime\"])\n",
    "hour_11 = db[db[\"Hour\"] == 11].iloc[:,[0,1,2,3,4,5,6]].set_index([\"DateTime\"])\n",
    "hour_12 = db[db[\"Hour\"] == 12].iloc[:,[0,1,2,3,4,5,6]].set_index([\"DateTime\"])\n",
    "hour_13 = db[db[\"Hour\"] == 13].iloc[:,[0,1,2,3,4,5,6]].set_index([\"DateTime\"])\n",
    "hour_14 = db[db[\"Hour\"] == 14].iloc[:,[0,1,2,3,4,5,6]].set_index([\"DateTime\"])\n",
    "hour_15 = db[db[\"Hour\"] == 15].iloc[:,[0,1,2,3,4,5,6]].set_index([\"DateTime\"])\n",
    "hour_16 = db[db[\"Hour\"] == 16].iloc[:,[0,1,2,3,4,5,6]].set_index([\"DateTime\"])\n",
    "hour_17 = db[db[\"Hour\"] == 17].iloc[:,[0,1,2,3,4,5,6]].set_index([\"DateTime\"])\n",
    "hour_18 = db[db[\"Hour\"] == 18].iloc[:,[0,1,2,3,4,5,6]].set_index([\"DateTime\"])\n",
    "hour_19 = db[db[\"Hour\"] == 19].iloc[:,[0,1,2,3,4,5,6]].set_index([\"DateTime\"])\n",
    "hour_20 = db[db[\"Hour\"] == 20].iloc[:,[0,1,2,3,4,5,6]].set_index([\"DateTime\"])\n",
    "hour_21 = db[db[\"Hour\"] == 21].iloc[:,[0,1,2,3,4,5,6]].set_index([\"DateTime\"])\n",
    "hour_22 = db[db[\"Hour\"] == 22].iloc[:,[0,1,2,3,4,5,6]].set_index([\"DateTime\"])\n",
    "hour_23 = db[db[\"Hour\"] == 23].iloc[:,[0,1,2,3,4,5,6]].set_index([\"DateTime\"])"
   ]
  },
  {
   "cell_type": "code",
   "execution_count": 34,
   "metadata": {},
   "outputs": [
    {
     "data": {
      "text/html": [
       "<div>\n",
       "<style scoped>\n",
       "    .dataframe tbody tr th:only-of-type {\n",
       "        vertical-align: middle;\n",
       "    }\n",
       "\n",
       "    .dataframe tbody tr th {\n",
       "        vertical-align: top;\n",
       "    }\n",
       "\n",
       "    .dataframe thead th {\n",
       "        text-align: right;\n",
       "    }\n",
       "</style>\n",
       "<table border=\"1\" class=\"dataframe\">\n",
       "  <thead>\n",
       "    <tr style=\"text-align: right;\">\n",
       "      <th></th>\n",
       "      <th>Year</th>\n",
       "      <th>Month</th>\n",
       "      <th>Day</th>\n",
       "      <th>Hour</th>\n",
       "      <th>Day_of_Week</th>\n",
       "      <th>Prices</th>\n",
       "    </tr>\n",
       "    <tr>\n",
       "      <th>DateTime</th>\n",
       "      <th></th>\n",
       "      <th></th>\n",
       "      <th></th>\n",
       "      <th></th>\n",
       "      <th></th>\n",
       "      <th></th>\n",
       "    </tr>\n",
       "  </thead>\n",
       "  <tbody>\n",
       "    <tr>\n",
       "      <th>2014-01-01 14:00:00</th>\n",
       "      <td>2014</td>\n",
       "      <td>1</td>\n",
       "      <td>1</td>\n",
       "      <td>14</td>\n",
       "      <td>2</td>\n",
       "      <td>16.96</td>\n",
       "    </tr>\n",
       "    <tr>\n",
       "      <th>2014-01-02 14:00:00</th>\n",
       "      <td>2014</td>\n",
       "      <td>1</td>\n",
       "      <td>2</td>\n",
       "      <td>14</td>\n",
       "      <td>3</td>\n",
       "      <td>36.24</td>\n",
       "    </tr>\n",
       "    <tr>\n",
       "      <th>2014-01-03 14:00:00</th>\n",
       "      <td>2014</td>\n",
       "      <td>1</td>\n",
       "      <td>3</td>\n",
       "      <td>14</td>\n",
       "      <td>4</td>\n",
       "      <td>30.46</td>\n",
       "    </tr>\n",
       "    <tr>\n",
       "      <th>2014-01-04 14:00:00</th>\n",
       "      <td>2014</td>\n",
       "      <td>1</td>\n",
       "      <td>4</td>\n",
       "      <td>14</td>\n",
       "      <td>5</td>\n",
       "      <td>36.38</td>\n",
       "    </tr>\n",
       "    <tr>\n",
       "      <th>2014-01-05 14:00:00</th>\n",
       "      <td>2014</td>\n",
       "      <td>1</td>\n",
       "      <td>5</td>\n",
       "      <td>14</td>\n",
       "      <td>6</td>\n",
       "      <td>28.41</td>\n",
       "    </tr>\n",
       "  </tbody>\n",
       "</table>\n",
       "</div>"
      ],
      "text/plain": [
       "                     Year  Month  Day  Hour  Day_of_Week  Prices\n",
       "DateTime                                                        \n",
       "2014-01-01 14:00:00  2014      1    1    14            2   16.96\n",
       "2014-01-02 14:00:00  2014      1    2    14            3   36.24\n",
       "2014-01-03 14:00:00  2014      1    3    14            4   30.46\n",
       "2014-01-04 14:00:00  2014      1    4    14            5   36.38\n",
       "2014-01-05 14:00:00  2014      1    5    14            6   28.41"
      ]
     },
     "execution_count": 34,
     "metadata": {},
     "output_type": "execute_result"
    }
   ],
   "source": [
    "hour_14.head()"
   ]
  },
  {
   "cell_type": "code",
   "execution_count": 35,
   "metadata": {},
   "outputs": [
    {
     "name": "stdout",
     "output_type": "stream",
     "text": [
      "Day_of_Week_0 = db[db[\"Day_of_Week\"] == 0].iloc[:,[1,2,3,5,22,23]]\n",
      "Day_of_Week_1 = db[db[\"Day_of_Week\"] == 1].iloc[:,[1,2,3,5,22,23]]\n",
      "Day_of_Week_2 = db[db[\"Day_of_Week\"] == 2].iloc[:,[1,2,3,5,22,23]]\n",
      "Day_of_Week_3 = db[db[\"Day_of_Week\"] == 3].iloc[:,[1,2,3,5,22,23]]\n",
      "Day_of_Week_4 = db[db[\"Day_of_Week\"] == 4].iloc[:,[1,2,3,5,22,23]]\n",
      "Day_of_Week_5 = db[db[\"Day_of_Week\"] == 5].iloc[:,[1,2,3,5,22,23]]\n",
      "Day_of_Week_6 = db[db[\"Day_of_Week\"] == 6].iloc[:,[1,2,3,5,22,23]]\n"
     ]
    }
   ],
   "source": [
    "# Loop for creating hour functions\n",
    "for i in range(0,7):\n",
    "    print('Day_of_Week_'+str(i)+' = db[db[\"Day_of_Week\"] == '+str(i)+']'+'.iloc[:,[1,2,3,5,22,23]]')"
   ]
  },
  {
   "cell_type": "code",
   "execution_count": 36,
   "metadata": {},
   "outputs": [],
   "source": [
    "# Creating day feature\n",
    "Day_of_Week_0 = db[db[\"Day_of_Week\"] == 0].iloc[:,[1,2,3,5,22,23]]\n",
    "Day_of_Week_1 = db[db[\"Day_of_Week\"] == 1].iloc[:,[1,2,3,5,22,23]]\n",
    "Day_of_Week_2 = db[db[\"Day_of_Week\"] == 2].iloc[:,[1,2,3,5,22,23]]\n",
    "Day_of_Week_3 = db[db[\"Day_of_Week\"] == 3].iloc[:,[1,2,3,5,22,23]]\n",
    "Day_of_Week_4 = db[db[\"Day_of_Week\"] == 4].iloc[:,[1,2,3,5,22,23]]\n",
    "Day_of_Week_5 = db[db[\"Day_of_Week\"] == 5].iloc[:,[1,2,3,5,22,23]]\n",
    "Day_of_Week_6 = db[db[\"Day_of_Week\"] == 6].iloc[:,[1,2,3,5,22,23]]"
   ]
  },
  {
   "cell_type": "markdown",
   "metadata": {},
   "source": [
    "## 4) Building Models: "
   ]
  },
  {
   "cell_type": "markdown",
   "metadata": {},
   "source": [
    "***a) Linear Regression Price vs Volume by Hour-Day:***"
   ]
  },
  {
   "cell_type": "code",
   "execution_count": 41,
   "metadata": {},
   "outputs": [],
   "source": [
    "# Modeling Price vs Hour\n",
    "y = db.iloc[:,[7]].values\n",
    "X = db.iloc[:,[6]].values\n",
    "\n",
    "scaler = StandardScaler()\n",
    "X_scaled = scaler.fit_transform(X)\n",
    "y_scaled = scaler.fit_transform(y)\n",
    "\n",
    "X_train, X_test, y_train, y_test = train_test_split(X_scaled, y_scaled, test_size=0.3, random_state=15)"
   ]
  },
  {
   "cell_type": "code",
   "execution_count": 42,
   "metadata": {},
   "outputs": [
    {
     "data": {
      "text/html": [
       "<table class=\"simpletable\">\n",
       "<caption>OLS Regression Results</caption>\n",
       "<tr>\n",
       "  <th>Dep. Variable:</th>            <td>y</td>        <th>  R-squared (uncentered):</th>      <td>   0.090</td> \n",
       "</tr>\n",
       "<tr>\n",
       "  <th>Model:</th>                   <td>OLS</td>       <th>  Adj. R-squared (uncentered):</th> <td>   0.090</td> \n",
       "</tr>\n",
       "<tr>\n",
       "  <th>Method:</th>             <td>Least Squares</td>  <th>  F-statistic:       </th>          <td>   3183.</td> \n",
       "</tr>\n",
       "<tr>\n",
       "  <th>Date:</th>             <td>Mon, 16 Dec 2019</td> <th>  Prob (F-statistic):</th>           <td>  0.00</td>  \n",
       "</tr>\n",
       "<tr>\n",
       "  <th>Time:</th>                 <td>15:19:32</td>     <th>  Log-Likelihood:    </th>          <td> -44136.</td> \n",
       "</tr>\n",
       "<tr>\n",
       "  <th>No. Observations:</th>      <td> 32323</td>      <th>  AIC:               </th>          <td>8.827e+04</td>\n",
       "</tr>\n",
       "<tr>\n",
       "  <th>Df Residuals:</th>          <td> 32322</td>      <th>  BIC:               </th>          <td>8.828e+04</td>\n",
       "</tr>\n",
       "<tr>\n",
       "  <th>Df Model:</th>              <td>     1</td>      <th>                     </th>              <td> </td>    \n",
       "</tr>\n",
       "<tr>\n",
       "  <th>Covariance Type:</th>      <td>nonrobust</td>    <th>                     </th>              <td> </td>    \n",
       "</tr>\n",
       "</table>\n",
       "<table class=\"simpletable\">\n",
       "<tr>\n",
       "   <td></td>     <th>coef</th>     <th>std err</th>      <th>t</th>      <th>P>|t|</th>  <th>[0.025</th>    <th>0.975]</th>  \n",
       "</tr>\n",
       "<tr>\n",
       "  <th>x1</th> <td>   -0.2995</td> <td>    0.005</td> <td>  -56.419</td> <td> 0.000</td> <td>   -0.310</td> <td>   -0.289</td>\n",
       "</tr>\n",
       "</table>\n",
       "<table class=\"simpletable\">\n",
       "<tr>\n",
       "  <th>Omnibus:</th>       <td>1105.386</td> <th>  Durbin-Watson:     </th> <td>   2.015</td> \n",
       "</tr>\n",
       "<tr>\n",
       "  <th>Prob(Omnibus):</th>  <td> 0.000</td>  <th>  Jarque-Bera (JB):  </th> <td>1178.413</td> \n",
       "</tr>\n",
       "<tr>\n",
       "  <th>Skew:</th>           <td> 0.452</td>  <th>  Prob(JB):          </th> <td>1.29e-256</td>\n",
       "</tr>\n",
       "<tr>\n",
       "  <th>Kurtosis:</th>       <td> 2.758</td>  <th>  Cond. No.          </th> <td>    1.00</td> \n",
       "</tr>\n",
       "</table><br/><br/>Warnings:<br/>[1] Standard Errors assume that the covariance matrix of the errors is correctly specified."
      ],
      "text/plain": [
       "<class 'statsmodels.iolib.summary.Summary'>\n",
       "\"\"\"\n",
       "                                 OLS Regression Results                                \n",
       "=======================================================================================\n",
       "Dep. Variable:                      y   R-squared (uncentered):                   0.090\n",
       "Model:                            OLS   Adj. R-squared (uncentered):              0.090\n",
       "Method:                 Least Squares   F-statistic:                              3183.\n",
       "Date:                Mon, 16 Dec 2019   Prob (F-statistic):                        0.00\n",
       "Time:                        15:19:32   Log-Likelihood:                         -44136.\n",
       "No. Observations:               32323   AIC:                                  8.827e+04\n",
       "Df Residuals:                   32322   BIC:                                  8.828e+04\n",
       "Df Model:                           1                                                  \n",
       "Covariance Type:            nonrobust                                                  \n",
       "==============================================================================\n",
       "                 coef    std err          t      P>|t|      [0.025      0.975]\n",
       "------------------------------------------------------------------------------\n",
       "x1            -0.2995      0.005    -56.419      0.000      -0.310      -0.289\n",
       "==============================================================================\n",
       "Omnibus:                     1105.386   Durbin-Watson:                   2.015\n",
       "Prob(Omnibus):                  0.000   Jarque-Bera (JB):             1178.413\n",
       "Skew:                           0.452   Prob(JB):                    1.29e-256\n",
       "Kurtosis:                       2.758   Cond. No.                         1.00\n",
       "==============================================================================\n",
       "\n",
       "Warnings:\n",
       "[1] Standard Errors assume that the covariance matrix of the errors is correctly specified.\n",
       "\"\"\""
      ]
     },
     "execution_count": 42,
     "metadata": {},
     "output_type": "execute_result"
    }
   ],
   "source": [
    "# There is a strong relationship Price-Volume. However, Volume is not solely explained by Prices. \n",
    "OLS(y_train,X_train).fit().summary()"
   ]
  },
  {
   "cell_type": "code",
   "execution_count": 44,
   "metadata": {},
   "outputs": [
    {
     "data": {
      "text/plain": [
       "array([ 0.14802046, -0.40553862,  0.74504693, ..., -0.10145264,\n",
       "       -0.50473343, -0.0901214 ])"
      ]
     },
     "execution_count": 44,
     "metadata": {},
     "output_type": "execute_result"
    }
   ],
   "source": [
    "model = OLS(y_train,X_train).fit()\n",
    "model.predict()"
   ]
  },
  {
   "cell_type": "markdown",
   "metadata": {},
   "source": [
    "***b) ARIMAS:***"
   ]
  },
  {
   "cell_type": "markdown",
   "metadata": {},
   "source": [
    "***Snapshot of the Average Price Performance***"
   ]
  },
  {
   "cell_type": "code",
   "execution_count": 150,
   "metadata": {},
   "outputs": [],
   "source": [
    "# Creating databases for graphs\n",
    "db_series_prices = db.iloc[:,[0,6]]\n",
    "db_series_volume = db.iloc[:,[0,7]]"
   ]
  },
  {
   "cell_type": "code",
   "execution_count": 151,
   "metadata": {},
   "outputs": [],
   "source": [
    "# Creating databases for graphs\n",
    "db_series_prices = db_series_prices.set_index(['DateTime'])\n",
    "db_series_volume = db_series_volume.set_index(['DateTime'])"
   ]
  },
  {
   "cell_type": "code",
   "execution_count": 49,
   "metadata": {},
   "outputs": [
    {
     "data": {
      "text/plain": [
       "<matplotlib.axes._subplots.AxesSubplot at 0x1c08a6a59b0>"
      ]
     },
     "execution_count": 49,
     "metadata": {},
     "output_type": "execute_result"
    },
    {
     "data": {
      "image/png": "[encoded data removed]",
      "text/plain": [
       "<Figure size 432x288 with 1 Axes>"
      ]
     },
     "metadata": {
      "needs_background": "light"
     },
     "output_type": "display_data"
    },
    {
     "data": {
      "image/png": "[encoded data removed]",
      "text/plain": [
       "<Figure size 432x288 with 1 Axes>"
      ]
     },
     "metadata": {
      "needs_background": "light"
     },
     "output_type": "display_data"
    }
   ],
   "source": [
    "# Graphing historical data\n",
    "db_series_prices.plot()\n",
    "db_series_volume.plot()"
   ]
  },
  {
   "cell_type": "code",
   "execution_count": 50,
   "metadata": {},
   "outputs": [
    {
     "data": {
      "image/png": "[encoded data removed]",
      "text/plain": [
       "<Figure size 432x288 with 1 Axes>"
      ]
     },
     "metadata": {
      "needs_background": "light"
     },
     "output_type": "display_data"
    }
   ],
   "source": [
    "# Past errors are affecting future prices\n",
    "autocorrelation_plot(db_series_prices)\n",
    "plt.show()"
   ]
  },
  {
   "cell_type": "code",
   "execution_count": 75,
   "metadata": {},
   "outputs": [
    {
     "data": {
      "image/png": "[encoded data removed]",
      "text/plain": [
       "<Figure size 432x288 with 1 Axes>"
      ]
     },
     "metadata": {},
     "output_type": "display_data"
    }
   ],
   "source": [
    "# Past errors are affecting future volume\n",
    "autocorrelation_plot(db_series_volume)\n",
    "plt.show()"
   ]
  },
  {
   "cell_type": "code",
   "execution_count": 51,
   "metadata": {},
   "outputs": [
    {
     "name": "stdout",
     "output_type": "stream",
     "text": [
      "ADF Statistic: -15.832927\n",
      "p-value: 0.000000\n"
     ]
    }
   ],
   "source": [
    "# The time series is stacionary\n",
    "result = adfuller(db_series_prices.Prices.dropna())\n",
    "print('ADF Statistic: %f' % result[0])\n",
    "print('p-value: %f' % result[1])"
   ]
  },
  {
   "cell_type": "code",
   "execution_count": 71,
   "metadata": {},
   "outputs": [
    {
     "name": "stdout",
     "output_type": "stream",
     "text": [
      "ADF Statistic: -15.640162\n",
      "p-value: 0.000000\n"
     ]
    }
   ],
   "source": [
    "# The time series is stacionary\n",
    "result = adfuller(db_series_volume.Volume.dropna())\n",
    "print('ADF Statistic: %f' % result[0])\n",
    "print('p-value: %f' % result[1])"
   ]
  },
  {
   "cell_type": "code",
   "execution_count": 52,
   "metadata": {},
   "outputs": [
    {
     "name": "stderr",
     "output_type": "stream",
     "text": [
      "C:\\ProgramData\\Anaconda3\\lib\\site-packages\\statsmodels\\tsa\\base\\tsa_model.py:219: ValueWarning: A date index has been provided, but it has no associated frequency information and so will be ignored when e.g. forecasting.\n",
      "  ' ignored when e.g. forecasting.', ValueWarning)\n",
      "C:\\ProgramData\\Anaconda3\\lib\\site-packages\\statsmodels\\tsa\\base\\tsa_model.py:219: ValueWarning: A date index has been provided, but it has no associated frequency information and so will be ignored when e.g. forecasting.\n",
      "  ' ignored when e.g. forecasting.', ValueWarning)\n"
     ]
    },
    {
     "name": "stdout",
     "output_type": "stream",
     "text": [
      "                             ARIMA Model Results                              \n",
      "==============================================================================\n",
      "Dep. Variable:               D.Prices   No. Observations:                46175\n",
      "Model:                 ARIMA(1, 1, 1)   Log Likelihood             -138484.649\n",
      "Method:                       css-mle   S.D. of innovations              4.856\n",
      "Date:                Mon, 16 Dec 2019   AIC                         276977.298\n",
      "Time:                        15:21:44   BIC                         277012.259\n",
      "Sample:                             1   HQIC                        276988.290\n",
      "                                                                              \n",
      "==================================================================================\n",
      "                     coef    std err          z      P>|z|      [0.025      0.975]\n",
      "----------------------------------------------------------------------------------\n",
      "const           5.458e-05      0.036      0.002      0.999      -0.071       0.071\n",
      "ar.L1.D.Prices     0.3515      0.009     38.818      0.000       0.334       0.369\n",
      "ma.L1.D.Prices     0.0389      0.009      4.235      0.000       0.021       0.057\n",
      "                                    Roots                                    \n",
      "=============================================================================\n",
      "                  Real          Imaginary           Modulus         Frequency\n",
      "-----------------------------------------------------------------------------\n",
      "AR.1            2.8454           +0.0000j            2.8454            0.0000\n",
      "MA.1          -25.7286           +0.0000j           25.7286            0.5000\n",
      "-----------------------------------------------------------------------------\n"
     ]
    }
   ],
   "source": [
    "# 1,1,1 ARIMA Model\n",
    "model = ARIMA(db_series_prices.Prices, order=(1,1,1))\n",
    "model_fit = model.fit()\n",
    "print(model_fit.summary())"
   ]
  },
  {
   "cell_type": "code",
   "execution_count": 72,
   "metadata": {},
   "outputs": [
    {
     "name": "stdout",
     "output_type": "stream",
     "text": [
      "                             ARIMA Model Results                              \n",
      "==============================================================================\n",
      "Dep. Variable:               D.Volume   No. Observations:                46175\n",
      "Model:                 ARIMA(1, 1, 1)   Log Likelihood             -397912.812\n",
      "Method:                       css-mle   S.D. of innovations           1337.493\n",
      "Date:                Tue, 17 Dec 2019   AIC                         795833.624\n",
      "Time:                        08:30:33   BIC                         795868.584\n",
      "Sample:                             1   HQIC                        795844.616\n",
      "                                                                              \n",
      "==================================================================================\n",
      "                     coef    std err          z      P>|z|      [0.025      0.975]\n",
      "----------------------------------------------------------------------------------\n",
      "const              0.0802     14.530      0.006      0.996     -28.399      28.559\n",
      "ar.L1.D.Volume     0.6053      0.006     99.615      0.000       0.593       0.617\n",
      "ma.L1.D.Volume    -0.0787      0.007    -10.863      0.000      -0.093      -0.064\n",
      "                                    Roots                                    \n",
      "=============================================================================\n",
      "                  Real          Imaginary           Modulus         Frequency\n",
      "-----------------------------------------------------------------------------\n",
      "AR.1            1.6519           +0.0000j            1.6519            0.0000\n",
      "MA.1           12.7122           +0.0000j           12.7122            0.0000\n",
      "-----------------------------------------------------------------------------\n"
     ]
    }
   ],
   "source": [
    "# 1,1,1 ARIMA Model\n",
    "model2 = ARIMA(db_series_volume.Volume, order=(1,1,1))\n",
    "model_fit2 = model2.fit()\n",
    "print(model_fit2.summary())"
   ]
  },
  {
   "cell_type": "code",
   "execution_count": 203,
   "metadata": {},
   "outputs": [
    {
     "data": {
      "text/plain": [
       "DateTime\n",
       "2018-12-31 19:00:00    606.763621\n",
       "2018-12-31 20:00:00     12.790545\n",
       "2018-12-31 21:00:00   -567.885241\n",
       "2018-12-31 22:00:00    165.874598\n",
       "dtype: float64"
      ]
     },
     "execution_count": 203,
     "metadata": {},
     "output_type": "execute_result"
    }
   ],
   "source": [
    "# results = mod.fit()\n",
    "forecast_price = model_fit.predict()\n",
    "forecast_price.iloc[-5:-1]"
   ]
  },
  {
   "cell_type": "code",
   "execution_count": 202,
   "metadata": {},
   "outputs": [
    {
     "data": {
      "text/plain": [
       "DateTime\n",
       "2018-12-31 19:00:00    279.132234\n",
       "2018-12-31 20:00:00     -5.865310\n",
       "2018-12-31 21:00:00   -275.026065\n",
       "2018-12-31 22:00:00     90.946787\n",
       "dtype: float64"
      ]
     },
     "execution_count": 202,
     "metadata": {},
     "output_type": "execute_result"
    }
   ],
   "source": [
    "# results = mod.fit()\n",
    "forecast_volume = model_fit2.predict()\n",
    "forecast_volume.iloc[-5:-1]"
   ]
  },
  {
   "cell_type": "markdown",
   "metadata": {},
   "source": [
    "***Eliminating negative values and eliminating the parameter of Integrated part:***"
   ]
  },
  {
   "cell_type": "code",
   "execution_count": 153,
   "metadata": {},
   "outputs": [],
   "source": [
    "db_series_prices[db_series_prices['Prices'] < 0] = 0"
   ]
  },
  {
   "cell_type": "code",
   "execution_count": 154,
   "metadata": {},
   "outputs": [],
   "source": [
    "db_series_prices = pd.DataFrame(db_series_prices)"
   ]
  },
  {
   "cell_type": "code",
   "execution_count": 156,
   "metadata": {},
   "outputs": [],
   "source": [
    "db_series_prices[db_series_volume['Volume'] < 0] = 0"
   ]
  },
  {
   "cell_type": "code",
   "execution_count": 157,
   "metadata": {},
   "outputs": [],
   "source": [
    "db_series_volume = pd.DataFrame(db_series_volume)"
   ]
  },
  {
   "cell_type": "code",
   "execution_count": 192,
   "metadata": {},
   "outputs": [
    {
     "name": "stdout",
     "output_type": "stream",
     "text": [
      "                              ARMA Model Results                              \n",
      "==============================================================================\n",
      "Dep. Variable:                 Prices   No. Observations:                46176\n",
      "Model:                    ARMA(24, 2)   Log Likelihood             -125366.979\n",
      "Method:                       css-mle   S.D. of innovations              3.654\n",
      "Date:                Tue, 17 Dec 2019   AIC                         250789.957\n",
      "Time:                        12:11:36   BIC                         251034.683\n",
      "Sample:                             0   HQIC                        250866.901\n",
      "                                                                              \n",
      "=================================================================================\n",
      "                    coef    std err          z      P>|z|      [0.025      0.975]\n",
      "---------------------------------------------------------------------------------\n",
      "const            35.3238      0.574     61.571      0.000      34.199      36.448\n",
      "ar.L1.Prices      2.0674      0.010    198.335      0.000       2.047       2.088\n",
      "ar.L2.Prices     -1.6332      0.020    -81.191      0.000      -1.673      -1.594\n",
      "ar.L3.Prices      0.5823      0.017     34.480      0.000       0.549       0.615\n",
      "ar.L4.Prices     -0.0042      0.013     -0.316      0.752      -0.031       0.022\n",
      "ar.L5.Prices     -0.0763      0.013     -5.742      0.000      -0.102      -0.050\n",
      "ar.L6.Prices      0.0490      0.013      3.684      0.000       0.023       0.075\n",
      "ar.L7.Prices     -0.0145      0.013     -1.090      0.276      -0.041       0.012\n",
      "ar.L8.Prices     -0.0145      0.013     -1.093      0.274      -0.041       0.012\n",
      "ar.L9.Prices      0.0286      0.013      2.156      0.031       0.003       0.055\n",
      "ar.L10.Prices    -0.0276      0.013     -2.075      0.038      -0.054      -0.002\n",
      "ar.L11.Prices     0.0712      0.013      5.367      0.000       0.045       0.097\n",
      "ar.L12.Prices    -0.1090      0.013     -8.215      0.000      -0.135      -0.083\n",
      "ar.L13.Prices     0.1214      0.013      9.145      0.000       0.095       0.147\n",
      "ar.L14.Prices    -0.1333      0.013    -10.034      0.000      -0.159      -0.107\n",
      "ar.L15.Prices     0.0729      0.013      5.471      0.000       0.047       0.099\n",
      "ar.L16.Prices    -0.0065      0.013     -0.491      0.624      -0.033       0.020\n",
      "ar.L17.Prices    -0.0033      0.013     -0.251      0.802      -0.029       0.023\n",
      "ar.L18.Prices    -0.0020      0.013     -0.149      0.881      -0.028       0.024\n",
      "ar.L19.Prices    -0.0200      0.013     -1.506      0.132      -0.046       0.006\n",
      "ar.L20.Prices     0.0433      0.013      3.263      0.001       0.017       0.069\n",
      "ar.L21.Prices    -0.0497      0.013     -3.743      0.000      -0.076      -0.024\n",
      "ar.L22.Prices     0.0174      0.013      1.308      0.191      -0.009       0.043\n",
      "ar.L23.Prices     0.2787      0.012     23.008      0.000       0.255       0.302\n",
      "ar.L24.Prices    -0.2505      0.006    -45.186      0.000      -0.261      -0.240\n",
      "ma.L1.Prices     -0.9509      0.010    -91.202      0.000      -0.971      -0.930\n",
      "ma.L2.Prices      0.3715      0.008     45.312      0.000       0.355       0.388\n",
      "                                    Roots                                     \n",
      "==============================================================================\n",
      "                   Real          Imaginary           Modulus         Frequency\n",
      "------------------------------------------------------------------------------\n",
      "AR.1            -1.1021           -0.1720j            1.1154           -0.4754\n",
      "AR.2            -1.1021           +0.1720j            1.1154            0.4754\n",
      "AR.3            -1.0235           -0.4371j            1.1129           -0.4358\n",
      "AR.4            -1.0235           +0.4371j            1.1129            0.4358\n",
      "AR.5            -0.8285           -0.7164j            1.0953           -0.3865\n",
      "AR.6            -0.8285           +0.7164j            1.0953            0.3865\n",
      "AR.7            -0.5989           -0.9170j            1.0953           -0.3421\n",
      "AR.8            -0.5989           +0.9170j            1.0953            0.3421\n",
      "AR.9            -0.3050           -1.0276j            1.0719           -0.2959\n",
      "AR.10           -0.3050           +1.0276j            1.0719            0.2959\n",
      "AR.11           -0.0056           -1.0649j            1.0649           -0.2508\n",
      "AR.12           -0.0056           +1.0649j            1.0649            0.2508\n",
      "AR.13            0.2736           -1.0156j            1.0518           -0.2081\n",
      "AR.14            0.2736           +1.0156j            1.0518            0.2081\n",
      "AR.15            0.5181           -0.8805j            1.0216           -0.1654\n",
      "AR.16            0.5181           +0.8805j            1.0216            0.1654\n",
      "AR.17            0.7267           -0.7155j            1.0198           -0.1238\n",
      "AR.18            0.7267           +0.7155j            1.0198            0.1238\n",
      "AR.19            0.8692           -0.5042j            1.0048           -0.0837\n",
      "AR.20            0.8692           +0.5042j            1.0048            0.0837\n",
      "AR.21            0.9826           -0.2629j            1.0172           -0.0416\n",
      "AR.22            0.9826           +0.2629j            1.0172            0.0416\n",
      "AR.23            1.0266           -0.0000j            1.0266           -0.0000\n",
      "AR.24            1.0727           -0.0000j            1.0727           -0.0000\n",
      "MA.1             1.2798           -1.0266j            1.6406           -0.1076\n",
      "MA.2             1.2798           +1.0266j            1.6406            0.1076\n",
      "------------------------------------------------------------------------------\n"
     ]
    }
   ],
   "source": [
    "# AR= 24, d = 1, MA = 2 ARIMA Model\n",
    "model3 = ARIMA(db_series_prices.Prices, order=(24,0,2))\n",
    "model_fit3 = model3.fit()\n",
    "print(model_fit3.summary())"
   ]
  },
  {
   "cell_type": "code",
   "execution_count": 194,
   "metadata": {},
   "outputs": [
    {
     "name": "stdout",
     "output_type": "stream",
     "text": [
      "                              ARMA Model Results                              \n",
      "==============================================================================\n",
      "Dep. Variable:                 Volume   No. Observations:                46176\n",
      "Model:                    ARMA(24, 2)   Log Likelihood             -388060.007\n",
      "Method:                       css-mle   S.D. of innovations           1080.182\n",
      "Date:                Tue, 17 Dec 2019   AIC                         776176.013\n",
      "Time:                        12:48:46   BIC                         776420.740\n",
      "Sample:                             0   HQIC                        776252.957\n",
      "                                                                              \n",
      "=================================================================================\n",
      "                    coef    std err          z      P>|z|      [0.025      0.975]\n",
      "---------------------------------------------------------------------------------\n",
      "const          2.774e+04    195.469    141.896      0.000    2.74e+04    2.81e+04\n",
      "ar.L1.Volume      2.1068      0.012    180.081      0.000       2.084       2.130\n",
      "ar.L2.Volume     -1.7095      0.023    -73.973      0.000      -1.755      -1.664\n",
      "ar.L3.Volume      0.6525      0.019     34.488      0.000       0.615       0.690\n",
      "ar.L4.Volume     -0.0680      0.014     -4.885      0.000      -0.095      -0.041\n",
      "ar.L5.Volume     -0.0243      0.014     -1.773      0.076      -0.051       0.003\n",
      "ar.L6.Volume      0.0051      0.014      0.373      0.709      -0.022       0.032\n",
      "ar.L7.Volume     -0.0020      0.014     -0.143      0.886      -0.029       0.025\n",
      "ar.L8.Volume     -0.0061      0.014     -0.444      0.657      -0.033       0.021\n",
      "ar.L9.Volume      0.0339      0.014      2.475      0.013       0.007       0.061\n",
      "ar.L10.Volume    -0.0539      0.014     -3.936      0.000      -0.081      -0.027\n",
      "ar.L11.Volume     0.1164      0.014      8.533      0.000       0.090       0.143\n",
      "ar.L12.Volume    -0.2733      0.014    -20.217      0.000      -0.300      -0.247\n",
      "ar.L13.Volume     0.3789      0.014     27.689      0.000       0.352       0.406\n",
      "ar.L14.Volume    -0.3121      0.014    -22.274      0.000      -0.340      -0.285\n",
      "ar.L15.Volume     0.1557      0.014     11.212      0.000       0.128       0.183\n",
      "ar.L16.Volume    -0.0650      0.014     -4.732      0.000      -0.092      -0.038\n",
      "ar.L17.Volume     0.0489      0.014      3.565      0.000       0.022       0.076\n",
      "ar.L18.Volume    -0.0490      0.014     -3.567      0.000      -0.076      -0.022\n",
      "ar.L19.Volume     0.0285      0.014      2.078      0.038       0.002       0.055\n",
      "ar.L20.Volume     0.0166      0.014      1.206      0.228      -0.010       0.043\n",
      "ar.L21.Volume    -0.0167      0.014     -1.215      0.225      -0.044       0.010\n",
      "ar.L22.Volume    -0.0018      0.014     -0.131      0.896      -0.029       0.025\n",
      "ar.L23.Volume     0.2406      0.012     19.500      0.000       0.216       0.265\n",
      "ar.L24.Volume    -0.2145      0.006    -37.708      0.000      -0.226      -0.203\n",
      "ma.L1.Volume     -0.9248      0.012    -79.868      0.000      -0.948      -0.902\n",
      "ma.L2.Volume      0.3988      0.010     40.342      0.000       0.379       0.418\n",
      "                                    Roots                                     \n",
      "==============================================================================\n",
      "                   Real          Imaginary           Modulus         Frequency\n",
      "------------------------------------------------------------------------------\n",
      "AR.1            -1.0878           -0.2074j            1.1074           -0.4700\n",
      "AR.2            -1.0878           +0.2074j            1.1074            0.4700\n",
      "AR.3            -1.0529           -0.4365j            1.1398           -0.4374\n",
      "AR.4            -1.0529           +0.4365j            1.1398            0.4374\n",
      "AR.5            -0.8182           -0.7308j            1.0970           -0.3840\n",
      "AR.6            -0.8182           +0.7308j            1.0970            0.3840\n",
      "AR.7            -0.6173           -0.9256j            1.1126           -0.3436\n",
      "AR.8            -0.6173           +0.9256j            1.1126            0.3436\n",
      "AR.9            -0.2966           -1.0293j            1.0712           -0.2947\n",
      "AR.10           -0.2966           +1.0293j            1.0712            0.2947\n",
      "AR.11           -0.0061           -1.0861j            1.0861           -0.2509\n",
      "AR.12           -0.0061           +1.0861j            1.0861            0.2509\n",
      "AR.13            0.2780           -1.0129j            1.0503           -0.2074\n",
      "AR.14            0.2780           +1.0129j            1.0503            0.2074\n",
      "AR.15            0.5264           -0.8980j            1.0409           -0.1656\n",
      "AR.16            0.5264           +0.8980j            1.0409            0.1656\n",
      "AR.17            0.7254           -0.7174j            1.0202           -0.1241\n",
      "AR.18            0.7254           +0.7174j            1.0202            0.1241\n",
      "AR.19            0.8720           -0.5057j            1.0080           -0.0836\n",
      "AR.20            0.8720           +0.5057j            1.0080            0.0836\n",
      "AR.21            0.9711           -0.2603j            1.0053           -0.0417\n",
      "AR.22            0.9711           +0.2603j            1.0053            0.0417\n",
      "AR.23            1.0180           -0.0000j            1.0180           -0.0000\n",
      "AR.24            1.1155           -0.0000j            1.1155           -0.0000\n",
      "MA.1             1.1595           -1.0785j            1.5835           -0.1192\n",
      "MA.2             1.1595           +1.0785j            1.5835            0.1192\n",
      "------------------------------------------------------------------------------\n"
     ]
    }
   ],
   "source": [
    "# 1,1,1 ARIMA Model\n",
    "model4 = ARIMA(db_series_volume.Volume, order=(24,0,2))\n",
    "model_fit4 = model4.fit()\n",
    "print(model_fit4.summary())"
   ]
  },
  {
   "cell_type": "code",
   "execution_count": 193,
   "metadata": {},
   "outputs": [
    {
     "data": {
      "text/plain": [
       "DateTime\n",
       "2018-12-31 19:00:00    67.035963\n",
       "2018-12-31 20:00:00    54.546952\n",
       "2018-12-31 21:00:00    46.760507\n",
       "2018-12-31 22:00:00    43.686335\n",
       "dtype: float64"
      ]
     },
     "execution_count": 193,
     "metadata": {},
     "output_type": "execute_result"
    }
   ],
   "source": [
    "# results = mod.fit()\n",
    "forecast_prices2 = model_fit3.predict()\n",
    "forecast_prices2.iloc[-5:-1]"
   ]
  },
  {
   "cell_type": "code",
   "execution_count": 195,
   "metadata": {},
   "outputs": [
    {
     "data": {
      "text/plain": [
       "DateTime\n",
       "2018-12-31 19:00:00    28032.659803\n",
       "2018-12-31 20:00:00    26529.659819\n",
       "2018-12-31 21:00:00    25788.059496\n",
       "2018-12-31 22:00:00    26176.217481\n",
       "dtype: float64"
      ]
     },
     "execution_count": 195,
     "metadata": {},
     "output_type": "execute_result"
    }
   ],
   "source": [
    "# results = mod.fit()\n",
    "forecast_volume2 = model_fit4.predict()\n",
    "forecast_volume2.iloc[-5:-1]"
   ]
  },
  {
   "cell_type": "code",
   "execution_count": 260,
   "metadata": {},
   "outputs": [
    {
     "data": {
      "image/png": "[encoded data removed]",
      "text/plain": [
       "<Figure size 432x288 with 1 Axes>"
      ]
     },
     "metadata": {},
     "output_type": "display_data"
    }
   ],
   "source": [
    "db_series_prices['2018-11-30':].plot()\n",
    "forecast_prices2.iloc[-30:-1].plot()\n",
    "plt.title('Price ARMA Model - 24,2')\n",
    "plt.legend(['Real Prices','Predicted Prices'])\n",
    "plt.show()"
   ]
  },
  {
   "cell_type": "code",
   "execution_count": 261,
   "metadata": {},
   "outputs": [
    {
     "data": {
      "image/png": "[encoded data removed]",
      "text/plain": [
       "<Figure size 432x288 with 1 Axes>"
      ]
     },
     "metadata": {},
     "output_type": "display_data"
    }
   ],
   "source": [
    "db_series_volume['2018-11-30':].plot()\n",
    "forecast_volume2.iloc[-30:-1].plot()\n",
    "plt.title('Volume ARMA Model - 24,2')\n",
    "plt.legend(['Real Volume','Predicted Volume'])\n",
    "plt.show()"
   ]
  },
  {
   "cell_type": "code",
   "execution_count": 251,
   "metadata": {},
   "outputs": [
    {
     "name": "stdout",
     "output_type": "stream",
     "text": [
      "MAE: 794.619878\n"
     ]
    }
   ],
   "source": [
    "# MAE - Prices Model\n",
    "mae_p = mean_absolute_error(db_series_prices, forecast_prices2)\n",
    "print('MAE: %f' % mae)"
   ]
  },
  {
   "cell_type": "code",
   "execution_count": 255,
   "metadata": {},
   "outputs": [
    {
     "name": "stdout",
     "output_type": "stream",
     "text": [
      "Price average: 35\n",
      "MAE: 2\n",
      "In average, there is a difference of 0% between the real and predict numbers.\n"
     ]
    }
   ],
   "source": [
    "# Prices Model Performance\n",
    "print('Price average: '+str(int(db_series_prices.mean())))\n",
    "print('MAE: '+str(int(mae_p))) \n",
    "print('In average, there is a difference of '+str(int(mae_p/db_series_prices.mean()))+'%'+' between the real and predict numbers.')"
   ]
  },
  {
   "cell_type": "code",
   "execution_count": 249,
   "metadata": {},
   "outputs": [
    {
     "name": "stdout",
     "output_type": "stream",
     "text": [
      "MAE: 794.619878\n"
     ]
    }
   ],
   "source": [
    "# MAE - Volume Model\n",
    "mae_v = mean_absolute_error(db_series_volume, forecast_volume2)\n",
    "print('MAE: %f' % mae)"
   ]
  },
  {
   "cell_type": "code",
   "execution_count": 254,
   "metadata": {},
   "outputs": [
    {
     "name": "stdout",
     "output_type": "stream",
     "text": [
      "Volume average: 27736\n",
      "MAE: 794\n",
      "In average, there is a difference of 0% between the real and predict numbers.\n"
     ]
    }
   ],
   "source": [
    "# Volume Model Performance\n",
    "print('Volume average: '+str(int(db_series_volume.mean())))\n",
    "print('MAE: '+str(int(mae_v))) \n",
    "print('In average, there is a difference of '+str(int(mae_v/db_series_volume.mean()))+'%'+' between the real and predict numbers.')"
   ]
  },
  {
   "cell_type": "markdown",
   "metadata": {},
   "source": [
    "***Weather Data vs Prices Regression:***"
   ]
  },
  {
   "cell_type": "code",
   "execution_count": 344,
   "metadata": {},
   "outputs": [],
   "source": [
    "db_w = pd.pivot_table(db, values = 'Prices', index = ['Year','Month'],aggfunc = ['mean'])"
   ]
  },
  {
   "cell_type": "code",
   "execution_count": 345,
   "metadata": {},
   "outputs": [],
   "source": [
    "db_w2 = db_w.reset_index()"
   ]
  },
  {
   "cell_type": "code",
   "execution_count": 346,
   "metadata": {},
   "outputs": [],
   "source": [
    "# Mean Prices by Month\n",
    "db_w2.columns = ['Year','Month','Avg Prices']"
   ]
  },
  {
   "cell_type": "code",
   "execution_count": 347,
   "metadata": {},
   "outputs": [],
   "source": [
    "# Import Weather Databases of Berlin\n",
    "berlin = pd.read_csv('C:/Users/jpolancoroque/Desktop/Financial Programing/Individual/Weather Berlin.csv', sep=',')"
   ]
  },
  {
   "cell_type": "code",
   "execution_count": 348,
   "metadata": {},
   "outputs": [],
   "source": [
    "berlin = pd.DataFrame(berlin)"
   ]
  },
  {
   "cell_type": "code",
   "execution_count": 366,
   "metadata": {},
   "outputs": [],
   "source": [
    "result = db_w2.append(berlin, sort=False)"
   ]
  },
  {
   "cell_type": "code",
   "execution_count": 372,
   "metadata": {},
   "outputs": [],
   "source": [
    "db_w2[[\"y\", \"m\", \"c\"]] = berlin"
   ]
  },
  {
   "cell_type": "code",
   "execution_count": 373,
   "metadata": {},
   "outputs": [],
   "source": [
    "db_w3 =  db_w2.drop(columns=['y','m','c'])"
   ]
  },
  {
   "cell_type": "code",
   "execution_count": 375,
   "metadata": {},
   "outputs": [
    {
     "data": {
      "text/html": [
       "<div>\n",
       "<style scoped>\n",
       "    .dataframe tbody tr th:only-of-type {\n",
       "        vertical-align: middle;\n",
       "    }\n",
       "\n",
       "    .dataframe tbody tr th {\n",
       "        vertical-align: top;\n",
       "    }\n",
       "\n",
       "    .dataframe thead th {\n",
       "        text-align: right;\n",
       "    }\n",
       "</style>\n",
       "<table border=\"1\" class=\"dataframe\">\n",
       "  <thead>\n",
       "    <tr style=\"text-align: right;\">\n",
       "      <th></th>\n",
       "      <th>Year</th>\n",
       "      <th>Month</th>\n",
       "      <th>Avg Prices</th>\n",
       "      <th>Celsius</th>\n",
       "    </tr>\n",
       "  </thead>\n",
       "  <tbody>\n",
       "    <tr>\n",
       "      <th>0</th>\n",
       "      <td>2014</td>\n",
       "      <td>1</td>\n",
       "      <td>35.874395</td>\n",
       "      <td>0.97</td>\n",
       "    </tr>\n",
       "    <tr>\n",
       "      <th>1</th>\n",
       "      <td>2014</td>\n",
       "      <td>2</td>\n",
       "      <td>33.587068</td>\n",
       "      <td>5.66</td>\n",
       "    </tr>\n",
       "    <tr>\n",
       "      <th>2</th>\n",
       "      <td>2014</td>\n",
       "      <td>3</td>\n",
       "      <td>31.051090</td>\n",
       "      <td>8.10</td>\n",
       "    </tr>\n",
       "    <tr>\n",
       "      <th>3</th>\n",
       "      <td>2014</td>\n",
       "      <td>4</td>\n",
       "      <td>31.583083</td>\n",
       "      <td>12.23</td>\n",
       "    </tr>\n",
       "    <tr>\n",
       "      <th>4</th>\n",
       "      <td>2014</td>\n",
       "      <td>5</td>\n",
       "      <td>30.625591</td>\n",
       "      <td>13.91</td>\n",
       "    </tr>\n",
       "  </tbody>\n",
       "</table>\n",
       "</div>"
      ],
      "text/plain": [
       "   Year  Month  Avg Prices  Celsius\n",
       "0  2014      1   35.874395     0.97\n",
       "1  2014      2   33.587068     5.66\n",
       "2  2014      3   31.051090     8.10\n",
       "3  2014      4   31.583083    12.23\n",
       "4  2014      5   30.625591    13.91"
      ]
     },
     "execution_count": 375,
     "metadata": {},
     "output_type": "execute_result"
    }
   ],
   "source": [
    "db_w3.head()"
   ]
  },
  {
   "cell_type": "code",
   "execution_count": 378,
   "metadata": {},
   "outputs": [],
   "source": [
    "# Modeling Price vs Hour\n",
    "y2 = db_w3.iloc[:,[2]].values\n",
    "X2 = db.iloc[:,[3]].values\n",
    "scaler2 = StandardScaler()\n",
    "X_scaled2 = scaler.fit_transform(X)\n",
    "y_scaled2 = scaler.fit_transform(y)\n",
    "\n",
    "X_train2, X_test2, y_train2, y_test2 = train_test_split(X_scaled2, y_scaled2, test_size=0.3, random_state=15)"
   ]
  },
  {
   "cell_type": "code",
   "execution_count": 379,
   "metadata": {},
   "outputs": [
    {
     "data": {
      "text/html": [
       "<table class=\"simpletable\">\n",
       "<caption>OLS Regression Results</caption>\n",
       "<tr>\n",
       "  <th>Dep. Variable:</th>            <td>y</td>        <th>  R-squared (uncentered):</th>      <td>   0.090</td> \n",
       "</tr>\n",
       "<tr>\n",
       "  <th>Model:</th>                   <td>OLS</td>       <th>  Adj. R-squared (uncentered):</th> <td>   0.090</td> \n",
       "</tr>\n",
       "<tr>\n",
       "  <th>Method:</th>             <td>Least Squares</td>  <th>  F-statistic:       </th>          <td>   3183.</td> \n",
       "</tr>\n",
       "<tr>\n",
       "  <th>Date:</th>             <td>Wed, 18 Dec 2019</td> <th>  Prob (F-statistic):</th>           <td>  0.00</td>  \n",
       "</tr>\n",
       "<tr>\n",
       "  <th>Time:</th>                 <td>16:40:00</td>     <th>  Log-Likelihood:    </th>          <td> -44136.</td> \n",
       "</tr>\n",
       "<tr>\n",
       "  <th>No. Observations:</th>      <td> 32323</td>      <th>  AIC:               </th>          <td>8.827e+04</td>\n",
       "</tr>\n",
       "<tr>\n",
       "  <th>Df Residuals:</th>          <td> 32322</td>      <th>  BIC:               </th>          <td>8.828e+04</td>\n",
       "</tr>\n",
       "<tr>\n",
       "  <th>Df Model:</th>              <td>     1</td>      <th>                     </th>              <td> </td>    \n",
       "</tr>\n",
       "<tr>\n",
       "  <th>Covariance Type:</th>      <td>nonrobust</td>    <th>                     </th>              <td> </td>    \n",
       "</tr>\n",
       "</table>\n",
       "<table class=\"simpletable\">\n",
       "<tr>\n",
       "   <td></td>     <th>coef</th>     <th>std err</th>      <th>t</th>      <th>P>|t|</th>  <th>[0.025</th>    <th>0.975]</th>  \n",
       "</tr>\n",
       "<tr>\n",
       "  <th>x1</th> <td>   -0.2995</td> <td>    0.005</td> <td>  -56.419</td> <td> 0.000</td> <td>   -0.310</td> <td>   -0.289</td>\n",
       "</tr>\n",
       "</table>\n",
       "<table class=\"simpletable\">\n",
       "<tr>\n",
       "  <th>Omnibus:</th>       <td>1105.386</td> <th>  Durbin-Watson:     </th> <td>   2.015</td> \n",
       "</tr>\n",
       "<tr>\n",
       "  <th>Prob(Omnibus):</th>  <td> 0.000</td>  <th>  Jarque-Bera (JB):  </th> <td>1178.413</td> \n",
       "</tr>\n",
       "<tr>\n",
       "  <th>Skew:</th>           <td> 0.452</td>  <th>  Prob(JB):          </th> <td>1.29e-256</td>\n",
       "</tr>\n",
       "<tr>\n",
       "  <th>Kurtosis:</th>       <td> 2.758</td>  <th>  Cond. No.          </th> <td>    1.00</td> \n",
       "</tr>\n",
       "</table><br/><br/>Warnings:<br/>[1] Standard Errors assume that the covariance matrix of the errors is correctly specified."
      ],
      "text/plain": [
       "<class 'statsmodels.iolib.summary.Summary'>\n",
       "\"\"\"\n",
       "                                 OLS Regression Results                                \n",
       "=======================================================================================\n",
       "Dep. Variable:                      y   R-squared (uncentered):                   0.090\n",
       "Model:                            OLS   Adj. R-squared (uncentered):              0.090\n",
       "Method:                 Least Squares   F-statistic:                              3183.\n",
       "Date:                Wed, 18 Dec 2019   Prob (F-statistic):                        0.00\n",
       "Time:                        16:40:00   Log-Likelihood:                         -44136.\n",
       "No. Observations:               32323   AIC:                                  8.827e+04\n",
       "Df Residuals:                   32322   BIC:                                  8.828e+04\n",
       "Df Model:                           1                                                  \n",
       "Covariance Type:            nonrobust                                                  \n",
       "==============================================================================\n",
       "                 coef    std err          t      P>|t|      [0.025      0.975]\n",
       "------------------------------------------------------------------------------\n",
       "x1            -0.2995      0.005    -56.419      0.000      -0.310      -0.289\n",
       "==============================================================================\n",
       "Omnibus:                     1105.386   Durbin-Watson:                   2.015\n",
       "Prob(Omnibus):                  0.000   Jarque-Bera (JB):             1178.413\n",
       "Skew:                           0.452   Prob(JB):                    1.29e-256\n",
       "Kurtosis:                       2.758   Cond. No.                         1.00\n",
       "==============================================================================\n",
       "\n",
       "Warnings:\n",
       "[1] Standard Errors assume that the covariance matrix of the errors is correctly specified.\n",
       "\"\"\""
      ]
     },
     "execution_count": 379,
     "metadata": {},
     "output_type": "execute_result"
    }
   ],
   "source": [
    "# There is a strong relationship Price-Weather. However, Price is not solely explained by Weather. \n",
    "OLS(y_train2,X_train2).fit().summary()"
   ]
  },
  {
   "cell_type": "code",
   "execution_count": 383,
   "metadata": {},
   "outputs": [
    {
     "data": {
      "text/plain": [
       "array([ 0.14802046, -0.40553862,  0.74504693, ..., -0.10145264,\n",
       "       -0.50473343, -0.0901214 ])"
      ]
     },
     "execution_count": 383,
     "metadata": {},
     "output_type": "execute_result"
    }
   ],
   "source": [
    "model2 = OLS(y_train2,X_train2).fit()\n",
    "model2.predict()"
   ]
  },
  {
   "cell_type": "markdown",
   "metadata": {},
   "source": [
    "## 4) Dashboard: "
   ]
  },
  {
   "cell_type": "markdown",
   "metadata": {},
   "source": [
    "***Daily Prices Graph:***"
   ]
  },
  {
   "cell_type": "code",
   "execution_count": 37,
   "metadata": {},
   "outputs": [],
   "source": [
    "#output_file('index.html')"
   ]
  },
  {
   "cell_type": "code",
   "execution_count": 37,
   "metadata": {},
   "outputs": [],
   "source": [
    "daily_price = figure(title='Day-Ahead-Auction Germnay', x_axis_label='Date',y_axis_label='Price by Hour')"
   ]
  },
  {
   "cell_type": "code",
   "execution_count": 38,
   "metadata": {},
   "outputs": [
    {
     "data": {
      "text/html": [
       "<div style=\"display: table;\"><div style=\"display: table-row;\"><div style=\"display: table-cell;\"><b title=\"bokeh.models.renderers.GlyphRenderer\">GlyphRenderer</b>(</div><div style=\"display: table-cell;\">id&nbsp;=&nbsp;'1038', <span id=\"1049\" style=\"cursor: pointer;\">&hellip;)</span></div></div><div class=\"1048\" style=\"display: none;\"><div style=\"display: table-cell;\"></div><div style=\"display: table-cell;\">data_source&nbsp;=&nbsp;ColumnDataSource(id='1035', ...),</div></div><div class=\"1048\" style=\"display: none;\"><div style=\"display: table-cell;\"></div><div style=\"display: table-cell;\">glyph&nbsp;=&nbsp;Line(id='1036', ...),</div></div><div class=\"1048\" style=\"display: none;\"><div style=\"display: table-cell;\"></div><div style=\"display: table-cell;\">hover_glyph&nbsp;=&nbsp;None,</div></div><div class=\"1048\" style=\"display: none;\"><div style=\"display: table-cell;\"></div><div style=\"display: table-cell;\">js_event_callbacks&nbsp;=&nbsp;{},</div></div><div class=\"1048\" style=\"display: none;\"><div style=\"display: table-cell;\"></div><div style=\"display: table-cell;\">js_property_callbacks&nbsp;=&nbsp;{},</div></div><div class=\"1048\" style=\"display: none;\"><div style=\"display: table-cell;\"></div><div style=\"display: table-cell;\">level&nbsp;=&nbsp;'glyph',</div></div><div class=\"1048\" style=\"display: none;\"><div style=\"display: table-cell;\"></div><div style=\"display: table-cell;\">muted&nbsp;=&nbsp;False,</div></div><div class=\"1048\" style=\"display: none;\"><div style=\"display: table-cell;\"></div><div style=\"display: table-cell;\">muted_glyph&nbsp;=&nbsp;None,</div></div><div class=\"1048\" style=\"display: none;\"><div style=\"display: table-cell;\"></div><div style=\"display: table-cell;\">name&nbsp;=&nbsp;None,</div></div><div class=\"1048\" style=\"display: none;\"><div style=\"display: table-cell;\"></div><div style=\"display: table-cell;\">nonselection_glyph&nbsp;=&nbsp;Line(id='1037', ...),</div></div><div class=\"1048\" style=\"display: none;\"><div style=\"display: table-cell;\"></div><div style=\"display: table-cell;\">selection_glyph&nbsp;=&nbsp;None,</div></div><div class=\"1048\" style=\"display: none;\"><div style=\"display: table-cell;\"></div><div style=\"display: table-cell;\">subscribed_events&nbsp;=&nbsp;[],</div></div><div class=\"1048\" style=\"display: none;\"><div style=\"display: table-cell;\"></div><div style=\"display: table-cell;\">tags&nbsp;=&nbsp;[],</div></div><div class=\"1048\" style=\"display: none;\"><div style=\"display: table-cell;\"></div><div style=\"display: table-cell;\">view&nbsp;=&nbsp;CDSView(id='1039', ...),</div></div><div class=\"1048\" style=\"display: none;\"><div style=\"display: table-cell;\"></div><div style=\"display: table-cell;\">visible&nbsp;=&nbsp;True,</div></div><div class=\"1048\" style=\"display: none;\"><div style=\"display: table-cell;\"></div><div style=\"display: table-cell;\">x_range_name&nbsp;=&nbsp;'default',</div></div><div class=\"1048\" style=\"display: none;\"><div style=\"display: table-cell;\"></div><div style=\"display: table-cell;\">y_range_name&nbsp;=&nbsp;'default')</div></div></div>\n",
       "<script>\n",
       "(function() {\n",
       "  var expanded = false;\n",
       "  var ellipsis = document.getElementById(\"1049\");\n",
       "  ellipsis.addEventListener(\"click\", function() {\n",
       "    var rows = document.getElementsByClassName(\"1048\");\n",
       "    for (var i = 0; i < rows.length; i++) {\n",
       "      var el = rows[i];\n",
       "      el.style.display = expanded ? \"none\" : \"table-row\";\n",
       "    }\n",
       "    ellipsis.innerHTML = expanded ? \"&hellip;)\" : \"&lsaquo;&lsaquo;&lsaquo;\";\n",
       "    expanded = !expanded;\n",
       "  });\n",
       "})();\n",
       "</script>\n"
      ],
      "text/plain": [
       "GlyphRenderer(id='1038', ...)"
      ]
     },
     "execution_count": 38,
     "metadata": {},
     "output_type": "execute_result"
    }
   ],
   "source": [
    "daily_price.line(db.iloc[:,0],db.iloc[:,6],legend = 'Daily Price', line_width=2)"
   ]
  },
  {
   "cell_type": "code",
   "execution_count": 39,
   "metadata": {},
   "outputs": [],
   "source": [
    "show(daily_price)"
   ]
  },
  {
   "cell_type": "markdown",
   "metadata": {},
   "source": [
    "***Prices by Day of Week:***"
   ]
  },
  {
   "cell_type": "code",
   "execution_count": 40,
   "metadata": {},
   "outputs": [],
   "source": [
    "# Group by new tables\n",
    "dawning_by_year = db.groupby('Year').agg('mean')[['Dawning']].reset_index()\n",
    "earlymorning_by_year = db.groupby('Year').agg('mean')[['Early Morning']].reset_index()\n",
    "morning_by_year = db.groupby('Year').agg('mean')[['Morning']].reset_index()\n",
    "schooltime_by_year = db.groupby('Year').agg('mean')[['School Time']].reset_index()\n",
    "afternoon_by_year = db.groupby('Year').agg('mean')[['Afternoon']].reset_index()\n",
    "businesstime_by_year = db.groupby('Year').agg('mean')[['Business Time']].reset_index()\n",
    "noon_by_year = db.groupby('Year').agg('mean')[['Noon']].reset_index()\n",
    "dayavg_by_year = db.groupby('Year').agg('mean')[['Day Avg']].reset_index()"
   ]
  },
  {
   "cell_type": "code",
   "execution_count": 41,
   "metadata": {},
   "outputs": [],
   "source": [
    "# Table preparation for Bokeh\n",
    "year = ['2014','2015','2016','2017','2018']\n",
    "daw_p = list(dawning_by_year['Dawning'])\n",
    "daw_em = list(earlymorning_by_year['Early Morning'])\n",
    "daw_m = list(morning_by_year['Morning'])\n",
    "daw_st = list(schooltime_by_year['School Time'])\n",
    "daw_a = list(afternoon_by_year['Afternoon'])\n",
    "daw_bt = list(businesstime_by_year['Business Time'])\n",
    "daw_n = list(noon_by_year['Noon'])\n",
    "daw_davg = list(dayavg_by_year['Day Avg'])"
   ]
  },
  {
   "cell_type": "code",
   "execution_count": 42,
   "metadata": {},
   "outputs": [],
   "source": [
    "output_file(\"bars.html\")"
   ]
  },
  {
   "cell_type": "code",
   "execution_count": 43,
   "metadata": {},
   "outputs": [],
   "source": [
    "# Dawning - 0 to 5\n",
    "dawning = figure(x_range=year, plot_height=250, title=\"Dawning Avg Price - 0 to 5\")\n",
    "dawning.vbar(x=year,top=daw_p,legend = 'Dawning Price', width=0.9)\n",
    "dawning.xgrid.grid_line_color = None\n",
    "dawning.y_range.start = 0\n",
    "\n",
    "show(dawning)"
   ]
  },
  {
   "cell_type": "code",
   "execution_count": 44,
   "metadata": {},
   "outputs": [],
   "source": [
    "# Early Morning - 4 to 11\n",
    "early_morning = figure(x_range=year, plot_height=250, title=\"Early Morning Price - 4 to 11\")\n",
    "early_morning.vbar(x=year,top=daw_em,legend = 'Early Morning Price', width=0.9)\n",
    "early_morning.xgrid.grid_line_color = None\n",
    "early_morning.y_range.start = 0\n",
    "\n",
    "show(early_morning)"
   ]
  },
  {
   "cell_type": "code",
   "execution_count": 45,
   "metadata": {},
   "outputs": [],
   "source": [
    "# Morning - 6 to 9\n",
    "morning = figure(x_range=year, plot_height=250, title=\"Morning Price - 6 to 9\")\n",
    "morning.vbar(x=year,top=daw_m,legend = 'Morning Price', width=0.9)\n",
    "morning.xgrid.grid_line_color = None\n",
    "morning.y_range.start = 0\n",
    "\n",
    "show(morning)"
   ]
  },
  {
   "cell_type": "code",
   "execution_count": 46,
   "metadata": {},
   "outputs": [],
   "source": [
    "# School Time - 0 to 7 and 20 to 23\n",
    "school_time = figure(x_range=year, plot_height=250, title=\"School Time - 0 to 7 and 20 to 23\")\n",
    "school_time.vbar(x=year,top=daw_m,legend = 'School Time Price', width=0.9)\n",
    "school_time.xgrid.grid_line_color = None\n",
    "school_time.y_range.start = 0\n",
    "\n",
    "show(school_time)"
   ]
  },
  {
   "cell_type": "code",
   "execution_count": 47,
   "metadata": {},
   "outputs": [],
   "source": [
    "# Afternoon - 14 to 17 \n",
    "afternoon = figure(x_range=year, plot_height=250, title=\"Afternoon - 14 to 17\")\n",
    "afternoon.vbar(x=year,top=daw_a,legend = 'Afternoon Price', width=0.9)\n",
    "afternoon.xgrid.grid_line_color = None\n",
    "afternoon.y_range.start = 0\n",
    "\n",
    "show(afternoon)"
   ]
  },
  {
   "cell_type": "code",
   "execution_count": 48,
   "metadata": {},
   "outputs": [],
   "source": [
    "# Business Time - 8 to 19 \n",
    "bt = figure(x_range=year, plot_height=250, title=\"Business Time - 8 to 19\")\n",
    "bt.vbar(x=year,top=daw_bt,legend = 'Business Time Price', width=0.9)\n",
    "bt.xgrid.grid_line_color = None\n",
    "bt.y_range.start = 0\n",
    "\n",
    "show(bt)"
   ]
  },
  {
   "cell_type": "code",
   "execution_count": 49,
   "metadata": {},
   "outputs": [],
   "source": [
    "# Noon - 10 to 1\n",
    "noon = figure(x_range=year, plot_height=250, title=\"Noon - 8 to 19\")\n",
    "noon.vbar(x=year,top=daw_n,legend = 'Noon Price', width=0.9)\n",
    "noon.xgrid.grid_line_color = None\n",
    "noon.y_range.start = 0\n",
    "\n",
    "show(noon)"
   ]
  },
  {
   "cell_type": "code",
   "execution_count": 50,
   "metadata": {},
   "outputs": [],
   "source": [
    "# Day Average\n",
    "day_avg = figure(x_range=year, plot_height=250, title=\"Day Average\")\n",
    "day_avg.vbar(x=year,top=daw_davg,legend = 'Day Average Price', width=0.9)\n",
    "day_avg.xgrid.grid_line_color = None\n",
    "day_avg.y_range.start = 0\n",
    "\n",
    "show(day_avg)"
   ]
  },
  {
   "cell_type": "code",
   "execution_count": 82,
   "metadata": {},
   "outputs": [],
   "source": [
    "# Bokeh Dashboard - Showing hour catgories performance by year\n",
    "#grid = gridplot([[dawning, early_morning], [afternoon, noon]], plot_width=250, plot_height=250)\n",
    "#show(grid)"
   ]
  },
  {
   "cell_type": "code",
   "execution_count": 61,
   "metadata": {},
   "outputs": [
    {
     "ename": "ValueError",
     "evalue": "expected an instance of type LayoutDOM, got Panel(id='2081', ...) of type Panel",
     "output_type": "error",
     "traceback": [
      "\u001b[1;31m---------------------------------------------------------------------------\u001b[0m",
      "\u001b[1;31mValueError\u001b[0m                                Traceback (most recent call last)",
      "\u001b[1;32m<ipython-input-61-647b155f3068>\u001b[0m in \u001b[0;36m<module>\u001b[1;34m\u001b[0m\n\u001b[0;32m     11\u001b[0m \u001b[0mafternoon1\u001b[0m \u001b[1;33m=\u001b[0m \u001b[0mPanel\u001b[0m\u001b[1;33m(\u001b[0m\u001b[0mchild\u001b[0m\u001b[1;33m=\u001b[0m\u001b[0mafternoon\u001b[0m\u001b[1;33m,\u001b[0m \u001b[0mtitle\u001b[0m\u001b[1;33m=\u001b[0m\u001b[1;34m'Afternoon'\u001b[0m\u001b[1;33m)\u001b[0m\u001b[1;33m\u001b[0m\u001b[1;33m\u001b[0m\u001b[0m\n\u001b[0;32m     12\u001b[0m \u001b[0mbt1\u001b[0m \u001b[1;33m=\u001b[0m \u001b[0mPanel\u001b[0m\u001b[1;33m(\u001b[0m\u001b[0mchild\u001b[0m\u001b[1;33m=\u001b[0m\u001b[0mbt\u001b[0m\u001b[1;33m,\u001b[0m\u001b[0mtitle\u001b[0m\u001b[1;33m=\u001b[0m\u001b[1;34m'Business Time'\u001b[0m\u001b[1;33m)\u001b[0m\u001b[1;33m\u001b[0m\u001b[1;33m\u001b[0m\u001b[0m\n\u001b[1;32m---> 13\u001b[1;33m \u001b[0mnoon\u001b[0m \u001b[1;33m=\u001b[0m \u001b[0mPanel\u001b[0m\u001b[1;33m(\u001b[0m\u001b[0mchild\u001b[0m\u001b[1;33m=\u001b[0m\u001b[0mnoon\u001b[0m\u001b[1;33m,\u001b[0m\u001b[0mtitle\u001b[0m\u001b[1;33m=\u001b[0m\u001b[1;34m'Noon'\u001b[0m\u001b[1;33m)\u001b[0m\u001b[1;33m\u001b[0m\u001b[1;33m\u001b[0m\u001b[0m\n\u001b[0m\u001b[0;32m     14\u001b[0m \u001b[0mday_avg\u001b[0m \u001b[1;33m=\u001b[0m\u001b[0mPanel\u001b[0m\u001b[1;33m(\u001b[0m\u001b[0mchild\u001b[0m\u001b[1;33m=\u001b[0m\u001b[0mday_avg\u001b[0m\u001b[1;33m,\u001b[0m\u001b[0mtitle\u001b[0m\u001b[1;33m=\u001b[0m\u001b[1;34m'Day Average'\u001b[0m\u001b[1;33m)\u001b[0m\u001b[1;33m\u001b[0m\u001b[1;33m\u001b[0m\u001b[0m\n\u001b[0;32m     15\u001b[0m \u001b[1;31m#l1 = layout([[u_bulg,u_spa],[u_cro,u_ita],[u_por]], sizing_mode='fixed')\u001b[0m\u001b[1;33m\u001b[0m\u001b[1;33m\u001b[0m\u001b[1;33m\u001b[0m\u001b[0m\n",
      "\u001b[1;32mC:\\ProgramData\\Anaconda3\\lib\\site-packages\\bokeh\\model.py\u001b[0m in \u001b[0;36m__init__\u001b[1;34m(self, **kwargs)\u001b[0m\n\u001b[0;32m    305\u001b[0m         \u001b[0mkwargs\u001b[0m\u001b[1;33m.\u001b[0m\u001b[0mpop\u001b[0m\u001b[1;33m(\u001b[0m\u001b[1;34m\"id\"\u001b[0m\u001b[1;33m,\u001b[0m \u001b[1;32mNone\u001b[0m\u001b[1;33m)\u001b[0m\u001b[1;33m\u001b[0m\u001b[1;33m\u001b[0m\u001b[0m\n\u001b[0;32m    306\u001b[0m \u001b[1;33m\u001b[0m\u001b[0m\n\u001b[1;32m--> 307\u001b[1;33m         \u001b[0msuper\u001b[0m\u001b[1;33m(\u001b[0m\u001b[0mModel\u001b[0m\u001b[1;33m,\u001b[0m \u001b[0mself\u001b[0m\u001b[1;33m)\u001b[0m\u001b[1;33m.\u001b[0m\u001b[0m__init__\u001b[0m\u001b[1;33m(\u001b[0m\u001b[1;33m**\u001b[0m\u001b[0mkwargs\u001b[0m\u001b[1;33m)\u001b[0m\u001b[1;33m\u001b[0m\u001b[1;33m\u001b[0m\u001b[0m\n\u001b[0m\u001b[0;32m    308\u001b[0m         \u001b[0mdefault_theme\u001b[0m\u001b[1;33m.\u001b[0m\u001b[0mapply_to_model\u001b[0m\u001b[1;33m(\u001b[0m\u001b[0mself\u001b[0m\u001b[1;33m)\u001b[0m\u001b[1;33m\u001b[0m\u001b[1;33m\u001b[0m\u001b[0m\n\u001b[0;32m    309\u001b[0m \u001b[1;33m\u001b[0m\u001b[0m\n",
      "\u001b[1;32mC:\\ProgramData\\Anaconda3\\lib\\site-packages\\bokeh\\core\\has_props.py\u001b[0m in \u001b[0;36m__init__\u001b[1;34m(self, **properties)\u001b[0m\n\u001b[0;32m    251\u001b[0m \u001b[1;33m\u001b[0m\u001b[0m\n\u001b[0;32m    252\u001b[0m         \u001b[1;32mfor\u001b[0m \u001b[0mname\u001b[0m\u001b[1;33m,\u001b[0m \u001b[0mvalue\u001b[0m \u001b[1;32min\u001b[0m \u001b[0mproperties\u001b[0m\u001b[1;33m.\u001b[0m\u001b[0mitems\u001b[0m\u001b[1;33m(\u001b[0m\u001b[1;33m)\u001b[0m\u001b[1;33m:\u001b[0m\u001b[1;33m\u001b[0m\u001b[1;33m\u001b[0m\u001b[0m\n\u001b[1;32m--> 253\u001b[1;33m             \u001b[0msetattr\u001b[0m\u001b[1;33m(\u001b[0m\u001b[0mself\u001b[0m\u001b[1;33m,\u001b[0m \u001b[0mname\u001b[0m\u001b[1;33m,\u001b[0m \u001b[0mvalue\u001b[0m\u001b[1;33m)\u001b[0m\u001b[1;33m\u001b[0m\u001b[1;33m\u001b[0m\u001b[0m\n\u001b[0m\u001b[0;32m    254\u001b[0m \u001b[1;33m\u001b[0m\u001b[0m\n\u001b[0;32m    255\u001b[0m     \u001b[1;32mdef\u001b[0m \u001b[0m__setattr__\u001b[0m\u001b[1;33m(\u001b[0m\u001b[0mself\u001b[0m\u001b[1;33m,\u001b[0m \u001b[0mname\u001b[0m\u001b[1;33m,\u001b[0m \u001b[0mvalue\u001b[0m\u001b[1;33m)\u001b[0m\u001b[1;33m:\u001b[0m\u001b[1;33m\u001b[0m\u001b[1;33m\u001b[0m\u001b[0m\n",
      "\u001b[1;32mC:\\ProgramData\\Anaconda3\\lib\\site-packages\\bokeh\\core\\has_props.py\u001b[0m in \u001b[0;36m__setattr__\u001b[1;34m(self, name, value)\u001b[0m\n\u001b[0;32m    278\u001b[0m \u001b[1;33m\u001b[0m\u001b[0m\n\u001b[0;32m    279\u001b[0m         \u001b[1;32mif\u001b[0m \u001b[0mname\u001b[0m \u001b[1;32min\u001b[0m \u001b[0mprops\u001b[0m \u001b[1;32mor\u001b[0m \u001b[1;33m(\u001b[0m\u001b[0mdescriptor\u001b[0m \u001b[1;32mis\u001b[0m \u001b[1;32mnot\u001b[0m \u001b[1;32mNone\u001b[0m \u001b[1;32mand\u001b[0m \u001b[0mdescriptor\u001b[0m\u001b[1;33m.\u001b[0m\u001b[0mfset\u001b[0m \u001b[1;32mis\u001b[0m \u001b[1;32mnot\u001b[0m \u001b[1;32mNone\u001b[0m\u001b[1;33m)\u001b[0m\u001b[1;33m:\u001b[0m\u001b[1;33m\u001b[0m\u001b[1;33m\u001b[0m\u001b[0m\n\u001b[1;32m--> 280\u001b[1;33m             \u001b[0msuper\u001b[0m\u001b[1;33m(\u001b[0m\u001b[0mHasProps\u001b[0m\u001b[1;33m,\u001b[0m \u001b[0mself\u001b[0m\u001b[1;33m)\u001b[0m\u001b[1;33m.\u001b[0m\u001b[0m__setattr__\u001b[0m\u001b[1;33m(\u001b[0m\u001b[0mname\u001b[0m\u001b[1;33m,\u001b[0m \u001b[0mvalue\u001b[0m\u001b[1;33m)\u001b[0m\u001b[1;33m\u001b[0m\u001b[1;33m\u001b[0m\u001b[0m\n\u001b[0m\u001b[0;32m    281\u001b[0m         \u001b[1;32melse\u001b[0m\u001b[1;33m:\u001b[0m\u001b[1;33m\u001b[0m\u001b[1;33m\u001b[0m\u001b[0m\n\u001b[0;32m    282\u001b[0m             \u001b[0mmatches\u001b[0m\u001b[1;33m,\u001b[0m \u001b[0mtext\u001b[0m \u001b[1;33m=\u001b[0m \u001b[0mdifflib\u001b[0m\u001b[1;33m.\u001b[0m\u001b[0mget_close_matches\u001b[0m\u001b[1;33m(\u001b[0m\u001b[0mname\u001b[0m\u001b[1;33m.\u001b[0m\u001b[0mlower\u001b[0m\u001b[1;33m(\u001b[0m\u001b[1;33m)\u001b[0m\u001b[1;33m,\u001b[0m \u001b[0mprops\u001b[0m\u001b[1;33m)\u001b[0m\u001b[1;33m,\u001b[0m \u001b[1;34m\"similar\"\u001b[0m\u001b[1;33m\u001b[0m\u001b[1;33m\u001b[0m\u001b[0m\n",
      "\u001b[1;32mC:\\ProgramData\\Anaconda3\\lib\\site-packages\\bokeh\\core\\property\\descriptors.py\u001b[0m in \u001b[0;36m__set__\u001b[1;34m(self, obj, value, setter)\u001b[0m\n\u001b[0;32m    543\u001b[0m             \u001b[1;32mraise\u001b[0m \u001b[0mRuntimeError\u001b[0m\u001b[1;33m(\u001b[0m\u001b[1;34m\"%s.%s is a readonly property\"\u001b[0m \u001b[1;33m%\u001b[0m \u001b[1;33m(\u001b[0m\u001b[0mobj\u001b[0m\u001b[1;33m.\u001b[0m\u001b[0m__class__\u001b[0m\u001b[1;33m.\u001b[0m\u001b[0m__name__\u001b[0m\u001b[1;33m,\u001b[0m \u001b[0mself\u001b[0m\u001b[1;33m.\u001b[0m\u001b[0mname\u001b[0m\u001b[1;33m)\u001b[0m\u001b[1;33m)\u001b[0m\u001b[1;33m\u001b[0m\u001b[1;33m\u001b[0m\u001b[0m\n\u001b[0;32m    544\u001b[0m \u001b[1;33m\u001b[0m\u001b[0m\n\u001b[1;32m--> 545\u001b[1;33m         \u001b[0mself\u001b[0m\u001b[1;33m.\u001b[0m\u001b[0m_internal_set\u001b[0m\u001b[1;33m(\u001b[0m\u001b[0mobj\u001b[0m\u001b[1;33m,\u001b[0m \u001b[0mvalue\u001b[0m\u001b[1;33m,\u001b[0m \u001b[0msetter\u001b[0m\u001b[1;33m=\u001b[0m\u001b[0msetter\u001b[0m\u001b[1;33m)\u001b[0m\u001b[1;33m\u001b[0m\u001b[1;33m\u001b[0m\u001b[0m\n\u001b[0m\u001b[0;32m    546\u001b[0m \u001b[1;33m\u001b[0m\u001b[0m\n\u001b[0;32m    547\u001b[0m     \u001b[1;32mdef\u001b[0m \u001b[0m__delete__\u001b[0m\u001b[1;33m(\u001b[0m\u001b[0mself\u001b[0m\u001b[1;33m,\u001b[0m \u001b[0mobj\u001b[0m\u001b[1;33m)\u001b[0m\u001b[1;33m:\u001b[0m\u001b[1;33m\u001b[0m\u001b[1;33m\u001b[0m\u001b[0m\n",
      "\u001b[1;32mC:\\ProgramData\\Anaconda3\\lib\\site-packages\\bokeh\\core\\property\\descriptors.py\u001b[0m in \u001b[0;36m_internal_set\u001b[1;34m(self, obj, value, hint, setter)\u001b[0m\n\u001b[0;32m    764\u001b[0m \u001b[1;33m\u001b[0m\u001b[0m\n\u001b[0;32m    765\u001b[0m         '''\n\u001b[1;32m--> 766\u001b[1;33m         \u001b[0mvalue\u001b[0m \u001b[1;33m=\u001b[0m \u001b[0mself\u001b[0m\u001b[1;33m.\u001b[0m\u001b[0mproperty\u001b[0m\u001b[1;33m.\u001b[0m\u001b[0mprepare_value\u001b[0m\u001b[1;33m(\u001b[0m\u001b[0mobj\u001b[0m\u001b[1;33m,\u001b[0m \u001b[0mself\u001b[0m\u001b[1;33m.\u001b[0m\u001b[0mname\u001b[0m\u001b[1;33m,\u001b[0m \u001b[0mvalue\u001b[0m\u001b[1;33m)\u001b[0m\u001b[1;33m\u001b[0m\u001b[1;33m\u001b[0m\u001b[0m\n\u001b[0m\u001b[0;32m    767\u001b[0m \u001b[1;33m\u001b[0m\u001b[0m\n\u001b[0;32m    768\u001b[0m         \u001b[0mold\u001b[0m \u001b[1;33m=\u001b[0m \u001b[0mself\u001b[0m\u001b[1;33m.\u001b[0m\u001b[0m__get__\u001b[0m\u001b[1;33m(\u001b[0m\u001b[0mobj\u001b[0m\u001b[1;33m,\u001b[0m \u001b[0mobj\u001b[0m\u001b[1;33m.\u001b[0m\u001b[0m__class__\u001b[0m\u001b[1;33m)\u001b[0m\u001b[1;33m\u001b[0m\u001b[1;33m\u001b[0m\u001b[0m\n",
      "\u001b[1;32mC:\\ProgramData\\Anaconda3\\lib\\site-packages\\bokeh\\core\\property\\bases.py\u001b[0m in \u001b[0;36mprepare_value\u001b[1;34m(self, obj_or_cls, name, value)\u001b[0m\n\u001b[0;32m    325\u001b[0m                     \u001b[1;32mbreak\u001b[0m\u001b[1;33m\u001b[0m\u001b[1;33m\u001b[0m\u001b[0m\n\u001b[0;32m    326\u001b[0m             \u001b[1;32melse\u001b[0m\u001b[1;33m:\u001b[0m\u001b[1;33m\u001b[0m\u001b[1;33m\u001b[0m\u001b[0m\n\u001b[1;32m--> 327\u001b[1;33m                 \u001b[1;32mraise\u001b[0m \u001b[0me\u001b[0m\u001b[1;33m\u001b[0m\u001b[1;33m\u001b[0m\u001b[0m\n\u001b[0m\u001b[0;32m    328\u001b[0m         \u001b[1;32melse\u001b[0m\u001b[1;33m:\u001b[0m\u001b[1;33m\u001b[0m\u001b[1;33m\u001b[0m\u001b[0m\n\u001b[0;32m    329\u001b[0m             \u001b[0mvalue\u001b[0m \u001b[1;33m=\u001b[0m \u001b[0mself\u001b[0m\u001b[1;33m.\u001b[0m\u001b[0mtransform\u001b[0m\u001b[1;33m(\u001b[0m\u001b[0mvalue\u001b[0m\u001b[1;33m)\u001b[0m\u001b[1;33m\u001b[0m\u001b[1;33m\u001b[0m\u001b[0m\n",
      "\u001b[1;32mC:\\ProgramData\\Anaconda3\\lib\\site-packages\\bokeh\\core\\property\\bases.py\u001b[0m in \u001b[0;36mprepare_value\u001b[1;34m(self, obj_or_cls, name, value)\u001b[0m\n\u001b[0;32m    318\u001b[0m         \u001b[1;32mtry\u001b[0m\u001b[1;33m:\u001b[0m\u001b[1;33m\u001b[0m\u001b[1;33m\u001b[0m\u001b[0m\n\u001b[0;32m    319\u001b[0m             \u001b[1;32mif\u001b[0m \u001b[0mvalidation_on\u001b[0m\u001b[1;33m(\u001b[0m\u001b[1;33m)\u001b[0m\u001b[1;33m:\u001b[0m\u001b[1;33m\u001b[0m\u001b[1;33m\u001b[0m\u001b[0m\n\u001b[1;32m--> 320\u001b[1;33m                 \u001b[0mself\u001b[0m\u001b[1;33m.\u001b[0m\u001b[0mvalidate\u001b[0m\u001b[1;33m(\u001b[0m\u001b[0mvalue\u001b[0m\u001b[1;33m)\u001b[0m\u001b[1;33m\u001b[0m\u001b[1;33m\u001b[0m\u001b[0m\n\u001b[0m\u001b[0;32m    321\u001b[0m         \u001b[1;32mexcept\u001b[0m \u001b[0mValueError\u001b[0m \u001b[1;32mas\u001b[0m \u001b[0me\u001b[0m\u001b[1;33m:\u001b[0m\u001b[1;33m\u001b[0m\u001b[1;33m\u001b[0m\u001b[0m\n\u001b[0;32m    322\u001b[0m             \u001b[1;32mfor\u001b[0m \u001b[0mtp\u001b[0m\u001b[1;33m,\u001b[0m \u001b[0mconverter\u001b[0m \u001b[1;32min\u001b[0m \u001b[0mself\u001b[0m\u001b[1;33m.\u001b[0m\u001b[0malternatives\u001b[0m\u001b[1;33m:\u001b[0m\u001b[1;33m\u001b[0m\u001b[1;33m\u001b[0m\u001b[0m\n",
      "\u001b[1;32mC:\\ProgramData\\Anaconda3\\lib\\site-packages\\bokeh\\core\\property\\instance.py\u001b[0m in \u001b[0;36mvalidate\u001b[1;34m(self, value, detail)\u001b[0m\n\u001b[0;32m    112\u001b[0m             \u001b[1;32mif\u001b[0m \u001b[1;32mnot\u001b[0m \u001b[0misinstance\u001b[0m\u001b[1;33m(\u001b[0m\u001b[0mvalue\u001b[0m\u001b[1;33m,\u001b[0m \u001b[0mself\u001b[0m\u001b[1;33m.\u001b[0m\u001b[0minstance_type\u001b[0m\u001b[1;33m)\u001b[0m\u001b[1;33m:\u001b[0m\u001b[1;33m\u001b[0m\u001b[1;33m\u001b[0m\u001b[0m\n\u001b[0;32m    113\u001b[0m                 \u001b[0mmsg\u001b[0m \u001b[1;33m=\u001b[0m \u001b[1;34m\"\"\u001b[0m \u001b[1;32mif\u001b[0m \u001b[1;32mnot\u001b[0m \u001b[0mdetail\u001b[0m \u001b[1;32melse\u001b[0m \u001b[1;34m\"expected an instance of type %s, got %s of type %s\"\u001b[0m \u001b[1;33m%\u001b[0m \u001b[1;33m(\u001b[0m\u001b[0mself\u001b[0m\u001b[1;33m.\u001b[0m\u001b[0minstance_type\u001b[0m\u001b[1;33m.\u001b[0m\u001b[0m__name__\u001b[0m\u001b[1;33m,\u001b[0m \u001b[0mvalue\u001b[0m\u001b[1;33m,\u001b[0m \u001b[0mtype\u001b[0m\u001b[1;33m(\u001b[0m\u001b[0mvalue\u001b[0m\u001b[1;33m)\u001b[0m\u001b[1;33m.\u001b[0m\u001b[0m__name__\u001b[0m\u001b[1;33m)\u001b[0m\u001b[1;33m\u001b[0m\u001b[1;33m\u001b[0m\u001b[0m\n\u001b[1;32m--> 114\u001b[1;33m                 \u001b[1;32mraise\u001b[0m \u001b[0mValueError\u001b[0m\u001b[1;33m(\u001b[0m\u001b[0mmsg\u001b[0m\u001b[1;33m)\u001b[0m\u001b[1;33m\u001b[0m\u001b[1;33m\u001b[0m\u001b[0m\n\u001b[0m\u001b[0;32m    115\u001b[0m \u001b[1;33m\u001b[0m\u001b[0m\n\u001b[0;32m    116\u001b[0m     \u001b[1;32mdef\u001b[0m \u001b[0m_may_have_unstable_default\u001b[0m\u001b[1;33m(\u001b[0m\u001b[0mself\u001b[0m\u001b[1;33m)\u001b[0m\u001b[1;33m:\u001b[0m\u001b[1;33m\u001b[0m\u001b[1;33m\u001b[0m\u001b[0m\n",
      "\u001b[1;31mValueError\u001b[0m: expected an instance of type LayoutDOM, got Panel(id='2081', ...) of type Panel"
     ]
    }
   ],
   "source": [
    "from bokeh.models.widgets import Panel, Tabs\n",
    "from bokeh.layouts import column\n",
    "\n",
    "\n",
    "output_file('EPEXGermanyDashboard1.html', title='EPEX Germany Dashboard')\n",
    "\n",
    "dawning1 = Panel(child=dawning, title='Dawning')\n",
    "early_morning1 = Panel(child=early_morning, title='Early Morning')\n",
    "morning1 = Panel(child=morning, title='Morning')\n",
    "school_time1 = Panel(child=school_time, title='School Time')\n",
    "afternoon1 = Panel(child=afternoon, title='Afternoon')\n",
    "bt1 = Panel(child=bt,title='Business Time')\n",
    "noon = Panel(child=noon,title='Noon')\n",
    "day_avg =Panel(child=day_avg,title='Day Average')\n",
    "#l1 = layout([[u_bulg,u_spa],[u_cro,u_ita],[u_por]], sizing_mode='fixed')\n",
    "\n",
    "tabs = Tabs(tabs=[dawning1, early_morning1, school_time1, afternoon1, bt1,noon,day_avg])\n",
    "\n",
    "show(tabs)"
   ]
  },
  {
   "cell_type": "code",
   "execution_count": null,
   "metadata": {},
   "outputs": [],
   "source": []
  },
  {
   "cell_type": "code",
   "execution_count": null,
   "metadata": {},
   "outputs": [],
   "source": []
  },
  {
   "cell_type": "code",
   "execution_count": null,
   "metadata": {},
   "outputs": [],
   "source": []
  },
  {
   "cell_type": "code",
   "execution_count": null,
   "metadata": {},
   "outputs": [],
   "source": []
  },
  {
   "cell_type": "code",
   "execution_count": null,
   "metadata": {},
   "outputs": [],
   "source": []
  },
  {
   "cell_type": "code",
   "execution_count": null,
   "metadata": {},
   "outputs": [],
   "source": []
  },
  {
   "cell_type": "code",
   "execution_count": null,
   "metadata": {},
   "outputs": [],
   "source": []
  },
  {
   "cell_type": "markdown",
   "metadata": {},
   "source": [
    "Created by ***Jorge Polanco Roque***"
   ]
  }
 ],
 "metadata": {
  "kernelspec": {
   "display_name": "Python 3",
   "language": "python",
   "name": "python3"
  },
  "language_info": {
   "codemirror_mode": {
    "name": "ipython",
    "version": 3
   },
   "file_extension": ".py",
   "mimetype": "text/x-python",
   "name": "python",
   "nbconvert_exporter": "python",
   "pygments_lexer": "ipython3",
   "version": "3.7.1"
  }
 },
 "nbformat": 4,
 "nbformat_minor": 2
}
