{
 "cells": [
  {
   "cell_type": "markdown",
   "metadata": {},
   "source": [
    "# Pruebas CodeLive\n",
    "**Date**: 220524"
   ]
  },
  {
   "cell_type": "markdown",
   "metadata": {},
   "source": [
    "## 1) Max Binary Gap"
   ]
  },
  {
   "cell_type": "code",
   "execution_count": 1,
   "metadata": {},
   "outputs": [],
   "source": [
    "def binary_gap(N):\n",
    "    try:\n",
    "        if not isinstance(N, int) or N < 0:\n",
    "            raise ValueError(\"Input has to be positive integer\")\n",
    "\n",
    "        binary = bin(N)[2:]\n",
    "        gaps = binary.strip(\"0\").split(\"1\")\n",
    "        max_gap = max(map(len, gaps), default=0)\n",
    "\n",
    "        return max_gap\n",
    "\n",
    "    except Exception as e:\n",
    "        print(f\"An error occurred: {e}\")\n"
   ]
  },
  {
   "cell_type": "code",
   "execution_count": 2,
   "metadata": {},
   "outputs": [
    {
     "data": {
      "text/plain": [
       "1"
      ]
     },
     "execution_count": 2,
     "metadata": {},
     "output_type": "execute_result"
    }
   ],
   "source": [
    "binary_gap(5)"
   ]
  },
  {
   "cell_type": "markdown",
   "metadata": {},
   "source": [
    "## 2) Lógica XOR"
   ]
  },
  {
   "cell_type": "code",
   "execution_count": 3,
   "metadata": {},
   "outputs": [
    {
     "name": "stdout",
     "output_type": "stream",
     "text": [
      "7\n"
     ]
    }
   ],
   "source": [
    "def find_unpaired_element(arr):\n",
    "    result = 0\n",
    "    for number in arr:\n",
    "        result ^= number\n",
    "    return result\n",
    "\n",
    "# Ejemplo de uso\n",
    "arr = [9, 3, 9, 3, 9, 7, 9]\n",
    "print(find_unpaired_element(arr))  # Output: 7\n"
   ]
  },
  {
   "cell_type": "code",
   "execution_count": 4,
   "metadata": {},
   "outputs": [
    {
     "data": {
      "text/plain": [
       "7"
      ]
     },
     "execution_count": 4,
     "metadata": {},
     "output_type": "execute_result"
    }
   ],
   "source": [
    "def solution(num_list):\n",
    "    list.sort(num_list, key=int)\n",
    "    lis_size = len(num_list)\n",
    "    try:\n",
    "        for x in range(lis_size)[::2]:\n",
    "            if num_list[x] != num_list[x+1]:\n",
    "                return num_list[x]\n",
    "    except IndexError as e:\n",
    "        return num_list[x]\n",
    "    \n",
    "solution([9, 3, 9, 3, 9, 7, 9])"
   ]
  },
  {
   "cell_type": "code",
   "execution_count": 25,
   "metadata": {},
   "outputs": [
    {
     "name": "stdout",
     "output_type": "stream",
     "text": [
      "End of the function\n"
     ]
    },
    {
     "data": {
      "text/plain": [
       "7"
      ]
     },
     "execution_count": 25,
     "metadata": {},
     "output_type": "execute_result"
    }
   ],
   "source": [
    "import pandas as pd\n",
    "\n",
    "def solution(A):\n",
    "    try:\n",
    "        if not isinstance(A, list):\n",
    "            raise ValueError(\"Input has to be a list\")\n",
    "        \n",
    "        df = pd.DataFrame(A, columns=['Value']).groupby(by='Value').agg({'Value': 'count'})\n",
    "        df.columns = ['Conteo']\n",
    "        df = df.reset_index()\n",
    "        \n",
    "        return df[df.Conteo == df.Conteo.min()]['Value'].values[0]\n",
    "    \n",
    "    except Exception as e:\n",
    "        return f\"An error occurred: {e}\"\n",
    "    \n",
    "    finally:\n",
    "        print(\"End of the function\")\n",
    "\n",
    "solution([9, 3, 9, 3, 9, 7, 9])\n",
    "#solution(\"sqw\")"
   ]
  },
  {
   "cell_type": "markdown",
   "metadata": {},
   "source": [
    "## 3) Rotation of an array"
   ]
  },
  {
   "cell_type": "code",
   "execution_count": 6,
   "metadata": {},
   "outputs": [
    {
     "data": {
      "text/plain": [
       "[0, 3, 1]"
      ]
     },
     "execution_count": 6,
     "metadata": {},
     "output_type": "execute_result"
    }
   ],
   "source": [
    "def rotation(A, K):\n",
    "    try:\n",
    "        if not isinstance(A, list) or not isinstance(K, int) or K < 0:\n",
    "            raise ValueError(\"Input has to be a list of integers and a positive integer\")\n",
    "        \n",
    "        if not A:  # If the list is empty, return it as is\n",
    "            return A\n",
    "    \n",
    "        N = len(A)\n",
    "        K = K % N  # In case K is greater than N, we only need to do K % N rotations\n",
    "        \n",
    "        return A[-K:] + A[:-K]\n",
    "    \n",
    "    except Exception as e:\n",
    "        return f\"An error occurred: {e}\"\n",
    "\n",
    "rotation([1,0,3], 2)\n"
   ]
  },
  {
   "cell_type": "markdown",
   "metadata": {},
   "source": [
    "## 4) Equilibrium"
   ]
  },
  {
   "cell_type": "code",
   "execution_count": 7,
   "metadata": {},
   "outputs": [
    {
     "name": "stdout",
     "output_type": "stream",
     "text": [
      "1\n",
      "9\n"
     ]
    },
    {
     "data": {
      "text/plain": [
       "8"
      ]
     },
     "execution_count": 7,
     "metadata": {},
     "output_type": "execute_result"
    }
   ],
   "source": [
    "def solution(A, P):\n",
    "    N = len(A)\n",
    "    try:\n",
    "        if not isinstance(A, list) or not len(A) > 0 or not P <= N:\n",
    "            raise ValueError(f\"Hay un error, y punto!\")\n",
    "\n",
    "        Suma = 0\n",
    "        for i in range(P-1):\n",
    "            Suma += A[i]\n",
    "        #return Suma\n",
    "        print(Suma)\n",
    "    \n",
    "        Resta = 0\n",
    "        for i in range(P-1, N):\n",
    "            Resta += A[i]\n",
    "        print(Resta)\n",
    "\n",
    "        return abs(Suma - Resta)\n",
    "\n",
    "    except Exception as e:\n",
    "        return f\"An error occurred: {e}\"\n",
    "\n",
    "\n",
    "solution([1,2,3,4], 2)"
   ]
  },
  {
   "cell_type": "markdown",
   "metadata": {},
   "source": [
    "## 5) Missing Integer"
   ]
  },
  {
   "cell_type": "code",
   "execution_count": 8,
   "metadata": {},
   "outputs": [
    {
     "data": {
      "text/plain": [
       "9"
      ]
     },
     "execution_count": 8,
     "metadata": {},
     "output_type": "execute_result"
    }
   ],
   "source": [
    "def solution(A):\n",
    "    try:\n",
    "        if not isinstance(A, list):\n",
    "            raise ValueError(\"Input has to be a list\")\n",
    "\n",
    "        list_1 = []\n",
    "        for i in range(len(A)):\n",
    "            if A[i] > 0:\n",
    "                list_1.append(A[i])\n",
    "        \n",
    "        list_1 = sorted(list_1)\n",
    "\n",
    "        list_2 = pd.DataFrame(list_1, columns=['Value'])\n",
    "        \n",
    "        list_2['Rest'] = list_2['Value']-list_2['Value'].shift(1)\n",
    "\n",
    "        if list_2['Rest'].sum() < list_2.shape[0]:\n",
    "            return list_1[-1] + 1\n",
    "        \n",
    "        else:\n",
    "            return list_2[list_2['Rest'] == list_2['Rest'].max()][['Value']].values[0][0] - 1\n",
    "        \n",
    "    except Exception as e:\n",
    "        return f\"An error occurred: {e}\"\n",
    "    \n",
    "solution([1,2,3,10])"
   ]
  },
  {
   "cell_type": "code",
   "execution_count": 9,
   "metadata": {},
   "outputs": [
    {
     "name": "stdout",
     "output_type": "stream",
     "text": [
      "{1, 2, 3, 4, 6}\n",
      "2\n",
      "3\n",
      "4\n",
      "5\n",
      "5\n",
      "{1, 2, 3}\n",
      "2\n",
      "3\n",
      "4\n",
      "4\n",
      "set()\n",
      "1\n"
     ]
    }
   ],
   "source": [
    "def solution(A):\n",
    "    # Convertir la lista en un conjunto para eliminar duplicados y permitir búsquedas rápidas\n",
    "    positive_numbers = set(x for x in A if x > 0)\n",
    "    print(positive_numbers)\n",
    "    \n",
    "    # Empezar a buscar desde el menor entero positivo, que es 1\n",
    "    smallest_positive = 1\n",
    "    \n",
    "    # Incrementar el menor entero positivo hasta encontrar uno que no esté en el conjunto\n",
    "    while smallest_positive in positive_numbers:\n",
    "        smallest_positive += 1\n",
    "        print(smallest_positive)\n",
    "    \n",
    "    return smallest_positive\n",
    "\n",
    "# Ejemplo de uso:\n",
    "print(solution([1, 3, 6, 4, 1, 2]))  # Output: 5\n",
    "print(solution([1, 2, 3]))  # Output: 4\n",
    "print(solution([-1, -3]))  # Output: 1\n"
   ]
  },
  {
   "cell_type": "markdown",
   "metadata": {},
   "source": [
    "## 6) Classes"
   ]
  },
  {
   "cell_type": "code",
   "execution_count": 10,
   "metadata": {},
   "outputs": [
    {
     "name": "stdout",
     "output_type": "stream",
     "text": [
      "10\n"
     ]
    }
   ],
   "source": [
    "# The __init__ Method\n",
    "class MyClass:\n",
    "    def __init__(self, value):\n",
    "        self.value = value  # Initializing an instance attribute\n",
    "\n",
    "# Creating an instance with an initial value\n",
    "my_object = MyClass(10)\n",
    "print(my_object.value)  # Output: 10"
   ]
  },
  {
   "cell_type": "code",
   "execution_count": 11,
   "metadata": {},
   "outputs": [
    {
     "name": "stdout",
     "output_type": "stream",
     "text": [
      "The value is: 10\n"
     ]
    }
   ],
   "source": [
    "# Instance Attributes and Methods\n",
    "class MyClass:\n",
    "    def __init__(self, value):\n",
    "        self.value = value  # Instance attribute\n",
    "\n",
    "    def display_value(self):\n",
    "        print(f\"The value is: {self.value}\")  # Instance method\n",
    "\n",
    "# Creating an instance and calling a method\n",
    "my_object = MyClass(10)\n",
    "my_object.display_value()  # Output: The value is: 10\n"
   ]
  },
  {
   "cell_type": "code",
   "execution_count": 12,
   "metadata": {},
   "outputs": [
    {
     "name": "stdout",
     "output_type": "stream",
     "text": [
      "I am a class attribute\n",
      "Class attribute: I am a class attribute\n"
     ]
    }
   ],
   "source": [
    "# Class Attributes and Methods\n",
    "class MyClass:\n",
    "    class_attribute = \"I am a class attribute\"  # Class attribute\n",
    "\n",
    "    def __init__(self, value):\n",
    "        self.value = value  # Instance attribute\n",
    "\n",
    "    @classmethod\n",
    "    def display_class_attribute(cls):\n",
    "        print(f\"Class attribute: {cls.class_attribute}\")\n",
    "\n",
    "# Accessing class attribute\n",
    "print(MyClass.class_attribute)  # Output: I am a class attribute\n",
    "\n",
    "# Calling class method\n",
    "MyClass.display_class_attribute()  # Output: Class attribute: I am a class attribute\n"
   ]
  },
  {
   "cell_type": "code",
   "execution_count": 13,
   "metadata": {},
   "outputs": [
    {
     "name": "stdout",
     "output_type": "stream",
     "text": [
      "I am a static method\n"
     ]
    }
   ],
   "source": [
    "# Static Methods\n",
    "class MyClass:\n",
    "    @staticmethod\n",
    "    def static_method():\n",
    "        print(\"I am a static method\")\n",
    "\n",
    "# Calling static method\n",
    "MyClass.static_method()  # Output: I am a static method\n"
   ]
  },
  {
   "cell_type": "code",
   "execution_count": 14,
   "metadata": {},
   "outputs": [
    {
     "name": "stdout",
     "output_type": "stream",
     "text": [
      "Buddy says Woof!\n",
      "Whiskers says Meow!\n"
     ]
    }
   ],
   "source": [
    "# Inheritance\n",
    "class Animal:\n",
    "    def __init__(self, name):\n",
    "        self.name = name\n",
    "\n",
    "    def speak(self):\n",
    "        pass\n",
    "\n",
    "class Dog(Animal):\n",
    "    def speak(self):\n",
    "        return f\"{self.name} says Woof!\"\n",
    "\n",
    "class Cat(Animal):\n",
    "    def speak(self):\n",
    "        return f\"{self.name} says Meow!\"\n",
    "\n",
    "# Creating instances of derived classes\n",
    "dog = Dog(\"Buddy\")\n",
    "cat = Cat(\"Whiskers\")\n",
    "\n",
    "print(dog.speak())  # Output: Buddy says Woof!\n",
    "print(cat.speak())  # Output: Whiskers says Meow!\n"
   ]
  },
  {
   "cell_type": "code",
   "execution_count": 15,
   "metadata": {},
   "outputs": [
    {
     "name": "stdout",
     "output_type": "stream",
     "text": [
      "I am public\n",
      "I am protected\n",
      "I am private\n"
     ]
    }
   ],
   "source": [
    "# Encapsulation\n",
    "class MyClass:\n",
    "    def __init__(self):\n",
    "        self.public = \"I am public\"\n",
    "        self._protected = \"I am protected\"\n",
    "        self.__private = \"I am private\"\n",
    "\n",
    "    def get_private(self):\n",
    "        return self.__private\n",
    "\n",
    "my_object = MyClass()\n",
    "print(my_object.public)       # Output: I am public\n",
    "print(my_object._protected)   # Output: I am protected\n",
    "# print(my_object.__private)  # AttributeError\n",
    "print(my_object.get_private()) # Output: I am private\n"
   ]
  },
  {
   "cell_type": "code",
   "execution_count": 16,
   "metadata": {},
   "outputs": [
    {
     "name": "stdout",
     "output_type": "stream",
     "text": [
      "Woof!\n",
      "Meow!\n"
     ]
    }
   ],
   "source": [
    "# Polymorphism\n",
    "class Animal:\n",
    "    def speak(self):\n",
    "        pass\n",
    "\n",
    "class Dog(Animal):\n",
    "    def speak(self):\n",
    "        return \"Woof!\"\n",
    "\n",
    "class Cat(Animal):\n",
    "    def speak(self):\n",
    "        return \"Meow!\"\n",
    "\n",
    "def make_animal_speak(animal):\n",
    "    print(animal.speak())\n",
    "\n",
    "dog = Dog()\n",
    "cat = Cat()\n",
    "\n",
    "make_animal_speak(dog)  # Output: Woof!\n",
    "make_animal_speak(cat)  # Output: Meow!\n",
    "\n"
   ]
  },
  {
   "cell_type": "code",
   "execution_count": 17,
   "metadata": {},
   "outputs": [],
   "source": [
    "def initialize():\n",
    "    pass  # Initialization code will go here\n",
    "\n",
    "def process_data():\n",
    "    pass  # Data processing code will go here\n",
    "\n",
    "def finalize():\n",
    "    pass  # Finalization code will go here\n",
    "\n",
    "# Main function\n",
    "def main():\n",
    "    initialize()\n",
    "    process_data()\n",
    "    finalize()\n",
    "\n",
    "if __name__ == \"__main__\":\n",
    "    main()\n"
   ]
  },
  {
   "cell_type": "markdown",
   "metadata": {},
   "source": [
    "## 7) Permutación Check"
   ]
  },
  {
   "cell_type": "code",
   "execution_count": 18,
   "metadata": {},
   "outputs": [
    {
     "data": {
      "text/plain": [
       "0"
      ]
     },
     "execution_count": 18,
     "metadata": {},
     "output_type": "execute_result"
    }
   ],
   "source": [
    "def solution(A,B):\n",
    "    try:\n",
    "        if not isinstance(A, list):\n",
    "            raise ValueError(\"Input has to be a list\")\n",
    "        \n",
    "        # N_A = len(A)\n",
    "        # N_B = len(B)\n",
    "\n",
    "        if A == B:\n",
    "            return 1\n",
    "        else:\n",
    "            return 0\n",
    "\n",
    "    except Exception as e:\n",
    "        return f\"An error occurred: {e}\"\n",
    "    \n",
    "\n",
    "solution([123,1],[1,1])"
   ]
  },
  {
   "cell_type": "code",
   "execution_count": 19,
   "metadata": {},
   "outputs": [
    {
     "name": "stdout",
     "output_type": "stream",
     "text": [
      "4\n",
      "{1, 2, 3, 4}\n",
      "{1, 2, 3, 4}\n",
      "1\n"
     ]
    }
   ],
   "source": [
    "def solution(A):\n",
    "    N = len(A)\n",
    "    print(N)\n",
    "    expected_set = set(range(1, N + 1))\n",
    "    print(expected_set)\n",
    "    actual_set = set(A)\n",
    "    print(actual_set)\n",
    "\n",
    "    if expected_set == actual_set:\n",
    "        return 1\n",
    "    else:\n",
    "        return 0\n",
    "\n",
    "# Ejemplo de uso:\n",
    "print(solution([4, 1, 3, 2]))  # Output: 1\n",
    "#print(solution([4, 1, 3]))     # Output: 0\n"
   ]
  },
  {
   "cell_type": "markdown",
   "metadata": {},
   "source": [
    "## 8) while loop"
   ]
  },
  {
   "cell_type": "code",
   "execution_count": 67,
   "metadata": {},
   "outputs": [
    {
     "name": "stdout",
     "output_type": "stream",
     "text": [
      "0\n",
      "1\n",
      "2\n",
      "3\n",
      "4\n",
      "Finished counting\n"
     ]
    }
   ],
   "source": [
    "count = 0\n",
    "\n",
    "while count < 5:\n",
    "    print(count)\n",
    "    count += 1\n",
    "else:\n",
    "    print(\"Finished counting\")"
   ]
  },
  {
   "cell_type": "code",
   "execution_count": 68,
   "metadata": {},
   "outputs": [
    {
     "name": "stdout",
     "output_type": "stream",
     "text": [
      "0\n",
      "1\n",
      "2\n",
      "3\n",
      "4\n"
     ]
    }
   ],
   "source": [
    "count = 0\n",
    "\n",
    "while True:\n",
    "    print(count)\n",
    "    count += 1\n",
    "    if count >= 5:\n",
    "        break"
   ]
  },
  {
   "cell_type": "code",
   "execution_count": null,
   "metadata": {},
   "outputs": [],
   "source": [
    "count = 0\n",
    "\n",
    "while count < 10:\n",
    "    count += 1\n",
    "    if count % 2 == 0:\n",
    "        continue\n",
    "    print(count)"
   ]
  },
  {
   "cell_type": "code",
   "execution_count": 73,
   "metadata": {},
   "outputs": [
    {
     "name": "stdout",
     "output_type": "stream",
     "text": [
      "Result is 2.0\n",
      "Result is 2.5\n",
      "Result is 3.3333333333333335\n",
      "Result is 5.0\n",
      "Result is 10.0\n"
     ]
    }
   ],
   "source": [
    "count = 0\n",
    "\n",
    "while count < 5:\n",
    "    try:\n",
    "        result = 10 / (5 - count)\n",
    "    except ZeroDivisionError:\n",
    "        print(\"Division by zero occurred\")\n",
    "    else:\n",
    "        print(f\"Result is {result}\")\n",
    "    finally:\n",
    "        count += 1"
   ]
  },
  {
   "cell_type": "code",
   "execution_count": 74,
   "metadata": {},
   "outputs": [
    {
     "name": "stdout",
     "output_type": "stream",
     "text": [
      "i: 0, j: 0\n",
      "i: 0, j: 1\n",
      "i: 0, j: 2\n",
      "i: 1, j: 0\n",
      "i: 1, j: 1\n",
      "i: 1, j: 2\n",
      "i: 2, j: 0\n",
      "i: 2, j: 1\n",
      "i: 2, j: 2\n"
     ]
    }
   ],
   "source": [
    "i = 0\n",
    "\n",
    "while i < 3:\n",
    "    j = 0\n",
    "    while j < 3:\n",
    "        print(f\"i: {i}, j: {j}\")\n",
    "        j += 1\n",
    "    i += 1"
   ]
  },
  {
   "cell_type": "markdown",
   "metadata": {},
   "source": [
    "## 9) Otros"
   ]
  },
  {
   "cell_type": "code",
   "execution_count": 20,
   "metadata": {},
   "outputs": [
    {
     "name": "stdout",
     "output_type": "stream",
     "text": [
      "[0, 1, 4, 9, 16, 25, 36, 49, 64, 81]\n",
      "[0, 1, 4, 9, 16, 25, 36, 49, 64, 81]\n"
     ]
    }
   ],
   "source": [
    "# 1. Comprensión de Listas y Generadores\n",
    "\n",
    "# Comprensión de lista\n",
    "squares = [x**2 for x in range(10)]\n",
    "print(squares)  # Output: [0, 1, 4, 9, 16, 25, 36, 49, 64, 81]\n",
    "\n",
    "# Generador\n",
    "squares_gen = (x**2 for x in range(10))\n",
    "print(list(squares_gen))  # Output: [0, 1, 4, 9, 16, 25, 36, 49, 64, 81]\n"
   ]
  },
  {
   "cell_type": "code",
   "execution_count": 21,
   "metadata": {},
   "outputs": [
    {
     "name": "stdout",
     "output_type": "stream",
     "text": [
      "Something is happening before the function is called.\n",
      "Hello!\n",
      "Something is happening after the function is called.\n"
     ]
    }
   ],
   "source": [
    "# 2. Decoradores\n",
    "def my_decorator(func):\n",
    "    def wrapper():\n",
    "        print(\"Something is happening before the function is called.\")\n",
    "        func()\n",
    "        print(\"Something is happening after the function is called.\")\n",
    "    return wrapper\n",
    "\n",
    "@my_decorator\n",
    "def say_hello():\n",
    "    print(\"Hello!\")\n",
    "\n",
    "say_hello()"
   ]
  },
  {
   "cell_type": "code",
   "execution_count": 22,
   "metadata": {},
   "outputs": [
    {
     "name": "stdout",
     "output_type": "stream",
     "text": [
      "0\n",
      "1\n",
      "1\n",
      "2\n",
      "3\n",
      "5\n",
      "8\n",
      "13\n",
      "21\n",
      "34\n"
     ]
    }
   ],
   "source": [
    "# 3. Generadores y yield\n",
    "def fibonacci(n):\n",
    "    a, b = 0, 1\n",
    "    for _ in range(n):\n",
    "        yield a\n",
    "        a, b = b, a + b\n",
    "\n",
    "for num in fibonacci(10):\n",
    "    print(num)\n"
   ]
  },
  {
   "cell_type": "code",
   "execution_count": 23,
   "metadata": {},
   "outputs": [
    {
     "name": "stdout",
     "output_type": "stream",
     "text": [
      "Error: division by zero\n",
      "This block always executes.\n"
     ]
    }
   ],
   "source": [
    "# 4. Manejo Avanzado de Excepciones\n",
    "try:\n",
    "    result = 10 / 0\n",
    "except ZeroDivisionError as e:\n",
    "    print(f\"Error: {e}\")\n",
    "finally:\n",
    "    print(\"This block always executes.\")"
   ]
  },
  {
   "cell_type": "code",
   "execution_count": 26,
   "metadata": {},
   "outputs": [
    {
     "name": "stdout",
     "output_type": "stream",
     "text": [
      "Buddy says Woof!\n",
      "Whiskers says Meow!\n"
     ]
    }
   ],
   "source": [
    "# 5. Programación Orientada a Objetos (POO)\n",
    "class Animal:\n",
    "    def __init__(self, name):\n",
    "        self.name = name\n",
    "\n",
    "    def speak(self):\n",
    "        raise NotImplementedError(\"Subclasses must implement this method\")\n",
    "\n",
    "class Dog(Animal):\n",
    "    def speak(self):\n",
    "        return f\"{self.name} says Woof!\"\n",
    "\n",
    "class Cat(Animal):\n",
    "    def speak(self):\n",
    "        return f\"{self.name} says Meow!\"\n",
    "\n",
    "dog = Dog(\"Buddy\")\n",
    "cat = Cat(\"Whiskers\")\n",
    "\n",
    "print(dog.speak())  # Output: Buddy says Woof!\n",
    "print(cat.speak())  # Output: Whiskers says Meow!\n"
   ]
  },
  {
   "cell_type": "code",
   "execution_count": 27,
   "metadata": {},
   "outputs": [],
   "source": [
    "# 6. Context Managers y with\n",
    "with open('example.txt', 'w') as f:\n",
    "    f.write('Hello, World!')\n",
    "# El archivo se cierra automáticamente al salir del bloque with.\n"
   ]
  },
  {
   "cell_type": "code",
   "execution_count": 28,
   "metadata": {},
   "outputs": [
    {
     "name": "stdout",
     "output_type": "stream",
     "text": [
      "5\n",
      "[1, 4, 9, 16, 25]\n",
      "[2, 4]\n",
      "120\n"
     ]
    }
   ],
   "source": [
    "# 7. Funciones Lambda y map, filter, reduce\n",
    "\n",
    "from functools import reduce\n",
    "\n",
    "# Función lambda\n",
    "add = lambda x, y: x + y\n",
    "print(add(2, 3))  # Output: 5\n",
    "\n",
    "# map\n",
    "numbers = [1, 2, 3, 4, 5]\n",
    "squares = list(map(lambda x: x**2, numbers))\n",
    "print(squares)  # Output: [1, 4, 9, 16, 25]\n",
    "\n",
    "# filter\n",
    "even_numbers = list(filter(lambda x: x % 2 == 0, numbers))\n",
    "print(even_numbers)  # Output: [2, 4]\n",
    "\n",
    "# reduce\n",
    "product = reduce(lambda x, y: x * y, numbers)\n",
    "print(product)  # Output: 120\n"
   ]
  },
  {
   "cell_type": "code",
   "execution_count": 42,
   "metadata": {},
   "outputs": [
    {
     "data": {
      "text/html": [
       "<div>\n",
       "<style scoped>\n",
       "    .dataframe tbody tr th:only-of-type {\n",
       "        vertical-align: middle;\n",
       "    }\n",
       "\n",
       "    .dataframe tbody tr th {\n",
       "        vertical-align: top;\n",
       "    }\n",
       "\n",
       "    .dataframe thead th {\n",
       "        text-align: right;\n",
       "    }\n",
       "</style>\n",
       "<table border=\"1\" class=\"dataframe\">\n",
       "  <thead>\n",
       "    <tr style=\"text-align: right;\">\n",
       "      <th></th>\n",
       "      <th>index</th>\n",
       "      <th>Value</th>\n",
       "      <th>shift</th>\n",
       "    </tr>\n",
       "  </thead>\n",
       "  <tbody>\n",
       "    <tr>\n",
       "      <th>0</th>\n",
       "      <td>0</td>\n",
       "      <td>100</td>\n",
       "      <td>0.0</td>\n",
       "    </tr>\n",
       "    <tr>\n",
       "      <th>1</th>\n",
       "      <td>1</td>\n",
       "      <td>200</td>\n",
       "      <td>1.0</td>\n",
       "    </tr>\n",
       "    <tr>\n",
       "      <th>2</th>\n",
       "      <td>2</td>\n",
       "      <td>300</td>\n",
       "      <td>1.0</td>\n",
       "    </tr>\n",
       "    <tr>\n",
       "      <th>3</th>\n",
       "      <td>3</td>\n",
       "      <td>400</td>\n",
       "      <td>1.0</td>\n",
       "    </tr>\n",
       "  </tbody>\n",
       "</table>\n",
       "</div>"
      ],
      "text/plain": [
       "   index  Value  shift\n",
       "0      0    100    0.0\n",
       "1      1    200    1.0\n",
       "2      2    300    1.0\n",
       "3      3    400    1.0"
      ]
     },
     "execution_count": 42,
     "metadata": {},
     "output_type": "execute_result"
    }
   ],
   "source": [
    "a = pd.DataFrame([1,2,3,4], columns=['Value']).reset_index()\n",
    "a['shift'] = a['Value']-a['Value'].shift(1)\n",
    "a['shift'] = a['shift'].fillna(0)\n",
    "a['Value'] = a['Value'].apply(lambda x: x*100)\n",
    "a"
   ]
  },
  {
   "cell_type": "code",
   "execution_count": 61,
   "metadata": {},
   "outputs": [
    {
     "data": {
      "text/html": [
       "<div>\n",
       "<style scoped>\n",
       "    .dataframe tbody tr th:only-of-type {\n",
       "        vertical-align: middle;\n",
       "    }\n",
       "\n",
       "    .dataframe tbody tr th {\n",
       "        vertical-align: top;\n",
       "    }\n",
       "\n",
       "    .dataframe thead th {\n",
       "        text-align: right;\n",
       "    }\n",
       "</style>\n",
       "<table border=\"1\" class=\"dataframe\">\n",
       "  <thead>\n",
       "    <tr style=\"text-align: right;\">\n",
       "      <th></th>\n",
       "      <th>Tag</th>\n",
       "      <th>Count</th>\n",
       "    </tr>\n",
       "  </thead>\n",
       "  <tbody>\n",
       "    <tr>\n",
       "      <th>0</th>\n",
       "      <td>a</td>\n",
       "      <td>5</td>\n",
       "    </tr>\n",
       "    <tr>\n",
       "      <th>1</th>\n",
       "      <td>b</td>\n",
       "      <td>2</td>\n",
       "    </tr>\n",
       "    <tr>\n",
       "      <th>2</th>\n",
       "      <td>c</td>\n",
       "      <td>3</td>\n",
       "    </tr>\n",
       "  </tbody>\n",
       "</table>\n",
       "</div>"
      ],
      "text/plain": [
       "  Tag  Count\n",
       "0   a      5\n",
       "1   b      2\n",
       "2   c      3"
      ]
     },
     "execution_count": 61,
     "metadata": {},
     "output_type": "execute_result"
    }
   ],
   "source": [
    "pd.DataFrame({\n",
    "    'Count':[1,2,3,4],\n",
    "    'Tag':['a','b','c','a']}, columns=['Tag','Count']).groupby(by='Tag').agg({'Count':'sum'}).reset_index()"
   ]
  },
  {
   "cell_type": "code",
   "execution_count": 46,
   "metadata": {},
   "outputs": [
    {
     "name": "stdout",
     "output_type": "stream",
     "text": [
      "Hello, Alice!\n"
     ]
    }
   ],
   "source": [
    "# 8. Módulos y Paquetes\n",
    "\n",
    "# my_module.py\n",
    "# def greet(name):\n",
    "#     return f\"Hello, {name}!\"\n",
    "\n",
    "# main.py\n",
    "import my_module\n",
    "\n",
    "print(my_module.greet(\"Alice\"))  # Output: Hello, Alice!\n"
   ]
  },
  {
   "cell_type": "code",
   "execution_count": 47,
   "metadata": {},
   "outputs": [
    {
     "name": "stdout",
     "output_type": "stream",
     "text": [
      "[(1, 2, 3), (1, 3, 2), (2, 1, 3), (2, 3, 1), (3, 1, 2), (3, 2, 1)]\n",
      "Counter({3: 3, 2: 2, 1: 1})\n",
      "2024-05-26 14:36:55.629054\n"
     ]
    }
   ],
   "source": [
    "# 9. Uso de Bibliotecas Estándar\n",
    "import itertools\n",
    "import collections\n",
    "from datetime import datetime\n",
    "\n",
    "# itertools\n",
    "perm = list(itertools.permutations([1, 2, 3]))\n",
    "print(perm)\n",
    "\n",
    "# collections\n",
    "Counter = collections.Counter\n",
    "count = Counter([1, 2, 2, 3, 3, 3])\n",
    "print(count)  # Output: Counter({3: 3, 2: 2, 1: 1})\n",
    "\n",
    "# datetime\n",
    "now = datetime.now()\n",
    "print(now)  # Output: current date and time\n"
   ]
  },
  {
   "cell_type": "code",
   "execution_count": 49,
   "metadata": {},
   "outputs": [
    {
     "name": "stdout",
     "output_type": "stream",
     "text": [
      "['100', '110']\n"
     ]
    }
   ],
   "source": [
    "# 10. Expresiones Regulares\n",
    "import re\n",
    "\n",
    "pattern = r\"\\d+\"\n",
    "text = \"The price is 100 dollars, but I would pay 110 dollars for it.\"\n",
    "\n",
    "matches = re.findall(pattern, text)\n",
    "print(matches)  # Output: ['100']\n"
   ]
  },
  {
   "cell_type": "code",
   "execution_count": 63,
   "metadata": {},
   "outputs": [
    {
     "name": "stdout",
     "output_type": "stream",
     "text": [
      "Hello, Alice!\n",
      "Hello, Alice!\n",
      "Hello, Alice!\n"
     ]
    }
   ],
   "source": [
    "# 11. Decoradores con Argumentos\n",
    "\n",
    "from functools import wraps\n",
    "\n",
    "def repeat(num_times):\n",
    "    def decorator(func):\n",
    "        @wraps(func)\n",
    "        def wrapper(*args, **kwargs):\n",
    "            for _ in range(num_times):\n",
    "                result = func(*args, **kwargs)\n",
    "            return result\n",
    "        return wrapper\n",
    "    return decorator\n",
    "\n",
    "@repeat(num_times=3)\n",
    "def greet(name):\n",
    "    print(f\"Hello, {name}!\")\n",
    "\n",
    "greet(\"Alice\")  # Output: Hello, Alice! (printed 3 times)\n"
   ]
  },
  {
   "cell_type": "code",
   "execution_count": 64,
   "metadata": {},
   "outputs": [
    {
     "name": "stdout",
     "output_type": "stream",
     "text": [
      "{0, 1, 64, 4, 36, 9, 16, 49, 81, 25}\n",
      "{0: 0, 1: 1, 2: 4, 3: 9, 4: 16, 5: 25, 6: 36, 7: 49, 8: 64, 9: 81}\n"
     ]
    }
   ],
   "source": [
    "# 12. Comprensión de Conjuntos y Diccionarios\n",
    "\n",
    "# Comprensión de conjunto\n",
    "squared_set = {x**2 for x in range(10)}\n",
    "print(squared_set)  # Output: {0, 1, 4, 9, 16, 25, 36, 49, 64, 81}\n",
    "\n",
    "# Comprensión de diccionario\n",
    "squared_dict = {x: x**2 for x in range(10)}\n",
    "print(squared_dict)  # Output: {0: 0, 1: 1, 2: 4, 3: 9, 4: 16, 5: 25, 6: 36, 7: 49, 8: 64, 9: 81}\n"
   ]
  },
  {
   "cell_type": "code",
   "execution_count": 65,
   "metadata": {},
   "outputs": [
    {
     "name": "stdout",
     "output_type": "stream",
     "text": [
      "Entering the context\n",
      "Inside the context\n",
      "Exiting the context\n"
     ]
    }
   ],
   "source": [
    "# 13. Context Managers Personalizados\n",
    "\n",
    "class MyContextManager:\n",
    "    def __enter__(self):\n",
    "        print(\"Entering the context\")\n",
    "        return self\n",
    "\n",
    "    def __exit__(self, exc_type, exc_value, traceback):\n",
    "        print(\"Exiting the context\")\n",
    "\n",
    "with MyContextManager() as manager:\n",
    "    print(\"Inside the context\")\n",
    "# Output:\n",
    "# Entering the context\n",
    "# Inside the context\n",
    "# Exiting the context\n"
   ]
  },
  {
   "cell_type": "code",
   "execution_count": 66,
   "metadata": {},
   "outputs": [
    {
     "name": "stdout",
     "output_type": "stream",
     "text": [
      "This is a static method\n",
      "This is a class method\n"
     ]
    }
   ],
   "source": [
    "# 14. Métodos de Clase y Estáticos\n",
    "\n",
    "class MyClass:\n",
    "    @staticmethod\n",
    "    def static_method():\n",
    "        print(\"This is a static method\")\n",
    "\n",
    "    @classmethod\n",
    "    def class_method(cls):\n",
    "        print(\"This is a class method\")\n",
    "\n",
    "MyClass.static_method()  # Output: This is a static method\n",
    "MyClass.class_method()   # Output: This is a class method\n"
   ]
  },
  {
   "cell_type": "code",
   "execution_count": null,
   "metadata": {},
   "outputs": [],
   "source": []
  },
  {
   "cell_type": "code",
   "execution_count": null,
   "metadata": {},
   "outputs": [],
   "source": []
  },
  {
   "cell_type": "code",
   "execution_count": null,
   "metadata": {},
   "outputs": [],
   "source": []
  },
  {
   "cell_type": "code",
   "execution_count": null,
   "metadata": {},
   "outputs": [],
   "source": []
  },
  {
   "cell_type": "code",
   "execution_count": null,
   "metadata": {},
   "outputs": [],
   "source": []
  },
  {
   "cell_type": "code",
   "execution_count": null,
   "metadata": {},
   "outputs": [],
   "source": []
  },
  {
   "cell_type": "code",
   "execution_count": null,
   "metadata": {},
   "outputs": [],
   "source": []
  },
  {
   "cell_type": "code",
   "execution_count": null,
   "metadata": {},
   "outputs": [],
   "source": []
  },
  {
   "cell_type": "code",
   "execution_count": null,
   "metadata": {},
   "outputs": [],
   "source": []
  },
  {
   "cell_type": "code",
   "execution_count": null,
   "metadata": {},
   "outputs": [],
   "source": []
  },
  {
   "cell_type": "code",
   "execution_count": null,
   "metadata": {},
   "outputs": [],
   "source": []
  },
  {
   "cell_type": "code",
   "execution_count": null,
   "metadata": {},
   "outputs": [],
   "source": []
  }
 ],
 "metadata": {
  "kernelspec": {
   "display_name": "venv",
   "language": "python",
   "name": "python3"
  },
  "language_info": {
   "codemirror_mode": {
    "name": "ipython",
    "version": 3
   },
   "file_extension": ".py",
   "mimetype": "text/x-python",
   "name": "python",
   "nbconvert_exporter": "python",
   "pygments_lexer": "ipython3",
   "version": "3.11.4"
  }
 },
 "nbformat": 4,
 "nbformat_minor": 2
}
